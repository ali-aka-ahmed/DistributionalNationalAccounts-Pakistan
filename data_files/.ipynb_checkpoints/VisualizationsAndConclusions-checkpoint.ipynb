{
 "cells": [
  {
   "cell_type": "code",
   "execution_count": 294,
   "metadata": {
    "collapsed": false
   },
   "outputs": [],
   "source": [
    "import numpy as np\n",
    "import pandas as pd\n",
    "import pickle\n",
    "import plotly.plotly as py\n",
    "import plotly.graph_objs as go\n",
    "import matplotlib.pyplot as plt\n",
    "from plotly.offline import download_plotlyjs, init_notebook_mode, plot, iplot\n",
    "import plotly\n",
    "import plotly.graph_objs as go"
   ]
  },
  {
   "cell_type": "code",
   "execution_count": 295,
   "metadata": {
    "collapsed": false
   },
   "outputs": [
    {
     "data": {
      "text/html": [
       "<script>requirejs.config({paths: { 'plotly': ['https://cdn.plot.ly/plotly-latest.min']},});if(!window.Plotly) {{require(['plotly'],function(plotly) {window.Plotly=plotly;});}}</script>"
      ],
      "text/vnd.plotly.v1+html": [
       "<script>requirejs.config({paths: { 'plotly': ['https://cdn.plot.ly/plotly-latest.min']},});if(!window.Plotly) {{require(['plotly'],function(plotly) {window.Plotly=plotly;});}}</script>"
      ]
     },
     "metadata": {},
     "output_type": "display_data"
    }
   ],
   "source": [
    "init_notebook_mode(connected=True)\n",
    "pd.options.display.max_columns = None"
   ]
  },
  {
   "cell_type": "markdown",
   "metadata": {},
   "source": [
    "# Load Data"
   ]
  },
  {
   "cell_type": "code",
   "execution_count": 296,
   "metadata": {
    "collapsed": false
   },
   "outputs": [],
   "source": [
    "with open('./finalData/finalCombinedMicrodata/final_incomes_2015_ASSUMP_salaried.pkl', 'rb') as f: final_incomes_2015_ASSUMP_salaried = pickle.load(f)\n",
    "with open('./finalData/finalCombinedMicrodata/final_incomes_2015_ASSUMP_nonsalaried.pkl', 'rb') as f: final_incomes_2015_ASSUMP_nonsalaried = pickle.load(f)\n",
    "\n",
    "with open('./finalData/finalCombinedMicrodata/final_incomes_2014_ASSUMP_salaried.pkl', 'rb') as f: final_incomes_2014_ASSUMP_salaried = pickle.load(f)\n",
    "with open('./finalData/finalCombinedMicrodata/final_incomes_2014_ASSUMP_nonsalaried.pkl', 'rb') as f: final_incomes_2014_ASSUMP_nonsalaried = pickle.load(f)\n",
    "\n",
    "with open('./finalData/finalCombinedMicrodata/final_incomes_2013_ASSUMP_salaried.pkl', 'rb') as f: final_incomes_2013_ASSUMP_salaried = pickle.load(f)\n",
    "with open('./finalData/finalCombinedMicrodata/final_incomes_2013_ASSUMP_nonsalaried.pkl', 'rb') as f: final_incomes_2013_ASSUMP_nonsalaried = pickle.load(f)\n",
    "\n",
    "with open('./finalData/finalCombinedMicrodata/final_incomes_2012_ASSUMP_salaried.pkl', 'rb') as f: final_incomes_2012_ASSUMP_salaried = pickle.load(f)\n",
    "with open('./finalData/finalCombinedMicrodata/final_incomes_2012_ASSUMP_nonsalaried.pkl', 'rb') as f: final_incomes_2012_ASSUMP_nonsalaried = pickle.load(f)\n",
    "\n",
    "with open('./finalData/finalCombinedMicrodata/final_incomes_2011_ASSUMP_salaried.pkl', 'rb') as f: final_incomes_2011_ASSUMP_salaried = pickle.load(f)\n",
    "with open('./finalData/finalCombinedMicrodata/final_incomes_2011_ASSUMP_nonsalaried.pkl', 'rb') as f: final_incomes_2011_ASSUMP_nonsalaried = pickle.load(f)\n",
    "\n",
    "with open('./finalData/finalCombinedMicrodata/final_incomes_2010_ASSUMP_salaried.pkl', 'rb') as f: final_incomes_2010_ASSUMP_salaried = pickle.load(f)\n",
    "with open('./finalData/finalCombinedMicrodata/final_incomes_2010_ASSUMP_nonsalaried.pkl', 'rb') as f: final_incomes_2010_ASSUMP_nonsalaried = pickle.load(f)\n",
    "\n",
    "with open('./finalData/finalCombinedMicrodata/final_incomes_2008_ASSUMP_salaried.pkl', 'rb') as f: final_incomes_2008_ASSUMP_salaried = pickle.load(f)\n",
    "with open('./finalData/finalCombinedMicrodata/final_incomes_2008_ASSUMP_nonsalaried.pkl', 'rb') as f: final_incomes_2008_ASSUMP_nonsalaried = pickle.load(f)\n",
    "\n",
    "with open('./finalData/finalCombinedMicrodata/final_incomes_2007_ASSUMP_salaried.pkl', 'rb') as f: final_incomes_2007_ASSUMP_salaried = pickle.load(f)\n",
    "with open('./finalData/finalCombinedMicrodata/final_incomes_2007_ASSUMP_nonsalaried.pkl', 'rb') as f: final_incomes_2007_ASSUMP_nonsalaried = pickle.load(f)\n",
    "\n",
    "with open('./finalData/finalCombinedMicrodata/final_incomes_2006_ASSUMP_salaried.pkl', 'rb') as f: final_incomes_2006_ASSUMP_salaried = pickle.load(f)\n",
    "with open('./finalData/finalCombinedMicrodata/final_incomes_2006_ASSUMP_nonsalaried.pkl', 'rb') as f: final_incomes_2006_ASSUMP_nonsalaried = pickle.load(f)\n",
    "\n",
    "with open('./finalData/finalCombinedMicrodata/final_incomes_2005_ASSUMP_salaried.pkl', 'rb') as f: final_incomes_2005_ASSUMP_salaried = pickle.load(f)\n",
    "with open('./finalData/finalCombinedMicrodata/final_incomes_2005_ASSUMP_nonsalaried.pkl', 'rb') as f: final_incomes_2005_ASSUMP_nonsalaried = pickle.load(f)\n",
    "\n",
    "with open('./finalData/finalCombinedMicrodata/final_incomes_2004_ASSUMP_salaried.pkl', 'rb') as f: final_incomes_2004_ASSUMP_salaried = pickle.load(f)\n",
    "with open('./finalData/finalCombinedMicrodata/final_incomes_2004_ASSUMP_nonsalaried.pkl', 'rb') as f: final_incomes_2004_ASSUMP_nonsalaried = pickle.load(f)"
   ]
  },
  {
   "cell_type": "code",
   "execution_count": 297,
   "metadata": {
    "collapsed": true
   },
   "outputs": [],
   "source": [
    "with open('./finalData/individual_balance_sheet_2015_16.pkl', 'rb') as f: individual_balance_sheet_2015_16 = pickle.load(f)\n",
    "with open('./finalData/individual_balance_sheet_2014_15.pkl', 'rb') as f: individual_balance_sheet_2014_15 = pickle.load(f)\n",
    "with open('./finalData/individual_balance_sheet_2013_14.pkl', 'rb') as f: individual_balance_sheet_2013_14 = pickle.load(f)\n",
    "with open('./finalData/individual_balance_sheet_2012_13.pkl', 'rb') as f: individual_balance_sheet_2012_13 = pickle.load(f)\n",
    "with open('./finalData/individual_balance_sheet_2011_12.pkl', 'rb') as f: individual_balance_sheet_2011_12 = pickle.load(f)\n",
    "with open('./finalData/individual_balance_sheet_2010_11.pkl', 'rb') as f: individual_balance_sheet_2010_11 = pickle.load(f)\n",
    "with open('./finalData/individual_balance_sheet_2008_09.pkl', 'rb') as f: individual_balance_sheet_2008_09 = pickle.load(f)\n",
    "with open('./finalData/individual_balance_sheet_2007_08.pkl', 'rb') as f: individual_balance_sheet_2007_08 = pickle.load(f)\n",
    "with open('./finalData/individual_balance_sheet_2006_07.pkl', 'rb') as f: individual_balance_sheet_2006_07 = pickle.load(f)\n",
    "with open('./finalData/individual_balance_sheet_2005_06.pkl', 'rb') as f: individual_balance_sheet_2005_06 = pickle.load(f)\n",
    "with open('./finalData/individual_balance_sheet_2004_05.pkl', 'rb') as f: individual_balance_sheet_2004_05 = pickle.load(f)"
   ]
  },
  {
   "cell_type": "markdown",
   "metadata": {},
   "source": [
    "# Visualization and Conclusions"
   ]
  },
  {
   "cell_type": "markdown",
   "metadata": {},
   "source": [
    "**Helper Functions**"
   ]
  },
  {
   "cell_type": "code",
   "execution_count": 298,
   "metadata": {
    "collapsed": false
   },
   "outputs": [],
   "source": [
    "def get_final_table(start_year, assumptions):  \n",
    "    \"\"\"\n",
    "    Sorted by income.\n",
    "    \n",
    "    Args:\n",
    "        str (table_type): accepts only 'hh' for household or 'individual' for individual.\n",
    "        int (start_year): currently limited to 2004 - 2015.\n",
    "\n",
    "    Returns:\n",
    "        pd.DataFrame: dataframe corresponding to table.\n",
    "    \"\"\"\n",
    "    t = eval(\"final_incomes_\" + str(start_year) + \"_ASSUMP_\" + str(assumptions))\n",
    "    t = t.sort_values(by=['income']).reset_index().drop([\"index\"], axis=1)\n",
    "    return t\n",
    "    \n",
    "def weighted_sum(data, weights):\n",
    "    \"\"\"\n",
    "    Args:\n",
    "        pd.Series (data)\n",
    "        pd.Series (weights)\n",
    "\n",
    "    Returns:\n",
    "        float: weighted sum.\n",
    "    \"\"\"\n",
    "    data = np.array(data)\n",
    "    weights = np.array(weights)\n",
    "    return np.sum(data * weights)\n",
    "\n",
    "def top_percentiles(p, sorted_data, sorted_weights):\n",
    "    \"\"\"\n",
    "    Args:\n",
    "        int (p): 0 < p < 1.\n",
    "        pd.Series (data)\n",
    "        pd.Series (weights)\n",
    "\n",
    "    Returns:\n",
    "        (list, list): corresponding data, and weights.\n",
    "    \"\"\"\n",
    "    sorted_data = np.array(sorted_data)\n",
    "    sorted_weights = np.array(sorted_weights)\n",
    "    q = (1 - p) * np.sum(sorted_weights)\n",
    "    index = sorted_weights.size\n",
    "    cum_sum = np.sum(sorted_weights)\n",
    "    while cum_sum > q:\n",
    "        index -= 1\n",
    "        cum_sum -= sorted_weights[index]\n",
    "    return (sorted_data[index:], sorted_weights[index:], index)\n",
    "\n",
    "def bottom_percentiles(p, sorted_data, sorted_weights):\n",
    "    \"\"\"\n",
    "    Args:\n",
    "        int (p): 0 <= p <=1.\n",
    "        pd.Series (data)\n",
    "        pd.Series (weights)\n",
    "\n",
    "    Returns:\n",
    "        (list, list): corresponding data, and weights.\n",
    "    \"\"\"\n",
    "    sorted_data = np.array(sorted_data)\n",
    "    sorted_weights = np.array(sorted_weights)\n",
    "    q = p * np.sum(sorted_weights)\n",
    "    index = -1\n",
    "    cum_sum = 0\n",
    "    while cum_sum < q:\n",
    "        index += 1\n",
    "        cum_sum += sorted_weights[index]\n",
    "    return (sorted_data[:index], sorted_weights[:index], index)"
   ]
  },
  {
   "cell_type": "markdown",
   "metadata": {},
   "source": [
    "## National Income Shares"
   ]
  },
  {
   "cell_type": "markdown",
   "metadata": {},
   "source": [
    "**Helper Functions**"
   ]
  },
  {
   "cell_type": "code",
   "execution_count": 299,
   "metadata": {
    "collapsed": true
   },
   "outputs": [],
   "source": [
    "def calculate_income_share(assumptions, year, p, top=True, t_func_diff=False, t_func=get_final_table):\n",
    "    \"\"\"\n",
    "    Args:\n",
    "        str (table_type): accepts only 'hh' for household or 'individual' for individual.\n",
    "        int (year): currently limited to 2004 - 2015.\n",
    "        float (percentile)\n",
    "        bool (top): getting top [percentile]% or bottom [percentile]%? defaults to top.\n",
    "        \n",
    "    Returns:\n",
    "        float: income share.\n",
    "    \"\"\"\n",
    "    if year == 2009:\n",
    "        print(\"No data for 2009-2010\")\n",
    "        return\n",
    "    if t_func_diff:\n",
    "        t = t_func(\"individual\", year)\n",
    "    else:\n",
    "        t = t_func(year, assumptions)\n",
    "    if top:\n",
    "        p_data, p_weights, i = top_percentiles(p, t[\"income\"], t[\"weights\"])\n",
    "    else:\n",
    "        p_data, p_weights, i = bottom_percentiles(p, t[\"income\"], t[\"weights\"])\n",
    "    partial_sum = weighted_sum(p_data, p_weights)\n",
    "    total_sum = weighted_sum(t[\"income\"], t[\"weights\"])\n",
    "    return round(partial_sum / (total_sum), 2)"
   ]
  },
  {
   "cell_type": "markdown",
   "metadata": {},
   "source": [
    "### Top 1% Income Share"
   ]
  },
  {
   "cell_type": "code",
   "execution_count": 300,
   "metadata": {
    "collapsed": false
   },
   "outputs": [],
   "source": [
    "# top 1 percent\n",
    "years = np.arange(2004, 2016, 1)\n",
    "index = np.argwhere(years==2009)\n",
    "years = np.delete(years, index)\n",
    "\n",
    "top_1_income_shares_salaried = []\n",
    "for y in years:\n",
    "    top_1_income_shares_salaried.append(calculate_income_share(\"salaried\", y, 0.01))\n",
    "    \n",
    "\n",
    "top_1_income_shares_nonsalaried = []\n",
    "for y in years:\n",
    "    top_1_income_shares_nonsalaried.append(calculate_income_share(\"nonsalaried\", y, 0.01))"
   ]
  },
  {
   "cell_type": "code",
   "execution_count": 301,
   "metadata": {
    "collapsed": false
   },
   "outputs": [
    {
     "data": {
      "application/vnd.plotly.v1+json": {
       "data": [
        {
         "name": "Top 1% [Salaried]",
         "type": "scatter",
         "x": [
          2004,
          2005,
          2006,
          2007,
          2008,
          2010,
          2011,
          2012,
          2013,
          2014,
          2015
         ],
         "y": [
          0.31,
          0.31,
          0.31,
          0.31,
          0.34,
          0.26,
          0.31,
          0.35,
          0.29,
          0.3,
          0.3
         ]
        },
        {
         "name": "Top 1% [Non-Salaried]",
         "type": "scatter",
         "x": [
          2004,
          2005,
          2006,
          2007,
          2008,
          2010,
          2011,
          2012,
          2013,
          2014,
          2015
         ],
         "y": [
          0.28,
          0.27,
          0.28,
          0.32,
          0.33,
          0.21,
          0.27,
          0.32,
          0.27,
          0.29,
          0.29
         ]
        }
       ],
       "layout": {
        "title": "Top 1% National Income Share in Pakistan",
        "xaxis": {
         "title": "Year"
        },
        "yaxis": {
         "title": "National Income Share"
        }
       }
      },
      "text/html": [
       "<div id=\"5a17b04a-3b37-44c1-958a-f5e5402faa5b\" style=\"height: 525px; width: 100%;\" class=\"plotly-graph-div\"></div><script type=\"text/javascript\">require([\"plotly\"], function(Plotly) { window.PLOTLYENV=window.PLOTLYENV || {};window.PLOTLYENV.BASE_URL=\"https://plot.ly\";Plotly.newPlot(\"5a17b04a-3b37-44c1-958a-f5e5402faa5b\", [{\"name\": \"Top 1% [Salaried]\", \"y\": [0.31, 0.31, 0.31, 0.31, 0.34, 0.26, 0.31, 0.35, 0.29, 0.3, 0.3], \"type\": \"scatter\", \"x\": [2004, 2005, 2006, 2007, 2008, 2010, 2011, 2012, 2013, 2014, 2015]}, {\"name\": \"Top 1% [Non-Salaried]\", \"y\": [0.28, 0.27, 0.28, 0.32, 0.33, 0.21, 0.27, 0.32, 0.27, 0.29, 0.29], \"type\": \"scatter\", \"x\": [2004, 2005, 2006, 2007, 2008, 2010, 2011, 2012, 2013, 2014, 2015]}], {\"xaxis\": {\"title\": \"Year\"}, \"title\": \"Top 1% National Income Share in Pakistan\", \"yaxis\": {\"title\": \"National Income Share\"}}, {\"showLink\": true, \"linkText\": \"Export to plot.ly\"})});</script>"
      ],
      "text/vnd.plotly.v1+html": [
       "<div id=\"5a17b04a-3b37-44c1-958a-f5e5402faa5b\" style=\"height: 525px; width: 100%;\" class=\"plotly-graph-div\"></div><script type=\"text/javascript\">require([\"plotly\"], function(Plotly) { window.PLOTLYENV=window.PLOTLYENV || {};window.PLOTLYENV.BASE_URL=\"https://plot.ly\";Plotly.newPlot(\"5a17b04a-3b37-44c1-958a-f5e5402faa5b\", [{\"name\": \"Top 1% [Salaried]\", \"y\": [0.31, 0.31, 0.31, 0.31, 0.34, 0.26, 0.31, 0.35, 0.29, 0.3, 0.3], \"type\": \"scatter\", \"x\": [2004, 2005, 2006, 2007, 2008, 2010, 2011, 2012, 2013, 2014, 2015]}, {\"name\": \"Top 1% [Non-Salaried]\", \"y\": [0.28, 0.27, 0.28, 0.32, 0.33, 0.21, 0.27, 0.32, 0.27, 0.29, 0.29], \"type\": \"scatter\", \"x\": [2004, 2005, 2006, 2007, 2008, 2010, 2011, 2012, 2013, 2014, 2015]}], {\"xaxis\": {\"title\": \"Year\"}, \"title\": \"Top 1% National Income Share in Pakistan\", \"yaxis\": {\"title\": \"National Income Share\"}}, {\"showLink\": true, \"linkText\": \"Export to plot.ly\"})});</script>"
      ]
     },
     "metadata": {},
     "output_type": "display_data"
    }
   ],
   "source": [
    "top_1_trace_salaried = go.Scatter(\n",
    "    x = years,\n",
    "    y = top_1_income_shares_salaried,\n",
    "    name = 'Top 1% [Salaried]'\n",
    ")\n",
    "\n",
    "top_1_trace_nonsalaried = go.Scatter(\n",
    "    x = years,\n",
    "    y = top_1_income_shares_nonsalaried,\n",
    "    name = 'Top 1% [Non-Salaried]'\n",
    ")\n",
    "\n",
    "layout = dict(title = 'Top 1% National Income Share in Pakistan',\n",
    "              xaxis = dict(title = 'Year'),\n",
    "              yaxis = dict(title = 'National Income Share'),\n",
    "              )\n",
    "data = [top_1_trace_salaried, top_1_trace_nonsalaried]\n",
    "top1_share = plotly.offline.iplot({\n",
    "    \"data\": data,\n",
    "    \"layout\": layout\n",
    "})\n",
    "top1_share"
   ]
  },
  {
   "cell_type": "markdown",
   "metadata": {},
   "source": [
    "### Top 0.1% Income Share"
   ]
  },
  {
   "cell_type": "code",
   "execution_count": 248,
   "metadata": {
    "collapsed": false
   },
   "outputs": [],
   "source": [
    "# top 0.1 percent\n",
    "years = np.arange(2004, 2016, 1)\n",
    "index = np.argwhere(years==2009)\n",
    "years = np.delete(years, index)\n",
    "\n",
    "top_01_income_shares_salaried = []\n",
    "for y in years:\n",
    "    top_01_income_shares_salaried.append(calculate_income_share(\"salaried\", y, 0.001))\n",
    "    \n",
    "top_01_income_shares_nonsalaried = []\n",
    "for y in years:\n",
    "    top_01_income_shares_nonsalaried.append(calculate_income_share(\"nonsalaried\", y, 0.001))"
   ]
  },
  {
   "cell_type": "code",
   "execution_count": 249,
   "metadata": {
    "collapsed": false,
    "scrolled": false
   },
   "outputs": [
    {
     "data": {
      "application/vnd.plotly.v1+json": {
       "data": [
        {
         "name": "Top 0.1% [Salaried]",
         "type": "scatter",
         "x": [
          2004,
          2005,
          2006,
          2007,
          2008,
          2010,
          2011,
          2012,
          2013,
          2014,
          2015
         ],
         "y": [
          0.14,
          0.14,
          0.14,
          0.13,
          0.15,
          0.12,
          0.14,
          0.16,
          0.12,
          0.13,
          0.13
         ]
        },
        {
         "name": "Top 0.1% [Non-Salaried]",
         "type": "scatter",
         "x": [
          2004,
          2005,
          2006,
          2007,
          2008,
          2010,
          2011,
          2012,
          2013,
          2014,
          2015
         ],
         "y": [
          0.13,
          0.12,
          0.13,
          0.15,
          0.14,
          0.1,
          0.12,
          0.15,
          0.11,
          0.12,
          0.13
         ]
        }
       ],
       "layout": {
        "title": "Top 0.1% National Income Share in Pakistan",
        "xaxis": {
         "title": "Year"
        },
        "yaxis": {
         "title": "National Income Share"
        }
       }
      },
      "text/html": [
       "<div id=\"6bab4aab-7d83-4b01-a535-6e931dfac6eb\" style=\"height: 525px; width: 100%;\" class=\"plotly-graph-div\"></div><script type=\"text/javascript\">require([\"plotly\"], function(Plotly) { window.PLOTLYENV=window.PLOTLYENV || {};window.PLOTLYENV.BASE_URL=\"https://plot.ly\";Plotly.newPlot(\"6bab4aab-7d83-4b01-a535-6e931dfac6eb\", [{\"name\": \"Top 0.1% [Salaried]\", \"y\": [0.14, 0.14, 0.14, 0.13, 0.15, 0.12, 0.14, 0.16, 0.12, 0.13, 0.13], \"type\": \"scatter\", \"x\": [2004, 2005, 2006, 2007, 2008, 2010, 2011, 2012, 2013, 2014, 2015]}, {\"name\": \"Top 0.1% [Non-Salaried]\", \"y\": [0.13, 0.12, 0.13, 0.15, 0.14, 0.1, 0.12, 0.15, 0.11, 0.12, 0.13], \"type\": \"scatter\", \"x\": [2004, 2005, 2006, 2007, 2008, 2010, 2011, 2012, 2013, 2014, 2015]}], {\"xaxis\": {\"title\": \"Year\"}, \"title\": \"Top 0.1% National Income Share in Pakistan\", \"yaxis\": {\"title\": \"National Income Share\"}}, {\"showLink\": true, \"linkText\": \"Export to plot.ly\"})});</script>"
      ],
      "text/vnd.plotly.v1+html": [
       "<div id=\"6bab4aab-7d83-4b01-a535-6e931dfac6eb\" style=\"height: 525px; width: 100%;\" class=\"plotly-graph-div\"></div><script type=\"text/javascript\">require([\"plotly\"], function(Plotly) { window.PLOTLYENV=window.PLOTLYENV || {};window.PLOTLYENV.BASE_URL=\"https://plot.ly\";Plotly.newPlot(\"6bab4aab-7d83-4b01-a535-6e931dfac6eb\", [{\"name\": \"Top 0.1% [Salaried]\", \"y\": [0.14, 0.14, 0.14, 0.13, 0.15, 0.12, 0.14, 0.16, 0.12, 0.13, 0.13], \"type\": \"scatter\", \"x\": [2004, 2005, 2006, 2007, 2008, 2010, 2011, 2012, 2013, 2014, 2015]}, {\"name\": \"Top 0.1% [Non-Salaried]\", \"y\": [0.13, 0.12, 0.13, 0.15, 0.14, 0.1, 0.12, 0.15, 0.11, 0.12, 0.13], \"type\": \"scatter\", \"x\": [2004, 2005, 2006, 2007, 2008, 2010, 2011, 2012, 2013, 2014, 2015]}], {\"xaxis\": {\"title\": \"Year\"}, \"title\": \"Top 0.1% National Income Share in Pakistan\", \"yaxis\": {\"title\": \"National Income Share\"}}, {\"showLink\": true, \"linkText\": \"Export to plot.ly\"})});</script>"
      ]
     },
     "metadata": {},
     "output_type": "display_data"
    }
   ],
   "source": [
    "top_01_trace_salaried = go.Scatter(\n",
    "    x = years,\n",
    "    y = top_01_income_shares_salaried,\n",
    "    name = \"Top 0.1% [Salaried]\"\n",
    ")\n",
    "\n",
    "top_01_trace_nonsalaried = go.Scatter(\n",
    "    x = years,\n",
    "    y = top_01_income_shares_nonsalaried,\n",
    "    name = \"Top 0.1% [Non-Salaried]\"\n",
    ")\n",
    "\n",
    "layout = dict(title = 'Top 0.1% National Income Share in Pakistan',\n",
    "              xaxis = dict(title = 'Year'),\n",
    "              yaxis = dict(title = 'National Income Share'),\n",
    "              )\n",
    "data = [top_01_trace_salaried, top_01_trace_nonsalaried]\n",
    "top01_share = plotly.offline.iplot({\n",
    "    \"data\": data,\n",
    "    \"layout\": layout\n",
    "})\n",
    "top01_share"
   ]
  },
  {
   "cell_type": "markdown",
   "metadata": {},
   "source": [
    "### Top 0.01% Income Share"
   ]
  },
  {
   "cell_type": "code",
   "execution_count": 250,
   "metadata": {
    "collapsed": false
   },
   "outputs": [],
   "source": [
    "# top 0.01 percent\n",
    "years = np.arange(2004, 2016, 1)\n",
    "index = np.argwhere(years==2009)\n",
    "years = np.delete(years, index)\n",
    "\n",
    "top_001_income_shares_salaried = []\n",
    "for y in years:\n",
    "    top_001_income_shares_salaried.append(calculate_income_share(\"salaried\", y, 0.0001))\n",
    "    \n",
    "top_001_income_shares_nonsalaried = []\n",
    "for y in years:\n",
    "    top_001_income_shares_nonsalaried.append(calculate_income_share(\"nonsalaried\", y, 0.0001))"
   ]
  },
  {
   "cell_type": "code",
   "execution_count": 251,
   "metadata": {
    "collapsed": false,
    "scrolled": false
   },
   "outputs": [
    {
     "data": {
      "application/vnd.plotly.v1+json": {
       "data": [
        {
         "name": "Top 0.01% [Salaried]",
         "type": "scatter",
         "x": [
          2004,
          2005,
          2006,
          2007,
          2008,
          2010,
          2011,
          2012,
          2013,
          2014,
          2015
         ],
         "y": [
          0.05,
          0.05,
          0.05,
          0.05,
          0.06,
          0.05,
          0.06,
          0.06,
          0.04,
          0.05,
          0.05
         ]
        },
        {
         "name": "Top 0.01% [Non-Salaried]",
         "type": "scatter",
         "x": [
          2004,
          2005,
          2006,
          2007,
          2008,
          2010,
          2011,
          2012,
          2013,
          2014,
          2015
         ],
         "y": [
          0.05,
          0.05,
          0.05,
          0.06,
          0.05,
          0.04,
          0.05,
          0.06,
          0.04,
          0.05,
          0.05
         ]
        }
       ],
       "layout": {
        "title": "Top 0.01% National Income Share in Pakistan",
        "xaxis": {
         "title": "Year"
        },
        "yaxis": {
         "title": "National Income Share"
        }
       }
      },
      "text/html": [
       "<div id=\"affe7f86-f27a-4dbf-8e7d-39b96cd7dd0b\" style=\"height: 525px; width: 100%;\" class=\"plotly-graph-div\"></div><script type=\"text/javascript\">require([\"plotly\"], function(Plotly) { window.PLOTLYENV=window.PLOTLYENV || {};window.PLOTLYENV.BASE_URL=\"https://plot.ly\";Plotly.newPlot(\"affe7f86-f27a-4dbf-8e7d-39b96cd7dd0b\", [{\"name\": \"Top 0.01% [Salaried]\", \"y\": [0.05, 0.05, 0.05, 0.05, 0.06, 0.05, 0.06, 0.06, 0.04, 0.05, 0.05], \"type\": \"scatter\", \"x\": [2004, 2005, 2006, 2007, 2008, 2010, 2011, 2012, 2013, 2014, 2015]}, {\"name\": \"Top 0.01% [Non-Salaried]\", \"y\": [0.05, 0.05, 0.05, 0.06, 0.05, 0.04, 0.05, 0.06, 0.04, 0.05, 0.05], \"type\": \"scatter\", \"x\": [2004, 2005, 2006, 2007, 2008, 2010, 2011, 2012, 2013, 2014, 2015]}], {\"xaxis\": {\"title\": \"Year\"}, \"title\": \"Top 0.01% National Income Share in Pakistan\", \"yaxis\": {\"title\": \"National Income Share\"}}, {\"showLink\": true, \"linkText\": \"Export to plot.ly\"})});</script>"
      ],
      "text/vnd.plotly.v1+html": [
       "<div id=\"affe7f86-f27a-4dbf-8e7d-39b96cd7dd0b\" style=\"height: 525px; width: 100%;\" class=\"plotly-graph-div\"></div><script type=\"text/javascript\">require([\"plotly\"], function(Plotly) { window.PLOTLYENV=window.PLOTLYENV || {};window.PLOTLYENV.BASE_URL=\"https://plot.ly\";Plotly.newPlot(\"affe7f86-f27a-4dbf-8e7d-39b96cd7dd0b\", [{\"name\": \"Top 0.01% [Salaried]\", \"y\": [0.05, 0.05, 0.05, 0.05, 0.06, 0.05, 0.06, 0.06, 0.04, 0.05, 0.05], \"type\": \"scatter\", \"x\": [2004, 2005, 2006, 2007, 2008, 2010, 2011, 2012, 2013, 2014, 2015]}, {\"name\": \"Top 0.01% [Non-Salaried]\", \"y\": [0.05, 0.05, 0.05, 0.06, 0.05, 0.04, 0.05, 0.06, 0.04, 0.05, 0.05], \"type\": \"scatter\", \"x\": [2004, 2005, 2006, 2007, 2008, 2010, 2011, 2012, 2013, 2014, 2015]}], {\"xaxis\": {\"title\": \"Year\"}, \"title\": \"Top 0.01% National Income Share in Pakistan\", \"yaxis\": {\"title\": \"National Income Share\"}}, {\"showLink\": true, \"linkText\": \"Export to plot.ly\"})});</script>"
      ]
     },
     "metadata": {},
     "output_type": "display_data"
    }
   ],
   "source": [
    "top_001_trace_salaried = go.Scatter(\n",
    "    x = years,\n",
    "    y = top_001_income_shares_salaried,\n",
    "    name = \"Top 0.01% [Salaried]\"\n",
    ")\n",
    "\n",
    "top_001_trace_nonsalaried = go.Scatter(\n",
    "    x = years,\n",
    "    y = top_001_income_shares_nonsalaried,\n",
    "    name = \"Top 0.01% [Non-Salaried]\"\n",
    ")\n",
    "\n",
    "layout = dict(title = 'Top 0.01% National Income Share in Pakistan',\n",
    "              xaxis = dict(title = 'Year'),\n",
    "              yaxis = dict(title = 'National Income Share'),\n",
    "              )\n",
    "data = [top_001_trace_salaried, top_001_trace_nonsalaried]\n",
    "top001_share = plotly.offline.iplot({\n",
    "    \"data\": data,\n",
    "    \"layout\": layout\n",
    "})\n",
    "top001_share"
   ]
  },
  {
   "cell_type": "markdown",
   "metadata": {},
   "source": [
    "### Top 1% and Top 0.1% and Top 0.01% Income Shares"
   ]
  },
  {
   "cell_type": "code",
   "execution_count": 252,
   "metadata": {
    "collapsed": false
   },
   "outputs": [
    {
     "data": {
      "application/vnd.plotly.v1+json": {
       "data": [
        {
         "name": "Top 1% [Salaried]",
         "type": "scatter",
         "x": [
          2004,
          2005,
          2006,
          2007,
          2008,
          2010,
          2011,
          2012,
          2013,
          2014,
          2015
         ],
         "y": [
          0.3,
          0.3,
          0.3,
          0.29,
          0.33,
          0.25,
          0.3,
          0.34,
          0.27,
          0.3,
          0.3
         ]
        },
        {
         "name": "Top 1% [Non-Salaried]",
         "type": "scatter",
         "x": [
          2004,
          2005,
          2006,
          2007,
          2008,
          2010,
          2011,
          2012,
          2013,
          2014,
          2015
         ],
         "y": [
          0.27,
          0.26,
          0.27,
          0.32,
          0.33,
          0.2,
          0.25,
          0.31,
          0.25,
          0.29,
          0.29
         ]
        },
        {
         "name": "Top 0.1% [Salaried]",
         "type": "scatter",
         "x": [
          2004,
          2005,
          2006,
          2007,
          2008,
          2010,
          2011,
          2012,
          2013,
          2014,
          2015
         ],
         "y": [
          0.14,
          0.14,
          0.14,
          0.13,
          0.15,
          0.12,
          0.14,
          0.16,
          0.12,
          0.13,
          0.13
         ]
        },
        {
         "name": "Top 0.1% [Non-Salaried]",
         "type": "scatter",
         "x": [
          2004,
          2005,
          2006,
          2007,
          2008,
          2010,
          2011,
          2012,
          2013,
          2014,
          2015
         ],
         "y": [
          0.13,
          0.12,
          0.13,
          0.15,
          0.14,
          0.1,
          0.12,
          0.15,
          0.11,
          0.12,
          0.13
         ]
        },
        {
         "name": "Top 0.01% [Salaried]",
         "type": "scatter",
         "x": [
          2004,
          2005,
          2006,
          2007,
          2008,
          2010,
          2011,
          2012,
          2013,
          2014,
          2015
         ],
         "y": [
          0.05,
          0.05,
          0.05,
          0.05,
          0.06,
          0.05,
          0.06,
          0.06,
          0.04,
          0.05,
          0.05
         ]
        },
        {
         "name": "Top 0.01% [Non-Salaried]",
         "type": "scatter",
         "x": [
          2004,
          2005,
          2006,
          2007,
          2008,
          2010,
          2011,
          2012,
          2013,
          2014,
          2015
         ],
         "y": [
          0.05,
          0.05,
          0.05,
          0.06,
          0.05,
          0.04,
          0.05,
          0.06,
          0.04,
          0.05,
          0.05
         ]
        }
       ],
       "layout": {
        "title": "Top 1%, Top 0.1% and Top 0.01% National Income Shares in Pakistan",
        "xaxis": {
         "title": "Year"
        },
        "yaxis": {
         "title": "National Income Share"
        }
       }
      },
      "text/html": [
       "<div id=\"c1f64993-b52c-4bc9-a6e1-026d94f29051\" style=\"height: 525px; width: 100%;\" class=\"plotly-graph-div\"></div><script type=\"text/javascript\">require([\"plotly\"], function(Plotly) { window.PLOTLYENV=window.PLOTLYENV || {};window.PLOTLYENV.BASE_URL=\"https://plot.ly\";Plotly.newPlot(\"c1f64993-b52c-4bc9-a6e1-026d94f29051\", [{\"name\": \"Top 1% [Salaried]\", \"y\": [0.3, 0.3, 0.3, 0.29, 0.33, 0.25, 0.3, 0.34, 0.27, 0.3, 0.3], \"type\": \"scatter\", \"x\": [2004, 2005, 2006, 2007, 2008, 2010, 2011, 2012, 2013, 2014, 2015]}, {\"name\": \"Top 1% [Non-Salaried]\", \"y\": [0.27, 0.26, 0.27, 0.32, 0.33, 0.2, 0.25, 0.31, 0.25, 0.29, 0.29], \"type\": \"scatter\", \"x\": [2004, 2005, 2006, 2007, 2008, 2010, 2011, 2012, 2013, 2014, 2015]}, {\"name\": \"Top 0.1% [Salaried]\", \"y\": [0.14, 0.14, 0.14, 0.13, 0.15, 0.12, 0.14, 0.16, 0.12, 0.13, 0.13], \"type\": \"scatter\", \"x\": [2004, 2005, 2006, 2007, 2008, 2010, 2011, 2012, 2013, 2014, 2015]}, {\"name\": \"Top 0.1% [Non-Salaried]\", \"y\": [0.13, 0.12, 0.13, 0.15, 0.14, 0.1, 0.12, 0.15, 0.11, 0.12, 0.13], \"type\": \"scatter\", \"x\": [2004, 2005, 2006, 2007, 2008, 2010, 2011, 2012, 2013, 2014, 2015]}, {\"name\": \"Top 0.01% [Salaried]\", \"y\": [0.05, 0.05, 0.05, 0.05, 0.06, 0.05, 0.06, 0.06, 0.04, 0.05, 0.05], \"type\": \"scatter\", \"x\": [2004, 2005, 2006, 2007, 2008, 2010, 2011, 2012, 2013, 2014, 2015]}, {\"name\": \"Top 0.01% [Non-Salaried]\", \"y\": [0.05, 0.05, 0.05, 0.06, 0.05, 0.04, 0.05, 0.06, 0.04, 0.05, 0.05], \"type\": \"scatter\", \"x\": [2004, 2005, 2006, 2007, 2008, 2010, 2011, 2012, 2013, 2014, 2015]}], {\"xaxis\": {\"title\": \"Year\"}, \"title\": \"Top 1%, Top 0.1% and Top 0.01% National Income Shares in Pakistan\", \"yaxis\": {\"title\": \"National Income Share\"}}, {\"showLink\": true, \"linkText\": \"Export to plot.ly\"})});</script>"
      ],
      "text/vnd.plotly.v1+html": [
       "<div id=\"c1f64993-b52c-4bc9-a6e1-026d94f29051\" style=\"height: 525px; width: 100%;\" class=\"plotly-graph-div\"></div><script type=\"text/javascript\">require([\"plotly\"], function(Plotly) { window.PLOTLYENV=window.PLOTLYENV || {};window.PLOTLYENV.BASE_URL=\"https://plot.ly\";Plotly.newPlot(\"c1f64993-b52c-4bc9-a6e1-026d94f29051\", [{\"name\": \"Top 1% [Salaried]\", \"y\": [0.3, 0.3, 0.3, 0.29, 0.33, 0.25, 0.3, 0.34, 0.27, 0.3, 0.3], \"type\": \"scatter\", \"x\": [2004, 2005, 2006, 2007, 2008, 2010, 2011, 2012, 2013, 2014, 2015]}, {\"name\": \"Top 1% [Non-Salaried]\", \"y\": [0.27, 0.26, 0.27, 0.32, 0.33, 0.2, 0.25, 0.31, 0.25, 0.29, 0.29], \"type\": \"scatter\", \"x\": [2004, 2005, 2006, 2007, 2008, 2010, 2011, 2012, 2013, 2014, 2015]}, {\"name\": \"Top 0.1% [Salaried]\", \"y\": [0.14, 0.14, 0.14, 0.13, 0.15, 0.12, 0.14, 0.16, 0.12, 0.13, 0.13], \"type\": \"scatter\", \"x\": [2004, 2005, 2006, 2007, 2008, 2010, 2011, 2012, 2013, 2014, 2015]}, {\"name\": \"Top 0.1% [Non-Salaried]\", \"y\": [0.13, 0.12, 0.13, 0.15, 0.14, 0.1, 0.12, 0.15, 0.11, 0.12, 0.13], \"type\": \"scatter\", \"x\": [2004, 2005, 2006, 2007, 2008, 2010, 2011, 2012, 2013, 2014, 2015]}, {\"name\": \"Top 0.01% [Salaried]\", \"y\": [0.05, 0.05, 0.05, 0.05, 0.06, 0.05, 0.06, 0.06, 0.04, 0.05, 0.05], \"type\": \"scatter\", \"x\": [2004, 2005, 2006, 2007, 2008, 2010, 2011, 2012, 2013, 2014, 2015]}, {\"name\": \"Top 0.01% [Non-Salaried]\", \"y\": [0.05, 0.05, 0.05, 0.06, 0.05, 0.04, 0.05, 0.06, 0.04, 0.05, 0.05], \"type\": \"scatter\", \"x\": [2004, 2005, 2006, 2007, 2008, 2010, 2011, 2012, 2013, 2014, 2015]}], {\"xaxis\": {\"title\": \"Year\"}, \"title\": \"Top 1%, Top 0.1% and Top 0.01% National Income Shares in Pakistan\", \"yaxis\": {\"title\": \"National Income Share\"}}, {\"showLink\": true, \"linkText\": \"Export to plot.ly\"})});</script>"
      ]
     },
     "metadata": {},
     "output_type": "display_data"
    }
   ],
   "source": [
    "layout = dict(title = 'Top 1%, Top 0.1% and Top 0.01% National Income Shares in Pakistan',\n",
    "              xaxis = dict(title = 'Year'),\n",
    "              yaxis = dict(title = 'National Income Share'),\n",
    "              )\n",
    "data = [top_1_trace_salaried, top_1_trace_nonsalaried, top_01_trace_salaried, top_01_trace_nonsalaried, top_001_trace_salaried, top_001_trace_nonsalaried]\n",
    "top1_01_001_share = plotly.offline.iplot({\n",
    "    \"data\": data,\n",
    "    \"layout\": layout\n",
    "})\n",
    "top1_01_001_share"
   ]
  },
  {
   "cell_type": "markdown",
   "metadata": {},
   "source": [
    "### Top 1% and Bottom 50% Income Shares"
   ]
  },
  {
   "cell_type": "code",
   "execution_count": 312,
   "metadata": {
    "collapsed": true
   },
   "outputs": [],
   "source": [
    "# bottom 50 percent\n",
    "years = np.arange(2004, 2016, 1)\n",
    "index = np.argwhere(years==2009)\n",
    "years = np.delete(years, index)\n",
    "\n",
    "bottom_50_income_shares_salaried = []\n",
    "for y in years:\n",
    "    bottom_50_income_shares_salaried.append(calculate_income_share(\"salaried\", y, 0.5, top=False))\n",
    "\n",
    "bottom_50_income_shares_nonsalaried = []\n",
    "for y in years:\n",
    "    bottom_50_income_shares_nonsalaried.append(calculate_income_share(\"nonsalaried\", y, 0.5, top=False))"
   ]
  },
  {
   "cell_type": "code",
   "execution_count": 313,
   "metadata": {
    "collapsed": false
   },
   "outputs": [
    {
     "data": {
      "application/vnd.plotly.v1+json": {
       "data": [
        {
         "name": "Top 1% [Salaried]",
         "type": "scatter",
         "x": [
          2004,
          2005,
          2006,
          2007,
          2008,
          2010,
          2011,
          2012,
          2013,
          2014,
          2015
         ],
         "y": [
          0.31,
          0.31,
          0.31,
          0.31,
          0.34,
          0.26,
          0.31,
          0.35,
          0.29,
          0.3,
          0.3
         ]
        },
        {
         "name": "Top 1% [Non-Salaried]",
         "type": "scatter",
         "x": [
          2004,
          2005,
          2006,
          2007,
          2008,
          2010,
          2011,
          2012,
          2013,
          2014,
          2015
         ],
         "y": [
          0.28,
          0.27,
          0.28,
          0.32,
          0.33,
          0.21,
          0.27,
          0.32,
          0.27,
          0.29,
          0.29
         ]
        },
        {
         "name": "Bottom 50% [Salaried]",
         "type": "scatter",
         "x": [
          2004,
          2005,
          2006,
          2007,
          2008,
          2010,
          2011,
          2012,
          2013,
          2014,
          2015
         ],
         "y": [
          0.12,
          0.12,
          0.08,
          0.12,
          0.11,
          0.15,
          0.12,
          0.1,
          0.12,
          0.12,
          0.12
         ]
        },
        {
         "name": "Bottom 50% [Non-Salaried]",
         "type": "scatter",
         "x": [
          2004,
          2005,
          2006,
          2007,
          2008,
          2010,
          2011,
          2012,
          2013,
          2014,
          2015
         ],
         "y": [
          0.15,
          0.13,
          0.09,
          0.1,
          0.09,
          0.17,
          0.14,
          0.12,
          0.13,
          0.13,
          0.13
         ]
        }
       ],
       "layout": {
        "title": "Top 1% and Bottom 50% National Income Shares in Pakistan",
        "xaxis": {
         "title": "Year"
        },
        "yaxis": {
         "title": "National Income Share"
        }
       }
      },
      "text/html": [
       "<div id=\"3d02486b-9fc7-44a1-8e69-0d41f29dbc37\" style=\"height: 525px; width: 100%;\" class=\"plotly-graph-div\"></div><script type=\"text/javascript\">require([\"plotly\"], function(Plotly) { window.PLOTLYENV=window.PLOTLYENV || {};window.PLOTLYENV.BASE_URL=\"https://plot.ly\";Plotly.newPlot(\"3d02486b-9fc7-44a1-8e69-0d41f29dbc37\", [{\"name\": \"Top 1% [Salaried]\", \"y\": [0.31, 0.31, 0.31, 0.31, 0.34, 0.26, 0.31, 0.35, 0.29, 0.3, 0.3], \"type\": \"scatter\", \"x\": [2004, 2005, 2006, 2007, 2008, 2010, 2011, 2012, 2013, 2014, 2015]}, {\"name\": \"Top 1% [Non-Salaried]\", \"y\": [0.28, 0.27, 0.28, 0.32, 0.33, 0.21, 0.27, 0.32, 0.27, 0.29, 0.29], \"type\": \"scatter\", \"x\": [2004, 2005, 2006, 2007, 2008, 2010, 2011, 2012, 2013, 2014, 2015]}, {\"name\": \"Bottom 50% [Salaried]\", \"y\": [0.12, 0.12, 0.08, 0.12, 0.11, 0.15, 0.12, 0.1, 0.12, 0.12, 0.12], \"type\": \"scatter\", \"x\": [2004, 2005, 2006, 2007, 2008, 2010, 2011, 2012, 2013, 2014, 2015]}, {\"name\": \"Bottom 50% [Non-Salaried]\", \"y\": [0.15, 0.13, 0.09, 0.1, 0.09, 0.17, 0.14, 0.12, 0.13, 0.13, 0.13], \"type\": \"scatter\", \"x\": [2004, 2005, 2006, 2007, 2008, 2010, 2011, 2012, 2013, 2014, 2015]}], {\"xaxis\": {\"title\": \"Year\"}, \"title\": \"Top 1% and Bottom 50% National Income Shares in Pakistan\", \"yaxis\": {\"title\": \"National Income Share\"}}, {\"showLink\": true, \"linkText\": \"Export to plot.ly\"})});</script>"
      ],
      "text/vnd.plotly.v1+html": [
       "<div id=\"3d02486b-9fc7-44a1-8e69-0d41f29dbc37\" style=\"height: 525px; width: 100%;\" class=\"plotly-graph-div\"></div><script type=\"text/javascript\">require([\"plotly\"], function(Plotly) { window.PLOTLYENV=window.PLOTLYENV || {};window.PLOTLYENV.BASE_URL=\"https://plot.ly\";Plotly.newPlot(\"3d02486b-9fc7-44a1-8e69-0d41f29dbc37\", [{\"name\": \"Top 1% [Salaried]\", \"y\": [0.31, 0.31, 0.31, 0.31, 0.34, 0.26, 0.31, 0.35, 0.29, 0.3, 0.3], \"type\": \"scatter\", \"x\": [2004, 2005, 2006, 2007, 2008, 2010, 2011, 2012, 2013, 2014, 2015]}, {\"name\": \"Top 1% [Non-Salaried]\", \"y\": [0.28, 0.27, 0.28, 0.32, 0.33, 0.21, 0.27, 0.32, 0.27, 0.29, 0.29], \"type\": \"scatter\", \"x\": [2004, 2005, 2006, 2007, 2008, 2010, 2011, 2012, 2013, 2014, 2015]}, {\"name\": \"Bottom 50% [Salaried]\", \"y\": [0.12, 0.12, 0.08, 0.12, 0.11, 0.15, 0.12, 0.1, 0.12, 0.12, 0.12], \"type\": \"scatter\", \"x\": [2004, 2005, 2006, 2007, 2008, 2010, 2011, 2012, 2013, 2014, 2015]}, {\"name\": \"Bottom 50% [Non-Salaried]\", \"y\": [0.15, 0.13, 0.09, 0.1, 0.09, 0.17, 0.14, 0.12, 0.13, 0.13, 0.13], \"type\": \"scatter\", \"x\": [2004, 2005, 2006, 2007, 2008, 2010, 2011, 2012, 2013, 2014, 2015]}], {\"xaxis\": {\"title\": \"Year\"}, \"title\": \"Top 1% and Bottom 50% National Income Shares in Pakistan\", \"yaxis\": {\"title\": \"National Income Share\"}}, {\"showLink\": true, \"linkText\": \"Export to plot.ly\"})});</script>"
      ]
     },
     "metadata": {},
     "output_type": "display_data"
    }
   ],
   "source": [
    "bottom_50_trace_salaried = go.Scatter(\n",
    "    x = years,\n",
    "    y = bottom_50_income_shares_salaried,\n",
    "    name = 'Bottom 50% [Salaried]'\n",
    ")\n",
    "\n",
    "bottom_50_trace_nonsalaried = go.Scatter(\n",
    "    x = years,\n",
    "    y = bottom_50_income_shares_nonsalaried,\n",
    "    name = 'Bottom 50% [Non-Salaried]'\n",
    ")\n",
    "\n",
    "layout = dict(title = 'Top 1% and Bottom 50% National Income Shares in Pakistan',\n",
    "              xaxis = dict(title = 'Year'),\n",
    "              yaxis = dict(title = 'National Income Share'),\n",
    "              )\n",
    "data = [top_1_trace_salaried, top_1_trace_nonsalaried, bottom_50_trace_salaried, bottom_50_trace_nonsalaried]\n",
    "top1_bottom50_share = plotly.offline.iplot({\n",
    "    \"data\": data,\n",
    "    \"layout\": layout\n",
    "})\n",
    "top1_bottom50_share"
   ]
  },
  {
   "cell_type": "markdown",
   "metadata": {},
   "source": [
    "### Top 10% and Middle 40% Income Shares"
   ]
  },
  {
   "cell_type": "code",
   "execution_count": 314,
   "metadata": {
    "collapsed": false
   },
   "outputs": [],
   "source": [
    "# top 10 percent\n",
    "years = np.arange(2004, 2016, 1)\n",
    "index = np.argwhere(years==2009)\n",
    "years = np.delete(years, index)\n",
    "\n",
    "top_10_income_shares_salaried = []\n",
    "for y in years:\n",
    "    top_10_income_shares_salaried.append(calculate_income_share(\"salaried\", y, 0.1))\n",
    "    \n",
    "top_10_income_shares_nonsalaried = []\n",
    "for y in years:\n",
    "    top_10_income_shares_nonsalaried.append(calculate_income_share(\"nonsalaried\", y, 0.1))"
   ]
  },
  {
   "cell_type": "code",
   "execution_count": 315,
   "metadata": {
    "collapsed": true
   },
   "outputs": [],
   "source": [
    "# middle 40 percent\n",
    "years = np.arange(2004, 2016, 1)\n",
    "index = np.argwhere(years==2009)\n",
    "years = np.delete(years, index)\n",
    "\n",
    "middle_40_income_shares_salaried = []\n",
    "for y in years:\n",
    "    top30 = calculate_income_share(\"salaried\", y, 0.3)\n",
    "    bottom30 = calculate_income_share(\"salaried\", y, 0.3, top=False)\n",
    "    middle_40_income_shares_salaried.append(1 - (top30 + bottom30))\n",
    "    \n",
    "middle_40_income_shares_nonsalaried = []\n",
    "for y in years:\n",
    "    top30 = calculate_income_share(\"nonsalaried\", y, 0.3)\n",
    "    bottom30 = calculate_income_share(\"nonsalaried\", y, 0.3, top=False)\n",
    "    middle_40_income_shares_nonsalaried.append(1 - (top30 + bottom30))"
   ]
  },
  {
   "cell_type": "code",
   "execution_count": 316,
   "metadata": {
    "collapsed": false,
    "scrolled": false
   },
   "outputs": [
    {
     "data": {
      "application/vnd.plotly.v1+json": {
       "data": [
        {
         "name": "Top 10% [Salaried]",
         "type": "scatter",
         "x": [
          2004,
          2005,
          2006,
          2007,
          2008,
          2010,
          2011,
          2012,
          2013,
          2014,
          2015
         ],
         "y": [
          0.59,
          0.57,
          0.58,
          0.55,
          0.64,
          0.48,
          0.56,
          0.64,
          0.54,
          0.59,
          0.58
         ]
        },
        {
         "name": "Top 10% [Non-Salaried]",
         "type": "scatter",
         "x": [
          2004,
          2005,
          2006,
          2007,
          2008,
          2010,
          2011,
          2012,
          2013,
          2014,
          2015
         ],
         "y": [
          0.53,
          0.5,
          0.51,
          0.61,
          0.63,
          0.43,
          0.5,
          0.57,
          0.51,
          0.55,
          0.54
         ]
        },
        {
         "name": "Middle 40% [Salaried]",
         "type": "scatter",
         "x": [
          2004,
          2005,
          2006,
          2007,
          2008,
          2010,
          2011,
          2012,
          2013,
          2014,
          2015
         ],
         "y": [
          0.17999999999999994,
          0.19999999999999996,
          0.19999999999999996,
          0.20999999999999996,
          0.15999999999999992,
          0.22999999999999998,
          0.19999999999999996,
          0.15999999999999992,
          0.19999999999999996,
          0.17999999999999994,
          0.18999999999999995
         ]
        },
        {
         "name": "Middle 40% [Non-Salaried]",
         "type": "scatter",
         "x": [
          2004,
          2005,
          2006,
          2007,
          2008,
          2010,
          2011,
          2012,
          2013,
          2014,
          2015
         ],
         "y": [
          0.21999999999999997,
          0.21999999999999997,
          0.22999999999999998,
          0.15999999999999992,
          0.12,
          0.25,
          0.21999999999999997,
          0.18999999999999995,
          0.21999999999999997,
          0.19999999999999996,
          0.19999999999999996
         ]
        }
       ],
       "layout": {
        "title": "Top 10% and Middle 40% National Income Shares in Pakistan",
        "xaxis": {
         "title": "Year"
        },
        "yaxis": {
         "title": "National Income Share"
        }
       }
      },
      "text/html": [
       "<div id=\"55ae199a-df30-402a-9a21-20bcb2ac9f90\" style=\"height: 525px; width: 100%;\" class=\"plotly-graph-div\"></div><script type=\"text/javascript\">require([\"plotly\"], function(Plotly) { window.PLOTLYENV=window.PLOTLYENV || {};window.PLOTLYENV.BASE_URL=\"https://plot.ly\";Plotly.newPlot(\"55ae199a-df30-402a-9a21-20bcb2ac9f90\", [{\"name\": \"Top 10% [Salaried]\", \"y\": [0.59, 0.57, 0.58, 0.55, 0.64, 0.48, 0.56, 0.64, 0.54, 0.59, 0.58], \"type\": \"scatter\", \"x\": [2004, 2005, 2006, 2007, 2008, 2010, 2011, 2012, 2013, 2014, 2015]}, {\"name\": \"Top 10% [Non-Salaried]\", \"y\": [0.53, 0.5, 0.51, 0.61, 0.63, 0.43, 0.5, 0.57, 0.51, 0.55, 0.54], \"type\": \"scatter\", \"x\": [2004, 2005, 2006, 2007, 2008, 2010, 2011, 2012, 2013, 2014, 2015]}, {\"name\": \"Middle 40% [Salaried]\", \"y\": [0.17999999999999994, 0.19999999999999996, 0.19999999999999996, 0.20999999999999996, 0.15999999999999992, 0.22999999999999998, 0.19999999999999996, 0.15999999999999992, 0.19999999999999996, 0.17999999999999994, 0.18999999999999995], \"type\": \"scatter\", \"x\": [2004, 2005, 2006, 2007, 2008, 2010, 2011, 2012, 2013, 2014, 2015]}, {\"name\": \"Middle 40% [Non-Salaried]\", \"y\": [0.21999999999999997, 0.21999999999999997, 0.22999999999999998, 0.15999999999999992, 0.12, 0.25, 0.21999999999999997, 0.18999999999999995, 0.21999999999999997, 0.19999999999999996, 0.19999999999999996], \"type\": \"scatter\", \"x\": [2004, 2005, 2006, 2007, 2008, 2010, 2011, 2012, 2013, 2014, 2015]}], {\"xaxis\": {\"title\": \"Year\"}, \"title\": \"Top 10% and Middle 40% National Income Shares in Pakistan\", \"yaxis\": {\"title\": \"National Income Share\"}}, {\"showLink\": true, \"linkText\": \"Export to plot.ly\"})});</script>"
      ],
      "text/vnd.plotly.v1+html": [
       "<div id=\"55ae199a-df30-402a-9a21-20bcb2ac9f90\" style=\"height: 525px; width: 100%;\" class=\"plotly-graph-div\"></div><script type=\"text/javascript\">require([\"plotly\"], function(Plotly) { window.PLOTLYENV=window.PLOTLYENV || {};window.PLOTLYENV.BASE_URL=\"https://plot.ly\";Plotly.newPlot(\"55ae199a-df30-402a-9a21-20bcb2ac9f90\", [{\"name\": \"Top 10% [Salaried]\", \"y\": [0.59, 0.57, 0.58, 0.55, 0.64, 0.48, 0.56, 0.64, 0.54, 0.59, 0.58], \"type\": \"scatter\", \"x\": [2004, 2005, 2006, 2007, 2008, 2010, 2011, 2012, 2013, 2014, 2015]}, {\"name\": \"Top 10% [Non-Salaried]\", \"y\": [0.53, 0.5, 0.51, 0.61, 0.63, 0.43, 0.5, 0.57, 0.51, 0.55, 0.54], \"type\": \"scatter\", \"x\": [2004, 2005, 2006, 2007, 2008, 2010, 2011, 2012, 2013, 2014, 2015]}, {\"name\": \"Middle 40% [Salaried]\", \"y\": [0.17999999999999994, 0.19999999999999996, 0.19999999999999996, 0.20999999999999996, 0.15999999999999992, 0.22999999999999998, 0.19999999999999996, 0.15999999999999992, 0.19999999999999996, 0.17999999999999994, 0.18999999999999995], \"type\": \"scatter\", \"x\": [2004, 2005, 2006, 2007, 2008, 2010, 2011, 2012, 2013, 2014, 2015]}, {\"name\": \"Middle 40% [Non-Salaried]\", \"y\": [0.21999999999999997, 0.21999999999999997, 0.22999999999999998, 0.15999999999999992, 0.12, 0.25, 0.21999999999999997, 0.18999999999999995, 0.21999999999999997, 0.19999999999999996, 0.19999999999999996], \"type\": \"scatter\", \"x\": [2004, 2005, 2006, 2007, 2008, 2010, 2011, 2012, 2013, 2014, 2015]}], {\"xaxis\": {\"title\": \"Year\"}, \"title\": \"Top 10% and Middle 40% National Income Shares in Pakistan\", \"yaxis\": {\"title\": \"National Income Share\"}}, {\"showLink\": true, \"linkText\": \"Export to plot.ly\"})});</script>"
      ]
     },
     "metadata": {},
     "output_type": "display_data"
    }
   ],
   "source": [
    "top_10_trace_salaried = go.Scatter(\n",
    "    x = years,\n",
    "    y = top_10_income_shares_salaried,\n",
    "    name = \"Top 10% [Salaried]\"\n",
    ")\n",
    "\n",
    "top_10_trace_nonsalaried = go.Scatter(\n",
    "    x = years,\n",
    "    y = top_10_income_shares_nonsalaried,\n",
    "    name = \"Top 10% [Non-Salaried]\"\n",
    ")\n",
    "\n",
    "middle_40_trace_salaried = go.Scatter(\n",
    "    x = years,\n",
    "    y = middle_40_income_shares_salaried,\n",
    "    name = \"Middle 40% [Salaried]\"\n",
    ")\n",
    "\n",
    "middle_40_trace_nonsalaried = go.Scatter(\n",
    "    x = years,\n",
    "    y = middle_40_income_shares_nonsalaried,\n",
    "    name = \"Middle 40% [Non-Salaried]\"\n",
    ")\n",
    "\n",
    "layout = dict(title = 'Top 10% and Middle 40% National Income Shares in Pakistan',\n",
    "              xaxis = dict(title = 'Year'),\n",
    "              yaxis = dict(title = 'National Income Share'),\n",
    "              )\n",
    "data = [top_10_trace_salaried, top_10_trace_nonsalaried, middle_40_trace_salaried, middle_40_trace_nonsalaried]\n",
    "top10_middle40_share = plotly.offline.iplot({\n",
    "    \"data\": data,\n",
    "    \"layout\": layout\n",
    "})\n",
    "top10_middle40_share"
   ]
  },
  {
   "cell_type": "markdown",
   "metadata": {},
   "source": [
    "## Miscellaneous"
   ]
  },
  {
   "cell_type": "markdown",
   "metadata": {},
   "source": [
    "**Helper Functions**"
   ]
  },
  {
   "cell_type": "code",
   "execution_count": 258,
   "metadata": {
    "collapsed": true
   },
   "outputs": [],
   "source": [
    "def get_survey_table(table_type, start_year):  \n",
    "    \"\"\"\n",
    "    Sorted by income.\n",
    "    \n",
    "    Args:\n",
    "        str (table_type): accepts only 'hh' for household or 'individual' for individual.\n",
    "        int (start_year): currently limited to 2004 - 2015.\n",
    "\n",
    "    Returns:\n",
    "        pd.DataFrame: dataframe corresponding to table.\n",
    "    \"\"\"\n",
    "    t = eval(table_type + \"_balance_sheet_\" + str(start_year) + \"_\" + (str(start_year+1)[-2:]))\n",
    "    t = t.sort_values(by=['income']).reset_index().drop([\"index\"], axis=1)\n",
    "    return t"
   ]
  },
  {
   "cell_type": "markdown",
   "metadata": {},
   "source": [
    "### National Income Shares in Pakistan, 2015"
   ]
  },
  {
   "cell_type": "markdown",
   "metadata": {},
   "source": [
    "We can see how our tax data corrects the survey data. The change is rather significant. We will show a few different splits."
   ]
  },
  {
   "cell_type": "code",
   "execution_count": 403,
   "metadata": {
    "collapsed": true
   },
   "outputs": [],
   "source": [
    "def format_number(value):\n",
    "    return \"{:,}\".format(value)\n",
    "\n",
    "def format_percent(value):\n",
    "    return str(int(value * 100)) + \"%\""
   ]
  },
  {
   "cell_type": "code",
   "execution_count": 404,
   "metadata": {
    "collapsed": true
   },
   "outputs": [],
   "source": [
    "lf = pd.read_excel(\"./miscData/labor_force_total.xls\")"
   ]
  },
  {
   "cell_type": "code",
   "execution_count": 405,
   "metadata": {
    "collapsed": false
   },
   "outputs": [],
   "source": [
    "lf_tot = lf[lf[\"Country Code\"] == \"PAK\"][\"2015\"].values[0]\n",
    "incomes = np.array(get_final_table(2015, \"salaried\")[\"income\"])\n",
    "weights = np.array(get_final_table(2015, \"salaried\")[\"weights\"])"
   ]
  },
  {
   "cell_type": "code",
   "execution_count": 412,
   "metadata": {
    "collapsed": false
   },
   "outputs": [],
   "source": [
    "t10_incomes, t10_weights, _ = top_percentiles(0.1, get_survey_table(\"individual\", 2015)[\"income\"], get_survey_table(\"individual\", 2015)[\"weights\"])\n",
    "b50_incomes, b50_weights, _ = bottom_percentiles(0.5, get_survey_table(\"individual\", 2015)[\"income\"], get_survey_table(\"individual\", 2015)[\"weights\"])\n",
    "t30_incomes, t30_weights, it30 = top_percentiles(0.3, get_survey_table(\"individual\", 2015)[\"income\"], get_survey_table(\"individual\", 2015)[\"weights\"])\n",
    "b30_incomes, b30_weights, ib30 = bottom_percentiles(0.3, get_survey_table(\"individual\", 2015)[\"income\"], get_survey_table(\"individual\", 2015)[\"weights\"])\n",
    "t1_incomes, t1_weights, _ = top_percentiles(0.01, get_survey_table(\"individual\", 2015)[\"income\"], get_survey_table(\"individual\", 2015)[\"weights\"])\n",
    "t01_incomes, t01_weights, _ = top_percentiles(0.001, get_survey_table(\"individual\", 2015)[\"income\"], get_survey_table(\"individual\", 2015)[\"weights\"])\n",
    "t001_incomes, t001_weights, _ = top_percentiles(0.0001, get_survey_table(\"individual\", 2015)[\"income\"], get_survey_table(\"individual\", 2015)[\"weights\"])\n",
    "\n",
    "t_avg = weighted_sum(incomes, weights) / sum(weights)\n",
    "b50_avg = weighted_sum(b50_incomes, b50_weights) / sum(b50_weights)\n",
    "m40_avg = weighted_sum(incomes[ib30:it30], weights[ib30:it30]) / sum(weights[ib30:it30])\n",
    "t10_avg = weighted_sum(t10_incomes, t10_weights) / sum(t10_weights)\n",
    "t1_avg = weighted_sum(t1_incomes, t1_weights) / sum(t1_weights)\n",
    "t01_avg = weighted_sum(t01_incomes, t01_weights) / sum(t01_weights)\n",
    "t001_avg = weighted_sum(t001_incomes, t001_weights) / sum(t001_weights)"
   ]
  },
  {
   "cell_type": "code",
   "execution_count": 422,
   "metadata": {
    "collapsed": false
   },
   "outputs": [
    {
     "data": {
      "text/html": [
       "<div>\n",
       "<table border=\"1\" class=\"dataframe\">\n",
       "  <thead>\n",
       "    <tr style=\"text-align: right;\">\n",
       "      <th></th>\n",
       "      <th>Labor Force</th>\n",
       "      <th>Average Annual Income (PKR)</th>\n",
       "      <th>Average Annual Income (USD)</th>\n",
       "      <th>Income Share</th>\n",
       "    </tr>\n",
       "  </thead>\n",
       "  <tbody>\n",
       "    <tr>\n",
       "      <th>Full Population</th>\n",
       "      <td>65,422,753</td>\n",
       "      <td>279,601</td>\n",
       "      <td>$1,985</td>\n",
       "      <td>100%</td>\n",
       "    </tr>\n",
       "    <tr>\n",
       "      <th>Bottom 50%</th>\n",
       "      <td>32,711,376</td>\n",
       "      <td>64,930</td>\n",
       "      <td>$461</td>\n",
       "      <td>12%</td>\n",
       "    </tr>\n",
       "    <tr>\n",
       "      <th>Middle 40%</th>\n",
       "      <td>26,169,101</td>\n",
       "      <td>131,398</td>\n",
       "      <td>$932</td>\n",
       "      <td>18%</td>\n",
       "    </tr>\n",
       "    <tr>\n",
       "      <th>Top 10%</th>\n",
       "      <td>6,542,275</td>\n",
       "      <td>658,201</td>\n",
       "      <td>$4,673</td>\n",
       "      <td>57%</td>\n",
       "    </tr>\n",
       "    <tr>\n",
       "      <th>Top 1%</th>\n",
       "      <td>654,227</td>\n",
       "      <td>1,761,974</td>\n",
       "      <td>$12,510</td>\n",
       "      <td>30%</td>\n",
       "    </tr>\n",
       "    <tr>\n",
       "      <th>Top 0.1%</th>\n",
       "      <td>65,422</td>\n",
       "      <td>4,054,818</td>\n",
       "      <td>$28,789</td>\n",
       "      <td>13%</td>\n",
       "    </tr>\n",
       "    <tr>\n",
       "      <th>Top 0.01%</th>\n",
       "      <td>6,542</td>\n",
       "      <td>8,128,723</td>\n",
       "      <td>$57,713</td>\n",
       "      <td>5%</td>\n",
       "    </tr>\n",
       "  </tbody>\n",
       "</table>\n",
       "</div>"
      ],
      "text/plain": [
       "                Labor Force Average Annual Income (PKR)  \\\n",
       "Full Population  65,422,753                     279,601   \n",
       "Bottom 50%       32,711,376                      64,930   \n",
       "Middle 40%       26,169,101                     131,398   \n",
       "Top 10%           6,542,275                     658,201   \n",
       "Top 1%              654,227                   1,761,974   \n",
       "Top 0.1%             65,422                   4,054,818   \n",
       "Top 0.01%             6,542                   8,128,723   \n",
       "\n",
       "                Average Annual Income (USD) Income Share  \n",
       "Full Population                      $1,985         100%  \n",
       "Bottom 50%                             $461          12%  \n",
       "Middle 40%                             $932          18%  \n",
       "Top 10%                              $4,673          57%  \n",
       "Top 1%                              $12,510          30%  \n",
       "Top 0.1%                            $28,789          13%  \n",
       "Top 0.01%                           $57,713           5%  "
      ]
     },
     "execution_count": 422,
     "metadata": {},
     "output_type": "execute_result"
    }
   ],
   "source": [
    "d = {\n",
    "    'Labor Force': [format_number(x) for x in [lf_tot, int(lf_tot*0.5), int(lf_tot*0.4), int(lf_tot*0.1), int(lf_tot*0.01), int(lf_tot*0.001), int(lf_tot*0.0001)]], \n",
    "    'Average Annual Income (PKR)': [format_number(int(x)) for x in [t_avg, b50_avg, m40_avg, t10_avg, t1_avg, t01_avg, t001_avg]], \n",
    "    'Average Annual Income (USD)': [\"$\" + format_number(int(x * 0.0071)) for x in [t_avg, b50_avg, m40_avg, t10_avg, t1_avg, t01_avg, t001_avg]], \n",
    "    'Income Share': [format_percent(x) for x in [1, calculate_income_share(\"salaried\", 2015, 0.5, top=False), 1 - (calculate_income_share(\"salaried\", 2015, 0.3) + calculate_income_share(\"salaried\", 2015, 0.3, top=False)),calculate_income_share(\"salaried\", 2015, 0.1), calculate_income_share(\"salaried\", 2015, 0.01), calculate_income_share(\"salaried\", 2015, 0.001), calculate_income_share(\"salaried\", 2015, 0.0001)]], \n",
    "    }\n",
    "\n",
    "ntnl_income_table = pd.DataFrame(d, [\"Full Population\", \"Bottom 50%\", \"Middle 40%\", \"Top 10%\", \"Top 1%\", \"Top 0.1%\", \"Top 0.01%\"])\n",
    "ntnl_income_table = ntnl_income_table[[\"Labor Force\", \"Average Annual Income (PKR)\", \"Average Annual Income (USD)\", \"Income Share\"]]\n",
    "ntnl_income_table"
   ]
  },
  {
   "cell_type": "markdown",
   "metadata": {},
   "source": [
    "### Top 10%, Bottom 90% National Income Shares in Pakistan, 2015"
   ]
  },
  {
   "cell_type": "code",
   "execution_count": 259,
   "metadata": {
    "collapsed": false
   },
   "outputs": [
    {
     "data": {
      "application/vnd.plotly.v1+json": {
       "data": [
        {
         "marker": {
          "color": "rgb(31, 119, 180)"
         },
         "name": "Bottom 90% contribution",
         "type": "bar",
         "x": [
          "PSLM HIES Survey",
          "Constructed Survey and Tax Data"
         ],
         "y": [
          0.64,
          0.42
         ]
        },
        {
         "marker": {
          "color": "rgb(214, 39, 40)"
         },
         "name": "Top 10% Contribution",
         "type": "bar",
         "x": [
          "PSLM HIES Survey",
          "Constructed Survey and Tax Data"
         ],
         "y": [
          0.36,
          0.58
         ]
        }
       ],
       "layout": {
        "barmode": "stack",
        "title": "National Income Shares in Pakistan, Top 10%, Bottom 50%, 2015",
        "yaxis": {
         "title": "Income Share"
        }
       }
      },
      "text/html": [
       "<div id=\"9ce19cd3-7086-42bb-bc3c-886d652a9fe0\" style=\"height: 525px; width: 100%;\" class=\"plotly-graph-div\"></div><script type=\"text/javascript\">require([\"plotly\"], function(Plotly) { window.PLOTLYENV=window.PLOTLYENV || {};window.PLOTLYENV.BASE_URL=\"https://plot.ly\";Plotly.newPlot(\"9ce19cd3-7086-42bb-bc3c-886d652a9fe0\", [{\"name\": \"Bottom 90% contribution\", \"y\": [0.64, 0.42], \"type\": \"bar\", \"marker\": {\"color\": \"rgb(31, 119, 180)\"}, \"x\": [\"PSLM HIES Survey\", \"Constructed Survey and Tax Data\"]}, {\"name\": \"Top 10% Contribution\", \"y\": [0.36, 0.58], \"type\": \"bar\", \"marker\": {\"color\": \"rgb(214, 39, 40)\"}, \"x\": [\"PSLM HIES Survey\", \"Constructed Survey and Tax Data\"]}], {\"barmode\": \"stack\", \"title\": \"National Income Shares in Pakistan, Top 10%, Bottom 50%, 2015\", \"yaxis\": {\"title\": \"Income Share\"}}, {\"showLink\": true, \"linkText\": \"Export to plot.ly\"})});</script>"
      ],
      "text/vnd.plotly.v1+html": [
       "<div id=\"9ce19cd3-7086-42bb-bc3c-886d652a9fe0\" style=\"height: 525px; width: 100%;\" class=\"plotly-graph-div\"></div><script type=\"text/javascript\">require([\"plotly\"], function(Plotly) { window.PLOTLYENV=window.PLOTLYENV || {};window.PLOTLYENV.BASE_URL=\"https://plot.ly\";Plotly.newPlot(\"9ce19cd3-7086-42bb-bc3c-886d652a9fe0\", [{\"name\": \"Bottom 90% contribution\", \"y\": [0.64, 0.42], \"type\": \"bar\", \"marker\": {\"color\": \"rgb(31, 119, 180)\"}, \"x\": [\"PSLM HIES Survey\", \"Constructed Survey and Tax Data\"]}, {\"name\": \"Top 10% Contribution\", \"y\": [0.36, 0.58], \"type\": \"bar\", \"marker\": {\"color\": \"rgb(214, 39, 40)\"}, \"x\": [\"PSLM HIES Survey\", \"Constructed Survey and Tax Data\"]}], {\"barmode\": \"stack\", \"title\": \"National Income Shares in Pakistan, Top 10%, Bottom 50%, 2015\", \"yaxis\": {\"title\": \"Income Share\"}}, {\"showLink\": true, \"linkText\": \"Export to plot.ly\"})});</script>"
      ]
     },
     "metadata": {},
     "output_type": "display_data"
    }
   ],
   "source": [
    "x=[\"PSLM HIES Survey\", \"Constructed Survey and Tax Data\"]\n",
    "\n",
    "trace1 = go.Bar(\n",
    "    x=x,\n",
    "    y=[calculate_income_share(\"salaried\", 2015, 0.9, top=False, t_func_diff=True, t_func=get_survey_table), \n",
    "       calculate_income_share(\"salaried\", 2015, 0.9, top=False)],\n",
    "    name='Bottom 90% contribution',\n",
    "    marker = dict(color = ('rgb(31, 119, 180)'))   \n",
    ")\n",
    "trace2 = go.Bar(\n",
    "    x=x,\n",
    "    y=[calculate_income_share(\"salaried\", 2015, 0.1, t_func_diff=True, t_func=get_survey_table), \n",
    "       calculate_income_share(\"salaried\", 2015, 0.1)],\n",
    "    name='Top 10% Contribution',\n",
    "    marker = dict(color = ('rgb(214, 39, 40)'))\n",
    ")\n",
    "\n",
    "data = [trace1, trace2]\n",
    "\n",
    "layout = dict(title = 'National Income Shares in Pakistan, Top 10%, Bottom 90%, 2015',\n",
    "              yaxis = dict(title = 'Income Share'),\n",
    "              barmode='stack'\n",
    "              )\n",
    "\n",
    "top10_2015 = plotly.offline.iplot({\n",
    "    \"data\": data,\n",
    "    \"layout\": layout\n",
    "})\n",
    "top10_2015"
   ]
  },
  {
   "cell_type": "markdown",
   "metadata": {},
   "source": [
    "### Top 1%, Bottom 99% National Income Shares in Pakistan, 2015"
   ]
  },
  {
   "cell_type": "code",
   "execution_count": 260,
   "metadata": {
    "collapsed": false
   },
   "outputs": [
    {
     "data": {
      "application/vnd.plotly.v1+json": {
       "data": [
        {
         "marker": {
          "color": "rgb(31, 119, 180)"
         },
         "name": "Bottom 99% contribution",
         "type": "bar",
         "x": [
          "PSLM HIES Survey",
          "Constructed Survey and Tax Data"
         ],
         "y": [
          0.9,
          0.7
         ]
        },
        {
         "marker": {
          "color": "rgb(214, 39, 40)"
         },
         "name": "Top 1% Contribution",
         "type": "bar",
         "x": [
          "PSLM HIES Survey",
          "Constructed Survey and Tax Data"
         ],
         "y": [
          0.1,
          0.3
         ]
        }
       ],
       "layout": {
        "barmode": "stack",
        "title": "National Income Shares in Pakistan, Top 1%, Bottom 99%  2015",
        "yaxis": {
         "title": "Income Share"
        }
       }
      },
      "text/html": [
       "<div id=\"82878c10-6071-4eee-8193-09f9206d959b\" style=\"height: 525px; width: 100%;\" class=\"plotly-graph-div\"></div><script type=\"text/javascript\">require([\"plotly\"], function(Plotly) { window.PLOTLYENV=window.PLOTLYENV || {};window.PLOTLYENV.BASE_URL=\"https://plot.ly\";Plotly.newPlot(\"82878c10-6071-4eee-8193-09f9206d959b\", [{\"name\": \"Bottom 99% contribution\", \"y\": [0.9, 0.7], \"type\": \"bar\", \"marker\": {\"color\": \"rgb(31, 119, 180)\"}, \"x\": [\"PSLM HIES Survey\", \"Constructed Survey and Tax Data\"]}, {\"name\": \"Top 1% Contribution\", \"y\": [0.1, 0.3], \"type\": \"bar\", \"marker\": {\"color\": \"rgb(214, 39, 40)\"}, \"x\": [\"PSLM HIES Survey\", \"Constructed Survey and Tax Data\"]}], {\"barmode\": \"stack\", \"title\": \"National Income Shares in Pakistan, Top 1%, Bottom 99%  2015\", \"yaxis\": {\"title\": \"Income Share\"}}, {\"showLink\": true, \"linkText\": \"Export to plot.ly\"})});</script>"
      ],
      "text/vnd.plotly.v1+html": [
       "<div id=\"82878c10-6071-4eee-8193-09f9206d959b\" style=\"height: 525px; width: 100%;\" class=\"plotly-graph-div\"></div><script type=\"text/javascript\">require([\"plotly\"], function(Plotly) { window.PLOTLYENV=window.PLOTLYENV || {};window.PLOTLYENV.BASE_URL=\"https://plot.ly\";Plotly.newPlot(\"82878c10-6071-4eee-8193-09f9206d959b\", [{\"name\": \"Bottom 99% contribution\", \"y\": [0.9, 0.7], \"type\": \"bar\", \"marker\": {\"color\": \"rgb(31, 119, 180)\"}, \"x\": [\"PSLM HIES Survey\", \"Constructed Survey and Tax Data\"]}, {\"name\": \"Top 1% Contribution\", \"y\": [0.1, 0.3], \"type\": \"bar\", \"marker\": {\"color\": \"rgb(214, 39, 40)\"}, \"x\": [\"PSLM HIES Survey\", \"Constructed Survey and Tax Data\"]}], {\"barmode\": \"stack\", \"title\": \"National Income Shares in Pakistan, Top 1%, Bottom 99%  2015\", \"yaxis\": {\"title\": \"Income Share\"}}, {\"showLink\": true, \"linkText\": \"Export to plot.ly\"})});</script>"
      ]
     },
     "metadata": {},
     "output_type": "display_data"
    }
   ],
   "source": [
    "x=[\"PSLM HIES Survey\", \"Constructed Survey and Tax Data\"]\n",
    "\n",
    "trace1 = go.Bar(\n",
    "    x=x,\n",
    "    y=[calculate_income_share(\"salaried\", 2015, 0.99, top=False, t_func_diff=True, t_func=get_survey_table), \n",
    "       calculate_income_share(\"salaried\", 2015, 0.99, top=False)],\n",
    "    name='Bottom 99% contribution',\n",
    "    marker = dict(color = ('rgb(31, 119, 180)'))   \n",
    ")\n",
    "trace2 = go.Bar(\n",
    "    x=x,\n",
    "    y=[calculate_income_share(\"salaried\", 2015, 0.01, t_func_diff=True, t_func=get_survey_table), \n",
    "       calculate_income_share(\"salaried\", 2015, 0.01)],\n",
    "    name='Top 1% Contribution',\n",
    "    marker = dict(color = ('rgb(214, 39, 40)'))\n",
    ")\n",
    "\n",
    "data = [trace1, trace2]\n",
    "\n",
    "layout = dict(title = 'National Income Shares in Pakistan, Top 1%, Bottom 99%  2015',\n",
    "              yaxis = dict(title = 'Income Share'),\n",
    "              barmode='stack'\n",
    "              )\n",
    "\n",
    "top1_bottom99_2015 = plotly.offline.iplot({\n",
    "    \"data\": data,\n",
    "    \"layout\": layout\n",
    "})\n",
    "top1_bottom99_2015"
   ]
  },
  {
   "cell_type": "markdown",
   "metadata": {},
   "source": [
    "### Top 30%, Middle 40%, Botto 30% National Income Shares in Pakistan, 2015"
   ]
  },
  {
   "cell_type": "code",
   "execution_count": 261,
   "metadata": {
    "collapsed": false
   },
   "outputs": [
    {
     "data": {
      "application/vnd.plotly.v1+json": {
       "data": [
        {
         "marker": {
          "color": "rgb(31, 119, 180)"
         },
         "name": "Bottom 30% contribution",
         "type": "bar",
         "x": [
          "PSLM HIES Survey",
          "Constructed Survey and Tax Data"
         ],
         "y": [
          0.06,
          0.04
         ]
        },
        {
         "marker": {
          "color": "rgb(214, 39, 40)"
         },
         "name": "Middle 40% Contribution",
         "type": "bar",
         "x": [
          "PSLM HIES Survey",
          "Constructed Survey and Tax Data"
         ],
         "y": [
          0.29000000000000004,
          0.18999999999999995
         ]
        },
        {
         "marker": {
          "color": "rgb(148, 103, 189)"
         },
         "name": "Top 30% Contribution",
         "type": "bar",
         "x": [
          "PSLM HIES Survey",
          "Constructed Survey and Tax Data"
         ],
         "y": [
          0.65,
          0.77
         ]
        }
       ],
       "layout": {
        "barmode": "stack",
        "title": "National Income Shares in Pakistan, Top 30%, Middle 40%, Bottom 30%  2015",
        "yaxis": {
         "title": "Income Share"
        }
       }
      },
      "text/html": [
       "<div id=\"3da3b70f-cebc-46db-9a6f-35eaab8be153\" style=\"height: 525px; width: 100%;\" class=\"plotly-graph-div\"></div><script type=\"text/javascript\">require([\"plotly\"], function(Plotly) { window.PLOTLYENV=window.PLOTLYENV || {};window.PLOTLYENV.BASE_URL=\"https://plot.ly\";Plotly.newPlot(\"3da3b70f-cebc-46db-9a6f-35eaab8be153\", [{\"name\": \"Bottom 30% contribution\", \"y\": [0.06, 0.04], \"type\": \"bar\", \"marker\": {\"color\": \"rgb(31, 119, 180)\"}, \"x\": [\"PSLM HIES Survey\", \"Constructed Survey and Tax Data\"]}, {\"name\": \"Middle 40% Contribution\", \"y\": [0.29000000000000004, 0.18999999999999995], \"type\": \"bar\", \"marker\": {\"color\": \"rgb(214, 39, 40)\"}, \"x\": [\"PSLM HIES Survey\", \"Constructed Survey and Tax Data\"]}, {\"name\": \"Top 30% Contribution\", \"y\": [0.65, 0.77], \"type\": \"bar\", \"marker\": {\"color\": \"rgb(148, 103, 189)\"}, \"x\": [\"PSLM HIES Survey\", \"Constructed Survey and Tax Data\"]}], {\"barmode\": \"stack\", \"title\": \"National Income Shares in Pakistan, Top 30%, Middle 40%, Bottom 30%  2015\", \"yaxis\": {\"title\": \"Income Share\"}}, {\"showLink\": true, \"linkText\": \"Export to plot.ly\"})});</script>"
      ],
      "text/vnd.plotly.v1+html": [
       "<div id=\"3da3b70f-cebc-46db-9a6f-35eaab8be153\" style=\"height: 525px; width: 100%;\" class=\"plotly-graph-div\"></div><script type=\"text/javascript\">require([\"plotly\"], function(Plotly) { window.PLOTLYENV=window.PLOTLYENV || {};window.PLOTLYENV.BASE_URL=\"https://plot.ly\";Plotly.newPlot(\"3da3b70f-cebc-46db-9a6f-35eaab8be153\", [{\"name\": \"Bottom 30% contribution\", \"y\": [0.06, 0.04], \"type\": \"bar\", \"marker\": {\"color\": \"rgb(31, 119, 180)\"}, \"x\": [\"PSLM HIES Survey\", \"Constructed Survey and Tax Data\"]}, {\"name\": \"Middle 40% Contribution\", \"y\": [0.29000000000000004, 0.18999999999999995], \"type\": \"bar\", \"marker\": {\"color\": \"rgb(214, 39, 40)\"}, \"x\": [\"PSLM HIES Survey\", \"Constructed Survey and Tax Data\"]}, {\"name\": \"Top 30% Contribution\", \"y\": [0.65, 0.77], \"type\": \"bar\", \"marker\": {\"color\": \"rgb(148, 103, 189)\"}, \"x\": [\"PSLM HIES Survey\", \"Constructed Survey and Tax Data\"]}], {\"barmode\": \"stack\", \"title\": \"National Income Shares in Pakistan, Top 30%, Middle 40%, Bottom 30%  2015\", \"yaxis\": {\"title\": \"Income Share\"}}, {\"showLink\": true, \"linkText\": \"Export to plot.ly\"})});</script>"
      ]
     },
     "metadata": {},
     "output_type": "display_data"
    }
   ],
   "source": [
    "x=[\"PSLM HIES Survey\", \"Constructed Survey and Tax Data\"]\n",
    "\n",
    "b30_survey = calculate_income_share(\"salaried\", 2015, 0.3, top=False, t_func_diff=True, t_func=get_survey_table)\n",
    "b30_final = calculate_income_share(\"salaried\", 2015, 0.3, top=False)\n",
    "\n",
    "t30_survey = calculate_income_share(\"salaried\", 2015, 0.3, t_func_diff=True, t_func=get_survey_table)\n",
    "t30_final = calculate_income_share(\"salaried\", 2015, 0.3)\n",
    "\n",
    "m40_survey = 1 - (t30_survey + b30_survey)\n",
    "m40_final = 1 - (t30_final + b30_final)\n",
    "\n",
    "trace1 = go.Bar(\n",
    "    x=x,\n",
    "    y=[b30_survey, \n",
    "       b30_final],\n",
    "    name='Bottom 30% contribution',\n",
    "    marker = dict(color = ('rgb(31, 119, 180)'))   \n",
    ")\n",
    "trace2 = go.Bar(\n",
    "    x=x,\n",
    "    y=[m40_survey, \n",
    "       m40_final],\n",
    "    name='Middle 40% Contribution',\n",
    "    marker = dict(color = ('rgb(214, 39, 40)'))\n",
    ")\n",
    "\n",
    "trace3 = go.Bar(\n",
    "    x=x,\n",
    "    y=[t30_survey, \n",
    "       t30_final],\n",
    "    name='Top 30% Contribution',\n",
    "    marker = dict(color = ('rgb(148, 103, 189)'))\n",
    ")\n",
    "\n",
    "data = [trace1, trace2, trace3]\n",
    "\n",
    "layout = dict(title = 'National Income Shares in Pakistan, Top 30%, Middle 40%, Bottom 30%  2015',\n",
    "              yaxis = dict(title = 'Income Share'),\n",
    "              barmode='stack'\n",
    "              )\n",
    "\n",
    "top30_middle40_bottom_30_2015 = plotly.offline.iplot({\n",
    "    \"data\": data,\n",
    "    \"layout\": layout\n",
    "})\n",
    "top30_middle40_bottom_30_2015"
   ]
  },
  {
   "cell_type": "markdown",
   "metadata": {},
   "source": [
    "### HIES Household and Individual Coverage"
   ]
  },
  {
   "cell_type": "code",
   "execution_count": 308,
   "metadata": {
    "collapsed": false
   },
   "outputs": [
    {
     "name": "stdout",
     "output_type": "stream",
     "text": [
      "\n",
      "\n"
     ]
    },
    {
     "data": {
      "text/html": [
       "<div>\n",
       "<table border=\"1\" class=\"dataframe\">\n",
       "  <thead>\n",
       "    <tr style=\"text-align: right;\">\n",
       "      <th></th>\n",
       "      <th>Year</th>\n",
       "      <th>Number of Households</th>\n",
       "      <th>Number of Individuals</th>\n",
       "      <th>Number of Households</th>\n",
       "      <th>Individuals / Household Ratio</th>\n",
       "    </tr>\n",
       "  </thead>\n",
       "  <tbody>\n",
       "    <tr>\n",
       "      <th>0</th>\n",
       "      <td>2004</td>\n",
       "      <td>14,707</td>\n",
       "      <td>21,170</td>\n",
       "      <td>14,707</td>\n",
       "      <td>1.44</td>\n",
       "    </tr>\n",
       "    <tr>\n",
       "      <th>1</th>\n",
       "      <td>2005</td>\n",
       "      <td>15,450</td>\n",
       "      <td>25,303</td>\n",
       "      <td>15,450</td>\n",
       "      <td>1.64</td>\n",
       "    </tr>\n",
       "    <tr>\n",
       "      <th>2</th>\n",
       "      <td>2006</td>\n",
       "      <td>70,156</td>\n",
       "      <td>108,427</td>\n",
       "      <td>70,156</td>\n",
       "      <td>1.55</td>\n",
       "    </tr>\n",
       "    <tr>\n",
       "      <th>3</th>\n",
       "      <td>2007</td>\n",
       "      <td>15,511</td>\n",
       "      <td>24,900</td>\n",
       "      <td>15,511</td>\n",
       "      <td>1.61</td>\n",
       "    </tr>\n",
       "    <tr>\n",
       "      <th>4</th>\n",
       "      <td>2008</td>\n",
       "      <td>71,491</td>\n",
       "      <td>108,698</td>\n",
       "      <td>71,491</td>\n",
       "      <td>1.52</td>\n",
       "    </tr>\n",
       "    <tr>\n",
       "      <th>5</th>\n",
       "      <td>2010</td>\n",
       "      <td>16,341</td>\n",
       "      <td>25,202</td>\n",
       "      <td>16,341</td>\n",
       "      <td>1.54</td>\n",
       "    </tr>\n",
       "    <tr>\n",
       "      <th>6</th>\n",
       "      <td>2011</td>\n",
       "      <td>15,807</td>\n",
       "      <td>25,362</td>\n",
       "      <td>15,807</td>\n",
       "      <td>1.60</td>\n",
       "    </tr>\n",
       "    <tr>\n",
       "      <th>7</th>\n",
       "      <td>2012</td>\n",
       "      <td>75,333</td>\n",
       "      <td>117,639</td>\n",
       "      <td>75,333</td>\n",
       "      <td>1.56</td>\n",
       "    </tr>\n",
       "    <tr>\n",
       "      <th>8</th>\n",
       "      <td>2013</td>\n",
       "      <td>17,891</td>\n",
       "      <td>29,321</td>\n",
       "      <td>17,891</td>\n",
       "      <td>1.64</td>\n",
       "    </tr>\n",
       "    <tr>\n",
       "      <th>9</th>\n",
       "      <td>2014</td>\n",
       "      <td>78,505</td>\n",
       "      <td>122,664</td>\n",
       "      <td>78,505</td>\n",
       "      <td>1.56</td>\n",
       "    </tr>\n",
       "    <tr>\n",
       "      <th>10</th>\n",
       "      <td>2015</td>\n",
       "      <td>24,238</td>\n",
       "      <td>38,552</td>\n",
       "      <td>24,238</td>\n",
       "      <td>1.59</td>\n",
       "    </tr>\n",
       "  </tbody>\n",
       "</table>\n",
       "</div>"
      ],
      "text/plain": [
       "    Year Number of Households Number of Individuals Number of Households  \\\n",
       "0   2004               14,707                21,170               14,707   \n",
       "1   2005               15,450                25,303               15,450   \n",
       "2   2006               70,156               108,427               70,156   \n",
       "3   2007               15,511                24,900               15,511   \n",
       "4   2008               71,491               108,698               71,491   \n",
       "5   2010               16,341                25,202               16,341   \n",
       "6   2011               15,807                25,362               15,807   \n",
       "7   2012               75,333               117,639               75,333   \n",
       "8   2013               17,891                29,321               17,891   \n",
       "9   2014               78,505               122,664               78,505   \n",
       "10  2015               24,238                38,552               24,238   \n",
       "\n",
       "    Individuals / Household Ratio  \n",
       "0                            1.44  \n",
       "1                            1.64  \n",
       "2                            1.55  \n",
       "3                            1.61  \n",
       "4                            1.52  \n",
       "5                            1.54  \n",
       "6                            1.60  \n",
       "7                            1.56  \n",
       "8                            1.64  \n",
       "9                            1.56  \n",
       "10                           1.59  "
      ]
     },
     "execution_count": 308,
     "metadata": {},
     "output_type": "execute_result"
    }
   ],
   "source": [
    "years = np.arange(2004, 2016, 1)\n",
    "index = np.argwhere(years==2009)\n",
    "years = np.delete(years, index)\n",
    "\n",
    "# individuals\n",
    "i_nums = []\n",
    "for y in years:\n",
    "    t = get_survey_table(\"individual\", y)\n",
    "    i_nums.append(t.shape[0])\n",
    "    \n",
    "print(\"\\n\")\n",
    "\n",
    "# households\n",
    "hh_nums = []\n",
    "for y in years:\n",
    "    f = (\"./finalData/hh_balance_sheet_\" + str(y) + \"_\" + str(y+1)[2:] + \".pkl\")\n",
    "    hh_nums.append(len(pd.read_pickle(f)))\n",
    "\n",
    "def format_number(value):\n",
    "    return \"{:,}\".format(value)\n",
    "\n",
    "d = {\n",
    "    'Year': years, \n",
    "    'Number of Households': [format_number(x) for x in hh_nums], \n",
    "    'Number of Individuals': [format_number(x) for x in i_nums], \n",
    "    'Individuals / Household Ratio': [np.round(x, 2) for x in list(np.array(i_nums) / np.array(hh_nums))],\n",
    "    }\n",
    "\n",
    "hies_coverage = pd.DataFrame(data=d)\n",
    "hies_coverage = hies_coverage[[\"Year\", \"Number of Households\", \"Number of Individuals\", \"Number of Households\", \"Individuals / Household Ratio\"]]\n",
    "hies_coverage"
   ]
  },
  {
   "cell_type": "code",
   "execution_count": 425,
   "metadata": {
    "collapsed": false
   },
   "outputs": [
    {
     "name": "stdout",
     "output_type": "stream",
     "text": [
      "\\begin{tabular}{lrlllr}\n",
      "\\toprule\n",
      "{} &  Year & Number of Households & Number of Individuals & Number of Households &  Individuals / Household Ratio \\\\\n",
      "\\midrule\n",
      "0  &  2004 &               14,707 &                21,170 &               14,707 &                           1.44 \\\\\n",
      "1  &  2005 &               15,450 &                25,303 &               15,450 &                           1.64 \\\\\n",
      "2  &  2006 &               70,156 &               108,427 &               70,156 &                           1.55 \\\\\n",
      "3  &  2007 &               15,511 &                24,900 &               15,511 &                           1.61 \\\\\n",
      "4  &  2008 &               71,491 &               108,698 &               71,491 &                           1.52 \\\\\n",
      "5  &  2010 &               16,341 &                25,202 &               16,341 &                           1.54 \\\\\n",
      "6  &  2011 &               15,807 &                25,362 &               15,807 &                           1.60 \\\\\n",
      "7  &  2012 &               75,333 &               117,639 &               75,333 &                           1.56 \\\\\n",
      "8  &  2013 &               17,891 &                29,321 &               17,891 &                           1.64 \\\\\n",
      "9  &  2014 &               78,505 &               122,664 &               78,505 &                           1.56 \\\\\n",
      "10 &  2015 &               24,238 &                38,552 &               24,238 &                           1.59 \\\\\n",
      "\\bottomrule\n",
      "\\end{tabular}\n",
      "\n"
     ]
    }
   ],
   "source": [
    "print(hies_coverage.to_latex())"
   ]
  },
  {
   "cell_type": "code",
   "execution_count": null,
   "metadata": {
    "collapsed": true
   },
   "outputs": [],
   "source": [
    "# new graph yo"
   ]
  },
  {
   "cell_type": "code",
   "execution_count": 512,
   "metadata": {
    "collapsed": false
   },
   "outputs": [
    {
     "name": "stderr",
     "output_type": "stream",
     "text": [
      "//anaconda/lib/python3.5/site-packages/numpy/lib/function_base.py:4116: RuntimeWarning:\n",
      "\n",
      "Invalid value encountered in percentile\n",
      "\n"
     ]
    },
    {
     "data": {
      "text/html": [
       "<div>\n",
       "<table border=\"1\" class=\"dataframe\">\n",
       "  <thead>\n",
       "    <tr style=\"text-align: right;\">\n",
       "      <th></th>\n",
       "      <th>Combined Income</th>\n",
       "      <th>HIES Income</th>\n",
       "    </tr>\n",
       "  </thead>\n",
       "  <tbody>\n",
       "    <tr>\n",
       "      <th>count</th>\n",
       "      <td>515,416</td>\n",
       "      <td>108,427</td>\n",
       "    </tr>\n",
       "    <tr>\n",
       "      <th>mean</th>\n",
       "      <td>296,615</td>\n",
       "      <td>60,006</td>\n",
       "    </tr>\n",
       "    <tr>\n",
       "      <th>std</th>\n",
       "      <td>1,868,303</td>\n",
       "      <td>111,818</td>\n",
       "    </tr>\n",
       "    <tr>\n",
       "      <th>min</th>\n",
       "      <td>3</td>\n",
       "      <td>3</td>\n",
       "    </tr>\n",
       "    <tr>\n",
       "      <th>25%</th>\n",
       "      <td>100,000</td>\n",
       "      <td>4,800</td>\n",
       "    </tr>\n",
       "    <tr>\n",
       "      <th>50%</th>\n",
       "      <td>121,735</td>\n",
       "      <td>38,500</td>\n",
       "    </tr>\n",
       "    <tr>\n",
       "      <th>75%</th>\n",
       "      <td>225,201</td>\n",
       "      <td>72,000</td>\n",
       "    </tr>\n",
       "    <tr>\n",
       "      <th>max</th>\n",
       "      <td>708,955,276</td>\n",
       "      <td>11,400,000</td>\n",
       "    </tr>\n",
       "  </tbody>\n",
       "</table>\n",
       "</div>"
      ],
      "text/plain": [
       "      Combined Income HIES Income\n",
       "count         515,416     108,427\n",
       "mean          296,615      60,006\n",
       "std         1,868,303     111,818\n",
       "min                 3           3\n",
       "25%           100,000       4,800\n",
       "50%           121,735      38,500\n",
       "75%           225,201      72,000\n",
       "max       708,955,276  11,400,000"
      ]
     },
     "execution_count": 512,
     "metadata": {},
     "output_type": "execute_result"
    }
   ],
   "source": [
    "# mean income, standard deviation of income, median income, mean age, ratio income /consumption, gini\n",
    "s = get_final_table(2006, \"salaried\")\n",
    "t = get_survey_table(\"individual\", 2006)\n",
    "x = s.describe()\n",
    "y = t.describe()\n",
    "x = x[[\"income\"]]\n",
    "y = y[[\"income\"]]\n",
    "# x.drop([\"hhcode\", \"weights\", \"psu\", \"idc\"], axis=1, inplace=True)\n",
    "x[\"income\"] = x[\"income\"].astype(int)\n",
    "y[\"income\"] = y[\"income\"].astype(int)\n",
    "# x[\"age\"] = x[\"age\"].astype(int)\n",
    "# x[\"birth_year\"] = x[\"birth_year\"].astype(int)\n",
    "d = {\n",
    "    'HIES Income': [format_number(g) for g in y[\"income\"]], \n",
    "    'Combined Income': [format_number(g) for g in x[\"income\"]], \n",
    "    }\n",
    "\n",
    "df = pd.DataFrame(d, x.index)\n",
    "df"
   ]
  },
  {
   "cell_type": "code",
   "execution_count": 513,
   "metadata": {
    "collapsed": false
   },
   "outputs": [
    {
     "name": "stdout",
     "output_type": "stream",
     "text": [
      "\\begin{tabular}{lll}\n",
      "\\toprule\n",
      "{} & Combined Income & HIES Income \\\\\n",
      "\\midrule\n",
      "count &         515,416 &     108,427 \\\\\n",
      "mean  &         296,615 &      60,006 \\\\\n",
      "std   &       1,868,303 &     111,818 \\\\\n",
      "min   &               3 &           3 \\\\\n",
      "25\\%   &         100,000 &       4,800 \\\\\n",
      "50\\%   &         121,735 &      38,500 \\\\\n",
      "75\\%   &         225,201 &      72,000 \\\\\n",
      "max   &     708,955,276 &  11,400,000 \\\\\n",
      "\\bottomrule\n",
      "\\end{tabular}\n",
      "\n"
     ]
    }
   ],
   "source": [
    "print(df.to_latex())"
   ]
  },
  {
   "cell_type": "markdown",
   "metadata": {},
   "source": [
    "### Share of Income Gap Explained By Top Incomes"
   ]
  },
  {
   "cell_type": "code",
   "execution_count": 311,
   "metadata": {
    "collapsed": false
   },
   "outputs": [
    {
     "data": {
      "application/vnd.plotly.v1+json": {
       "data": [
        {
         "name": "PSLM HIES Survey",
         "type": "scatter",
         "x": [
          2004,
          2005,
          2006,
          2007,
          2008,
          2010,
          2011,
          2012,
          2013,
          2014,
          2015
         ],
         "y": [
          0.0974468927241325,
          0.09989662200750918,
          0.08801113714865161,
          0.11939581846686936,
          0.15132965839307552,
          0.1660790061744183,
          0.18899877182660524,
          0.24767008963662154,
          0.2741517407142453,
          0.3234399433159835,
          0.2839600848687323
         ]
        },
        {
         "name": "Combined Microdata",
         "type": "scatter",
         "x": [
          2004,
          2005,
          2006,
          2007,
          2008,
          2010,
          2011,
          2012,
          2013,
          2014,
          2015
         ],
         "y": [
          0.1464274893311147,
          0.13674642790767055,
          0.12014030620384397,
          0.16660095326426652,
          0.2778431068433477,
          0.20626508809238756,
          0.26843110644523144,
          0.41877754862043187,
          0.36888745631161574,
          0.4902593557552029,
          0.435992564034587
         ]
        }
       ],
       "layout": {
        "title": "Share of Income Gap Explained By Top Incomes",
        "xaxis": {
         "title": "Year"
        },
        "yaxis": {
         "title": "National Income Share"
        }
       }
      },
      "text/html": [
       "<div id=\"71593b27-18e3-4a8e-a63a-78625cf9e4b5\" style=\"height: 525px; width: 100%;\" class=\"plotly-graph-div\"></div><script type=\"text/javascript\">require([\"plotly\"], function(Plotly) { window.PLOTLYENV=window.PLOTLYENV || {};window.PLOTLYENV.BASE_URL=\"https://plot.ly\";Plotly.newPlot(\"71593b27-18e3-4a8e-a63a-78625cf9e4b5\", [{\"name\": \"PSLM HIES Survey\", \"y\": [0.0974468927241325, 0.09989662200750918, 0.08801113714865161, 0.11939581846686936, 0.15132965839307552, 0.1660790061744183, 0.18899877182660524, 0.24767008963662154, 0.2741517407142453, 0.3234399433159835, 0.2839600848687323], \"type\": \"scatter\", \"x\": [2004, 2005, 2006, 2007, 2008, 2010, 2011, 2012, 2013, 2014, 2015]}, {\"name\": \"Combined Microdata\", \"y\": [0.1464274893311147, 0.13674642790767055, 0.12014030620384397, 0.16660095326426652, 0.2778431068433477, 0.20626508809238756, 0.26843110644523144, 0.41877754862043187, 0.36888745631161574, 0.4902593557552029, 0.435992564034587], \"type\": \"scatter\", \"x\": [2004, 2005, 2006, 2007, 2008, 2010, 2011, 2012, 2013, 2014, 2015]}], {\"xaxis\": {\"title\": \"Year\"}, \"title\": \"Share of Income Gap Explained By Top Incomes\", \"yaxis\": {\"title\": \"National Income Share\"}}, {\"showLink\": true, \"linkText\": \"Export to plot.ly\"})});</script>"
      ],
      "text/vnd.plotly.v1+html": [
       "<div id=\"71593b27-18e3-4a8e-a63a-78625cf9e4b5\" style=\"height: 525px; width: 100%;\" class=\"plotly-graph-div\"></div><script type=\"text/javascript\">require([\"plotly\"], function(Plotly) { window.PLOTLYENV=window.PLOTLYENV || {};window.PLOTLYENV.BASE_URL=\"https://plot.ly\";Plotly.newPlot(\"71593b27-18e3-4a8e-a63a-78625cf9e4b5\", [{\"name\": \"PSLM HIES Survey\", \"y\": [0.0974468927241325, 0.09989662200750918, 0.08801113714865161, 0.11939581846686936, 0.15132965839307552, 0.1660790061744183, 0.18899877182660524, 0.24767008963662154, 0.2741517407142453, 0.3234399433159835, 0.2839600848687323], \"type\": \"scatter\", \"x\": [2004, 2005, 2006, 2007, 2008, 2010, 2011, 2012, 2013, 2014, 2015]}, {\"name\": \"Combined Microdata\", \"y\": [0.1464274893311147, 0.13674642790767055, 0.12014030620384397, 0.16660095326426652, 0.2778431068433477, 0.20626508809238756, 0.26843110644523144, 0.41877754862043187, 0.36888745631161574, 0.4902593557552029, 0.435992564034587], \"type\": \"scatter\", \"x\": [2004, 2005, 2006, 2007, 2008, 2010, 2011, 2012, 2013, 2014, 2015]}], {\"xaxis\": {\"title\": \"Year\"}, \"title\": \"Share of Income Gap Explained By Top Incomes\", \"yaxis\": {\"title\": \"National Income Share\"}}, {\"showLink\": true, \"linkText\": \"Export to plot.ly\"})});</script>"
      ]
     },
     "metadata": {},
     "output_type": "display_data"
    }
   ],
   "source": [
    "years = np.arange(2004, 2016, 1)\n",
    "index = np.argwhere(years==2009)\n",
    "years = np.delete(years, index)\n",
    "\n",
    "survey_pni = []\n",
    "mixed_pni = []\n",
    "for y in years:\n",
    "    survey_pni.append(weighted_sum(get_survey_table(\"individual\", y)[\"income\"], get_survey_table(\"individual\", y)[\"weights\"]) / ni[ni[\"Year\"] == y][\"National Income\"].values[0])\n",
    "    mixed_pni.append(weighted_sum(get_final_table(y, \"salaried\")[\"income\"], get_final_table(y, \"salaried\")[\"weights\"]) / ni[ni[\"Year\"] == y][\"National Income\"].values[0])\n",
    "    \n",
    "    \n",
    "survey_trace = go.Scatter(\n",
    "    x = years,\n",
    "    y = survey_pni,\n",
    "    name = \"PSLM HIES Survey\"\n",
    ")\n",
    "\n",
    "final_trace = go.Scatter(\n",
    "    x = years,\n",
    "    y = mixed_pni,\n",
    "    name = \"Combined Microdata\"\n",
    ")\n",
    "\n",
    "layout = dict(title = 'Share of Income Gap Explained By Top Incomes',\n",
    "              xaxis = dict(title = 'Year'),\n",
    "              yaxis = dict(title = 'National Income Share'),\n",
    "              )\n",
    "data = [survey_trace, final_trace]\n",
    "ni_income_gap = plotly.offline.iplot({\n",
    "    \"data\": data,\n",
    "    \"layout\": layout\n",
    "})\n",
    "ni_income_gap"
   ]
  },
  {
   "cell_type": "code",
   "execution_count": 270,
   "metadata": {
    "collapsed": true
   },
   "outputs": [],
   "source": [
    "# Lorenz Curve / Gini Coefficient"
   ]
  },
  {
   "cell_type": "code",
   "execution_count": 271,
   "metadata": {
    "collapsed": true
   },
   "outputs": [],
   "source": [
    "def gini(incomes):\n",
    "    sum_of_absolute_differences = 0\n",
    "    subsum = 0\n",
    "\n",
    "    for i, x in enumerate(incomes):\n",
    "        sum_of_absolute_differences += i * x - subsum\n",
    "        subsum += x\n",
    "\n",
    "    return sum_of_absolute_differences / subsum / len(incomes)"
   ]
  },
  {
   "cell_type": "code",
   "execution_count": 272,
   "metadata": {
    "collapsed": false
   },
   "outputs": [
    {
     "data": {
      "text/plain": [
       "0.58121472825118226"
      ]
     },
     "execution_count": 272,
     "metadata": {},
     "output_type": "execute_result"
    }
   ],
   "source": [
    "gini(list(get_final_table(2015, \"salaried\")[\"income\"]))"
   ]
  },
  {
   "cell_type": "code",
   "execution_count": 273,
   "metadata": {
    "collapsed": true
   },
   "outputs": [],
   "source": [
    "# Table that Saez and Zucman have constructed for DINA usa"
   ]
  },
  {
   "cell_type": "markdown",
   "metadata": {},
   "source": [
    "### Putting Pakistani Income Inequality in Perspective"
   ]
  },
  {
   "cell_type": "code",
   "execution_count": 355,
   "metadata": {
    "collapsed": false
   },
   "outputs": [
    {
     "data": {
      "text/html": [
       "<div>\n",
       "<table border=\"1\" class=\"dataframe\">\n",
       "  <thead>\n",
       "    <tr style=\"text-align: right;\">\n",
       "      <th></th>\n",
       "      <th>Pakistan</th>\n",
       "      <th>India</th>\n",
       "      <th>Middle East</th>\n",
       "      <th>South Africa</th>\n",
       "      <th>Brazil</th>\n",
       "      <th>Turkey</th>\n",
       "      <th>China</th>\n",
       "      <th>USA</th>\n",
       "    </tr>\n",
       "  </thead>\n",
       "  <tbody>\n",
       "    <tr>\n",
       "      <th>Bottom 50%</th>\n",
       "      <td>12.0</td>\n",
       "      <td>14.7</td>\n",
       "      <td>9.0</td>\n",
       "      <td>5.0</td>\n",
       "      <td>13.9</td>\n",
       "      <td>14.9</td>\n",
       "      <td>14.8</td>\n",
       "      <td>12.5</td>\n",
       "    </tr>\n",
       "    <tr>\n",
       "      <th>Middle 40%</th>\n",
       "      <td>18.9</td>\n",
       "      <td>29.2</td>\n",
       "      <td>26.0</td>\n",
       "      <td>31.0</td>\n",
       "      <td>30.6</td>\n",
       "      <td>32.5</td>\n",
       "      <td>43.7</td>\n",
       "      <td>40.5</td>\n",
       "    </tr>\n",
       "    <tr>\n",
       "      <th>Top 10%</th>\n",
       "      <td>56.0</td>\n",
       "      <td>56.1</td>\n",
       "      <td>64.0</td>\n",
       "      <td>65.1</td>\n",
       "      <td>55.6</td>\n",
       "      <td>52.6</td>\n",
       "      <td>41.4</td>\n",
       "      <td>47</td>\n",
       "    </tr>\n",
       "    <tr>\n",
       "      <th>Top 1%</th>\n",
       "      <td>30.0</td>\n",
       "      <td>21.3</td>\n",
       "      <td>30.5</td>\n",
       "      <td>19.2</td>\n",
       "      <td>28.3</td>\n",
       "      <td>21.5</td>\n",
       "      <td>13.9</td>\n",
       "      <td>20.2</td>\n",
       "    </tr>\n",
       "    <tr>\n",
       "      <th>Top 0.1%</th>\n",
       "      <td>13.0</td>\n",
       "      <td>8.2</td>\n",
       "      <td>None</td>\n",
       "      <td>None</td>\n",
       "      <td>None</td>\n",
       "      <td>None</td>\n",
       "      <td>6.3</td>\n",
       "      <td>9.3</td>\n",
       "    </tr>\n",
       "    <tr>\n",
       "      <th>Top 0.01%</th>\n",
       "      <td>5.0</td>\n",
       "      <td>3.4</td>\n",
       "      <td>None</td>\n",
       "      <td>None</td>\n",
       "      <td>None</td>\n",
       "      <td>None</td>\n",
       "      <td>3.2</td>\n",
       "      <td>4.4</td>\n",
       "    </tr>\n",
       "  </tbody>\n",
       "</table>\n",
       "</div>"
      ],
      "text/plain": [
       "           Pakistan India Middle East South Africa Brazil Turkey China   USA\n",
       "Bottom 50%     12.0  14.7         9.0          5.0   13.9   14.9  14.8  12.5\n",
       "Middle 40%     18.9  29.2        26.0         31.0   30.6   32.5  43.7  40.5\n",
       "Top 10%        56.0  56.1        64.0         65.1   55.6   52.6  41.4    47\n",
       "Top 1%         30.0  21.3        30.5         19.2   28.3   21.5  13.9  20.2\n",
       "Top 0.1%       13.0   8.2        None         None   None   None   6.3   9.3\n",
       "Top 0.01%       5.0   3.4        None         None   None   None   3.2   4.4"
      ]
     },
     "execution_count": 355,
     "metadata": {},
     "output_type": "execute_result"
    }
   ],
   "source": [
    "d = {\n",
    "    'Pakistan': [\"5.0\", \"13.0\", \"30.0\", \"56.0\", \"18.9\", \"12.0\"][::-1], \n",
    "    'India': [\"3.4\", \"8.2\", \"21.3\", \"56.1\", \"29.2\", \"14.7\"][::-1], \n",
    "    'Turkey': [None, None, \"21.5\", \"52.6\", \"32.5\", \"14.9\"][::-1], \n",
    "    'Middle East': [None, None, \"30.5\", \"64.0\", \"26.0\", \"9.0\"][::-1],\n",
    "    'South Africa': [None, None, \"19.2\" , \"65.1\" , \"31.0\", \"5.0\"][::-1],\n",
    "    'Brazil': [None, None, \"28.3\", \"55.6\", \"30.6\", \"13.9\"][::-1],\n",
    "    'China': [\"3.2\", \"6.3\", \"13.9\", \"41.4\", \"43.7\", \"14.8\"][::-1],\n",
    "    \"USA\": [\"4.4\", \"9.3\" , \"20.2\", \"47\" ,\"40.5\" ,\"12.5\"][::-1],\n",
    "    }\n",
    "\n",
    "comparative = pd.DataFrame(d, [\"Top 0.01%\", \"Top 0.1%\", \"Top 1%\", \"Top 10%\", \"Middle 40%\", \"Bottom 50%\"][::-1])\n",
    "comparative = comparative[[\"Pakistan\", \"India\", \"Middle East\", \"South Africa\", \"Brazil\", \"Turkey\", \"China\", \"USA\"]]\n",
    "comparative"
   ]
  },
  {
   "cell_type": "markdown",
   "metadata": {},
   "source": [
    "### Comparison to Similar Countries, Top 10%, Midde 40%, Bottom 50%"
   ]
  },
  {
   "cell_type": "code",
   "execution_count": 359,
   "metadata": {
    "collapsed": false
   },
   "outputs": [
    {
     "data": {
      "application/vnd.plotly.v1+json": {
       "data": [
        {
         "name": "Top 10%",
         "type": "bar",
         "x": [
          "Pakistan",
          "Middle East",
          "India",
          "South Africa",
          "China"
         ],
         "y": [
          56,
          64,
          56.1,
          65.1,
          41.4
         ]
        },
        {
         "name": "Middle 40%",
         "type": "bar",
         "x": [
          "Pakistan",
          "Middle East",
          "India",
          "South Africa",
          "China"
         ],
         "y": [
          18.9,
          26,
          29.2,
          31,
          43.7
         ]
        },
        {
         "name": "Bottom 50%",
         "type": "bar",
         "x": [
          "Pakistan",
          "Middle East",
          "India",
          "South Africa",
          "China"
         ],
         "y": [
          12,
          9,
          14.7,
          5,
          14.8
         ]
        }
       ],
       "layout": {
        "barmode": "grouped-bar",
        "title": "Comparison to Similar Countries, 2015",
        "yaxis": {
         "title": "Income Share"
        }
       }
      },
      "text/html": [
       "<div id=\"92daa8b6-4494-4d6f-bcce-38c28e552cab\" style=\"height: 525px; width: 100%;\" class=\"plotly-graph-div\"></div><script type=\"text/javascript\">require([\"plotly\"], function(Plotly) { window.PLOTLYENV=window.PLOTLYENV || {};window.PLOTLYENV.BASE_URL=\"https://plot.ly\";Plotly.newPlot(\"92daa8b6-4494-4d6f-bcce-38c28e552cab\", [{\"name\": \"Top 10%\", \"y\": [56.0, 64.0, 56.1, 65.1, 41.4], \"type\": \"bar\", \"x\": [\"Pakistan\", \"Middle East\", \"India\", \"South Africa\", \"China\"]}, {\"name\": \"Middle 40%\", \"y\": [18.9, 26.0, 29.2, 31.0, 43.7], \"type\": \"bar\", \"x\": [\"Pakistan\", \"Middle East\", \"India\", \"South Africa\", \"China\"]}, {\"name\": \"Bottom 50%\", \"y\": [12.0, 9.0, 14.7, 5.0, 14.8], \"type\": \"bar\", \"x\": [\"Pakistan\", \"Middle East\", \"India\", \"South Africa\", \"China\"]}], {\"barmode\": \"grouped-bar\", \"title\": \"Comparison to Similar Countries, 2015\", \"yaxis\": {\"title\": \"Income Share\"}}, {\"showLink\": true, \"linkText\": \"Export to plot.ly\"})});</script>"
      ],
      "text/vnd.plotly.v1+html": [
       "<div id=\"92daa8b6-4494-4d6f-bcce-38c28e552cab\" style=\"height: 525px; width: 100%;\" class=\"plotly-graph-div\"></div><script type=\"text/javascript\">require([\"plotly\"], function(Plotly) { window.PLOTLYENV=window.PLOTLYENV || {};window.PLOTLYENV.BASE_URL=\"https://plot.ly\";Plotly.newPlot(\"92daa8b6-4494-4d6f-bcce-38c28e552cab\", [{\"name\": \"Top 10%\", \"y\": [56.0, 64.0, 56.1, 65.1, 41.4], \"type\": \"bar\", \"x\": [\"Pakistan\", \"Middle East\", \"India\", \"South Africa\", \"China\"]}, {\"name\": \"Middle 40%\", \"y\": [18.9, 26.0, 29.2, 31.0, 43.7], \"type\": \"bar\", \"x\": [\"Pakistan\", \"Middle East\", \"India\", \"South Africa\", \"China\"]}, {\"name\": \"Bottom 50%\", \"y\": [12.0, 9.0, 14.7, 5.0, 14.8], \"type\": \"bar\", \"x\": [\"Pakistan\", \"Middle East\", \"India\", \"South Africa\", \"China\"]}], {\"barmode\": \"grouped-bar\", \"title\": \"Comparison to Similar Countries, 2015\", \"yaxis\": {\"title\": \"Income Share\"}}, {\"showLink\": true, \"linkText\": \"Export to plot.ly\"})});</script>"
      ]
     },
     "metadata": {},
     "output_type": "display_data"
    }
   ],
   "source": [
    "x=[\"Pakistan\", \"Middle East\", \"India\", \"South Africa\", \"China\"]\n",
    "\n",
    "trace1 = go.Bar(\n",
    "    x=x,\n",
    "    y=[56.0, 64.0, 56.1, 65.1, 41.4],\n",
    "    name='Top 10%'\n",
    ")\n",
    "trace2 = go.Bar(\n",
    "    x=x,\n",
    "    y=[18.9, 26.0, 29.2, 31.0, 43.7],\n",
    "    name='Middle 40%'\n",
    ")\n",
    "trace3 = go.Bar(\n",
    "    x=x,\n",
    "    y=[12.0, 9.0, 14.7, 5.0, 14.8],\n",
    "    name='Bottom 50%'\n",
    ")\n",
    "\n",
    "data = [trace1, trace2, trace3]\n",
    "layout = go.Layout(\n",
    "    barmode='group'\n",
    ")\n",
    "\n",
    "layout = dict(title = 'Comparison to Similar Countries, 2015',\n",
    "              yaxis = dict(title = 'Income Share'),\n",
    "              barmode='grouped-bar'\n",
    "              )\n",
    "\n",
    "comparison_select = plotly.offline.iplot({\n",
    "    \"data\": data,\n",
    "    \"layout\": layout\n",
    "})\n",
    "comparison_select"
   ]
  },
  {
   "cell_type": "markdown",
   "metadata": {},
   "source": [
    "### Comparison to Similar Countries, Top 1%, Bottom 50%"
   ]
  },
  {
   "cell_type": "code",
   "execution_count": 361,
   "metadata": {
    "collapsed": false
   },
   "outputs": [
    {
     "data": {
      "application/vnd.plotly.v1+json": {
       "data": [
        {
         "name": "Top 1%",
         "type": "bar",
         "x": [
          "Pakistan",
          "Middle East",
          "India",
          "South Africa",
          "China"
         ],
         "y": [
          30,
          30.5,
          21.3,
          19.2,
          13.9
         ]
        },
        {
         "name": "Bottom 50%",
         "type": "bar",
         "x": [
          "Pakistan",
          "Middle East",
          "India",
          "South Africa",
          "China"
         ],
         "y": [
          12,
          9,
          14.7,
          5,
          14.8
         ]
        }
       ],
       "layout": {
        "barmode": "grouped-bar",
        "title": "Comparison to Similar Countries, 2015",
        "yaxis": {
         "title": "Income Share"
        }
       }
      },
      "text/html": [
       "<div id=\"bf4a7e27-317c-4b2a-b5a9-9f11ebe3515a\" style=\"height: 525px; width: 100%;\" class=\"plotly-graph-div\"></div><script type=\"text/javascript\">require([\"plotly\"], function(Plotly) { window.PLOTLYENV=window.PLOTLYENV || {};window.PLOTLYENV.BASE_URL=\"https://plot.ly\";Plotly.newPlot(\"bf4a7e27-317c-4b2a-b5a9-9f11ebe3515a\", [{\"name\": \"Top 1%\", \"y\": [30.0, 30.5, 21.3, 19.2, 13.9], \"type\": \"bar\", \"x\": [\"Pakistan\", \"Middle East\", \"India\", \"South Africa\", \"China\"]}, {\"name\": \"Bottom 50%\", \"y\": [12.0, 9.0, 14.7, 5.0, 14.8], \"type\": \"bar\", \"x\": [\"Pakistan\", \"Middle East\", \"India\", \"South Africa\", \"China\"]}], {\"barmode\": \"grouped-bar\", \"title\": \"Comparison to Similar Countries, 2015\", \"yaxis\": {\"title\": \"Income Share\"}}, {\"showLink\": true, \"linkText\": \"Export to plot.ly\"})});</script>"
      ],
      "text/vnd.plotly.v1+html": [
       "<div id=\"bf4a7e27-317c-4b2a-b5a9-9f11ebe3515a\" style=\"height: 525px; width: 100%;\" class=\"plotly-graph-div\"></div><script type=\"text/javascript\">require([\"plotly\"], function(Plotly) { window.PLOTLYENV=window.PLOTLYENV || {};window.PLOTLYENV.BASE_URL=\"https://plot.ly\";Plotly.newPlot(\"bf4a7e27-317c-4b2a-b5a9-9f11ebe3515a\", [{\"name\": \"Top 1%\", \"y\": [30.0, 30.5, 21.3, 19.2, 13.9], \"type\": \"bar\", \"x\": [\"Pakistan\", \"Middle East\", \"India\", \"South Africa\", \"China\"]}, {\"name\": \"Bottom 50%\", \"y\": [12.0, 9.0, 14.7, 5.0, 14.8], \"type\": \"bar\", \"x\": [\"Pakistan\", \"Middle East\", \"India\", \"South Africa\", \"China\"]}], {\"barmode\": \"grouped-bar\", \"title\": \"Comparison to Similar Countries, 2015\", \"yaxis\": {\"title\": \"Income Share\"}}, {\"showLink\": true, \"linkText\": \"Export to plot.ly\"})});</script>"
      ]
     },
     "metadata": {},
     "output_type": "display_data"
    }
   ],
   "source": [
    "x=[\"Pakistan\", \"Middle East\", \"India\", \"South Africa\", \"China\"]\n",
    "\n",
    "trace1 = go.Bar(\n",
    "    x=x,\n",
    "    y=[30.0, 30.5, 21.3, 19.2, 13.9],\n",
    "    name='Top 1%'\n",
    ")\n",
    "# trace2 = go.Bar(\n",
    "#     x=x,\n",
    "#     y=[18.9, 26.0, 29.2, 31.0, 43.7],\n",
    "#     name='Middle 40%'\n",
    "# )\n",
    "trace3 = go.Bar(\n",
    "    x=x,\n",
    "    y=[12.0, 9.0, 14.7, 5.0, 14.8],\n",
    "    name='Bottom 50%'\n",
    ")\n",
    "\n",
    "data = [trace1, trace3]\n",
    "layout = go.Layout(\n",
    "    barmode='group'\n",
    ")\n",
    "\n",
    "layout = dict(title = 'Comparison to Similar Countries, 2015',\n",
    "              yaxis = dict(title = 'Income Share'),\n",
    "              barmode='grouped-bar'\n",
    "              )\n",
    "\n",
    "comparison_select_select = plotly.offline.iplot({\n",
    "    \"data\": data,\n",
    "    \"layout\": layout\n",
    "})\n",
    "comparison_select_select"
   ]
  },
  {
   "cell_type": "markdown",
   "metadata": {
    "collapsed": true
   },
   "source": [
    "### National Income Growth in Pakistan, 2012 - 2016"
   ]
  },
  {
   "cell_type": "markdown",
   "metadata": {},
   "source": [
    "This shows us we cannot use growth rates or undergo any significant analysis of growth rates as the surveys are self-contained. This result holds as we change the dates, for any section between 2004 - 2016. As we saw with the 'survey growth rates' table, we cannot make any significant assumptions about changes across time."
   ]
  },
  {
   "cell_type": "code",
   "execution_count": 274,
   "metadata": {
    "collapsed": false
   },
   "outputs": [],
   "source": [
    "ni = pd.read_excel(\"./miscData/national_income.xlsx\")"
   ]
  },
  {
   "cell_type": "code",
   "execution_count": 275,
   "metadata": {
    "collapsed": true
   },
   "outputs": [],
   "source": [
    "nigrowth = (ni[ni[\"Year\"] == 2016][\"National Income\"].values[0] - ni[ni[\"Year\"] == 2013][\"National Income\"].values[0]) / ni[ni[\"Year\"] == 2013][\"National Income\"].values[0]"
   ]
  },
  {
   "cell_type": "code",
   "execution_count": 276,
   "metadata": {
    "collapsed": true
   },
   "outputs": [],
   "source": [
    "b90_data2012, b90_weights2012, ib902012 = bottom_percentiles(0.9, get_survey_table(\"individual\", 2012)[\"income\"], get_survey_table(\"individual\", 2012)[\"weights\"])\n",
    "t10_data2012, t10_weights2012, it102012 = top_percentiles(0.1, get_survey_table(\"individual\", 2012)[\"income\"], get_survey_table(\"individual\", 2012)[\"weights\"])\n",
    "\n",
    "b90_data2015, b90_weights2015, ib902015 = bottom_percentiles(0.9, get_survey_table(\"individual\", 2015)[\"income\"], get_survey_table(\"individual\", 2015)[\"weights\"])\n",
    "t10_data2015, t10_weights2015, it102015 = top_percentiles(0.1, get_survey_table(\"individual\", 2015)[\"income\"], get_survey_table(\"individual\", 2015)[\"weights\"])\n",
    "\n",
    "b90_growth = (weighted_sum(b90_data2015, b90_weights2015) - weighted_sum(b90_data2012, b90_weights2012)) / weighted_sum(b90_data2012, b90_weights2012)\n",
    "t10_growth = (weighted_sum(t10_data2015, t10_weights2015) - weighted_sum(t10_data2012, t10_weights2012)) / weighted_sum(t10_data2012, t10_weights2012)\n",
    "\n",
    "t10_survey = t10_growth\n",
    "b90_survey = b90_growth"
   ]
  },
  {
   "cell_type": "code",
   "execution_count": 277,
   "metadata": {
    "collapsed": false
   },
   "outputs": [],
   "source": [
    "b90_data2012, b90_weights2012, ib902012 = bottom_percentiles(0.9, get_final_table(2012, \"salaried\")[\"income\"], get_final_table(2012, \"salaried\")[\"weights\"])\n",
    "t10_data2012, t10_weights2012, it102012 = top_percentiles(0.1, get_final_table(2012, \"salaried\")[\"income\"], get_final_table(2012, \"salaried\")[\"weights\"])\n",
    "\n",
    "b90_data2015, b90_weights2015, ib902015 = bottom_percentiles(0.9, get_final_table(2015, \"salaried\")[\"income\"], get_final_table(2015, \"salaried\")[\"weights\"])\n",
    "t10_data2015, t10_weights2015, it102015 = top_percentiles(0.1, get_final_table(2015, \"salaried\")[\"income\"], get_final_table(2015, \"salaried\")[\"weights\"])\n",
    "\n",
    "b90_growth = (weighted_sum(b90_data2015, b90_weights2015) - weighted_sum(b90_data2012, b90_weights2012)) / weighted_sum(b90_data2012, b90_weights2012)\n",
    "t10_growth = (weighted_sum(t10_data2015, t10_weights2015) - weighted_sum(t10_data2012, t10_weights2012)) / weighted_sum(t10_data2012, t10_weights2012)\n",
    "\n",
    "t10_final = t10_growth\n",
    "b90_final = b90_growth"
   ]
  },
  {
   "cell_type": "code",
   "execution_count": 278,
   "metadata": {
    "collapsed": false
   },
   "outputs": [
    {
     "data": {
      "application/vnd.plotly.v1+json": {
       "data": [
        {
         "marker": {
          "color": "rgb(148, 103, 189)"
         },
         "name": "All Percentiles",
         "type": "bar",
         "x": [
          "National Accounts",
          "PSLM HIES Survey",
          "Constructed Survey and Tax Data"
         ],
         "y": [
          0.14758980109803374,
          null,
          null
         ]
        },
        {
         "marker": {
          "color": "rgb(31, 119, 180)"
         },
         "name": "Bottom 90% contribution",
         "type": "bar",
         "x": [
          "National Accounts",
          "PSLM HIES Survey",
          "Constructed Survey and Tax Data"
         ],
         "y": [
          null,
          0.36476626569354953,
          0.3647622442017803
         ]
        },
        {
         "marker": {
          "color": "rgb(214, 39, 40)"
         },
         "name": "Top 10% Contribution",
         "type": "bar",
         "x": [
          "National Accounts",
          "PSLM HIES Survey",
          "Constructed Survey and Tax Data"
         ],
         "y": [
          null,
          0.2326888326067697,
          0.18694450706667898
         ]
        }
       ],
       "layout": {
        "barmode": "stack",
        "title": "National Income Growth in Pakistan, 2012 - 2016",
        "yaxis": {
         "title": "Total growth (%)"
        }
       }
      },
      "text/html": [
       "<div id=\"775ab8be-e32c-4c73-906d-6a3a5a1977f8\" style=\"height: 525px; width: 100%;\" class=\"plotly-graph-div\"></div><script type=\"text/javascript\">require([\"plotly\"], function(Plotly) { window.PLOTLYENV=window.PLOTLYENV || {};window.PLOTLYENV.BASE_URL=\"https://plot.ly\";Plotly.newPlot(\"775ab8be-e32c-4c73-906d-6a3a5a1977f8\", [{\"name\": \"All Percentiles\", \"y\": [0.14758980109803374, null, null], \"type\": \"bar\", \"marker\": {\"color\": \"rgb(148, 103, 189)\"}, \"x\": [\"National Accounts\", \"PSLM HIES Survey\", \"Constructed Survey and Tax Data\"]}, {\"name\": \"Bottom 90% contribution\", \"y\": [null, 0.36476626569354953, 0.3647622442017803], \"type\": \"bar\", \"marker\": {\"color\": \"rgb(31, 119, 180)\"}, \"x\": [\"National Accounts\", \"PSLM HIES Survey\", \"Constructed Survey and Tax Data\"]}, {\"name\": \"Top 10% Contribution\", \"y\": [null, 0.2326888326067697, 0.18694450706667898], \"type\": \"bar\", \"marker\": {\"color\": \"rgb(214, 39, 40)\"}, \"x\": [\"National Accounts\", \"PSLM HIES Survey\", \"Constructed Survey and Tax Data\"]}], {\"barmode\": \"stack\", \"title\": \"National Income Growth in Pakistan, 2012 - 2016\", \"yaxis\": {\"title\": \"Total growth (%)\"}}, {\"showLink\": true, \"linkText\": \"Export to plot.ly\"})});</script>"
      ],
      "text/vnd.plotly.v1+html": [
       "<div id=\"775ab8be-e32c-4c73-906d-6a3a5a1977f8\" style=\"height: 525px; width: 100%;\" class=\"plotly-graph-div\"></div><script type=\"text/javascript\">require([\"plotly\"], function(Plotly) { window.PLOTLYENV=window.PLOTLYENV || {};window.PLOTLYENV.BASE_URL=\"https://plot.ly\";Plotly.newPlot(\"775ab8be-e32c-4c73-906d-6a3a5a1977f8\", [{\"name\": \"All Percentiles\", \"y\": [0.14758980109803374, null, null], \"type\": \"bar\", \"marker\": {\"color\": \"rgb(148, 103, 189)\"}, \"x\": [\"National Accounts\", \"PSLM HIES Survey\", \"Constructed Survey and Tax Data\"]}, {\"name\": \"Bottom 90% contribution\", \"y\": [null, 0.36476626569354953, 0.3647622442017803], \"type\": \"bar\", \"marker\": {\"color\": \"rgb(31, 119, 180)\"}, \"x\": [\"National Accounts\", \"PSLM HIES Survey\", \"Constructed Survey and Tax Data\"]}, {\"name\": \"Top 10% Contribution\", \"y\": [null, 0.2326888326067697, 0.18694450706667898], \"type\": \"bar\", \"marker\": {\"color\": \"rgb(214, 39, 40)\"}, \"x\": [\"National Accounts\", \"PSLM HIES Survey\", \"Constructed Survey and Tax Data\"]}], {\"barmode\": \"stack\", \"title\": \"National Income Growth in Pakistan, 2012 - 2016\", \"yaxis\": {\"title\": \"Total growth (%)\"}}, {\"showLink\": true, \"linkText\": \"Export to plot.ly\"})});</script>"
      ]
     },
     "metadata": {},
     "output_type": "display_data"
    }
   ],
   "source": [
    "x=[\"National Accounts\", \"PSLM HIES Survey\", \"Constructed Survey and Tax Data\"]\n",
    "\n",
    "trace1 = go.Bar(\n",
    "    x=x,\n",
    "    y=[None, b90_survey, b90_final],\n",
    "    name='Bottom 90% contribution',\n",
    "    marker = dict(color = ('rgb(31, 119, 180)'))   \n",
    ")\n",
    "trace2 = go.Bar(\n",
    "    x=x,\n",
    "    y=[None, t10_survey, t10_final],\n",
    "    name='Top 10% Contribution',\n",
    "    marker = dict(color = ('rgb(214, 39, 40)'))\n",
    ")\n",
    "trace3 = go.Bar(\n",
    "    x=x,\n",
    "    y=[nigrowth, None, None],\n",
    "    name='All Percentiles',\n",
    "    marker = dict(color = ('rgb(148, 103, 189)'))\n",
    ")\n",
    "\n",
    "data = [trace3, trace1, trace2]\n",
    "\n",
    "layout = dict(title = 'National Income Growth in Pakistan, 2012 - 2016',\n",
    "              yaxis = dict(title = 'Total growth (%)'),\n",
    "              barmode='stack'\n",
    "              )\n",
    "\n",
    "national_income_growth_2015 = plotly.offline.iplot({\n",
    "    \"data\": data,\n",
    "    \"layout\": layout\n",
    "})\n",
    "national_income_growth_2015"
   ]
  },
  {
   "cell_type": "markdown",
   "metadata": {},
   "source": [
    "### Regarding Other Datasets"
   ]
  },
  {
   "cell_type": "markdown",
   "metadata": {},
   "source": [
    "Found this dataset that has numbers very different to ours. Definition is as follows:\n",
    "\n",
    "World Bank, Development Research Group. Data are based on primary household survey data obtained from government statistical agencies and World Bank country departments. Data for high-income economies are from the Luxembourg Income Study database. For more information and methodology, please see PovcalNet (http://iresearch.worldbank.org/PovcalNet/index.htm).\n",
    "\n",
    "What's interesting is that it doesn't even match up with our household survey data. Further research finding this survey data, combining it with our tax data would be useful."
   ]
  },
  {
   "cell_type": "code",
   "execution_count": 279,
   "metadata": {
    "collapsed": false
   },
   "outputs": [],
   "source": [
    "pak_world_bank_indicators = pd.read_excel(\"./miscData/world_bank_bottom20_income_share_and_population.xlsx\")"
   ]
  },
  {
   "cell_type": "code",
   "execution_count": 280,
   "metadata": {
    "collapsed": false
   },
   "outputs": [
    {
     "data": {
      "text/html": [
       "<div>\n",
       "<table border=\"1\" class=\"dataframe\">\n",
       "  <thead>\n",
       "    <tr style=\"text-align: right;\">\n",
       "      <th></th>\n",
       "      <th>Country Name</th>\n",
       "      <th>Country Code</th>\n",
       "      <th>Series Name</th>\n",
       "      <th>Series Code</th>\n",
       "      <th>1990 [YR1990]</th>\n",
       "      <th>2000 [YR2000]</th>\n",
       "      <th>2009 [YR2009]</th>\n",
       "      <th>2010 [YR2010]</th>\n",
       "      <th>2011 [YR2011]</th>\n",
       "      <th>2012 [YR2012]</th>\n",
       "      <th>2013 [YR2013]</th>\n",
       "      <th>2014 [YR2014]</th>\n",
       "      <th>2015 [YR2015]</th>\n",
       "      <th>2016 [YR2016]</th>\n",
       "      <th>2017 [YR2017]</th>\n",
       "      <th>2018 [YR2018]</th>\n",
       "    </tr>\n",
       "  </thead>\n",
       "  <tbody>\n",
       "    <tr>\n",
       "      <th>11</th>\n",
       "      <td>Pakistan</td>\n",
       "      <td>PAK</td>\n",
       "      <td>Income share held by lowest 20%</td>\n",
       "      <td>SI.DST.FRST.20</td>\n",
       "      <td>8.1</td>\n",
       "      <td>..</td>\n",
       "      <td>..</td>\n",
       "      <td>9.6</td>\n",
       "      <td>9.3</td>\n",
       "      <td>..</td>\n",
       "      <td>9.2</td>\n",
       "      <td>..</td>\n",
       "      <td>8.9</td>\n",
       "      <td>..</td>\n",
       "      <td>..</td>\n",
       "      <td>..</td>\n",
       "    </tr>\n",
       "  </tbody>\n",
       "</table>\n",
       "</div>"
      ],
      "text/plain": [
       "   Country Name Country Code                      Series Name     Series Code  \\\n",
       "11     Pakistan          PAK  Income share held by lowest 20%  SI.DST.FRST.20   \n",
       "\n",
       "   1990 [YR1990] 2000 [YR2000] 2009 [YR2009] 2010 [YR2010] 2011 [YR2011]  \\\n",
       "11           8.1            ..            ..           9.6           9.3   \n",
       "\n",
       "   2012 [YR2012] 2013 [YR2013] 2014 [YR2014] 2015 [YR2015] 2016 [YR2016]  \\\n",
       "11            ..           9.2            ..           8.9            ..   \n",
       "\n",
       "   2017 [YR2017] 2018 [YR2018]  \n",
       "11            ..            ..  "
      ]
     },
     "execution_count": 280,
     "metadata": {},
     "output_type": "execute_result"
    }
   ],
   "source": [
    "lowest_20_income = pak_world_bank_indicators[pak_world_bank_indicators[\"Series Code\"] == \"SI.DST.FRST.20\"]\n",
    "lowest_20_income"
   ]
  },
  {
   "cell_type": "code",
   "execution_count": 281,
   "metadata": {
    "collapsed": false
   },
   "outputs": [
    {
     "name": "stdout",
     "output_type": "stream",
     "text": [
      "Lowest 20% Income Share, PSLM HIES Survey:  3.0 %\n"
     ]
    }
   ],
   "source": [
    "print(\"Lowest 20% Income Share, PSLM HIES Survey: \", calculate_income_share(\"salaried\", 2015, 0.2, top=False, t_func_diff=True, t_func=get_survey_table) * 100, \"%\")"
   ]
  },
  {
   "cell_type": "code",
   "execution_count": 282,
   "metadata": {
    "collapsed": false
   },
   "outputs": [
    {
     "name": "stdout",
     "output_type": "stream",
     "text": [
      "Lowest 20% Income Share, Constructed Dataset:  2.0 %\n"
     ]
    }
   ],
   "source": [
    "print(\"Lowest 20% Income Share, Constructed Dataset: \", calculate_income_share(\"salaried\", 2015, 0.2, top=False) * 100, \"%\")"
   ]
  },
  {
   "cell_type": "markdown",
   "metadata": {},
   "source": [
    "# Export Data"
   ]
  },
  {
   "cell_type": "code",
   "execution_count": 120,
   "metadata": {
    "collapsed": true
   },
   "outputs": [],
   "source": [
    "# with open('./finalData/finalGraphsAndTables/survey_growth_rates.pkl', 'wb') as f: pickle.dump(survey_growth_rates, f)"
   ]
  },
  {
   "cell_type": "raw",
   "metadata": {},
   "source": [
    "Notes for potential things to add in order of priority:\n",
    "\n",
    "1) Can make this functions much faster (as well as functions in other notebooks) by sticking to the numpy module. There are a lot of places where I do 'sum(list(...))' which is woefully inefficient.\n",
    "\n",
    "2) There are definitely more graphs that one can construct from this data. Please feel free to add and put in a pull request so we can add it to this repository."
   ]
  },
  {
   "cell_type": "markdown",
   "metadata": {},
   "source": [
    "Please make use of this analysis and reach out at ali.ahmed@berkeley.edu if you need any help setting it up, or understanding some of the data. My hope is that this can serve as a starting point for others to move forward with inequality research in Pakistan so society can better understand the impact of economic policy."
   ]
  }
 ],
 "metadata": {
  "anaconda-cloud": {},
  "kernelspec": {
   "display_name": "Python [conda root]",
   "language": "python",
   "name": "conda-root-py"
  },
  "language_info": {
   "codemirror_mode": {
    "name": "ipython",
    "version": 3
   },
   "file_extension": ".py",
   "mimetype": "text/x-python",
   "name": "python",
   "nbconvert_exporter": "python",
   "pygments_lexer": "ipython3",
   "version": "3.5.2"
  }
 },
 "nbformat": 4,
 "nbformat_minor": 2
}
