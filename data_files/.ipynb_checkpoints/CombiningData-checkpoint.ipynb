{
 "cells": [
  {
   "cell_type": "code",
   "execution_count": 1,
   "metadata": {
    "collapsed": false
   },
   "outputs": [],
   "source": [
    "import numpy as np\n",
    "import pandas as pd\n",
    "import pickle\n",
    "from scipy.stats import rankdata"
   ]
  },
  {
   "cell_type": "code",
   "execution_count": 2,
   "metadata": {
    "collapsed": true
   },
   "outputs": [],
   "source": [
    "pd.options.display.max_columns = None"
   ]
  },
  {
   "cell_type": "markdown",
   "metadata": {},
   "source": [
    "# Load Data"
   ]
  },
  {
   "cell_type": "code",
   "execution_count": 3,
   "metadata": {
    "collapsed": false
   },
   "outputs": [],
   "source": [
    "''' ====================== INDIVIDUAL BALANCE SHEETS ======================'''\n",
    "\n",
    "with open('./finalData/individual_balance_sheet_2004_05.pkl', 'rb') as f: individual_balance_sheet_2004_05 = pickle.load(f)\n",
    "with open('./finalData/individual_balance_sheet_2005_06.pkl', 'rb') as f: individual_balance_sheet_2005_06 = pickle.load(f)\n",
    "with open('./finalData/individual_balance_sheet_2006_07.pkl', 'rb') as f: individual_balance_sheet_2006_07 = pickle.load(f)\n",
    "with open('./finalData/individual_balance_sheet_2007_08.pkl', 'rb') as f: individual_balance_sheet_2007_08 = pickle.load(f)\n",
    "with open('./finalData/individual_balance_sheet_2008_09.pkl', 'rb') as f: individual_balance_sheet_2008_09 = pickle.load(f)\n",
    "with open('./finalData/individual_balance_sheet_2010_11.pkl', 'rb') as f: individual_balance_sheet_2010_11 = pickle.load(f)\n",
    "with open('./finalData/individual_balance_sheet_2011_12.pkl', 'rb') as f: individual_balance_sheet_2011_12 = pickle.load(f)\n",
    "with open('./finalData/individual_balance_sheet_2012_13.pkl', 'rb') as f: individual_balance_sheet_2012_13 = pickle.load(f)\n",
    "with open('./finalData/individual_balance_sheet_2013_14.pkl', 'rb') as f: individual_balance_sheet_2013_14 = pickle.load(f)\n",
    "with open('./finalData/individual_balance_sheet_2014_15.pkl', 'rb') as f: individual_balance_sheet_2014_15 = pickle.load(f)\n",
    "with open('./finalData/individual_balance_sheet_2015_16.pkl', 'rb') as f: individual_balance_sheet_2015_16 = pickle.load(f)\n",
    "    \n",
    "''' ============================== TAX DATA ======================'''\n",
    "\n",
    "with open('./finalData/taxes_paid_2012_13.pkl', 'rb') as f: taxes_paid_2012_13 = pickle.load(f)\n",
    "with open('./finalData/taxes_paid_2013_14.pkl', 'rb') as f: taxes_paid_2013_14 = pickle.load(f)\n",
    "with open('./finalData/taxes_paid_2014_15.pkl', 'rb') as f: taxes_paid_2014_15 = pickle.load(f)\n",
    "with open('./finalData/taxes_paid_2015_16.pkl', 'rb') as f: taxes_paid_2015_16 = pickle.load(f)\n",
    "with open('./finalData/taxes_paid_2016_17.pkl', 'rb') as f: taxes_paid_2016_17 = pickle.load(f)\n",
    "    \n",
    "with open('./finalData/taxable_incomes_nonsalaried_2012_13.pkl', 'rb') as f: taxable_incomes_nonsalaried_2012_13 = pickle.load(f)\n",
    "with open('./finalData/taxable_incomes_nonsalaried_2013_14.pkl', 'rb') as f: taxable_incomes_nonsalaried_2013_14 = pickle.load(f)\n",
    "with open('./finalData/taxable_incomes_nonsalaried_2014_15.pkl', 'rb') as f: taxable_incomes_nonsalaried_2014_15 = pickle.load(f)\n",
    "with open('./finalData/taxable_incomes_nonsalaried_2015_16.pkl', 'rb') as f: taxable_incomes_nonsalaried_2015_16 = pickle.load(f)\n",
    "with open('./finalData/taxable_incomes_nonsalaried_2016_17.pkl', 'rb') as f: taxable_incomes_nonsalaried_2016_17 = pickle.load(f)\n",
    "    \n",
    "with open('./finalData/taxable_incomes_salaried_2012_13.pkl', 'rb') as f: taxable_incomes_salaried_2012_13 = pickle.load(f)\n",
    "with open('./finalData/taxable_incomes_salaried_2013_14.pkl', 'rb') as f: taxable_incomes_salaried_2013_14 = pickle.load(f)\n",
    "with open('./finalData/taxable_incomes_salaried_2014_15.pkl', 'rb') as f: taxable_incomes_salaried_2014_15 = pickle.load(f)\n",
    "with open('./finalData/taxable_incomes_salaried_2015_16.pkl', 'rb') as f: taxable_incomes_salaried_2015_16 = pickle.load(f)\n",
    "with open('./finalData/taxable_incomes_salaried_2016_17.pkl', 'rb') as f: taxable_incomes_salaried_2016_17 = pickle.load(f)"
   ]
  },
  {
   "cell_type": "markdown",
   "metadata": {},
   "source": [
    "# Combine Data"
   ]
  },
  {
   "cell_type": "markdown",
   "metadata": {},
   "source": [
    "Here we will find where to combine the tax and survey data, extend the tax data that we have to cover more years using growth rates from the survey data, and finally combine that derived income data from taxes with survey data.\n",
    "\n",
    "Again, the reason we are doing this is because the tax data is generally more accurate then the survey data. Once we make assumptions about our tax data, we will test it against the applicable entries in the survey data to compare distributions, before replacing.\n",
    "\n",
    "A word on the idea of extending the tax data. I want to stress that survey data is highly unsatisfactory for tracking income growth for top earners, but it is better than no data at all. ** We must keep in mind that the most accurate statistics for income shares will be from 2012 onwards**, given that we will be using survey growth rates."
   ]
  },
  {
   "cell_type": "markdown",
   "metadata": {},
   "source": [
    "Below are the final tables that we create. We make a variety of assumptions about the distribution of salaried VS unsalaried workers within our tax data, level of tax deduction, and what weighting we should use given that our sample only covers around 10% of the population of top incomes we are trying to estimate."
   ]
  },
  {
   "cell_type": "markdown",
   "metadata": {},
   "source": [
    "**Final Combined Microdata**"
   ]
  },
  {
   "cell_type": "raw",
   "metadata": {},
   "source": [
    "final_incomes_2015_ASSUMP_salaried\n",
    "final_incomes_2015_ASSUMP_nonsalaried\n",
    "\n",
    "final_incomes_2014_ASSUMP_salaried\n",
    "final_incomes_2014_ASSUMP_nonsalaried\n",
    "\n",
    "final_incomes_2013_ASSUMP_salaried\n",
    "final_incomes_2013_ASSUMP_nonsalaried\n",
    "\n",
    "final_incomes_2012_ASSUMP_salaried\n",
    "final_incomes_2012_ASSUMP_nonsalaried\n",
    "\n",
    "final_incomes_2011_ASSUMP_salaried\n",
    "final_incomes_2011_ASSUMP_nonsalaried\n",
    "\n",
    "final_incomes_2010_ASSUMP_salaried\n",
    "final_incomes_2010_ASSUMP_nonsalaried\n",
    "\n",
    "final_incomes_2008_ASSUMP_salaried\n",
    "final_incomes_2008_ASSUMP_nonsalaried\n",
    "\n",
    "final_incomes_2007_ASSUMP_salaried\n",
    "final_incomes_2007_ASSUMP_nonsalaried\n",
    "\n",
    "final_incomes_2006_ASSUMP_salaried\n",
    "final_incomes_2006_ASSUMP_nonsalaried\n",
    "\n",
    "final_incomes_2005_ASSUMP_salaried\n",
    "final_incomes_2005_ASSUMP_nonsalaried\n",
    "\n",
    "final_incomes_2004_ASSUMP_salaried\n",
    "final_incomes_2004_ASSUMP_nonsalaried"
   ]
  },
  {
   "cell_type": "markdown",
   "metadata": {},
   "source": [
    "**Final Graphs and Tables**"
   ]
  },
  {
   "cell_type": "raw",
   "metadata": {},
   "source": [
    "survey_growth_rates\n",
    "junction_percentiles"
   ]
  },
  {
   "cell_type": "markdown",
   "metadata": {},
   "source": [
    "## Finding Junction Percentiles"
   ]
  },
  {
   "cell_type": "markdown",
   "metadata": {},
   "source": [
    "The tax data is only valid for incomes above the exemption level. Therefore, to combine the data, we will need to remove all samples above the exemption level in the survey data, correct the tax data by moving it back six months to be in line with the survey data, and then combine the two data sources. Let's first find the percentiles and indices where this occurs in the survey data."
   ]
  },
  {
   "cell_type": "markdown",
   "metadata": {},
   "source": [
    "**Section Final Data**"
   ]
  },
  {
   "cell_type": "raw",
   "metadata": {},
   "source": [
    "incomes_2004_05\n",
    "percentiles_2004_05\n",
    "i_2004_05\n",
    "\n",
    "incomes_2005_06\n",
    "percentiles_2005_06\n",
    "i_2005_06\n",
    "\n",
    "incomes_2006_07\n",
    "percentiles_2006_07\n",
    "i_2006_07\n",
    "\n",
    "incomes_2007_08\n",
    "percentiles_2007_08\n",
    "i_2007_08_salaried\n",
    "i_2007_08_nonsalaried\n",
    "\n",
    "incomes_2008_09\n",
    "percentiles_2008_09\n",
    "i_2008_09_salaried\n",
    "i_2008_09_nonsalaried\n",
    "\n",
    "incomes_2010_11\n",
    "percentiles_2010_11\n",
    "i_2010_11\n",
    "\n",
    "incomes_2011_12\n",
    "percentiles_2011_12\n",
    "i_2011_12\n",
    "\n",
    "incomes_2012_13\n",
    "percentiles_2012_13\n",
    "i_2012_13\n",
    "\n",
    "incomes_2013_14\n",
    "percentiles_2013_14\n",
    "i_2013_14\n",
    "\n",
    "incomes_2014_15\n",
    "percentiles_2014_15\n",
    "i_2014_15\n",
    "\n",
    "incomes_2015_16\n",
    "percentiles_2015_16\n",
    "i_2015_16"
   ]
  },
  {
   "cell_type": "markdown",
   "metadata": {},
   "source": [
    "**Helper Functions**"
   ]
  },
  {
   "cell_type": "code",
   "execution_count": 4,
   "metadata": {
    "collapsed": true
   },
   "outputs": [],
   "source": [
    "def get_percentiles(d):\n",
    "    return (rankdata(d, 'min')-1)/len(d)"
   ]
  },
  {
   "cell_type": "markdown",
   "metadata": {},
   "source": [
    "Let's begin! 💯"
   ]
  },
  {
   "cell_type": "markdown",
   "metadata": {},
   "source": [
    "**2004**"
   ]
  },
  {
   "cell_type": "markdown",
   "metadata": {},
   "source": [
    "The reason we are calculating the junctions for these years, despite not having the tax data, is because we will extrapolate the tax data in the next section. We need to know what the replacement junction should be for the extrapolated tax years.\n",
    "\n",
    "Also if the Federal Bureau of Revenue ever decides to release tax data for these years, we will have the junctions ready.\n",
    "\n",
    "I want to stress that survey data is highly unsatisfactory for tracking income growth for top earners, but it is better than no data at all. ** We must keep in mind that the most accurate statistics for income shares will be from 2012 onwards**, given that we will use survey growth rates."
   ]
  },
  {
   "cell_type": "code",
   "execution_count": 5,
   "metadata": {
    "collapsed": false
   },
   "outputs": [
    {
     "name": "stdout",
     "output_type": "stream",
     "text": [
      "80.3 junction percentile\n"
     ]
    }
   ],
   "source": [
    "# 80,000 exemption limit\n",
    "incomes_2004_05 = list(individual_balance_sheet_2004_05[\"income\"].sort_values())\n",
    "percentiles_2004_05 = get_percentiles(incomes_2004_05)\n",
    "i_2004_05 = 0\n",
    "while incomes_2004_05[i_2004_05] < 80000:\n",
    "    i_2004_05 += 1\n",
    "print(round(percentiles_2004_05[i_2004_05] * 100, 2), \"junction percentile\")"
   ]
  },
  {
   "cell_type": "markdown",
   "metadata": {},
   "source": [
    "**2005**"
   ]
  },
  {
   "cell_type": "code",
   "execution_count": 6,
   "metadata": {
    "collapsed": false
   },
   "outputs": [
    {
     "name": "stdout",
     "output_type": "stream",
     "text": [
      "85.74 junction percentile\n"
     ]
    }
   ],
   "source": [
    "# 100,000 exemption limit (src. ./taxpayerData/supplemental_tax_information/taxRates2005-2006)\n",
    "incomes_2005_06 = list(individual_balance_sheet_2005_06[\"income\"].sort_values())\n",
    "percentiles_2005_06 = get_percentiles(incomes_2005_06)\n",
    "i_2005_06 = 0\n",
    "while incomes_2005_06[i_2005_06] < 100000:\n",
    "    i_2005_06 += 1\n",
    "print(round(percentiles_2005_06[i_2005_06] * 100, 2), \"junction percentile\")"
   ]
  },
  {
   "cell_type": "markdown",
   "metadata": {},
   "source": [
    "** 2006**"
   ]
  },
  {
   "cell_type": "code",
   "execution_count": 7,
   "metadata": {
    "collapsed": false
   },
   "outputs": [
    {
     "name": "stdout",
     "output_type": "stream",
     "text": [
      "85.47 junction percentile\n"
     ]
    }
   ],
   "source": [
    "# 100,000 exemption limit (src. ./taxpayerData/supplemental_tax_information/taxRates2006-2007)\n",
    "incomes_2006_07 = list(individual_balance_sheet_2006_07[\"income\"].sort_values())\n",
    "percentiles_2006_07 = get_percentiles(incomes_2006_07)\n",
    "i_2006_07 = 0\n",
    "while incomes_2006_07[i_2006_07] < 100000:\n",
    "    i_2006_07 += 1\n",
    "print(round(percentiles_2006_07[i_2006_07] * 100, 2), \"junction percentile\")"
   ]
  },
  {
   "cell_type": "markdown",
   "metadata": {},
   "source": [
    "** 2007**"
   ]
  },
  {
   "cell_type": "markdown",
   "metadata": {},
   "source": [
    "For this year, there are different exemption levels based on salaried VS non-salaried earners. We keep both for correctness."
   ]
  },
  {
   "cell_type": "code",
   "execution_count": 8,
   "metadata": {
    "collapsed": false
   },
   "outputs": [
    {
     "name": "stdout",
     "output_type": "stream",
     "text": [
      "89.65 junction percentile, salaried\n",
      "78.28 junction percentile, nonsalaried\n"
     ]
    }
   ],
   "source": [
    "# 150,000 exemption limit for salaried earners (src. ./taxpayerData/supplemental_tax_information/taxRates2007-2008)\n",
    "incomes_2007_08 = list(individual_balance_sheet_2007_08[\"income\"].sort_values())\n",
    "percentiles_2007_08 = get_percentiles(incomes_2007_08)\n",
    "i_2007_08_salaried = 0\n",
    "while incomes_2007_08[i_2007_08_salaried] < 150000:\n",
    "    i_2007_08_salaried += 1\n",
    "print(round(percentiles_2007_08[i_2007_08_salaried] * 100, 2), \"junction percentile, salaried\")\n",
    "\n",
    "# 100,000 exemption limit for non-salaried earners (src. ./taxpayerData/supplemental_tax_information/taxRates2007-2008)\n",
    "incomes_2007_08 = list(individual_balance_sheet_2007_08[\"income\"].sort_values())\n",
    "percentiles_2007_08 = get_percentiles(incomes_2007_08)\n",
    "i_2007_08_nonsalaried = 0\n",
    "while incomes_2007_08[i_2007_08_nonsalaried] < 100000:\n",
    "    i_2007_08_nonsalaried += 1\n",
    "print(round(percentiles_2007_08[i_2007_08_nonsalaried] * 100, 2), \"junction percentile, nonsalaried\")"
   ]
  },
  {
   "cell_type": "markdown",
   "metadata": {},
   "source": [
    "**2008**"
   ]
  },
  {
   "cell_type": "markdown",
   "metadata": {},
   "source": [
    "For this year, there are different exemption levels based on salaried VS non-salaried earners. We keep both for correctness."
   ]
  },
  {
   "cell_type": "code",
   "execution_count": 9,
   "metadata": {
    "collapsed": false
   },
   "outputs": [
    {
     "name": "stdout",
     "output_type": "stream",
     "text": [
      "83.61 junction percentile, salaried\n",
      "68.43 junction percentile, nonsalaried\n"
     ]
    }
   ],
   "source": [
    "# 150,000 exemption limit for salaried earners (src. ./taxpayerData/supplemental_tax_information/taxRates2008-2009)\n",
    "incomes_2008_09 = list(individual_balance_sheet_2008_09[\"income\"].sort_values())\n",
    "percentiles_2008_09 = get_percentiles(incomes_2008_09)\n",
    "i_2008_09_salaried = 0\n",
    "while incomes_2008_09[i_2008_09_salaried] < 150000:\n",
    "    i_2008_09_salaried += 1\n",
    "print(round(percentiles_2008_09[i_2008_09_salaried] * 100, 2), \"junction percentile, salaried\")\n",
    "\n",
    "# 100,000 exemption limit for nonsalaried earners (src. ./taxpayerData/supplemental_tax_information/taxRates2008-2009)\n",
    "incomes_2008_09 = list(individual_balance_sheet_2008_09[\"income\"].sort_values())\n",
    "percentiles_2008_09 = get_percentiles(incomes_2008_09)\n",
    "i_2008_09_nonsalaried = 0\n",
    "while incomes_2008_09[i_2008_09_nonsalaried] < 100000:\n",
    "    i_2008_09_nonsalaried += 1\n",
    "print(round(percentiles_2008_09[i_2008_09_nonsalaried] * 100, 2), \"junction percentile, nonsalaried\")"
   ]
  },
  {
   "cell_type": "markdown",
   "metadata": {},
   "source": [
    "** 2009**"
   ]
  },
  {
   "cell_type": "markdown",
   "metadata": {},
   "source": [
    "No survey data 😢"
   ]
  },
  {
   "cell_type": "markdown",
   "metadata": {},
   "source": [
    "** 2010**"
   ]
  },
  {
   "cell_type": "code",
   "execution_count": 10,
   "metadata": {
    "collapsed": false
   },
   "outputs": [
    {
     "name": "stdout",
     "output_type": "stream",
     "text": [
      "93.81 junction percentile\n"
     ]
    }
   ],
   "source": [
    "# 300,000 exemption limit (src. ./taxpayerData/supplemental_tax_information/taxRates2010-2011)\n",
    "incomes_2010_11 = list(individual_balance_sheet_2010_11[\"income\"].sort_values())\n",
    "percentiles_2010_11 = get_percentiles(incomes_2010_11)\n",
    "i_2010_11 = 0\n",
    "while incomes_2010_11[i_2010_11] < 300000:\n",
    "    i_2010_11 += 1\n",
    "print(round(percentiles_2010_11[i_2010_11] * 100, 2), \"junction percentile\")"
   ]
  },
  {
   "cell_type": "markdown",
   "metadata": {},
   "source": [
    "**2011**"
   ]
  },
  {
   "cell_type": "code",
   "execution_count": 11,
   "metadata": {
    "collapsed": false
   },
   "outputs": [
    {
     "name": "stdout",
     "output_type": "stream",
     "text": [
      "90.25 junction percentile\n"
     ]
    }
   ],
   "source": [
    "# 300,000 exemption limit (src. ./taxpayerData/supplemental_tax_information/taxRates2011-2012)\n",
    "incomes_2011_12 = list(individual_balance_sheet_2011_12[\"income\"].sort_values())\n",
    "percentiles_2011_12 = get_percentiles(incomes_2011_12)\n",
    "i_2011_12 = 0\n",
    "while incomes_2011_12[i_2011_12] < 300000:\n",
    "    i_2011_12 += 1\n",
    "print(round(percentiles_2011_12[i_2011_12] * 100, 2), \"junction percentile\")"
   ]
  },
  {
   "cell_type": "markdown",
   "metadata": {},
   "source": [
    "** Years with Available Tax Data **"
   ]
  },
  {
   "cell_type": "markdown",
   "metadata": {},
   "source": [
    "** 2012**"
   ]
  },
  {
   "cell_type": "markdown",
   "metadata": {},
   "source": [
    "This is the only year where the exemption limit is not 400,000 PKR. When correcting the 2012 - 2013 tax year data (moving it back 6 months to match the survey timeframe), we will make sure any incomes lower than 350,000 PKR are cut off, and the weights for the section adjusted accordingly, such that this junction is accurate."
   ]
  },
  {
   "cell_type": "code",
   "execution_count": 12,
   "metadata": {
    "collapsed": false
   },
   "outputs": [
    {
     "name": "stdout",
     "output_type": "stream",
     "text": [
      "90.01 junction percentile\n"
     ]
    }
   ],
   "source": [
    "# 350,000 exemption limit for the 2013 tax year.\n",
    "incomes_2012_13 = list(individual_balance_sheet_2012_13[\"income\"].sort_values())\n",
    "percentiles_2012_13 = get_percentiles(incomes_2012_13)\n",
    "i_2012_13 = 0\n",
    "while incomes_2012_13[i_2012_13] < 350000:\n",
    "    i_2012_13 += 1\n",
    "print(round(percentiles_2012_13[i_2012_13] * 100, 2), \"junction percentile\")"
   ]
  },
  {
   "cell_type": "markdown",
   "metadata": {},
   "source": [
    "** 2013**"
   ]
  },
  {
   "cell_type": "markdown",
   "metadata": {},
   "source": [
    "We perform the same calculation as above for this year onwards."
   ]
  },
  {
   "cell_type": "code",
   "execution_count": 13,
   "metadata": {
    "collapsed": false
   },
   "outputs": [
    {
     "name": "stdout",
     "output_type": "stream",
     "text": [
      "93.89 junction percentile\n"
     ]
    }
   ],
   "source": [
    "# 400,000 exemption limit 2014 onwards\n",
    "incomes_2013_14 = list(individual_balance_sheet_2013_14[\"income\"].sort_values())\n",
    "percentiles_2013_14 = get_percentiles(incomes_2013_14)\n",
    "i_2013_14 = 0\n",
    "while incomes_2013_14[i_2013_14] < 400000:\n",
    "    i_2013_14 += 1\n",
    "print(round(percentiles_2013_14[i_2013_14] * 100, 2), \"junction percentile\")"
   ]
  },
  {
   "cell_type": "markdown",
   "metadata": {},
   "source": [
    "**2014**"
   ]
  },
  {
   "cell_type": "code",
   "execution_count": 14,
   "metadata": {
    "collapsed": false
   },
   "outputs": [
    {
     "name": "stdout",
     "output_type": "stream",
     "text": [
      "92.04 junction percentile\n"
     ]
    }
   ],
   "source": [
    "# 400,000 exemption limit 2014 onwards\n",
    "incomes_2014_15 = list(individual_balance_sheet_2014_15[\"income\"].sort_values())\n",
    "percentiles_2014_15 = get_percentiles(incomes_2014_15)\n",
    "i_2014_15 = 0\n",
    "while incomes_2014_15[i_2014_15] < 400000:\n",
    "    i_2014_15 += 1\n",
    "print(round(percentiles_2014_15[i_2014_15] * 100, 2), \"junction percentile\")"
   ]
  },
  {
   "cell_type": "markdown",
   "metadata": {},
   "source": [
    "**2015**"
   ]
  },
  {
   "cell_type": "code",
   "execution_count": 15,
   "metadata": {
    "collapsed": false
   },
   "outputs": [
    {
     "name": "stdout",
     "output_type": "stream",
     "text": [
      "88.21 junction percentile\n"
     ]
    }
   ],
   "source": [
    "# 400,000 exemption limit 2014 onwards\n",
    "incomes_2015_16 = list(individual_balance_sheet_2015_16[\"income\"].sort_values())\n",
    "percentiles_2015_16 = get_percentiles(incomes_2015_16)\n",
    "i_2015_16 = 0\n",
    "while incomes_2015_16[i_2015_16] < 400000:\n",
    "    i_2015_16 += 1\n",
    "print(round(percentiles_2015_16[i_2015_16] * 100, 2), \"junction percentile\")"
   ]
  },
  {
   "cell_type": "markdown",
   "metadata": {
    "collapsed": true
   },
   "source": [
    "### Junction Percentiles, 2004 - 2016"
   ]
  },
  {
   "cell_type": "code",
   "execution_count": 16,
   "metadata": {
    "collapsed": false
   },
   "outputs": [
    {
     "data": {
      "text/html": [
       "<div>\n",
       "<table border=\"1\" class=\"dataframe\">\n",
       "  <thead>\n",
       "    <tr style=\"text-align: right;\">\n",
       "      <th></th>\n",
       "      <th>Year</th>\n",
       "      <th>Percentile</th>\n",
       "      <th>Replaced Percentiles (substituted for tax data)</th>\n",
       "    </tr>\n",
       "  </thead>\n",
       "  <tbody>\n",
       "    <tr>\n",
       "      <th>0</th>\n",
       "      <td>2004</td>\n",
       "      <td>80.3</td>\n",
       "      <td>19.7</td>\n",
       "    </tr>\n",
       "    <tr>\n",
       "      <th>1</th>\n",
       "      <td>2005</td>\n",
       "      <td>85.74</td>\n",
       "      <td>14.26</td>\n",
       "    </tr>\n",
       "    <tr>\n",
       "      <th>2</th>\n",
       "      <td>2006</td>\n",
       "      <td>85.47</td>\n",
       "      <td>14.53</td>\n",
       "    </tr>\n",
       "    <tr>\n",
       "      <th>3</th>\n",
       "      <td>2007</td>\n",
       "      <td>89.65, 78.28*</td>\n",
       "      <td>10.35, 21.72*</td>\n",
       "    </tr>\n",
       "    <tr>\n",
       "      <th>4</th>\n",
       "      <td>2008</td>\n",
       "      <td>83.61, 68.43*</td>\n",
       "      <td>16.39, 31.57*</td>\n",
       "    </tr>\n",
       "    <tr>\n",
       "      <th>5</th>\n",
       "      <td>2010</td>\n",
       "      <td>93.81</td>\n",
       "      <td>6.19</td>\n",
       "    </tr>\n",
       "    <tr>\n",
       "      <th>6</th>\n",
       "      <td>2011</td>\n",
       "      <td>90.25</td>\n",
       "      <td>9.75</td>\n",
       "    </tr>\n",
       "    <tr>\n",
       "      <th>7</th>\n",
       "      <td>2012</td>\n",
       "      <td>90.01</td>\n",
       "      <td>9.99</td>\n",
       "    </tr>\n",
       "    <tr>\n",
       "      <th>8</th>\n",
       "      <td>2013</td>\n",
       "      <td>93.89</td>\n",
       "      <td>6.11</td>\n",
       "    </tr>\n",
       "    <tr>\n",
       "      <th>9</th>\n",
       "      <td>2014</td>\n",
       "      <td>92.04</td>\n",
       "      <td>7.96</td>\n",
       "    </tr>\n",
       "    <tr>\n",
       "      <th>10</th>\n",
       "      <td>2015</td>\n",
       "      <td>88.21</td>\n",
       "      <td>11.79</td>\n",
       "    </tr>\n",
       "  </tbody>\n",
       "</table>\n",
       "</div>"
      ],
      "text/plain": [
       "    Year     Percentile Replaced Percentiles (substituted for tax data)\n",
       "0   2004           80.3                                            19.7\n",
       "1   2005          85.74                                           14.26\n",
       "2   2006          85.47                                           14.53\n",
       "3   2007  89.65, 78.28*                                   10.35, 21.72*\n",
       "4   2008  83.61, 68.43*                                   16.39, 31.57*\n",
       "5   2010          93.81                                            6.19\n",
       "6   2011          90.25                                            9.75\n",
       "7   2012          90.01                                            9.99\n",
       "8   2013          93.89                                            6.11\n",
       "9   2014          92.04                                            7.96\n",
       "10  2015          88.21                                           11.79"
      ]
     },
     "execution_count": 16,
     "metadata": {},
     "output_type": "execute_result"
    }
   ],
   "source": [
    "years = np.arange(2004, 2016, 1)\n",
    "index = np.argwhere(years==2009)\n",
    "years = np.delete(years, index)\n",
    "\n",
    "d = {\n",
    "    'Year': years, \n",
    "    'Percentile': [\n",
    "        str(round(percentiles_2004_05[i_2004_05]*100, 2)),\n",
    "        str(round(percentiles_2005_06[i_2005_06]*100, 2)),\n",
    "        str(round(percentiles_2006_07[i_2006_07]*100, 2)),\n",
    "        str(round(percentiles_2007_08[i_2007_08_salaried]*100, 2)) + \", \" + str(round(percentiles_2007_08[i_2007_08_nonsalaried]*100, 2)) + \"*\",\n",
    "        str(round(percentiles_2008_09[i_2008_09_salaried]*100, 2)) + \", \" + str(round(percentiles_2008_09[i_2008_09_nonsalaried]*100, 2)) + \"*\",\n",
    "        str(round(percentiles_2010_11[i_2010_11]*100, 2)),\n",
    "        str(round(percentiles_2011_12[i_2011_12]*100, 2)),\n",
    "        str(round(percentiles_2012_13[i_2012_13]*100, 2)),\n",
    "        str(round(percentiles_2013_14[i_2013_14]*100, 2)),\n",
    "        str(round(percentiles_2014_15[i_2014_15]*100, 2)),\n",
    "        str(round(percentiles_2015_16[i_2015_16]*100, 2))\n",
    "    ],\n",
    "    'Replaced Percentiles (substituted for tax data)': [\n",
    "        str(round((1 - percentiles_2004_05[i_2004_05])*100, 2)),\n",
    "        str(round((1 - percentiles_2005_06[i_2005_06])*100, 2)),\n",
    "        str(round((1 - percentiles_2006_07[i_2006_07])*100, 2)),\n",
    "        str(round((1 - percentiles_2007_08[i_2007_08_salaried])*100, 2)) + \", \" + str(round((1 - percentiles_2007_08[i_2007_08_nonsalaried])*100, 2)) + \"*\",\n",
    "        str(round((1 - percentiles_2008_09[i_2008_09_salaried])*100, 2)) + \", \" + str(round((1 - percentiles_2008_09[i_2008_09_nonsalaried])*100, 2)) + \"*\",\n",
    "        str(round((1 - percentiles_2010_11[i_2010_11])*100, 2)),\n",
    "        str(round((1 - percentiles_2011_12[i_2011_12])*100, 2)),\n",
    "        str(round((1 - percentiles_2012_13[i_2012_13])*100, 2)),\n",
    "        str(round((1 - percentiles_2013_14[i_2013_14])*100, 2)),\n",
    "        str(round((1 - percentiles_2014_15[i_2014_15])*100, 2)),\n",
    "        str(round((1 - percentiles_2015_16[i_2015_16])*100, 2))\n",
    "    ]\n",
    "}\n",
    "\n",
    "junction_percentiles = pd.DataFrame(data=d)\n",
    "junction_percentiles = junction_percentiles[[\"Year\", \"Percentile\", \"Replaced Percentiles (substituted for tax data)\"]]\n",
    "junction_percentiles"
   ]
  },
  {
   "cell_type": "markdown",
   "metadata": {},
   "source": [
    "\\* Note that the first number is the junction for salaried workers, the second is for unsalaried workers. The tax exemption level varys among type of income for only these two years."
   ]
  },
  {
   "cell_type": "markdown",
   "metadata": {},
   "source": [
    "## Survey Growth Rates"
   ]
  },
  {
   "cell_type": "markdown",
   "metadata": {},
   "source": [
    "Now we need the growth rates of the incomes above the junction percentiles. We need this for extrapolating the tax data."
   ]
  },
  {
   "cell_type": "markdown",
   "metadata": {},
   "source": [
    "**Helper Functions**"
   ]
  },
  {
   "cell_type": "code",
   "execution_count": 17,
   "metadata": {
    "collapsed": true
   },
   "outputs": [],
   "source": [
    "def get_sorted_table(table_type, start_year):  \n",
    "    \"\"\"\n",
    "    Sorted by income.\n",
    "    \n",
    "    Args:\n",
    "        str (table_type): accepts only 'hh' for household or 'individual' for individual.\n",
    "        int (start_year): currently limited to 2004 - 2015.\n",
    "\n",
    "    Returns:\n",
    "        pd.DataFrame: dataframe corresponding to table.\n",
    "    \"\"\"\n",
    "    t = eval(table_type + \"_balance_sheet_\" + str(start_year) + \"_\" + str(start_year+1)[-2:])\n",
    "    return t.sort_values(by=['income']).reset_index().drop([\"index\"], axis=1)\n",
    "\n",
    "def weighted_sum(data, weights):\n",
    "    \"\"\"\n",
    "    Args:\n",
    "        pd.Series (data)\n",
    "        pd.Series (weights)\n",
    "\n",
    "    Returns:\n",
    "        float: weighted sum.\n",
    "    \"\"\"\n",
    "    cum_sum = 0\n",
    "    for i in range(0, len(weights)):\n",
    "        cum_sum += data[i] * weights[i]\n",
    "    return cum_sum\n",
    "\n",
    "def format_percent(value, sigfigs):\n",
    "    return str(round(value * 100, sigfigs)) + \"%\""
   ]
  },
  {
   "cell_type": "markdown",
   "metadata": {},
   "source": [
    "**Relevant Tables**"
   ]
  },
  {
   "cell_type": "code",
   "execution_count": 18,
   "metadata": {
    "collapsed": true
   },
   "outputs": [],
   "source": [
    "national_income = pd.read_excel(\"./miscData/national_income.xlsx\")"
   ]
  },
  {
   "cell_type": "markdown",
   "metadata": {},
   "source": [
    "Calculations for growth rate at junction points."
   ]
  },
  {
   "cell_type": "code",
   "execution_count": 19,
   "metadata": {
    "collapsed": false
   },
   "outputs": [],
   "source": [
    "i2015 = weighted_sum(incomes_2015_16[i_2015_16:], list(get_sorted_table(\"individual\", 2015)[\"weights\"][i_2015_16:]))\n",
    "i2014 = weighted_sum(incomes_2014_15[i_2014_15:], list(get_sorted_table(\"individual\", 2014)[\"weights\"][i_2014_15:]))\n",
    "i2013 = weighted_sum(incomes_2013_14[i_2013_14:], list(get_sorted_table(\"individual\", 2013)[\"weights\"][i_2013_14:]))\n",
    "i2012 = weighted_sum(incomes_2012_13[i_2012_13:], list(get_sorted_table(\"individual\", 2012)[\"weights\"][i_2012_13:]))\n",
    "i2011 = weighted_sum(incomes_2011_12[i_2011_12:], list(get_sorted_table(\"individual\", 2011)[\"weights\"][i_2011_12:]))\n",
    "i2010 = weighted_sum(incomes_2010_11[i_2010_11:], list(get_sorted_table(\"individual\", 2010)[\"weights\"][i_2010_11:]))\n",
    "i2008_salaried = weighted_sum(incomes_2008_09[i_2008_09_salaried:], list(get_sorted_table(\"individual\", 2008)[\"weights\"][i_2008_09_salaried:]))\n",
    "i2008_nonsalaried = weighted_sum(incomes_2008_09[i_2008_09_nonsalaried:], list(get_sorted_table(\"individual\", 2008)[\"weights\"][i_2008_09_nonsalaried:]))\n",
    "i2007_salaried = weighted_sum(incomes_2007_08[i_2007_08_salaried:], list(get_sorted_table(\"individual\", 2007)[\"weights\"][i_2007_08_salaried:]))\n",
    "i2007_nonsalaried = weighted_sum(incomes_2007_08[i_2007_08_nonsalaried:], list(get_sorted_table(\"individual\", 2007)[\"weights\"][i_2007_08_nonsalaried:]))\n",
    "i2006 = weighted_sum(incomes_2006_07[i_2006_07:], list(get_sorted_table(\"individual\", 2006)[\"weights\"][i_2006_07:]))\n",
    "i2005 = weighted_sum(incomes_2005_06[i_2005_06:], list(get_sorted_table(\"individual\", 2005)[\"weights\"][i_2005_06:]))\n",
    "i2004 = weighted_sum(incomes_2004_05[i_2004_05:], list(get_sorted_table(\"individual\", 2004)[\"weights\"][i_2004_05:]))\n",
    "\n",
    "gr2015 = (i2015 - i2014) / i2014\n",
    "gr2014 = (i2014 - i2013) / i2013\n",
    "gr2013 = (i2013 - i2012) / i2012\n",
    "gr2012 = (i2012 - i2011) / i2011\n",
    "gr2011 = (i2011 - i2010) / i2010\n",
    "\n",
    "gr2010_nonsalaried = (i2010 - i2008_nonsalaried) / i2008_nonsalaried\n",
    "gr2008_nonsalaried = (i2008_nonsalaried - i2007_nonsalaried) / i2007_nonsalaried\n",
    "gr2007_nonsalaried = (i2007_nonsalaried - i2006) / i2006\n",
    "\n",
    "gr2010_salaried = (i2010 - i2008_salaried) / i2008_salaried\n",
    "gr2008_salaried = (i2008_salaried - i2007_salaried) / i2007_salaried\n",
    "gr2007_salaried = (i2007_salaried - i2006) / i2006\n",
    "gr2006 = (i2006 - i2005) / i2005\n",
    "gr2005 = (i2005 - i2004) / i2004"
   ]
  },
  {
   "cell_type": "markdown",
   "metadata": {},
   "source": [
    "Calculation for survey income growth rates in aggregate."
   ]
  },
  {
   "cell_type": "code",
   "execution_count": 20,
   "metadata": {
    "collapsed": true
   },
   "outputs": [],
   "source": [
    "ti2015_2016 = weighted_sum(get_sorted_table(\"individual\", 2015)[\"income\"], get_sorted_table(\"individual\", 2015)[\"weights\"])\n",
    "ti2014_2015 = weighted_sum(get_sorted_table(\"individual\", 2014)[\"income\"], get_sorted_table(\"individual\", 2014)[\"weights\"])\n",
    "ti2013_2014 = weighted_sum(get_sorted_table(\"individual\", 2013)[\"income\"], get_sorted_table(\"individual\", 2013)[\"weights\"])\n",
    "ti2012_2013 = weighted_sum(get_sorted_table(\"individual\", 2012)[\"income\"], get_sorted_table(\"individual\", 2012)[\"weights\"])\n",
    "ti2011_2012 = weighted_sum(get_sorted_table(\"individual\", 2011)[\"income\"], get_sorted_table(\"individual\", 2011)[\"weights\"])\n",
    "ti2010_2011 = weighted_sum(get_sorted_table(\"individual\", 2010)[\"income\"], get_sorted_table(\"individual\", 2010)[\"weights\"])\n",
    "ti2008_2009 = weighted_sum(get_sorted_table(\"individual\", 2008)[\"income\"], get_sorted_table(\"individual\", 2008)[\"weights\"])\n",
    "ti2007_2008 = weighted_sum(get_sorted_table(\"individual\", 2007)[\"income\"], get_sorted_table(\"individual\", 2007)[\"weights\"])\n",
    "ti2006_2007 = weighted_sum(get_sorted_table(\"individual\", 2006)[\"income\"], get_sorted_table(\"individual\", 2006)[\"weights\"])\n",
    "ti2005_2006 = weighted_sum(get_sorted_table(\"individual\", 2005)[\"income\"], get_sorted_table(\"individual\", 2005)[\"weights\"])\n",
    "ti2004_2005 = weighted_sum(get_sorted_table(\"individual\", 2004)[\"income\"], get_sorted_table(\"individual\", 2004)[\"weights\"])\n",
    "\n",
    "tgr2016 = (ti2015_2016 - ti2014_2015) / ti2014_2015\n",
    "tgr2015 = (ti2014_2015 - ti2013_2014) / ti2013_2014\n",
    "tgr2014 = (ti2013_2014 - ti2012_2013) / ti2012_2013\n",
    "tgr2013 = (ti2012_2013 - ti2011_2012) / ti2011_2012\n",
    "tgr2012 = (ti2011_2012 - ti2010_2011) / ti2010_2011\n",
    "tgr2011 = (ti2010_2011 - ti2008_2009) / ti2008_2009\n",
    "tgr2009 = (ti2008_2009 - ti2007_2008) / ti2007_2008\n",
    "tgr2008 = (ti2007_2008 - ti2006_2007) / ti2006_2007\n",
    "tgr2007 = (ti2006_2007 - ti2005_2006) / ti2005_2006\n",
    "tgr2006 = (ti2005_2006 - ti2004_2005) / ti2004_2005"
   ]
  },
  {
   "cell_type": "markdown",
   "metadata": {},
   "source": [
    "Calculation for national income growth rates in aggregate."
   ]
  },
  {
   "cell_type": "code",
   "execution_count": 21,
   "metadata": {
    "collapsed": false
   },
   "outputs": [],
   "source": [
    "ni2004 = list(national_income[national_income[\"Year\"] == 2004][\"National Income\"])[0]\n",
    "ni2005 = list(national_income[national_income[\"Year\"] == 2005][\"National Income\"])[0]\n",
    "ni2006 = list(national_income[national_income[\"Year\"] == 2006][\"National Income\"])[0]\n",
    "ni2007 = list(national_income[national_income[\"Year\"] == 2007][\"National Income\"])[0]\n",
    "ni2008 = list(national_income[national_income[\"Year\"] == 2008][\"National Income\"])[0]\n",
    "ni2009 = list(national_income[national_income[\"Year\"] == 2009][\"National Income\"])[0]\n",
    "ni2010 = list(national_income[national_income[\"Year\"] == 2010][\"National Income\"])[0]\n",
    "ni2011 = list(national_income[national_income[\"Year\"] == 2011][\"National Income\"])[0]\n",
    "ni2012 = list(national_income[national_income[\"Year\"] == 2012][\"National Income\"])[0]\n",
    "ni2013 = list(national_income[national_income[\"Year\"] == 2013][\"National Income\"])[0]\n",
    "ni2014 = list(national_income[national_income[\"Year\"] == 2014][\"National Income\"])[0]\n",
    "ni2015 = list(national_income[national_income[\"Year\"] == 2015][\"National Income\"])[0]\n",
    "ni2016 = list(national_income[national_income[\"Year\"] == 2016][\"National Income\"])[0]\n",
    "\n",
    "nig2016 = (ni2016 - ni2015) / ni2015\n",
    "nig2015 = (ni2015 - ni2014) / ni2014\n",
    "nig2014 = (ni2014 - ni2013) / ni2013\n",
    "nig2013 = (ni2013 - ni2012) / ni2012\n",
    "nig2012 = (ni2012 - ni2011) / ni2011\n",
    "nig2011 = (ni2011 - ni2010) / ni2010\n",
    "nig2010 = (ni2010 - ni2008) / ni2008\n",
    "nig2008 = (ni2008 - ni2007) / ni2007\n",
    "nig2007 = (ni2007 - ni2006) / ni2006\n",
    "nig2006 = (ni2006 - ni2005) / ni2005\n",
    "nig2005 = (ni2005 - ni2004) / ni2004"
   ]
  },
  {
   "cell_type": "markdown",
   "metadata": {},
   "source": [
    "#### Growth Rates for Taxpayer Data, Salaried and Unsalaried Workers"
   ]
  },
  {
   "cell_type": "code",
   "execution_count": 22,
   "metadata": {
    "collapsed": false
   },
   "outputs": [
    {
     "data": {
      "text/html": [
       "<div>\n",
       "<table border=\"1\" class=\"dataframe\">\n",
       "  <thead>\n",
       "    <tr style=\"text-align: right;\">\n",
       "      <th></th>\n",
       "      <th>Year</th>\n",
       "      <th>Taxpayer Income Growth Rate (salaried worker)</th>\n",
       "      <th>Taxpayer Income Growth Rate (nonsalaried worker)</th>\n",
       "      <th>Average Income Growth Rate (survey)</th>\n",
       "      <th>Average Income Growth Rate (National Income)</th>\n",
       "    </tr>\n",
       "  </thead>\n",
       "  <tbody>\n",
       "    <tr>\n",
       "      <th>0</th>\n",
       "      <td>2005</td>\n",
       "      <td>-1.55%</td>\n",
       "      <td>-1.55%</td>\n",
       "      <td>9.86%</td>\n",
       "      <td>7.16%</td>\n",
       "    </tr>\n",
       "    <tr>\n",
       "      <th>1</th>\n",
       "      <td>2006</td>\n",
       "      <td>2.83%</td>\n",
       "      <td>2.83%</td>\n",
       "      <td>-7.44%</td>\n",
       "      <td>5.05%</td>\n",
       "    </tr>\n",
       "    <tr>\n",
       "      <th>2</th>\n",
       "      <td>2007</td>\n",
       "      <td>1.39%</td>\n",
       "      <td>50.32%</td>\n",
       "      <td>39.64%</td>\n",
       "      <td>2.93%</td>\n",
       "    </tr>\n",
       "    <tr>\n",
       "      <th>3</th>\n",
       "      <td>2008</td>\n",
       "      <td>69.58%</td>\n",
       "      <td>55.19%</td>\n",
       "      <td>29.57%</td>\n",
       "      <td>2.23%</td>\n",
       "    </tr>\n",
       "    <tr>\n",
       "      <th>4</th>\n",
       "      <td>2010</td>\n",
       "      <td>-37.4%</td>\n",
       "      <td>-53.86%</td>\n",
       "      <td>15.4%</td>\n",
       "      <td>5.15%</td>\n",
       "    </tr>\n",
       "    <tr>\n",
       "      <th>5</th>\n",
       "      <td>2011</td>\n",
       "      <td>50.15%</td>\n",
       "      <td>50.15%</td>\n",
       "      <td>17.57%</td>\n",
       "      <td>3.31%</td>\n",
       "    </tr>\n",
       "    <tr>\n",
       "      <th>6</th>\n",
       "      <td>2012</td>\n",
       "      <td>58.7%</td>\n",
       "      <td>58.7%</td>\n",
       "      <td>36.17%</td>\n",
       "      <td>3.91%</td>\n",
       "    </tr>\n",
       "    <tr>\n",
       "      <th>7</th>\n",
       "      <td>2013</td>\n",
       "      <td>-10.59%</td>\n",
       "      <td>-10.59%</td>\n",
       "      <td>15.49%</td>\n",
       "      <td>4.34%</td>\n",
       "    </tr>\n",
       "    <tr>\n",
       "      <th>8</th>\n",
       "      <td>2014</td>\n",
       "      <td>53.07%</td>\n",
       "      <td>53.07%</td>\n",
       "      <td>23.46%</td>\n",
       "      <td>4.64%</td>\n",
       "    </tr>\n",
       "    <tr>\n",
       "      <th>9</th>\n",
       "      <td>2015</td>\n",
       "      <td>-17.46%</td>\n",
       "      <td>-17.46%</td>\n",
       "      <td>-7.86%</td>\n",
       "      <td>4.95%</td>\n",
       "    </tr>\n",
       "  </tbody>\n",
       "</table>\n",
       "</div>"
      ],
      "text/plain": [
       "   Year Taxpayer Income Growth Rate (salaried worker)  \\\n",
       "0  2005                                        -1.55%   \n",
       "1  2006                                         2.83%   \n",
       "2  2007                                         1.39%   \n",
       "3  2008                                        69.58%   \n",
       "4  2010                                        -37.4%   \n",
       "5  2011                                        50.15%   \n",
       "6  2012                                         58.7%   \n",
       "7  2013                                       -10.59%   \n",
       "8  2014                                        53.07%   \n",
       "9  2015                                       -17.46%   \n",
       "\n",
       "  Taxpayer Income Growth Rate (nonsalaried worker)  \\\n",
       "0                                           -1.55%   \n",
       "1                                            2.83%   \n",
       "2                                           50.32%   \n",
       "3                                           55.19%   \n",
       "4                                          -53.86%   \n",
       "5                                           50.15%   \n",
       "6                                            58.7%   \n",
       "7                                          -10.59%   \n",
       "8                                           53.07%   \n",
       "9                                          -17.46%   \n",
       "\n",
       "  Average Income Growth Rate (survey)  \\\n",
       "0                               9.86%   \n",
       "1                              -7.44%   \n",
       "2                              39.64%   \n",
       "3                              29.57%   \n",
       "4                               15.4%   \n",
       "5                              17.57%   \n",
       "6                              36.17%   \n",
       "7                              15.49%   \n",
       "8                              23.46%   \n",
       "9                              -7.86%   \n",
       "\n",
       "  Average Income Growth Rate (National Income)  \n",
       "0                                        7.16%  \n",
       "1                                        5.05%  \n",
       "2                                        2.93%  \n",
       "3                                        2.23%  \n",
       "4                                        5.15%  \n",
       "5                                        3.31%  \n",
       "6                                        3.91%  \n",
       "7                                        4.34%  \n",
       "8                                        4.64%  \n",
       "9                                        4.95%  "
      ]
     },
     "execution_count": 22,
     "metadata": {},
     "output_type": "execute_result"
    }
   ],
   "source": [
    "years = np.arange(2005, 2016, 1)\n",
    "index = np.argwhere(years==2009)\n",
    "years = np.delete(years, index)\n",
    "\n",
    "d = {\n",
    "    'Year': years, \n",
    "    'Taxpayer Income Growth Rate (salaried worker)': [\n",
    "        format_percent(gr2005, 2),\n",
    "        format_percent(gr2006, 2),\n",
    "        format_percent(gr2007_salaried, 2),\n",
    "        format_percent(gr2008_salaried, 2),\n",
    "        format_percent(gr2010_salaried, 2),\n",
    "        format_percent(gr2011, 2),\n",
    "        format_percent(gr2012, 2),\n",
    "        format_percent(gr2013, 2),\n",
    "        format_percent(gr2014, 2),\n",
    "        format_percent(gr2015, 2)\n",
    "    ],\n",
    "    'Taxpayer Income Growth Rate (nonsalaried worker)': [\n",
    "        format_percent(gr2005, 2),\n",
    "        format_percent(gr2006, 2),\n",
    "        format_percent(gr2007_nonsalaried, 2),\n",
    "        format_percent(gr2008_nonsalaried, 2),\n",
    "        format_percent(gr2010_nonsalaried, 2),\n",
    "        format_percent(gr2011, 2),\n",
    "        format_percent(gr2012, 2),\n",
    "        format_percent(gr2013, 2),\n",
    "        format_percent(gr2014, 2),\n",
    "        format_percent(gr2015, 2)\n",
    "    ],\n",
    "    'Average Income Growth Rate (survey)': [\n",
    "        format_percent(tgr2006, 2),\n",
    "        format_percent(tgr2007, 2),\n",
    "        format_percent(tgr2008, 2),\n",
    "        format_percent(tgr2009, 2),\n",
    "        format_percent(tgr2011, 2),\n",
    "        format_percent(tgr2012, 2),\n",
    "        format_percent(tgr2013, 2),\n",
    "        format_percent(tgr2014, 2),\n",
    "        format_percent(tgr2015, 2),\n",
    "        format_percent(tgr2016, 2)\n",
    "    ],\n",
    "    'Average Income Growth Rate (National Income)': [\n",
    "        format_percent(nig2005, 2),\n",
    "        format_percent(nig2006, 2),\n",
    "        format_percent(nig2007, 2),\n",
    "        format_percent(nig2008, 2),\n",
    "        format_percent(nig2010, 2),\n",
    "        format_percent(nig2011, 2),\n",
    "        format_percent(nig2012, 2),\n",
    "        format_percent(nig2013, 2),\n",
    "        format_percent(nig2014, 2),\n",
    "        format_percent(nig2015, 2),\n",
    "    ]\n",
    "}\n",
    "\n",
    "survey_growth_rates = pd.DataFrame(data=d)\n",
    "survey_growth_rates = survey_growth_rates[[\"Year\", \"Taxpayer Income Growth Rate (salaried worker)\", \"Taxpayer Income Growth Rate (nonsalaried worker)\", \"Average Income Growth Rate (survey)\", \"Average Income Growth Rate (National Income)\"]]\n",
    "survey_growth_rates"
   ]
  },
  {
   "cell_type": "markdown",
   "metadata": {},
   "source": [
    "Although the numbers seem quite large at first, if we compare them to average growth in the survey data they seem reasonable. Since we only care about the relative change, we will continue to work with these numbers.\n",
    "\n",
    "Further analysis should find a better way to create growth rates for the data we have. Years like 2008, 2011, and 2014 have relatively large deviations from the average survey income growth rate, which is worrisome for our final results."
   ]
  },
  {
   "cell_type": "markdown",
   "metadata": {},
   "source": [
    "## Constructing Derived Income Data from Tax Data"
   ]
  },
  {
   "cell_type": "markdown",
   "metadata": {},
   "source": [
    "### Constructing Possible Incomes"
   ]
  },
  {
   "cell_type": "markdown",
   "metadata": {},
   "source": [
    "In the previous notebook, I walked through our assumption of the Tax Directory being voluntary payments. For convenience we calculated taxable income levels based on whether everyone was a salaried worker or everyone was a nonsalaried worker (those two categories have different rates)."
   ]
  },
  {
   "cell_type": "markdown",
   "metadata": {},
   "source": [
    "Further analysis should delve deeper by selecting taxes from our taxes_paid list, and randomly assigning it as a salaried or non-salaried earner. We can repeat this hundreds of thousands of times in python, and test those different distributions for a more robust range of distributional national accounts.\n",
    "\n",
    "Further anaylsis can also explore the other types of taxes that are part of voluntary payments. I do not think this will make a large difference as those taxes are small and only apply to select very particular categories of income. Pakistani tax code varys rates by employment, capital gains, property, exercise of profession, and 'other' income categories. Capital gains are taxed at the same level as employment (salaried or non-salaried) for securities after 2013, and before there is a flat tax of 15%. For the other categories, the taxes are negligible or they become 0% if the asset is held for more than 2 years. This makes me inclined to believe that employment income is the predominant form of income that taxpayers are receiving.\n",
    "\n",
    "Finally, there is also the question of deductions. We are calculating taxable income, from there we need to calculate income before deductions. Exploring alternate scenarios here would be worthwhile."
   ]
  },
  {
   "cell_type": "markdown",
   "metadata": {},
   "source": [
    "However, as I have limited time now, I will not explore those assumptions at present. At a later date, I will revise my paper and this notebook to include those alternative scenarios."
   ]
  },
  {
   "cell_type": "markdown",
   "metadata": {},
   "source": [
    "**Notes on Current Income Tables**"
   ]
  },
  {
   "cell_type": "markdown",
   "metadata": {},
   "source": [
    "I will be using the \"taxable_incomes_salaried\" and \"taxable_incomes_nonsalaried\" for the calculations. I stress that these two are reasonable are lower bounds for top incomes. They are taxable incomes; we have not taken into account any assumptions for deductions which would only increase these incomes.\n",
    "\n",
    "Also any mix of salaried VS non-salaried incomes would be between the results of these two datasets. Therefore, these two derived income datasets represent the largest range of possibility for top incomes *after* deductions."
   ]
  },
  {
   "cell_type": "markdown",
   "metadata": {},
   "source": [
    "### Correcting the Tax Data using Survey Growth Rates"
   ]
  },
  {
   "cell_type": "markdown",
   "metadata": {},
   "source": [
    "Now let's turn back the clock 6 months on our tax data."
   ]
  },
  {
   "cell_type": "markdown",
   "metadata": {},
   "source": [
    "We want to get incomes for the year January 2012 - December 2012 from the tax year July 2012 - June 2013. To do this, we take half of the survey growth rates for each appropriate year and multiply it against our income estimates. Note because we do not have a survey income growth rate from 2016 - 2017 (gr2017), the best we can do is use our tax data for that year, unadjusted (even though the incomes reported are from July 2016 - June 2017, **this means that year we will slightly overestimate** the amount of income inequality in our sample). I don't want to use national income growth rate for that year because it deviates from survey income growth quite dramatically. Remember that we still haven't taken into account survey weighting.  "
   ]
  },
  {
   "cell_type": "code",
   "execution_count": 23,
   "metadata": {
    "collapsed": false
   },
   "outputs": [],
   "source": [
    "taxable_incomes_nonsalaried_2012_adj = np.array(taxable_incomes_nonsalaried_2012_13) * (1 - (gr2013 / 2))\n",
    "taxable_incomes_salaried_2012_adj = np.array(taxable_incomes_salaried_2012_13) * (1 - (gr2013 / 2))\n",
    "\n",
    "taxable_incomes_nonsalaried_2013_adj = np.array(taxable_incomes_nonsalaried_2013_14) * (1 - (gr2014 / 2))\n",
    "taxable_incomes_salaried_2013_adj = np.array(taxable_incomes_salaried_2013_14) * (1 - (gr2014 / 2))\n",
    "\n",
    "taxable_incomes_nonsalaried_2014_adj = np.array(taxable_incomes_nonsalaried_2014_15) * (1 - (gr2015 / 2))\n",
    "taxable_incomes_salaried_2014_adj = np.array(taxable_incomes_salaried_2014_15) * (1 - (gr2015 / 2))\n",
    "\n",
    "taxable_incomes_nonsalaried_2015_adj = np.array(taxable_incomes_nonsalaried_2015_16)\n",
    "taxable_incomes_salaried_2015_adj = np.array(taxable_incomes_salaried_2015_16)\n",
    "\n",
    "taxable_incomes_nonsalaried_2016_adj = np.array(taxable_incomes_nonsalaried_2016_17)\n",
    "taxable_incomes_salaried_2016_adj = np.array(taxable_incomes_salaried_2016_17)"
   ]
  },
  {
   "cell_type": "code",
   "execution_count": null,
   "metadata": {
    "collapsed": true
   },
   "outputs": [],
   "source": [
    "# REMOVE PEOPLE BELOW THE EXEMPTION LIMIT"
   ]
  },
  {
   "cell_type": "markdown",
   "metadata": {},
   "source": [
    "### Extrapolating the Tax Data using Survey Growth Rates"
   ]
  },
  {
   "cell_type": "markdown",
   "metadata": {
    "collapsed": true
   },
   "source": [
    "Now we are going to extrapolate the tax data using survey growth rates. We have 5 options of which year we can start our extrapolation from."
   ]
  },
  {
   "cell_type": "markdown",
   "metadata": {},
   "source": [
    "With more time, we would consider each option (each year) as an alternative scenario. I will use the 2016 sample as it represents the largest base of taxpayers from the eligible taxpayer population.   "
   ]
  },
  {
   "cell_type": "code",
   "execution_count": 24,
   "metadata": {
    "collapsed": false
   },
   "outputs": [],
   "source": [
    "taxable_incomes_nonsalaried_2011_adj = taxable_incomes_nonsalaried_2015_adj * (1 - gr2015) * (1 - gr2014) * (1 - gr2013) * (1 - gr2012)\n",
    "taxable_incomes_nonsalaried_2010_adj = taxable_incomes_nonsalaried_2011_adj * (1 - gr2011)\n",
    "taxable_incomes_nonsalaried_2008_adj = taxable_incomes_nonsalaried_2010_adj * (1 - gr2010_nonsalaried)\n",
    "taxable_incomes_nonsalaried_2007_adj = taxable_incomes_nonsalaried_2008_adj * (1 - gr2008_nonsalaried)\n",
    "taxable_incomes_nonsalaried_2006_adj = taxable_incomes_nonsalaried_2007_adj * (1 - gr2007_nonsalaried)\n",
    "taxable_incomes_nonsalaried_2005_adj = taxable_incomes_nonsalaried_2006_adj * (1 - gr2006)\n",
    "taxable_incomes_nonsalaried_2004_adj = taxable_incomes_nonsalaried_2005_adj * (1 - gr2005)"
   ]
  },
  {
   "cell_type": "code",
   "execution_count": 25,
   "metadata": {
    "collapsed": true
   },
   "outputs": [],
   "source": [
    "taxable_incomes_salaried_2011_adj = taxable_incomes_salaried_2015_adj * (1 - gr2015) * (1 - gr2014) * (1 - gr2013) * (1 - gr2012)\n",
    "taxable_incomes_salaried_2010_adj = taxable_incomes_salaried_2011_adj * (1 - gr2011)\n",
    "taxable_incomes_salaried_2008_adj = taxable_incomes_salaried_2010_adj * (1 - gr2010_salaried)\n",
    "taxable_incomes_salaried_2007_adj = taxable_incomes_salaried_2008_adj * (1 - gr2008_salaried)\n",
    "taxable_incomes_salaried_2006_adj = taxable_incomes_salaried_2007_adj * (1 - gr2007_salaried)\n",
    "taxable_incomes_salaried_2005_adj = taxable_incomes_salaried_2006_adj * (1 - gr2006)\n",
    "taxable_incomes_salaried_2004_adj = taxable_incomes_salaried_2005_adj * (1 - gr2005)"
   ]
  },
  {
   "cell_type": "code",
   "execution_count": null,
   "metadata": {
    "collapsed": true
   },
   "outputs": [],
   "source": [
    "# REMOVE PEOPLE BELOW THE EXEMPTION LIMIT"
   ]
  },
  {
   "cell_type": "markdown",
   "metadata": {},
   "source": [
    "### Comparison to Existing Survey Data Distribution"
   ]
  },
  {
   "cell_type": "markdown",
   "metadata": {
    "collapsed": true
   },
   "source": [
    "Let's look at this adjusted data in comparison to the survey data distribution that we are about to remove."
   ]
  },
  {
   "cell_type": "code",
   "execution_count": null,
   "metadata": {
    "collapsed": true
   },
   "outputs": [],
   "source": []
  },
  {
   "cell_type": "markdown",
   "metadata": {},
   "source": [
    "## Combining Tax and Survey Data"
   ]
  },
  {
   "cell_type": "markdown",
   "metadata": {},
   "source": [
    "Here we combine the tax and survey data by equally weighting each individual in the tax data. With more time, we could explore different weighting schemes that would be reflective of which level of earnings is not fully represented in the sample. Previous research shows us this would be the highest income levels (top 0.1% and above) that evade taxes. This suggests in reality we should put more weight to the upper end of the tax data distribution."
   ]
  },
  {
   "cell_type": "markdown",
   "metadata": {},
   "source": [
    "Because we are using equal weighting, we are probably **underestimating** top incomes, meaning the final tables we construct are conservative estimates."
   ]
  },
  {
   "cell_type": "markdown",
   "metadata": {
    "collapsed": true
   },
   "source": [
    "**2004**"
   ]
  },
  {
   "cell_type": "code",
   "execution_count": 26,
   "metadata": {
    "collapsed": false
   },
   "outputs": [],
   "source": [
    "# salaried\n",
    "weight_to_distribute = sum(list(get_sorted_table(\"individual\", 2004)[\"weights\"])[i_2004_05:]) / len(taxable_incomes_salaried_2004_adj)\n",
    "incomes_to_add = np.array(taxable_incomes_salaried_2004_adj)\n",
    "num_rows = get_sorted_table(\"individual\", 2004).shape[0]\n",
    "filtered_table = get_sorted_table(\"individual\", 2004).drop(np.arange(i_2004_05, num_rows, 1), axis=0)\n",
    "\n",
    "new_entries_df = pd.DataFrame([[x, weight_to_distribute] for x in incomes_to_add], columns=[\"income\", \"weights\"])\n",
    "final_incomes_2004_ASSUMP_salaried = filtered_table.append(new_entries_df).reset_index().drop([\"index\"], axis=1)\n",
    "final_incomes_2004_ASSUMP_salaried[\"income\"] = final_incomes_2004_ASSUMP_salaried[\"income\"].astype(int)"
   ]
  },
  {
   "cell_type": "code",
   "execution_count": 27,
   "metadata": {
    "collapsed": true
   },
   "outputs": [],
   "source": [
    "# nonsalaried\n",
    "weight_to_distribute = sum(list(get_sorted_table(\"individual\", 2004)[\"weights\"])[i_2004_05:]) / len(taxable_incomes_nonsalaried_2004_adj)\n",
    "incomes_to_add = np.array(taxable_incomes_nonsalaried_2004_adj)\n",
    "num_rows = get_sorted_table(\"individual\", 2004).shape[0]\n",
    "filtered_table = get_sorted_table(\"individual\", 2004).drop(np.arange(i_2004_05, num_rows, 1), axis=0)\n",
    "\n",
    "new_entries_df = pd.DataFrame([[x, weight_to_distribute] for x in incomes_to_add], columns=[\"income\", \"weights\"])\n",
    "final_incomes_2004_ASSUMP_nonsalaried = filtered_table.append(new_entries_df).reset_index().drop([\"index\"], axis=1)\n",
    "final_incomes_2004_ASSUMP_nonsalaried[\"income\"] = final_incomes_2004_ASSUMP_nonsalaried[\"income\"].astype(int)"
   ]
  },
  {
   "cell_type": "markdown",
   "metadata": {
    "collapsed": true
   },
   "source": [
    "**2005**"
   ]
  },
  {
   "cell_type": "code",
   "execution_count": 28,
   "metadata": {
    "collapsed": false
   },
   "outputs": [],
   "source": [
    "# salaried\n",
    "weight_to_distribute = sum(list(get_sorted_table(\"individual\", 2005)[\"weights\"])[i_2005_06:]) / len(taxable_incomes_salaried_2005_adj)\n",
    "incomes_to_add = np.array(taxable_incomes_salaried_2005_adj)\n",
    "num_rows = get_sorted_table(\"individual\", 2005).shape[0]\n",
    "filtered_table = get_sorted_table(\"individual\", 2005).drop(np.arange(i_2005_06, num_rows, 1), axis=0)\n",
    "\n",
    "new_entries_df = pd.DataFrame([[x, weight_to_distribute] for x in incomes_to_add], columns=[\"income\", \"weights\"])\n",
    "final_incomes_2005_ASSUMP_salaried = filtered_table.append(new_entries_df).reset_index().drop([\"index\"], axis=1)\n",
    "final_incomes_2005_ASSUMP_salaried[\"income\"] = final_incomes_2005_ASSUMP_salaried[\"income\"].astype(int)"
   ]
  },
  {
   "cell_type": "code",
   "execution_count": 29,
   "metadata": {
    "collapsed": true
   },
   "outputs": [],
   "source": [
    "# nonsalaried\n",
    "weight_to_distribute = sum(list(get_sorted_table(\"individual\", 2005)[\"weights\"])[i_2005_06:]) / len(taxable_incomes_nonsalaried_2005_adj)\n",
    "incomes_to_add = np.array(taxable_incomes_nonsalaried_2005_adj)\n",
    "num_rows = get_sorted_table(\"individual\", 2005).shape[0]\n",
    "filtered_table = get_sorted_table(\"individual\", 2005).drop(np.arange(i_2005_06, num_rows, 1), axis=0)\n",
    "\n",
    "new_entries_df = pd.DataFrame([[x, weight_to_distribute] for x in incomes_to_add], columns=[\"income\", \"weights\"])\n",
    "final_incomes_2005_ASSUMP_nonsalaried = filtered_table.append(new_entries_df).reset_index().drop([\"index\"], axis=1)\n",
    "final_incomes_2005_ASSUMP_nonsalaried[\"income\"] = final_incomes_2005_ASSUMP_nonsalaried[\"income\"].astype(int)"
   ]
  },
  {
   "cell_type": "markdown",
   "metadata": {
    "collapsed": true
   },
   "source": [
    "**2006**"
   ]
  },
  {
   "cell_type": "code",
   "execution_count": 30,
   "metadata": {
    "collapsed": false
   },
   "outputs": [],
   "source": [
    "# salaried\n",
    "weight_to_distribute = sum(list(get_sorted_table(\"individual\", 2006)[\"weights\"])[i_2006_07:]) / len(taxable_incomes_salaried_2006_adj)\n",
    "incomes_to_add = np.array(taxable_incomes_salaried_2006_adj)\n",
    "num_rows = get_sorted_table(\"individual\", 2006).shape[0]\n",
    "filtered_table = get_sorted_table(\"individual\", 2006).drop(np.arange(i_2006_07, num_rows, 1), axis=0)\n",
    "\n",
    "new_entries_df = pd.DataFrame([[x, weight_to_distribute] for x in incomes_to_add], columns=[\"income\", \"weights\"])\n",
    "final_incomes_2006_ASSUMP_salaried = filtered_table.append(new_entries_df).reset_index().drop([\"index\"], axis=1)\n",
    "final_incomes_2006_ASSUMP_salaried[\"income\"] = final_incomes_2006_ASSUMP_salaried[\"income\"].astype(int)"
   ]
  },
  {
   "cell_type": "code",
   "execution_count": 31,
   "metadata": {
    "collapsed": true
   },
   "outputs": [],
   "source": [
    "# nonsalaried\n",
    "weight_to_distribute = sum(list(get_sorted_table(\"individual\", 2006)[\"weights\"])[i_2006_07:]) / len(taxable_incomes_nonsalaried_2006_adj)\n",
    "incomes_to_add = np.array(taxable_incomes_nonsalaried_2006_adj)\n",
    "num_rows = get_sorted_table(\"individual\", 2006).shape[0]\n",
    "filtered_table = get_sorted_table(\"individual\", 2006).drop(np.arange(i_2006_07, num_rows, 1), axis=0)\n",
    "\n",
    "new_entries_df = pd.DataFrame([[x, weight_to_distribute] for x in incomes_to_add], columns=[\"income\", \"weights\"])\n",
    "final_incomes_2006_ASSUMP_nonsalaried = filtered_table.append(new_entries_df).reset_index().drop([\"index\"], axis=1)\n",
    "final_incomes_2006_ASSUMP_nonsalaried[\"income\"] = final_incomes_2006_ASSUMP_nonsalaried[\"income\"].astype(int)"
   ]
  },
  {
   "cell_type": "markdown",
   "metadata": {
    "collapsed": true
   },
   "source": [
    "**2007**"
   ]
  },
  {
   "cell_type": "code",
   "execution_count": 32,
   "metadata": {
    "collapsed": false
   },
   "outputs": [],
   "source": [
    "# salaried\n",
    "weight_to_distribute = sum(list(get_sorted_table(\"individual\", 2007)[\"weights\"])[i_2007_08_salaried:]) / len(taxable_incomes_salaried_2007_adj)\n",
    "incomes_to_add = np.array(taxable_incomes_salaried_2007_adj)\n",
    "num_rows = get_sorted_table(\"individual\", 2007).shape[0]\n",
    "filtered_table = get_sorted_table(\"individual\", 2007).drop(np.arange(i_2007_08_salaried, num_rows, 1), axis=0)\n",
    "\n",
    "new_entries_df = pd.DataFrame([[x, weight_to_distribute] for x in incomes_to_add], columns=[\"income\", \"weights\"])\n",
    "final_incomes_2007_ASSUMP_salaried = filtered_table.append(new_entries_df).reset_index().drop([\"index\"], axis=1)\n",
    "final_incomes_2007_ASSUMP_salaried[\"income\"] = final_incomes_2007_ASSUMP_salaried[\"income\"].astype(int)"
   ]
  },
  {
   "cell_type": "code",
   "execution_count": 33,
   "metadata": {
    "collapsed": true
   },
   "outputs": [],
   "source": [
    "# nonsalaried\n",
    "weight_to_distribute = sum(list(get_sorted_table(\"individual\", 2007)[\"weights\"])[i_2007_08_nonsalaried:]) / len(taxable_incomes_nonsalaried_2007_adj)\n",
    "incomes_to_add = np.array(taxable_incomes_nonsalaried_2007_adj)\n",
    "num_rows = get_sorted_table(\"individual\", 2007).shape[0]\n",
    "filtered_table = get_sorted_table(\"individual\", 2007).drop(np.arange(i_2007_08_nonsalaried, num_rows, 1), axis=0)\n",
    "\n",
    "new_entries_df = pd.DataFrame([[x, weight_to_distribute] for x in incomes_to_add], columns=[\"income\", \"weights\"])\n",
    "final_incomes_2007_ASSUMP_nonsalaried = filtered_table.append(new_entries_df).reset_index().drop([\"index\"], axis=1)\n",
    "final_incomes_2007_ASSUMP_nonsalaried[\"income\"] = final_incomes_2007_ASSUMP_nonsalaried[\"income\"].astype(int)"
   ]
  },
  {
   "cell_type": "markdown",
   "metadata": {
    "collapsed": true
   },
   "source": [
    "**2008**"
   ]
  },
  {
   "cell_type": "code",
   "execution_count": 34,
   "metadata": {
    "collapsed": false
   },
   "outputs": [],
   "source": [
    "# salaried\n",
    "weight_to_distribute = sum(list(get_sorted_table(\"individual\", 2008)[\"weights\"])[i_2008_09_salaried:]) / len(taxable_incomes_salaried_2008_adj)\n",
    "incomes_to_add = np.array(taxable_incomes_salaried_2008_adj)\n",
    "num_rows = get_sorted_table(\"individual\", 2008).shape[0]\n",
    "filtered_table = get_sorted_table(\"individual\", 2008).drop(np.arange(i_2008_09_salaried, num_rows, 1), axis=0)\n",
    "\n",
    "new_entries_df = pd.DataFrame([[x, weight_to_distribute] for x in incomes_to_add], columns=[\"income\", \"weights\"])\n",
    "final_incomes_2008_ASSUMP_salaried = filtered_table.append(new_entries_df).reset_index().drop([\"index\"], axis=1)\n",
    "final_incomes_2008_ASSUMP_salaried[\"income\"] = final_incomes_2008_ASSUMP_salaried[\"income\"].astype(int)"
   ]
  },
  {
   "cell_type": "code",
   "execution_count": 35,
   "metadata": {
    "collapsed": true
   },
   "outputs": [],
   "source": [
    "# nonsalaried\n",
    "weight_to_distribute = sum(list(get_sorted_table(\"individual\", 2008)[\"weights\"])[i_2008_09_nonsalaried:]) / len(taxable_incomes_nonsalaried_2008_adj)\n",
    "incomes_to_add = np.array(taxable_incomes_nonsalaried_2008_adj)\n",
    "num_rows = get_sorted_table(\"individual\", 2008).shape[0]\n",
    "filtered_table = get_sorted_table(\"individual\", 2008).drop(np.arange(i_2008_09_nonsalaried, num_rows, 1), axis=0)\n",
    "\n",
    "new_entries_df = pd.DataFrame([[x, weight_to_distribute] for x in incomes_to_add], columns=[\"income\", \"weights\"])\n",
    "final_incomes_2008_ASSUMP_nonsalaried = filtered_table.append(new_entries_df).reset_index().drop([\"index\"], axis=1)\n",
    "final_incomes_2008_ASSUMP_nonsalaried[\"income\"] = final_incomes_2008_ASSUMP_nonsalaried[\"income\"].astype(int)"
   ]
  },
  {
   "cell_type": "markdown",
   "metadata": {
    "collapsed": true
   },
   "source": [
    "**2009**"
   ]
  },
  {
   "cell_type": "markdown",
   "metadata": {
    "collapsed": true
   },
   "source": [
    "No survey data to combine with."
   ]
  },
  {
   "cell_type": "markdown",
   "metadata": {
    "collapsed": true
   },
   "source": [
    "**2010**"
   ]
  },
  {
   "cell_type": "code",
   "execution_count": 36,
   "metadata": {
    "collapsed": false
   },
   "outputs": [],
   "source": [
    "# salaried\n",
    "weight_to_distribute = sum(list(get_sorted_table(\"individual\", 2010)[\"weights\"])[i_2010_11:]) / len(taxable_incomes_salaried_2010_adj)\n",
    "incomes_to_add = np.array(taxable_incomes_salaried_2010_adj)\n",
    "num_rows = get_sorted_table(\"individual\", 2010).shape[0]\n",
    "filtered_table = get_sorted_table(\"individual\", 2010).drop(np.arange(i_2010_11, num_rows, 1), axis=0)\n",
    "\n",
    "new_entries_df = pd.DataFrame([[x, weight_to_distribute] for x in incomes_to_add], columns=[\"income\", \"weights\"])\n",
    "final_incomes_2010_ASSUMP_salaried = filtered_table.append(new_entries_df).reset_index().drop([\"index\"], axis=1)\n",
    "final_incomes_2010_ASSUMP_salaried[\"income\"] = final_incomes_2010_ASSUMP_salaried[\"income\"].astype(int)"
   ]
  },
  {
   "cell_type": "code",
   "execution_count": 37,
   "metadata": {
    "collapsed": true
   },
   "outputs": [],
   "source": [
    "# nonsalaried\n",
    "weight_to_distribute = sum(list(get_sorted_table(\"individual\", 2010)[\"weights\"])[i_2010_11:]) / len(taxable_incomes_nonsalaried_2010_adj)\n",
    "incomes_to_add = np.array(taxable_incomes_nonsalaried_2010_adj)\n",
    "num_rows = get_sorted_table(\"individual\", 2010).shape[0]\n",
    "filtered_table = get_sorted_table(\"individual\", 2010).drop(np.arange(i_2010_11, num_rows, 1), axis=0)\n",
    "\n",
    "new_entries_df = pd.DataFrame([[x, weight_to_distribute] for x in incomes_to_add], columns=[\"income\", \"weights\"])\n",
    "final_incomes_2010_ASSUMP_nonsalaried = filtered_table.append(new_entries_df).reset_index().drop([\"index\"], axis=1)\n",
    "final_incomes_2010_ASSUMP_nonsalaried[\"income\"] = final_incomes_2010_ASSUMP_nonsalaried[\"income\"].astype(int)"
   ]
  },
  {
   "cell_type": "markdown",
   "metadata": {
    "collapsed": true
   },
   "source": [
    "**2011**"
   ]
  },
  {
   "cell_type": "code",
   "execution_count": 38,
   "metadata": {
    "collapsed": false
   },
   "outputs": [],
   "source": [
    "# Salaried\n",
    "weight_to_distribute = sum(list(get_sorted_table(\"individual\", 2011)[\"weights\"])[i_2011_12:]) / len(taxable_incomes_salaried_2011_adj)\n",
    "incomes_to_add = np.array(taxable_incomes_salaried_2011_adj)\n",
    "num_rows = get_sorted_table(\"individual\", 2011).shape[0]\n",
    "filtered_table = get_sorted_table(\"individual\", 2011).drop(np.arange(i_2011_12, num_rows, 1), axis=0)\n",
    "\n",
    "new_entries_df = pd.DataFrame([[x, weight_to_distribute] for x in incomes_to_add], columns=[\"income\", \"weights\"])\n",
    "final_incomes_2011_ASSUMP_salaried = filtered_table.append(new_entries_df).reset_index().drop([\"index\"], axis=1)\n",
    "final_incomes_2011_ASSUMP_salaried[\"income\"] = final_incomes_2011_ASSUMP_salaried[\"income\"].astype(int)"
   ]
  },
  {
   "cell_type": "code",
   "execution_count": 39,
   "metadata": {
    "collapsed": true
   },
   "outputs": [],
   "source": [
    "# Nonsalaried\n",
    "weight_to_distribute = sum(list(get_sorted_table(\"individual\", 2011)[\"weights\"])[i_2011_12:]) / len(taxable_incomes_nonsalaried_2011_adj)\n",
    "incomes_to_add = np.array(taxable_incomes_nonsalaried_2011_adj)\n",
    "num_rows = get_sorted_table(\"individual\", 2011).shape[0]\n",
    "filtered_table = get_sorted_table(\"individual\", 2011).drop(np.arange(i_2011_12, num_rows, 1), axis=0)\n",
    "\n",
    "new_entries_df = pd.DataFrame([[x, weight_to_distribute] for x in incomes_to_add], columns=[\"income\", \"weights\"])\n",
    "final_incomes_2011_ASSUMP_nonsalaried = filtered_table.append(new_entries_df).reset_index().drop([\"index\"], axis=1)\n",
    "final_incomes_2011_ASSUMP_nonsalaried[\"income\"] = final_incomes_2011_ASSUMP_nonsalaried[\"income\"].astype(int)"
   ]
  },
  {
   "cell_type": "markdown",
   "metadata": {
    "collapsed": true
   },
   "source": [
    "**2012**"
   ]
  },
  {
   "cell_type": "code",
   "execution_count": 40,
   "metadata": {
    "collapsed": false
   },
   "outputs": [],
   "source": [
    "# Salaried\n",
    "weight_to_distribute = sum(list(get_sorted_table(\"individual\", 2012)[\"weights\"])[i_2012_13:]) / len(taxable_incomes_salaried_2012_adj)\n",
    "incomes_to_add = np.array(taxable_incomes_salaried_2012_adj)\n",
    "num_rows = get_sorted_table(\"individual\", 2012).shape[0]\n",
    "filtered_table = get_sorted_table(\"individual\", 2012).drop(np.arange(i_2012_13, num_rows, 1), axis=0)\n",
    "\n",
    "new_entries_df = pd.DataFrame([[x, weight_to_distribute] for x in incomes_to_add], columns=[\"income\", \"weights\"])\n",
    "final_incomes_2012_ASSUMP_salaried = filtered_table.append(new_entries_df).reset_index().drop([\"index\"], axis=1)\n",
    "final_incomes_2012_ASSUMP_salaried[\"income\"] = final_incomes_2012_ASSUMP_salaried[\"income\"].astype(int)"
   ]
  },
  {
   "cell_type": "code",
   "execution_count": 41,
   "metadata": {
    "collapsed": true
   },
   "outputs": [],
   "source": [
    "# Nonsalaried\n",
    "weight_to_distribute = sum(list(get_sorted_table(\"individual\", 2012)[\"weights\"])[i_2012_13:]) / len(taxable_incomes_nonsalaried_2012_adj)\n",
    "incomes_to_add = np.array(taxable_incomes_nonsalaried_2012_adj)\n",
    "num_rows = get_sorted_table(\"individual\", 2012).shape[0]\n",
    "filtered_table = get_sorted_table(\"individual\", 2012).drop(np.arange(i_2012_13, num_rows, 1), axis=0)\n",
    "\n",
    "new_entries_df = pd.DataFrame([[x, weight_to_distribute] for x in incomes_to_add], columns=[\"income\", \"weights\"])\n",
    "final_incomes_2012_ASSUMP_nonsalaried = filtered_table.append(new_entries_df).reset_index().drop([\"index\"], axis=1)\n",
    "final_incomes_2012_ASSUMP_nonsalaried[\"income\"] = final_incomes_2012_ASSUMP_nonsalaried[\"income\"].astype(int)"
   ]
  },
  {
   "cell_type": "markdown",
   "metadata": {
    "collapsed": true
   },
   "source": [
    "**2013**"
   ]
  },
  {
   "cell_type": "code",
   "execution_count": 42,
   "metadata": {
    "collapsed": false
   },
   "outputs": [],
   "source": [
    "# Salaried\n",
    "weight_to_distribute = sum(list(get_sorted_table(\"individual\", 2013)[\"weights\"])[i_2013_14:]) / len(taxable_incomes_salaried_2013_adj)\n",
    "incomes_to_add = np.array(taxable_incomes_salaried_2013_adj)\n",
    "num_rows = get_sorted_table(\"individual\", 2013).shape[0]\n",
    "filtered_table = get_sorted_table(\"individual\", 2013).drop(np.arange(i_2013_14, num_rows, 1), axis=0)\n",
    "\n",
    "new_entries_df = pd.DataFrame([[x, weight_to_distribute] for x in incomes_to_add], columns=[\"income\", \"weights\"])\n",
    "final_incomes_2013_ASSUMP_salaried = filtered_table.append(new_entries_df).reset_index().drop([\"index\"], axis=1)\n",
    "final_incomes_2013_ASSUMP_salaried[\"income\"] = final_incomes_2013_ASSUMP_salaried[\"income\"].astype(int)"
   ]
  },
  {
   "cell_type": "code",
   "execution_count": 43,
   "metadata": {
    "collapsed": true
   },
   "outputs": [],
   "source": [
    "# Nonsalaried\n",
    "weight_to_distribute = sum(list(get_sorted_table(\"individual\", 2013)[\"weights\"])[i_2013_14:]) / len(taxable_incomes_nonsalaried_2013_adj)\n",
    "incomes_to_add = np.array(taxable_incomes_nonsalaried_2013_adj)\n",
    "num_rows = get_sorted_table(\"individual\", 2013).shape[0]\n",
    "filtered_table = get_sorted_table(\"individual\", 2013).drop(np.arange(i_2013_14, num_rows, 1), axis=0)\n",
    "\n",
    "new_entries_df = pd.DataFrame([[x, weight_to_distribute] for x in incomes_to_add], columns=[\"income\", \"weights\"])\n",
    "final_incomes_2013_ASSUMP_nonsalaried = filtered_table.append(new_entries_df).reset_index().drop([\"index\"], axis=1)\n",
    "final_incomes_2013_ASSUMP_nonsalaried[\"income\"] = final_incomes_2013_ASSUMP_nonsalaried[\"income\"].astype(int)"
   ]
  },
  {
   "cell_type": "markdown",
   "metadata": {
    "collapsed": true
   },
   "source": [
    "**2014**"
   ]
  },
  {
   "cell_type": "code",
   "execution_count": 44,
   "metadata": {
    "collapsed": false
   },
   "outputs": [],
   "source": [
    "# Salaried\n",
    "weight_to_distribute = sum(list(get_sorted_table(\"individual\", 2014)[\"weights\"])[i_2014_15:]) / len(taxable_incomes_salaried_2014_adj)\n",
    "incomes_to_add = np.array(taxable_incomes_salaried_2014_adj)\n",
    "num_rows = get_sorted_table(\"individual\", 2014).shape[0]\n",
    "filtered_table = get_sorted_table(\"individual\", 2014).drop(np.arange(i_2014_15, num_rows, 1), axis=0)\n",
    "\n",
    "new_entries_df = pd.DataFrame([[x, weight_to_distribute] for x in incomes_to_add], columns=[\"income\", \"weights\"])\n",
    "final_incomes_2014_ASSUMP_salaried = filtered_table.append(new_entries_df).reset_index().drop([\"index\"], axis=1)\n",
    "final_incomes_2014_ASSUMP_salaried[\"income\"] = final_incomes_2014_ASSUMP_salaried[\"income\"].astype(int)"
   ]
  },
  {
   "cell_type": "code",
   "execution_count": 45,
   "metadata": {
    "collapsed": true
   },
   "outputs": [],
   "source": [
    "# Nonsalaried\n",
    "weight_to_distribute = sum(list(get_sorted_table(\"individual\", 2014)[\"weights\"])[i_2014_15:]) / len(taxable_incomes_nonsalaried_2014_adj)\n",
    "incomes_to_add = np.array(taxable_incomes_nonsalaried_2014_adj)\n",
    "num_rows = get_sorted_table(\"individual\", 2014).shape[0]\n",
    "filtered_table = get_sorted_table(\"individual\", 2014).drop(np.arange(i_2014_15, num_rows, 1), axis=0)\n",
    "\n",
    "new_entries_df = pd.DataFrame([[x, weight_to_distribute] for x in incomes_to_add], columns=[\"income\", \"weights\"])\n",
    "final_incomes_2014_ASSUMP_nonsalaried = filtered_table.append(new_entries_df).reset_index().drop([\"index\"], axis=1)\n",
    "final_incomes_2014_ASSUMP_nonsalaried[\"income\"] = final_incomes_2014_ASSUMP_nonsalaried[\"income\"].astype(int)"
   ]
  },
  {
   "cell_type": "markdown",
   "metadata": {
    "collapsed": true
   },
   "source": [
    "**2015**"
   ]
  },
  {
   "cell_type": "code",
   "execution_count": 46,
   "metadata": {
    "collapsed": false
   },
   "outputs": [],
   "source": [
    "# Salaried\n",
    "weight_to_distribute = sum(list(get_sorted_table(\"individual\", 2015)[\"weights\"])[i_2015_16:]) / len(taxable_incomes_salaried_2015_adj)\n",
    "incomes_to_add = np.array(taxable_incomes_salaried_2015_adj)\n",
    "num_rows = get_sorted_table(\"individual\", 2015).shape[0]\n",
    "filtered_table = get_sorted_table(\"individual\", 2015).drop(np.arange(i_2015_16, num_rows, 1), axis=0)\n",
    "\n",
    "new_entries_df = pd.DataFrame([[x, weight_to_distribute] for x in incomes_to_add], columns=[\"income\", \"weights\"])\n",
    "final_incomes_2015_ASSUMP_salaried = filtered_table.append(new_entries_df).reset_index().drop([\"index\"], axis=1)\n",
    "final_incomes_2015_ASSUMP_salaried[\"income\"] = final_incomes_2015_ASSUMP_salaried[\"income\"].astype(int)"
   ]
  },
  {
   "cell_type": "code",
   "execution_count": 47,
   "metadata": {
    "collapsed": true
   },
   "outputs": [],
   "source": [
    "# Nonsalaried\n",
    "weight_to_distribute = sum(list(get_sorted_table(\"individual\", 2015)[\"weights\"])[i_2015_16:]) / len(taxable_incomes_nonsalaried_2015_adj)\n",
    "incomes_to_add = np.array(taxable_incomes_nonsalaried_2015_adj)\n",
    "num_rows = get_sorted_table(\"individual\", 2015).shape[0]\n",
    "filtered_table = get_sorted_table(\"individual\", 2015).drop(np.arange(i_2015_16, num_rows, 1), axis=0)\n",
    "\n",
    "new_entries_df = pd.DataFrame([[x, weight_to_distribute] for x in incomes_to_add], columns=[\"income\", \"weights\"])\n",
    "final_incomes_2015_ASSUMP_nonsalaried = filtered_table.append(new_entries_df).reset_index().drop([\"index\"], axis=1)\n",
    "final_incomes_2015_ASSUMP_nonsalaried[\"income\"] = final_incomes_2015_ASSUMP_nonsalaried[\"income\"].astype(int)"
   ]
  },
  {
   "cell_type": "markdown",
   "metadata": {},
   "source": [
    "# Export Data"
   ]
  },
  {
   "cell_type": "markdown",
   "metadata": {},
   "source": [
    "We will now export these final numbers and graphs to a seperate folder so we can use it in other notebooks."
   ]
  },
  {
   "cell_type": "code",
   "execution_count": 48,
   "metadata": {
    "collapsed": true
   },
   "outputs": [],
   "source": [
    "with open('./finalData/finalCombinedMicrodata/final_incomes_2015_ASSUMP_salaried.pkl', 'wb') as f: pickle.dump(final_incomes_2015_ASSUMP_salaried, f)\n",
    "with open('./finalData/finalCombinedMicrodata/final_incomes_2015_ASSUMP_nonsalaried.pkl', 'wb') as f: pickle.dump(final_incomes_2015_ASSUMP_nonsalaried, f)\n",
    "\n",
    "with open('./finalData/finalCombinedMicrodata/final_incomes_2014_ASSUMP_salaried.pkl', 'wb') as f: pickle.dump(final_incomes_2014_ASSUMP_salaried, f)\n",
    "with open('./finalData/finalCombinedMicrodata/final_incomes_2014_ASSUMP_nonsalaried.pkl', 'wb') as f: pickle.dump(final_incomes_2014_ASSUMP_nonsalaried, f)\n",
    "\n",
    "with open('./finalData/finalCombinedMicrodata/final_incomes_2013_ASSUMP_salaried.pkl', 'wb') as f: pickle.dump(final_incomes_2013_ASSUMP_salaried, f)\n",
    "with open('./finalData/finalCombinedMicrodata/final_incomes_2013_ASSUMP_nonsalaried.pkl', 'wb') as f: pickle.dump(final_incomes_2013_ASSUMP_nonsalaried, f)\n",
    "\n",
    "with open('./finalData/finalCombinedMicrodata/final_incomes_2012_ASSUMP_salaried.pkl', 'wb') as f: pickle.dump(final_incomes_2012_ASSUMP_salaried, f)\n",
    "with open('./finalData/finalCombinedMicrodata/final_incomes_2012_ASSUMP_nonsalaried.pkl', 'wb') as f: pickle.dump(final_incomes_2012_ASSUMP_nonsalaried, f)\n",
    "\n",
    "with open('./finalData/finalCombinedMicrodata/final_incomes_2011_ASSUMP_salaried.pkl', 'wb') as f: pickle.dump(final_incomes_2011_ASSUMP_salaried, f)\n",
    "with open('./finalData/finalCombinedMicrodata/final_incomes_2011_ASSUMP_nonsalaried.pkl', 'wb') as f: pickle.dump(final_incomes_2011_ASSUMP_nonsalaried, f)\n",
    "\n",
    "with open('./finalData/finalCombinedMicrodata/final_incomes_2010_ASSUMP_salaried.pkl', 'wb') as f: pickle.dump(final_incomes_2010_ASSUMP_salaried, f)\n",
    "with open('./finalData/finalCombinedMicrodata/final_incomes_2010_ASSUMP_nonsalaried.pkl', 'wb') as f: pickle.dump(final_incomes_2010_ASSUMP_nonsalaried, f)\n",
    "\n",
    "with open('./finalData/finalCombinedMicrodata/final_incomes_2008_ASSUMP_salaried.pkl', 'wb') as f: pickle.dump(final_incomes_2008_ASSUMP_salaried, f)\n",
    "with open('./finalData/finalCombinedMicrodata/final_incomes_2008_ASSUMP_nonsalaried.pkl', 'wb') as f: pickle.dump(final_incomes_2008_ASSUMP_nonsalaried, f)\n",
    "\n",
    "with open('./finalData/finalCombinedMicrodata/final_incomes_2007_ASSUMP_salaried.pkl', 'wb') as f: pickle.dump(final_incomes_2007_ASSUMP_salaried, f)\n",
    "with open('./finalData/finalCombinedMicrodata/final_incomes_2007_ASSUMP_nonsalaried.pkl', 'wb') as f: pickle.dump(final_incomes_2007_ASSUMP_nonsalaried, f)\n",
    "\n",
    "with open('./finalData/finalCombinedMicrodata/final_incomes_2006_ASSUMP_salaried.pkl', 'wb') as f: pickle.dump(final_incomes_2006_ASSUMP_salaried, f)\n",
    "with open('./finalData/finalCombinedMicrodata/final_incomes_2006_ASSUMP_nonsalaried.pkl', 'wb') as f: pickle.dump(final_incomes_2006_ASSUMP_nonsalaried, f)\n",
    "\n",
    "with open('./finalData/finalCombinedMicrodata/final_incomes_2005_ASSUMP_salaried.pkl', 'wb') as f: pickle.dump(final_incomes_2005_ASSUMP_salaried, f)\n",
    "with open('./finalData/finalCombinedMicrodata/final_incomes_2005_ASSUMP_nonsalaried.pkl', 'wb') as f: pickle.dump(final_incomes_2005_ASSUMP_nonsalaried, f)\n",
    "\n",
    "with open('./finalData/finalCombinedMicrodata/final_incomes_2004_ASSUMP_salaried.pkl', 'wb') as f: pickle.dump(final_incomes_2004_ASSUMP_salaried, f)\n",
    "with open('./finalData/finalCombinedMicrodata/final_incomes_2004_ASSUMP_nonsalaried.pkl', 'wb') as f: pickle.dump(final_incomes_2004_ASSUMP_nonsalaried, f)"
   ]
  },
  {
   "cell_type": "code",
   "execution_count": 49,
   "metadata": {
    "collapsed": true
   },
   "outputs": [],
   "source": [
    "with open('./finalData/finalGraphsAndTables/survey_growth_rates.pkl', 'wb') as f: pickle.dump(survey_growth_rates, f)\n",
    "with open('./finalData/finalGraphsAndTables/junction_percentiles.pkl', 'wb') as f: pickle.dump(junction_percentiles, f)"
   ]
  },
  {
   "cell_type": "markdown",
   "metadata": {},
   "source": [
    "To import the data into another notebook run the below code. Note that your import statement changes whether the file is a list or a table."
   ]
  },
  {
   "cell_type": "code",
   "execution_count": 50,
   "metadata": {
    "collapsed": true
   },
   "outputs": [],
   "source": [
    "# with open('./finalData/FILENAME.pkl', 'rb') as f: FILENAME = pickle.load(f)"
   ]
  },
  {
   "cell_type": "raw",
   "metadata": {},
   "source": [
    "Notes for potential things to add in order of priority:\n",
    "\n",
    "1) Need to construct a larger range of possible incomes to test. Further information is in the 'Constructing Possible Incomes' section. We can create alternative scenarios based on deduction rate (which will increase our inequality numbers compared to current estimates, but makes perfect sense considering taxable income is usually significantly less than actual income). We also need to vary the amount of salaried and nonsalaried earners in our samples, and also have a better back-calculation of type of taxes paid.\n",
    "\n",
    "2) We should test different weighting schemes. Our tax sample is at most around 10% of the population of total taxpayers. Using different weights would test whether or not we are overestimating the bottom or top of the sample. We could then test alternative scenarios, as surely this sample is not representative of the population of top earners.\n",
    "\n",
    "3) There are some interesting Jupyter Notebook extensions that we could install to make this notebook more readable. The link is here: https://github.com/ipython-contrib/jupyter_contrib_nbextensions\n",
    "\n",
    "4) If you just want to install a table of contents extension, run the following in a cell in the notebook.\n",
    "\n",
    "!jupyter nbextension install --user https://rawgithub.com/minrk/ipython_extensions/master/nbextensions/toc.js\n",
    "!curl -L https://rawgithub.com/minrk/ipython_extensions/master/nbextensions/toc.css > $(jupyter --data-dir)/nbextensions/toc.css\n",
    "!jupyter nbextension enable toc\n",
    "\n",
    "Shutdown the notebook, open it again, and there should be a button next to the 'CellToolbar' button that opens up a table of contents."
   ]
  },
  {
   "cell_type": "markdown",
   "metadata": {},
   "source": [
    "Now onto our final notebook, visualizations and conclusions!"
   ]
  }
 ],
 "metadata": {
  "anaconda-cloud": {},
  "kernelspec": {
   "display_name": "Python [conda root]",
   "language": "python",
   "name": "conda-root-py"
  },
  "language_info": {
   "codemirror_mode": {
    "name": "ipython",
    "version": 3
   },
   "file_extension": ".py",
   "mimetype": "text/x-python",
   "name": "python",
   "nbconvert_exporter": "python",
   "pygments_lexer": "ipython3",
   "version": "3.5.2"
  }
 },
 "nbformat": 4,
 "nbformat_minor": 2
}
