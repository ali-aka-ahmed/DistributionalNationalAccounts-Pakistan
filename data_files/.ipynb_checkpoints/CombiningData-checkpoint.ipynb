{
 "cells": [
  {
   "cell_type": "code",
   "execution_count": 1,
   "metadata": {
    "collapsed": false
   },
   "outputs": [],
   "source": [
    "import numpy as np\n",
    "import pandas as pd\n",
    "import pickle\n",
    "\n",
    "\n",
    "from scipy.stats import rankdata\n",
    "import plotly.plotly as py\n",
    "import plotly.graph_objs as go"
   ]
  },
  {
   "cell_type": "code",
   "execution_count": 2,
   "metadata": {
    "collapsed": true
   },
   "outputs": [],
   "source": [
    "pd.options.display.max_columns = None"
   ]
  },
  {
   "cell_type": "markdown",
   "metadata": {},
   "source": [
    "# Load Data"
   ]
  },
  {
   "cell_type": "code",
   "execution_count": 3,
   "metadata": {
    "collapsed": false
   },
   "outputs": [],
   "source": [
    "''' ====================== INDIVIDUAL BALANCE SHEETS ======================'''\n",
    "\n",
    "with open('./finalData/individual_balance_sheet_2004_05.pkl', 'rb') as f: individual_balance_sheet_2004_05 = pickle.load(f)\n",
    "with open('./finalData/individual_balance_sheet_2005_06.pkl', 'rb') as f: individual_balance_sheet_2005_06 = pickle.load(f)\n",
    "with open('./finalData/individual_balance_sheet_2006_07.pkl', 'rb') as f: individual_balance_sheet_2006_07 = pickle.load(f)\n",
    "with open('./finalData/individual_balance_sheet_2007_08.pkl', 'rb') as f: individual_balance_sheet_2007_08 = pickle.load(f)\n",
    "with open('./finalData/individual_balance_sheet_2008_09.pkl', 'rb') as f: individual_balance_sheet_2008_09 = pickle.load(f)\n",
    "with open('./finalData/individual_balance_sheet_2010_11.pkl', 'rb') as f: individual_balance_sheet_2010_11 = pickle.load(f)\n",
    "with open('./finalData/individual_balance_sheet_2011_12.pkl', 'rb') as f: individual_balance_sheet_2011_12 = pickle.load(f)\n",
    "with open('./finalData/individual_balance_sheet_2012_13.pkl', 'rb') as f: individual_balance_sheet_2012_13 = pickle.load(f)\n",
    "with open('./finalData/individual_balance_sheet_2013_14.pkl', 'rb') as f: individual_balance_sheet_2013_14 = pickle.load(f)\n",
    "with open('./finalData/individual_balance_sheet_2014_15.pkl', 'rb') as f: individual_balance_sheet_2014_15 = pickle.load(f)\n",
    "with open('./finalData/individual_balance_sheet_2015_16.pkl', 'rb') as f: individual_balance_sheet_2015_16 = pickle.load(f)\n",
    "    \n",
    "''' ============================== TAX DATA ======================'''\n",
    "\n",
    "with open('./finalData/taxes_paid_2012_13.pkl', 'rb') as f: taxes_paid_2012_13 = pickle.load(f)\n",
    "with open('./finalData/taxes_paid_2013_14.pkl', 'rb') as f: taxes_paid_2013_14 = pickle.load(f)\n",
    "with open('./finalData/taxes_paid_2014_15.pkl', 'rb') as f: taxes_paid_2014_15 = pickle.load(f)\n",
    "with open('./finalData/taxes_paid_2015_16.pkl', 'rb') as f: taxes_paid_2015_16 = pickle.load(f)\n",
    "with open('./finalData/taxes_paid_2016_17.pkl', 'rb') as f: taxes_paid_2016_17 = pickle.load(f)"
   ]
  },
  {
   "cell_type": "markdown",
   "metadata": {},
   "source": [
    "# Combine Data"
   ]
  },
  {
   "cell_type": "markdown",
   "metadata": {},
   "source": [
    "Here we will find where to combine the tax and survey data, extend the tax data that we have to cover more years using growth rates from the survey data, and finally combine that derived income data from taxes with survey data.\n",
    "\n",
    "Again, the reason we are doing this is because the tax data is generally more accurate then the survey data. Once we make assumptions about our tax data, we will test it against the applicable entries in the survey data to compare distributions, before replacing.\n",
    "\n",
    "A word on the idea of extending the tax data. I want to stress that survey data is highly unsatisfactory for tracking income growth for top earners, but it is better than no data at all. ** We must keep in mind that the most accurate statistics for income shares will be from 2012 onwards**, given that we will be using survey growth rates."
   ]
  },
  {
   "cell_type": "markdown",
   "metadata": {},
   "source": [
    "Below are the final tables that we create. We make a variety of assumptions about the distribution of salaried VS unsalaried workers within our tax data, level of tax deduction, and what weighting we should use given that our sample only covers around 10% of the population of top incomes we are trying to estimate."
   ]
  },
  {
   "cell_type": "markdown",
   "metadata": {},
   "source": [
    "**Final Combined Microdata**"
   ]
  },
  {
   "cell_type": "raw",
   "metadata": {},
   "source": [
    "TABLE NAMES THAT WILL BE EXPORTED"
   ]
  },
  {
   "cell_type": "markdown",
   "metadata": {},
   "source": [
    "**Final Graphs and Tables**"
   ]
  },
  {
   "cell_type": "raw",
   "metadata": {},
   "source": [
    "junction_percentiles"
   ]
  },
  {
   "cell_type": "markdown",
   "metadata": {},
   "source": [
    "## Finding Junction Percentiles"
   ]
  },
  {
   "cell_type": "markdown",
   "metadata": {},
   "source": [
    "The tax data is only valid for incomes above the exemption level. Therefore, to combine the data, we will need to remove all samples above the exemption level in the survey data, correct the tax data by moving it back six months to be in line with the survey data, and then combine the two data sources. Let's first find the percentiles and indices where this occurs in the survey data."
   ]
  },
  {
   "cell_type": "markdown",
   "metadata": {},
   "source": [
    "**Section Final Data**"
   ]
  },
  {
   "cell_type": "raw",
   "metadata": {},
   "source": [
    "incomes_2004_05\n",
    "percentiles_2004_05\n",
    "i_2004_05\n",
    "\n",
    "incomes_2005_06\n",
    "percentiles_2005_06\n",
    "i_2005_06\n",
    "\n",
    "incomes_2006_07\n",
    "percentiles_2006_07\n",
    "i_2006_07\n",
    "\n",
    "incomes_2007_08\n",
    "percentiles_2007_08\n",
    "i_2007_08_salaried\n",
    "i_2007_08_nonsalaried\n",
    "\n",
    "incomes_2008_09\n",
    "percentiles_2008_09\n",
    "i_2008_09_salaried\n",
    "i_2008_09_nonsalaried\n",
    "\n",
    "incomes_2010_11\n",
    "percentiles_2010_11\n",
    "i_2010_11\n",
    "\n",
    "incomes_2011_12\n",
    "percentiles_2011_12\n",
    "i_2011_12\n",
    "\n",
    "incomes_2012_13\n",
    "percentiles_2012_13\n",
    "i_2012_13\n",
    "\n",
    "incomes_2013_14\n",
    "percentiles_2013_14\n",
    "i_2013_14\n",
    "\n",
    "incomes_2014_15\n",
    "percentiles_2014_15\n",
    "i_2014_15\n",
    "\n",
    "incomes_2015_16\n",
    "percentiles_2015_16\n",
    "i_2015_16"
   ]
  },
  {
   "cell_type": "markdown",
   "metadata": {},
   "source": [
    "**Helper Functions**"
   ]
  },
  {
   "cell_type": "code",
   "execution_count": 4,
   "metadata": {
    "collapsed": true
   },
   "outputs": [],
   "source": [
    "def get_percentiles(d):\n",
    "    return (rankdata(d, 'min')-1)/len(d)"
   ]
  },
  {
   "cell_type": "markdown",
   "metadata": {},
   "source": [
    "Let's begin! 💯"
   ]
  },
  {
   "cell_type": "markdown",
   "metadata": {},
   "source": [
    "**2004 - 2005**"
   ]
  },
  {
   "cell_type": "markdown",
   "metadata": {},
   "source": [
    "The reason we are calculating the junctions for these years, despite not having the tax data, is because we will extrapolate the tax data in the next section. We need to know what the replacement junction should be for the extrapolated tax years.\n",
    "\n",
    "Also if the Federal Bureau of Revenue ever decides to release tax data for these years, we will have the junctions ready.\n",
    "\n",
    "I want to stress that survey data is highly unsatisfactory for tracking income growth for top earners, but it is better than no data at all. ** We must keep in mind that the most accurate statistics for income shares will be from 2012 onwards**, given that we will use survey growth rates."
   ]
  },
  {
   "cell_type": "code",
   "execution_count": 5,
   "metadata": {
    "collapsed": false
   },
   "outputs": [
    {
     "name": "stdout",
     "output_type": "stream",
     "text": [
      "80.3 junction percentile\n"
     ]
    }
   ],
   "source": [
    "# 80,000 exemption limit\n",
    "incomes_2004_05 = list(individual_balance_sheet_2004_05[\"income\"].sort_values())\n",
    "percentiles_2004_05 = get_percentiles(incomes_2004_05)\n",
    "i_2004_05 = 0\n",
    "while incomes_2004_05[i_2004_05] < 80000:\n",
    "    i_2004_05 += 1\n",
    "print(round(percentiles_2004_05[i_2004_05] * 100, 2), \"junction percentile\")"
   ]
  },
  {
   "cell_type": "markdown",
   "metadata": {},
   "source": [
    "**2005 - 2006**"
   ]
  },
  {
   "cell_type": "code",
   "execution_count": 6,
   "metadata": {
    "collapsed": false
   },
   "outputs": [
    {
     "name": "stdout",
     "output_type": "stream",
     "text": [
      "85.74 junction percentile\n"
     ]
    }
   ],
   "source": [
    "# 100,000 exemption limit (src. ./taxpayerData/supplemental_tax_information/taxRates2005-2006)\n",
    "incomes_2005_06 = list(individual_balance_sheet_2005_06[\"income\"].sort_values())\n",
    "percentiles_2005_06 = get_percentiles(incomes_2005_06)\n",
    "i_2005_06 = 0\n",
    "while incomes_2005_06[i_2005_06] < 100000:\n",
    "    i_2005_06 += 1\n",
    "print(round(percentiles_2005_06[i_2005_06] * 100, 2), \"junction percentile\")"
   ]
  },
  {
   "cell_type": "markdown",
   "metadata": {},
   "source": [
    "**2006 - 2007**"
   ]
  },
  {
   "cell_type": "code",
   "execution_count": 7,
   "metadata": {
    "collapsed": false
   },
   "outputs": [
    {
     "name": "stdout",
     "output_type": "stream",
     "text": [
      "85.47 junction percentile\n"
     ]
    }
   ],
   "source": [
    "# 100,000 exemption limit (src. ./taxpayerData/supplemental_tax_information/taxRates2006-2007)\n",
    "incomes_2006_07 = list(individual_balance_sheet_2006_07[\"income\"].sort_values())\n",
    "percentiles_2006_07 = get_percentiles(incomes_2006_07)\n",
    "i_2006_07 = 0\n",
    "while incomes_2006_07[i_2006_07] < 100000:\n",
    "    i_2006_07 += 1\n",
    "print(round(percentiles_2006_07[i_2006_07] * 100, 2), \"junction percentile\")"
   ]
  },
  {
   "cell_type": "markdown",
   "metadata": {},
   "source": [
    "**2007 - 2008**"
   ]
  },
  {
   "cell_type": "markdown",
   "metadata": {},
   "source": [
    "For this year, there are different exemption levels based on salaried VS non-salaried earners. We keep both for correctness."
   ]
  },
  {
   "cell_type": "code",
   "execution_count": 128,
   "metadata": {
    "collapsed": false
   },
   "outputs": [
    {
     "name": "stdout",
     "output_type": "stream",
     "text": [
      "89.65 junction percentile, salaried\n",
      "78.28 junction percentile, nonsalaried\n"
     ]
    }
   ],
   "source": [
    "# 150,000 exemption limit for salaried earners (src. ./taxpayerData/supplemental_tax_information/taxRates2007-2008)\n",
    "incomes_2007_08 = list(individual_balance_sheet_2007_08[\"income\"].sort_values())\n",
    "percentiles_2007_08 = get_percentiles(incomes_2007_08)\n",
    "i_2007_08_salaried = 0\n",
    "while incomes_2007_08[i_2007_08_salaried] < 150000:\n",
    "    i_2007_08_salaried += 1\n",
    "print(round(percentiles_2007_08[i_2007_08_salaried] * 100, 2), \"junction percentile, salaried\")\n",
    "\n",
    "# 100,000 exemption limit for non-salaried earners (src. ./taxpayerData/supplemental_tax_information/taxRates2007-2008)\n",
    "incomes_2007_08 = list(individual_balance_sheet_2007_08[\"income\"].sort_values())\n",
    "percentiles_2007_08 = get_percentiles(incomes_2007_08)\n",
    "i_2007_08_nonsalaried = 0\n",
    "while incomes_2007_08[i_2007_08_nonsalaried] < 100000:\n",
    "    i_2007_08_nonsalaried += 1\n",
    "print(round(percentiles_2007_08[i_2007_08_nonsalaried] * 100, 2), \"junction percentile, nonsalaried\")"
   ]
  },
  {
   "cell_type": "markdown",
   "metadata": {},
   "source": [
    "**2008 - 2009**"
   ]
  },
  {
   "cell_type": "markdown",
   "metadata": {},
   "source": [
    "For this year, there are different exemption levels based on salaried VS non-salaried earners. We keep both for correctness."
   ]
  },
  {
   "cell_type": "code",
   "execution_count": 118,
   "metadata": {
    "collapsed": false
   },
   "outputs": [
    {
     "name": "stdout",
     "output_type": "stream",
     "text": [
      "83.61 junction percentile, salaried\n",
      "68.43 junction percentile, nonsalaried\n"
     ]
    }
   ],
   "source": [
    "# 150,000 exemption limit for salaried earners (src. ./taxpayerData/supplemental_tax_information/taxRates2008-2009)\n",
    "incomes_2008_09 = list(individual_balance_sheet_2008_09[\"income\"].sort_values())\n",
    "percentiles_2008_09 = get_percentiles(incomes_2008_09)\n",
    "i_2008_09_salaried = 0\n",
    "while incomes_2008_09[i_2008_09_salaried] < 150000:\n",
    "    i_2008_09_salaried += 1\n",
    "print(round(percentiles_2008_09[i_2008_09_salaried] * 100, 2), \"junction percentile, salaried\")\n",
    "\n",
    "# 100,000 exemption limit for nonsalaried earners (src. ./taxpayerData/supplemental_tax_information/taxRates2008-2009)\n",
    "incomes_2008_09 = list(individual_balance_sheet_2008_09[\"income\"].sort_values())\n",
    "percentiles_2008_09 = get_percentiles(incomes_2008_09)\n",
    "i_2008_09_nonsalaried = 0\n",
    "while incomes_2008_09[i_2008_09_nonsalaried] < 100000:\n",
    "    i_2008_09_nonsalaried += 1\n",
    "print(round(percentiles_2008_09[i_2008_09_nonsalaried] * 100, 2), \"junction percentile, nonsalaried\")"
   ]
  },
  {
   "cell_type": "markdown",
   "metadata": {},
   "source": [
    "**2009 - 2010**"
   ]
  },
  {
   "cell_type": "markdown",
   "metadata": {},
   "source": [
    "No survey data 😢"
   ]
  },
  {
   "cell_type": "markdown",
   "metadata": {},
   "source": [
    "**2010 - 2011**"
   ]
  },
  {
   "cell_type": "code",
   "execution_count": 109,
   "metadata": {
    "collapsed": false
   },
   "outputs": [
    {
     "name": "stdout",
     "output_type": "stream",
     "text": [
      "93.81 junction percentile\n"
     ]
    }
   ],
   "source": [
    "# 300,000 exemption limit (src. ./taxpayerData/supplemental_tax_information/taxRates2010-2011)\n",
    "incomes_2010_11 = list(individual_balance_sheet_2010_11[\"income\"].sort_values())\n",
    "percentiles_2010_11 = get_percentiles(incomes_2010_11)\n",
    "i_2010_11 = 0\n",
    "while incomes_2010_11[i_2010_11] < 300000:\n",
    "    i_2010_11 += 1\n",
    "print(round(percentiles_2010_11[i_2010_11] * 100, 2), \"junction percentile\")"
   ]
  },
  {
   "cell_type": "markdown",
   "metadata": {},
   "source": [
    "**2011 - 2012**"
   ]
  },
  {
   "cell_type": "code",
   "execution_count": 110,
   "metadata": {
    "collapsed": false
   },
   "outputs": [
    {
     "name": "stdout",
     "output_type": "stream",
     "text": [
      "90.25 junction percentile\n"
     ]
    }
   ],
   "source": [
    "# 300,000 exemption limit (src. ./taxpayerData/supplemental_tax_information/taxRates2011-2012)\n",
    "incomes_2011_12 = list(individual_balance_sheet_2011_12[\"income\"].sort_values())\n",
    "percentiles_2011_12 = get_percentiles(incomes_2011_12)\n",
    "i_2011_12 = 0\n",
    "while incomes_2011_12[i_2011_12] < 300000:\n",
    "    i_2011_12 += 1\n",
    "print(round(percentiles_2011_12[i_2011_12] * 100, 2), \"junction percentile\")"
   ]
  },
  {
   "cell_type": "markdown",
   "metadata": {},
   "source": [
    "** Years with Available Tax Data **"
   ]
  },
  {
   "cell_type": "markdown",
   "metadata": {},
   "source": [
    "**2012 - 2013**"
   ]
  },
  {
   "cell_type": "markdown",
   "metadata": {},
   "source": [
    "This is the only year where the exemption limit is not 400,000 PKR. When correcting the 2012 - 2013 tax year data (moving it back 6 months to match the survey timeframe), we will make sure any incomes lower than 350,000 PKR are cut off, and the weights for the section adjusted accordingly, such that this junction is accurate."
   ]
  },
  {
   "cell_type": "code",
   "execution_count": 111,
   "metadata": {
    "collapsed": false
   },
   "outputs": [
    {
     "name": "stdout",
     "output_type": "stream",
     "text": [
      "90.01 junction percentile\n"
     ]
    }
   ],
   "source": [
    "# 350,000 exemption limit for the 2013 tax year.\n",
    "incomes_2012_13 = list(individual_balance_sheet_2012_13[\"income\"].sort_values())\n",
    "percentiles_2012_13 = get_percentiles(incomes_2012_13)\n",
    "i_2012_13 = 0\n",
    "while incomes_2012_13[i_2012_13] < 350000:\n",
    "    i_2012_13 += 1\n",
    "print(round(percentiles_2012_13[i_2012_13] * 100, 2), \"junction percentile\")"
   ]
  },
  {
   "cell_type": "markdown",
   "metadata": {},
   "source": [
    "**2013 - 2014**"
   ]
  },
  {
   "cell_type": "markdown",
   "metadata": {},
   "source": [
    "We perform the same calculation as above for this year onwards."
   ]
  },
  {
   "cell_type": "code",
   "execution_count": 112,
   "metadata": {
    "collapsed": false
   },
   "outputs": [
    {
     "name": "stdout",
     "output_type": "stream",
     "text": [
      "93.89 junction percentile\n"
     ]
    }
   ],
   "source": [
    "# 400,000 exemption limit 2014 onwards\n",
    "incomes_2013_14 = list(individual_balance_sheet_2013_14[\"income\"].sort_values())\n",
    "percentiles_2013_14 = get_percentiles(incomes_2013_14)\n",
    "i_2013_14 = 0\n",
    "while incomes_2013_14[i_2013_14] < 400000:\n",
    "    i_2013_14 += 1\n",
    "print(round(percentiles_2013_14[i_2013_14] * 100, 2), \"junction percentile\")"
   ]
  },
  {
   "cell_type": "markdown",
   "metadata": {},
   "source": [
    "**2014 - 2015**"
   ]
  },
  {
   "cell_type": "code",
   "execution_count": 113,
   "metadata": {
    "collapsed": false
   },
   "outputs": [
    {
     "name": "stdout",
     "output_type": "stream",
     "text": [
      "92.04 junction percentile\n"
     ]
    }
   ],
   "source": [
    "# 400,000 exemption limit 2014 onwards\n",
    "incomes_2014_15 = list(individual_balance_sheet_2014_15[\"income\"].sort_values())\n",
    "percentiles_2014_15 = get_percentiles(incomes_2014_15)\n",
    "i_2014_15 = 0\n",
    "while incomes_2014_15[i_2014_15] < 400000:\n",
    "    i_2014_15 += 1\n",
    "print(round(percentiles_2014_15[i_2014_15] * 100, 2), \"junction percentile\")"
   ]
  },
  {
   "cell_type": "markdown",
   "metadata": {},
   "source": [
    "**2015 - 2016**"
   ]
  },
  {
   "cell_type": "code",
   "execution_count": 114,
   "metadata": {
    "collapsed": false
   },
   "outputs": [
    {
     "name": "stdout",
     "output_type": "stream",
     "text": [
      "88.21 junction percentile\n"
     ]
    }
   ],
   "source": [
    "# 400,000 exemption limit 2014 onwards\n",
    "incomes_2015_16 = list(individual_balance_sheet_2015_16[\"income\"].sort_values())\n",
    "percentiles_2015_16 = get_percentiles(incomes_2015_16)\n",
    "i_2015_16 = 0\n",
    "while incomes_2015_16[i_2015_16] < 400000:\n",
    "    i_2015_16 += 1\n",
    "print(round(percentiles_2015_16[i_2015_16] * 100, 2), \"junction percentile\")"
   ]
  },
  {
   "cell_type": "markdown",
   "metadata": {
    "collapsed": true
   },
   "source": [
    "### Junction Percentiles, 2004 - 2016"
   ]
  },
  {
   "cell_type": "code",
   "execution_count": 119,
   "metadata": {
    "collapsed": false
   },
   "outputs": [
    {
     "data": {
      "text/html": [
       "<div>\n",
       "<table border=\"1\" class=\"dataframe\">\n",
       "  <thead>\n",
       "    <tr style=\"text-align: right;\">\n",
       "      <th></th>\n",
       "      <th>Year</th>\n",
       "      <th>Percentile</th>\n",
       "      <th>Replaced Percentiles (substituted for tax data)</th>\n",
       "    </tr>\n",
       "  </thead>\n",
       "  <tbody>\n",
       "    <tr>\n",
       "      <th>0</th>\n",
       "      <td>2004</td>\n",
       "      <td>80.3</td>\n",
       "      <td>19.7</td>\n",
       "    </tr>\n",
       "    <tr>\n",
       "      <th>1</th>\n",
       "      <td>2005</td>\n",
       "      <td>85.74</td>\n",
       "      <td>14.26</td>\n",
       "    </tr>\n",
       "    <tr>\n",
       "      <th>2</th>\n",
       "      <td>2006</td>\n",
       "      <td>85.47</td>\n",
       "      <td>14.53</td>\n",
       "    </tr>\n",
       "    <tr>\n",
       "      <th>3</th>\n",
       "      <td>2007</td>\n",
       "      <td>89.65, 78.28*</td>\n",
       "      <td>10.35, 21.72*</td>\n",
       "    </tr>\n",
       "    <tr>\n",
       "      <th>4</th>\n",
       "      <td>2008</td>\n",
       "      <td>83.61, 68.43*</td>\n",
       "      <td>16.39, 31.57*</td>\n",
       "    </tr>\n",
       "    <tr>\n",
       "      <th>5</th>\n",
       "      <td>2010</td>\n",
       "      <td>93.81</td>\n",
       "      <td>6.19</td>\n",
       "    </tr>\n",
       "    <tr>\n",
       "      <th>6</th>\n",
       "      <td>2011</td>\n",
       "      <td>90.25</td>\n",
       "      <td>9.75</td>\n",
       "    </tr>\n",
       "    <tr>\n",
       "      <th>7</th>\n",
       "      <td>2012</td>\n",
       "      <td>90.01</td>\n",
       "      <td>9.99</td>\n",
       "    </tr>\n",
       "    <tr>\n",
       "      <th>8</th>\n",
       "      <td>2013</td>\n",
       "      <td>93.89</td>\n",
       "      <td>6.11</td>\n",
       "    </tr>\n",
       "    <tr>\n",
       "      <th>9</th>\n",
       "      <td>2014</td>\n",
       "      <td>92.04</td>\n",
       "      <td>7.96</td>\n",
       "    </tr>\n",
       "    <tr>\n",
       "      <th>10</th>\n",
       "      <td>2015</td>\n",
       "      <td>88.21</td>\n",
       "      <td>11.79</td>\n",
       "    </tr>\n",
       "  </tbody>\n",
       "</table>\n",
       "</div>"
      ],
      "text/plain": [
       "    Year     Percentile Replaced Percentiles (substituted for tax data)\n",
       "0   2004           80.3                                            19.7\n",
       "1   2005          85.74                                           14.26\n",
       "2   2006          85.47                                           14.53\n",
       "3   2007  89.65, 78.28*                                   10.35, 21.72*\n",
       "4   2008  83.61, 68.43*                                   16.39, 31.57*\n",
       "5   2010          93.81                                            6.19\n",
       "6   2011          90.25                                            9.75\n",
       "7   2012          90.01                                            9.99\n",
       "8   2013          93.89                                            6.11\n",
       "9   2014          92.04                                            7.96\n",
       "10  2015          88.21                                           11.79"
      ]
     },
     "execution_count": 119,
     "metadata": {},
     "output_type": "execute_result"
    }
   ],
   "source": [
    "years = np.arange(2004, 2016, 1)\n",
    "index = np.argwhere(years==2009)\n",
    "years = np.delete(years, index)\n",
    "\n",
    "d = {\n",
    "    'Year': years, \n",
    "    'Percentile': [\n",
    "        str(round(percentiles_2004_05[i_2004_05]*100, 2)),\n",
    "        str(round(percentiles_2005_06[i_2005_06]*100, 2)),\n",
    "        str(round(percentiles_2006_07[i_2006_07]*100, 2)),\n",
    "        str(round(percentiles_2007_08[i_2007_08_salaried]*100, 2)) + \", \" + str(round(percentiles_2007_08[i_2007_08_nonsalaried]*100, 2)) + \"*\",\n",
    "        str(round(percentiles_2008_09[i_2008_09_salaried]*100, 2)) + \", \" + str(round(percentiles_2008_09[i_2008_09_nonsalaried]*100, 2)) + \"*\",\n",
    "        str(round(percentiles_2010_11[i_2010_11]*100, 2)),\n",
    "        str(round(percentiles_2011_12[i_2011_12]*100, 2)),\n",
    "        str(round(percentiles_2012_13[i_2012_13]*100, 2)),\n",
    "        str(round(percentiles_2013_14[i_2013_14]*100, 2)),\n",
    "        str(round(percentiles_2014_15[i_2014_15]*100, 2)),\n",
    "        str(round(percentiles_2015_16[i_2015_16]*100, 2))\n",
    "    ],\n",
    "    'Replaced Percentiles (substituted for tax data)': [\n",
    "        str(round((1 - percentiles_2004_05[i_2004_05])*100, 2)),\n",
    "        str(round((1 - percentiles_2005_06[i_2005_06])*100, 2)),\n",
    "        str(round((1 - percentiles_2006_07[i_2006_07])*100, 2)),\n",
    "        str(round((1 - percentiles_2007_08[i_2007_08_salaried])*100, 2)) + \", \" + str(round((1 - percentiles_2007_08[i_2007_08_nonsalaried])*100, 2)) + \"*\",\n",
    "        str(round((1 - percentiles_2008_09[i_2008_09_salaried])*100, 2)) + \", \" + str(round((1 - percentiles_2008_09[i_2008_09_nonsalaried])*100, 2)) + \"*\",\n",
    "        str(round((1 - percentiles_2010_11[i_2010_11])*100, 2)),\n",
    "        str(round((1 - percentiles_2011_12[i_2011_12])*100, 2)),\n",
    "        str(round((1 - percentiles_2012_13[i_2012_13])*100, 2)),\n",
    "        str(round((1 - percentiles_2013_14[i_2013_14])*100, 2)),\n",
    "        str(round((1 - percentiles_2014_15[i_2014_15])*100, 2)),\n",
    "        str(round((1 - percentiles_2015_16[i_2015_16])*100, 2))\n",
    "    ]\n",
    "}\n",
    "\n",
    "junction_percentiles = pd.DataFrame(data=d)\n",
    "junction_percentiles = junction_percentiles[[\"Year\", \"Percentile\", \"Replaced Percentiles (substituted for tax data)\"]]\n",
    "junction_percentiles"
   ]
  },
  {
   "cell_type": "markdown",
   "metadata": {},
   "source": [
    "\\* Note that the first number is the junction for salaried workers, the second is for unsalaried workers. The tax exemption level varys among type of income for only these two years."
   ]
  },
  {
   "cell_type": "markdown",
   "metadata": {},
   "source": [
    "## Survey Growth Rates"
   ]
  },
  {
   "cell_type": "markdown",
   "metadata": {},
   "source": [
    "Now we need the growth rates of the incomes above the junction percentiles. We need this for extrapolating the tax data."
   ]
  },
  {
   "cell_type": "markdown",
   "metadata": {},
   "source": [
    "**Helper Functions**"
   ]
  },
  {
   "cell_type": "code",
   "execution_count": 120,
   "metadata": {
    "collapsed": true
   },
   "outputs": [],
   "source": [
    "def get_sorted_table(table_type, start_year):  \n",
    "    \"\"\"\n",
    "    Sorted by income.\n",
    "    \n",
    "    Args:\n",
    "        str (table_type): accepts only 'hh' for household or 'individual' for individual.\n",
    "        int (start_year): currently limited to 2004 - 2015.\n",
    "\n",
    "    Returns:\n",
    "        pd.DataFrame: dataframe corresponding to table.\n",
    "    \"\"\"\n",
    "    t = eval(table_type + \"_balance_sheet_\" + str(start_year) + \"_\" + str(start_year+1)[-2:])\n",
    "    return t.sort_values(by=['income']).reset_index().drop([\"index\"], axis=1)\n",
    "\n",
    "def weighted_sum(data, weights):\n",
    "    \"\"\"\n",
    "    Args:\n",
    "        pd.Series (data)\n",
    "        pd.Series (weights)\n",
    "\n",
    "    Returns:\n",
    "        float: weighted sum.\n",
    "    \"\"\"\n",
    "    cum_sum = 0\n",
    "    for i in range(0, len(weights)):\n",
    "        cum_sum += data[i] * weights[i]\n",
    "    return cum_sum\n",
    "\n",
    "def format_percent(value, sigfigs):\n",
    "    return str(round(value * 100, sigfigs)) + \"%\""
   ]
  },
  {
   "cell_type": "markdown",
   "metadata": {},
   "source": [
    "**Relevant Tables**"
   ]
  },
  {
   "cell_type": "code",
   "execution_count": 121,
   "metadata": {
    "collapsed": true
   },
   "outputs": [],
   "source": [
    "national_income = pd.read_excel(\"./miscData/national_income.xlsx\")"
   ]
  },
  {
   "cell_type": "markdown",
   "metadata": {},
   "source": [
    "Calculations for growth rate at junction points."
   ]
  },
  {
   "cell_type": "code",
   "execution_count": 147,
   "metadata": {
    "collapsed": false
   },
   "outputs": [],
   "source": [
    "i2015_2016 = weighted_sum(incomes_2015_16[i_2015_16:], list(get_sorted_table(\"individual\", 2015)[\"weights\"][i_2015_16:]))\n",
    "i2014_2015 = weighted_sum(incomes_2014_15[i_2014_15:], list(get_sorted_table(\"individual\", 2014)[\"weights\"][i_2014_15:]))\n",
    "i2013_2014 = weighted_sum(incomes_2013_14[i_2013_14:], list(get_sorted_table(\"individual\", 2013)[\"weights\"][i_2013_14:]))\n",
    "i2012_2013 = weighted_sum(incomes_2012_13[i_2012_13:], list(get_sorted_table(\"individual\", 2012)[\"weights\"][i_2012_13:]))\n",
    "i2011_2012 = weighted_sum(incomes_2011_12[i_2011_12:], list(get_sorted_table(\"individual\", 2011)[\"weights\"][i_2011_12:]))\n",
    "i2010_2011 = weighted_sum(incomes_2010_11[i_2010_11:], list(get_sorted_table(\"individual\", 2010)[\"weights\"][i_2010_11:]))\n",
    "i2008_2009_salaried = weighted_sum(incomes_2008_09[i_2008_09_salaried:], list(get_sorted_table(\"individual\", 2008)[\"weights\"][i_2008_09_salaried:]))\n",
    "i2008_2009_nonsalaried = weighted_sum(incomes_2008_09[i_2008_09_nonsalaried:], list(get_sorted_table(\"individual\", 2008)[\"weights\"][i_2008_09_nonsalaried:]))\n",
    "i2007_2008_salaried = weighted_sum(incomes_2007_08[i_2007_08_salaried:], list(get_sorted_table(\"individual\", 2007)[\"weights\"][i_2007_08_salaried:]))\n",
    "i2007_2008_nonsalaried = weighted_sum(incomes_2007_08[i_2007_08_nonsalaried:], list(get_sorted_table(\"individual\", 2007)[\"weights\"][i_2007_08_nonsalaried:]))\n",
    "i2006_2007 = weighted_sum(incomes_2006_07[i_2006_07:], list(get_sorted_table(\"individual\", 2006)[\"weights\"][i_2006_07:]))\n",
    "i2005_2006 = weighted_sum(incomes_2005_06[i_2005_06:], list(get_sorted_table(\"individual\", 2005)[\"weights\"][i_2005_06:]))\n",
    "i2004_2005 = weighted_sum(incomes_2004_05[i_2004_05:], list(get_sorted_table(\"individual\", 2004)[\"weights\"][i_2004_05:]))\n",
    "\n",
    "gr2016 = (i2015_2016 - i2014_2015) / i2014_2015\n",
    "gr2015 = (i2014_2015 - i2013_2014) / i2013_2014\n",
    "gr2014 = (i2013_2014 - i2012_2013) / i2012_2013\n",
    "gr2013 = (i2012_2013 - i2011_2012) / i2011_2012\n",
    "gr2012 = (i2011_2012 - i2010_2011) / i2010_2011\n",
    "\n",
    "gr2011_nonsalaried = (i2010_2011 - i2008_2009_nonsalaried) / i2008_2009_nonsalaried\n",
    "gr2009_nonsalaried = (i2008_2009_nonsalaried - i2007_2008_nonsalaried) / i2007_2008_nonsalaried\n",
    "gr2008_nonsalaried = (i2007_2008_nonsalaried - i2006_2007) / i2006_2007\n",
    "\n",
    "gr2011_salaried = (i2010_2011 - i2008_2009_salaried) / i2008_2009_salaried\n",
    "gr2009_salaried = (i2008_2009_salaried - i2007_2008_salaried) / i2007_2008_salaried\n",
    "gr2008_salaried = (i2007_2008_salaried - i2006_2007) / i2006_2007\n",
    "gr2007 = (i2006_2007 - i2005_2006) / i2005_2006\n",
    "gr2006 = (i2005_2006 - i2004_2005) / i2004_2005"
   ]
  },
  {
   "cell_type": "markdown",
   "metadata": {},
   "source": [
    "Calculation for survey income growth rates in aggregate."
   ]
  },
  {
   "cell_type": "code",
   "execution_count": 105,
   "metadata": {
    "collapsed": true
   },
   "outputs": [],
   "source": [
    "ti2015_2016 = weighted_sum(get_sorted_table(\"individual\", 2015)[\"income\"], get_sorted_table(\"individual\", 2015)[\"weights\"])\n",
    "ti2014_2015 = weighted_sum(get_sorted_table(\"individual\", 2014)[\"income\"], get_sorted_table(\"individual\", 2014)[\"weights\"])\n",
    "ti2013_2014 = weighted_sum(get_sorted_table(\"individual\", 2013)[\"income\"], get_sorted_table(\"individual\", 2013)[\"weights\"])\n",
    "ti2012_2013 = weighted_sum(get_sorted_table(\"individual\", 2012)[\"income\"], get_sorted_table(\"individual\", 2012)[\"weights\"])\n",
    "ti2011_2012 = weighted_sum(get_sorted_table(\"individual\", 2011)[\"income\"], get_sorted_table(\"individual\", 2011)[\"weights\"])\n",
    "ti2010_2011 = weighted_sum(get_sorted_table(\"individual\", 2010)[\"income\"], get_sorted_table(\"individual\", 2010)[\"weights\"])\n",
    "ti2008_2009 = weighted_sum(get_sorted_table(\"individual\", 2008)[\"income\"], get_sorted_table(\"individual\", 2008)[\"weights\"])\n",
    "ti2007_2008 = weighted_sum(get_sorted_table(\"individual\", 2007)[\"income\"], get_sorted_table(\"individual\", 2007)[\"weights\"])\n",
    "ti2006_2007 = weighted_sum(get_sorted_table(\"individual\", 2006)[\"income\"], get_sorted_table(\"individual\", 2006)[\"weights\"])\n",
    "ti2005_2006 = weighted_sum(get_sorted_table(\"individual\", 2005)[\"income\"], get_sorted_table(\"individual\", 2005)[\"weights\"])\n",
    "ti2004_2005 = weighted_sum(get_sorted_table(\"individual\", 2004)[\"income\"], get_sorted_table(\"individual\", 2004)[\"weights\"])\n",
    "\n",
    "tgr2016 = (ti2015_2016 - ti2014_2015) / ti2014_2015\n",
    "tgr2015 = (ti2014_2015 - ti2013_2014) / ti2013_2014\n",
    "tgr2014 = (ti2013_2014 - ti2012_2013) / ti2012_2013\n",
    "tgr2013 = (ti2012_2013 - ti2011_2012) / ti2011_2012\n",
    "tgr2012 = (ti2011_2012 - ti2010_2011) / ti2010_2011\n",
    "tgr2011 = (ti2010_2011 - ti2008_2009) / ti2008_2009\n",
    "tgr2009 = (ti2008_2009 - ti2007_2008) / ti2007_2008\n",
    "tgr2008 = (ti2007_2008 - ti2006_2007) / ti2006_2007\n",
    "tgr2007 = (ti2006_2007 - ti2005_2006) / ti2005_2006\n",
    "tgr2006 = (ti2005_2006 - ti2004_2005) / ti2004_2005"
   ]
  },
  {
   "cell_type": "markdown",
   "metadata": {},
   "source": [
    "Calculation for national income growth rates in aggregate."
   ]
  },
  {
   "cell_type": "code",
   "execution_count": 106,
   "metadata": {
    "collapsed": true
   },
   "outputs": [],
   "source": [
    "ni2004 = list(national_income[national_income[\"Year\"] == 2004][\"National Income\"])[0]\n",
    "ni2005 = list(national_income[national_income[\"Year\"] == 2005][\"National Income\"])[0]\n",
    "ni2006 = list(national_income[national_income[\"Year\"] == 2006][\"National Income\"])[0]\n",
    "ni2007 = list(national_income[national_income[\"Year\"] == 2007][\"National Income\"])[0]\n",
    "ni2008 = list(national_income[national_income[\"Year\"] == 2008][\"National Income\"])[0]\n",
    "ni2009 = list(national_income[national_income[\"Year\"] == 2009][\"National Income\"])[0]\n",
    "ni2011 = list(national_income[national_income[\"Year\"] == 2011][\"National Income\"])[0]\n",
    "ni2012 = list(national_income[national_income[\"Year\"] == 2012][\"National Income\"])[0]\n",
    "ni2013 = list(national_income[national_income[\"Year\"] == 2013][\"National Income\"])[0]\n",
    "ni2014 = list(national_income[national_income[\"Year\"] == 2014][\"National Income\"])[0]\n",
    "ni2015 = list(national_income[national_income[\"Year\"] == 2015][\"National Income\"])[0]\n",
    "ni2016 = list(national_income[national_income[\"Year\"] == 2016][\"National Income\"])[0]\n",
    "\n",
    "ni2016 = (ni2016 - ni2015) / ni2015\n",
    "ni2015 = (ni2015 - ni2014) / ni2014\n",
    "ni2014 = (ni2014 - ni2013) / ni2013\n",
    "ni2013 = (ni2013 - ni2012) / ni2012\n",
    "ni2012 = (ni2012 - ni2011) / ni2011\n",
    "ni2011 = (ni2011 - ni2009) / ni2009\n",
    "ni2009 = (ni2009 - ni2008) / ni2008\n",
    "ni2008 = (ni2008 - ni2007) / ni2007\n",
    "ni2007 = (ni2007 - ni2006) / ni2006\n",
    "ni2006 = (ni2006 - ni2005) / ni2005"
   ]
  },
  {
   "cell_type": "markdown",
   "metadata": {},
   "source": [
    "#### Growth Rates for Taxpayer Data, Salaried and Unsalaried Workers"
   ]
  },
  {
   "cell_type": "code",
   "execution_count": 148,
   "metadata": {
    "collapsed": false
   },
   "outputs": [
    {
     "data": {
      "text/html": [
       "<div>\n",
       "<table border=\"1\" class=\"dataframe\">\n",
       "  <thead>\n",
       "    <tr style=\"text-align: right;\">\n",
       "      <th></th>\n",
       "      <th>Year</th>\n",
       "      <th>Taxpayer Income Growth Rate (salaried worker)</th>\n",
       "      <th>Taxpayer Income Growth Rate (nonsalaried worker)</th>\n",
       "      <th>Average Income Growth Rate (survey)</th>\n",
       "      <th>Average Income Growth Rate (National Income)</th>\n",
       "    </tr>\n",
       "  </thead>\n",
       "  <tbody>\n",
       "    <tr>\n",
       "      <th>0</th>\n",
       "      <td>2006</td>\n",
       "      <td>-1.55%</td>\n",
       "      <td>-1.55%</td>\n",
       "      <td>9.86%</td>\n",
       "      <td>5.05%</td>\n",
       "    </tr>\n",
       "    <tr>\n",
       "      <th>1</th>\n",
       "      <td>2007</td>\n",
       "      <td>2.83%</td>\n",
       "      <td>2.83%</td>\n",
       "      <td>-7.44%</td>\n",
       "      <td>2.93%</td>\n",
       "    </tr>\n",
       "    <tr>\n",
       "      <th>2</th>\n",
       "      <td>2008</td>\n",
       "      <td>1.39%</td>\n",
       "      <td>50.32%</td>\n",
       "      <td>39.64%</td>\n",
       "      <td>2.23%</td>\n",
       "    </tr>\n",
       "    <tr>\n",
       "      <th>3</th>\n",
       "      <td>2010</td>\n",
       "      <td>69.58%</td>\n",
       "      <td>55.19%</td>\n",
       "      <td>29.57%</td>\n",
       "      <td>2.45%</td>\n",
       "    </tr>\n",
       "    <tr>\n",
       "      <th>4</th>\n",
       "      <td>2011</td>\n",
       "      <td>-37.4%</td>\n",
       "      <td>-53.86%</td>\n",
       "      <td>15.4%</td>\n",
       "      <td>6.04%</td>\n",
       "    </tr>\n",
       "    <tr>\n",
       "      <th>5</th>\n",
       "      <td>2012</td>\n",
       "      <td>50.15%</td>\n",
       "      <td>50.15%</td>\n",
       "      <td>17.57%</td>\n",
       "      <td>3.91%</td>\n",
       "    </tr>\n",
       "    <tr>\n",
       "      <th>6</th>\n",
       "      <td>2013</td>\n",
       "      <td>58.7%</td>\n",
       "      <td>58.7%</td>\n",
       "      <td>36.17%</td>\n",
       "      <td>4.34%</td>\n",
       "    </tr>\n",
       "    <tr>\n",
       "      <th>7</th>\n",
       "      <td>2014</td>\n",
       "      <td>-10.59%</td>\n",
       "      <td>-10.59%</td>\n",
       "      <td>15.49%</td>\n",
       "      <td>4.64%</td>\n",
       "    </tr>\n",
       "    <tr>\n",
       "      <th>8</th>\n",
       "      <td>2015</td>\n",
       "      <td>53.07%</td>\n",
       "      <td>53.07%</td>\n",
       "      <td>23.46%</td>\n",
       "      <td>4.95%</td>\n",
       "    </tr>\n",
       "    <tr>\n",
       "      <th>9</th>\n",
       "      <td>2016</td>\n",
       "      <td>-17.46%</td>\n",
       "      <td>-17.46%</td>\n",
       "      <td>-7.86%</td>\n",
       "      <td>4.49%</td>\n",
       "    </tr>\n",
       "  </tbody>\n",
       "</table>\n",
       "</div>"
      ],
      "text/plain": [
       "   Year Taxpayer Income Growth Rate (salaried worker)  \\\n",
       "0  2006                                        -1.55%   \n",
       "1  2007                                         2.83%   \n",
       "2  2008                                         1.39%   \n",
       "3  2010                                        69.58%   \n",
       "4  2011                                        -37.4%   \n",
       "5  2012                                        50.15%   \n",
       "6  2013                                         58.7%   \n",
       "7  2014                                       -10.59%   \n",
       "8  2015                                        53.07%   \n",
       "9  2016                                       -17.46%   \n",
       "\n",
       "  Taxpayer Income Growth Rate (nonsalaried worker)  \\\n",
       "0                                           -1.55%   \n",
       "1                                            2.83%   \n",
       "2                                           50.32%   \n",
       "3                                           55.19%   \n",
       "4                                          -53.86%   \n",
       "5                                           50.15%   \n",
       "6                                            58.7%   \n",
       "7                                          -10.59%   \n",
       "8                                           53.07%   \n",
       "9                                          -17.46%   \n",
       "\n",
       "  Average Income Growth Rate (survey)  \\\n",
       "0                               9.86%   \n",
       "1                              -7.44%   \n",
       "2                              39.64%   \n",
       "3                              29.57%   \n",
       "4                               15.4%   \n",
       "5                              17.57%   \n",
       "6                              36.17%   \n",
       "7                              15.49%   \n",
       "8                              23.46%   \n",
       "9                              -7.86%   \n",
       "\n",
       "  Average Income Growth Rate (National Income)  \n",
       "0                                        5.05%  \n",
       "1                                        2.93%  \n",
       "2                                        2.23%  \n",
       "3                                        2.45%  \n",
       "4                                        6.04%  \n",
       "5                                        3.91%  \n",
       "6                                        4.34%  \n",
       "7                                        4.64%  \n",
       "8                                        4.95%  \n",
       "9                                        4.49%  "
      ]
     },
     "execution_count": 148,
     "metadata": {},
     "output_type": "execute_result"
    }
   ],
   "source": [
    "years = np.arange(2006, 2017, 1)\n",
    "index = np.argwhere(years==2009)\n",
    "years = np.delete(years, index)\n",
    "\n",
    "d = {\n",
    "    'Year': years, \n",
    "    'Taxpayer Income Growth Rate (salaried worker)': [\n",
    "        format_percent(gr2006, 2),\n",
    "        format_percent(gr2007, 2),\n",
    "        format_percent(gr2008_salaried, 2),\n",
    "        format_percent(gr2009_salaried, 2),\n",
    "        format_percent(gr2011_salaried, 2),\n",
    "        format_percent(gr2012, 2),\n",
    "        format_percent(gr2013, 2),\n",
    "        format_percent(gr2014, 2),\n",
    "        format_percent(gr2015, 2),\n",
    "        format_percent(gr2016, 2)\n",
    "    ],\n",
    "    'Taxpayer Income Growth Rate (nonsalaried worker)': [\n",
    "        format_percent(gr2006, 2),\n",
    "        format_percent(gr2007, 2),\n",
    "        format_percent(gr2008_nonsalaried, 2),\n",
    "        format_percent(gr2009_nonsalaried, 2),\n",
    "        format_percent(gr2011_nonsalaried, 2),\n",
    "        format_percent(gr2012, 2),\n",
    "        format_percent(gr2013, 2),\n",
    "        format_percent(gr2014, 2),\n",
    "        format_percent(gr2015, 2),\n",
    "        format_percent(gr2016, 2)\n",
    "    ],\n",
    "    'Average Income Growth Rate (survey)': [\n",
    "        format_percent(tgr2006, 2),\n",
    "        format_percent(tgr2007, 2),\n",
    "        format_percent(tgr2008, 2),\n",
    "        format_percent(tgr2009, 2),\n",
    "        format_percent(tgr2011, 2),\n",
    "        format_percent(tgr2012, 2),\n",
    "        format_percent(tgr2013, 2),\n",
    "        format_percent(tgr2014, 2),\n",
    "        format_percent(tgr2015, 2),\n",
    "        format_percent(tgr2016, 2)\n",
    "    ],\n",
    "    'Average Income Growth Rate (National Income)': [\n",
    "        format_percent(ni2006, 2),\n",
    "        format_percent(ni2007, 2),\n",
    "        format_percent(ni2008, 2),\n",
    "        format_percent(ni2009, 2),\n",
    "        format_percent(ni2011, 2),\n",
    "        format_percent(ni2012, 2),\n",
    "        format_percent(ni2013, 2),\n",
    "        format_percent(ni2014, 2),\n",
    "        format_percent(ni2015, 2),\n",
    "        format_percent(ni2016, 2),\n",
    "    ]\n",
    "}\n",
    "\n",
    "survey_growth_rates = pd.DataFrame(data=d)\n",
    "survey_growth_rates = survey_growth_rates[[\"Year\", \"Taxpayer Income Growth Rate (salaried worker)\", \"Taxpayer Income Growth Rate (nonsalaried worker)\", \"Average Income Growth Rate (survey)\", \"Average Income Growth Rate (National Income)\"]]\n",
    "survey_growth_rates"
   ]
  },
  {
   "cell_type": "markdown",
   "metadata": {},
   "source": [
    "Although the numbers seem quite large at first, if we compare them to average growth in the survey data they seem reasonable. Since we only care about the relative change, we will continue to work with these numbers.\n",
    "\n",
    "Further analysis should find a better way to create growth rates for the data we have. Years like 2008, 2011, and 2014 have relatively large deviations from the average survey income growth rate, which is worrisome for our final results."
   ]
  },
  {
   "cell_type": "markdown",
   "metadata": {},
   "source": [
    "## Constructing Derived Income Data from Tax Data"
   ]
  },
  {
   "cell_type": "markdown",
   "metadata": {},
   "source": [
    "### Constructing Possible Incomes"
   ]
  },
  {
   "cell_type": "markdown",
   "metadata": {},
   "source": [
    "In the previous notebook, I walked through our assumption of the Tax Directory being voluntary payments. For convenience we calculated taxable income levels based on whether everyone was a salaried worker or everyone was a nonsalaried worker (those two categories have different rates)."
   ]
  },
  {
   "cell_type": "markdown",
   "metadata": {},
   "source": [
    "Further analysis should delve deeper by selecting taxes from our taxes_paid list, and randomly assigning it as a salaried or non-salaried earner. We can repeat this hundreds of thousands of times in python, and test those different distributions for a more robust range of distributional national accounts.\n",
    "\n",
    "Further anaylsis can also explore the other types of taxes that are part of voluntary payments. I do not think this will make a large difference as those taxes are small and only apply to select very particular categories of income. Pakistani tax code varys rates by employment, capital gains, property, exercise of profession, and 'other' income categories. Capital gains are taxed at the same level as employment (salaried or non-salaried) for securities after 2013, and before there is a flat tax of 15%. For the other categories, the taxes are negligible or they become 0% if the asset is held for more than 2 years. This makes me inclined to believe that employment income is the predominant form of income that taxpayers are receiving.\n",
    "\n",
    "Finally, there is also the question of deductions. We are calculating taxable income, from there we need to calculate income before deductions. Exploring alternate scenarios here would be worthwhile."
   ]
  },
  {
   "cell_type": "markdown",
   "metadata": {},
   "source": [
    "However, as I have limited time now, I will not explore those assumptions at present. At a later date, I will revise my paper and this notebook to include those alternative scenarios."
   ]
  },
  {
   "cell_type": "markdown",
   "metadata": {},
   "source": [
    "**Notes on Current Income Tables**"
   ]
  },
  {
   "cell_type": "markdown",
   "metadata": {},
   "source": [
    "I will be using the \"taxable_incomes_salaried\" and \"taxable_incomes_nonsalaried\" for the calculations. I stress that these two are reasonable are lower bounds for top incomes. They are taxable incomes; we have not taken into account any assumptions for deductions which would only increase these incomes.\n",
    "\n",
    "Also any mix of salaried VS non-salaried incomes would be between the results of these two datasets. Therefore, these two derived income datasets represent the largest range of possibility for top incomes *after* deductions."
   ]
  },
  {
   "cell_type": "markdown",
   "metadata": {},
   "source": [
    "### Correcting the Tax Data using Survey Growth Rates"
   ]
  },
  {
   "cell_type": "markdown",
   "metadata": {},
   "source": [
    "Careful when correcting, lower bounds should be same as what is put in junction percentiles."
   ]
  },
  {
   "cell_type": "code",
   "execution_count": null,
   "metadata": {
    "collapsed": true
   },
   "outputs": [],
   "source": []
  },
  {
   "cell_type": "code",
   "execution_count": null,
   "metadata": {
    "collapsed": true
   },
   "outputs": [],
   "source": []
  },
  {
   "cell_type": "code",
   "execution_count": null,
   "metadata": {
    "collapsed": true
   },
   "outputs": [],
   "source": []
  },
  {
   "cell_type": "code",
   "execution_count": null,
   "metadata": {
    "collapsed": true
   },
   "outputs": [],
   "source": []
  },
  {
   "cell_type": "markdown",
   "metadata": {},
   "source": [
    "### Comparison to Existing Survey Data Distribution"
   ]
  },
  {
   "cell_type": "markdown",
   "metadata": {},
   "source": [
    "## Combining Tax and Survey Data"
   ]
  },
  {
   "cell_type": "markdown",
   "metadata": {},
   "source": [
    "# Export Data"
   ]
  },
  {
   "cell_type": "markdown",
   "metadata": {},
   "source": [
    "Here I will combine the tax and survey data. \n",
    "\n",
    "need to make lower, upper and middle bounds for tax data for the way we calculate income. I need to compare them somehow to the existing distribution which I will be replacing (maybe in many ways).\n",
    "\n",
    "Need to also change weights to mess with final tables (on top of all of the different ways of calculating real income).\n",
    "\n",
    "need to calculate growth rates for survey top incomes.\n",
    "need to extrapolate from a certain year's sample. for all middle, lower, and upper bounds.\n",
    "\n",
    "SAVE THE FINAL TABLES IN A SLIGHTLY DIFFERENT FOLDER"
   ]
  },
  {
   "cell_type": "code",
   "execution_count": 1073,
   "metadata": {
    "collapsed": true
   },
   "outputs": [],
   "source": [
    "weight_to_distribute = sum(list(get_sorted_table(\"individual\", 2012)[\"weights\"])[i_2012_13:]) / len(taxable_incomes_salaried_2012_13)\n",
    "incomes_to_add = np.array(taxable_incomes_salaried_2012_13) / 1\n",
    "num_rows = get_sorted_table(\"individual\", 2012).shape[0]\n",
    "filtered_table = get_sorted_table(\"individual\", 2012).drop(np.arange(i_2012_13, num_rows, 1), axis=0)\n",
    "\n",
    "new_entries_df = pd.DataFrame([[x, weight_to_distribute] for x in incomes_to_add], columns=[\"income\", \"weights\"])\n",
    "final_individual_incomes_2012_13 = filtered_table.append(new_entries_df).reset_index().drop([\"index\"], axis=1)\n",
    "final_individual_incomes_2012_13[\"income\"] = final_individual_incomes_2012_13[\"income\"].astype(int)"
   ]
  },
  {
   "cell_type": "code",
   "execution_count": 1074,
   "metadata": {
    "collapsed": true
   },
   "outputs": [],
   "source": [
    "weight_to_distribute = sum(list(get_sorted_table(\"individual\", 2013)[\"weights\"])[i_2013_14:]) / len(taxable_incomes_salaried_2013_14)\n",
    "incomes_to_add = np.array(taxable_incomes_salaried_2013_14) / 1\n",
    "num_rows = get_sorted_table(\"individual\", 2013).shape[0]\n",
    "filtered_table = get_sorted_table(\"individual\", 2013).drop(np.arange(i_2013_14, num_rows, 1), axis=0)\n",
    "\n",
    "new_entries_df = pd.DataFrame([[x, weight_to_distribute] for x in incomes_to_add], columns=[\"income\", \"weights\"])\n",
    "final_individual_incomes_2013_14 = filtered_table.append(new_entries_df).reset_index().drop([\"index\"], axis=1)\n",
    "final_individual_incomes_2013_14[\"income\"] = final_individual_incomes_2013_14[\"income\"].astype(int)"
   ]
  },
  {
   "cell_type": "code",
   "execution_count": 1075,
   "metadata": {
    "collapsed": true
   },
   "outputs": [],
   "source": [
    "weight_to_distribute = sum(list(get_sorted_table(\"individual\", 2014)[\"weights\"])[i_2014_15:]) / len(taxable_incomes_salaried_2014_15)\n",
    "incomes_to_add = np.array(taxable_incomes_salaried_2014_15) / 1\n",
    "num_rows = get_sorted_table(\"individual\", 2014).shape[0]\n",
    "filtered_table = get_sorted_table(\"individual\", 2014).drop(np.arange(i_2014_15, num_rows, 1), axis=0)\n",
    "\n",
    "new_entries_df = pd.DataFrame([[x, weight_to_distribute] for x in incomes_to_add], columns=[\"income\", \"weights\"])\n",
    "final_individual_incomes_2014_15 = filtered_table.append(new_entries_df).reset_index().drop([\"index\"], axis=1)\n",
    "final_individual_incomes_2014_15[\"income\"] = final_individual_incomes_2014_15[\"income\"].astype(int)"
   ]
  },
  {
   "cell_type": "code",
   "execution_count": 1076,
   "metadata": {
    "collapsed": true
   },
   "outputs": [],
   "source": [
    "weight_to_distribute = sum(list(get_sorted_table(\"individual\", 2015)[\"weights\"])[i_2015_16:]) / len(taxable_incomes_salaried_2015_16)\n",
    "incomes_to_add = np.array(taxable_incomes_salaried_2015_16) / 1\n",
    "num_rows = get_sorted_table(\"individual\", 2015).shape[0]\n",
    "filtered_table = get_sorted_table(\"individual\", 2015).drop(np.arange(i_2015_16, num_rows, 1), axis=0)\n",
    "\n",
    "new_entries_df = pd.DataFrame([[x, weight_to_distribute] for x in incomes_to_add], columns=[\"income\", \"weights\"])\n",
    "final_individual_incomes_2015_16 = filtered_table.append(new_entries_df).reset_index().drop([\"index\"], axis=1)\n",
    "final_individual_incomes_2015_16[\"income\"] = final_individual_incomes_2015_16[\"income\"].astype(int)"
   ]
  },
  {
   "cell_type": "code",
   "execution_count": 1077,
   "metadata": {
    "collapsed": true
   },
   "outputs": [],
   "source": [
    "# NEED TO BACKCALCULATE THE GROWTH OF THIS SAME PERCENTILE ON EARLIER SURVEY DATA. FOR NOW JUST SHOWING SURVEY DATA"
   ]
  },
  {
   "cell_type": "code",
   "execution_count": 1078,
   "metadata": {
    "collapsed": false
   },
   "outputs": [],
   "source": [
    "final_individual_incomes_2004_05 = get_sorted_table(\"individual\", 2004)\n",
    "final_individual_incomes_2005_06 = get_sorted_table(\"individual\", 2005)\n",
    "final_individual_incomes_2006_07 = get_sorted_table(\"individual\", 2006)\n",
    "final_individual_incomes_2007_08 = get_sorted_table(\"individual\", 2007)\n",
    "final_individual_incomes_2008_09 = get_sorted_table(\"individual\", 2008)\n",
    "final_individual_incomes_2010_11 = get_sorted_table(\"individual\", 2010)\n",
    "final_individual_incomes_2011_12 = get_sorted_table(\"individual\", 2011)"
   ]
  }
 ],
 "metadata": {
  "anaconda-cloud": {},
  "kernelspec": {
   "display_name": "Python [conda root]",
   "language": "python",
   "name": "conda-root-py"
  },
  "language_info": {
   "codemirror_mode": {
    "name": "ipython",
    "version": 3
   },
   "file_extension": ".py",
   "mimetype": "text/x-python",
   "name": "python",
   "nbconvert_exporter": "python",
   "pygments_lexer": "ipython3",
   "version": "3.5.2"
  }
 },
 "nbformat": 4,
 "nbformat_minor": 2
}
