{
 "cells": [
  {
   "cell_type": "code",
   "execution_count": 2,
   "metadata": {
    "collapsed": false
   },
   "outputs": [
    {
     "name": "stdout",
     "output_type": "stream",
     "text": [
      "Requirement already satisfied: pdfminer.six in /anaconda/lib/python3.5/site-packages (20170720)\r\n",
      "Requirement already satisfied: six in /anaconda/lib/python3.5/site-packages (from pdfminer.six) (1.10.0)\r\n",
      "Requirement already satisfied: chardet in /anaconda/lib/python3.5/site-packages (from pdfminer.six) (3.0.4)\r\n",
      "Requirement already satisfied: pycryptodome in /anaconda/lib/python3.5/site-packages (from pdfminer.six) (3.4.7)\r\n"
     ]
    }
   ],
   "source": [
    "import numpy as np\n",
    "import pandas as pd\n",
    "import uuid\n",
    "import json\n",
    "import os\n",
    "import urllib\n",
    "# Install Packages\n",
    "!pip install pdfminer.six"
   ]
  },
  {
   "cell_type": "markdown",
   "metadata": {},
   "source": [
    "# Summary Statistics and Incomes for Taxes"
   ]
  },
  {
   "cell_type": "markdown",
   "metadata": {},
   "source": [
    "### Downloading .pdf and .txt Tax Data"
   ]
  },
  {
   "cell_type": "markdown",
   "metadata": {},
   "source": [
    "Here we download the tax data, released in PDFs. We then convert them to text, then parse through them and reconstruct taxable incomes. "
   ]
  },
  {
   "cell_type": "code",
   "execution_count": 3,
   "metadata": {
    "collapsed": true
   },
   "outputs": [],
   "source": [
    "# TODO: is the data hidden on URLs that we don't know? \n",
    "# Is there more tax data uploaded that the government keeps on secret URLs?\n",
    "# To Search Website Directory \n",
    "# Run: lftp URL\n",
    "# Run: du -a > manifest.txt"
   ]
  },
  {
   "cell_type": "markdown",
   "metadata": {},
   "source": [
    "Add the new data as necessary (format the name in a similar way to what exists, then put the link to the PDF)"
   ]
  },
  {
   "cell_type": "code",
   "execution_count": 4,
   "metadata": {
    "collapsed": true
   },
   "outputs": [],
   "source": [
    "tax_links = {\n",
    "    \"2013_ParliamentarianTax\": \"http://www.fbr.gov.pk/Downloads/Document/3769/1\",\n",
    "    \"2014_ParliamentarianTax\": \"http://www.fbr.gov.pk/Downloads/Document/4122/1\",\n",
    "    \"2015_ParliamentarianTax\": \"http://www.fbr.gov.pk/Downloads/Document/14688/1\",\n",
    "    \"2016_ParliamentarianTax\": \"http://www.fbr.gov.pk/Downloads/Document/24994/1\",\n",
    "    \"2017_ParliamentarianTax\": \"http://www.fbr.gov.pk/Downloads/Document/25724/1\",\n",
    "    \"2013_Tax\": \"http://www.fbr.gov.pk/Downloads/Document/3808/1\",\n",
    "    \"2014_Tax\": \"http://www.fbr.gov.pk/Downloads/Document/4124/1\",\n",
    "    \"2015_Tax\": \"http://www.fbr.gov.pk/Downloads/Document/14689/1\",\n",
    "    \"2016_Tax\": \"http://www.fbr.gov.pk/Downloads/Document/25006/1\",\n",
    "    \"2017_Tax\": \"http://www.fbr.gov.pk/Downloads/Document/25725/1\"\n",
    "}"
   ]
  },
  {
   "cell_type": "markdown",
   "metadata": {},
   "source": [
    "This next step creates a folder called \"taxpayerData\" at the location of this file. It then downloads all the above PDF files that are not already in that folder. This is safe to run if you have all the files above already downloaded and in the \"taxpayerData\" folder. It takes awhile (20,000 pages is around 10 minutes)."
   ]
  },
  {
   "cell_type": "code",
   "execution_count": 5,
   "metadata": {
    "collapsed": false
   },
   "outputs": [],
   "source": [
    "# Download Tax Data - takes awhile\n",
    "folder_name = \"taxpayerData\"\n",
    "if not os.path.exists(\"./\" + folder_name + \"/\"):\n",
    "    os.makedirs(\"./\" + folder_name + \"/\")\n",
    "    \n",
    "for k in tax_links.keys():\n",
    "    if os.path.exists(\"./\" + folder_name + \"/\" + k + \".pdf\"):\n",
    "        continue\n",
    "    link = tax_links[k]\n",
    "    response = urllib.request.urlopen(str(link))\n",
    "    with open(\"./\" + folder_name + \"/\" + k + \".pdf\", 'wb') as f:\n",
    "        f.write(response.read())\n",
    "    print(\"file uploaded:\", k)"
   ]
  },
  {
   "cell_type": "markdown",
   "metadata": {},
   "source": [
    "Now we convert these PDFs into text. Create a folder called \"txtCreateFolder\" inside taxpayerData. Drag any PDFs that you need to convert to text inside the folder. We will now run the below script to bulk convert the PDFs to text. \n",
    "\n",
    "This takes the longest time, DO NOT RUN if text file is already there."
   ]
  },
  {
   "cell_type": "code",
   "execution_count": 6,
   "metadata": {
    "collapsed": false
   },
   "outputs": [],
   "source": [
    "# Tranform to text\n",
    "# !\"./tools/convertmyfiles.sh\""
   ]
  },
  {
   "cell_type": "code",
   "execution_count": 7,
   "metadata": {
    "collapsed": true
   },
   "outputs": [],
   "source": [
    "###########################################################################\n",
    "## Old code - change parser below                                        ##\n",
    "## !python \"./tools/pdf2txt.py\" \"./taxpayerData/2017_Tax.pdf\" > test.txt ##\n",
    "###########################################################################"
   ]
  },
  {
   "cell_type": "markdown",
   "metadata": {},
   "source": [
    "### Constructing Taxable Income Lists"
   ]
  },
  {
   "cell_type": "markdown",
   "metadata": {},
   "source": [
    "Now we'll parse through the taxpayer data, creating lists with taxpayers' taxable income."
   ]
  },
  {
   "cell_type": "code",
   "execution_count": 8,
   "metadata": {
    "collapsed": true
   },
   "outputs": [],
   "source": [
    "# helper functions for\n",
    "def is_comma_separated_number(line):\n",
    "    if \",\" in line:\n",
    "        potential_nums = line.split(\",\")\n",
    "        for num in potential_nums:\n",
    "            if not num.isdigit():\n",
    "                return False\n",
    "        return True\n",
    "    else:\n",
    "        return False\n",
    "    \n",
    "def three_digit_or_less_number(line):\n",
    "    if len(line) <= 3 and len(line) >= 1 and line.isdigit():\n",
    "        return True\n",
    "    \n",
    "    \n",
    "def calculate_taxable_income(tax_paid):\n",
    "    if tax_paid < 2000:\n",
    "        amount_above_threshold = tax_paid / 0.02\n",
    "        return 400000 + amount_above_threshold\n",
    "    elif tax_paid < 14500:\n",
    "        amount_above_threshold = (tax_paid - 2000) / 0.05\n",
    "        return 500000 + amount_above_threshold\n",
    "    elif tax_paid < 79500:\n",
    "        amount_above_threshold = (tax_paid - 14500) / 0.10\n",
    "        return 750000 + amount_above_threshold\n",
    "    elif tax_paid < 92000:\n",
    "        amount_above_threshold = (tax_paid - 79500) / 0.125\n",
    "        return 1400000 + amount_above_threshold\n",
    "    elif tax_paid < 137000:\n",
    "        amount_above_threshold = (tax_paid - 92000) / 0.15\n",
    "        return 1500000 + amount_above_threshold\n",
    "    elif tax_paid < 259500:\n",
    "        amount_above_threshold = (tax_paid - 137000) / 0.175\n",
    "        return 1800000 + amount_above_threshold\n",
    "    elif tax_paid < 359500:\n",
    "        amount_above_threshold = (tax_paid - 259500) / 0.20\n",
    "        return 2500000 + amount_above_threshold\n",
    "    elif tax_paid < 472000:\n",
    "        amount_above_threshold = (tax_paid - 359500) / 0.225\n",
    "        return 3000000 + amount_above_threshold\n",
    "    elif tax_paid < 597000:\n",
    "        amount_above_threshold = (tax_paid - 472000) / 0.25\n",
    "        return 3500000 + amount_above_threshold\n",
    "    elif tax_paid < 1422000:\n",
    "        amount_above_threshold = (tax_paid - 597000) / 0.275\n",
    "        return 4000000 + amount_above_threshold\n",
    "    elif tax_paid >= 1422000:\n",
    "        amount_above_threshold = (tax_paid - 1422000) / 0.30\n",
    "        return 7000000 + amount_above_threshold"
   ]
  },
  {
   "cell_type": "code",
   "execution_count": 9,
   "metadata": {
    "collapsed": false
   },
   "outputs": [
    {
     "name": "stdout",
     "output_type": "stream",
     "text": [
      "0.60%\n",
      "1.19%\n",
      "1.79%\n",
      "2.38%\n",
      "2.98%\n",
      "3.57%\n",
      "4.17%\n",
      "4.76%\n",
      "5.36%\n",
      "5.95%\n",
      "6.55%\n",
      "7.14%\n",
      "7.74%\n",
      "8.33%\n",
      "8.93%\n",
      "9.22%\n",
      "9.52%\n",
      "10.12%\n",
      "10.71%\n",
      "11.31%\n",
      "11.90%\n",
      "12.50%\n",
      "13.09%\n",
      "13.69%\n",
      "14.28%\n",
      "14.88%\n",
      "15.47%\n",
      "16.07%\n",
      "16.66%\n",
      "17.26%\n",
      "17.85%\n",
      "18.45%\n",
      "18.75%\n",
      "19.04%\n",
      "19.64%\n",
      "20.23%\n",
      "20.83%\n",
      "21.42%\n",
      "22.02%\n",
      "22.61%\n",
      "23.21%\n",
      "23.51%\n",
      "23.80%\n",
      "24.40%\n",
      "24.99%\n",
      "25.59%\n",
      "26.18%\n",
      "26.78%\n",
      "27.37%\n",
      "27.67%\n",
      "27.97%\n",
      "28.56%\n",
      "29.16%\n",
      "29.75%\n",
      "30.35%\n",
      "30.94%\n",
      "31.54%\n",
      "32.14%\n",
      "32.73%\n",
      "33.33%\n",
      "33.92%\n",
      "34.22%\n",
      "34.52%\n",
      "35.11%\n",
      "35.71%\n",
      "36.30%\n",
      "36.90%\n",
      "37.49%\n",
      "38.09%\n",
      "38.68%\n",
      "39.57%\n",
      "39.87%\n",
      "40.47%\n",
      "41.06%\n",
      "41.36%\n",
      "41.66%\n",
      "42.25%\n",
      "42.85%\n",
      "43.44%\n",
      "44.04%\n",
      "44.63%\n",
      "45.23%\n",
      "45.82%\n",
      "46.42%\n",
      "47.01%\n",
      "47.31%\n",
      "47.61%\n",
      "48.20%\n",
      "48.80%\n",
      "49.39%\n",
      "49.99%\n",
      "50.58%\n",
      "51.18%\n",
      "51.77%\n",
      "52.37%\n",
      "52.96%\n",
      "53.56%\n",
      "54.15%\n",
      "54.75%\n",
      "55.34%\n",
      "55.94%\n",
      "56.53%\n",
      "57.13%\n",
      "57.43%\n",
      "57.72%\n",
      "58.32%\n",
      "58.91%\n",
      "59.21%\n",
      "59.51%\n",
      "60.10%\n",
      "60.70%\n",
      "61.29%\n",
      "61.59%\n",
      "61.89%\n",
      "62.48%\n",
      "62.78%\n",
      "63.38%\n",
      "63.97%\n",
      "64.57%\n",
      "65.16%\n",
      "65.46%\n",
      "65.76%\n",
      "66.35%\n",
      "66.95%\n",
      "67.54%\n",
      "68.14%\n",
      "68.73%\n",
      "69.03%\n",
      "69.92%\n",
      "70.22%\n",
      "70.52%\n",
      "71.11%\n",
      "71.41%\n",
      "71.71%\n",
      "72.30%\n",
      "72.90%\n",
      "73.20%\n",
      "73.49%\n",
      "74.09%\n",
      "74.68%\n",
      "75.28%\n",
      "75.87%\n",
      "76.47%\n",
      "77.06%\n",
      "77.66%\n",
      "78.25%\n",
      "78.85%\n",
      "79.45%\n",
      "80.04%\n",
      "80.34%\n",
      "80.64%\n",
      "81.23%\n",
      "81.53%\n",
      "81.83%\n",
      "82.42%\n",
      "83.02%\n",
      "83.61%\n",
      "83.91%\n",
      "84.21%\n",
      "84.50%\n",
      "84.80%\n",
      "85.40%\n",
      "85.69%\n",
      "85.99%\n",
      "86.29%\n",
      "86.59%\n",
      "87.18%\n",
      "87.48%\n",
      "87.78%\n",
      "88.37%\n",
      "88.67%\n",
      "88.97%\n",
      "89.56%\n",
      "90.16%\n",
      "90.75%\n",
      "91.05%\n",
      "91.35%\n",
      "91.94%\n",
      "92.54%\n",
      "93.13%\n",
      "93.43%\n",
      "93.73%\n",
      "94.32%\n",
      "94.92%\n",
      "95.51%\n",
      "95.81%\n",
      "96.11%\n",
      "96.41%\n",
      "96.70%\n",
      "97.30%\n",
      "98.19%\n",
      "98.49%\n",
      "99.08%\n",
      "99.68%\n"
     ]
    }
   ],
   "source": [
    "# Salaried Individuals - 2016 - June 2017 Tax Year\n",
    "f = open('./taxpayerData/2017_Tax.txt', 'r')\n",
    "\n",
    "in_individuals_section = False\n",
    "in_CNIC_section = False\n",
    "\n",
    "taxable_incomes = []\n",
    "CNICs = set()\n",
    "filers_that_didnt_pay = 0\n",
    "\n",
    "print_number = 0\n",
    "for line in f:\n",
    "    if \"INDIVIDUALS\" in line:\n",
    "        in_individuals_section = True\n",
    "        continue\n",
    "        \n",
    "    # INDIVIDUALS SECTION\n",
    "    if in_individuals_section:\n",
    "        # Collect CNIC Number   \n",
    "        line = line.strip()\n",
    "        if line.isdigit() and len(line) > 3:\n",
    "            CNICs.add(line)\n",
    "        # Get Taxable Income\n",
    "        elif \"-\" == line:\n",
    "            filers_that_didnt_pay += 1\n",
    "            print_number += 1\n",
    "        elif is_comma_separated_number(line) or three_digit_or_less_number(line):\n",
    "            tax_paid = int(line.replace(',', ''))\n",
    "            taxable_income = calculate_taxable_income(tax_paid)\n",
    "            taxable_incomes.append(taxable_income)\n",
    "            print_number += 1\n",
    "            if print_number % 5000 == 0:\n",
    "                print(\"%.2f%%\" % ((len(taxable_incomes) + filers_that_didnt_pay)  * 100 / 1680405))\n",
    "        else:\n",
    "            continue"
   ]
  },
  {
   "cell_type": "code",
   "execution_count": 10,
   "metadata": {
    "collapsed": false
   },
   "outputs": [
    {
     "name": "stdout",
     "output_type": "stream",
     "text": [
      "1\n"
     ]
    }
   ],
   "source": [
    "# Sanity Check, how many entries are we missing?\n",
    "print(1680405 - len(taxable_incomes) - filers_that_didnt_pay)"
   ]
  },
  {
   "cell_type": "code",
   "execution_count": 11,
   "metadata": {
    "collapsed": false
   },
   "outputs": [
    {
     "name": "stdout",
     "output_type": "stream",
     "text": [
      "1\n"
     ]
    }
   ],
   "source": [
    "# Sanity Check, how many CNICs are we missing?\n",
    "print(1680405 - len(CNICs))"
   ]
  },
  {
   "cell_type": "code",
   "execution_count": 12,
   "metadata": {
    "collapsed": false
   },
   "outputs": [
    {
     "name": "stdout",
     "output_type": "stream",
     "text": [
      "35.28%\n"
     ]
    }
   ],
   "source": [
    "# Percent of Filers EXCLUDING PARLIMENTARIANS who did not pay\n",
    "print(\"%.2f%%\" % (filers_that_didnt_pay  * 100 / 1680405))"
   ]
  },
  {
   "cell_type": "code",
   "execution_count": 13,
   "metadata": {
    "collapsed": false
   },
   "outputs": [
    {
     "name": "stdout",
     "output_type": "stream",
     "text": [
      "64.72%\n"
     ]
    }
   ],
   "source": [
    "# Percent of Filers EXCLUDING PARLIMENTARIANS who did pay\n",
    "print(\"%.2f%%\" % (len(taxable_incomes) * 100 / 1680405))"
   ]
  },
  {
   "cell_type": "code",
   "execution_count": 14,
   "metadata": {
    "collapsed": false
   },
   "outputs": [
    {
     "name": "stdout",
     "output_type": "stream",
     "text": [
      "6.713803027442684\n"
     ]
    }
   ],
   "source": [
    "# Percent of National Income EXCLUDING PARLIMENTARIANS accounted for in Taxes\n",
    "pni_excluding_parlimentarians = ((sum(taxable_incomes)) / 28476922920960) * 100\n",
    "print(pni_excluding_parlimentarians)"
   ]
  },
  {
   "cell_type": "markdown",
   "metadata": {},
   "source": [
    "#### Parlimentarian Tax"
   ]
  },
  {
   "cell_type": "markdown",
   "metadata": {},
   "source": [
    "***UPDATE***: the parlimentarians are included in the general tax statement. This is unnecessary unless we want to know specific summary statistics about parlimentarians' taxable income.\n",
    "\n",
    "Now let's add individual taxes paid by parlimentarians. To get the right format, we use Tabula (run the app found in the tools folder) to select the table in the pdf that we want to extract. We export the data to csv, open it in excel, manually remove the rows with \"XXXX ASSEMBLY\", save it as an .xlsx file, and then run the below script with the appropriate filename and path. \n",
    "\n",
    "Be sure that only the first row has the column names."
   ]
  },
  {
   "cell_type": "code",
   "execution_count": 15,
   "metadata": {
    "collapsed": false
   },
   "outputs": [],
   "source": [
    "# Parlimentarians; 2016 - June 2017 Tax Year\n",
    "parliamentarian_tax = pd.read_excel(\"./taxpayerData/2017_ParliamentarianTax.xlsx\")"
   ]
  },
  {
   "cell_type": "code",
   "execution_count": 16,
   "metadata": {
    "collapsed": false
   },
   "outputs": [
    {
     "data": {
      "text/html": [
       "<div>\n",
       "<table border=\"1\" class=\"dataframe\">\n",
       "  <thead>\n",
       "    <tr style=\"text-align: right;\">\n",
       "      <th></th>\n",
       "      <th>Constituency</th>\n",
       "      <th>Name</th>\n",
       "      <th>CNIC</th>\n",
       "      <th>Tax Paid</th>\n",
       "      <th>Total Tax Paid by AOPs in which Taxpayer is a Member</th>\n",
       "    </tr>\n",
       "  </thead>\n",
       "  <tbody>\n",
       "    <tr>\n",
       "      <th>0</th>\n",
       "      <td>BALOCHISTAN</td>\n",
       "      <td>ADVOCATE MUHAMMAD DAUD KHAN ACHAKZAI</td>\n",
       "      <td>5420210962027</td>\n",
       "      <td>424873</td>\n",
       "      <td>-</td>\n",
       "    </tr>\n",
       "    <tr>\n",
       "      <th>1</th>\n",
       "      <td>BALOCHISTAN</td>\n",
       "      <td>ASHOK KUMAR</td>\n",
       "      <td>4230183529279</td>\n",
       "      <td>2609406</td>\n",
       "      <td>-</td>\n",
       "    </tr>\n",
       "    <tr>\n",
       "      <th>2</th>\n",
       "      <td>BALOCHISTAN</td>\n",
       "      <td>GUL BASHRA</td>\n",
       "      <td>5650203511074</td>\n",
       "      <td>138573</td>\n",
       "      <td>-</td>\n",
       "    </tr>\n",
       "    <tr>\n",
       "      <th>3</th>\n",
       "      <td>BALOCHISTAN</td>\n",
       "      <td>HAFIZ HAMDULLAH</td>\n",
       "      <td>5420148513947</td>\n",
       "      <td>154313</td>\n",
       "      <td>-</td>\n",
       "    </tr>\n",
       "    <tr>\n",
       "      <th>4</th>\n",
       "      <td>BALOCHISTAN</td>\n",
       "      <td>JEHAN ZEB JAMALDINI</td>\n",
       "      <td>5410296067221</td>\n",
       "      <td>174909</td>\n",
       "      <td>-</td>\n",
       "    </tr>\n",
       "  </tbody>\n",
       "</table>\n",
       "</div>"
      ],
      "text/plain": [
       "  Constituency                                  Name           CNIC Tax Paid  \\\n",
       "0  BALOCHISTAN  ADVOCATE MUHAMMAD DAUD KHAN ACHAKZAI  5420210962027   424873   \n",
       "1  BALOCHISTAN                           ASHOK KUMAR  4230183529279  2609406   \n",
       "2  BALOCHISTAN                            GUL BASHRA  5650203511074   138573   \n",
       "3  BALOCHISTAN                       HAFIZ HAMDULLAH  5420148513947   154313   \n",
       "4  BALOCHISTAN                   JEHAN ZEB JAMALDINI  5410296067221   174909   \n",
       "\n",
       "  Total Tax Paid by AOPs in which Taxpayer is a Member  \n",
       "0                                                  -    \n",
       "1                                                  -    \n",
       "2                                                  -    \n",
       "3                                                  -    \n",
       "4                                                  -    "
      ]
     },
     "execution_count": 16,
     "metadata": {},
     "output_type": "execute_result"
    }
   ],
   "source": [
    "# parliamentarian_tax[parliamentarian_tax[\"Tax Paid\"] == \"-\"]\n",
    "parliamentarian_tax.head()"
   ]
  },
  {
   "cell_type": "code",
   "execution_count": 17,
   "metadata": {
    "collapsed": false
   },
   "outputs": [],
   "source": [
    "p_not_in_general = 0\n",
    "p_taxes_paid = parliamentarian_tax[\"Tax Paid\"]\n",
    "p_CNICs = parliamentarian_tax[\"CNIC\"]\n",
    "for i in range(0, parliamentarian_tax.shape[0]):\n",
    "    p_tax_paid = p_taxes_paid[i]\n",
    "    p_CNIC = p_CNICs[i]\n",
    "    if str(p_CNIC) not in CNICs:\n",
    "        p_not_in_general += 1\n",
    "        if \"-\" == str(p_tax_paid):\n",
    "            filers_that_didnt_pay += 1\n",
    "        else:\n",
    "            p_tax_paid = int(p_tax_paid)\n",
    "            taxable_income = calculate_taxable_income(p_tax_paid)\n",
    "            taxable_incomes.append(taxable_income)\n",
    "\n",
    "\n",
    "p_no_taxes = 0\n",
    "p_no_taxes_information = []\n",
    "p_taxable_incomes = []\n",
    "for i in range(0, parliamentarian_tax.shape[0]):\n",
    "    p_tax_paid = p_taxes_paid[i]\n",
    "    p_CNIC = p_CNICs[i]\n",
    "    if \"-\" == str(p_tax_paid):\n",
    "        p_no_taxes += 1\n",
    "        name = parliamentarian_tax[\"Name\"][i]\n",
    "        cnic = parliamentarian_tax[\"CNIC\"][i]\n",
    "        constituency = parliamentarian_tax[\"Constituency\"][i]\n",
    "        p_no_taxes_information.append([name, cnic, constituency])\n",
    "    else:\n",
    "        p_tax_paid = int(p_tax_paid)\n",
    "        taxable_income = calculate_taxable_income(p_tax_paid)\n",
    "        p_taxable_incomes.append(taxable_income)"
   ]
  },
  {
   "cell_type": "code",
   "execution_count": 18,
   "metadata": {
    "collapsed": false
   },
   "outputs": [
    {
     "name": "stdout",
     "output_type": "stream",
     "text": [
      "0\n"
     ]
    }
   ],
   "source": [
    "# Parliamentarians Not Included In General Tax Document\n",
    "print(p_not_in_general)"
   ]
  },
  {
   "cell_type": "code",
   "execution_count": 19,
   "metadata": {
    "collapsed": false
   },
   "outputs": [
    {
     "name": "stdout",
     "output_type": "stream",
     "text": [
      "['NAJAF ABBAS SIAL', 3520193341681, 'NA-91']\n",
      "['RANA MUHAMMAD QASIM NOON', 3520153766519, 'NA-153']\n",
      "['MAKHDOOMZADA SYED BASIT AHMAD SULTAN BUKHARI', 3230250842007, 'NA-179']\n",
      "['BEGUM TAHIRA BUKHARI', 1730114033692, 'KPK-7']\n",
      "['SANTOSH KUMAR', 5510173810847, 'NM-63']\n",
      "['SARDAR FAREED', 6110188026201, 'PK-45']\n",
      "['SALEH MUHAMMAD', 7150113028525, 'PK-55']\n",
      "['SYED GHULAM SHAH JEELANI', 4200090228787, 'PS-75']\n",
      "['OWAIS MUZAFFAR', 4200044391775, 'PS-88']\n"
     ]
    }
   ],
   "source": [
    "# Parlimentarian Information (those who did NOT pay)\n",
    "for p in p_no_taxes_information:\n",
    "    print(p)"
   ]
  },
  {
   "cell_type": "code",
   "execution_count": 20,
   "metadata": {
    "collapsed": false
   },
   "outputs": [
    {
     "name": "stdout",
     "output_type": "stream",
     "text": [
      "0.015456667769436777\n"
     ]
    }
   ],
   "source": [
    "# Percent of National Income provided exclusively by Parlimentarians\n",
    "print((sum(p_taxable_incomes)* 100) / 28476922920960)"
   ]
  },
  {
   "cell_type": "code",
   "execution_count": 21,
   "metadata": {
    "collapsed": false
   },
   "outputs": [
    {
     "name": "stdout",
     "output_type": "stream",
     "text": [
      "35.28%\n"
     ]
    }
   ],
   "source": [
    "# Percent of Filers who did not pay\n",
    "print(\"%.2f%%\" % (filers_that_didnt_pay  * 100 / 1680405))"
   ]
  },
  {
   "cell_type": "code",
   "execution_count": 22,
   "metadata": {
    "collapsed": false
   },
   "outputs": [
    {
     "name": "stdout",
     "output_type": "stream",
     "text": [
      "64.72%\n"
     ]
    }
   ],
   "source": [
    "# Percent of Filers who did pay\n",
    "print(\"%.2f%%\" % (len(taxable_incomes) * 100 / 1680405))"
   ]
  },
  {
   "cell_type": "code",
   "execution_count": 23,
   "metadata": {
    "collapsed": false
   },
   "outputs": [
    {
     "name": "stdout",
     "output_type": "stream",
     "text": [
      "0.84%\n"
     ]
    }
   ],
   "source": [
    "# Percent of Parlimentarians who did NOT pay\n",
    "print(\"%.2f%%\" % (p_no_taxes * 100 / parliamentarian_tax.shape[0]))"
   ]
  },
  {
   "cell_type": "code",
   "execution_count": null,
   "metadata": {
    "collapsed": false
   },
   "outputs": [],
   "source": [
    "# Percent of National Income accounted for in Taxes\n",
    "pni = ((sum(taxable_incomes) / 0.95) / 28476922920960) * 100\n",
    "print(pni)"
   ]
  },
  {
   "cell_type": "code",
   "execution_count": null,
   "metadata": {
    "collapsed": false
   },
   "outputs": [],
   "source": [
    "# Percent of population\n",
    "(len(taxable_incomes) / 131000000) * 100"
   ]
  },
  {
   "cell_type": "code",
   "execution_count": 26,
   "metadata": {
    "collapsed": false
   },
   "outputs": [
    {
     "data": {
      "text/plain": [
       "1911.8845131899325"
      ]
     },
     "execution_count": 26,
     "metadata": {},
     "output_type": "execute_result"
    }
   ],
   "source": [
    "sum(taxable_incomes) / 1000000000"
   ]
  },
  {
   "cell_type": "markdown",
   "metadata": {},
   "source": [
    "## Assumptions\n",
    "Full Zakat Deduction Taken for Each Taxpayer Who Paid\n",
    "\n",
    "Donation Deduction\n",
    "\n",
    "Medical deductions, zakat deductions, donations are huge (up to 30% of taxable income to nonprofit), interst / insurance premiums / investments, donations to pakistan dam fund\n",
    "\n",
    "oil exploration and production sector are exempt from tax for a period of three years from the date of their arrival in Pakistan.\n",
    "\n",
    "Also this is TAXABLE INCOME not total income. What are deductions, what is taxable income? Association of Persons and Companies not accounted for either.\n",
    "\n",
    "What's the mode? this tell us where the bunching occurs..."
   ]
  },
  {
   "cell_type": "markdown",
   "metadata": {},
   "source": [
    "# Exploratory Data Analysis"
   ]
  },
  {
   "cell_type": "code",
   "execution_count": null,
   "metadata": {
    "collapsed": true
   },
   "outputs": [],
   "source": []
  },
  {
   "cell_type": "code",
   "execution_count": null,
   "metadata": {
    "collapsed": true
   },
   "outputs": [],
   "source": []
  },
  {
   "cell_type": "code",
   "execution_count": null,
   "metadata": {
    "collapsed": true
   },
   "outputs": [],
   "source": []
  },
  {
   "cell_type": "code",
   "execution_count": null,
   "metadata": {
    "collapsed": true
   },
   "outputs": [],
   "source": []
  }
 ],
 "metadata": {
  "anaconda-cloud": {},
  "kernelspec": {
   "display_name": "Python [default]",
   "language": "python",
   "name": "python3"
  },
  "language_info": {
   "codemirror_mode": {
    "name": "ipython",
    "version": 3
   },
   "file_extension": ".py",
   "mimetype": "text/x-python",
   "name": "python",
   "nbconvert_exporter": "python",
   "pygments_lexer": "ipython3",
   "version": "3.5.2"
  }
 },
 "nbformat": 4,
 "nbformat_minor": 2
}
