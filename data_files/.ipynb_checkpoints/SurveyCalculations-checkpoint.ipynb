{
 "cells": [
  {
   "cell_type": "code",
   "execution_count": 2,
   "metadata": {
    "collapsed": false
   },
   "outputs": [],
   "source": [
    "import numpy as np\n",
    "import pandas as pd"
   ]
  },
  {
   "cell_type": "code",
   "execution_count": 3,
   "metadata": {
    "collapsed": true
   },
   "outputs": [],
   "source": [
    "pd.options.display.max_columns = None"
   ]
  },
  {
   "cell_type": "markdown",
   "metadata": {},
   "source": [
    "# HIES Survey Data"
   ]
  },
  {
   "cell_type": "markdown",
   "metadata": {},
   "source": [
    "Here will load, clean and organize the **HIES Survey Data** (PSLM Household Integrated Economic Survey). The original data that we manipulate in this notebook can be found in the \"hiesSurvey\" folder. It can also be found here, http://www.pbs.gov.pk/content/microdata, where I originally downloaded it from. "
   ]
  },
  {
   "cell_type": "markdown",
   "metadata": {},
   "source": [
    "We have years 2004 - 2016, with a gap between 2009 - 2010. Our final tables are listed below. The code to download all of these tables is at the bottom. I also have several notes at the bottom on how posterity could build on this (for example, we could derive consumption data etc)."
   ]
  },
  {
   "cell_type": "markdown",
   "metadata": {},
   "source": [
    "**Final Tables**"
   ]
  },
  {
   "cell_type": "raw",
   "metadata": {},
   "source": [
    "hh_balance_sheet_2004_05\n",
    "individual_balance_sheet_2004_05\n",
    "\n",
    "hh_balance_sheet_2005_06\n",
    "individual_balance_sheet_2005_06\n",
    "\n",
    "hh_balance_sheet_2006_07\n",
    "individual_balance_sheet_2006_07\n",
    "\n",
    "hh_balance_sheet_2007_08\n",
    "individual_balance_sheet_2007_08\n",
    "\n",
    "hh_balance_sheet_2007_08\n",
    "individual_balance_sheet_2007_08\n",
    "\n",
    "hh_balance_sheet_2008_09\n",
    "individual_balance_sheet_2008_09\n",
    "\n",
    "hh_balance_sheet_2009_10\n",
    "individual_balance_sheet_2009_10\n",
    "\n",
    "hh_balance_sheet_2010_11\n",
    "individual_balance_sheet_2010_11\n",
    "\n",
    "hh_balance_sheet_2011_12\n",
    "individual_balance_sheet_2011_12\n",
    "\n",
    "hh_balance_sheet_2012_13\n",
    "individual_balance_sheet_2012_13\n",
    "\n",
    "hh_balance_sheet_2013_14\n",
    "individual_balance_sheet_2013_14\n",
    "\n",
    "hh_balance_sheet_2014_15\n",
    "individual_balance_sheet_2014_15\n",
    "\n",
    "hh_balance_sheet_2015_16\n",
    "individual_balance_sheet_2015_16"
   ]
  },
  {
   "cell_type": "markdown",
   "metadata": {},
   "source": [
    "Here we have the intermediate calculations and tables used to pull together this data. \n",
    "\n",
    "Read year 2004 - 2005, where I describe my process for constructing the household and individual balance sheets. We load the weights, construct the household balance sheet, construct the individual balance sheet, and perform corrections. I then repeat this process across the rest of the years."
   ]
  },
  {
   "cell_type": "markdown",
   "metadata": {},
   "source": [
    "### 2004 - 2005"
   ]
  },
  {
   "cell_type": "markdown",
   "metadata": {},
   "source": [
    "**Weights**"
   ]
  },
  {
   "cell_type": "markdown",
   "metadata": {},
   "source": [
    "I first load the weights for the year's household survey. Here are the column names and their corresponding descriptions."
   ]
  },
  {
   "cell_type": "code",
   "execution_count": null,
   "metadata": {
    "collapsed": false
   },
   "outputs": [],
   "source": [
    "weights_2004_05 = pd.read_stata('./hiesSurvey/2004-05/weight file.dta', iterator=True)\n",
    "weights_2004_05.variable_labels()"
   ]
  },
  {
   "cell_type": "markdown",
   "metadata": {},
   "source": [
    "Let's now load the table and look at the first 5 rows to get a sense of the dataset."
   ]
  },
  {
   "cell_type": "code",
   "execution_count": null,
   "metadata": {
    "collapsed": false
   },
   "outputs": [],
   "source": [
    "weights_2004_05 = pd.read_stata('./hiesSurvey/2004-05/weight file.dta')\n",
    "weights_2004_05.drop([\"v3\"], inplace=True, axis=1)\n",
    "weights_2004_05[0:5]"
   ]
  },
  {
   "cell_type": "markdown",
   "metadata": {},
   "source": [
    "**Household Balance Sheet**"
   ]
  },
  {
   "cell_type": "markdown",
   "metadata": {},
   "source": [
    "The Pakistan Bureau of Statistics was nice enough to create a household balance sheet (without the appropriate weights) that combines the various forms of income recorded throughout the survey. Let's look at the column names and descriptions so we know which data is useful. At this point, I find it is also useful to open up the corresponding questionnaire (open the male survey, it is located at \"./hiesSurvey/2004-05\"), which shows how these columns are used."
   ]
  },
  {
   "cell_type": "code",
   "execution_count": null,
   "metadata": {
    "collapsed": false
   },
   "outputs": [],
   "source": [
    "unweighted_hh_balance_sheet_2004_05 = pd.read_stata('./hiesSurvey/2004-05/sec_n0.dta', iterator=True)\n",
    "unweighted_hh_balance_sheet_2004_05.variable_labels()"
   ]
  },
  {
   "cell_type": "markdown",
   "metadata": {},
   "source": [
    "Now let's load the data, extract the relevant columns, and rename them to something a bit more sensible."
   ]
  },
  {
   "cell_type": "code",
   "execution_count": null,
   "metadata": {
    "collapsed": false
   },
   "outputs": [],
   "source": [
    "unweighted_hh_balance_sheet_2004_05 = pd.read_stata('./hiesSurvey/2004-05/sec_n0.dta')\n",
    "unweighted_hh_balance_sheet_2004_05[\"hhcode\"] = unweighted_hh_balance_sheet_2004_05[\"hhcode\"].astype(int)\n",
    "unweighted_hh_balance_sheet_2004_05[\"hhcode_hies\"] = unweighted_hh_balance_sheet_2004_05[\"hhcode_hies\"].astype(int)\n",
    "unweighted_hh_balance_sheet_2004_05 = unweighted_hh_balance_sheet_2004_05[[\"hhcode\", \"hhcode_hies\", \"msno\", \"n1_12\", \"n2_6\", \"psu\", \"region\", \"psu_hies\", \"hhno\", \"province\"]]\n",
    "unweighted_hh_balance_sheet_2004_05.rename(index=str, inplace=True, columns={\n",
    "        \"n1_12\": \"income\",\n",
    "        \"n2_6\": \"expenditure\"\n",
    "})\n",
    "unweighted_hh_balance_sheet_2004_05[0:5]"
   ]
  },
  {
   "cell_type": "markdown",
   "metadata": {},
   "source": [
    "Note that this *only* this year, the household balance sheet is calculated using only individuals who spend most of their income on household expenses. The exact phrase in the survey is : \"If he/she did not spend most of his income on household expenses, then do not include his/her income in the Family's overall income\""
   ]
  },
  {
   "cell_type": "markdown",
   "metadata": {},
   "source": [
    "Let's combine the weights with the above table to get the weighted household balance sheet."
   ]
  },
  {
   "cell_type": "code",
   "execution_count": null,
   "metadata": {
    "collapsed": false,
    "scrolled": true
   },
   "outputs": [],
   "source": [
    "# HOUSEHOLD BALANCE SHEET\n",
    "hh_balance_sheet_2004_05 = unweighted_hh_balance_sheet_2004_05.join(weights_2004_05[[\"psu\", \"weight\"]].set_index('psu'), on='psu')[[\"hhcode\", \"income\", \"expenditure\", \"psu\", \"region\", \"psu_hies\", \"hhno\", \"hhcode_hies\", \"province\", \"weight\"]]\n",
    "hh_balance_sheet_2004_05.rename(index=str, inplace=True, columns={\n",
    "        \"weight\": \"weights\"\n",
    "})\n",
    "print(\"num_rows\", hh_balance_sheet_2004_05.shape[0])\n",
    "hh_balance_sheet_2004_05[0:5]"
   ]
  },
  {
   "cell_type": "markdown",
   "metadata": {},
   "source": [
    "**Individual Balance Sheet**"
   ]
  },
  {
   "cell_type": "markdown",
   "metadata": {},
   "source": [
    "Now let's construct the same balance sheet but with individuals (which we will use to analyze nationwide inequality later). Note for this year there is no individual balance sheet similar to the household balance sheet, so we have to construct it using the employment information table. In some years the PBS includes individual balance sheets, other years there don't. It's relatively arbitrary. For years like this where there is no individual balance sheet, we construct it in the same way that it is constructed when the PBS does decide to include it."
   ]
  },
  {
   "cell_type": "code",
   "execution_count": null,
   "metadata": {
    "collapsed": false
   },
   "outputs": [],
   "source": [
    "unweighted_individual_balance_sheet_2004_05 = pd.read_stata('./hiesSurvey/2004-05/sec_e0.dta', iterator=True)\n",
    "unweighted_individual_balance_sheet_2004_05.variable_labels()"
   ]
  },
  {
   "cell_type": "markdown",
   "metadata": {},
   "source": [
    "Again, it's easier to understand the columns when looking at the questionnaire. I rename the appropriate columns and then combine them to calculate individual income."
   ]
  },
  {
   "cell_type": "code",
   "execution_count": null,
   "metadata": {
    "collapsed": false
   },
   "outputs": [],
   "source": [
    "unweighted_individual_balance_sheet_2004_05 = pd.read_stata('./hiesSurvey/2004-05/sec_e0.dta')\n",
    "unweighted_individual_balance_sheet_2004_05[\"hhcode_hies\"] = unweighted_individual_balance_sheet_2004_05[\"hhcode_hies\"].astype(int)\n",
    "unweighted_individual_balance_sheet_2004_05[\"hhcode\"] = unweighted_individual_balance_sheet_2004_05[\"hhcode\"].astype(int)\n",
    "unweighted_individual_balance_sheet_2004_05.drop([\"sec\", \"seq01\", \"seq02\", \"seq03\", \"seq04\", \"seq05\", \"seq06\", \"seq07\", \"seq08\", \"seq09\", \"seq11\", \"seq12\", \"seq15\"], inplace=True, axis=1)\n",
    "unweighted_individual_balance_sheet_2004_05.rename(index=str, inplace=True, columns={\n",
    "        \"seq10\": \"industry_sector\",\n",
    "        \"seq13\": \"monthly_income\", \n",
    "        \"seq14\": \"months_worked\", \n",
    "        \"seq16\": \"other_annual_earnings\"\n",
    "})\n",
    "unweighted_individual_balance_sheet_2004_05[\"hhcode\"] = unweighted_individual_balance_sheet_2004_05[\"hhcode\"].astype(int)\n",
    "unweighted_individual_balance_sheet_2004_05[\"monthly_income\"] = unweighted_individual_balance_sheet_2004_05[\"monthly_income\"].fillna(0)\n",
    "unweighted_individual_balance_sheet_2004_05[\"months_worked\"] = unweighted_individual_balance_sheet_2004_05[\"months_worked\"].fillna(0)\n",
    "unweighted_individual_balance_sheet_2004_05[\"other_annual_earnings\"] = unweighted_individual_balance_sheet_2004_05[\"other_annual_earnings\"].fillna(0)\n",
    "unweighted_individual_balance_sheet_2004_05[\"income\"] = (unweighted_individual_balance_sheet_2004_05[\"monthly_income\"] * unweighted_individual_balance_sheet_2004_05[\"months_worked\"]) + unweighted_individual_balance_sheet_2004_05[\"other_annual_earnings\"]\n",
    "unweighted_individual_balance_sheet_2004_05.drop([\"monthly_income\", \"months_worked\", \"other_annual_earnings\"], inplace=True, axis=1)\n",
    "unweighted_individual_balance_sheet_2004_05 = unweighted_individual_balance_sheet_2004_05[pd.notnull(unweighted_individual_balance_sheet_2004_05[\"income\"])]\n",
    "unweighted_individual_balance_sheet_2004_05 = unweighted_individual_balance_sheet_2004_05[unweighted_individual_balance_sheet_2004_05[\"income\"] != 0]\n",
    "unweighted_individual_balance_sheet_2004_05[0:5]"
   ]
  },
  {
   "cell_type": "markdown",
   "metadata": {},
   "source": [
    "Regardless of the year, I want to have the same set of individual characteristics attached to each row of individual information. This can inform further analysis. Some years that is included on the individual balance sheet or individual employment table. Here it is not, so I load the appropriate table and combine it with the above balance sheet."
   ]
  },
  {
   "cell_type": "code",
   "execution_count": null,
   "metadata": {
    "collapsed": false
   },
   "outputs": [],
   "source": [
    "individual_characteristics_2004_05 = pd.read_stata('./hiesSurvey/2004-05/sec_b0.dta')\n",
    "individual_characteristics_2004_05[\"hhcode\"] = individual_characteristics_2004_05[\"hhcode\"].astype(int)\n",
    "individual_characteristics_2004_05.drop([\"sec\", \"sbq02\", \"sbq05\", \"quarter\", \"province\", \"region\", \"psu\", \"psu_hies\", \"hhno\", \"hhcode_hies\"], inplace=True, axis=1)\n",
    "individual_characteristics_2004_05.rename(index=str, inplace=True, columns={\n",
    "        \"sbq01\": \"sex\", \n",
    "        \"sbq03\": \"relation_to_head\", \n",
    "        \"sbq04\": \"age\"\n",
    "})\n",
    "individual_characteristics_2004_05[\"birth_year\"] = 2019 - individual_characteristics_2004_05[\"age\"]\n",
    "individual_characteristics_2004_05[0:5]"
   ]
  },
  {
   "cell_type": "markdown",
   "metadata": {},
   "source": [
    "Luckily, this already has the weights attached to it. Let's combine these characteristics to the individual balance sheet."
   ]
  },
  {
   "cell_type": "code",
   "execution_count": null,
   "metadata": {
    "collapsed": false
   },
   "outputs": [],
   "source": [
    "# INDIVIDUAL BALANCE SHEET\n",
    "individual_balance_sheet_2004_05 = unweighted_individual_balance_sheet_2004_05.join(individual_characteristics_2004_05.set_index([\"hhcode\", \"msno\"]), on=[\"hhcode\", \"msno\"])\n",
    "individual_balance_sheet_2004_05.rename(index=str, inplace=True, columns={\n",
    "        \"weight\": \"weights\"\n",
    "})\n",
    "print(\"num_rows\", individual_balance_sheet_2004_05.shape[0])\n",
    "individual_balance_sheet_2004_05[0:5]"
   ]
  },
  {
   "cell_type": "markdown",
   "metadata": {},
   "source": [
    "**Corrections**"
   ]
  },
  {
   "cell_type": "markdown",
   "metadata": {},
   "source": [
    "Note corrections are only done for missing income and weight data for the household and individual balance sheets. I don't show all of the checks in this section for each year, but I do show the checks and corrections for income and weight columns that are missing."
   ]
  },
  {
   "cell_type": "markdown",
   "metadata": {},
   "source": [
    "After trying to run graphs, I found that some data in this individual balance sheet is missing. It looks like the individual characteristics sheet didn't have all the weights filled in, so when we combined it some households didn't have weights. Let's take a look at which 'psu' (primary sampling units) don't have weights."
   ]
  },
  {
   "cell_type": "code",
   "execution_count": null,
   "metadata": {
    "collapsed": false
   },
   "outputs": [],
   "source": [
    "row_indices = list(individual_balance_sheet_2004_05[pd.isnull(individual_balance_sheet_2004_05[\"weights\"])][\"psu\"].index)\n",
    "set(individual_balance_sheet_2004_05[pd.isnull(individual_balance_sheet_2004_05[\"weights\"])][\"psu\"])"
   ]
  },
  {
   "cell_type": "markdown",
   "metadata": {},
   "source": [
    "Let's find the corresponding weight from our master weights table."
   ]
  },
  {
   "cell_type": "code",
   "execution_count": null,
   "metadata": {
    "collapsed": false
   },
   "outputs": [],
   "source": [
    "weights_2004_05[weights_2004_05[\"psu\"] == 41610003][\"weight\"]"
   ]
  },
  {
   "cell_type": "markdown",
   "metadata": {},
   "source": [
    "Now let's replace the null value with the correct number."
   ]
  },
  {
   "cell_type": "code",
   "execution_count": null,
   "metadata": {
    "collapsed": false
   },
   "outputs": [],
   "source": [
    "for i in row_indices:\n",
    "    individual_balance_sheet_2004_05.at[i, \"weights\"] = 231.035995"
   ]
  },
  {
   "cell_type": "markdown",
   "metadata": {},
   "source": [
    "Let's take a look at the final table, was the correction performed (if so, the set should be empty)"
   ]
  },
  {
   "cell_type": "code",
   "execution_count": null,
   "metadata": {
    "collapsed": false
   },
   "outputs": [],
   "source": [
    "print(set(individual_balance_sheet_2004_05[pd.isnull(individual_balance_sheet_2004_05[\"weights\"])][\"psu\"]))\n",
    "individual_balance_sheet_2004_05[0:5]"
   ]
  },
  {
   "cell_type": "markdown",
   "metadata": {},
   "source": [
    "I will now repeat this process for every other year, with the exception that I will not show the original table column names and descriptions. If you would like to see that, copy the appropriate code above and run it. I will describe the caveats within each year at the appopriate transformation."
   ]
  },
  {
   "cell_type": "markdown",
   "metadata": {},
   "source": [
    "### 2005 - 2006"
   ]
  },
  {
   "cell_type": "markdown",
   "metadata": {},
   "source": [
    "**Weights**"
   ]
  },
  {
   "cell_type": "code",
   "execution_count": null,
   "metadata": {
    "collapsed": false
   },
   "outputs": [],
   "source": [
    "weights_2005_06 = pd.read_stata('./hiesSurvey/2005-06/p list.dta')\n",
    "weights_2005_06[\"hhcode\"] = weights_2005_06[\"hhcode\"].astype(int)\n",
    "weights_2005_06 = weights_2005_06[[\"hhcode\", \"idc\", \"s1aq02\", \"s1aq03\", \"s1aq05c\", \"weight\", \"region\", \"province\"]]\n",
    "weights_2005_06.rename(index=str, inplace=True, columns={\n",
    "        \"s1aq02\": \"relation_to_head\",\n",
    "        \"s1aq03\": \"sex\",\n",
    "        \"s1aq05c\": \"birth_year\"\n",
    "})\n",
    "weights_2005_06[0:5]"
   ]
  },
  {
   "cell_type": "markdown",
   "metadata": {},
   "source": [
    "**Household Balance Sheet**"
   ]
  },
  {
   "cell_type": "code",
   "execution_count": null,
   "metadata": {
    "collapsed": false
   },
   "outputs": [],
   "source": [
    "unweighted_hh_balance_sheet_2005_06 = pd.read_stata('./hiesSurvey/2005-06/sec 12c.dta')\n",
    "unweighted_hh_balance_sheet_2005_06[\"hhcode\"] = unweighted_hh_balance_sheet_2005_06[\"hhcode\"].astype(int)\n",
    "unweighted_hh_balance_sheet_2005_06.rename(index=str, inplace=True, columns={\n",
    "        \"s12cq01\": \"income\", \n",
    "        \"s12cq02\": \"expenditure\", \n",
    "        \"s12cq03\": \"ratio\", \n",
    "        \"s12cq04\": \"does_ratio_make_sense\"\n",
    "})\n",
    "print(\"num_rows\", unweighted_hh_balance_sheet_2005_06.shape[0])\n",
    "unweighted_hh_balance_sheet_2005_06[0:5]"
   ]
  },
  {
   "cell_type": "markdown",
   "metadata": {},
   "source": [
    "In this year, the PBS has a followup when the income / expenditure ratio is below 0.85 where they take a full accounting of the family's capital assets. This is quite comprehensive, including transfers, financial assets, rent from land ownership, and agricultural assets.\n",
    "\n",
    "Here we load this capital_income table, for the households where the followup was conducted."
   ]
  },
  {
   "cell_type": "code",
   "execution_count": null,
   "metadata": {
    "collapsed": false
   },
   "outputs": [],
   "source": [
    "capital_2005_06 = pd.read_stata('./hiesSurvey/2005-06/sec 12e.dta')\n",
    "capital_2005_06[\"hhcode\"] = capital_2005_06[\"hhcode\"].astype(int)\n",
    "capital_2005_06.rename(index=str, inplace=True, columns={\n",
    "        \"s12eq01\": \"income\", \n",
    "        \"s12eq02\": \"expenditure\", \n",
    "        \"s12eq03\": \"ratio\", \n",
    "        \"s12eq04\": \"does_ratio_make_sense\"\n",
    "})\n",
    "print(\"num_rows\", capital_2005_06.shape[0])\n",
    "capital_2005_06[0:5]"
   ]
  },
  {
   "cell_type": "markdown",
   "metadata": {},
   "source": [
    "We now replace all households in the \"unweighted_hh_balance_sheet_2005_06\" with those in \"capital_2005_06\" as they are more reflective of household income."
   ]
  },
  {
   "cell_type": "code",
   "execution_count": null,
   "metadata": {
    "collapsed": false
   },
   "outputs": [],
   "source": [
    "for i in range(0, capital_2005_06.shape[0]):\n",
    "    hhcode = capital_2005_06[\"hhcode\"][i]\n",
    "    new_income = capital_2005_06[\"income\"][i]\n",
    "    new_expenditure = capital_2005_06[\"expenditure\"][i]\n",
    "    new_ratio = capital_2005_06[\"ratio\"][i]\n",
    "    new_message = 'yes' if new_ratio >= 0.85 else 'no'\n",
    "    \n",
    "    row_index = unweighted_hh_balance_sheet_2005_06.index[unweighted_hh_balance_sheet_2005_06['hhcode'] == hhcode].tolist()[0]\n",
    "    unweighted_hh_balance_sheet_2005_06.at[row_index, \"income\"] = new_income\n",
    "    unweighted_hh_balance_sheet_2005_06.at[row_index, \"expenditure\"] = new_expenditure\n",
    "    unweighted_hh_balance_sheet_2005_06.at[row_index, \"ratio\"] = new_ratio\n",
    "    unweighted_hh_balance_sheet_2005_06.at[row_index, \"does_ratio_make_sense\"] = new_message"
   ]
  },
  {
   "cell_type": "code",
   "execution_count": null,
   "metadata": {
    "collapsed": false,
    "scrolled": false
   },
   "outputs": [],
   "source": [
    "# HOUSEHOLD BALANCE SHEET\n",
    "weights_2005_06_subset = weights_2005_06[[\"hhcode\", \"weight\", \"region\", \"province\"]].drop_duplicates().set_index('hhcode')\n",
    "hh_balance_sheet_2005_06 = unweighted_hh_balance_sheet_2005_06.join(weights_2005_06_subset, on='hhcode')\n",
    "hh_balance_sheet_2005_06.rename(index=str, inplace=True, columns={\n",
    "        \"weight\": \"weights\" \n",
    "})\n",
    "hh_balance_sheet_2005_06[0:5]"
   ]
  },
  {
   "cell_type": "markdown",
   "metadata": {},
   "source": [
    "**Individual Balance Sheet**"
   ]
  },
  {
   "cell_type": "markdown",
   "metadata": {},
   "source": [
    "The PBS had a balance sheet for individual income this year!"
   ]
  },
  {
   "cell_type": "code",
   "execution_count": null,
   "metadata": {
    "collapsed": false
   },
   "outputs": [],
   "source": [
    "unweighted_individual_balance_sheet_2005_06 = pd.read_stata('./hiesSurvey/2005-06/sec 12a.dta')\n",
    "unweighted_individual_balance_sheet_2005_06[\"hhcode\"] = unweighted_individual_balance_sheet_2005_06[\"hhcode\"].astype(int)\n",
    "unweighted_individual_balance_sheet_2005_06.drop([\"s12aq01\", \"s12aq02\", \"s12aq03\", \"s12aq04\", \"s12aq05\", \"s12aq06\", \"s12aq07\"], inplace=True, axis=1)\n",
    "unweighted_individual_balance_sheet_2005_06.rename(index=str, inplace=True, columns={\n",
    "        \"s12aq08\": \"income\"\n",
    "})\n",
    "unweighted_individual_balance_sheet_2005_06[0:5]"
   ]
  },
  {
   "cell_type": "code",
   "execution_count": null,
   "metadata": {
    "collapsed": false
   },
   "outputs": [],
   "source": [
    "# INDIVIDUAL BALANCE SHEET\n",
    "work_characteristics_2005_06 = pd.read_stata('./hiesSurvey/2005-06/sec 1b.dta')\n",
    "work_characteristics_2005_06 = work_characteristics_2005_06[[\"s1bq05\", \"idc\", \"hhcode\"]]\n",
    "work_characteristics_2005_06.rename(index=str, inplace=True, columns={\n",
    "        \"s1bq05\": \"industry_sector\"\n",
    "})\n",
    "\n",
    "temp = unweighted_individual_balance_sheet_2005_06.merge(work_characteristics_2005_06, how=\"inner\", on=[\"hhcode\", \"idc\"])\n",
    "individual_balance_sheet_2005_06 = temp.merge(weights_2005_06, how=\"left\", on=[\"hhcode\", \"idc\"])\n",
    "individual_balance_sheet_2005_06.drop([\"province_y\", \"region_y\"], inplace=True, axis=1),\n",
    "individual_balance_sheet_2005_06.rename(index=str, inplace=True, columns={\n",
    "        \"province_x\": \"province\",\n",
    "        \"region_x\": \"region\",\n",
    "        \"weight\": \"weights\"\n",
    "})\n",
    "individual_balance_sheet_2005_06[0:5]"
   ]
  },
  {
   "cell_type": "markdown",
   "metadata": {},
   "source": [
    "**Corrections**"
   ]
  },
  {
   "cell_type": "markdown",
   "metadata": {},
   "source": [
    "Weights are not filled in for these individuals."
   ]
  },
  {
   "cell_type": "code",
   "execution_count": null,
   "metadata": {
    "collapsed": false
   },
   "outputs": [],
   "source": [
    "row_indices = list(individual_balance_sheet_2005_06[pd.isnull(individual_balance_sheet_2005_06[\"weights\"])].index)\n",
    "individual_balance_sheet_2005_06[pd.isnull(individual_balance_sheet_2005_06[\"weights\"])]"
   ]
  },
  {
   "cell_type": "code",
   "execution_count": null,
   "metadata": {
    "collapsed": false
   },
   "outputs": [],
   "source": [
    "for i in row_indices:\n",
    "    hhcode = individual_balance_sheet_2005_06[\"hhcode\"][i]\n",
    "    weight = weights_2005_06[weights_2005_06[\"hhcode\"] == hhcode][\"weight\"].values[0]\n",
    "    individual_balance_sheet_2005_06.at[i, \"weights\"] = weight"
   ]
  },
  {
   "cell_type": "code",
   "execution_count": null,
   "metadata": {
    "collapsed": false
   },
   "outputs": [],
   "source": [
    "print(set(individual_balance_sheet_2005_06[pd.isnull(individual_balance_sheet_2005_06[\"weights\"])][\"hhcode\"]))\n",
    "individual_balance_sheet_2005_06[0:5]"
   ]
  },
  {
   "cell_type": "markdown",
   "metadata": {},
   "source": [
    "Income isn't filled in for these individuals in the PBS balance sheet."
   ]
  },
  {
   "cell_type": "code",
   "execution_count": null,
   "metadata": {
    "collapsed": false,
    "scrolled": true
   },
   "outputs": [],
   "source": [
    "print(\"number of data entry errors (entering income as null): \", len(individual_balance_sheet_2005_06[pd.isnull(individual_balance_sheet_2005_06[\"income\"])]))\n",
    "row_indices = list(individual_balance_sheet_2005_06[pd.isnull(individual_balance_sheet_2005_06[\"income\"])].index)\n",
    "individual_balance_sheet_2005_06[pd.isnull(individual_balance_sheet_2005_06[\"income\"])][0:5]"
   ]
  },
  {
   "cell_type": "markdown",
   "metadata": {},
   "source": [
    "Let's manually calculate the incomes like we did in the previous year for these 125 individuals."
   ]
  },
  {
   "cell_type": "code",
   "execution_count": null,
   "metadata": {
    "collapsed": false
   },
   "outputs": [],
   "source": [
    "z = pd.read_stata('./hiesSurvey/2005-06/sec 1b.dta')\n",
    "z.rename(index=str, inplace=True, columns={\n",
    "        \"s1bq05\": \"industry_sector\",\n",
    "        \"s1bq08\": \"monthly_income\", \n",
    "        \"s1bq09\": \"months_worked\", \n",
    "        \"s1bq10\": \"annual_earnings\",\n",
    "        \"s1bq15\": \"other_annual_earnings\",\n",
    "        \"s1bq17\": \"other_other_annual_earnings\",\n",
    "        \"s1bq19\": \"selling_wages_annual_earnings\",\n",
    "        \"s1bq21\": \"pension_annual_earnings\"\n",
    "})\n",
    "z[\"hhcode\"] = z[\"hhcode\"].astype(int)\n",
    "\n",
    "# replace NaNs with 0s\n",
    "z.monthly_income.fillna(0, inplace=True)\n",
    "z.months_worked.fillna(0, inplace=True)\n",
    "z.annual_earnings.fillna(0, inplace=True)\n",
    "z.other_annual_earnings.fillna(0, inplace=True)\n",
    "z.other_annual_earnings.fillna(0, inplace=True)\n",
    "z.other_other_annual_earnings.fillna(0, inplace=True)\n",
    "z.selling_wages_annual_earnings.fillna(0, inplace=True)\n",
    "z.pension_annual_earnings.fillna(0, inplace=True)\n",
    "\n",
    "for i in row_indices:\n",
    "    hhcode = individual_balance_sheet_2005_06[\"hhcode\"][i]\n",
    "    idc = individual_balance_sheet_2005_06[\"idc\"][i]\n",
    "    \n",
    "    # find right row in individual employment data\n",
    "    x = z[np.logical_and(z[\"idc\"] == idc, z[\"hhcode\"] == hhcode)]\n",
    "    # calculate income from individual employment data\n",
    "    income = (x[\"monthly_income\"] * x[\"months_worked\"]) + \\\n",
    "        x[\"annual_earnings\"] + \\\n",
    "        x[\"other_annual_earnings\"] + \\\n",
    "        x[\"other_other_annual_earnings\"] + \\\n",
    "        x[\"selling_wages_annual_earnings\"] + \\\n",
    "        x[\"pension_annual_earnings\"]\n",
    "    individual_balance_sheet_2005_06.at[i, \"income\"] = income"
   ]
  },
  {
   "cell_type": "markdown",
   "metadata": {},
   "source": [
    "Let's double check - did we replace all those null values?"
   ]
  },
  {
   "cell_type": "code",
   "execution_count": null,
   "metadata": {
    "collapsed": false
   },
   "outputs": [],
   "source": [
    "print(\"individual income data entry errors:\",\n",
    "      len(individual_balance_sheet_2005_06[pd.isnull(individual_balance_sheet_2005_06[\"income\"])]))"
   ]
  },
  {
   "cell_type": "markdown",
   "metadata": {},
   "source": [
    "### 2006 - 2007"
   ]
  },
  {
   "cell_type": "markdown",
   "metadata": {},
   "source": [
    "**Weights**"
   ]
  },
  {
   "cell_type": "code",
   "execution_count": null,
   "metadata": {
    "collapsed": false
   },
   "outputs": [],
   "source": [
    "weights_2006_07 = pd.read_stata('./hiesSurvey/2006-07/hhweights.dta')\n",
    "weights_2006_07[\"hhcode\"] = weights_2006_07[\"hhcode\"].astype(int)\n",
    "weights_2006_07[0:5]"
   ]
  },
  {
   "cell_type": "markdown",
   "metadata": {},
   "source": [
    "**Household Balance Sheet**"
   ]
  },
  {
   "cell_type": "markdown",
   "metadata": {},
   "source": [
    "Here we need to create individual and household balance sheets as that currently does not exist. We start with an unweighted individual balance sheet, and later group by household to construct household balance sheets."
   ]
  },
  {
   "cell_type": "code",
   "execution_count": null,
   "metadata": {
    "collapsed": false
   },
   "outputs": [],
   "source": [
    "unweighted_individual_balance_sheet_2006_07 = pd.read_stata('./hiesSurvey/2006-07/section e.dta')\n",
    "unweighted_individual_balance_sheet_2006_07.drop([\"seq01\", \"seq02\", \"seq03\", \"seq04\", \"seq05\", \"seq06\", \"seq07\", \"seq08\", \"seq09\", \"seq11\", \"seq12\", \"seq15\"], inplace=True, axis=1)\n",
    "unweighted_individual_balance_sheet_2006_07.rename(index=str, inplace=True, columns={\n",
    "        \"seq10\": \"industry_sector\",\n",
    "        \"seq13\": \"monthly_income\", \n",
    "        \"seq14\": \"months_worked\", \n",
    "        \"seq16\": \"other_annual_earnings\"\n",
    "})\n",
    "unweighted_individual_balance_sheet_2006_07[\"hhcode\"] = unweighted_individual_balance_sheet_2006_07[\"hhcode\"].astype(int)\n",
    "unweighted_individual_balance_sheet_2006_07[\"monthly_income\"] = unweighted_individual_balance_sheet_2006_07[\"monthly_income\"].fillna(0)\n",
    "unweighted_individual_balance_sheet_2006_07[\"months_worked\"] = unweighted_individual_balance_sheet_2006_07[\"months_worked\"].fillna(0)\n",
    "unweighted_individual_balance_sheet_2006_07[\"other_annual_earnings\"] = unweighted_individual_balance_sheet_2006_07[\"other_annual_earnings\"].fillna(0)\n",
    "unweighted_individual_balance_sheet_2006_07[\"income\"] = (unweighted_individual_balance_sheet_2006_07[\"monthly_income\"] * unweighted_individual_balance_sheet_2006_07[\"months_worked\"]) + unweighted_individual_balance_sheet_2006_07[\"other_annual_earnings\"]\n",
    "unweighted_individual_balance_sheet_2006_07.drop([\"monthly_income\", \"months_worked\", \"other_annual_earnings\"], inplace=True, axis=1)\n",
    "unweighted_individual_balance_sheet_2006_07 = unweighted_individual_balance_sheet_2006_07[pd.notnull(unweighted_individual_balance_sheet_2006_07[\"income\"])]\n",
    "unweighted_individual_balance_sheet_2006_07 = unweighted_individual_balance_sheet_2006_07[unweighted_individual_balance_sheet_2006_07[\"income\"] != 0]\n",
    "unweighted_individual_balance_sheet_2006_07[0:5]"
   ]
  },
  {
   "cell_type": "code",
   "execution_count": null,
   "metadata": {
    "collapsed": false
   },
   "outputs": [],
   "source": [
    "unweighted_hh_balance_sheet_2006_07 = unweighted_individual_balance_sheet_2006_07.groupby([\"hhcode\", \"province\", \"district\", \"region\", \"psu\"]).agg({'income': 'sum'})\n",
    "unweighted_hh_balance_sheet_2006_07.reset_index(level=unweighted_hh_balance_sheet_2006_07.index.names, inplace=True)\n",
    "unweighted_hh_balance_sheet_2006_07[0:5]"
   ]
  },
  {
   "cell_type": "code",
   "execution_count": null,
   "metadata": {
    "collapsed": false
   },
   "outputs": [],
   "source": [
    "# HOUSEHOLD BALANCE SHEET\n",
    "hh_balance_sheet_2006_07 = unweighted_hh_balance_sheet_2006_07.join(weights_2006_07.set_index('hhcode'), on='hhcode')\n",
    "hh_balance_sheet_2006_07[0:5]"
   ]
  },
  {
   "cell_type": "markdown",
   "metadata": {},
   "source": [
    "**Individual Balance Sheet**"
   ]
  },
  {
   "cell_type": "code",
   "execution_count": null,
   "metadata": {
    "collapsed": false
   },
   "outputs": [],
   "source": [
    "# INDIVIDUAL BALANCE SHEET\n",
    "individual_characteristics_2006_07 = pd.read_stata('./hiesSurvey/2006-07/section b with weights.dta')\n",
    "individual_characteristics_2006_07[\"hhcode\"] = individual_characteristics_2006_07[\"hhcode\"].astype(int)\n",
    "individual_characteristics_2006_07.drop([\"section\", \"sbq42\", \"sbq43\", \"province\", \"district\", \"psu\", \"region\", \"sbq02\", \"sbq05\"], inplace=True, axis=1)\n",
    "individual_characteristics_2006_07.rename(index=str, inplace=True, columns={\n",
    "        \"sbq01\": \"sex\", \n",
    "        \"sbq03\": \"relation_to_head\", \n",
    "        \"sbq41\": \"birth_year\"\n",
    "})\n",
    "individual_balance_sheet_2006_07 = unweighted_individual_balance_sheet_2006_07.join(individual_characteristics_2006_07.set_index([\"hhcode\", \"idc\"]), on=[\"hhcode\", \"idc\"])\n",
    "print(\"num_rows\", individual_balance_sheet_2006_07.shape[0])\n",
    "individual_balance_sheet_2006_07[0:5]"
   ]
  },
  {
   "cell_type": "markdown",
   "metadata": {},
   "source": [
    "**Corrections**"
   ]
  },
  {
   "cell_type": "markdown",
   "metadata": {},
   "source": [
    "None are needed for this year, but feel free to add as this project is further developed!"
   ]
  },
  {
   "cell_type": "markdown",
   "metadata": {
    "collapsed": true
   },
   "source": [
    "### 2007 - 2008"
   ]
  },
  {
   "cell_type": "markdown",
   "metadata": {},
   "source": [
    "**Weights**"
   ]
  },
  {
   "cell_type": "code",
   "execution_count": null,
   "metadata": {
    "collapsed": false
   },
   "outputs": [],
   "source": [
    "weights_2007_08 = pd.read_stata('./hiesSurvey/2007-08/plist.dta')\n",
    "weights_2007_08 = weights_2007_08.drop([\"s1aq05a\", \"s1aq05b\", \"s1aq04\", \"s1aq06\", \"s1aq07\", \"s1aq08\", \"s1aq09\", \"s1aq10\"], axis=1)\n",
    "weights_2007_08[\"hhcode\"] = weights_2007_08[\"hhcode\"].astype(int)\n",
    "weights_2007_08.rename(index=str, inplace=True, columns={\n",
    "        \"s1aq02\": \"relation_to_head\",\n",
    "        \"s1aq03\": \"sex\",\n",
    "        \"s1aq05c\": \"birth_year\"\n",
    "})\n",
    "weights_2007_08[0:5]"
   ]
  },
  {
   "cell_type": "code",
   "execution_count": null,
   "metadata": {
    "collapsed": false
   },
   "outputs": [],
   "source": [
    "unweighted_hh_balance_sheet_2007_08 = pd.read_stata('./hiesSurvey/2007-08/sec 12 c.dta')\n",
    "unweighted_hh_balance_sheet_2007_08[\"hhcode\"] = unweighted_hh_balance_sheet_2007_08[\"hhcode\"].astype(int)\n",
    "unweighted_hh_balance_sheet_2007_08.rename(index=str, inplace=True, columns={\n",
    "        \"s12cq01\": \"income\", \n",
    "        \"s12cq02\": \"expenditure\", \n",
    "        \"s12cq03\": \"ratio\", \n",
    "        \"s12cq04\": \"does_ratio_make_sense\"\n",
    "})\n",
    "print(\"num_rows\", unweighted_hh_balance_sheet_2007_08.shape[0])\n",
    "unweighted_hh_balance_sheet_2007_08[0:5]"
   ]
  },
  {
   "cell_type": "markdown",
   "metadata": {},
   "source": [
    "Capital income accounts are available, adding that in the same manner as explained in a previous year."
   ]
  },
  {
   "cell_type": "code",
   "execution_count": null,
   "metadata": {
    "collapsed": false
   },
   "outputs": [],
   "source": [
    "capital_2007_08 = pd.read_stata('./hiesSurvey/2007-08/sec 12e.dta')\n",
    "capital_2007_08[\"hhcode\"] = capital_2007_08[\"hhcode\"].astype(int)\n",
    "capital_2007_08.rename(index=str, inplace=True, columns={\n",
    "        \"s12eq01\": \"income\", \n",
    "        \"s12eq02\": \"expenditure\", \n",
    "        \"s12eq03\": \"ratio\", \n",
    "        \"s12eq04\": \"does_ratio_make_sense\"\n",
    "})\n",
    "print(\"num_rows\", capital_2007_08.shape[0])\n",
    "capital_2007_08[0:5]"
   ]
  },
  {
   "cell_type": "code",
   "execution_count": null,
   "metadata": {
    "collapsed": true
   },
   "outputs": [],
   "source": [
    "for i in range(0, capital_2007_08.shape[0]):\n",
    "    hhcode = capital_2007_08[\"hhcode\"][i]\n",
    "    new_income = capital_2007_08[\"income\"][i]\n",
    "    new_expenditure = capital_2007_08[\"expenditure\"][i]\n",
    "    new_ratio = capital_2007_08[\"ratio\"][i]\n",
    "    new_message = 'yes' if new_ratio >= 0.85 else 'no'\n",
    "    \n",
    "    row_index = unweighted_hh_balance_sheet_2007_08.index[unweighted_hh_balance_sheet_2007_08['hhcode'] == hhcode].tolist()[0]\n",
    "    unweighted_hh_balance_sheet_2007_08.at[row_index, \"income\"] = new_income\n",
    "    unweighted_hh_balance_sheet_2007_08.at[row_index, \"expenditure\"] = new_expenditure\n",
    "    unweighted_hh_balance_sheet_2007_08.at[row_index, \"ratio\"] = new_ratio\n",
    "    unweighted_hh_balance_sheet_2007_08.at[row_index, \"does_ratio_make_sense\"] = new_message"
   ]
  },
  {
   "cell_type": "code",
   "execution_count": null,
   "metadata": {
    "collapsed": false
   },
   "outputs": [],
   "source": [
    "# HOUSEHOLD BALANCE SHEET\n",
    "weights_2007_08_subset = weights_2007_08[[\"hhcode\", \"weight\", \"region\", \"province\"]].drop_duplicates().set_index('hhcode')\n",
    "hh_balance_sheet_2007_08 = unweighted_hh_balance_sheet_2007_08.join(weights_2007_08_subset, on='hhcode')\n",
    "hh_balance_sheet_2007_08.rename(index=str, inplace=True, columns={\n",
    "        \"weight\": \"weights\"   \n",
    "})\n",
    "hh_balance_sheet_2007_08[0:5]"
   ]
  },
  {
   "cell_type": "markdown",
   "metadata": {},
   "source": [
    "**Individual Balance Sheet**"
   ]
  },
  {
   "cell_type": "code",
   "execution_count": null,
   "metadata": {
    "collapsed": false
   },
   "outputs": [],
   "source": [
    "# INDIVIDUAL BALANCE SHEET\n",
    "unweighted_individual_balance_sheet_2007_08 = pd.read_stata('./hiesSurvey/2007-08/sec 12a.dta')\n",
    "unweighted_individual_balance_sheet_2007_08[\"hhcode\"] = unweighted_individual_balance_sheet_2007_08[\"hhcode\"].astype(int)\n",
    "unweighted_individual_balance_sheet_2007_08 = unweighted_individual_balance_sheet_2007_08.drop([\"s12aq01\", \"s12aq02\", \"s12aq03\", \"s12aq04\", \"s12aq05\", \"s12aq06\", \"s12aq07\"], axis=1)\n",
    "unweighted_individual_balance_sheet_2007_08.rename(index=str, inplace=True, columns={\n",
    "        \"s12aq08\": \"income\"\n",
    "})\n",
    "\n",
    "individual_balance_sheet_2007_08 = unweighted_individual_balance_sheet_2007_08.merge(weights_2007_08, how=\"inner\", on=[\"hhcode\", \"idc\"])\n",
    "individual_balance_sheet_2007_08 = individual_balance_sheet_2007_08.drop([\"sec_x\", \"sec_y\", \"province_y\", \"region_y\"], axis=1)\n",
    "individual_balance_sheet_2007_08.rename(index=str, inplace=True, columns={\n",
    "        \"province_x\": \"province\",\n",
    "        \"region_x\": \"region\",\n",
    "        \"weight\": \"weights\"\n",
    "})\n",
    "individual_balance_sheet_2007_08[0:5]"
   ]
  },
  {
   "cell_type": "markdown",
   "metadata": {},
   "source": [
    "**Corrections**"
   ]
  },
  {
   "cell_type": "markdown",
   "metadata": {},
   "source": [
    "This individual didn't have income filled in properly."
   ]
  },
  {
   "cell_type": "code",
   "execution_count": null,
   "metadata": {
    "collapsed": false,
    "scrolled": true
   },
   "outputs": [],
   "source": [
    "row_index = list(individual_balance_sheet_2007_08[pd.isnull(individual_balance_sheet_2007_08[\"income\"])].index)[0]\n",
    "individual_balance_sheet_2007_08[pd.isnull(individual_balance_sheet_2007_08[\"income\"])]"
   ]
  },
  {
   "cell_type": "code",
   "execution_count": null,
   "metadata": {
    "collapsed": true
   },
   "outputs": [],
   "source": [
    "z = pd.read_stata('./hiesSurvey/2007-08/sec1b.dta')\n",
    "z.rename(index=str, inplace=True, columns={\n",
    "        \"s1bq05\": \"industry_sector\",\n",
    "        \"s1bq08\": \"monthly_income\", \n",
    "        \"s1bq09\": \"months_worked\", \n",
    "        \"s1bq10\": \"annual_earnings\",\n",
    "        \"s1bq15\": \"other_annual_earnings\",\n",
    "        \"s1bq17\": \"other_other_annual_earnings\",\n",
    "        \"s1bq19\": \"selling_wages_annual_earnings\",\n",
    "        \"s1bq21\": \"pension_annual_earnings\"\n",
    "})\n",
    "z[\"hhcode\"] = z[\"hhcode\"].astype(int)\n",
    "\n",
    "# replace NaNs with 0s\n",
    "z.monthly_income.fillna(0, inplace=True)\n",
    "z.months_worked.fillna(0, inplace=True)\n",
    "z.annual_earnings.fillna(0, inplace=True)\n",
    "z.other_annual_earnings.fillna(0, inplace=True)\n",
    "z.other_annual_earnings.fillna(0, inplace=True)\n",
    "z.other_other_annual_earnings.fillna(0, inplace=True)\n",
    "z.selling_wages_annual_earnings.fillna(0, inplace=True)\n",
    "z.pension_annual_earnings.fillna(0, inplace=True)\n",
    "\n",
    "x = z[np.logical_and(z[\"idc\"] == 51, z[\"hhcode\"] == 2012030101)]\n",
    "\n",
    "income = (x[\"monthly_income\"] * x[\"months_worked\"]) + \\\n",
    "    x[\"annual_earnings\"] + \\\n",
    "    x[\"other_annual_earnings\"] + \\\n",
    "    x[\"other_other_annual_earnings\"] + \\\n",
    "    x[\"selling_wages_annual_earnings\"] + \\\n",
    "    x[\"pension_annual_earnings\"]\n",
    "individual_balance_sheet_2007_08.at[row_index, \"income\"] = income"
   ]
  },
  {
   "cell_type": "code",
   "execution_count": null,
   "metadata": {
    "collapsed": false
   },
   "outputs": [],
   "source": [
    "individual_balance_sheet_2007_08[pd.isnull(individual_balance_sheet_2007_08[\"income\"])]"
   ]
  },
  {
   "cell_type": "markdown",
   "metadata": {},
   "source": [
    "### 2008 - 2009"
   ]
  },
  {
   "cell_type": "markdown",
   "metadata": {},
   "source": [
    "**Weights**"
   ]
  },
  {
   "cell_type": "code",
   "execution_count": null,
   "metadata": {
    "collapsed": false,
    "scrolled": true
   },
   "outputs": [],
   "source": [
    "weights_2008_09 = pd.read_stata('./hiesSurvey/2008-09/weights_file.dta')\n",
    "weights_2008_09[0:5]"
   ]
  },
  {
   "cell_type": "markdown",
   "metadata": {},
   "source": [
    "**Household Balance Sheet**"
   ]
  },
  {
   "cell_type": "markdown",
   "metadata": {},
   "source": [
    "Again, balance sheets aren't included so we calculate the unweighted individual sheet as explained in a section above."
   ]
  },
  {
   "cell_type": "code",
   "execution_count": null,
   "metadata": {
    "collapsed": false
   },
   "outputs": [],
   "source": [
    "unweighted_individual_balance_sheet_2008_09 = pd.read_stata('./hiesSurvey/2008-09/section_e.dta')\n",
    "unweighted_individual_balance_sheet_2008_09.drop([\"seq01\", \"seq02\", \"seq03\", \"seq04\", \"seq05\", \"seq06\", \"seq07\", \"seq08\", \"seq09\", \"seq11\", \"seq12\", \"seq15\"], inplace=True, axis=1)\n",
    "unweighted_individual_balance_sheet_2008_09.rename(index=str, inplace=True, columns={\n",
    "        \"seq10\": \"industry_sector\",\n",
    "        \"seq13\": \"monthly_income\", \n",
    "        \"seq14\": \"months_worked\", \n",
    "        \"seq16\": \"other_annual_earnings\"\n",
    "})\n",
    "unweighted_individual_balance_sheet_2008_09[\"hhcode\"] = unweighted_individual_balance_sheet_2008_09[\"hhcode\"].astype(int)\n",
    "unweighted_individual_balance_sheet_2008_09.monthly_income = unweighted_individual_balance_sheet_2008_09.monthly_income.fillna(0)\n",
    "unweighted_individual_balance_sheet_2008_09.months_worked = unweighted_individual_balance_sheet_2008_09.months_worked.fillna(0)\n",
    "unweighted_individual_balance_sheet_2008_09.other_annual_earnings = unweighted_individual_balance_sheet_2008_09.other_annual_earnings.fillna(0)\n",
    "unweighted_individual_balance_sheet_2008_09[\"income\"] = (unweighted_individual_balance_sheet_2008_09[\"monthly_income\"] * unweighted_individual_balance_sheet_2008_09[\"months_worked\"]) + unweighted_individual_balance_sheet_2008_09[\"other_annual_earnings\"]\n",
    "unweighted_individual_balance_sheet_2008_09.drop([\"monthly_income\", \"months_worked\", \"other_annual_earnings\"], inplace=True, axis=1)\n",
    "unweighted_individual_balance_sheet_2008_09 = unweighted_individual_balance_sheet_2008_09[pd.notnull(unweighted_individual_balance_sheet_2008_09[\"income\"])]\n",
    "unweighted_individual_balance_sheet_2008_09 = unweighted_individual_balance_sheet_2008_09[unweighted_individual_balance_sheet_2008_09[\"income\"] != 0]\n",
    "unweighted_individual_balance_sheet_2008_09[0:5]"
   ]
  },
  {
   "cell_type": "code",
   "execution_count": null,
   "metadata": {
    "collapsed": false
   },
   "outputs": [],
   "source": [
    "unweighted_hh_balance_sheet_2008_09 = unweighted_individual_balance_sheet_2008_09.groupby([\"hhcode\", \"province\", \"district\", \"region\", \"psu\"]).agg({'income': 'sum'})\n",
    "unweighted_hh_balance_sheet_2008_09.reset_index(level=unweighted_hh_balance_sheet_2008_09.index.names, inplace=True)\n",
    "unweighted_hh_balance_sheet_2008_09[0:5]"
   ]
  },
  {
   "cell_type": "code",
   "execution_count": null,
   "metadata": {
    "collapsed": false
   },
   "outputs": [],
   "source": [
    "# HOUSEHOLD BALANCE SHEET\n",
    "hh_balance_sheet_2008_09 = unweighted_hh_balance_sheet_2008_09.join(weights_2008_09.set_index('psu'), on='psu')\n",
    "hh_balance_sheet_2008_09[0:5]"
   ]
  },
  {
   "cell_type": "markdown",
   "metadata": {},
   "source": [
    "**Individual Balance Sheet**"
   ]
  },
  {
   "cell_type": "code",
   "execution_count": null,
   "metadata": {
    "collapsed": false
   },
   "outputs": [],
   "source": [
    "# INDIVIDUAL BALANCE SHEET\n",
    "individual_characteristics_2008_09 = pd.read_stata('./hiesSurvey/2008-09/sec_b.dta')\n",
    "individual_characteristics_2008_09 = individual_characteristics_2008_09.join(weights_2008_09.set_index(\"psu\"), on=\"psu\")\n",
    "individual_characteristics_2008_09[\"hhcode\"] = individual_characteristics_2008_09[\"hhcode\"].astype(int)\n",
    "individual_characteristics_2008_09.drop([\"sec\", \"sbq42\", \"sbq43\", \"province\", \"district\", \"psu\", \"region\", \"sbq02\", \"sbq05\"], inplace=True, axis=1)\n",
    "individual_characteristics_2008_09.rename(index=str, inplace=True, columns={\n",
    "        \"sbq01\": \"sex\", \n",
    "        \"sbq03\": \"relation_to_head\", \n",
    "        \"sbq41\": \"birth_year\"\n",
    "})\n",
    "individual_balance_sheet_2008_09 = unweighted_individual_balance_sheet_2008_09.join(individual_characteristics_2008_09.set_index([\"hhcode\", \"idc\"]), on=[\"hhcode\", \"idc\"])\n",
    "print(\"num_rows\", individual_balance_sheet_2008_09.shape[0])\n",
    "individual_balance_sheet_2008_09[0:5]"
   ]
  },
  {
   "cell_type": "markdown",
   "metadata": {},
   "source": [
    "**Corrections**"
   ]
  },
  {
   "cell_type": "code",
   "execution_count": null,
   "metadata": {
    "collapsed": false
   },
   "outputs": [],
   "source": [
    "row_indices = list(individual_balance_sheet_2008_09[pd.isnull(individual_balance_sheet_2008_09[\"weights\"])].index)\n",
    "individual_balance_sheet_2008_09[pd.isnull(individual_balance_sheet_2008_09[\"weights\"])]"
   ]
  },
  {
   "cell_type": "code",
   "execution_count": null,
   "metadata": {
    "collapsed": false
   },
   "outputs": [],
   "source": [
    "for i in row_indices:\n",
    "    psu = individual_balance_sheet_2008_09[\"psu\"][i]\n",
    "    weight = list(set(weights_2008_09[weights_2008_09[\"psu\"] == psu][\"weights\"]))[0]\n",
    "    individual_balance_sheet_2008_09.at[i, \"weights\"] = weight"
   ]
  },
  {
   "cell_type": "code",
   "execution_count": null,
   "metadata": {
    "collapsed": false
   },
   "outputs": [],
   "source": [
    "print(\"data entry errors:\", len(set(individual_balance_sheet_2008_09[pd.isnull(individual_balance_sheet_2008_09[\"weights\"])][\"psu\"])))"
   ]
  },
  {
   "cell_type": "markdown",
   "metadata": {},
   "source": [
    "### 2009 - 2010"
   ]
  },
  {
   "cell_type": "markdown",
   "metadata": {},
   "source": [
    "Data is missing from this year 😔"
   ]
  },
  {
   "cell_type": "markdown",
   "metadata": {},
   "source": [
    "### 2010 - 2011"
   ]
  },
  {
   "cell_type": "markdown",
   "metadata": {},
   "source": [
    "**Weights**"
   ]
  },
  {
   "cell_type": "code",
   "execution_count": null,
   "metadata": {
    "collapsed": false
   },
   "outputs": [],
   "source": [
    "weights_2010_11 = pd.read_stata('./hiesSurvey/2010-11/plist.dta')\n",
    "weights_2010_11 = weights_2010_11.drop([\"sbq04\", \"sbq52\", \"sbq53\", \"sbq06\", \"sbq07\", \"sbq08\", \"sbq09\", \"sbq10\"], axis=1)\n",
    "weights_2010_11[\"hhcode\"] = weights_2010_11[\"hhcode\"].astype(int)\n",
    "weights_2010_11.rename(index=str, inplace=True, columns={\n",
    "        \"sbq02\": \"relation_to_head\",\n",
    "        \"sbq03\": \"sex\",\n",
    "        \"sbq51\": \"birth_year\"\n",
    "})\n",
    "weights_2010_11[0:5]"
   ]
  },
  {
   "cell_type": "markdown",
   "metadata": {},
   "source": [
    "**Household Balance Sheet**"
   ]
  },
  {
   "cell_type": "code",
   "execution_count": null,
   "metadata": {
    "collapsed": false
   },
   "outputs": [],
   "source": [
    "unweighted_hh_balance_sheet_2010_11 = pd.read_stata('./hiesSurvey/2010-11/balancesheet_c.dta')\n",
    "unweighted_hh_balance_sheet_2010_11[\"hhcode\"] = unweighted_hh_balance_sheet_2010_11[\"hhcode\"].astype(int)\n",
    "unweighted_hh_balance_sheet_2010_11.rename(index=str, inplace=True, columns={\n",
    "        \"s12cq01\": \"income\", \n",
    "        \"s12cq02\": \"expenditure\", \n",
    "        \"s12cq03\": \"ratio\", \n",
    "        \"s12cq04\": \"does_ratio_make_sense\"\n",
    "})\n",
    "print(\"num_rows\", unweighted_hh_balance_sheet_2010_11.shape[0])\n",
    "unweighted_hh_balance_sheet_2010_11[0:5]"
   ]
  },
  {
   "cell_type": "code",
   "execution_count": null,
   "metadata": {
    "collapsed": false
   },
   "outputs": [],
   "source": [
    "capital_2010_11 = pd.read_stata('./hiesSurvey/2010-11/balancesheet_e.dta')\n",
    "capital_2010_11[\"hhcode\"] = capital_2010_11[\"hhcode\"].astype(int)\n",
    "capital_2010_11.rename(index=str, inplace=True, columns={\n",
    "        \"s12eq01\": \"income\", \n",
    "        \"s12eq02\": \"expenditure\", \n",
    "        \"s12eq03\": \"ratio\", \n",
    "        \"s12eq04\": \"does_ratio_make_sense\"\n",
    "})\n",
    "print(\"num_rows\", capital_2010_11.shape[0])\n",
    "capital_2010_11[0:5]"
   ]
  },
  {
   "cell_type": "code",
   "execution_count": null,
   "metadata": {
    "collapsed": true
   },
   "outputs": [],
   "source": [
    "for i in range(0, capital_2010_11.shape[0]):\n",
    "    hhcode = capital_2010_11[\"hhcode\"][i]\n",
    "    new_income = capital_2010_11[\"income\"][i]\n",
    "    new_expenditure = capital_2010_11[\"expenditure\"][i]\n",
    "    new_ratio = capital_2010_11[\"ratio\"][i]\n",
    "    new_message = 'yes' if new_ratio >= 0.85 else 'no'\n",
    "    \n",
    "    row_index = unweighted_hh_balance_sheet_2010_11.index[unweighted_hh_balance_sheet_2010_11['hhcode'] == hhcode].tolist()[0]\n",
    "    unweighted_hh_balance_sheet_2010_11.at[row_index, \"income\"] = new_income\n",
    "    unweighted_hh_balance_sheet_2010_11.at[row_index, \"expenditure\"] = new_expenditure\n",
    "    unweighted_hh_balance_sheet_2010_11.at[row_index, \"ratio\"] = new_ratio\n",
    "    unweighted_hh_balance_sheet_2010_11.at[row_index, \"does_ratio_make_sense\"] = new_message"
   ]
  },
  {
   "cell_type": "code",
   "execution_count": null,
   "metadata": {
    "collapsed": false
   },
   "outputs": [],
   "source": [
    "# HOUSEHOLD BALANCE SHEET\n",
    "weights_2010_11_subset = weights_2010_11[[\"hhcode\", \"weight\", \"region\", \"province\"]].drop_duplicates().set_index('hhcode')\n",
    "hh_balance_sheet_2010_11 = unweighted_hh_balance_sheet_2010_11.join(weights_2010_11_subset, on='hhcode')\n",
    "hh_balance_sheet_2010_11.rename(index=str, inplace=True, columns={\n",
    "        \"weight\": \"weights\" \n",
    "})\n",
    "hh_balance_sheet_2010_11[0:5]"
   ]
  },
  {
   "cell_type": "markdown",
   "metadata": {},
   "source": [
    "**Individual Balance Sheet**"
   ]
  },
  {
   "cell_type": "code",
   "execution_count": null,
   "metadata": {
    "collapsed": false
   },
   "outputs": [],
   "source": [
    "# INDIVIDUAL BALANCE SHEET\n",
    "unweighted_individual_balance_sheet_2010_11 = pd.read_stata('./hiesSurvey/2010-11/balancesheet_a.dta')\n",
    "unweighted_individual_balance_sheet_2010_11[\"hhcode\"] = unweighted_individual_balance_sheet_2010_11[\"hhcode\"].astype(int)\n",
    "unweighted_individual_balance_sheet_2010_11 = unweighted_individual_balance_sheet_2010_11.drop([\"s12aq01\", \"s12aq02\", \"s12aq03\", \"s12aq04\", \"s12aq05\", \"s12aq06\", \"s12aq07\"], axis=1)\n",
    "unweighted_individual_balance_sheet_2010_11.rename(index=str, inplace=True, columns={\n",
    "        \"s12aq08\": \"income\"\n",
    "})\n",
    "\n",
    "individual_balance_sheet_2010_11 = unweighted_individual_balance_sheet_2010_11.merge(weights_2010_11, how=\"inner\", on=[\"hhcode\", \"idc\"])\n",
    "individual_balance_sheet_2010_11 = individual_balance_sheet_2010_11.drop([\"sec_x\", \"sec_y\", \"province_y\", \"region_y\"], axis=1)\n",
    "individual_balance_sheet_2010_11.rename(index=str, inplace=True, columns={\n",
    "        \"province_x\": \"province\",\n",
    "        \"region_x\": \"region\",\n",
    "        \"weight\": \"weights\"\n",
    "})\n",
    "individual_balance_sheet_2010_11[0:5]"
   ]
  },
  {
   "cell_type": "markdown",
   "metadata": {},
   "source": [
    "**Corrections**"
   ]
  },
  {
   "cell_type": "code",
   "execution_count": null,
   "metadata": {
    "collapsed": false,
    "scrolled": true
   },
   "outputs": [],
   "source": [
    "row_index = individual_balance_sheet_2010_11[pd.isnull(individual_balance_sheet_2010_11[\"income\"])].index[0]\n",
    "individual_balance_sheet_2010_11[pd.isnull(individual_balance_sheet_2010_11[\"income\"])]"
   ]
  },
  {
   "cell_type": "code",
   "execution_count": null,
   "metadata": {
    "collapsed": false
   },
   "outputs": [],
   "source": [
    "z = pd.read_stata('./hiesSurvey/2010-11/sec_e.dta')\n",
    "z.rename(index=str, inplace=True, columns={\n",
    "        \"seq05\": \"industry_sector\",\n",
    "        \"seq08\": \"monthly_income\", \n",
    "        \"seq09\": \"months_worked\", \n",
    "        \"seq10\": \"annual_earnings\",\n",
    "        \"seq15\": \"other_annual_earnings\",\n",
    "        \"seq17\": \"other_other_annual_earnings\",\n",
    "        \"seq19\": \"selling_wages_annual_earnings\",\n",
    "        \"seq21\": \"pension_annual_earnings\"\n",
    "})\n",
    "z[\"hhcode\"] = z[\"hhcode\"].astype(int)\n",
    "\n",
    "# replace NaNs with 0s\n",
    "z.monthly_income.fillna(0, inplace=True)\n",
    "z.months_worked.fillna(0, inplace=True)\n",
    "z.annual_earnings.fillna(0, inplace=True)\n",
    "z.other_annual_earnings.fillna(0, inplace=True)\n",
    "z.other_annual_earnings.fillna(0, inplace=True)\n",
    "z.other_other_annual_earnings.fillna(0, inplace=True)\n",
    "z.selling_wages_annual_earnings.fillna(0, inplace=True)\n",
    "z.pension_annual_earnings.fillna(0, inplace=True)"
   ]
  },
  {
   "cell_type": "code",
   "execution_count": null,
   "metadata": {
    "collapsed": false
   },
   "outputs": [],
   "source": [
    "x = z[np.logical_and(z[\"idc\"] == 3, z[\"hhcode\"] == 31420200115)]\n",
    "# calculate income\n",
    "income = (x[\"monthly_income\"] * x[\"months_worked\"]) + \\\n",
    "    x[\"annual_earnings\"] + \\\n",
    "    x[\"other_annual_earnings\"] + \\\n",
    "    x[\"other_other_annual_earnings\"] + \\\n",
    "    x[\"selling_wages_annual_earnings\"] + \\\n",
    "    x[\"pension_annual_earnings\"]\n",
    "individual_balance_sheet_2010_11.at[row_index, \"income\"] = income"
   ]
  },
  {
   "cell_type": "code",
   "execution_count": null,
   "metadata": {
    "collapsed": false
   },
   "outputs": [],
   "source": [
    "print(\"income data entry errors:\", len(individual_balance_sheet_2010_11[pd.isnull(individual_balance_sheet_2010_11[\"income\"])]))\n",
    "individual_balance_sheet_2010_11[np.logical_and(individual_balance_sheet_2010_11[\"idc\"] == 3, individual_balance_sheet_2010_11[\"hhcode\"] == 31420200115)]"
   ]
  },
  {
   "cell_type": "markdown",
   "metadata": {},
   "source": [
    "### 2011 - 2012"
   ]
  },
  {
   "cell_type": "markdown",
   "metadata": {},
   "source": [
    "**Weights**"
   ]
  },
  {
   "cell_type": "code",
   "execution_count": null,
   "metadata": {
    "collapsed": false
   },
   "outputs": [],
   "source": [
    "weights_2011_12 = pd.read_stata('./hiesSurvey/2011-12/plist.dta')\n",
    "weights_2011_12 = weights_2011_12.drop([\"psu\", \"s1aq5a\", \"s1aq5b\", \"s1aq04\", \"s1aq06\", \"s1aq07\", \"s1aq08\", \"s1aq09\", \"s1aq10\"], axis=1)\n",
    "weights_2011_12[\"hhcode\"] = weights_2011_12[\"hhcode\"].astype(int)\n",
    "\n",
    "weights_2011_12.rename(index=str, inplace=True, columns={\n",
    "        \"s1aq02\": \"relation_to_head\",\n",
    "        \"s1aq03\": \"sex\",\n",
    "        \"s1aq5c\": \"birth_year\",\n",
    "        \"idc\": \"memno\",\n",
    "        \"weight\": \"weights\"\n",
    "})\n",
    "weights_2011_12[0:5]"
   ]
  },
  {
   "cell_type": "markdown",
   "metadata": {},
   "source": [
    "**Household Balance Sheet**"
   ]
  },
  {
   "cell_type": "code",
   "execution_count": null,
   "metadata": {
    "collapsed": false
   },
   "outputs": [],
   "source": [
    "unweighted_hh_balance_sheet_2011_12 = pd.read_stata('./hiesSurvey/2011-12/sec_12c.dta')\n",
    "unweighted_hh_balance_sheet_2011_12[\"hhcode\"] = unweighted_hh_balance_sheet_2011_12[\"hhcode\"].astype(int)\n",
    "unweighted_hh_balance_sheet_2011_12.rename(index=str, inplace=True, columns={\n",
    "        \"t_icom\": \"income\", \n",
    "        \"t_exp\": \"expenditure\", \n",
    "        \"ratio_1rg\": \"does_ratio_make_sense\"\n",
    "})\n",
    "print(\"num_rows\", unweighted_hh_balance_sheet_2011_12.shape[0])\n",
    "unweighted_hh_balance_sheet_2011_12[0:5]"
   ]
  },
  {
   "cell_type": "code",
   "execution_count": null,
   "metadata": {
    "collapsed": false
   },
   "outputs": [],
   "source": [
    "capital_2011_12 = pd.read_stata('./hiesSurvey/2011-12/sec_12e.dta')\n",
    "capital_2011_12[\"hhcode\"] = capital_2011_12[\"hhcode\"].astype(int)\n",
    "capital_2011_12.rename(index=str, inplace=True, columns={\n",
    "        \"t_income\": \"income\", \n",
    "        \"t_exp\": \"expenditure\", \n",
    "        \"ratio_1rg\": \"does_ratio_make_sense\"\n",
    "})\n",
    "print(\"num_rows\", capital_2011_12.shape[0])\n",
    "capital_2011_12[0:5]"
   ]
  },
  {
   "cell_type": "code",
   "execution_count": null,
   "metadata": {
    "collapsed": true
   },
   "outputs": [],
   "source": [
    "for i in range(0, capital_2011_12.shape[0]):\n",
    "    hhcode = capital_2011_12[\"hhcode\"][i]\n",
    "    new_income = capital_2011_12[\"income\"][i]\n",
    "    new_expenditure = capital_2011_12[\"expenditure\"][i]\n",
    "    new_ratio = capital_2011_12[\"ratio\"][i]\n",
    "    new_message = 'yes' if new_ratio >= 0.85 else 'no'\n",
    "    \n",
    "    row_index = unweighted_hh_balance_sheet_2011_12.index[unweighted_hh_balance_sheet_2011_12['hhcode'] == hhcode].tolist()[0]\n",
    "    unweighted_hh_balance_sheet_2011_12.at[row_index, \"income\"] = new_income\n",
    "    unweighted_hh_balance_sheet_2011_12.at[row_index, \"expenditure\"] = new_expenditure\n",
    "    unweighted_hh_balance_sheet_2011_12.at[row_index, \"ratio\"] = new_ratio\n",
    "    unweighted_hh_balance_sheet_2011_12.at[row_index, \"does_ratio_make_sense\"] = new_message"
   ]
  },
  {
   "cell_type": "code",
   "execution_count": null,
   "metadata": {
    "collapsed": false
   },
   "outputs": [],
   "source": [
    "# HOUSEHOLD BALANCE SHEET\n",
    "weights_2011_12_subset = weights_2011_12[[\"hhcode\", \"weights\"]].drop_duplicates().set_index('hhcode')\n",
    "hh_balance_sheet_2011_12 = unweighted_hh_balance_sheet_2011_12.join(weights_2011_12_subset, on='hhcode')\n",
    "hh_balance_sheet_2011_12[0:5]"
   ]
  },
  {
   "cell_type": "markdown",
   "metadata": {},
   "source": [
    "**Individual Balance Sheet**"
   ]
  },
  {
   "cell_type": "code",
   "execution_count": null,
   "metadata": {
    "collapsed": false
   },
   "outputs": [],
   "source": [
    "# INDIVIDUAL BALANCE SHEET\n",
    "unweighted_individual_balance_sheet_2011_12 = pd.read_stata('./hiesSurvey/2011-12/sec_12a.dta')\n",
    "unweighted_individual_balance_sheet_2011_12[\"hhcode\"] = unweighted_individual_balance_sheet_2011_12[\"hhcode\"].astype(int)\n",
    "unweighted_individual_balance_sheet_2011_12 = unweighted_individual_balance_sheet_2011_12.drop([\"bs1qc1\", \"bs1qc2\", \"bs1qc3\", \"bs1qc4\", \"bs1qc5\", \"bs1qc6\", \"bs1qc7\"], axis=1)\n",
    "unweighted_individual_balance_sheet_2011_12.rename(index=str, inplace=True, columns={\n",
    "        \"bs1qc8\": \"income\"\n",
    "})\n",
    "\n",
    "individual_balance_sheet_2011_12 = unweighted_individual_balance_sheet_2011_12.merge(weights_2011_12, how=\"inner\", on=[\"hhcode\", \"memno\"])\n",
    "individual_balance_sheet_2011_12 = individual_balance_sheet_2011_12.drop([\"sec_x\", \"sec_y\", \"province_y\", \"region_y\"], axis=1)\n",
    "individual_balance_sheet_2011_12.rename(index=str, inplace=True, columns={\n",
    "        \"province_x\": \"province\",\n",
    "        \"region_x\": \"region\"\n",
    "})\n",
    "individual_balance_sheet_2011_12[0:5]"
   ]
  },
  {
   "cell_type": "markdown",
   "metadata": {},
   "source": [
    "**Corrections**"
   ]
  },
  {
   "cell_type": "markdown",
   "metadata": {},
   "source": [
    "None for this year. Loué soit le Seigneur 🙏"
   ]
  },
  {
   "cell_type": "markdown",
   "metadata": {},
   "source": [
    "### 2012 - 2013"
   ]
  },
  {
   "cell_type": "markdown",
   "metadata": {},
   "source": [
    "**Weights**"
   ]
  },
  {
   "cell_type": "code",
   "execution_count": null,
   "metadata": {
    "collapsed": false
   },
   "outputs": [],
   "source": [
    "weights_2012_13 = pd.read_stata('./hiesSurvey/2012-13/plist_1.dta')\n",
    "weights_2012_13[\"hhcode\"] = weights_2012_13[\"hhcode\"].astype(int)\n",
    "weights_2012_13 = weights_2012_13.drop([\"sec\", \"sbq52\", \"sbq53\", \"sbq04\", \"sbq06\", \"sbq07\", \"sbq08\", \"sbq09\", \"sbq10\"], axis=1)\n",
    "weights_2012_13.rename(index=str, inplace=True, columns={\n",
    "        \"sbq02\": \"relation_to_head\",\n",
    "        \"sbq03\": \"sex\",\n",
    "        \"sbq51\": \"birth_year\",\n",
    "        \"weight\": \"weights\"\n",
    "})\n",
    "weights_2012_13[0:5]"
   ]
  },
  {
   "cell_type": "markdown",
   "metadata": {},
   "source": [
    "**Household Balance Sheet**"
   ]
  },
  {
   "cell_type": "markdown",
   "metadata": {},
   "source": [
    "Again, no balance sheet. Have to add up employment similar to other sections and how the balance sheet was constructed."
   ]
  },
  {
   "cell_type": "code",
   "execution_count": null,
   "metadata": {
    "collapsed": false
   },
   "outputs": [],
   "source": [
    "unweighted_individual_balance_sheet_2012_13 = pd.read_stata('./hiesSurvey/2012-13/sec_e.dta')\n",
    "unweighted_individual_balance_sheet_2012_13.drop([\"sec\", \"seq01\", \"seq02\", \"seq03\", \"seq04\", \"seq06\", \"seq07\", \"seq11\", \"seq12\", \"seq13\", \"seq14\", \"seq16\", \"seq18\", \"seq20\", \"seq22\"], inplace=True, axis=1)\n",
    "unweighted_individual_balance_sheet_2012_13.rename(index=str, inplace=True, columns={\n",
    "        \"seq05\": \"industry_sector\",\n",
    "        \"seq08\": \"monthly_income\", \n",
    "        \"seq09\": \"months_worked\", \n",
    "        \"seq10\": \"annual_earnings\",\n",
    "        \"seq15\": \"other_annual_earnings\",\n",
    "        \"seq17\": \"other_other_annual_earnings\",\n",
    "        \"seq19\": \"selling_wages_annual_earnings\",\n",
    "        \"seq21\": \"pension_annual_earnings\",\n",
    "        \"seq23\": \"remittance_within_pak\",\n",
    "        \"seq24\": \"remittance_outside_pak\",\n",
    "        \"seq25\": \"rent_income\",\n",
    "        \"seq26\": \"other_income\"\n",
    "})\n",
    "unweighted_individual_balance_sheet_2012_13[\"hhcode\"] = unweighted_individual_balance_sheet_2012_13[\"hhcode\"].astype(int)\n",
    "\n",
    "# replace NaNs with 0s\n",
    "unweighted_individual_balance_sheet_2012_13.monthly_income.fillna(0, inplace=True)\n",
    "unweighted_individual_balance_sheet_2012_13.months_worked.fillna(0, inplace=True)\n",
    "unweighted_individual_balance_sheet_2012_13.annual_earnings.fillna(0, inplace=True)\n",
    "unweighted_individual_balance_sheet_2012_13.other_annual_earnings.fillna(0, inplace=True)\n",
    "unweighted_individual_balance_sheet_2012_13.other_annual_earnings.fillna(0, inplace=True)\n",
    "unweighted_individual_balance_sheet_2012_13.other_other_annual_earnings.fillna(0, inplace=True)\n",
    "unweighted_individual_balance_sheet_2012_13.selling_wages_annual_earnings.fillna(0, inplace=True)\n",
    "unweighted_individual_balance_sheet_2012_13.pension_annual_earnings.fillna(0, inplace=True)\n",
    "unweighted_individual_balance_sheet_2012_13.remittance_within_pak.fillna(0, inplace=True)\n",
    "unweighted_individual_balance_sheet_2012_13.remittance_outside_pak.fillna(0, inplace=True)\n",
    "unweighted_individual_balance_sheet_2012_13.rent_income.fillna(0, inplace=True)\n",
    "unweighted_individual_balance_sheet_2012_13.other_income.fillna(0, inplace=True)\n",
    "\n",
    "# calculate annual income\n",
    "unweighted_individual_balance_sheet_2012_13[\"income\"] = \\\n",
    "    (unweighted_individual_balance_sheet_2012_13[\"monthly_income\"] * unweighted_individual_balance_sheet_2012_13[\"months_worked\"]) + \\\n",
    "    unweighted_individual_balance_sheet_2012_13[\"annual_earnings\"] + \\\n",
    "    unweighted_individual_balance_sheet_2012_13[\"other_annual_earnings\"] + \\\n",
    "    unweighted_individual_balance_sheet_2012_13[\"other_other_annual_earnings\"] + \\\n",
    "    unweighted_individual_balance_sheet_2012_13[\"selling_wages_annual_earnings\"] + \\\n",
    "    unweighted_individual_balance_sheet_2012_13[\"pension_annual_earnings\"] + \\\n",
    "    unweighted_individual_balance_sheet_2012_13[\"remittance_within_pak\"] + \\\n",
    "    unweighted_individual_balance_sheet_2012_13[\"remittance_outside_pak\"] + \\\n",
    "    unweighted_individual_balance_sheet_2012_13[\"rent_income\"] + \\\n",
    "    unweighted_individual_balance_sheet_2012_13[\"other_income\"]\n",
    "\n",
    "# remove those with no income\n",
    "unweighted_individual_balance_sheet_2012_13 = unweighted_individual_balance_sheet_2012_13[pd.notnull(unweighted_individual_balance_sheet_2012_13[\"income\"])]\n",
    "unweighted_individual_balance_sheet_2012_13 = unweighted_individual_balance_sheet_2012_13[unweighted_individual_balance_sheet_2012_13[\"income\"] != 0]\n",
    "\n",
    "unweighted_individual_balance_sheet_2012_13.drop([\"annual_earnings\", \"monthly_income\", \"months_worked\", \"other_annual_earnings\", \"other_other_annual_earnings\", \"selling_wages_annual_earnings\", \"pension_annual_earnings\", \"remittance_within_pak\", \"remittance_outside_pak\", \"rent_income\", \"other_income\"], inplace=True, axis=1)\n",
    "unweighted_individual_balance_sheet_2012_13[0:5]"
   ]
  },
  {
   "cell_type": "code",
   "execution_count": null,
   "metadata": {
    "collapsed": false
   },
   "outputs": [],
   "source": [
    "unweighted_hh_balance_sheet_2012_13 = unweighted_individual_balance_sheet_2012_13.groupby([\"hhcode\", \"province\", \"district\", \"region\"]).agg({'income': 'sum'})\n",
    "unweighted_hh_balance_sheet_2012_13.reset_index(level=unweighted_hh_balance_sheet_2012_13.index.names, inplace=True)\n",
    "unweighted_hh_balance_sheet_2012_13[0:5]"
   ]
  },
  {
   "cell_type": "code",
   "execution_count": null,
   "metadata": {
    "collapsed": false
   },
   "outputs": [],
   "source": [
    "# HOUSEHOLD BALANCE SHEET\n",
    "weights_2012_13_subset = weights_2012_13[[\"hhcode\", \"weights\", \"psu\"]].drop_duplicates().set_index('hhcode')\n",
    "hh_balance_sheet_2012_13 = unweighted_hh_balance_sheet_2012_13.join(weights_2012_13_subset, on='hhcode')\n",
    "hh_balance_sheet_2012_13[0:5]"
   ]
  },
  {
   "cell_type": "markdown",
   "metadata": {},
   "source": [
    "**Individual Balance Sheet**"
   ]
  },
  {
   "cell_type": "code",
   "execution_count": null,
   "metadata": {
    "collapsed": false
   },
   "outputs": [],
   "source": [
    "# INDIVIDUAL BALANCE SHEET\n",
    "weights_2012_13_subset = weights_2012_13.drop([\"province\", \"district\", \"region\"], axis=1).set_index(['hhcode', 'idc'])\n",
    "individual_balance_sheet_2012_13 = unweighted_individual_balance_sheet_2012_13.join(weights_2012_13_subset, on=[\"hhcode\", \"idc\"])\n",
    "individual_balance_sheet_2012_13 = individual_balance_sheet_2012_13.reset_index().drop([\"index\"], axis=1)\n",
    "\n",
    "print(\"num_rows\", individual_balance_sheet_2012_13.shape[0])\n",
    "individual_balance_sheet_2012_13[0:5]"
   ]
  },
  {
   "cell_type": "markdown",
   "metadata": {},
   "source": [
    "**Corrections**"
   ]
  },
  {
   "cell_type": "markdown",
   "metadata": {},
   "source": [
    "This year is partcularly problematic. After further inspection, we don't have any weight data for 10 of the individuals in the sample, meaning we have to drop them in the sample. It theoretically has an effect on the weights which will skew our inequality statistics, but it's such a small amount of people that it doesn't have much effect."
   ]
  },
  {
   "cell_type": "code",
   "execution_count": null,
   "metadata": {
    "collapsed": false
   },
   "outputs": [],
   "source": [
    "row_indices = list(individual_balance_sheet_2012_13[pd.isnull(individual_balance_sheet_2012_13[\"weights\"])].index)\n",
    "print(set(individual_balance_sheet_2012_13[pd.isnull(individual_balance_sheet_2012_13[\"weights\"])][\"hhcode\"]))\n",
    "print(\"num data entry errors:\", len(individual_balance_sheet_2012_13[pd.isnull(individual_balance_sheet_2012_13[\"weights\"])][\"hhcode\"]))\n",
    "individual_balance_sheet_2012_13[pd.isnull(individual_balance_sheet_2012_13[\"weights\"])]"
   ]
  },
  {
   "cell_type": "markdown",
   "metadata": {},
   "source": [
    "We manually correct the one entry where we can find the weight across tables."
   ]
  },
  {
   "cell_type": "code",
   "execution_count": null,
   "metadata": {
    "collapsed": false
   },
   "outputs": [],
   "source": [
    "row_index = 60440\n",
    "individual_balance_sheet_2012_13.iloc[row_index]"
   ]
  },
  {
   "cell_type": "code",
   "execution_count": null,
   "metadata": {
    "collapsed": false
   },
   "outputs": [],
   "source": [
    "z = pd.read_stata('./hiesSurvey/2012-13/roster.dta')\n",
    "list(set(z[z[\"hhcode\"] == 2741000504][\"psu\"]))[0]"
   ]
  },
  {
   "cell_type": "code",
   "execution_count": null,
   "metadata": {
    "collapsed": false
   },
   "outputs": [],
   "source": [
    "x = pd.read_stata('./hiesSurvey/2012-13/weight.dta')\n",
    "list(set(x[x[\"psu\"] == 27410005][\"weight\"]))[0]"
   ]
  },
  {
   "cell_type": "code",
   "execution_count": null,
   "metadata": {
    "collapsed": false
   },
   "outputs": [],
   "source": [
    "individual_balance_sheet_2012_13.at[row_index, \"psu\"] = 27410005\n",
    "individual_balance_sheet_2012_13.at[row_index, \"weights\"] = 217.2885"
   ]
  },
  {
   "cell_type": "code",
   "execution_count": null,
   "metadata": {
    "collapsed": false
   },
   "outputs": [],
   "source": [
    "print(set(individual_balance_sheet_2012_13[pd.isnull(individual_balance_sheet_2012_13[\"weights\"])][\"hhcode\"]))\n",
    "individual_balance_sheet_2012_13[pd.isnull(individual_balance_sheet_2012_13[\"weights\"])]"
   ]
  },
  {
   "cell_type": "markdown",
   "metadata": {},
   "source": [
    "We have to remove this data that doesn't have a weight. We do this by making the weight 0."
   ]
  },
  {
   "cell_type": "code",
   "execution_count": null,
   "metadata": {
    "collapsed": false
   },
   "outputs": [],
   "source": [
    "individual_balance_sheet_2012_13.weights.fillna(0, inplace=True)\n",
    "individual_balance_sheet_2012_13[individual_balance_sheet_2012_13[\"weights\"] == 0]"
   ]
  },
  {
   "cell_type": "markdown",
   "metadata": {},
   "source": [
    "### 2013 - 2014"
   ]
  },
  {
   "cell_type": "markdown",
   "metadata": {},
   "source": [
    "**Weights**"
   ]
  },
  {
   "cell_type": "code",
   "execution_count": null,
   "metadata": {
    "collapsed": false
   },
   "outputs": [],
   "source": [
    "weights_2013_14 = pd.read_stata('./hiesSurvey/2013-14/plist.dta')\n",
    "weights_2013_14.drop([\"psu\", \"hhcode\", \"s1aq03\", \"s1aq05\", \"s1aq62\", \"s1aq63\", \"s1aq07\", \"s1aq08\", \"s1aq09\", \"s1aq10\", \"s1aq11\"], inplace=True, axis=1)\n",
    "weights_2013_14.rename(index=str, inplace=True, columns={\n",
    "        \"s1aq02\": \"relation_to_head\",\n",
    "        \"s1aq04\": \"sex\",\n",
    "        \"s1aq64\": \"birth_year\",\n",
    "        \"psu_new\": \"psu\",\n",
    "        \"hhcode_new\": \"hhcode\"\n",
    "})\n",
    "weights_2013_14[\"hhcode\"] = weights_2013_14[\"hhcode\"].astype(int)\n",
    "\n",
    "# reorder columns\n",
    "cols = list(weights_2013_14.columns)\n",
    "cols = cols[-3:] + cols[:-3]\n",
    "weights_2013_14 = weights_2013_14[cols]\n",
    "\n",
    "weights_2013_14[0:5]"
   ]
  },
  {
   "cell_type": "markdown",
   "metadata": {},
   "source": [
    "**Household Balance Sheet**"
   ]
  },
  {
   "cell_type": "code",
   "execution_count": null,
   "metadata": {
    "collapsed": false
   },
   "outputs": [],
   "source": [
    "unweighted_hh_balance_sheet_2013_14 = pd.read_stata('./hiesSurvey/2013-14/sec_12c.dta')\n",
    "unweighted_hh_balance_sheet_2013_14.drop([\"psu\", \"hhcode\", \"sec\"], inplace=True, axis=1)\n",
    "unweighted_hh_balance_sheet_2013_14.rename(index=str, inplace=True, columns={\n",
    "        \"t_income\": \"income\", \n",
    "        \"t_exp\": \"expenditure\", \n",
    "        \"ratio_lrg\": \"does_ratio_make_sense\",\n",
    "        \"psu_new\": \"psu\",\n",
    "        \"hhcode_new\": \"hhcode\"\n",
    "})\n",
    "# removes a single row which was excluded in the new hhcodes and stratum\n",
    "unweighted_hh_balance_sheet_2013_14 = unweighted_hh_balance_sheet_2013_14[pd.notnull(unweighted_hh_balance_sheet_2013_14[\"hhcode\"])]\n",
    "unweighted_hh_balance_sheet_2013_14[\"hhcode\"] = unweighted_hh_balance_sheet_2013_14[\"hhcode\"].astype(int)\n",
    "\n",
    "# reorder columns\n",
    "cols = list(unweighted_hh_balance_sheet_2013_14.columns)\n",
    "cols = cols[-3:] + cols[:-3]\n",
    "unweighted_hh_balance_sheet_2013_14 = unweighted_hh_balance_sheet_2013_14[cols]\n",
    "\n",
    "print(\"num_rows\", unweighted_hh_balance_sheet_2013_14.shape[0])\n",
    "unweighted_hh_balance_sheet_2013_14[0:5]"
   ]
  },
  {
   "cell_type": "code",
   "execution_count": null,
   "metadata": {
    "collapsed": false
   },
   "outputs": [],
   "source": [
    "capital_2013_14 = pd.read_stata('./hiesSurvey/2013-14/sec_12e.dta')\n",
    "capital_2013_14.drop([\"psu\", \"hhcode\"], inplace=True, axis=1)\n",
    "capital_2013_14.rename(index=str, inplace=True, columns={\n",
    "        \"t_income\": \"income\", \n",
    "        \"t_exp\": \"expenditure\", \n",
    "        \"ratio_lrg1\": \"does_ratio_make_sense\",\n",
    "        \"psu_new\": \"psu\",\n",
    "        \"hhcode_new\": \"hhcode\"\n",
    "})\n",
    "capital_2013_14[\"hhcode\"] = capital_2013_14[\"hhcode\"].astype(int)\n",
    "\n",
    "# reorder columns\n",
    "cols = list(capital_2013_14.columns)\n",
    "cols = cols[-3:] + cols[:-3]\n",
    "capital_2013_14 = capital_2013_14[cols]\n",
    "\n",
    "print(\"num_rows\", capital_2013_14.shape[0])\n",
    "capital_2013_14[0:5]"
   ]
  },
  {
   "cell_type": "code",
   "execution_count": null,
   "metadata": {
    "collapsed": true
   },
   "outputs": [],
   "source": [
    "for i in range(0, capital_2013_14.shape[0]):\n",
    "    hhcode = capital_2013_14[\"hhcode\"][i]\n",
    "    new_income = capital_2013_14[\"income\"][i]\n",
    "    new_expenditure = capital_2013_14[\"expenditure\"][i]\n",
    "    new_ratio = capital_2013_14[\"ratio\"][i]\n",
    "    new_message = 'yes' if new_ratio >= 0.85 else 'no'\n",
    "    \n",
    "    row_index = unweighted_hh_balance_sheet_2013_14.index[unweighted_hh_balance_sheet_2013_14['hhcode'] == hhcode].tolist()[0]\n",
    "    unweighted_hh_balance_sheet_2013_14.at[row_index, \"income\"] = new_income\n",
    "    unweighted_hh_balance_sheet_2013_14.at[row_index, \"expenditure\"] = new_expenditure\n",
    "    unweighted_hh_balance_sheet_2013_14.at[row_index, \"ratio\"] = new_ratio\n",
    "    unweighted_hh_balance_sheet_2013_14.at[row_index, \"does_ratio_make_sense\"] = new_message"
   ]
  },
  {
   "cell_type": "code",
   "execution_count": null,
   "metadata": {
    "collapsed": false
   },
   "outputs": [],
   "source": [
    "# HOUSEHOLD BALANCE SHEET\n",
    "weights_2013_14_subset = weights_2013_14[[\"hhcode\", \"weights\"]].drop_duplicates().set_index('hhcode')\n",
    "hh_balance_sheet_2013_14 = unweighted_hh_balance_sheet_2013_14.join(weights_2013_14_subset, on='hhcode')\n",
    "hh_balance_sheet_2013_14[0:5]"
   ]
  },
  {
   "cell_type": "markdown",
   "metadata": {},
   "source": [
    "**Individual Balance Sheet**"
   ]
  },
  {
   "cell_type": "code",
   "execution_count": null,
   "metadata": {
    "collapsed": false,
    "scrolled": true
   },
   "outputs": [],
   "source": [
    "# INDIVIDUAL BALANCE SHEET\n",
    "unweighted_individual_balance_sheet_2013_14 = pd.read_stata('./hiesSurvey/2013-14/sec_12a.dta')\n",
    "unweighted_individual_balance_sheet_2013_14 = unweighted_individual_balance_sheet_2013_14.drop([\"psu_new\", \"hhcode\", \"psu\", \"sec\", \"bs1qc1\", \"bs1qc2\", \"bs1qc3\", \"bs1qc4\", \"bs1qc5\", \"bs1qc6\", \"bs1qc7\"], axis=1)\n",
    "unweighted_individual_balance_sheet_2013_14.rename(index=str, inplace=True, columns={\n",
    "        \"bs1qc8\": \"income\",\n",
    "        \"hhcode_new\": \"hhcode\"\n",
    "})\n",
    "unweighted_individual_balance_sheet_2013_14[\"hhcode\"] = unweighted_individual_balance_sheet_2013_14[\"hhcode\"].astype(int)\n",
    "\n",
    "# reorder columns\n",
    "cols = list(unweighted_individual_balance_sheet_2013_14.columns)\n",
    "cols = cols[-3:] + cols[:-3]\n",
    "unweighted_individual_balance_sheet_2013_14 = unweighted_individual_balance_sheet_2013_14[cols]\n",
    "\n",
    "individual_balance_sheet_2013_14 = unweighted_individual_balance_sheet_2013_14.merge(weights_2013_14, how=\"inner\", on=[\"hhcode\", \"idc\"])\n",
    "individual_balance_sheet_2013_14 = individual_balance_sheet_2013_14.drop([\"province_y\", \"region_y\", \"stratum_y\"], axis=1)\n",
    "individual_balance_sheet_2013_14.rename(index=str, inplace=True, columns={\n",
    "        \"province_x\": \"province\",\n",
    "        \"region_x\": \"region\",\n",
    "        \"stratum_x\": \"stratum\"\n",
    "})\n",
    "\n",
    "# reorder columns\n",
    "cols = list(individual_balance_sheet_2013_14.columns)\n",
    "cols = cols[1:] + cols[:1]\n",
    "individual_balance_sheet_2013_14 = individual_balance_sheet_2013_14[cols]\n",
    "\n",
    "individual_balance_sheet_2013_14[0:5]"
   ]
  },
  {
   "cell_type": "markdown",
   "metadata": {},
   "source": [
    "**Corrections**"
   ]
  },
  {
   "cell_type": "code",
   "execution_count": null,
   "metadata": {
    "collapsed": false,
    "scrolled": true
   },
   "outputs": [],
   "source": [
    "row_index = individual_balance_sheet_2013_14[pd.isnull(individual_balance_sheet_2013_14[\"income\"])].index[0]\n",
    "individual_balance_sheet_2013_14[pd.isnull(individual_balance_sheet_2013_14[\"income\"])][0:5]"
   ]
  },
  {
   "cell_type": "code",
   "execution_count": null,
   "metadata": {
    "collapsed": false
   },
   "outputs": [],
   "source": [
    "z = pd.read_stata('./hiesSurvey/2013-14/sec_1b.dta', convert_categoricals=False)\n",
    "z.rename(index=str, inplace=True, columns={\n",
    "        \"s1bq05\": \"industry_sector\",\n",
    "        \"s1bq08\": \"monthly_income\", \n",
    "        \"s1bq09\": \"months_worked\", \n",
    "        \"s1bq10\": \"annual_earnings\",\n",
    "        \"s1bq15\": \"other_annual_earnings\",\n",
    "        \"s1bq17\": \"other_other_annual_earnings\",\n",
    "        \"s1bq19\": \"selling_wages_annual_earnings\",\n",
    "        \"s1bq21\": \"pension_annual_earnings\"\n",
    "})\n",
    "z[\"hhcode_new\"] = z[\"hhcode_new\"].astype(int)\n",
    "\n",
    "# replace NaNs with 0s\n",
    "z.monthly_income.fillna(0, inplace=True)\n",
    "z.months_worked.fillna(0, inplace=True)\n",
    "z.annual_earnings.fillna(0, inplace=True)\n",
    "z.other_annual_earnings.fillna(0, inplace=True)\n",
    "z.other_annual_earnings.fillna(0, inplace=True)\n",
    "z.other_other_annual_earnings.fillna(0, inplace=True)\n",
    "z.selling_wages_annual_earnings.fillna(0, inplace=True)\n",
    "z.pension_annual_earnings.fillna(0, inplace=True)"
   ]
  },
  {
   "cell_type": "code",
   "execution_count": null,
   "metadata": {
    "collapsed": false
   },
   "outputs": [],
   "source": [
    "x = z[np.logical_and(z[\"idc\"] == 1.0, z[\"hhcode_new\"] == 2512240901)]\n",
    "# calculate income\n",
    "income = (x[\"monthly_income\"] * x[\"months_worked\"]) + \\\n",
    "    x[\"annual_earnings\"] + \\\n",
    "    x[\"other_annual_earnings\"] + \\\n",
    "    x[\"other_other_annual_earnings\"] + \\\n",
    "    x[\"selling_wages_annual_earnings\"] + \\\n",
    "    x[\"pension_annual_earnings\"]\n",
    "individual_balance_sheet_2013_14.at[row_index, \"income\"] = income"
   ]
  },
  {
   "cell_type": "code",
   "execution_count": null,
   "metadata": {
    "collapsed": false
   },
   "outputs": [],
   "source": [
    "individual_balance_sheet_2013_14[np.logical_and(individual_balance_sheet_2013_14[\"hhcode\"] == 2512240901, individual_balance_sheet_2013_14[\"idc\"] == 1)]"
   ]
  },
  {
   "cell_type": "markdown",
   "metadata": {},
   "source": [
    "Wow his income was zero, that was a waste of time..."
   ]
  },
  {
   "cell_type": "markdown",
   "metadata": {},
   "source": [
    "### 2014 - 2015"
   ]
  },
  {
   "cell_type": "markdown",
   "metadata": {},
   "source": [
    "**Weights**"
   ]
  },
  {
   "cell_type": "code",
   "execution_count": null,
   "metadata": {
    "collapsed": false
   },
   "outputs": [],
   "source": [
    "weights_2014_15 = pd.read_stata('./hiesSurvey/2014-15/plist.dta')\n",
    "weights_2014_15[\"hhcode\"] = weights_2014_15[\"hhcode\"].astype(int)\n",
    "weights_2014_15 = weights_2014_15.drop([\"sec\", \"psu\", \"sbq62\", \"sbq63\", \"sbq03\", \"sbq11\", \"sbq07\", \"sbq08\", \"sbq09\", \"sbq10\", \"sbq05\"], axis=1)\n",
    "weights_2014_15.rename(index=str, inplace=True, columns={\n",
    "        \"sbq02\": \"relation_to_head\",\n",
    "        \"sbq04\": \"sex\",\n",
    "        \"sbq61\": \"birth_year\",\n",
    "        \"weight\": \"weights\"\n",
    "})\n",
    "weights_2014_15[0:5]"
   ]
  },
  {
   "cell_type": "markdown",
   "metadata": {},
   "source": [
    "**Household Balance Sheet**"
   ]
  },
  {
   "cell_type": "markdown",
   "metadata": {},
   "source": [
    "This year, there is no balance sheet that adds up individual survey items. We therefore reconstruct it similar to how it was created in other years."
   ]
  },
  {
   "cell_type": "code",
   "execution_count": null,
   "metadata": {
    "collapsed": false
   },
   "outputs": [],
   "source": [
    "unweighted_individual_balance_sheet_2014_15 = pd.read_stata('./hiesSurvey/2014-15/sec_e.dta', convert_categoricals=False)\n",
    "unweighted_individual_balance_sheet_2014_15.drop([\"sec\", \"seq01\", \"seq02\", \"seq03\", \"seq04\", \"seq06\", \"seq07\", \"seq11\", \"seq12\", \"seq13\", \"seq14\", \"seq16\", \"seq18\", \"seq20\", \"seq22\"], inplace=True, axis=1)\n",
    "unweighted_individual_balance_sheet_2014_15.rename(index=str, inplace=True, columns={\n",
    "        \"seq05\": \"industry_sector\",\n",
    "        \"seq08\": \"monthly_income\", \n",
    "        \"seq09\": \"months_worked\", \n",
    "        \"seq10\": \"annual_earnings\",\n",
    "        \"seq15\": \"other_annual_earnings\",\n",
    "        \"seq17\": \"other_other_annual_earnings\",\n",
    "        \"seq19\": \"selling_wages_annual_earnings\",\n",
    "        \"seq21\": \"pension_annual_earnings\",\n",
    "        \"seq23\": \"remittance_within_pak\",\n",
    "        \"seq24\": \"remittance_outside_pak\",\n",
    "        \"seq25\": \"rent_income\",\n",
    "        \"seq26\": \"other_income\"\n",
    "})\n",
    "unweighted_individual_balance_sheet_2014_15[\"hhcode\"] = unweighted_individual_balance_sheet_2014_15[\"hhcode\"].astype(int)\n",
    "\n",
    "# replace NaNs with 0s\n",
    "unweighted_individual_balance_sheet_2014_15.monthly_income.fillna(0, inplace=True)\n",
    "unweighted_individual_balance_sheet_2014_15.months_worked.fillna(0, inplace=True)\n",
    "unweighted_individual_balance_sheet_2014_15.annual_earnings.fillna(0, inplace=True)\n",
    "unweighted_individual_balance_sheet_2014_15.other_annual_earnings.fillna(0, inplace=True)\n",
    "unweighted_individual_balance_sheet_2014_15.other_annual_earnings.fillna(0, inplace=True)\n",
    "unweighted_individual_balance_sheet_2014_15.other_other_annual_earnings.fillna(0, inplace=True)\n",
    "unweighted_individual_balance_sheet_2014_15.selling_wages_annual_earnings.fillna(0, inplace=True)\n",
    "unweighted_individual_balance_sheet_2014_15.pension_annual_earnings.fillna(0, inplace=True)\n",
    "unweighted_individual_balance_sheet_2014_15.remittance_within_pak.fillna(0, inplace=True)\n",
    "unweighted_individual_balance_sheet_2014_15.remittance_outside_pak.fillna(0, inplace=True)\n",
    "unweighted_individual_balance_sheet_2014_15.rent_income.fillna(0, inplace=True)\n",
    "unweighted_individual_balance_sheet_2014_15.other_income.fillna(0, inplace=True)\n",
    "\n",
    "# calculate annual income\n",
    "unweighted_individual_balance_sheet_2014_15[\"income\"] = \\\n",
    "    (unweighted_individual_balance_sheet_2014_15[\"monthly_income\"] * unweighted_individual_balance_sheet_2014_15[\"months_worked\"]) + \\\n",
    "    unweighted_individual_balance_sheet_2014_15[\"annual_earnings\"] + \\\n",
    "    unweighted_individual_balance_sheet_2014_15[\"other_annual_earnings\"] + \\\n",
    "    unweighted_individual_balance_sheet_2014_15[\"other_other_annual_earnings\"] + \\\n",
    "    unweighted_individual_balance_sheet_2014_15[\"selling_wages_annual_earnings\"] + \\\n",
    "    unweighted_individual_balance_sheet_2014_15[\"pension_annual_earnings\"] + \\\n",
    "    unweighted_individual_balance_sheet_2014_15[\"remittance_within_pak\"] + \\\n",
    "    unweighted_individual_balance_sheet_2014_15[\"remittance_outside_pak\"] + \\\n",
    "    unweighted_individual_balance_sheet_2014_15[\"rent_income\"] + \\\n",
    "    unweighted_individual_balance_sheet_2014_15[\"other_income\"]\n",
    "\n",
    "# remove those with no income\n",
    "unweighted_individual_balance_sheet_2014_15 = unweighted_individual_balance_sheet_2014_15[pd.notnull(unweighted_individual_balance_sheet_2014_15[\"income\"])]\n",
    "unweighted_individual_balance_sheet_2014_15 = unweighted_individual_balance_sheet_2014_15[unweighted_individual_balance_sheet_2014_15[\"income\"] != 0]\n",
    "\n",
    "unweighted_individual_balance_sheet_2014_15.drop([\"annual_earnings\", \"monthly_income\", \"months_worked\", \"other_annual_earnings\", \"other_other_annual_earnings\", \"selling_wages_annual_earnings\", \"pension_annual_earnings\", \"remittance_within_pak\", \"remittance_outside_pak\", \"rent_income\", \"other_income\"], inplace=True, axis=1)\n",
    "unweighted_individual_balance_sheet_2014_15[0:5]"
   ]
  },
  {
   "cell_type": "code",
   "execution_count": null,
   "metadata": {
    "collapsed": false
   },
   "outputs": [],
   "source": [
    "unweighted_hh_balance_sheet_2014_15 = unweighted_individual_balance_sheet_2014_15.groupby([\"hhcode\", \"province\", \"district\", \"region\"]).agg({'income': 'sum'})\n",
    "unweighted_hh_balance_sheet_2014_15.reset_index(level=unweighted_hh_balance_sheet_2014_15.index.names, inplace=True)\n",
    "unweighted_hh_balance_sheet_2014_15[0:5]"
   ]
  },
  {
   "cell_type": "code",
   "execution_count": null,
   "metadata": {
    "collapsed": false
   },
   "outputs": [],
   "source": [
    "# HOUSEHOLD BALANCE SHEET\n",
    "weights_2014_15_subset = weights_2014_15[[\"hhcode\", \"weights\"]].drop_duplicates().set_index('hhcode')\n",
    "hh_balance_sheet_2014_15 = unweighted_hh_balance_sheet_2014_15.join(weights_2014_15_subset, on='hhcode')\n",
    "print(\"num_rows\", hh_balance_sheet_2014_15.shape[0])\n",
    "hh_balance_sheet_2014_15[0:5]"
   ]
  },
  {
   "cell_type": "markdown",
   "metadata": {},
   "source": [
    "**Individual Balance Sheet**"
   ]
  },
  {
   "cell_type": "code",
   "execution_count": null,
   "metadata": {
    "collapsed": false
   },
   "outputs": [],
   "source": [
    "# INDIVIDUAL BALANCE SHEET\n",
    "weights_2014_15_subset = weights_2014_15.drop([\"province\", \"district\", \"region\"], axis=1).set_index(['hhcode', 'idc'])\n",
    "individual_balance_sheet_2014_15 = unweighted_individual_balance_sheet_2014_15.join(weights_2014_15_subset, on=[\"hhcode\", \"idc\"])\n",
    "individual_balance_sheet_2014_15 = individual_balance_sheet_2014_15.reset_index().drop([\"index\"], axis=1)\n",
    "\n",
    "print(\"num_rows\", individual_balance_sheet_2014_15.shape[0])\n",
    "individual_balance_sheet_2014_15[0:5]"
   ]
  },
  {
   "cell_type": "markdown",
   "metadata": {},
   "source": [
    "### 2015 - 2016"
   ]
  },
  {
   "cell_type": "markdown",
   "metadata": {},
   "source": [
    "The final year 🙏"
   ]
  },
  {
   "cell_type": "markdown",
   "metadata": {},
   "source": [
    "**Weights**"
   ]
  },
  {
   "cell_type": "code",
   "execution_count": null,
   "metadata": {
    "collapsed": false
   },
   "outputs": [],
   "source": [
    "weights_2015_16 = pd.read_stata('./hiesSurvey/2015-16/plist.dta')\n",
    "weights_2015_16.drop([\"psu\", \"s1aq03\", \"s1aq05\", \"s1aq61\", \"s1aq62\", \"s1aq07\", \"s1aq08\", \"s1aq09\", \"s1aq10\", \"s1aq11\"], inplace=True, axis=1)\n",
    "weights_2015_16.rename(index=str, inplace=True, columns={\n",
    "        \"s1aq02\": \"relation_to_head\",\n",
    "        \"s1aq04\": \"sex\",\n",
    "        \"s1aq63\": \"birth_year\"\n",
    "})\n",
    "weights_2015_16[\"hhcode\"] = weights_2015_16[\"hhcode\"].astype(int)\n",
    "weights_2015_16[0:5]"
   ]
  },
  {
   "cell_type": "markdown",
   "metadata": {},
   "source": [
    "**Household Balance Sheet**"
   ]
  },
  {
   "cell_type": "code",
   "execution_count": null,
   "metadata": {
    "collapsed": false
   },
   "outputs": [],
   "source": [
    "unweighted_hh_balance_sheet_2015_16 = pd.read_stata('./hiesSurvey/2015-16/sec_9c.dta')\n",
    "unweighted_hh_balance_sheet_2015_16.drop([\"sec\"], inplace=True, axis=1)\n",
    "unweighted_hh_balance_sheet_2015_16.rename(index=str, inplace=True, columns={\n",
    "        \"bs3c01\": \"income\", \n",
    "        \"bs3c02\": \"expenditure\", \n",
    "        \"bs3c03\": \"ratio\",\n",
    "        \"bs3c04\": \"does_ratio_make_sense\"\n",
    "})\n",
    "unweighted_hh_balance_sheet_2015_16[\"hhcode\"] = unweighted_hh_balance_sheet_2015_16[\"hhcode\"].astype(int)\n",
    "\n",
    "print(\"num_rows\", unweighted_hh_balance_sheet_2015_16.shape[0])\n",
    "unweighted_hh_balance_sheet_2015_16[0:5]"
   ]
  },
  {
   "cell_type": "code",
   "execution_count": null,
   "metadata": {
    "collapsed": false
   },
   "outputs": [],
   "source": [
    "capital_2015_16 = pd.read_stata('./hiesSurvey/2015-16/sec_9e.dta')\n",
    "capital_2015_16.rename(index=str, inplace=True, columns={\n",
    "        \"bs5ec01\": \"income\", \n",
    "        \"bs5ec02\": \"expenditure\", \n",
    "        \"bs5ec03\": \"ratio\",\n",
    "        \"bs5ec04\": \"does_ratio_make_sense\"\n",
    "})\n",
    "capital_2015_16[\"hhcode\"] = capital_2015_16[\"hhcode\"].astype(int)\n",
    "\n",
    "print(\"num_rows\", capital_2015_16.shape[0])\n",
    "capital_2015_16[0:5]"
   ]
  },
  {
   "cell_type": "code",
   "execution_count": null,
   "metadata": {
    "collapsed": true
   },
   "outputs": [],
   "source": [
    "for i in range(0, capital_2015_16.shape[0]):\n",
    "    hhcode = capital_2015_16[\"hhcode\"][i]\n",
    "    new_income = capital_2015_16[\"income\"][i]\n",
    "    new_expenditure = capital_2015_16[\"expenditure\"][i]\n",
    "    new_ratio = capital_2015_16[\"ratio\"][i]\n",
    "    new_message = 'yes' if new_ratio >= 0.85 else 'no'\n",
    "    \n",
    "    row_index = unweighted_hh_balance_sheet_2015_16.index[unweighted_hh_balance_sheet_2015_16['hhcode'] == hhcode].tolist()[0]\n",
    "    unweighted_hh_balance_sheet_2015_16.at[row_index, \"income\"] = new_income\n",
    "    unweighted_hh_balance_sheet_2015_16.at[row_index, \"expenditure\"] = new_expenditure\n",
    "    unweighted_hh_balance_sheet_2015_16.at[row_index, \"ratio\"] = new_ratio\n",
    "    unweighted_hh_balance_sheet_2015_16.at[row_index, \"does_ratio_make_sense\"] = new_message"
   ]
  },
  {
   "cell_type": "code",
   "execution_count": null,
   "metadata": {
    "collapsed": false
   },
   "outputs": [],
   "source": [
    "# HOUSEHOLD BALANCE SHEET\n",
    "weights_2015_16_subset = weights_2015_16[[\"hhcode\", \"weights\"]].drop_duplicates().set_index('hhcode')\n",
    "hh_balance_sheet_2015_16 = unweighted_hh_balance_sheet_2015_16.join(weights_2015_16_subset, on='hhcode')\n",
    "hh_balance_sheet_2015_16[0:5]"
   ]
  },
  {
   "cell_type": "markdown",
   "metadata": {},
   "source": [
    "**Individual Balance Sheet**"
   ]
  },
  {
   "cell_type": "code",
   "execution_count": null,
   "metadata": {
    "collapsed": false
   },
   "outputs": [],
   "source": [
    "# INDIVIDUAL BALANCE SHEET\n",
    "unweighted_individual_balance_sheet_2015_16 = pd.read_stata('./hiesSurvey/2015-16/sec_9a.dta')\n",
    "unweighted_individual_balance_sheet_2015_16 = unweighted_individual_balance_sheet_2015_16.drop([\"sec\", \"bs1qc1\", \"bs1qc2\", \"bs1qc3\", \"bs1qc4\", \"bs1qc5\", \"bs1qc6\", \"bs1qc7\"], axis=1)\n",
    "unweighted_individual_balance_sheet_2015_16.rename(index=str, inplace=True, columns={\n",
    "        \"bs1qc8\": \"income\"\n",
    "})\n",
    "unweighted_individual_balance_sheet_2015_16[\"hhcode\"] = unweighted_individual_balance_sheet_2015_16[\"hhcode\"].astype(int)\n",
    "\n",
    "individual_balance_sheet_2015_16 = unweighted_individual_balance_sheet_2015_16.merge(weights_2015_16, how=\"inner\", on=[\"hhcode\", \"idc\"])\n",
    "individual_balance_sheet_2015_16 = individual_balance_sheet_2015_16.drop([\"province_y\", \"region_y\"], axis=1)\n",
    "individual_balance_sheet_2015_16.rename(index=str, inplace=True, columns={\n",
    "        \"province_x\": \"province\",\n",
    "        \"region_x\": \"region\"\n",
    "})\n",
    "\n",
    "individual_balance_sheet_2015_16[0:5]"
   ]
  },
  {
   "cell_type": "markdown",
   "metadata": {},
   "source": [
    "**Corrections**"
   ]
  },
  {
   "cell_type": "markdown",
   "metadata": {},
   "source": [
    "None. We're done!"
   ]
  },
  {
   "cell_type": "markdown",
   "metadata": {},
   "source": [
    "# Export Tables"
   ]
  },
  {
   "cell_type": "markdown",
   "metadata": {},
   "source": [
    "We will now export these final tables to a seperate folder so we can use it in other notebooks."
   ]
  },
  {
   "cell_type": "code",
   "execution_count": null,
   "metadata": {
    "collapsed": false
   },
   "outputs": [],
   "source": [
    "hh_balance_sheet_2004_05.to_pickle(\"./finalData/hh_balance_sheet_2004_05.pkl\")\n",
    "hh_balance_sheet_2005_06.to_pickle(\"./finalData/hh_balance_sheet_2005_06.pkl\")\n",
    "hh_balance_sheet_2006_07.to_pickle(\"./finalData/hh_balance_sheet_2006_07.pkl\")\n",
    "hh_balance_sheet_2007_08.to_pickle(\"./finalData/hh_balance_sheet_2007_08.pkl\")\n",
    "hh_balance_sheet_2008_09.to_pickle(\"./finalData/hh_balance_sheet_2008_09.pkl\")\n",
    "hh_balance_sheet_2010_11.to_pickle(\"./finalData/hh_balance_sheet_2010_11.pkl\")\n",
    "hh_balance_sheet_2011_12.to_pickle(\"./finalData/hh_balance_sheet_2011_12.pkl\")\n",
    "hh_balance_sheet_2012_13.to_pickle(\"./finalData/hh_balance_sheet_2012_13.pkl\")\n",
    "hh_balance_sheet_2013_14.to_pickle(\"./finalData/hh_balance_sheet_2013_14.pkl\")\n",
    "hh_balance_sheet_2014_15.to_pickle(\"./finalData/hh_balance_sheet_2014_15.pkl\")\n",
    "hh_balance_sheet_2015_16.to_pickle(\"./finalData/hh_balance_sheet_2015_16.pkl\")"
   ]
  },
  {
   "cell_type": "code",
   "execution_count": null,
   "metadata": {
    "collapsed": true
   },
   "outputs": [],
   "source": [
    "individual_balance_sheet_2004_05.to_pickle(\"./finalData/individual_balance_sheet_2004_05.pkl\")\n",
    "individual_balance_sheet_2005_06.to_pickle(\"./finalData/individual_balance_sheet_2005_06.pkl\")\n",
    "individual_balance_sheet_2006_07.to_pickle(\"./finalData/individual_balance_sheet_2006_07.pkl\")\n",
    "individual_balance_sheet_2007_08.to_pickle(\"./finalData/individual_balance_sheet_2007_08.pkl\")\n",
    "individual_balance_sheet_2008_09.to_pickle(\"./finalData/individual_balance_sheet_2008_09.pkl\")\n",
    "individual_balance_sheet_2010_11.to_pickle(\"./finalData/individual_balance_sheet_2010_11.pkl\")\n",
    "individual_balance_sheet_2011_12.to_pickle(\"./finalData/individual_balance_sheet_2011_12.pkl\")\n",
    "individual_balance_sheet_2012_13.to_pickle(\"./finalData/individual_balance_sheet_2012_13.pkl\")\n",
    "individual_balance_sheet_2013_14.to_pickle(\"./finalData/individual_balance_sheet_2013_14.pkl\")\n",
    "individual_balance_sheet_2014_15.to_pickle(\"./finalData/individual_balance_sheet_2014_15.pkl\")\n",
    "individual_balance_sheet_2015_16.to_pickle(\"./finalData/individual_balance_sheet_2015_16.pkl\")"
   ]
  },
  {
   "cell_type": "markdown",
   "metadata": {},
   "source": [
    "To import the data into another notebook run the below code. We will use these tables later."
   ]
  },
  {
   "cell_type": "code",
   "execution_count": 1,
   "metadata": {
    "collapsed": false
   },
   "outputs": [],
   "source": [
    "# hh_balance_sheet_2004_05 = pd.read_pickle(\"./finalData/hh_balance_sheet_2004_05.pkl\")\n",
    "# hh_balance_sheet_2004_05"
   ]
  },
  {
   "cell_type": "raw",
   "metadata": {},
   "source": [
    "Notes for potential things to add:\n",
    "\n",
    "1) Individual expenditures are taken into account in later years in the balance sheet area. Could we use calculate the expenditures for earlier years (using the same formula that the HIES uses for later years) and run some interesting analysis on how that changes over time?\n",
    "\n",
    "2) In all years, we don't take into account capital income (from assets) on the individual income determination. We only take it into account for household income. How do we spread account for household agricultural income, household financial assets, etc on an individual level?\n",
    "\n",
    "3) There are several years (2004 - 2005 being one of them) where there is no correction in the household income balance sheet for households that have suspiciously low levels of income (in other years, that level is when income / expenditure < 0.85). We need a thorough accounting of capital income to correct this. For these years the household incomes will generally be lower than other years. This doesn't matter for our analysis, where we are just looking at individual incomes.\n",
    "\n",
    "4) Pandas has an interesting DataFrame.describe() function that allows us to run analysis on the dataframe. I will try to use it in the analysis section, but it could be useful to run here. See more here: https://pandas.pydata.org/pandas-docs/stable/reference/api/pandas.DataFrame.describe.html\n",
    "\n",
    "5) There are some interesting Jupyter Notebook extensions that we could install to make this notebook more readable. The link is here: https://github.com/ipython-contrib/jupyter_contrib_nbextensions\n",
    "\n",
    "6) If you just want to install a table of contents extension, run the following in a cell in the notebook.\n",
    "\n",
    "!jupyter nbextension install --user https://rawgithub.com/minrk/ipython_extensions/master/nbextensions/toc.js\n",
    "!curl -L https://rawgithub.com/minrk/ipython_extensions/master/nbextensions/toc.css > $(jupyter --data-dir)/nbextensions/toc.css\n",
    "!jupyter nbextension enable toc\n",
    "\n",
    "Shutdown the notebook, open it again, and there should be a button next to the 'CellToolbar' button that opens up a table of contents."
   ]
  },
  {
   "cell_type": "markdown",
   "metadata": {},
   "source": [
    "Now onto the tax data!"
   ]
  }
 ],
 "metadata": {
  "anaconda-cloud": {},
  "kernelspec": {
   "display_name": "Python [conda root]",
   "language": "python",
   "name": "conda-root-py"
  },
  "language_info": {
   "codemirror_mode": {
    "name": "ipython",
    "version": 3
   },
   "file_extension": ".py",
   "mimetype": "text/x-python",
   "name": "python",
   "nbconvert_exporter": "python",
   "pygments_lexer": "ipython3",
   "version": "3.5.2"
  }
 },
 "nbformat": 4,
 "nbformat_minor": 2
}
