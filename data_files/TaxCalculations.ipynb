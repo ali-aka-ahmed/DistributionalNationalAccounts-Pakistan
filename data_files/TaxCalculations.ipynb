{
 "cells": [
  {
   "cell_type": "code",
   "execution_count": 4,
   "metadata": {
    "collapsed": false
   },
   "outputs": [],
   "source": [
    "import numpy as np\n",
    "import pandas as pd\n",
    "import os"
   ]
  },
  {
   "cell_type": "code",
   "execution_count": 5,
   "metadata": {
    "collapsed": true
   },
   "outputs": [],
   "source": [
    "pd.options.display.max_columns = None"
   ]
  },
  {
   "cell_type": "markdown",
   "metadata": {},
   "source": [
    "# Tax Data"
   ]
  },
  {
   "cell_type": "markdown",
   "metadata": {},
   "source": [
    "Here will download, convert, clean and organize **Tax Data** from the Pakistan Federal Board of Revenue (FBR). The text files that we manipulate in this notebook can be found in the \"taxpayerData\" folder. The original PDFs can be found here, https://www.fbr.gov.pk/Categ/income-tax-directory/742."
   ]
  },
  {
   "cell_type": "markdown",
   "metadata": {},
   "source": [
    "Pakistan first started releasing taxes in 2014 in the form of PDFs, with individual name, registration / CNIC / NTN number (depending on the year), and amount of taxes paid. The country has only publically released tax data from tax years 2013 - 2017. Note that the tax year in Pakistan is from July 1st to June 30th.\n",
    "\n",
    "First, I will run a script to download the original PDFs from the website above so you have it locally. Secondly, I convert each PDF to text. Finally, we scrape and organize the data from the text file. \n",
    "\n",
    "The names of the relevant data is listed below. See the bottom of this section for code to download these tables and notes for others to build on this."
   ]
  },
  {
   "cell_type": "markdown",
   "metadata": {},
   "source": [
    "**Final Data**"
   ]
  },
  {
   "cell_type": "raw",
   "metadata": {},
   "source": [
    "============================ 2012 - 2013 ============================\n",
    "\n",
    "taxes_paid_2012_13\n",
    "taxable_incomes_salaried_2012_13\n",
    "taxable_incomes_nonsalaried_2012_13\n",
    "\n",
    "num_filers_2012_13\n",
    "num_taxpayers_2012_13\n",
    "proportion_filers_2012_13\n",
    "proportion_taxpayers_2012_13\n",
    "\n",
    "============================ 2013 - 2014 ============================\n",
    "\n",
    "taxes_paid_2013_14\n",
    "taxable_incomes_salaried_2013_14\n",
    "taxable_incomes_nonsalaried_2013_14\n",
    "\n",
    "num_filers_2013_14\n",
    "num_taxpayers_2013_14\n",
    "proportion_filers_2013_14\n",
    "proportion_taxpayers_2013_14\n",
    "\n",
    "============================ 2014 - 2015 ============================\n",
    "\n",
    "taxes_paid_2014_15\n",
    "taxable_incomes_salaried_2014_15\n",
    "taxable_incomes_nonsalaried_2014_15\n",
    "\n",
    "num_filers_2014_15\n",
    "num_taxpayers_2014_15\n",
    "proportion_filers_2014_15\n",
    "\n",
    "proportion_taxpayers_2014_15\n",
    "============================ 2015 - 2016 ============================\n",
    "\n",
    "taxes_paid_2015_16\n",
    "taxable_incomes_salaried_2015_16\n",
    "taxable_incomes_nonsalaried_2015_16\n",
    "\n",
    "num_filers_2015_16\n",
    "num_taxpayers_2015_16\n",
    "proportion_filers_2015_16\n",
    "proportion_taxpayers_2015_16\n",
    "\n",
    "============================ 2016 - 2017 ============================\n",
    "\n",
    "taxes_paid_2016_17\n",
    "taxable_incomes_salaried_2016_17\n",
    "taxable_incomes_nonsalaried_2016_17\n",
    "\n",
    "num_filers_2016_17\n",
    "num_taxpayers_2016_17\n",
    "proportion_filers_2016_17\n",
    "proportion_taxpayers_2016_17"
   ]
  },
  {
   "cell_type": "markdown",
   "metadata": {},
   "source": [
    "**Final Graphs and Tables**"
   ]
  },
  {
   "cell_type": "raw",
   "metadata": {},
   "source": [
    "tax_returns_summary_statistics\n",
    "tax_returns_summary_statistics_eligible\n",
    "comparative_personal_income_tax_revenue_graph\n",
    "india_pak_personal_income_tax_revenue_graph\n",
    "india_pak_personal_income_tax_growth_graph\n",
    "income_calculations\n",
    "real_income_graph\n",
    "comparative_summary_tax_statistics"
   ]
  },
  {
   "cell_type": "markdown",
   "metadata": {},
   "source": [
    "## PDF Data Download"
   ]
  },
  {
   "cell_type": "markdown",
   "metadata": {},
   "source": [
    "The original tax PDF files are too large. Here, we download the files locally (if they have already been downloaded with the appropriate names, then this script will skip over those files).\n",
    "\n",
    "WARNING: Each PDF is about 20,000 pages and takes approximately 10 minutes. By the end we will have downloaded more than 88,000 pages."
   ]
  },
  {
   "cell_type": "code",
   "execution_count": 6,
   "metadata": {
    "collapsed": false
   },
   "outputs": [
    {
     "name": "stdout",
     "output_type": "stream",
     "text": [
      "file already exists: 2017_ParliamentarianTax\n",
      "file already exists: 2017_Tax\n",
      "file already exists: 2013_ParliamentarianTax\n",
      "file already exists: 2013_Tax\n",
      "file already exists: 2016_Tax\n",
      "file already exists: 2015_Tax\n",
      "file already exists: 2016_ParliamentarianTax\n",
      "file already exists: 2015_ParliamentarianTax\n",
      "file already exists: 2014_ParliamentarianTax\n",
      "file already exists: 2014_Tax\n"
     ]
    }
   ],
   "source": [
    "folder_name = \"taxpayerData\"\n",
    "tax_links = {\n",
    "    \"2013_ParliamentarianTax\": \"http://download1.fbr.gov.pk/Docs/201469962916404PARLIMENTARIANSTAXDIRECTORY2013Dt.09.06.2014.pdf\",\n",
    "    \"2014_ParliamentarianTax\": \"http://download1.fbr.gov.pk/Docs/201569963615881PARLIMENTARIANSTAXDIRECTORY2014Dt10042015.pdf\",\n",
    "    \"2015_ParliamentarianTax\": \"http://download1.fbr.gov.pk/Docs/2016991991929997TaxDirectory-Parliamentarians2015.pdf\",\n",
    "    \"2016_ParliamentarianTax\": \"http://download1.fbr.gov.pk/Docs/2017727974535733TaxDirectory-Parliamentarians2016.pdf\",\n",
    "    \"2017_ParliamentarianTax\": \"http://download1.fbr.gov.pk/Docs/201922213121521755Parliamentarians.pdf\",\n",
    "    \"2013_Tax\": \"http://download1.fbr.gov.pk/Docs/AllTaxpayersDirectory2013-2.pdf\",\n",
    "    \"2014_Tax\": \"http://download1.fbr.gov.pk/Docs/20154101641715153TaxDirectoryofallTaxpayersforTaxYear2014.pdf\",\n",
    "    \"2015_Tax\": \"http://download1.fbr.gov.pk/Docs/2016991591713355ALLTAXPAYERSTAXDIRECTORY2015.pdf\",\n",
    "    \"2016_Tax\": \"http://download1.fbr.gov.pk/Docs/201781188488931ALL-Taxpayer-Directory2016.pdf\",\n",
    "    \"2017_Tax\": \"http://download1.fbr.gov.pk/Docs/201922215123116259AllTaxpayerDirectoryJune2017.pdf\"\n",
    "}\n",
    "\n",
    "if not os.path.exists(\"./\" + folder_name + \"/\"):\n",
    "    os.makedirs(\"./\" + folder_name + \"/\")\n",
    "    \n",
    "for k in tax_links.keys():\n",
    "    if os.path.exists(\"./\" + folder_name + \"/\" + k + \".pdf\"):\n",
    "        print(\"file already exists:\", k)\n",
    "        continue\n",
    "    link = tax_links[k]\n",
    "    response = urllib.request.urlopen(str(link))\n",
    "    with open(\"./\" + folder_name + \"/\" + k + \".pdf\", 'wb') as f:\n",
    "        f.write(response.read())\n",
    "    print(\"file uploaded:\", k)"
   ]
  },
  {
   "cell_type": "markdown",
   "metadata": {},
   "source": [
    "## PDF to Text Data Conversion"
   ]
  },
  {
   "cell_type": "markdown",
   "metadata": {},
   "source": [
    "The text files should have been downloaded with this notebook, but if not you can run the scraper here. Most PDF to txt scrapers take far too long to process this much data (PDFMinerSix took about 5 hours for one PDF, Tabula never completed). I found an open source implementation and adjusted it to work in under 4 minutes per PDF."
   ]
  },
  {
   "cell_type": "markdown",
   "metadata": {},
   "source": [
    "Drag all taxpayer PDFs for which you do not have a .txt file into taxpayerData/txtCreateFolder.\n",
    "\n",
    "Uncomment the script below and run it to create the .txt files. Once done, drag the .txt files back into the taxpayerData folder."
   ]
  },
  {
   "cell_type": "code",
   "execution_count": 7,
   "metadata": {
    "collapsed": true
   },
   "outputs": [],
   "source": [
    "# !\"./tools/convertmyfiles.sh\""
   ]
  },
  {
   "cell_type": "markdown",
   "metadata": {},
   "source": [
    "## Parsing the Full Tax Data"
   ]
  },
  {
   "cell_type": "markdown",
   "metadata": {},
   "source": [
    "Now we will parse through the .txt files, creating lists with taxpayers' income. Note that parlimentarians' income is included in the yearly tax files. \n",
    "\n",
    "I have also downloaded FBR Tax Yearbooks in taxpayerData/supplemental_tax_information. They hold important summary statistics for data that hasn't been publically released (like percent of direct taxes that are withholding taxes)."
   ]
  },
  {
   "cell_type": "markdown",
   "metadata": {},
   "source": [
    "**Helper Functions**"
   ]
  },
  {
   "cell_type": "code",
   "execution_count": 9,
   "metadata": {
    "collapsed": true
   },
   "outputs": [],
   "source": [
    "def is_comma_separated_number(w):\n",
    "    if \",\" in w:\n",
    "        potential_nums = w.split(\",\")\n",
    "        for num in potential_nums:\n",
    "            if not num.isdigit():\n",
    "                return False\n",
    "        return True\n",
    "    else:\n",
    "        return False\n",
    "    \n",
    "def three_digit_or_less_number(w):\n",
    "    if len(w) <= 3 and len(w) >= 1 and w.isdigit():\n",
    "        return True\n",
    "    \n",
    "def calculate_taxable_income(tax_paid, tax_levels, top_rate):\n",
    "    i = 0\n",
    "    while tax_paid > 0 and i < len(tax_levels):\n",
    "        tax_paid -= tax_levels[i][1]\n",
    "        i += 1\n",
    "    i -= 1\n",
    "    if tax_paid < 0:\n",
    "        to_subtract_from_top = int(abs(tax_paid) / tax_levels[i][2])\n",
    "        return tax_levels[i][0] - to_subtract_from_top\n",
    "    elif tax_paid == 0:\n",
    "        return tax_levels[i][0]\n",
    "    else:\n",
    "        to_add_to_top = tax_paid / top_rate\n",
    "        return tax_levels[len(tax_levels) - 1][0] + to_add_to_top"
   ]
  },
  {
   "cell_type": "markdown",
   "metadata": {},
   "source": [
    "**Relevant Tables for Statistics**"
   ]
  },
  {
   "cell_type": "code",
   "execution_count": 10,
   "metadata": {
    "collapsed": false
   },
   "outputs": [],
   "source": [
    "labor_force_total = pd.read_excel(\"./miscData/labor_force_total.xls\")\n",
    "national_income = pd.read_excel(\"./miscData/national_income.xlsx\")"
   ]
  },
  {
   "cell_type": "markdown",
   "metadata": {},
   "source": [
    "### 2012 - 2013"
   ]
  },
  {
   "cell_type": "markdown",
   "metadata": {},
   "source": [
    "First we collect the amount of taxes paid and NTN numbers of the taxpayers. I've built custom parsers for each year as the format changes."
   ]
  },
  {
   "cell_type": "code",
   "execution_count": 11,
   "metadata": {
    "collapsed": false
   },
   "outputs": [],
   "source": [
    "f = open('./taxpayerData/2013_Tax.txt', 'r')\n",
    "\n",
    "in_individuals_section = False\n",
    "\n",
    "taxes_paid_2012_13 = []\n",
    "registration_numbers_2012_13 = set()\n",
    "\n",
    "line_number = 0\n",
    "for line in f:\n",
    "    if \"INDIVIDUAL\" in line and len(line) == 11:\n",
    "        in_individuals_section = True\n",
    "        continue\n",
    "    if in_individuals_section:\n",
    "        line = line.strip().split(\" \")\n",
    "        if line_number < 5:\n",
    "            line_number += 1\n",
    "            continue\n",
    "        \n",
    "#         print(line)\n",
    "        for w in line:\n",
    "            if w == 0:\n",
    "                continue\n",
    "            elif \"-\" in w:\n",
    "                registration_numbers_2012_13.add(w)\n",
    "            elif is_comma_separated_number(w) or three_digit_or_less_number(w):\n",
    "                tax_paid = int(w.replace(',', ''))\n",
    "                taxes_paid_2012_13.append(tax_paid)\n",
    "        \n",
    "        line_number += 1\n",
    "#         if line_number % 5000 == 0:\n",
    "#                 print(\"%.2f%%\" % (len(registration_numbers_2012_13)  * 100 / 728346))\n",
    "        \n",
    "#         if line_number == 10:\n",
    "#             break\n",
    "taxes_paid_2012_13 = [x for x in taxes_paid_2012_13 if x != 0]\n",
    "taxes_paid_2012_13 = sorted([w for w in taxes_paid_2012_13 if w != 0])"
   ]
  },
  {
   "cell_type": "markdown",
   "metadata": {},
   "source": [
    "Now we calculate some quick statistics related to this year's taxes. Note that the sample we have is all individual filers who paid \"voluntary payments\" or \"withholding tax\". Those who filed and paid more than 0 PKR in taxes are taxpayers."
   ]
  },
  {
   "cell_type": "code",
   "execution_count": 12,
   "metadata": {
    "collapsed": true
   },
   "outputs": [],
   "source": [
    "num_filers_2012_13 = len(registration_numbers_2012_13)\n",
    "num_taxpayers_2012_13 = len(taxes_paid_2012_13)\n",
    "\n",
    "proportion_filers_2012_13 = num_filers_2012_13 / ((labor_force_total[\"2012\"][1] + labor_force_total[\"2013\"][1]) / 2)\n",
    "proportion_taxpayers_2012_13 = num_taxpayers_2012_13 / ((labor_force_total[\"2012\"][1] + labor_force_total[\"2013\"][1]) / 2)"
   ]
  },
  {
   "cell_type": "markdown",
   "metadata": {},
   "source": [
    "Now, from the \"taxes_paid_2012_13\" that we just scraped, we can back-calculate the taxable incomes of each individual - assuming all of their income was under salaried or unsalaried taxable income. We are generating this for later analysis in the \"CombiningData\" notebook, where we will analyze whether this is a robust assumption. We do some analysis in the \"Understanding the Tax Data\" section, under \"Assessing Income Calculations\" to understand how we can improve it our estimates of taxable, and actual income."
   ]
  },
  {
   "cell_type": "code",
   "execution_count": 13,
   "metadata": {
    "collapsed": true
   },
   "outputs": [],
   "source": [
    "# top_rate = 0.20\n",
    "tax_levels_salaried_2012_13 = [\n",
    "        (400000, 750, 0.015),\n",
    "        (450000, 1250, 0.025),\n",
    "        (550000, 3500, 0.035),\n",
    "        (650000, 4500, 0.045),\n",
    "        (750000, 6000, 0.06),\n",
    "        (900000, 11250, 0.075),\n",
    "        (1050000, 13500, 0.09),\n",
    "        (1200000, 15000, 0.10),\n",
    "        (1450000, 27500, 0.11),\n",
    "        (1700000, 31250, 0.125),\n",
    "        (1950000, 35000, 0.14),\n",
    "        (2250000, 45000, 0.15),\n",
    "        (2850000, 96000, 0.16),\n",
    "        (3550000, 122500, 0.175),\n",
    "        (4550000, 185000, 0.185),\n",
    "    ]\n",
    "\n",
    "# top_rate = 0.25\n",
    "tax_levels_nonsalaried_2012_13 = [\n",
    "        (500000, 7500, 0.05),\n",
    "        (750000, 25000, 0.10),\n",
    "        (1000000, 37500, 0.15),\n",
    "        (1500000, 100000, 0.20)\n",
    "    ]"
   ]
  },
  {
   "cell_type": "markdown",
   "metadata": {},
   "source": [
    "The above rates and threshold sizes are for this taxyear. You can find them in taxpayerData/supplemental_tax_information, where I have downloaded EY's Pakistan tax profile for these years."
   ]
  },
  {
   "cell_type": "code",
   "execution_count": 14,
   "metadata": {
    "collapsed": true
   },
   "outputs": [],
   "source": [
    "taxable_incomes_salaried_2012_13 = [calculate_taxable_income(i, tax_levels_salaried_2012_13, 0.2) for i in taxes_paid_2012_13]\n",
    "taxable_incomes_nonsalaried_2012_13 = [calculate_taxable_income(i, tax_levels_nonsalaried_2012_13, 0.25) for i in taxes_paid_2012_13]"
   ]
  },
  {
   "cell_type": "markdown",
   "metadata": {},
   "source": [
    "### 2013 - 2014"
   ]
  },
  {
   "cell_type": "markdown",
   "metadata": {},
   "source": [
    "We now repeat the process for the rest of the available tax years."
   ]
  },
  {
   "cell_type": "code",
   "execution_count": 15,
   "metadata": {
    "collapsed": false
   },
   "outputs": [],
   "source": [
    "f = open('./taxpayerData/2014_Tax.txt', 'r')\n",
    "\n",
    "in_individuals_section = False\n",
    "incomes_begin = False\n",
    "\n",
    "taxes_paid_2013_14 = []\n",
    "registration_numbers_2013_14 = set()\n",
    "\n",
    "line_number = 0\n",
    "for line in f:\n",
    "    if \"INDIVIDUAL\" in line and len(line) == 11:\n",
    "        in_individuals_section = True\n",
    "        continue\n",
    "    if in_individuals_section:\n",
    "        line = line.strip().split(\" \")\n",
    "        if line_number < 2:\n",
    "            line_number += 1\n",
    "            continue\n",
    "            \n",
    "        if \"174,783\" in line:\n",
    "            incomes_begin = True\n",
    "#         print(line)\n",
    "        for w in line:\n",
    "            if w == 0:\n",
    "                continue\n",
    "            elif w.isdigit() and len(w) > 3:\n",
    "                registration_numbers_2013_14.add(w)\n",
    "            elif (is_comma_separated_number(w) or three_digit_or_less_number(w)) and incomes_begin:\n",
    "                tax_paid = int(w.replace(',', ''))\n",
    "                taxes_paid_2013_14.append(tax_paid)\n",
    "        \n",
    "        line_number += 1\n",
    "#         if line_number % 5000 == 0:\n",
    "#             print(\"%.2f%%\" % (len(registration_numbers_2013_14)  * 100 / 780462))\n",
    "        \n",
    "#         if line_number == 10:\n",
    "#             break\n",
    "taxes_paid_2013_14 = [x for x in taxes_paid_2013_14 if x != 0]\n",
    "taxes_paid_2013_14 = sorted([w for w in taxes_paid_2013_14 if w != 0])"
   ]
  },
  {
   "cell_type": "code",
   "execution_count": 16,
   "metadata": {
    "collapsed": true
   },
   "outputs": [],
   "source": [
    "num_filers_2013_14 = len(registration_numbers_2013_14)\n",
    "num_taxpayers_2013_14 = len(taxes_paid_2013_14)\n",
    "\n",
    "proportion_filers_2013_14 = num_filers_2013_14 / ((labor_force_total[\"2013\"][1] + labor_force_total[\"2014\"][1]) / 2)\n",
    "proportion_taxpayers_2013_14 = num_taxpayers_2013_14 / ((labor_force_total[\"2013\"][1] + labor_force_total[\"2014\"][1]) / 2)"
   ]
  },
  {
   "cell_type": "code",
   "execution_count": 17,
   "metadata": {
    "collapsed": false
   },
   "outputs": [],
   "source": [
    "# top_rate = 0.30\n",
    "tax_levels_salaried_2013_14 = [\n",
    "        (750000, 17500, 0.05),\n",
    "        (1400000, 65000, 0.10),\n",
    "        (1500000, 12500, 0.125),\n",
    "        (1800000, 45000, 0.15),\n",
    "        (2500000, 122500, 0.175),\n",
    "        (3000000, 100000, 0.20),\n",
    "        (3500000, 112500, 0.225),\n",
    "        (4000000, 125000, 0.25),\n",
    "        (7000000, 825000, 0.275)\n",
    "    ]\n",
    "\n",
    "# top_rate = 0.35\n",
    "tax_levels_nonsalaried_2013_14 = [\n",
    "        (750000, 35000, 0.10),\n",
    "        (1500000, 112500, 0.15),\n",
    "        (2500000, 200000, 0.20),\n",
    "        (4000000, 375000, 0.25),\n",
    "        (6000000, 600000, 0.30)\n",
    "    ]"
   ]
  },
  {
   "cell_type": "code",
   "execution_count": 18,
   "metadata": {
    "collapsed": false
   },
   "outputs": [],
   "source": [
    "taxable_incomes_salaried_2013_14 = [calculate_taxable_income(i, tax_levels_salaried_2013_14, 0.3) for i in taxes_paid_2013_14]\n",
    "taxable_incomes_nonsalaried_2013_14 = [calculate_taxable_income(i, tax_levels_nonsalaried_2013_14, 0.35) for i in taxes_paid_2013_14]"
   ]
  },
  {
   "cell_type": "markdown",
   "metadata": {},
   "source": [
    "### 2014 - 2015"
   ]
  },
  {
   "cell_type": "code",
   "execution_count": 19,
   "metadata": {
    "collapsed": false
   },
   "outputs": [],
   "source": [
    "f = open('./taxpayerData/2015_Tax.txt', 'r')\n",
    "\n",
    "in_individuals_section = False\n",
    "\n",
    "taxes_paid_2014_15 = []\n",
    "registration_numbers_2014_15 = set()\n",
    "\n",
    "print_number = 0\n",
    "for line in f:\n",
    "    if \"INDIVIDUAL\" in line and len(line) == 11:\n",
    "        in_individuals_section = True\n",
    "        continue\n",
    "    \n",
    "    if in_individuals_section:\n",
    "        line = line.strip().split(\" \")\n",
    "        \n",
    "#         print(line)\n",
    "#         print_number += 1\n",
    "        for w in line:\n",
    "            if w == 0:\n",
    "                continue\n",
    "            elif w.isdigit() and len(w) > 3:\n",
    "                registration_numbers_2014_15.add(w)\n",
    "            elif is_comma_separated_number(w) or three_digit_or_less_number(w):\n",
    "                tax_paid = int(w.replace(',', ''))\n",
    "                taxes_paid_2014_15.append(tax_paid) \n",
    "            else:\n",
    "                continue\n",
    "        \n",
    "        print_number += 1\n",
    "#         if print_number % 5000 == 0:\n",
    "#             print(\"%.2f%%\" % (len(registration_numbers_2014_15)  * 100 / 1000718))\n",
    "        \n",
    "#         if print_number == 10:\n",
    "#             break\n",
    "taxes_paid_2014_15 = [x for x in taxes_paid_2014_15 if x != 0]\n",
    "taxes_paid_2014_15 = sorted(taxes_paid_2014_15)"
   ]
  },
  {
   "cell_type": "code",
   "execution_count": 20,
   "metadata": {
    "collapsed": true
   },
   "outputs": [],
   "source": [
    "num_filers_2014_15 = len(registration_numbers_2014_15)\n",
    "num_taxpayers_2014_15 = len(taxes_paid_2014_15)\n",
    "\n",
    "proportion_filers_2014_15 = num_filers_2014_15 / ((labor_force_total[\"2014\"][1] + labor_force_total[\"2015\"][1]) / 2)\n",
    "proportion_taxpayers_2014_15 = num_taxpayers_2014_15 / ((labor_force_total[\"2014\"][1] + labor_force_total[\"2015\"][1]) / 2)"
   ]
  },
  {
   "cell_type": "code",
   "execution_count": 21,
   "metadata": {
    "collapsed": true
   },
   "outputs": [],
   "source": [
    "# Note this is the same as last year\n",
    "# top_rate = 0.30\n",
    "tax_levels_salaried_2014_15 = [\n",
    "        (750000, 17500, 0.05),\n",
    "        (1400000, 65000, 0.10),\n",
    "        (1500000, 12500, 0.125),\n",
    "        (1800000, 45000, 0.15),\n",
    "        (2500000, 122500, 0.175),\n",
    "        (3000000, 100000, 0.20),\n",
    "        (3500000, 112500, 0.225),\n",
    "        (4000000, 125000, 0.25),\n",
    "        (7000000, 825000, 0.275)\n",
    "    ]\n",
    "\n",
    "# top_rate = 0.35\n",
    "tax_levels_nonsalaried_2014_15 = [\n",
    "        (750000, 35000, 0.10),\n",
    "        (1500000, 112500, 0.15),\n",
    "        (2500000, 200000, 0.20),\n",
    "        (4000000, 375000, 0.25),\n",
    "        (6000000, 600000, 0.30)\n",
    "    ]"
   ]
  },
  {
   "cell_type": "code",
   "execution_count": 22,
   "metadata": {
    "collapsed": false
   },
   "outputs": [],
   "source": [
    "taxable_incomes_salaried_2014_15 = [calculate_taxable_income(i, tax_levels_salaried_2014_15, 0.3) for i in taxes_paid_2014_15]\n",
    "taxable_incomes_nonsalaried_2014_15 = [calculate_taxable_income(i, tax_levels_nonsalaried_2014_15, 0.35) for i in taxes_paid_2014_15]"
   ]
  },
  {
   "cell_type": "markdown",
   "metadata": {},
   "source": [
    "### 2015 - 2016"
   ]
  },
  {
   "cell_type": "code",
   "execution_count": 23,
   "metadata": {
    "collapsed": false
   },
   "outputs": [],
   "source": [
    "f = open('./taxpayerData/2016_Tax.txt', 'r')\n",
    "\n",
    "in_individuals_section = False\n",
    "incomes_begin = False\n",
    "registration_numbers_begin = False\n",
    "\n",
    "taxes_paid_2015_16 = []\n",
    "registration_numbers_2015_16 = set()\n",
    "\n",
    "line_number = 0\n",
    "for line in f:\n",
    "    if \"INDIVIDUAL\" in line and len(line) == 11:\n",
    "        in_individuals_section = True\n",
    "        continue\n",
    "    \n",
    "    if in_individuals_section:\n",
    "        line = line.strip().split(\" \")\n",
    "            \n",
    "        if \"19,000\" in line:\n",
    "            incomes_begin = True\n",
    "        for w in line:\n",
    "            if w == \"19,000\":\n",
    "                incomes_begin = True\n",
    "            if w == \"3520254679721\":\n",
    "                registration_numbers_begin = True\n",
    "                \n",
    "                \n",
    "            if w == 0:\n",
    "                continue\n",
    "            elif registration_numbers_begin and w.isdigit() and len(w) > 3:\n",
    "                registration_numbers_2015_16.add(w)\n",
    "            elif incomes_begin and (is_comma_separated_number(w) or three_digit_or_less_number(w)) and incomes_begin:\n",
    "                tax_paid = int(w.replace(',', ''))\n",
    "                taxes_paid_2015_16.append(tax_paid)\n",
    "        \n",
    "        line_number += 1\n",
    "#         if line_number % 5000 == 0:\n",
    "#             print(\"%.2f%%\" % (len(registration_numbers_2015_16)  * 100 / 1135764))\n",
    "\n",
    "taxes_paid_2015_16 = [x for x in taxes_paid_2015_16 if x != 0]\n",
    "taxes_paid_2015_16 = sorted(taxes_paid_2015_16)"
   ]
  },
  {
   "cell_type": "code",
   "execution_count": 24,
   "metadata": {
    "collapsed": true
   },
   "outputs": [],
   "source": [
    "num_filers_2015_16 = len(registration_numbers_2015_16)\n",
    "num_taxpayers_2015_16 = len(taxes_paid_2015_16)\n",
    "\n",
    "proportion_filers_2015_16 = num_filers_2015_16 / ((labor_force_total[\"2015\"][1] + labor_force_total[\"2016\"][1]) / 2)\n",
    "proportion_taxpayers_2015_16 = num_taxpayers_2015_16 / ((labor_force_total[\"2015\"][1] + labor_force_total[\"2016\"][1]) / 2)"
   ]
  },
  {
   "cell_type": "code",
   "execution_count": 25,
   "metadata": {
    "collapsed": true
   },
   "outputs": [],
   "source": [
    "# top_rate = 0.30\n",
    "tax_levels_salaried_2015_16 = [\n",
    "        (500000, 2000, 0.02),\n",
    "        (750000, 12500, 0.05),\n",
    "        (1400000, 65000, 0.10),\n",
    "        (1500000, 12500, 0.125),\n",
    "        (1800000, 45000, 0.15),\n",
    "        (2500000, 122500, 0.175),\n",
    "        (3000000, 100000, 0.20),\n",
    "        (3500000, 112500, 0.225),\n",
    "        (4000000, 125000, 0.25),\n",
    "        (7000000, 825000, 0.275),\n",
    "    ]\n",
    "\n",
    "# top_rate = 0.35\n",
    "tax_levels_nonsalaried_2015_16 = [\n",
    "        (500000, 7000, 0.07),\n",
    "        (750000, 25000, 0.10),\n",
    "        (1500000, 112500, 0.15),\n",
    "        (2500000, 200000, 0.20),\n",
    "        (4000000, 375000, 0.25),\n",
    "        (6000000, 600000, 0.30)\n",
    "    ]"
   ]
  },
  {
   "cell_type": "code",
   "execution_count": 26,
   "metadata": {
    "collapsed": false
   },
   "outputs": [],
   "source": [
    "taxable_incomes_salaried_2015_16 = [calculate_taxable_income(i, tax_levels_salaried_2015_16, 0.3) for i in taxes_paid_2015_16]\n",
    "taxable_incomes_nonsalaried_2015_16 = [calculate_taxable_income(i, tax_levels_nonsalaried_2015_16, 0.35) for i in taxes_paid_2015_16]"
   ]
  },
  {
   "cell_type": "markdown",
   "metadata": {},
   "source": [
    "### 2016 - 2017"
   ]
  },
  {
   "cell_type": "code",
   "execution_count": 27,
   "metadata": {
    "collapsed": false
   },
   "outputs": [],
   "source": [
    "f = open('./taxpayerData/2017_Tax.txt', 'r')\n",
    "\n",
    "in_individuals_section = False\n",
    "in_tax_paid = False\n",
    "in_registration = False\n",
    "\n",
    "taxes_paid_2016_17 = []\n",
    "registration_numbers_2016_17 = set()\n",
    "\n",
    "print_number = 0\n",
    "for line in f:\n",
    "    if \"INDIVIDUALS\" in line:\n",
    "        in_individuals_section = True\n",
    "        continue\n",
    "        \n",
    "    if in_individuals_section:\n",
    "        line = line.strip().split(\" \")\n",
    "        if \"Tax\" in line and \"Paid\" in line:\n",
    "            in_tax_paid = True\n",
    "            in_registration = False\n",
    "        elif \"Registration\" in line and \"No.\" in line:\n",
    "            in_tax_paid = False\n",
    "            in_registration = True\n",
    "        elif \"Sr.\" in line:\n",
    "            in_tax_paid = False\n",
    "            in_registration = False\n",
    "        \n",
    "        if in_registration:\n",
    "#             print(line)\n",
    "#             print_number += 1\n",
    "            for w in line:\n",
    "                if w.isdigit() and len(w) > 3:\n",
    "                    registration_numbers_2016_17.add(w)\n",
    "        elif in_tax_paid:\n",
    "#             print(line)\n",
    "#             print_number += 1\n",
    "            for w in line:\n",
    "                if is_comma_separated_number(w) or three_digit_or_less_number(w):\n",
    "                    tax_paid = int(w.replace(',', ''))\n",
    "                    taxes_paid_2016_17.append(tax_paid) \n",
    "        else:\n",
    "            continue\n",
    "        \n",
    "#         if print_number == 4:\n",
    "#             break\n",
    "\n",
    "taxes_paid_2016_17 = [x for x in taxes_paid_2016_17 if x != 0]\n",
    "taxes_paid_2016_17 = sorted(taxes_paid_2016_17)"
   ]
  },
  {
   "cell_type": "code",
   "execution_count": 28,
   "metadata": {
    "collapsed": true
   },
   "outputs": [],
   "source": [
    "num_filers_2016_17 = len(registration_numbers_2016_17)\n",
    "num_taxpayers_2016_17 = len(taxes_paid_2016_17)\n",
    "\n",
    "proportion_filers_2016_17 = num_filers_2016_17 / ((labor_force_total[\"2016\"][1] + labor_force_total[\"2017\"][1]) / 2)\n",
    "proportion_taxpayers_2016_17 = num_taxpayers_2016_17 / ((labor_force_total[\"2016\"][1] + labor_force_total[\"2017\"][1]) / 2)"
   ]
  },
  {
   "cell_type": "code",
   "execution_count": 29,
   "metadata": {
    "collapsed": true
   },
   "outputs": [],
   "source": [
    "# Note that this is the same as last year\n",
    "# top_rate = 0.30\n",
    "tax_levels_salaried_2016_17 = [\n",
    "        (500000, 2000, 0.02),\n",
    "        (750000, 12500, 0.05),\n",
    "        (1400000, 65000, 0.10),\n",
    "        (1500000, 12500, 0.125),\n",
    "        (1800000, 45000, 0.15),\n",
    "        (2500000, 122500, 0.175),\n",
    "        (3000000, 100000, 0.20),\n",
    "        (3500000, 112500, 0.225),\n",
    "        (4000000, 125000, 0.25),\n",
    "        (7000000, 825000, 0.275),\n",
    "    ]\n",
    "\n",
    "# top_rate = 0.35\n",
    "tax_levels_nonsalaried_2016_17 = [\n",
    "        (500000, 7000, 0.07),\n",
    "        (750000, 25000, 0.10),\n",
    "        (1500000, 112500, 0.15),\n",
    "        (2500000, 200000, 0.20),\n",
    "        (4000000, 375000, 0.25),\n",
    "        (6000000, 600000, 0.30)\n",
    "    ]"
   ]
  },
  {
   "cell_type": "code",
   "execution_count": 30,
   "metadata": {
    "collapsed": false
   },
   "outputs": [],
   "source": [
    "taxable_incomes_salaried_2016_17 = [calculate_taxable_income(i, tax_levels_salaried_2016_17, 0.3) for i in taxes_paid_2016_17]\n",
    "taxable_incomes_nonsalaried_2016_17 = [calculate_taxable_income(i, tax_levels_nonsalaried_2016_17, 0.35) for i in taxes_paid_2016_17]"
   ]
  },
  {
   "cell_type": "markdown",
   "metadata": {},
   "source": [
    "### Corrections"
   ]
  },
  {
   "cell_type": "markdown",
   "metadata": {},
   "source": [
    "Let's take a look at the top taxes paid for the last few years as that's usually where the data entry errors occur. Also we'll look at taxes_paid because most other data derives from it."
   ]
  },
  {
   "cell_type": "code",
   "execution_count": 31,
   "metadata": {
    "collapsed": false,
    "scrolled": true
   },
   "outputs": [
    {
     "data": {
      "text/plain": [
       "[192509499,\n",
       " 204700230,\n",
       " 210332864,\n",
       " 240639499,\n",
       " 275009499,\n",
       " 300009499,\n",
       " 423039499,\n",
       " 749008253]"
      ]
     },
     "execution_count": 31,
     "metadata": {},
     "output_type": "execute_result"
    }
   ],
   "source": [
    "taxes_paid_2012_13[-8:]"
   ]
  },
  {
   "cell_type": "code",
   "execution_count": 32,
   "metadata": {
    "collapsed": false
   },
   "outputs": [
    {
     "data": {
      "text/plain": [
       "[143208224,\n",
       " 143271006,\n",
       " 163076683,\n",
       " 212457880,\n",
       " 249977620,\n",
       " 298689781,\n",
       " 304672293,\n",
       " 485758739]"
      ]
     },
     "execution_count": 32,
     "metadata": {},
     "output_type": "execute_result"
    }
   ],
   "source": [
    "taxes_paid_2013_14[-8:]"
   ]
  },
  {
   "cell_type": "code",
   "execution_count": 33,
   "metadata": {
    "collapsed": false
   },
   "outputs": [
    {
     "data": {
      "text/plain": [
       "[215161877,\n",
       " 221062820,\n",
       " 224273240,\n",
       " 246943190,\n",
       " 322592659,\n",
       " 1980419800,\n",
       " 30105506000,\n",
       " 4220151942873]"
      ]
     },
     "execution_count": 33,
     "metadata": {},
     "output_type": "execute_result"
    }
   ],
   "source": [
    "taxes_paid_2014_15[-8:]"
   ]
  },
  {
   "cell_type": "code",
   "execution_count": 34,
   "metadata": {
    "collapsed": true
   },
   "outputs": [],
   "source": [
    "# Page 9809 | MUHAMMAD HUSSAIN | 1,980,419,800 (nearly 2 Billion PKR in tax)\n",
    "# Page 5040 | HABIB ULLAH S O HASHMAT ULLAH | 30,105,506,000 (over 30 Billion PKR in tax)\n",
    "# Page 12,449 | NADEM AHMED MIR | 4,220,151,942,873 (over 4 Trillion PKR in tax)"
   ]
  },
  {
   "cell_type": "code",
   "execution_count": 35,
   "metadata": {
    "collapsed": false
   },
   "outputs": [
    {
     "data": {
      "text/plain": [
       "[263740827,\n",
       " 280565417,\n",
       " 293528571,\n",
       " 295523097,\n",
       " 311335339,\n",
       " 402745414,\n",
       " 420422332,\n",
       " 2830640001]"
      ]
     },
     "execution_count": 35,
     "metadata": {},
     "output_type": "execute_result"
    }
   ],
   "source": [
    "taxes_paid_2015_16[-8:]"
   ]
  },
  {
   "cell_type": "code",
   "execution_count": 36,
   "metadata": {
    "collapsed": true
   },
   "outputs": [],
   "source": [
    "# Page 3,217 | ASIM RAZZAQ | 2,830,640,001 (over 2 Billion PKR in tax)"
   ]
  },
  {
   "cell_type": "code",
   "execution_count": 37,
   "metadata": {
    "collapsed": false
   },
   "outputs": [
    {
     "data": {
      "text/plain": [
       "[254245709,\n",
       " 259367593,\n",
       " 294884853,\n",
       " 314146096,\n",
       " 389634689,\n",
       " 408852429,\n",
       " 411422476,\n",
       " 716026507]"
      ]
     },
     "execution_count": 37,
     "metadata": {},
     "output_type": "execute_result"
    }
   ],
   "source": [
    "taxes_paid_2016_17[-8:]"
   ]
  },
  {
   "cell_type": "markdown",
   "metadata": {},
   "source": [
    "Looks like the highest tax amount paid is usually around 500 million PKR. For tax years 2015 - 2016 and 2014 - 2015 there seem to be outliers that are at least 1 order of magnitude off. I've added comments above - those numbers exist in the original PDFs, but I am going to assume that those numbers must have been wrongly entered. \n",
    "\n",
    "Just for a sanity check, let's compare those outliers to national income."
   ]
  },
  {
   "cell_type": "code",
   "execution_count": 38,
   "metadata": {
    "collapsed": true
   },
   "outputs": [],
   "source": [
    "ni2014 = (list(national_income[national_income[\"Year\"] == 2014][\"National Income\"])[0] + \\\n",
    "          list(national_income[national_income[\"Year\"] == 2015][\"National Income\"])[0]) / 2\n",
    "ni2015 = (list(national_income[national_income[\"Year\"] == 2015][\"National Income\"])[0] + \\\n",
    "          list(national_income[national_income[\"Year\"] == 2016][\"National Income\"])[0]) / 2"
   ]
  },
  {
   "cell_type": "code",
   "execution_count": 39,
   "metadata": {
    "collapsed": false
   },
   "outputs": [
    {
     "name": "stdout",
     "output_type": "stream",
     "text": [
      "2014 - 2015: 1,980,419,800 (nearly 2 Billion PKR in tax)\n",
      "Percent of National Income: 0.008%\n"
     ]
    }
   ],
   "source": [
    "print(\"2014 - 2015: 1,980,419,800 (nearly 2 Billion PKR in tax)\")\n",
    "print(\"Percent of National Income:\", str(round(taxes_paid_2014_15[-3] / ni2014 * 100, 3)) + \"%\")"
   ]
  },
  {
   "cell_type": "code",
   "execution_count": 40,
   "metadata": {
    "collapsed": false
   },
   "outputs": [
    {
     "name": "stdout",
     "output_type": "stream",
     "text": [
      "2014 - 2015: 30,105,506,000 (over 30 Billion PKR in tax)\n",
      "Percent of National Income: 0.116%\n"
     ]
    }
   ],
   "source": [
    "print(\"2014 - 2015: 30,105,506,000 (over 30 Billion PKR in tax)\")\n",
    "print(\"Percent of National Income:\", str(round(taxes_paid_2014_15[-2] / ni2014 * 100, 3)) + \"%\")"
   ]
  },
  {
   "cell_type": "code",
   "execution_count": 41,
   "metadata": {
    "collapsed": false
   },
   "outputs": [
    {
     "name": "stdout",
     "output_type": "stream",
     "text": [
      "2014 - 2015: 4,220,151,942,873 (over 4 Trillion PKR in tax)\n",
      "Percent of National Income: 16.26%\n"
     ]
    }
   ],
   "source": [
    "print(\"2014 - 2015: 4,220,151,942,873 (over 4 Trillion PKR in tax)\")\n",
    "print(\"Percent of National Income:\", str(round(taxes_paid_2014_15[-1] / ni2014 * 100, 3)) + \"%\")"
   ]
  },
  {
   "cell_type": "code",
   "execution_count": 42,
   "metadata": {
    "collapsed": false
   },
   "outputs": [
    {
     "name": "stdout",
     "output_type": "stream",
     "text": [
      "2015 - 2016: 2,830,640,001 (over 2 Billion PKR in tax)\n",
      "Percent of National Income: 0.01%\n"
     ]
    }
   ],
   "source": [
    "print(\"2015 - 2016: 2,830,640,001 (over 2 Billion PKR in tax)\")\n",
    "print(\"Percent of National Income:\", str(round(taxes_paid_2015_16[-1] / ni2015 * 100, 3)) + \"%\")"
   ]
  },
  {
   "cell_type": "markdown",
   "metadata": {},
   "source": [
    "Considering these numbers are orders of magnitude off (no single taxpayer is making 16% of national income for example) compared to most samples, I remove them from the sample and re-run the calculations for those years. I do this below."
   ]
  },
  {
   "cell_type": "code",
   "execution_count": 43,
   "metadata": {
    "collapsed": false
   },
   "outputs": [],
   "source": [
    "taxes_paid_2014_15 = taxes_paid_2014_15[:-3]\n",
    "\n",
    "taxable_incomes_salaried_2014_15 = [calculate_taxable_income(i, tax_levels_salaried_2014_15, 0.3) for i in taxes_paid_2014_15]\n",
    "taxable_incomes_nonsalaried_2014_15 = [calculate_taxable_income(i, tax_levels_nonsalaried_2014_15, 0.35) for i in taxes_paid_2014_15]\n",
    "\n",
    "num_filers_2014_15 = len(registration_numbers_2014_15)\n",
    "num_taxpayers_2014_15 = len(taxes_paid_2014_15)\n",
    "\n",
    "proportion_filers_2014_15 = num_filers_2014_15 / ((labor_force_total[\"2014\"][1] + labor_force_total[\"2015\"][1]) / 2)\n",
    "proportion_taxpayers_2014_15 = num_taxpayers_2014_15 / ((labor_force_total[\"2014\"][1] + labor_force_total[\"2015\"][1]) / 2)"
   ]
  },
  {
   "cell_type": "code",
   "execution_count": 44,
   "metadata": {
    "collapsed": false
   },
   "outputs": [],
   "source": [
    "taxes_paid_2015_16 = taxes_paid_2015_16[:-1]\n",
    "\n",
    "taxable_incomes_salaried_2015_16 = [calculate_taxable_income(i, tax_levels_salaried_2015_16, 0.3) for i in taxes_paid_2015_16]\n",
    "taxable_incomes_nonsalaried_2015_16 = [calculate_taxable_income(i, tax_levels_nonsalaried_2015_16, 0.35) for i in taxes_paid_2015_16]\n",
    "\n",
    "num_filers_2015_16 = len(registration_numbers_2015_16)\n",
    "num_taxpayers_2015_16 = len(taxes_paid_2015_16)\n",
    "\n",
    "proportion_filers_2015_16 = num_filers_2015_16 / ((labor_force_total[\"2015\"][1] + labor_force_total[\"2016\"][1]) / 2)\n",
    "proportion_taxpayers_2015_16 = num_taxpayers_2015_16 / ((labor_force_total[\"2015\"][1] + labor_force_total[\"2016\"][1]) / 2)"
   ]
  },
  {
   "cell_type": "markdown",
   "metadata": {},
   "source": [
    "## Parsing the Parlimentarian Tax Data"
   ]
  },
  {
   "cell_type": "markdown",
   "metadata": {
    "collapsed": true
   },
   "source": [
    "Interesting space for analysis that should be further explored! Once I found that their returns were included in the main return file, I stopped doing analysis (I was under time constraint). I will put what I know about how to parse these PDFs here."
   ]
  },
  {
   "cell_type": "markdown",
   "metadata": {},
   "source": [
    "1) Download Tabula (it will be easier than parsing all of the text files) from here: https://github.com/tabulapdf/tabula. Tabula allows you to convert PDFs with tables into Excel tables.\n",
    "\n",
    "2) Use Tabula to create excel files of the Parlimentarian Tax for each year. Put it in the taxpayerData folder (next to the PDFs and txt files.\n",
    "\n",
    "3) Load the tables as dataframes into cells below, run analysis and generate statistics and tables. Start by creating the visualizations and tables in these sections. Once you can construct those statistics across years (create a time series), then move that time series and write a description under the \"Understanding Parlimentarian Tax Data\" section."
   ]
  },
  {
   "cell_type": "code",
   "execution_count": 45,
   "metadata": {
    "collapsed": true
   },
   "outputs": [],
   "source": [
    "# code to load tables from the taxpayerData folder\n",
    "# parliamentarian_tax = pd.read_excel(\"./taxpayerData/2017_ParliamentarianTax.xlsx\")\n",
    "# parliamentarian_tax.head()"
   ]
  },
  {
   "cell_type": "markdown",
   "metadata": {
    "collapsed": true
   },
   "source": [
    "### 2012 -  2013"
   ]
  },
  {
   "cell_type": "code",
   "execution_count": null,
   "metadata": {
    "collapsed": true
   },
   "outputs": [],
   "source": []
  },
  {
   "cell_type": "markdown",
   "metadata": {
    "collapsed": true
   },
   "source": [
    "### 2013 -  2014"
   ]
  },
  {
   "cell_type": "code",
   "execution_count": null,
   "metadata": {
    "collapsed": true
   },
   "outputs": [],
   "source": []
  },
  {
   "cell_type": "markdown",
   "metadata": {
    "collapsed": true
   },
   "source": [
    "### 2014 -  2015"
   ]
  },
  {
   "cell_type": "code",
   "execution_count": null,
   "metadata": {
    "collapsed": true
   },
   "outputs": [],
   "source": []
  },
  {
   "cell_type": "markdown",
   "metadata": {
    "collapsed": true
   },
   "source": [
    "### 2015 -  2016"
   ]
  },
  {
   "cell_type": "code",
   "execution_count": null,
   "metadata": {
    "collapsed": true
   },
   "outputs": [],
   "source": []
  },
  {
   "cell_type": "markdown",
   "metadata": {
    "collapsed": true
   },
   "source": [
    "### 2016 -  2017"
   ]
  },
  {
   "cell_type": "code",
   "execution_count": null,
   "metadata": {
    "collapsed": true
   },
   "outputs": [],
   "source": []
  },
  {
   "cell_type": "markdown",
   "metadata": {},
   "source": [
    "## Understanding the Full Tax Data"
   ]
  },
  {
   "cell_type": "code",
   "execution_count": 46,
   "metadata": {
    "collapsed": true
   },
   "outputs": [],
   "source": [
    "import plotly.plotly as py\n",
    "import plotly.graph_objs as go"
   ]
  },
  {
   "cell_type": "markdown",
   "metadata": {},
   "source": [
    "**Helper Functions**"
   ]
  },
  {
   "cell_type": "code",
   "execution_count": 47,
   "metadata": {
    "collapsed": true
   },
   "outputs": [],
   "source": [
    "def format_number(value):\n",
    "    return \"{:,}\".format(value)\n",
    "\n",
    "def format_percent(value, sigfigs):\n",
    "    return str(round(value * 100, sigfigs)) + \"%\"\n",
    "\n",
    "def int_average(val1, val2):\n",
    "    return int((val1 + val2) / 2)"
   ]
  },
  {
   "cell_type": "markdown",
   "metadata": {},
   "source": [
    "**Relevant Tables**"
   ]
  },
  {
   "cell_type": "code",
   "execution_count": 48,
   "metadata": {
    "collapsed": false
   },
   "outputs": [],
   "source": [
    "pakistan_cpi = pd.read_excel(\"./miscData/pakistan_cpi.xls\")\n",
    "gdp = pd.read_excel(\"./miscData/pakistan_gdp.xlsx\")\n",
    "income_tax_comparison = pd.read_excel(\"./miscData/personal_income_tax_comparison.xlsx\")\n",
    "grd_pak_direct_tax = pd.read_excel(\"./miscData/grd_pak_taxes.xlsx\")\n",
    "india_gdp = pd.read_excel(\"./miscData/india_gdp.xlsx\")\n",
    "india_taxes = pd.read_excel(\"./miscData/india_taxes2.xls\")\n",
    "lfp = pd.read_excel(\"./miscData/lfp.xls\")\n",
    "lfp_female = pd.read_excel(\"./miscData/lfp_female.xls\")"
   ]
  },
  {
   "cell_type": "markdown",
   "metadata": {},
   "source": [
    "**GDP Deflator Calculations**"
   ]
  },
  {
   "cell_type": "code",
   "execution_count": 49,
   "metadata": {
    "collapsed": true
   },
   "outputs": [],
   "source": [
    "gdpd_2012 = np.mean([list(gdp[gdp[\"year\"] == 2012][\"gdp_index_2017\"])[0],\n",
    "          list(gdp[gdp[\"year\"] == 2013][\"gdp_index_2017\"])[0]])\n",
    "gdpd_2013 = np.mean([list(gdp[gdp[\"year\"] == 2013][\"gdp_index_2017\"])[0],\n",
    "         list(gdp[gdp[\"year\"] == 2014][\"gdp_index_2017\"])[0]])\n",
    "gdpd_2014 = np.mean([list(gdp[gdp[\"year\"] == 2014][\"gdp_index_2017\"])[0],\n",
    "         list(gdp[gdp[\"year\"] == 2015][\"gdp_index_2017\"])[0]])\n",
    "gdpd_2015 = np.mean([list(gdp[gdp[\"year\"] == 2015][\"gdp_index_2017\"])[0],\n",
    "          list(gdp[gdp[\"year\"] == 2016][\"gdp_index_2017\"])[0]])\n",
    "gdpd_2016 = np.mean([list(gdp[gdp[\"year\"] == 2016][\"gdp_index_2017\"])[0],\n",
    "          list(gdp[gdp[\"year\"] == 2017][\"gdp_index_2017\"])[0]])"
   ]
  },
  {
   "cell_type": "markdown",
   "metadata": {},
   "source": [
    "Let the graphs begin!"
   ]
  },
  {
   "cell_type": "markdown",
   "metadata": {},
   "source": [
    "### Tax Directory in Perspective"
   ]
  },
  {
   "cell_type": "markdown",
   "metadata": {},
   "source": [
    "#### Tax Returns (% of Labor Force)"
   ]
  },
  {
   "cell_type": "code",
   "execution_count": 50,
   "metadata": {
    "collapsed": false
   },
   "outputs": [
    {
     "data": {
      "text/html": [
       "<div>\n",
       "<table border=\"1\" class=\"dataframe\">\n",
       "  <thead>\n",
       "    <tr style=\"text-align: right;\">\n",
       "      <th></th>\n",
       "      <th>Tax Year</th>\n",
       "      <th>Labor Force</th>\n",
       "      <th>Proportion of Tax Filers (% of Labor Force)</th>\n",
       "      <th>Proportion of Tax Payers (% of Labor Force)</th>\n",
       "      <th>Proportion of Filers who pay tax (% of Filers)</th>\n",
       "    </tr>\n",
       "  </thead>\n",
       "  <tbody>\n",
       "    <tr>\n",
       "      <th>0</th>\n",
       "      <td>2012 - 2013</td>\n",
       "      <td>60,357,706</td>\n",
       "      <td>1.21%</td>\n",
       "      <td>0.7%</td>\n",
       "      <td>58.0%</td>\n",
       "    </tr>\n",
       "    <tr>\n",
       "      <th>1</th>\n",
       "      <td>2013 - 2014</td>\n",
       "      <td>62,025,233</td>\n",
       "      <td>1.26%</td>\n",
       "      <td>0.8%</td>\n",
       "      <td>63.3%</td>\n",
       "    </tr>\n",
       "    <tr>\n",
       "      <th>2</th>\n",
       "      <td>2014 - 2015</td>\n",
       "      <td>64,070,380</td>\n",
       "      <td>1.56%</td>\n",
       "      <td>1.08%</td>\n",
       "      <td>69.2%</td>\n",
       "    </tr>\n",
       "    <tr>\n",
       "      <th>3</th>\n",
       "      <td>2015 - 2016</td>\n",
       "      <td>66,149,979</td>\n",
       "      <td>1.72%</td>\n",
       "      <td>1.21%</td>\n",
       "      <td>70.7%</td>\n",
       "    </tr>\n",
       "    <tr>\n",
       "      <th>4</th>\n",
       "      <td>2016 - 2017</td>\n",
       "      <td>67,602,890</td>\n",
       "      <td>2.49%</td>\n",
       "      <td>1.61%</td>\n",
       "      <td>64.7%</td>\n",
       "    </tr>\n",
       "  </tbody>\n",
       "</table>\n",
       "</div>"
      ],
      "text/plain": [
       "      Tax Year Labor Force Proportion of Tax Filers (% of Labor Force)  \\\n",
       "0  2012 - 2013  60,357,706                                       1.21%   \n",
       "1  2013 - 2014  62,025,233                                       1.26%   \n",
       "2  2014 - 2015  64,070,380                                       1.56%   \n",
       "3  2015 - 2016  66,149,979                                       1.72%   \n",
       "4  2016 - 2017  67,602,890                                       2.49%   \n",
       "\n",
       "  Proportion of Tax Payers (% of Labor Force)  \\\n",
       "0                                        0.7%   \n",
       "1                                        0.8%   \n",
       "2                                       1.08%   \n",
       "3                                       1.21%   \n",
       "4                                       1.61%   \n",
       "\n",
       "  Proportion of Filers who pay tax (% of Filers)  \n",
       "0                                          58.0%  \n",
       "1                                          63.3%  \n",
       "2                                          69.2%  \n",
       "3                                          70.7%  \n",
       "4                                          64.7%  "
      ]
     },
     "execution_count": 50,
     "metadata": {},
     "output_type": "execute_result"
    }
   ],
   "source": [
    "lf2012 = format_number(int_average(labor_force_total[\"2012\"][1], labor_force_total[\"2013\"][1]))\n",
    "lf2013 = format_number(int_average(labor_force_total[\"2013\"][1], labor_force_total[\"2014\"][1]))\n",
    "lf2014 = format_number(int_average(labor_force_total[\"2014\"][1], labor_force_total[\"2015\"][1]))\n",
    "lf2015 = format_number(int_average(labor_force_total[\"2015\"][1], labor_force_total[\"2016\"][1]))\n",
    "lf2016 = format_number(int_average(labor_force_total[\"2016\"][1], labor_force_total[\"2017\"][1]))\n",
    "\n",
    "pf2012 = format_percent(proportion_filers_2012_13, 2)\n",
    "pf2013 = format_percent(proportion_filers_2013_14, 2)\n",
    "pf2014 = format_percent(proportion_filers_2014_15, 2)\n",
    "pf2015 = format_percent(proportion_filers_2015_16, 2)\n",
    "pf2016 = format_percent(proportion_filers_2016_17, 2)\n",
    "\n",
    "tx2012 = format_percent(proportion_taxpayers_2012_13, 2)\n",
    "tx2013 = format_percent(proportion_taxpayers_2013_14, 2)\n",
    "tx2014 = format_percent(proportion_taxpayers_2014_15, 2)\n",
    "tx2015 = format_percent(proportion_taxpayers_2015_16, 2)\n",
    "tx2016 = format_percent(proportion_taxpayers_2016_17, 2)\n",
    "\n",
    "pt2012 = format_percent(num_taxpayers_2012_13 / num_filers_2012_13, 1)\n",
    "pt2013 = format_percent(num_taxpayers_2013_14 / num_filers_2013_14, 1)\n",
    "pt2014 = format_percent(num_taxpayers_2014_15 / num_filers_2014_15, 1)\n",
    "pt2015 = format_percent(num_taxpayers_2015_16 / num_filers_2015_16, 1)\n",
    "pt2016 = format_percent(num_taxpayers_2016_17 / num_filers_2016_17, 1)\n",
    "\n",
    "d = {\n",
    "    'Tax Year': [\"2012 - 2013\", \"2013 - 2014\", \"2014 - 2015\", \"2015 - 2016\", \"2016 - 2017\"], \n",
    "    'Labor Force': [lf2012, lf2013, lf2014, lf2015, lf2016], \n",
    "    'Proportion of Tax Filers (% of Labor Force)': [pf2012, pf2013, pf2014, pf2015, pf2016], \n",
    "    'Proportion of Tax Payers (% of Labor Force)': [tx2012, tx2013, tx2014, tx2015, tx2016],\n",
    "    'Proportion of Filers who pay tax (% of Filers)': [pt2012, pt2013, pt2014, pt2015, pt2016]\n",
    "    }\n",
    "\n",
    "tax_returns_summary_statistics = pd.DataFrame(data=d)\n",
    "tax_returns_summary_statistics = tax_returns_summary_statistics[[\"Tax Year\", \"Labor Force\", \"Proportion of Tax Filers (% of Labor Force)\", \"Proportion of Tax Payers (% of Labor Force)\", \"Proportion of Filers who pay tax (% of Filers)\"]]\n",
    "tax_returns_summary_statistics"
   ]
  },
  {
   "cell_type": "markdown",
   "metadata": {},
   "source": [
    "Note that the tax year in Pakistan is from July 1st - June 30th of the next year. \n",
    "As a result, Labor Force is calculated as the average of the measured labor force between the two years.\n",
    "Proportion of Tax Filers is taken as the number of filers divided by the derived number for labor force above.\n",
    "Proportion of Tax Payers is calculated in a similar way.\n",
    "Proportion of Filers who pay tax is taken as the number of taxpayers over the number of filers."
   ]
  },
  {
   "cell_type": "markdown",
   "metadata": {},
   "source": [
    "Note that the government states that many of the manually filed returns could not be included in the tax directory. As a result, we may underestimate the number of filers and derived statistics on government tax revenue as a percent of national income or GDP."
   ]
  },
  {
   "cell_type": "markdown",
   "metadata": {},
   "source": [
    "The fact that this number (Proportion of Income Tax Payers) has more than doubled in the past 4 years is impressive. Yet, comparatively, the current figure is similar to the levels observed in France and in the USA in the mid 1910s, and much lower than the levels observed in the interwar period (about 10-15%) and in the decades following World War 2 (50% or more) in these two countries (Piketty, 2001; Piketty and Saez, 2003). It is similar to India in the mid-1990s (the country is nearer 7% today), and slightly below China (Chancel and Piketty, 2017; Piketty, Yang and Zucman, 2018; CIA World Factbook)."
   ]
  },
  {
   "cell_type": "markdown",
   "metadata": {},
   "source": [
    "Part of this explosive growth has been a result of government reforms aimed a increasing the ease of paying taxes and cracking down on tax evasion. This includes the elimination of tax exemptions, introducing self-assessment for taxable income and differential taxation that rewards compliance and penalizes noncompliance. It also includes integrating the National Tax Number (NTN) system with the Computerized National Identity Card (CNIC) database. The latter is much more comprehensive, and can help the government track down evaders (Pakistan Selected Issues Paper, IMF, 2016)."
   ]
  },
  {
   "cell_type": "markdown",
   "metadata": {},
   "source": [
    "Now let's explore a more realistic statistic that gives us a relative size of our taxpaying population. The exemption level for paying taxes is 350,000 PKR in the 2013 taxyear, and 400,000 PKR in the following tax years. This means that the population of eligible taxpayers is much smaller than the labor force. According to the survey data, it's around the top 10% (see the \"Combining Data\" notebook). \n",
    "\n",
    "Let's use those percentiles to estimate what proportion of eligible taxpayers actually pay their taxes. This will give is an idea of the size of our sample."
   ]
  },
  {
   "cell_type": "markdown",
   "metadata": {},
   "source": [
    "#### Tax Returns (% of Eligible Labor Force)"
   ]
  },
  {
   "cell_type": "code",
   "execution_count": 51,
   "metadata": {
    "collapsed": false
   },
   "outputs": [
    {
     "data": {
      "text/html": [
       "<div>\n",
       "<table border=\"1\" class=\"dataframe\">\n",
       "  <thead>\n",
       "    <tr style=\"text-align: right;\">\n",
       "      <th></th>\n",
       "      <th>Tax Year</th>\n",
       "      <th>Population of Potential Taxpayers</th>\n",
       "      <th>Proportion of Tax Payers (% of Eligible Labor Force)</th>\n",
       "    </tr>\n",
       "  </thead>\n",
       "  <tbody>\n",
       "    <tr>\n",
       "      <th>0</th>\n",
       "      <td>2012 - 2013</td>\n",
       "      <td>6,029,151</td>\n",
       "      <td>7.01%</td>\n",
       "    </tr>\n",
       "    <tr>\n",
       "      <th>1</th>\n",
       "      <td>2013 - 2014</td>\n",
       "      <td>3,788,656</td>\n",
       "      <td>13.05%</td>\n",
       "    </tr>\n",
       "    <tr>\n",
       "      <th>2</th>\n",
       "      <td>2014 - 2015</td>\n",
       "      <td>5,097,884</td>\n",
       "      <td>13.58%</td>\n",
       "    </tr>\n",
       "    <tr>\n",
       "      <th>3</th>\n",
       "      <td>2015 - 2016</td>\n",
       "      <td>7,800,316</td>\n",
       "      <td>10.3%</td>\n",
       "    </tr>\n",
       "    <tr>\n",
       "      <th>4</th>\n",
       "      <td>2016 - 2017</td>\n",
       "      <td>8,788,375</td>\n",
       "      <td>12.37%</td>\n",
       "    </tr>\n",
       "  </tbody>\n",
       "</table>\n",
       "</div>"
      ],
      "text/plain": [
       "      Tax Year Population of Potential Taxpayers  \\\n",
       "0  2012 - 2013                         6,029,151   \n",
       "1  2013 - 2014                         3,788,656   \n",
       "2  2014 - 2015                         5,097,884   \n",
       "3  2015 - 2016                         7,800,316   \n",
       "4  2016 - 2017                         8,788,375   \n",
       "\n",
       "  Proportion of Tax Payers (% of Eligible Labor Force)  \n",
       "0                                              7.01%    \n",
       "1                                             13.05%    \n",
       "2                                             13.58%    \n",
       "3                                              10.3%    \n",
       "4                                             12.37%    "
      ]
     },
     "execution_count": 51,
     "metadata": {},
     "output_type": "execute_result"
    }
   ],
   "source": [
    "lf2012_t10 = int(int_average(labor_force_total[\"2012\"][1], labor_force_total[\"2013\"][1])*(1 - 0.900109657512))\n",
    "lf2013_t10 = int(int_average(labor_force_total[\"2013\"][1], labor_force_total[\"2014\"][1])*(1 - 0.938917499403))\n",
    "lf2014_t10 = int(int_average(labor_force_total[\"2014\"][1], labor_force_total[\"2015\"][1])*(1 - 0.920433052892))\n",
    "lf2015_t10 = int(int_average(labor_force_total[\"2015\"][1], labor_force_total[\"2016\"][1])*(1 - 0.882081344677))\n",
    "lf2016_t10 = int(int_average(labor_force_total[\"2016\"][1], labor_force_total[\"2017\"][1])*(1 - 0.87)) # estimate\n",
    "\n",
    "\n",
    "tx2012_t10 = format_percent(len(taxes_paid_2012_13) / lf2012_t10, 2)\n",
    "tx2013_t10 = format_percent(len(taxes_paid_2013_14) / lf2013_t10, 2)\n",
    "tx2014_t10 = format_percent(len(taxes_paid_2014_15) / lf2014_t10, 2)\n",
    "tx2015_t10 = format_percent(len(taxes_paid_2015_16) / lf2015_t10, 2)\n",
    "tx2016_t10 = format_percent(len(taxes_paid_2016_17) / lf2016_t10, 2)\n",
    "\n",
    "d = {\n",
    "    'Tax Year': [\"2012 - 2013\", \"2013 - 2014\", \"2014 - 2015\", \"2015 - 2016\", \"2016 - 2017\"], \n",
    "    'Population of Potential Taxpayers': [format_number(lf2012_t10), format_number(lf2013_t10), format_number(lf2014_t10), format_number(lf2015_t10), format_number(lf2016_t10)], \n",
    "    'Proportion of Tax Payers (% of Eligible Labor Force)': [tx2012_t10, tx2013_t10, tx2014_t10, tx2015_t10, tx2016_t10],\n",
    "    }\n",
    "\n",
    "tax_returns_summary_statistics_eligible = pd.DataFrame(data=d)\n",
    "tax_returns_summary_statistics_eligible = tax_returns_summary_statistics_eligible[[\"Tax Year\", \"Population of Potential Taxpayers\", \"Proportion of Tax Payers (% of Eligible Labor Force)\"]]\n",
    "tax_returns_summary_statistics_eligible"
   ]
  },
  {
   "cell_type": "markdown",
   "metadata": {},
   "source": [
    "This is a strikingly large number, and lends support to the veracity of our results. Although there are not many reports on the labor force population for recent years, if we look at past ministry of finance reports the population of unemployed out of the labor force is shockingly low (regularly less than 10% of the labor force), meaning that this percentage is relatively accurate (see miscData/labor_force_pakistan_brochure_finance_ministry.pdf)."
   ]
  },
  {
   "cell_type": "markdown",
   "metadata": {},
   "source": [
    "### Comparing Personal Income Tax Revenue Across Countries"
   ]
  },
  {
   "cell_type": "markdown",
   "metadata": {
    "collapsed": true
   },
   "source": [
    "#### Personal Income Tax Revenue (% of GDP)"
   ]
  },
  {
   "cell_type": "code",
   "execution_count": 52,
   "metadata": {
    "collapsed": false
   },
   "outputs": [
    {
     "data": {
      "text/html": [
       "<iframe id=\"igraph\" scrolling=\"no\" style=\"border:none;\" seamless=\"seamless\" src=\"https://plot.ly/~ali-wetrill/8.embed\" height=\"525px\" width=\"100%\"></iframe>"
      ],
      "text/plain": [
       "<plotly.tools.PlotlyDisplay object>"
      ]
     },
     "execution_count": 52,
     "metadata": {},
     "output_type": "execute_result"
    }
   ],
   "source": [
    "x = np.arange(2013, 2018, 1)\n",
    "\n",
    "gdp_2012_13 = int_average(list(gdp[gdp[\"year\"] == 2012][\"gdp\"])[0], list(gdp[gdp[\"year\"] == 2013][\"gdp\"])[0])\n",
    "gdp_2013_14 = int_average(list(gdp[gdp[\"year\"] == 2013][\"gdp\"])[0], list(gdp[gdp[\"year\"] == 2014][\"gdp\"])[0])\n",
    "gdp_2014_15 = int_average(list(gdp[gdp[\"year\"] == 2014][\"gdp\"])[0], list(gdp[gdp[\"year\"] == 2015][\"gdp\"])[0])\n",
    "gdp_2015_16 = int_average(list(gdp[gdp[\"year\"] == 2015][\"gdp\"])[0], list(gdp[gdp[\"year\"] == 2016][\"gdp\"])[0])\n",
    "gdp_2016_17 = int_average(list(gdp[gdp[\"year\"] == 2016][\"gdp\"])[0], list(gdp[gdp[\"year\"] == 2017][\"gdp\"])[0])\n",
    "\n",
    "pak_tr_gdp_2012 = sum(taxes_paid_2012_13) / gdpd_2012 / gdp_2012_13\n",
    "pak_tr_gdp_2013 = sum(taxes_paid_2013_14) / gdpd_2013 / gdp_2013_14\n",
    "pak_tr_gdp_2014 = sum(taxes_paid_2014_15) / gdpd_2014 / gdp_2014_15\n",
    "pak_tr_gdp_2015 = sum(taxes_paid_2015_16) / gdpd_2015 / gdp_2015_16\n",
    "pak_tr_gdp_2016 = sum(taxes_paid_2016_17) / gdpd_2016 / gdp_2016_17\n",
    "\n",
    "fra_tr_gdp_2012 = np.mean([list(income_tax_comparison[np.logical_and(income_tax_comparison[\"loc\"] == \"FRA\", income_tax_comparison[\"time\"] == 2012)][\"val\"])[0],\n",
    "                          list(income_tax_comparison[np.logical_and(income_tax_comparison[\"loc\"] == \"FRA\", income_tax_comparison[\"time\"] == 2013)][\"val\"])[0]])\n",
    "fra_tr_gdp_2013 = np.mean([list(income_tax_comparison[np.logical_and(income_tax_comparison[\"loc\"] == \"FRA\", income_tax_comparison[\"time\"] == 2013)][\"val\"])[0],\n",
    "                          list(income_tax_comparison[np.logical_and(income_tax_comparison[\"loc\"] == \"FRA\", income_tax_comparison[\"time\"] == 2014)][\"val\"])[0]])\n",
    "fra_tr_gdp_2014 = np.mean([list(income_tax_comparison[np.logical_and(income_tax_comparison[\"loc\"] == \"FRA\", income_tax_comparison[\"time\"] == 2014)][\"val\"])[0],\n",
    "                          list(income_tax_comparison[np.logical_and(income_tax_comparison[\"loc\"] == \"FRA\", income_tax_comparison[\"time\"] == 2015)][\"val\"])[0]])\n",
    "fra_tr_gdp_2015 = np.mean([list(income_tax_comparison[np.logical_and(income_tax_comparison[\"loc\"] == \"FRA\", income_tax_comparison[\"time\"] == 2015)][\"val\"])[0],\n",
    "                          list(income_tax_comparison[np.logical_and(income_tax_comparison[\"loc\"] == \"FRA\", income_tax_comparison[\"time\"] == 2016)][\"val\"])[0]])\n",
    "fra_tr_gdp_2016 = np.mean([list(income_tax_comparison[np.logical_and(income_tax_comparison[\"loc\"] == \"FRA\", income_tax_comparison[\"time\"] == 2016)][\"val\"])[0],\n",
    "                          list(income_tax_comparison[np.logical_and(income_tax_comparison[\"loc\"] == \"FRA\", income_tax_comparison[\"time\"] == 2017)][\"val\"])[0]])\n",
    "\n",
    "usa_tr_gdp_2012 = np.mean([list(income_tax_comparison[np.logical_and(income_tax_comparison[\"loc\"] == \"USA\", income_tax_comparison[\"time\"] == 2012)][\"val\"])[0],\n",
    "                          list(income_tax_comparison[np.logical_and(income_tax_comparison[\"loc\"] == \"USA\", income_tax_comparison[\"time\"] == 2013)][\"val\"])[0]])\n",
    "usa_tr_gdp_2013 = np.mean([list(income_tax_comparison[np.logical_and(income_tax_comparison[\"loc\"] == \"USA\", income_tax_comparison[\"time\"] == 2013)][\"val\"])[0],\n",
    "                          list(income_tax_comparison[np.logical_and(income_tax_comparison[\"loc\"] == \"USA\", income_tax_comparison[\"time\"] == 2014)][\"val\"])[0]])\n",
    "usa_tr_gdp_2014 = np.mean([list(income_tax_comparison[np.logical_and(income_tax_comparison[\"loc\"] == \"USA\", income_tax_comparison[\"time\"] == 2014)][\"val\"])[0],\n",
    "                          list(income_tax_comparison[np.logical_and(income_tax_comparison[\"loc\"] == \"USA\", income_tax_comparison[\"time\"] == 2015)][\"val\"])[0]])\n",
    "usa_tr_gdp_2015 = np.mean([list(income_tax_comparison[np.logical_and(income_tax_comparison[\"loc\"] == \"USA\", income_tax_comparison[\"time\"] == 2015)][\"val\"])[0],\n",
    "                          list(income_tax_comparison[np.logical_and(income_tax_comparison[\"loc\"] == \"USA\", income_tax_comparison[\"time\"] == 2016)][\"val\"])[0]])\n",
    "usa_tr_gdp_2016 = np.mean([list(income_tax_comparison[np.logical_and(income_tax_comparison[\"loc\"] == \"USA\", income_tax_comparison[\"time\"] == 2016)][\"val\"])[0],\n",
    "                          list(income_tax_comparison[np.logical_and(income_tax_comparison[\"loc\"] == \"USA\", income_tax_comparison[\"time\"] == 2017)][\"val\"])[0]])\n",
    "\n",
    "turk_tr_gdp_2012 = np.mean([list(income_tax_comparison[np.logical_and(income_tax_comparison[\"loc\"] == \"TUR\", income_tax_comparison[\"time\"] == 2012)][\"val\"])[0],\n",
    "                          list(income_tax_comparison[np.logical_and(income_tax_comparison[\"loc\"] == \"TUR\", income_tax_comparison[\"time\"] == 2013)][\"val\"])[0]])\n",
    "turk_tr_gdp_2013 = np.mean([list(income_tax_comparison[np.logical_and(income_tax_comparison[\"loc\"] == \"TUR\", income_tax_comparison[\"time\"] == 2013)][\"val\"])[0],\n",
    "                          list(income_tax_comparison[np.logical_and(income_tax_comparison[\"loc\"] == \"TUR\", income_tax_comparison[\"time\"] == 2014)][\"val\"])[0]])\n",
    "turk_tr_gdp_2014 = np.mean([list(income_tax_comparison[np.logical_and(income_tax_comparison[\"loc\"] == \"TUR\", income_tax_comparison[\"time\"] == 2014)][\"val\"])[0],\n",
    "                          list(income_tax_comparison[np.logical_and(income_tax_comparison[\"loc\"] == \"TUR\", income_tax_comparison[\"time\"] == 2015)][\"val\"])[0]])\n",
    "turk_tr_gdp_2015 = np.mean([list(income_tax_comparison[np.logical_and(income_tax_comparison[\"loc\"] == \"TUR\", income_tax_comparison[\"time\"] == 2015)][\"val\"])[0],\n",
    "                          list(income_tax_comparison[np.logical_and(income_tax_comparison[\"loc\"] == \"TUR\", income_tax_comparison[\"time\"] == 2016)][\"val\"])[0]])\n",
    "turk_tr_gdp_2016 = np.mean([list(income_tax_comparison[np.logical_and(income_tax_comparison[\"loc\"] == \"TUR\", income_tax_comparison[\"time\"] == 2016)][\"val\"])[0],\n",
    "                          list(income_tax_comparison[np.logical_and(income_tax_comparison[\"loc\"] == \"TUR\", income_tax_comparison[\"time\"] == 2017)][\"val\"])[0]])\n",
    "\n",
    "india_gdp_2012 = np.mean([list(india_gdp[india_gdp[\"year\"] == 2012][\"gdp_local\"])[0],\n",
    "                          list(india_gdp[india_gdp[\"year\"] == 2013][\"gdp_local\"])[0]])\n",
    "india_gdp_2013 = np.mean([list(india_gdp[india_gdp[\"year\"] == 2013][\"gdp_local\"])[0],\n",
    "                          list(india_gdp[india_gdp[\"year\"] == 2014][\"gdp_local\"])[0]])\n",
    "india_gdp_2014 = np.mean([list(india_gdp[india_gdp[\"year\"] == 2014][\"gdp_local\"])[0],\n",
    "                          list(india_gdp[india_gdp[\"year\"] == 2015][\"gdp_local\"])[0]])\n",
    "india_gdp_2015 = np.mean([list(india_gdp[india_gdp[\"year\"] == 2015][\"gdp_local\"])[0],\n",
    "                          list(india_gdp[india_gdp[\"year\"] == 2016][\"gdp_local\"])[0]])\n",
    "india_gdp_2016 = np.mean([list(india_gdp[india_gdp[\"year\"] == 2016][\"gdp_local\"])[0],\n",
    "                          list(india_gdp[india_gdp[\"year\"] == 2017][\"gdp_local\"])[0]])\n",
    "\n",
    "india_tr_gdp_2012 = (list(india_taxes[india_taxes[\"year\"] == \"2012-13\"][\"income_revenue\"])[0] * 10000000) / india_gdp_2012\n",
    "india_tr_gdp_2013 = (list(india_taxes[india_taxes[\"year\"] == \"2013-14\"][\"income_revenue\"])[0] * 10000000) / india_gdp_2013\n",
    "india_tr_gdp_2014 = (list(india_taxes[india_taxes[\"year\"] == \"2014-15(P)\"][\"income_revenue\"])[0] * 10000000) / india_gdp_2014\n",
    "india_tr_gdp_2015 = (288717 * 10000000) / india_gdp_2015 # Numbers are from Ministry of Finance Press Release in miscData\n",
    "india_tr_gdp_2016 = (346789 * 10000000) / india_gdp_2016 # Numbers are from Ministry of Finance Press Release in miscData\n",
    "\n",
    "pak_gdp_trace = go.Scatter(\n",
    "    x=x,\n",
    "    y=np.round(np.array([pak_tr_gdp_2012, pak_tr_gdp_2013, pak_tr_gdp_2014, pak_tr_gdp_2015, pak_tr_gdp_2016]) * 100, 2),\n",
    "    name=\"Pakistan\",\n",
    "    line = dict(color = ('rgb(0,100,80)'))\n",
    ")\n",
    "\n",
    "fra_gdp_trace = go.Scatter(\n",
    "    x=x,\n",
    "    y=np.round(np.array([fra_tr_gdp_2012, fra_tr_gdp_2013, fra_tr_gdp_2014, fra_tr_gdp_2015, fra_tr_gdp_2016]) * 100, 2),\n",
    "    name=\"France\"\n",
    ")\n",
    "\n",
    "usa_gdp_trace = go.Scatter(\n",
    "    x=x,\n",
    "    y=np.round(np.array([usa_tr_gdp_2012, usa_tr_gdp_2013, usa_tr_gdp_2014, usa_tr_gdp_2015, usa_tr_gdp_2016]) * 100, 2),\n",
    "    name=\"USA\"\n",
    ")\n",
    "\n",
    "turk_gdp_trace = go.Scatter(\n",
    "    x=x,\n",
    "    y=np.round(np.array([turk_tr_gdp_2012, turk_tr_gdp_2013, turk_tr_gdp_2014, turk_tr_gdp_2015, turk_tr_gdp_2016]) * 100, 2),\n",
    "    name=\"Turkey\"\n",
    ")\n",
    "\n",
    "india_gdp_trace = go.Scatter(\n",
    "    x=x,\n",
    "    y=np.round(np.array([india_tr_gdp_2012, india_tr_gdp_2013, india_tr_gdp_2014, india_tr_gdp_2015, india_tr_gdp_2016]) * 100, 2),\n",
    "    name=\"India\",\n",
    "    line = dict(color = ('rgb(255, 127, 14)'))\n",
    ")\n",
    "\n",
    "data = [usa_gdp_trace, india_gdp_trace, pak_gdp_trace, turk_gdp_trace, fra_gdp_trace]\n",
    "\n",
    "layout = dict(title = 'Personal Income Tax Revenue (% of GDP)',\n",
    "              xaxis = dict(\n",
    "                            title = 'Tax Year End (July 1st - June 30th)',\n",
    "                            tickmode = 'linear',\n",
    "                            tick0 = 2012,\n",
    "                            dtick = 1\n",
    "                        ),\n",
    "              yaxis = dict(title = 'Percent of GDP')\n",
    "        )\n",
    "fig = go.Figure(data=data, layout=layout)\n",
    "comparative_personal_income_tax_revenue_graph = py.iplot(fig, filename='styled-line')\n",
    "comparative_personal_income_tax_revenue_graph"
   ]
  },
  {
   "cell_type": "markdown",
   "metadata": {},
   "source": [
    "With revenues from income tax equivalent to approximately 1% of GDP, Pakistan receives around the same revenue as China (1%), but less than other emerging countries such as India (2%), Brazil and Russia (4%), and South Africa and the OECD countries (9%) (Chancel and Piketty, 2017; OECD, 2017; World Bank Databank). Still, the rate of increase is impressive, espicially just comparing to neighboring India, which has similar institutional history regarding tax collection economy."
   ]
  },
  {
   "cell_type": "markdown",
   "metadata": {
    "collapsed": true
   },
   "source": [
    "#### Personal Income Tax Revenue, Pakistan and India"
   ]
  },
  {
   "cell_type": "code",
   "execution_count": 53,
   "metadata": {
    "collapsed": false
   },
   "outputs": [
    {
     "data": {
      "text/html": [
       "<iframe id=\"igraph\" scrolling=\"no\" style=\"border:none;\" seamless=\"seamless\" src=\"https://plot.ly/~ali-wetrill/8.embed\" height=\"525px\" width=\"100%\"></iframe>"
      ],
      "text/plain": [
       "<plotly.tools.PlotlyDisplay object>"
      ]
     },
     "execution_count": 53,
     "metadata": {},
     "output_type": "execute_result"
    }
   ],
   "source": [
    "data = [pak_gdp_trace, india_gdp_trace]\n",
    "\n",
    "layout = dict(title = 'Personal Income Tax revenue (% of GDP)',\n",
    "              xaxis = dict(\n",
    "                            title = 'Tax Year End (July 1st - June 30th)',\n",
    "                            tickmode = 'linear',\n",
    "                            tick0 = 2012,\n",
    "                            dtick = 1\n",
    "                        ),\n",
    "              yaxis = dict(title = 'Percent of GDP')\n",
    "        )\n",
    "fig = go.Figure(data=data, layout=layout)\n",
    "india_pak_personal_income_tax_revenue_graph = py.iplot(fig, filename='styled-line')\n",
    "india_pak_personal_income_tax_revenue_graph"
   ]
  },
  {
   "cell_type": "markdown",
   "metadata": {},
   "source": [
    "#### Personal Income Tax Revenue Growth, Pakistan and India"
   ]
  },
  {
   "cell_type": "code",
   "execution_count": 54,
   "metadata": {
    "collapsed": false
   },
   "outputs": [
    {
     "data": {
      "text/html": [
       "<iframe id=\"igraph\" scrolling=\"no\" style=\"border:none;\" seamless=\"seamless\" src=\"https://plot.ly/~ali-wetrill/8.embed\" height=\"525px\" width=\"100%\"></iframe>"
      ],
      "text/plain": [
       "<plotly.tools.PlotlyDisplay object>"
      ]
     },
     "execution_count": 54,
     "metadata": {},
     "output_type": "execute_result"
    }
   ],
   "source": [
    "x = np.arange(2014, 2018, 1)\n",
    "\n",
    "pak_gr_2014 = (pak_tr_gdp_2013 - pak_tr_gdp_2012) / pak_tr_gdp_2012\n",
    "pak_gr_2015 = (pak_tr_gdp_2014 - pak_tr_gdp_2013) / pak_tr_gdp_2013\n",
    "pak_gr_2016 = (pak_tr_gdp_2015 - pak_tr_gdp_2014) / pak_tr_gdp_2014\n",
    "pak_gr_2017 = (pak_tr_gdp_2016 - pak_tr_gdp_2015) / pak_tr_gdp_2015\n",
    "\n",
    "india_gr_2014 = (india_tr_gdp_2013 - india_tr_gdp_2012) / india_tr_gdp_2012\n",
    "india_gr_2015 = (india_tr_gdp_2014 - india_tr_gdp_2013) / india_tr_gdp_2013\n",
    "india_gr_2016 = (india_tr_gdp_2015 - india_tr_gdp_2014) / india_tr_gdp_2014\n",
    "india_gr_2017 = (india_tr_gdp_2016 - india_tr_gdp_2015) / india_tr_gdp_2015\n",
    "\n",
    "pak_gdp_trace = go.Scatter(\n",
    "    x=x,\n",
    "    y=np.round(np.array([pak_gr_2014, pak_gr_2015, pak_gr_2016, pak_gr_2017]) * 100, 2),\n",
    "    name=\"Pakistan\",\n",
    "    line = dict(color = ('rgb(0,100,80)'))\n",
    ")\n",
    "\n",
    "india_gdp_trace = go.Scatter(\n",
    "    x=x,\n",
    "    y=np.round(np.array([india_gr_2014, india_gr_2015, india_gr_2016, india_gr_2017]) * 100, 2),\n",
    "    name=\"India\",\n",
    "    line = dict(color = ('rgb(255, 127, 14)'))\n",
    ")\n",
    "\n",
    "data = [pak_gdp_trace, india_gdp_trace]\n",
    "\n",
    "layout = dict(title = 'Personal Income Tax Revenue Growth',\n",
    "              xaxis = dict(\n",
    "                            title = 'Tax Year End (July 1st - June 30th)',\n",
    "                            tickmode = 'linear',\n",
    "                            tick0 = 2012,\n",
    "                            dtick = 1\n",
    "                        ),\n",
    "              yaxis = dict(title = 'Real income tax revenue growth (%)')\n",
    "        )\n",
    "fig = go.Figure(data=data, layout=layout)\n",
    "india_pak_personal_income_tax_growth_graph = py.iplot(fig, filename='styled-line')\n",
    "india_pak_personal_income_tax_growth_graph"
   ]
  },
  {
   "cell_type": "markdown",
   "metadata": {},
   "source": [
    "### Assessing Income Calculations"
   ]
  },
  {
   "cell_type": "markdown",
   "metadata": {},
   "source": [
    "So ultimately, we are trying to back-calculate income earned by all individuals who are above the exemption limit for taxes. Obviously, because such a small percent of the labor force pays taxes, we are only getting a biased sample. We do not know if the bias is towards the richer or poorer end of the population."
   ]
  },
  {
   "cell_type": "markdown",
   "metadata": {},
   "source": [
    "Given this sample however, we can make reasonable estimates for taxable income (after deductions), and then total income. From the amount paid, we have calculated taxable income assuming everyone is a salaried worker (and all of their income comes from salary and not capital gains, which is subject to another tax), or a non-salaried worker. We then can further assume a deduction level. \n",
    "\n",
    "Let's compare these numbers to national income to see if we have a reasonable estimate for the actual total income of the sample. We will make assumptions about how this income is distributed compared to the total population of potential taxpayers later."
   ]
  },
  {
   "cell_type": "markdown",
   "metadata": {},
   "source": [
    "#### Comparing Taxes and Real Income Calculations (% of National Income)"
   ]
  },
  {
   "cell_type": "code",
   "execution_count": 55,
   "metadata": {
    "collapsed": false
   },
   "outputs": [
    {
     "data": {
      "text/html": [
       "<div>\n",
       "<table border=\"1\" class=\"dataframe\">\n",
       "  <thead>\n",
       "    <tr style=\"text-align: right;\">\n",
       "      <th></th>\n",
       "      <th>Tax Year</th>\n",
       "      <th>National Income (PKR, Constant 2017)</th>\n",
       "      <th>Taxes Collected for Individuals (% of National Income)*</th>\n",
       "      <th>Non-salaried workers' Real Taxable Income (% of National Income)</th>\n",
       "      <th>Non-salaried workers' estimated Real Income (Taxable Income with 5% Deduction, % of National Income)</th>\n",
       "      <th>Salaried Workers Real Taxable Income (% of National Income)</th>\n",
       "      <th>Salaried Workers estimated Real Income (Taxable Income with 5% Deduction, % of National Income)</th>\n",
       "    </tr>\n",
       "  </thead>\n",
       "  <tbody>\n",
       "    <tr>\n",
       "      <th>0</th>\n",
       "      <td>2012 - 2013</td>\n",
       "      <td>23,699,811,991,552</td>\n",
       "      <td>0.5%</td>\n",
       "      <td>3.1%</td>\n",
       "      <td>3.3%</td>\n",
       "      <td>4.1%</td>\n",
       "      <td>4.3%</td>\n",
       "    </tr>\n",
       "    <tr>\n",
       "      <th>1</th>\n",
       "      <td>2013 - 2014</td>\n",
       "      <td>24,764,663,988,224</td>\n",
       "      <td>0.5%</td>\n",
       "      <td>3.3%</td>\n",
       "      <td>3.5%</td>\n",
       "      <td>3.9%</td>\n",
       "      <td>4.1%</td>\n",
       "    </tr>\n",
       "    <tr>\n",
       "      <th>2</th>\n",
       "      <td>2014 - 2015</td>\n",
       "      <td>25,953,806,843,904</td>\n",
       "      <td>0.8%</td>\n",
       "      <td>4.5%</td>\n",
       "      <td>4.7%</td>\n",
       "      <td>5.3%</td>\n",
       "      <td>5.5%</td>\n",
       "    </tr>\n",
       "    <tr>\n",
       "      <th>3</th>\n",
       "      <td>2015 - 2016</td>\n",
       "      <td>27,178,023,518,208</td>\n",
       "      <td>0.8%</td>\n",
       "      <td>4.9%</td>\n",
       "      <td>5.2%</td>\n",
       "      <td>5.8%</td>\n",
       "      <td>6.1%</td>\n",
       "    </tr>\n",
       "    <tr>\n",
       "      <th>4</th>\n",
       "      <td>2016 - 2017</td>\n",
       "      <td>28,476,922,920,960</td>\n",
       "      <td>1.0%</td>\n",
       "      <td>5.8%</td>\n",
       "      <td>6.1%</td>\n",
       "      <td>6.9%</td>\n",
       "      <td>7.2%</td>\n",
       "    </tr>\n",
       "  </tbody>\n",
       "</table>\n",
       "</div>"
      ],
      "text/plain": [
       "      Tax Year National Income (PKR, Constant 2017)  \\\n",
       "0  2012 - 2013                   23,699,811,991,552   \n",
       "1  2013 - 2014                   24,764,663,988,224   \n",
       "2  2014 - 2015                   25,953,806,843,904   \n",
       "3  2015 - 2016                   27,178,023,518,208   \n",
       "4  2016 - 2017                   28,476,922,920,960   \n",
       "\n",
       "  Taxes Collected for Individuals (% of National Income)*  \\\n",
       "0                                               0.5%        \n",
       "1                                               0.5%        \n",
       "2                                               0.8%        \n",
       "3                                               0.8%        \n",
       "4                                               1.0%        \n",
       "\n",
       "  Non-salaried workers' Real Taxable Income (% of National Income)  \\\n",
       "0                                               3.1%                 \n",
       "1                                               3.3%                 \n",
       "2                                               4.5%                 \n",
       "3                                               4.9%                 \n",
       "4                                               5.8%                 \n",
       "\n",
       "  Non-salaried workers' estimated Real Income (Taxable Income with 5% Deduction, % of National Income)  \\\n",
       "0                                               3.3%                                                     \n",
       "1                                               3.5%                                                     \n",
       "2                                               4.7%                                                     \n",
       "3                                               5.2%                                                     \n",
       "4                                               6.1%                                                     \n",
       "\n",
       "  Salaried Workers Real Taxable Income (% of National Income)  \\\n",
       "0                                               4.1%            \n",
       "1                                               3.9%            \n",
       "2                                               5.3%            \n",
       "3                                               5.8%            \n",
       "4                                               6.9%            \n",
       "\n",
       "  Salaried Workers estimated Real Income (Taxable Income with 5% Deduction, % of National Income)  \n",
       "0                                               4.3%                                               \n",
       "1                                               4.1%                                               \n",
       "2                                               5.5%                                               \n",
       "3                                               6.1%                                               \n",
       "4                                               7.2%                                               "
      ]
     },
     "execution_count": 55,
     "metadata": {},
     "output_type": "execute_result"
    }
   ],
   "source": [
    "s_deduction_rate = 0.05\n",
    "ns_deduction_rate = 0.05\n",
    "\n",
    "ni2012 = np.mean([list(national_income[national_income[\"Year\"] == 2012][\"National Income\"])[0],\n",
    "          list(national_income[national_income[\"Year\"] == 2013][\"National Income\"])[0]])\n",
    "ni2013 = np.mean([list(national_income[national_income[\"Year\"] == 2013][\"National Income\"])[0],\n",
    "          list(national_income[national_income[\"Year\"] == 2014][\"National Income\"])[0]])\n",
    "ni2014 = np.mean([list(national_income[national_income[\"Year\"] == 2014][\"National Income\"])[0],\n",
    "          list(national_income[national_income[\"Year\"] == 2015][\"National Income\"])[0]])\n",
    "ni2015 = np.mean([list(national_income[national_income[\"Year\"] == 2015][\"National Income\"])[0],\n",
    "          list(national_income[national_income[\"Year\"] == 2016][\"National Income\"])[0]])\n",
    "ni2016 = np.mean([list(national_income[national_income[\"Year\"] == 2016][\"National Income\"])[0],\n",
    "          list(national_income[national_income[\"Year\"] == 2017][\"National Income\"])[0]])\n",
    "\n",
    "pnis2012 = sum(taxable_incomes_salaried_2012_13) / gdpd_2012 / ni2012\n",
    "pnis2013 = sum(taxable_incomes_salaried_2013_14) / gdpd_2013 / ni2013\n",
    "pnis2014 = sum(taxable_incomes_salaried_2014_15) / gdpd_2014 / ni2014\n",
    "pnis2015 = sum(taxable_incomes_salaried_2015_16) / gdpd_2015 / ni2015\n",
    "pnis2016 = sum(taxable_incomes_salaried_2016_17) / gdpd_2016 / ni2016\n",
    "\n",
    "r_pnis2012 = sum(taxable_incomes_salaried_2012_13) / gdpd_2012 / (1 - s_deduction_rate) / ni2012\n",
    "r_pnis2013 = sum(taxable_incomes_salaried_2013_14) / gdpd_2013 / (1 - s_deduction_rate) / ni2013\n",
    "r_pnis2014 = sum(taxable_incomes_salaried_2014_15) / gdpd_2014 / (1 - s_deduction_rate) / ni2014\n",
    "r_pnis2015 = sum(taxable_incomes_salaried_2015_16) / gdpd_2015 / (1 - s_deduction_rate) / ni2015\n",
    "r_pnis2016 = sum(taxable_incomes_salaried_2016_17) / gdpd_2016 / (1 - s_deduction_rate) / ni2016\n",
    "\n",
    "pnins2012 = sum(taxable_incomes_nonsalaried_2012_13) / gdpd_2012 / ni2012\n",
    "pnins2013 = sum(taxable_incomes_nonsalaried_2013_14) / gdpd_2013 / ni2013\n",
    "pnins2014 = sum(taxable_incomes_nonsalaried_2014_15) / gdpd_2014 / ni2014\n",
    "pnins2015 = sum(taxable_incomes_nonsalaried_2015_16) / gdpd_2015 / ni2015\n",
    "pnins2016 = sum(taxable_incomes_nonsalaried_2016_17) / gdpd_2016 / ni2016\n",
    "\n",
    "r_pnins2012 = sum(taxable_incomes_nonsalaried_2012_13) / gdpd_2012 / (1 - ns_deduction_rate) / ni2012\n",
    "r_pnins2013 = sum(taxable_incomes_nonsalaried_2013_14) / gdpd_2013 / (1 - ns_deduction_rate) / ni2013\n",
    "r_pnins2014 = sum(taxable_incomes_nonsalaried_2014_15) / gdpd_2014 / (1 - ns_deduction_rate) / ni2014\n",
    "r_pnins2015 = sum(taxable_incomes_nonsalaried_2015_16) / gdpd_2015 / (1 - ns_deduction_rate) / ni2015\n",
    "r_pnins2016 = sum(taxable_incomes_nonsalaried_2016_17) / gdpd_2016 / (1 - ns_deduction_rate) / ni2016\n",
    "\n",
    "dt_percent_2012 = np.mean([list(grd_pak_direct_tax[grd_pak_direct_tax[\"YEAR\"] == 2012][\"DIRECT TAXES\"])[0],\n",
    "                      list(grd_pak_direct_tax[grd_pak_direct_tax[\"YEAR\"] == 2013][\"DIRECT TAXES\"])[0]])\n",
    "dt_percent_2013 = np.mean([list(grd_pak_direct_tax[grd_pak_direct_tax[\"YEAR\"] == 2013][\"DIRECT TAXES\"])[0],\n",
    "                      list(grd_pak_direct_tax[grd_pak_direct_tax[\"YEAR\"] == 2014][\"DIRECT TAXES\"])[0]])\n",
    "dt_percent_2014 = np.mean([list(grd_pak_direct_tax[grd_pak_direct_tax[\"YEAR\"] == 2014][\"DIRECT TAXES\"])[0],\n",
    "                      list(grd_pak_direct_tax[grd_pak_direct_tax[\"YEAR\"] == 2015][\"DIRECT TAXES\"])[0]])\n",
    "dt_percent_2015 = list(grd_pak_direct_tax[grd_pak_direct_tax[\"YEAR\"] == 2015][\"DIRECT TAXES\"])[0]\n",
    "\n",
    "dt_calc_2012 = sum(taxes_paid_2012_13) / gdpd_2012 / ni2012\n",
    "dt_calc_2013 = sum(taxes_paid_2013_14) / gdpd_2013 / ni2013\n",
    "dt_calc_2014 = sum(taxes_paid_2014_15) / gdpd_2014 / ni2014\n",
    "dt_calc_2015 = sum(taxes_paid_2015_16) / gdpd_2015 / ni2015\n",
    "dt_calc_2016 = sum(taxes_paid_2016_17) / gdpd_2016 / ni2016\n",
    "\n",
    "d = {\n",
    "    'Tax Year': [\"2012 - 2013\", \"2013 - 2014\", \"2014 - 2015\", \"2015 - 2016\", \"2016 - 2017\"], \n",
    "    'National Income (PKR, Constant 2017)': [format_number(int(ni2012)), format_number(int(ni2013)), format_number(int(ni2014)), format_number(int(ni2015)), format_number(int(ni2016))], \n",
    "    \"Salaried Workers Real Taxable Income (% of National Income)\": [format_percent(pnis2012, 1), format_percent(pnis2013, 1), format_percent(pnis2014, 1), format_percent(pnis2015, 1), format_percent(pnis2016, 1)], \n",
    "    \"Salaried Workers estimated Real Income (Taxable Income with 5% Deduction, % of National Income)\": [format_percent(r_pnis2012, 1), format_percent(r_pnis2013, 1), format_percent(r_pnis2014, 1), format_percent(r_pnis2015, 1), format_percent(r_pnis2016, 1)],\n",
    "    \"Non-salaried workers' Real Taxable Income (% of National Income)\": [format_percent(pnins2012, 1), format_percent(pnins2013, 1), format_percent(pnins2014, 1), format_percent(pnins2015, 1), format_percent(pnins2016, 1)], \n",
    "    \"Non-salaried workers' estimated Real Income (Taxable Income with 5% Deduction, % of National Income)\": [format_percent(r_pnins2012, 1), format_percent(r_pnins2013, 1), format_percent(r_pnins2014, 1), format_percent(r_pnins2015, 1), format_percent(r_pnins2016, 1)], \n",
    "    \"Taxes Collected for Individuals (% of National Income)*\": [format_percent(dt_calc_2012, 1), format_percent(dt_calc_2013, 1), format_percent(dt_calc_2014, 1), format_percent(dt_calc_2015, 1), format_percent(dt_calc_2016, 1)]\n",
    "    }\n",
    "\n",
    "income_calculations = pd.DataFrame(data=d)\n",
    "income_calculations = income_calculations[[\"Tax Year\", \n",
    "         \"National Income (PKR, Constant 2017)\", \n",
    "         \"Taxes Collected for Individuals (% of National Income)*\",\n",
    "         \"Non-salaried workers' Real Taxable Income (% of National Income)\", \n",
    "         \"Non-salaried workers' estimated Real Income (Taxable Income with 5% Deduction, % of National Income)\", \n",
    "         \"Salaried Workers Real Taxable Income (% of National Income)\", \n",
    "         \"Salaried Workers estimated Real Income (Taxable Income with 5% Deduction, % of National Income)\"]]\n",
    "income_calculations"
   ]
  },
  {
   "cell_type": "markdown",
   "metadata": {},
   "source": [
    "\\*Note that this is the number we have collected from the tax directory. It is an underestimate, as the FBR states that not all manually filed returns were able to be digitized and included in the sample."
   ]
  },
  {
   "cell_type": "markdown",
   "metadata": {},
   "source": [
    "Some quick, objective facts to put these numbers in perspective:\n",
    "\n",
    "**1)** Any individual eligible to pay taxes (potential taxpayers who earns an amount above the tax exemption threshold) is in approximately the top 10% of earners in Pakistan. This is calculated in the \"Combining Data\" notebook as the junction percentile, we use those numbers in an earlier table.\n",
    "\n",
    "**2)** We have the population of tax filers (which is a subset of the population above). We have an underestimate of that population as not all manually filed returns were able to be added to the directory.\n",
    "\n",
    "**3)** Direct taxes are made up of Withholding tax, Voluntary payments, Collection on Demand, and other (a small proportion)."
   ]
  },
  {
   "cell_type": "markdown",
   "metadata": {},
   "source": [
    "Taking a look at the quick statistics, we can learn a bit more about this population and why we are calculating based on salaried and non-salaried workers' tax rates. Given facts 2 and 3 above, we simply need to find out what type of taxes our sample is paying to correctly back-calculate their taxable income. Let's look at some quick statistics to understand more."
   ]
  },
  {
   "cell_type": "markdown",
   "metadata": {},
   "source": [
    "#### Quick Statistics"
   ]
  },
  {
   "cell_type": "markdown",
   "metadata": {},
   "source": [
    "We're going to look at 2014. Let's square the Federal Board of Revenue (FBR) Taxpayer Directory which has summary statistics with our sample. Let's start with total direct taxes as a percent of national income."
   ]
  },
  {
   "cell_type": "code",
   "execution_count": 56,
   "metadata": {
    "collapsed": false
   },
   "outputs": [
    {
     "name": "stdout",
     "output_type": "stream",
     "text": [
      "3.43302238997 % [DIRECT TAXES]\n"
     ]
    }
   ],
   "source": [
    "# Direct taxes as a percent of national income, 2014\n",
    "# Src: UNU WIDER GRD dataset, which comes from the Federal Board of Revenue Taxpayer Directory (confirmed manually)\n",
    "print(891000000000 / ni2014 * 100, \"% [DIRECT TAXES]\")"
   ]
  },
  {
   "cell_type": "markdown",
   "metadata": {},
   "source": [
    "Let's look at a split of Voluntary Payments and Witholding Tax collected from all companies, association of persons, and individuals. Collection on Demand is when a tax authority figure shows up and does an assessment. It is not a voluntary return and therefore wouldn't be reflected in our directory (FBR TaxPayer Directory, 2014)."
   ]
  },
  {
   "cell_type": "code",
   "execution_count": 57,
   "metadata": {
    "collapsed": false
   },
   "outputs": [
    {
     "name": "stdout",
     "output_type": "stream",
     "text": [
      "3.03822481512 % of national income [DIRECT TAXES]\n"
     ]
    }
   ],
   "source": [
    "# All Companies, AOP, Individuals [ VP, WHT ] collected by FBR, 2014\n",
    "print(891000000000  / ni2014 * 100 * (1 - 0.115), \"% of national income [DIRECT TAXES]\")"
   ]
  },
  {
   "cell_type": "markdown",
   "metadata": {},
   "source": [
    "It seems unlikely that you would file a return but not pay anything. If you know your tax liability is higher than the withholding amount, why would you file? Behaviorially, it doesn't make sense to file a return when you know you're not going to pay the tax anyway. Let's look at the amount of voluntary payments from companies, association of persons, and individuals."
   ]
  },
  {
   "cell_type": "code",
   "execution_count": 58,
   "metadata": {
    "collapsed": false
   },
   "outputs": [
    {
     "name": "stdout",
     "output_type": "stream",
     "text": [
      "0.974978358751 % of national income [VOLUNTARY PAYMENTS]\n"
     ]
    }
   ],
   "source": [
    "# All Companies, AOP, Individuals [ VP ] collected by FBR, 2014\n",
    "print(891000000000  / ni2014 * 100 * (0.284), \"% of national income [VOLUNTARY PAYMENTS]\")"
   ]
  },
  {
   "cell_type": "markdown",
   "metadata": {},
   "source": [
    "Let's compare that to our sample of taxes paid by individuals."
   ]
  },
  {
   "cell_type": "code",
   "execution_count": 59,
   "metadata": {
    "collapsed": false
   },
   "outputs": [
    {
     "name": "stdout",
     "output_type": "stream",
     "text": [
      "0.442131994948 % of national income [OUR SAMPLE]\n"
     ]
    }
   ],
   "source": [
    "# Individuals in our sample\n",
    "print(sum(taxes_paid_2013_14) / ni2014 * 100, \"% of national income [OUR SAMPLE]\")"
   ]
  },
  {
   "cell_type": "markdown",
   "metadata": {},
   "source": [
    "It's about half the previous number for all companies, AOPs and individuals. Considering AOPs and companies pay a much larger amount of voluntary tax than individuals, it makes sense that our sample is voluntary payments of individuals. In expanding this research, scraping / extracting the amount of taxes paid by companies and AOPs by modifying the scraper could confirm this.\n",
    "\n",
    "**At this point, given this analysis, I am making the assumption that we have all voluntary payments made by individuals.** This means I am not assuming withholding taxes are in the sample (collection on demand would presumably follow the same tax schedule as the voluntary payment, plus a negligible fine)."
   ]
  },
  {
   "cell_type": "markdown",
   "metadata": {},
   "source": [
    "We still need to know the distribution of non-salaried and salaried workers in the sample. There are also a few other taxes that could be part of this, including dividends and selling of stocks or land if ownership is less than a year. In the \"Combining Data\" section, we will deal with this and provide a range of final tables (lower bound, upper bound and middle estimates)"
   ]
  },
  {
   "cell_type": "code",
   "execution_count": 60,
   "metadata": {
    "collapsed": true
   },
   "outputs": [],
   "source": [
    "# SOME REFERENCE DATA, SEE THE FBR YEARBOOK FOR MORE\n",
    "# 796805000000 collected by FBR (direct amount in that years' currency, see headbook in supplemental_tax_information)\n",
    "# 947712000000 collected FBR (direct amount in that years' currency, see headbook in supplemental_tax_information)\n",
    "# 1096046000000 collected FBR (direct amount in that years' currency, see headbook in supplemental_tax_information)\n",
    "# 1217500000000 collected FBR (direct amount in that years' currency, see headbook in supplemental_tax_information)\n",
    "# 1344200000000 collected FBR (direct amount in that years' currency, see headbook in supplemental_tax_information)\n",
    "\n",
    "# 43.1% CoD and VP (direct amount in that years' currency, see headbook in supplemental_tax_information)\n",
    "# 37.5% CoD and VP (direct amount in that years' currency, see headbook in supplemental_tax_information)\n",
    "# 36.9% CoD and VP (direct amount in that years' currency, see headbook in supplemental_tax_information)\n",
    "# 39% CoD and VP (direct amount in that years' currency, see headbook in supplemental_tax_information)\n",
    "# 34.5% CoD and VP (direct amount in that years' currency, see headbook in supplemental_tax_information)"
   ]
  },
  {
   "cell_type": "markdown",
   "metadata": {},
   "source": [
    "Again, I believe it's safe to assume that all individual filings are voluntary payments. Those who file and pay 0 in taxes already had it deducted from their salary at source, had it collected on demad, or are below the income threshold."
   ]
  },
  {
   "cell_type": "markdown",
   "metadata": {},
   "source": [
    "#### Real Income Calculations (% of National Income)"
   ]
  },
  {
   "cell_type": "code",
   "execution_count": 61,
   "metadata": {
    "collapsed": false
   },
   "outputs": [
    {
     "data": {
      "text/html": [
       "<iframe id=\"igraph\" scrolling=\"no\" style=\"border:none;\" seamless=\"seamless\" src=\"https://plot.ly/~ali-wetrill/8.embed\" height=\"525px\" width=\"100%\"></iframe>"
      ],
      "text/plain": [
       "<plotly.tools.PlotlyDisplay object>"
      ]
     },
     "execution_count": 61,
     "metadata": {},
     "output_type": "execute_result"
    }
   ],
   "source": [
    "x = np.arange(2013, 2018, 1)\n",
    "\n",
    "pnins_trace = go.Scatter(\n",
    "    x=x,\n",
    "    y=np.round(np.array([pnins2012, pnins2013, pnins2014, pnins2015, pnins2016]) * 100, 2),\n",
    "    name = 'Non-Salaried Workers: Real Taxable Income',\n",
    ")\n",
    "\n",
    "r_pnins_trace = go.Scatter(\n",
    "    x=x,\n",
    "    y=np.round(np.array([r_pnins2012, r_pnins2013, r_pnins2014, r_pnins2015, r_pnins2016]) * 100, 2), \n",
    "    name = 'Non-Salaried Workers: Estimated Real Income (5% Deduction)',\n",
    ")\n",
    "\n",
    "pnis_trace = go.Scatter(\n",
    "    x=x,\n",
    "    y=np.round(np.array([pnis2012, pnis2013, pnis2014, pnis2015, pnis2016]) * 100, 2),\n",
    "    name = 'Salaried Workers: Real Taxable Income',\n",
    ")\n",
    "\n",
    "r_pnis_trace = go.Scatter(\n",
    "    x=x,\n",
    "    y=np.round(np.array([r_pnis2012, r_pnis2013, r_pnis2014, r_pnis2015, r_pnis2016]) * 100, 2),\n",
    "    name = 'Salaried Workers: Estimated Real Income (5% Deduction)',\n",
    ")\n",
    "\n",
    "data = [r_pnins_trace, pnis_trace, r_pnis_trace, pnins_trace]\n",
    "\n",
    "layout = dict(title = 'Real Income Calculations as a Percent of National Income',\n",
    "              xaxis = dict(title = 'Tax Year (July 1st - June 30th)'),\n",
    "              yaxis = dict(title = 'Percent of National Income'),\n",
    "              )\n",
    "fig = go.Figure(data=data, layout=layout)\n",
    "real_income_graph = py.iplot(fig, filename='styled-line')\n",
    "real_income_graph"
   ]
  },
  {
   "cell_type": "markdown",
   "metadata": {},
   "source": [
    "The markers for the x axis indicate the end of the tax year. Note that the tax code changes from tax years 2013 - 2014, and also 2015 - 2016 (causing the spread / potential amount of coverage that we can expect from the data to change). "
   ]
  },
  {
   "cell_type": "markdown",
   "metadata": {
    "collapsed": true
   },
   "source": [
    "### Comparative Summary Statistics, Tax Collection"
   ]
  },
  {
   "cell_type": "code",
   "execution_count": 62,
   "metadata": {
    "collapsed": false
   },
   "outputs": [],
   "source": [
    "pop = pd.read_excel(\"./miscData/population/pop.xls\")\n",
    "\n",
    "pop0_14 = pd.read_excel(\"./miscData/population/pop0_14.xls\")\n",
    "\n",
    "pop_male = pd.read_excel(\"./miscData/population/pop_male.xls\")\n",
    "pop_female = pd.read_excel(\"./miscData/population/pop_female.xls\")\n",
    "pop15_19_male = pd.read_excel(\"./miscData/population/pop15_19_male.xls\")\n",
    "pop15_19_female = pd.read_excel(\"./miscData/population/pop15_19_female.xls\")\n",
    "pop20_24_male = pd.read_excel(\"./miscData/population/pop20_24_male.xls\")\n",
    "pop20_24_female = pd.read_excel(\"./miscData/population/pop20_24_female.xls\")\n",
    "pop25_29_male = pd.read_excel(\"./miscData/population/pop25_29_male.xls\")\n",
    "pop25_29_female = pd.read_excel(\"./miscData/population/pop25_29_female.xls\")"
   ]
  },
  {
   "cell_type": "code",
   "execution_count": 63,
   "metadata": {
    "collapsed": false
   },
   "outputs": [
    {
     "name": "stdout",
     "output_type": "stream",
     "text": [
      "Tax and Labor Data in Perspective, 2017\n"
     ]
    },
    {
     "data": {
      "text/html": [
       "<div>\n",
       "<table border=\"1\" class=\"dataframe\">\n",
       "  <thead>\n",
       "    <tr style=\"text-align: right;\">\n",
       "      <th></th>\n",
       "      <th>Pakistan</th>\n",
       "      <th>India</th>\n",
       "      <th>Turkey</th>\n",
       "      <th>China</th>\n",
       "      <th>USA</th>\n",
       "      <th>France</th>\n",
       "    </tr>\n",
       "  </thead>\n",
       "  <tbody>\n",
       "    <tr>\n",
       "      <th>Income Tax Revenue (% of GDP)</th>\n",
       "      <td>0.84%</td>\n",
       "      <td>2.23%</td>\n",
       "      <td>3.66%</td>\n",
       "      <td>0.73%</td>\n",
       "      <td>10.46%</td>\n",
       "      <td>8.57%</td>\n",
       "    </tr>\n",
       "    <tr>\n",
       "      <th>Labor Force Participation Rate</th>\n",
       "      <td>53.2%</td>\n",
       "      <td>52.0%</td>\n",
       "      <td>52.6%</td>\n",
       "      <td>69.2%</td>\n",
       "      <td>62.3%</td>\n",
       "      <td>55.3%</td>\n",
       "    </tr>\n",
       "    <tr>\n",
       "      <th>Female Labor Force Participation Rate (% of female population)</th>\n",
       "      <td>23.7%</td>\n",
       "      <td>23.8%</td>\n",
       "      <td>33.6%</td>\n",
       "      <td>61.8%</td>\n",
       "      <td>56.3%</td>\n",
       "      <td>50.4%</td>\n",
       "    </tr>\n",
       "    <tr>\n",
       "      <th>Population under 30 (% of Total Population)</th>\n",
       "      <td>62.9%</td>\n",
       "      <td>54.6%</td>\n",
       "      <td>49.2%</td>\n",
       "      <td>38.3%</td>\n",
       "      <td>39.6%</td>\n",
       "      <td>35.7%</td>\n",
       "    </tr>\n",
       "  </tbody>\n",
       "</table>\n",
       "</div>"
      ],
      "text/plain": [
       "                                                   Pakistan  India Turkey  \\\n",
       "Income Tax Revenue (% of GDP)                         0.84%  2.23%  3.66%   \n",
       "Labor Force Participation Rate                        53.2%  52.0%  52.6%   \n",
       "Female Labor Force Participation Rate (% of fem...    23.7%  23.8%  33.6%   \n",
       "Population under 30 (% of Total Population)           62.9%  54.6%  49.2%   \n",
       "\n",
       "                                                    China     USA France  \n",
       "Income Tax Revenue (% of GDP)                       0.73%  10.46%  8.57%  \n",
       "Labor Force Participation Rate                      69.2%   62.3%  55.3%  \n",
       "Female Labor Force Participation Rate (% of fem...  61.8%   56.3%  50.4%  \n",
       "Population under 30 (% of Total Population)         38.3%   39.6%  35.7%  "
      ]
     },
     "execution_count": 63,
     "metadata": {},
     "output_type": "execute_result"
    }
   ],
   "source": [
    "pak_pop_female = pop_female[pop_female[\"Country Code\"] == \"PAK\"][\"2017\"].values[0]\n",
    "pak_pop_male = pop_male[pop_male[\"Country Code\"] == \"PAK\"][\"2017\"].values[0]\n",
    "pak_pop = pop[pop[\"Country Code\"] == \"PAK\"][\"2017\"].values[0]\n",
    "pak_under_30 = pop0_14[pop0_14[\"Country Code\"] == \"PAK\"][\"2017\"].values[0] + \\\n",
    "(pop15_19_male[pop15_19_male[\"Country Code\"] == \"PAK\"][\"2017\"].values[0] / 100 * pak_pop_male) + \\\n",
    "(pop15_19_female[pop15_19_female[\"Country Code\"] == \"PAK\"][\"2017\"].values[0] / 100 * pak_pop_female) + \\\n",
    "(pop20_24_male[pop20_24_male[\"Country Code\"] == \"PAK\"][\"2017\"].values[0] / 100 * pak_pop_male) + \\\n",
    "(pop20_24_female[pop20_24_female[\"Country Code\"] == \"PAK\"][\"2017\"].values[0] / 100 * pak_pop_female) + \\\n",
    "(pop25_29_male[pop25_29_male[\"Country Code\"] == \"PAK\"][\"2017\"].values[0] / 100 * pak_pop_male) + \\\n",
    "(pop25_29_female[pop25_29_female[\"Country Code\"] == \"PAK\"][\"2017\"].values[0] / 100 * pak_pop_female)\n",
    "\n",
    "india_pop_female = pop_female[pop_female[\"Country Code\"] == \"IND\"][\"2017\"].values[0]\n",
    "india_pop_male = pop_male[pop_male[\"Country Code\"] == \"IND\"][\"2017\"].values[0]\n",
    "india_pop = pop[pop[\"Country Code\"] == \"IND\"][\"2017\"].values[0]\n",
    "india_under_30 = pop0_14[pop0_14[\"Country Code\"] == \"IND\"][\"2017\"].values[0] + \\\n",
    "(pop15_19_male[pop15_19_male[\"Country Code\"] == \"IND\"][\"2017\"].values[0] / 100 * india_pop_male) + \\\n",
    "(pop15_19_female[pop15_19_female[\"Country Code\"] == \"IND\"][\"2017\"].values[0] / 100 * india_pop_female) + \\\n",
    "(pop20_24_male[pop20_24_male[\"Country Code\"] == \"IND\"][\"2017\"].values[0] / 100 * india_pop_male) + \\\n",
    "(pop20_24_female[pop20_24_female[\"Country Code\"] == \"IND\"][\"2017\"].values[0] / 100 * india_pop_female) + \\\n",
    "(pop25_29_male[pop25_29_male[\"Country Code\"] == \"IND\"][\"2017\"].values[0] / 100 * india_pop_male) + \\\n",
    "(pop25_29_female[pop25_29_female[\"Country Code\"] == \"IND\"][\"2017\"].values[0] / 100 * india_pop_female)\n",
    "\n",
    "turk_pop_female = pop_female[pop_female[\"Country Code\"] == \"TUR\"][\"2017\"].values[0]\n",
    "turk_pop_male = pop_male[pop_male[\"Country Code\"] == \"TUR\"][\"2017\"].values[0]\n",
    "turk_pop = pop[pop[\"Country Code\"] == \"TUR\"][\"2017\"].values[0]\n",
    "turk_under_30 = pop0_14[pop0_14[\"Country Code\"] == \"TUR\"][\"2017\"].values[0] + \\\n",
    "(pop15_19_male[pop15_19_male[\"Country Code\"] == \"TUR\"][\"2017\"].values[0] / 100 * turk_pop_male) + \\\n",
    "(pop15_19_female[pop15_19_female[\"Country Code\"] == \"TUR\"][\"2017\"].values[0] / 100 * turk_pop_female) + \\\n",
    "(pop20_24_male[pop20_24_male[\"Country Code\"] == \"TUR\"][\"2017\"].values[0] / 100 * turk_pop_male) + \\\n",
    "(pop20_24_female[pop20_24_female[\"Country Code\"] == \"TUR\"][\"2017\"].values[0] / 100 * turk_pop_female) + \\\n",
    "(pop25_29_male[pop25_29_male[\"Country Code\"] == \"TUR\"][\"2017\"].values[0] / 100 * turk_pop_male) + \\\n",
    "(pop25_29_female[pop25_29_female[\"Country Code\"] == \"TUR\"][\"2017\"].values[0] / 100 * turk_pop_female)\n",
    "\n",
    "usa_pop_female = pop_female[pop_female[\"Country Code\"] == \"USA\"][\"2017\"].values[0]\n",
    "usa_pop_male = pop_male[pop_male[\"Country Code\"] == \"USA\"][\"2017\"].values[0]\n",
    "usa_pop = pop[pop[\"Country Code\"] == \"USA\"][\"2017\"].values[0]\n",
    "usa_under_30 = pop0_14[pop0_14[\"Country Code\"] == \"USA\"][\"2017\"].values[0] + \\\n",
    "(pop15_19_male[pop15_19_male[\"Country Code\"] == \"USA\"][\"2017\"].values[0] / 100 * usa_pop_male) + \\\n",
    "(pop15_19_female[pop15_19_female[\"Country Code\"] == \"USA\"][\"2017\"].values[0] / 100 * usa_pop_female) + \\\n",
    "(pop20_24_male[pop20_24_male[\"Country Code\"] == \"USA\"][\"2017\"].values[0] / 100 * usa_pop_male) + \\\n",
    "(pop20_24_female[pop20_24_female[\"Country Code\"] == \"USA\"][\"2017\"].values[0] / 100 * usa_pop_female) + \\\n",
    "(pop25_29_male[pop25_29_male[\"Country Code\"] == \"USA\"][\"2017\"].values[0] / 100 * usa_pop_male) + \\\n",
    "(pop25_29_female[pop25_29_female[\"Country Code\"] == \"USA\"][\"2017\"].values[0] / 100 * usa_pop_female)\n",
    "\n",
    "fra_pop_female = pop_female[pop_female[\"Country Code\"] == \"FRA\"][\"2017\"].values[0]\n",
    "fra_pop_male = pop_male[pop_male[\"Country Code\"] == \"FRA\"][\"2017\"].values[0]\n",
    "fra_pop = pop[pop[\"Country Code\"] == \"FRA\"][\"2017\"].values[0]\n",
    "fra_under_30 = pop0_14[pop0_14[\"Country Code\"] == \"FRA\"][\"2017\"].values[0] + \\\n",
    "(pop15_19_male[pop15_19_male[\"Country Code\"] == \"FRA\"][\"2017\"].values[0] / 100 * fra_pop_male) + \\\n",
    "(pop15_19_female[pop15_19_female[\"Country Code\"] == \"FRA\"][\"2017\"].values[0] / 100 * fra_pop_female) + \\\n",
    "(pop20_24_male[pop20_24_male[\"Country Code\"] == \"FRA\"][\"2017\"].values[0] / 100 * fra_pop_male) + \\\n",
    "(pop20_24_female[pop20_24_female[\"Country Code\"] == \"FRA\"][\"2017\"].values[0] / 100 * fra_pop_female) + \\\n",
    "(pop25_29_male[pop25_29_male[\"Country Code\"] == \"FRA\"][\"2017\"].values[0] / 100 * fra_pop_male) + \\\n",
    "(pop25_29_female[pop25_29_female[\"Country Code\"] == \"FRA\"][\"2017\"].values[0] / 100 * fra_pop_female)\n",
    "\n",
    "chn_pop_female = pop_female[pop_female[\"Country Code\"] == \"CHN\"][\"2017\"].values[0]\n",
    "chn_pop_male = pop_male[pop_male[\"Country Code\"] == \"CHN\"][\"2017\"].values[0]\n",
    "chn_pop = pop[pop[\"Country Code\"] == \"CHN\"][\"2017\"].values[0]\n",
    "chn_under_30 = pop0_14[pop0_14[\"Country Code\"] == \"CHN\"][\"2017\"].values[0] + \\\n",
    "(pop15_19_male[pop15_19_male[\"Country Code\"] == \"CHN\"][\"2017\"].values[0] / 100 * chn_pop_male) + \\\n",
    "(pop15_19_female[pop15_19_female[\"Country Code\"] == \"CHN\"][\"2017\"].values[0] / 100 * chn_pop_female) + \\\n",
    "(pop20_24_male[pop20_24_male[\"Country Code\"] == \"CHN\"][\"2017\"].values[0] / 100 * chn_pop_male) + \\\n",
    "(pop20_24_female[pop20_24_female[\"Country Code\"] == \"CHN\"][\"2017\"].values[0] / 100 * chn_pop_female) + \\\n",
    "(pop25_29_male[pop25_29_male[\"Country Code\"] == \"CHN\"][\"2017\"].values[0] / 100 * chn_pop_male) + \\\n",
    "(pop25_29_female[pop25_29_female[\"Country Code\"] == \"CHN\"][\"2017\"].values[0] / 100 * chn_pop_female)\n",
    "\n",
    "chn_tr_gdp_2016 = 0.08 * 0.09157385536 # Taken from Economist article and World Bank data, see miscData files\n",
    "\n",
    "d = {\n",
    "    'Pakistan': [format_percent(pak_tr_gdp_2016, 2), format_percent(list(lfp[lfp[\"Country Name\"] == \"Pakistan\"][\"2017\"])[0] / 100, 1), format_percent(list(lfp_female[lfp_female[\"Country Name\"] == \"Pakistan\"][\"2017\"])[0] / 100, 1), format_percent(pak_under_30 / pak_pop, 1)], \n",
    "    'India': [format_percent(india_tr_gdp_2016, 2), format_percent(list(lfp[lfp[\"Country Name\"] == \"India\"][\"2017\"])[0] / 100, 1), format_percent(list(lfp_female[lfp_female[\"Country Name\"] == \"India\"][\"2017\"])[0] / 100, 1), format_percent(india_under_30 / india_pop, 1)], \n",
    "    'Turkey': [format_percent(turk_tr_gdp_2016, 2), format_percent(list(lfp[lfp[\"Country Name\"] == \"Turkey\"][\"2017\"])[0] / 100, 1), format_percent(list(lfp_female[lfp_female[\"Country Name\"] == \"Turkey\"][\"2017\"])[0] / 100, 1), format_percent(turk_under_30 / turk_pop, 1)], \n",
    "    'China': [format_percent(chn_tr_gdp_2016, 2), format_percent(list(lfp[lfp[\"Country Name\"] == \"China\"][\"2017\"])[0] / 100, 1), format_percent(list(lfp_female[lfp_female[\"Country Name\"] == \"China\"][\"2017\"])[0] / 100, 1), format_percent(chn_under_30 / chn_pop, 1)], \n",
    "    'France': [format_percent(fra_tr_gdp_2016, 2), format_percent(list(lfp[lfp[\"Country Name\"] == \"France\"][\"2017\"])[0] / 100, 1), format_percent(list(lfp_female[lfp_female[\"Country Name\"] == \"France\"][\"2017\"])[0] / 100, 1), format_percent(fra_under_30 / fra_pop, 1)], \n",
    "    'USA': [format_percent(usa_tr_gdp_2016, 2), format_percent(list(lfp[lfp[\"Country Code\"] == \"USA\"][\"2017\"])[0] / 100, 1), format_percent(list(lfp_female[lfp_female[\"Country Code\"] == \"USA\"][\"2017\"])[0] / 100, 1), format_percent(usa_under_30 / usa_pop, 1)], \n",
    "    }\n",
    "\n",
    "comparative_summary_tax_statistics = pd.DataFrame(data=d)\n",
    "comparative_summary_tax_statistics = comparative_summary_tax_statistics[[\"Pakistan\", \"India\", \"Turkey\", \"China\", \"USA\", \"France\"]]\n",
    "comparative_summary_tax_statistics.rename(index={0:'Income Tax Revenue (% of GDP)',1:'Labor Force Participation Rate', 2: 'Female Labor Force Participation Rate (% of female population)', 3:'Population under 30 (% of Total Population)'}, inplace=True)\n",
    "print(\"Tax and Labor Data in Perspective, 2017\")\n",
    "comparative_summary_tax_statistics"
   ]
  },
  {
   "cell_type": "markdown",
   "metadata": {},
   "source": [
    "Some summary statistics to understand the data at hand in comparison to similar and more advanced countries."
   ]
  },
  {
   "cell_type": "markdown",
   "metadata": {},
   "source": [
    "## Understanding the Parlimentarian Tax Data"
   ]
  },
  {
   "cell_type": "markdown",
   "metadata": {},
   "source": [
    "Some interesting time series analysis can come here."
   ]
  },
  {
   "cell_type": "markdown",
   "metadata": {},
   "source": [
    "# Export Data"
   ]
  },
  {
   "cell_type": "code",
   "execution_count": 64,
   "metadata": {
    "collapsed": true
   },
   "outputs": [],
   "source": [
    "import pickle"
   ]
  },
  {
   "cell_type": "markdown",
   "metadata": {},
   "source": [
    "We will now export these final numbers and graphs to a seperate folder so we can use it in other notebooks."
   ]
  },
  {
   "cell_type": "code",
   "execution_count": 65,
   "metadata": {
    "collapsed": false
   },
   "outputs": [],
   "source": [
    "'''============================ 2012 - 2013 ============================'''\n",
    "\n",
    "with open('./finalData/taxes_paid_2012_13.pkl', 'wb') as f: pickle.dump(taxes_paid_2012_13, f)\n",
    "with open('./finalData/taxable_incomes_salaried_2012_13.pkl', 'wb') as f: pickle.dump(taxable_incomes_salaried_2012_13, f)\n",
    "with open('./finalData/taxable_incomes_nonsalaried_2012_13.pkl', 'wb') as f: pickle.dump(taxable_incomes_nonsalaried_2012_13, f)\n",
    "\n",
    "with open('./finalData/num_filers_2012_13.pkl', 'wb') as f: pickle.dump(num_filers_2012_13, f)\n",
    "with open('./finalData/num_taxpayers_2012_13.pkl', 'wb') as f: pickle.dump(num_taxpayers_2012_13, f)\n",
    "with open('./finalData/proportion_filers_2012_13.pkl', 'wb') as f: pickle.dump(proportion_filers_2012_13, f)\n",
    "with open('./finalData/proportion_taxpayers_2012_13.pkl', 'wb') as f: pickle.dump(proportion_taxpayers_2012_13, f)\n",
    "\n",
    "'''============================ 2013 - 2014 ============================'''\n",
    "\n",
    "with open('./finalData/taxes_paid_2013_14.pkl', 'wb') as f: pickle.dump(taxes_paid_2013_14, f)\n",
    "with open('./finalData/taxable_incomes_salaried_2013_14.pkl', 'wb') as f: pickle.dump(taxable_incomes_salaried_2013_14, f)\n",
    "with open('./finalData/taxable_incomes_nonsalaried_2013_14.pkl', 'wb') as f: pickle.dump(taxable_incomes_nonsalaried_2013_14, f)\n",
    "\n",
    "with open('./finalData/num_filers_2013_14.pkl', 'wb') as f: pickle.dump(num_filers_2013_14, f)\n",
    "with open('./finalData/num_taxpayers_2013_14.pkl', 'wb') as f: pickle.dump(num_taxpayers_2013_14, f)\n",
    "with open('./finalData/proportion_filers_2013_14.pkl', 'wb') as f: pickle.dump(proportion_filers_2013_14, f)\n",
    "with open('./finalData/proportion_taxpayers_2013_14.pkl', 'wb') as f: pickle.dump(proportion_taxpayers_2013_14, f)\n",
    "    \n",
    "'''============================ 2014 - 2015 ============================'''\n",
    "\n",
    "with open('./finalData/taxes_paid_2014_15.pkl', 'wb') as f: pickle.dump(taxes_paid_2014_15, f)\n",
    "with open('./finalData/taxable_incomes_salaried_2014_15.pkl', 'wb') as f: pickle.dump(taxable_incomes_salaried_2014_15, f)\n",
    "with open('./finalData/taxable_incomes_nonsalaried_2014_15.pkl', 'wb') as f: pickle.dump(taxable_incomes_nonsalaried_2014_15, f)\n",
    "\n",
    "with open('./finalData/num_filers_2014_15.pkl', 'wb') as f: pickle.dump(num_filers_2014_15, f)\n",
    "with open('./finalData/num_taxpayers_2014_15.pkl', 'wb') as f: pickle.dump(num_taxpayers_2014_15, f)\n",
    "with open('./finalData/proportion_filers_2014_15.pkl', 'wb') as f: pickle.dump(proportion_filers_2014_15, f)\n",
    "with open('./finalData/proportion_taxpayers_2014_15.pkl', 'wb') as f: pickle.dump(proportion_taxpayers_2014_15, f)\n",
    "\n",
    "'''============================ 2015 - 2016 ============================'''\n",
    "\n",
    "with open('./finalData/taxes_paid_2015_16.pkl', 'wb') as f: pickle.dump(taxes_paid_2015_16, f)\n",
    "with open('./finalData/taxable_incomes_salaried_2015_16.pkl', 'wb') as f: pickle.dump(taxable_incomes_salaried_2015_16, f)\n",
    "with open('./finalData/taxable_incomes_nonsalaried_2015_16.pkl', 'wb') as f: pickle.dump(taxable_incomes_nonsalaried_2015_16, f)\n",
    "\n",
    "with open('./finalData/num_filers_2015_16.pkl', 'wb') as f: pickle.dump(num_filers_2015_16, f)\n",
    "with open('./finalData/num_taxpayers_2015_16.pkl', 'wb') as f: pickle.dump(num_taxpayers_2015_16, f)\n",
    "with open('./finalData/proportion_filers_2015_16.pkl', 'wb') as f: pickle.dump(proportion_filers_2015_16, f)\n",
    "with open('./finalData/proportion_taxpayers_2015_16.pkl', 'wb') as f: pickle.dump(proportion_taxpayers_2015_16, f)\n",
    "\n",
    "'''============================ 2016 - 2017 ============================'''\n",
    "\n",
    "with open('./finalData/taxes_paid_2016_17.pkl', 'wb') as f: pickle.dump(taxes_paid_2016_17, f)\n",
    "with open('./finalData/taxable_incomes_salaried_2016_17.pkl', 'wb') as f: pickle.dump(taxable_incomes_salaried_2016_17, f)\n",
    "with open('./finalData/taxable_incomes_nonsalaried_2016_17.pkl', 'wb') as f: pickle.dump(taxable_incomes_nonsalaried_2016_17, f)\n",
    "\n",
    "with open('./finalData/num_filers_2016_17.pkl', 'wb') as f: pickle.dump(num_filers_2016_17, f)\n",
    "with open('./finalData/num_taxpayers_2016_17.pkl', 'wb') as f: pickle.dump(num_taxpayers_2016_17, f)\n",
    "with open('./finalData/proportion_filers_2016_17.pkl', 'wb') as f: pickle.dump(proportion_filers_2016_17, f)\n",
    "with open('./finalData/proportion_taxpayers_2016_17.pkl', 'wb') as f: pickle.dump(proportion_taxpayers_2016_17, f)"
   ]
  },
  {
   "cell_type": "code",
   "execution_count": 68,
   "metadata": {
    "collapsed": true
   },
   "outputs": [],
   "source": [
    "with open('./finalData/finalGraphsAndTables/tax_returns_summary_statistics.pkl', 'wb') as f: pickle.dump(tax_returns_summary_statistics, f)\n",
    "with open('./finalData/finalGraphsAndTables/tax_returns_summary_statistics_eligible.pkl', 'wb') as f: pickle.dump(tax_returns_summary_statistics_eligible, f)\n",
    "with open('./finalData/finalGraphsAndTables/comparative_personal_income_tax_revenue_graph.pkl', 'wb') as f: pickle.dump(comparative_personal_income_tax_revenue_graph, f)\n",
    "with open('./finalData/finalGraphsAndTables/india_pak_personal_income_tax_revenue_graph.pkl', 'wb') as f: pickle.dump(india_pak_personal_income_tax_revenue_graph, f)\n",
    "with open('./finalData/finalGraphsAndTables/india_pak_personal_income_tax_growth_graph.pkl', 'wb') as f: pickle.dump(india_pak_personal_income_tax_growth_graph, f)\n",
    "with open('./finalData/finalGraphsAndTables/income_calculations.pkl', 'wb') as f: pickle.dump(income_calculations, f)\n",
    "with open('./finalData/finalGraphsAndTables/real_income_graph.pkl', 'wb') as f: pickle.dump(real_income_graph, f)\n",
    "with open('./finalData/finalGraphsAndTables/comparative_summary_tax_statistics.pkl', 'wb') as f: pickle.dump(comparative_summary_tax_statistics, f)"
   ]
  },
  {
   "cell_type": "markdown",
   "metadata": {},
   "source": [
    "To import the data into another notebook run the below code. Note that your import statement changes whether the file is a list or a table."
   ]
  },
  {
   "cell_type": "code",
   "execution_count": 67,
   "metadata": {
    "collapsed": true
   },
   "outputs": [],
   "source": [
    "# with open('./finalData/taxes_paid_2012_13.pkl', 'rb') as f: taxes_paid_2012_13 = pickle.load(f)"
   ]
  },
  {
   "cell_type": "raw",
   "metadata": {},
   "source": [
    "Notes for potential things to add:\n",
    "\n",
    "1) Need to make all variables unique for the graphs. Currently you have run each cell in order in the \"Understanding the Full Tax Data\" section.\n",
    "\n",
    "2) Better naming conventions for graphs.\n",
    "\n",
    "3) Adjust the scraper to capture AOP and company tax paid. We can run interesting analysis on that amount, and also confirm that all individuals in the sample are making voluntary payments (and that no withholding tax is in our sample).\n",
    "\n",
    "4) Extract male and female (sex) from the data based on name, could run interesting statistics on income inequality by gender later as the survey data we combine this data with has that information.\n",
    "\n",
    "5) There are some interesting Jupyter Notebook extensions that we could install to make this notebook more readable. The link is here: https://github.com/ipython-contrib/jupyter_contrib_nbextensions\n",
    "\n",
    "6) If you just want to install a table of contents extension, run the following in a cell in the notebook.\n",
    "\n",
    "!jupyter nbextension install --user https://rawgithub.com/minrk/ipython_extensions/master/nbextensions/toc.js\n",
    "!curl -L https://rawgithub.com/minrk/ipython_extensions/master/nbextensions/toc.css > $(jupyter --data-dir)/nbextensions/toc.css\n",
    "!jupyter nbextension enable toc\n",
    "\n",
    "Shutdown the notebook, open it again, and there should be a button next to the 'CellToolbar' button that opens up a table of contents."
   ]
  },
  {
   "cell_type": "markdown",
   "metadata": {},
   "source": [
    "Now onto combining the tax data with the survey data to generate our final tables!"
   ]
  }
 ],
 "metadata": {
  "anaconda-cloud": {},
  "kernelspec": {
   "display_name": "Python [conda root]",
   "language": "python",
   "name": "conda-root-py"
  },
  "language_info": {
   "codemirror_mode": {
    "name": "ipython",
    "version": 3
   },
   "file_extension": ".py",
   "mimetype": "text/x-python",
   "name": "python",
   "nbconvert_exporter": "python",
   "pygments_lexer": "ipython3",
   "version": "3.5.2"
  }
 },
 "nbformat": 4,
 "nbformat_minor": 2
}
