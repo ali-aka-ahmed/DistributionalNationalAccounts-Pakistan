{
 "cells": [
  {
   "cell_type": "code",
   "execution_count": 222,
   "metadata": {
    "collapsed": false
   },
   "outputs": [],
   "source": [
    "import numpy as np\n",
    "import pandas as pd\n",
    "import pickle\n",
    "import plotly.plotly as py\n",
    "import plotly.graph_objs as go\n",
    "import matplotlib.pyplot as plt\n",
    "from plotly.offline import download_plotlyjs, init_notebook_mode, plot, iplot\n",
    "import plotly\n",
    "import plotly.graph_objs as go"
   ]
  },
  {
   "cell_type": "code",
   "execution_count": 223,
   "metadata": {
    "collapsed": false
   },
   "outputs": [
    {
     "data": {
      "text/html": [
       "<script>requirejs.config({paths: { 'plotly': ['https://cdn.plot.ly/plotly-latest.min']},});if(!window.Plotly) {{require(['plotly'],function(plotly) {window.Plotly=plotly;});}}</script>"
      ],
      "text/vnd.plotly.v1+html": [
       "<script>requirejs.config({paths: { 'plotly': ['https://cdn.plot.ly/plotly-latest.min']},});if(!window.Plotly) {{require(['plotly'],function(plotly) {window.Plotly=plotly;});}}</script>"
      ]
     },
     "metadata": {},
     "output_type": "display_data"
    }
   ],
   "source": [
    "init_notebook_mode(connected=True)\n",
    "pd.options.display.max_columns = None"
   ]
  },
  {
   "cell_type": "markdown",
   "metadata": {},
   "source": [
    "# Load Data"
   ]
  },
  {
   "cell_type": "code",
   "execution_count": 224,
   "metadata": {
    "collapsed": false
   },
   "outputs": [],
   "source": [
    "with open('./finalData/finalCombinedMicrodata/final_incomes_2015_ASSUMP_salaried.pkl', 'rb') as f: final_incomes_2015_ASSUMP_salaried = pickle.load(f)\n",
    "with open('./finalData/finalCombinedMicrodata/final_incomes_2015_ASSUMP_nonsalaried.pkl', 'rb') as f: final_incomes_2015_ASSUMP_nonsalaried = pickle.load(f)\n",
    "\n",
    "with open('./finalData/finalCombinedMicrodata/final_incomes_2014_ASSUMP_salaried.pkl', 'rb') as f: final_incomes_2014_ASSUMP_salaried = pickle.load(f)\n",
    "with open('./finalData/finalCombinedMicrodata/final_incomes_2014_ASSUMP_nonsalaried.pkl', 'rb') as f: final_incomes_2014_ASSUMP_nonsalaried = pickle.load(f)\n",
    "\n",
    "with open('./finalData/finalCombinedMicrodata/final_incomes_2013_ASSUMP_salaried.pkl', 'rb') as f: final_incomes_2013_ASSUMP_salaried = pickle.load(f)\n",
    "with open('./finalData/finalCombinedMicrodata/final_incomes_2013_ASSUMP_nonsalaried.pkl', 'rb') as f: final_incomes_2013_ASSUMP_nonsalaried = pickle.load(f)\n",
    "\n",
    "with open('./finalData/finalCombinedMicrodata/final_incomes_2012_ASSUMP_salaried.pkl', 'rb') as f: final_incomes_2012_ASSUMP_salaried = pickle.load(f)\n",
    "with open('./finalData/finalCombinedMicrodata/final_incomes_2012_ASSUMP_nonsalaried.pkl', 'rb') as f: final_incomes_2012_ASSUMP_nonsalaried = pickle.load(f)\n",
    "\n",
    "with open('./finalData/finalCombinedMicrodata/final_incomes_2011_ASSUMP_salaried.pkl', 'rb') as f: final_incomes_2011_ASSUMP_salaried = pickle.load(f)\n",
    "with open('./finalData/finalCombinedMicrodata/final_incomes_2011_ASSUMP_nonsalaried.pkl', 'rb') as f: final_incomes_2011_ASSUMP_nonsalaried = pickle.load(f)\n",
    "\n",
    "with open('./finalData/finalCombinedMicrodata/final_incomes_2010_ASSUMP_salaried.pkl', 'rb') as f: final_incomes_2010_ASSUMP_salaried = pickle.load(f)\n",
    "with open('./finalData/finalCombinedMicrodata/final_incomes_2010_ASSUMP_nonsalaried.pkl', 'rb') as f: final_incomes_2010_ASSUMP_nonsalaried = pickle.load(f)\n",
    "\n",
    "with open('./finalData/finalCombinedMicrodata/final_incomes_2008_ASSUMP_salaried.pkl', 'rb') as f: final_incomes_2008_ASSUMP_salaried = pickle.load(f)\n",
    "with open('./finalData/finalCombinedMicrodata/final_incomes_2008_ASSUMP_nonsalaried.pkl', 'rb') as f: final_incomes_2008_ASSUMP_nonsalaried = pickle.load(f)\n",
    "\n",
    "with open('./finalData/finalCombinedMicrodata/final_incomes_2007_ASSUMP_salaried.pkl', 'rb') as f: final_incomes_2007_ASSUMP_salaried = pickle.load(f)\n",
    "with open('./finalData/finalCombinedMicrodata/final_incomes_2007_ASSUMP_nonsalaried.pkl', 'rb') as f: final_incomes_2007_ASSUMP_nonsalaried = pickle.load(f)\n",
    "\n",
    "with open('./finalData/finalCombinedMicrodata/final_incomes_2006_ASSUMP_salaried.pkl', 'rb') as f: final_incomes_2006_ASSUMP_salaried = pickle.load(f)\n",
    "with open('./finalData/finalCombinedMicrodata/final_incomes_2006_ASSUMP_nonsalaried.pkl', 'rb') as f: final_incomes_2006_ASSUMP_nonsalaried = pickle.load(f)\n",
    "\n",
    "with open('./finalData/finalCombinedMicrodata/final_incomes_2005_ASSUMP_salaried.pkl', 'rb') as f: final_incomes_2005_ASSUMP_salaried = pickle.load(f)\n",
    "with open('./finalData/finalCombinedMicrodata/final_incomes_2005_ASSUMP_nonsalaried.pkl', 'rb') as f: final_incomes_2005_ASSUMP_nonsalaried = pickle.load(f)\n",
    "\n",
    "with open('./finalData/finalCombinedMicrodata/final_incomes_2004_ASSUMP_salaried.pkl', 'rb') as f: final_incomes_2004_ASSUMP_salaried = pickle.load(f)\n",
    "with open('./finalData/finalCombinedMicrodata/final_incomes_2004_ASSUMP_nonsalaried.pkl', 'rb') as f: final_incomes_2004_ASSUMP_nonsalaried = pickle.load(f)"
   ]
  },
  {
   "cell_type": "code",
   "execution_count": 225,
   "metadata": {
    "collapsed": true
   },
   "outputs": [],
   "source": [
    "with open('./finalData/individual_balance_sheet_2015_16.pkl', 'rb') as f: individual_balance_sheet_2015_16 = pickle.load(f)\n",
    "with open('./finalData/individual_balance_sheet_2014_15.pkl', 'rb') as f: individual_balance_sheet_2014_15 = pickle.load(f)\n",
    "with open('./finalData/individual_balance_sheet_2013_14.pkl', 'rb') as f: individual_balance_sheet_2013_14 = pickle.load(f)\n",
    "with open('./finalData/individual_balance_sheet_2012_13.pkl', 'rb') as f: individual_balance_sheet_2012_13 = pickle.load(f)\n",
    "with open('./finalData/individual_balance_sheet_2011_12.pkl', 'rb') as f: individual_balance_sheet_2011_12 = pickle.load(f)\n",
    "with open('./finalData/individual_balance_sheet_2010_11.pkl', 'rb') as f: individual_balance_sheet_2010_11 = pickle.load(f)\n",
    "with open('./finalData/individual_balance_sheet_2008_09.pkl', 'rb') as f: individual_balance_sheet_2008_09 = pickle.load(f)\n",
    "with open('./finalData/individual_balance_sheet_2007_08.pkl', 'rb') as f: individual_balance_sheet_2007_08 = pickle.load(f)\n",
    "with open('./finalData/individual_balance_sheet_2006_07.pkl', 'rb') as f: individual_balance_sheet_2006_07 = pickle.load(f)\n",
    "with open('./finalData/individual_balance_sheet_2005_06.pkl', 'rb') as f: individual_balance_sheet_2005_06 = pickle.load(f)\n",
    "with open('./finalData/individual_balance_sheet_2004_05.pkl', 'rb') as f: individual_balance_sheet_2004_05 = pickle.load(f)"
   ]
  },
  {
   "cell_type": "markdown",
   "metadata": {},
   "source": [
    "# Visualization and Conclusions"
   ]
  },
  {
   "cell_type": "markdown",
   "metadata": {},
   "source": [
    "**Helper Functions**"
   ]
  },
  {
   "cell_type": "code",
   "execution_count": 226,
   "metadata": {
    "collapsed": false
   },
   "outputs": [],
   "source": [
    "def get_final_table(start_year, assumptions):  \n",
    "    \"\"\"\n",
    "    Sorted by income.\n",
    "    \n",
    "    Args:\n",
    "        str (table_type): accepts only 'hh' for household or 'individual' for individual.\n",
    "        int (start_year): currently limited to 2004 - 2015.\n",
    "\n",
    "    Returns:\n",
    "        pd.DataFrame: dataframe corresponding to table.\n",
    "    \"\"\"\n",
    "    t = eval(\"final_incomes_\" + str(start_year) + \"_ASSUMP_\" + str(assumptions))\n",
    "    t = t.sort_values(by=['income']).reset_index().drop([\"index\"], axis=1)\n",
    "    return t\n",
    "    \n",
    "def weighted_sum(data, weights):\n",
    "    \"\"\"\n",
    "    Args:\n",
    "        pd.Series (data)\n",
    "        pd.Series (weights)\n",
    "\n",
    "    Returns:\n",
    "        float: weighted sum.\n",
    "    \"\"\"\n",
    "    data = np.array(data)\n",
    "    weights = np.array(weights)\n",
    "    return np.sum(data * weights)\n",
    "\n",
    "def top_percentiles(p, sorted_data, sorted_weights):\n",
    "    \"\"\"\n",
    "    Args:\n",
    "        int (p): 0 < p < 1.\n",
    "        pd.Series (data)\n",
    "        pd.Series (weights)\n",
    "\n",
    "    Returns:\n",
    "        (list, list): corresponding data, and weights.\n",
    "    \"\"\"\n",
    "    sorted_data = np.array(sorted_data)\n",
    "    sorted_weights = np.array(sorted_weights)\n",
    "    q = (1 - p) * np.sum(sorted_weights)\n",
    "    index = sorted_weights.size\n",
    "    cum_sum = np.sum(sorted_weights)\n",
    "    while cum_sum > q:\n",
    "        index -= 1\n",
    "        cum_sum -= sorted_weights[index]\n",
    "    return (sorted_data[index:], sorted_weights[index:], index)\n",
    "\n",
    "def bottom_percentiles(p, sorted_data, sorted_weights):\n",
    "    \"\"\"\n",
    "    Args:\n",
    "        int (p): 0 <= p <=1.\n",
    "        pd.Series (data)\n",
    "        pd.Series (weights)\n",
    "\n",
    "    Returns:\n",
    "        (list, list): corresponding data, and weights.\n",
    "    \"\"\"\n",
    "    sorted_data = np.array(sorted_data)\n",
    "    sorted_weights = np.array(sorted_weights)\n",
    "    q = p * np.sum(sorted_weights)\n",
    "    index = -1\n",
    "    cum_sum = 0\n",
    "    while cum_sum < q:\n",
    "        index += 1\n",
    "        cum_sum += sorted_weights[index]\n",
    "    return (sorted_data[:index], sorted_weights[:index], index)"
   ]
  },
  {
   "cell_type": "markdown",
   "metadata": {},
   "source": [
    "## National Income Shares"
   ]
  },
  {
   "cell_type": "markdown",
   "metadata": {},
   "source": [
    "**Helper Functions**"
   ]
  },
  {
   "cell_type": "code",
   "execution_count": 227,
   "metadata": {
    "collapsed": true
   },
   "outputs": [],
   "source": [
    "def calculate_income_share(assumptions, year, p, top=True, t_func_diff=False, t_func=get_final_table):\n",
    "    \"\"\"\n",
    "    Args:\n",
    "        str (table_type): accepts only 'hh' for household or 'individual' for individual.\n",
    "        int (year): currently limited to 2004 - 2015.\n",
    "        float (percentile)\n",
    "        bool (top): getting top [percentile]% or bottom [percentile]%? defaults to top.\n",
    "        \n",
    "    Returns:\n",
    "        float: income share.\n",
    "    \"\"\"\n",
    "    if year == 2009:\n",
    "        print(\"No data for 2009-2010\")\n",
    "        return\n",
    "    if t_func_diff:\n",
    "        t = t_func(\"individual\", year)\n",
    "    else:\n",
    "        t = t_func(year, assumptions)\n",
    "    if top:\n",
    "        p_data, p_weights, i = top_percentiles(p, t[\"income\"], t[\"weights\"])\n",
    "    else:\n",
    "        p_data, p_weights, i = bottom_percentiles(p, t[\"income\"], t[\"weights\"])\n",
    "    partial_sum = weighted_sum(p_data, p_weights)\n",
    "    total_sum = weighted_sum(t[\"income\"], t[\"weights\"])\n",
    "    return round(partial_sum / (total_sum), 2)"
   ]
  },
  {
   "cell_type": "markdown",
   "metadata": {},
   "source": [
    "### Top 1% Income Share"
   ]
  },
  {
   "cell_type": "code",
   "execution_count": 228,
   "metadata": {
    "collapsed": false
   },
   "outputs": [],
   "source": [
    "# top 1 percent\n",
    "years = np.arange(2004, 2016, 1)\n",
    "index = np.argwhere(years==2009)\n",
    "years = np.delete(years, index)\n",
    "\n",
    "top_1_income_shares_salaried = []\n",
    "for y in years:\n",
    "    top_1_income_shares_salaried.append(calculate_income_share(\"salaried\", y, 0.01))\n",
    "    \n",
    "\n",
    "top_1_income_shares_nonsalaried = []\n",
    "for y in years:\n",
    "    top_1_income_shares_nonsalaried.append(calculate_income_share(\"nonsalaried\", y, 0.01))"
   ]
  },
  {
   "cell_type": "code",
   "execution_count": 229,
   "metadata": {
    "collapsed": false
   },
   "outputs": [
    {
     "data": {
      "application/vnd.plotly.v1+json": {
       "data": [
        {
         "name": "Top 1% [Salaried]",
         "type": "scatter",
         "x": [
          2004,
          2005,
          2006,
          2007,
          2008,
          2010,
          2011,
          2012,
          2013,
          2014,
          2015
         ],
         "y": [
          0.41,
          0.44,
          0.44,
          0.43,
          0.39,
          0.35,
          0.37,
          0.35,
          0.29,
          0.3,
          0.3
         ]
        },
        {
         "name": "Top 1% [Non-Salaried]",
         "type": "scatter",
         "x": [
          2004,
          2005,
          2006,
          2007,
          2008,
          2010,
          2011,
          2012,
          2013,
          2014,
          2015
         ],
         "y": [
          0.4,
          0.42,
          0.42,
          0.39,
          0.36,
          0.3,
          0.32,
          0.31,
          0.27,
          0.28,
          0.29
         ]
        }
       ],
       "layout": {
        "title": "Top 1% National Income Share in Pakistan",
        "xaxis": {
         "title": "Year"
        },
        "yaxis": {
         "title": "National Income Share"
        }
       }
      },
      "text/html": [
       "<div id=\"47ea5774-5a51-43c0-b27f-d10bd76069ec\" style=\"height: 525px; width: 100%;\" class=\"plotly-graph-div\"></div><script type=\"text/javascript\">require([\"plotly\"], function(Plotly) { window.PLOTLYENV=window.PLOTLYENV || {};window.PLOTLYENV.BASE_URL=\"https://plot.ly\";Plotly.newPlot(\"47ea5774-5a51-43c0-b27f-d10bd76069ec\", [{\"name\": \"Top 1% [Salaried]\", \"y\": [0.41, 0.44, 0.44, 0.43, 0.39, 0.35, 0.37, 0.35, 0.29, 0.3, 0.3], \"type\": \"scatter\", \"x\": [2004, 2005, 2006, 2007, 2008, 2010, 2011, 2012, 2013, 2014, 2015]}, {\"name\": \"Top 1% [Non-Salaried]\", \"y\": [0.4, 0.42, 0.42, 0.39, 0.36, 0.3, 0.32, 0.31, 0.27, 0.28, 0.29], \"type\": \"scatter\", \"x\": [2004, 2005, 2006, 2007, 2008, 2010, 2011, 2012, 2013, 2014, 2015]}], {\"xaxis\": {\"title\": \"Year\"}, \"title\": \"Top 1% National Income Share in Pakistan\", \"yaxis\": {\"title\": \"National Income Share\"}}, {\"showLink\": true, \"linkText\": \"Export to plot.ly\"})});</script>"
      ],
      "text/vnd.plotly.v1+html": [
       "<div id=\"47ea5774-5a51-43c0-b27f-d10bd76069ec\" style=\"height: 525px; width: 100%;\" class=\"plotly-graph-div\"></div><script type=\"text/javascript\">require([\"plotly\"], function(Plotly) { window.PLOTLYENV=window.PLOTLYENV || {};window.PLOTLYENV.BASE_URL=\"https://plot.ly\";Plotly.newPlot(\"47ea5774-5a51-43c0-b27f-d10bd76069ec\", [{\"name\": \"Top 1% [Salaried]\", \"y\": [0.41, 0.44, 0.44, 0.43, 0.39, 0.35, 0.37, 0.35, 0.29, 0.3, 0.3], \"type\": \"scatter\", \"x\": [2004, 2005, 2006, 2007, 2008, 2010, 2011, 2012, 2013, 2014, 2015]}, {\"name\": \"Top 1% [Non-Salaried]\", \"y\": [0.4, 0.42, 0.42, 0.39, 0.36, 0.3, 0.32, 0.31, 0.27, 0.28, 0.29], \"type\": \"scatter\", \"x\": [2004, 2005, 2006, 2007, 2008, 2010, 2011, 2012, 2013, 2014, 2015]}], {\"xaxis\": {\"title\": \"Year\"}, \"title\": \"Top 1% National Income Share in Pakistan\", \"yaxis\": {\"title\": \"National Income Share\"}}, {\"showLink\": true, \"linkText\": \"Export to plot.ly\"})});</script>"
      ]
     },
     "metadata": {},
     "output_type": "display_data"
    }
   ],
   "source": [
    "top_1_trace_salaried = go.Scatter(\n",
    "    x = years,\n",
    "    y = top_1_income_shares_salaried,\n",
    "    name = 'Top 1% [Salaried]'\n",
    ")\n",
    "\n",
    "top_1_trace_nonsalaried = go.Scatter(\n",
    "    x = years,\n",
    "    y = top_1_income_shares_nonsalaried,\n",
    "    name = 'Top 1% [Non-Salaried]'\n",
    ")\n",
    "\n",
    "layout = dict(title = 'Top 1% National Income Share in Pakistan',\n",
    "              xaxis = dict(title = 'Year'),\n",
    "              yaxis = dict(title = 'National Income Share'),\n",
    "              )\n",
    "data = [top_1_trace_salaried, top_1_trace_nonsalaried]\n",
    "top1_share = plotly.offline.iplot({\n",
    "    \"data\": data,\n",
    "    \"layout\": layout\n",
    "})\n",
    "top1_share"
   ]
  },
  {
   "cell_type": "markdown",
   "metadata": {},
   "source": [
    "### Top 0.1% Income Share"
   ]
  },
  {
   "cell_type": "code",
   "execution_count": 198,
   "metadata": {
    "collapsed": false
   },
   "outputs": [],
   "source": [
    "# top 0.1 percent\n",
    "years = np.arange(2004, 2016, 1)\n",
    "index = np.argwhere(years==2009)\n",
    "years = np.delete(years, index)\n",
    "\n",
    "top_01_income_shares_salaried = []\n",
    "for y in years:\n",
    "    top_01_income_shares_salaried.append(calculate_income_share(\"salaried\", y, 0.001))\n",
    "    \n",
    "top_01_income_shares_nonsalaried = []\n",
    "for y in years:\n",
    "    top_01_income_shares_nonsalaried.append(calculate_income_share(\"nonsalaried\", y, 0.001))"
   ]
  },
  {
   "cell_type": "code",
   "execution_count": 199,
   "metadata": {
    "collapsed": false,
    "scrolled": false
   },
   "outputs": [
    {
     "data": {
      "application/vnd.plotly.v1+json": {
       "data": [
        {
         "name": "Top 0.1% [Salaried]",
         "type": "scatter",
         "x": [
          2004,
          2005,
          2006,
          2007,
          2008,
          2010,
          2011,
          2012,
          2013,
          2014,
          2015
         ],
         "y": [
          0.14,
          0.14,
          0.14,
          0.13,
          0.15,
          0.12,
          0.14,
          0.16,
          0.12,
          0.13,
          0.13
         ]
        },
        {
         "name": "Top 0.1% [Non-Salaried]",
         "type": "scatter",
         "x": [
          2004,
          2005,
          2006,
          2007,
          2008,
          2010,
          2011,
          2012,
          2013,
          2014,
          2015
         ],
         "y": [
          0.13,
          0.12,
          0.13,
          0.15,
          0.14,
          0.1,
          0.12,
          0.15,
          0.11,
          0.12,
          0.13
         ]
        }
       ],
       "layout": {
        "title": "Top 0.1% National Income Share in Pakistan",
        "xaxis": {
         "title": "Year"
        },
        "yaxis": {
         "title": "National Income Share"
        }
       }
      },
      "text/html": [
       "<div id=\"9be40999-4f24-4d5a-bd3e-5c7c6794702a\" style=\"height: 525px; width: 100%;\" class=\"plotly-graph-div\"></div><script type=\"text/javascript\">require([\"plotly\"], function(Plotly) { window.PLOTLYENV=window.PLOTLYENV || {};window.PLOTLYENV.BASE_URL=\"https://plot.ly\";Plotly.newPlot(\"9be40999-4f24-4d5a-bd3e-5c7c6794702a\", [{\"name\": \"Top 0.1% [Salaried]\", \"y\": [0.14, 0.14, 0.14, 0.13, 0.15, 0.12, 0.14, 0.16, 0.12, 0.13, 0.13], \"type\": \"scatter\", \"x\": [2004, 2005, 2006, 2007, 2008, 2010, 2011, 2012, 2013, 2014, 2015]}, {\"name\": \"Top 0.1% [Non-Salaried]\", \"y\": [0.13, 0.12, 0.13, 0.15, 0.14, 0.1, 0.12, 0.15, 0.11, 0.12, 0.13], \"type\": \"scatter\", \"x\": [2004, 2005, 2006, 2007, 2008, 2010, 2011, 2012, 2013, 2014, 2015]}], {\"xaxis\": {\"title\": \"Year\"}, \"title\": \"Top 0.1% National Income Share in Pakistan\", \"yaxis\": {\"title\": \"National Income Share\"}}, {\"showLink\": true, \"linkText\": \"Export to plot.ly\"})});</script>"
      ],
      "text/vnd.plotly.v1+html": [
       "<div id=\"9be40999-4f24-4d5a-bd3e-5c7c6794702a\" style=\"height: 525px; width: 100%;\" class=\"plotly-graph-div\"></div><script type=\"text/javascript\">require([\"plotly\"], function(Plotly) { window.PLOTLYENV=window.PLOTLYENV || {};window.PLOTLYENV.BASE_URL=\"https://plot.ly\";Plotly.newPlot(\"9be40999-4f24-4d5a-bd3e-5c7c6794702a\", [{\"name\": \"Top 0.1% [Salaried]\", \"y\": [0.14, 0.14, 0.14, 0.13, 0.15, 0.12, 0.14, 0.16, 0.12, 0.13, 0.13], \"type\": \"scatter\", \"x\": [2004, 2005, 2006, 2007, 2008, 2010, 2011, 2012, 2013, 2014, 2015]}, {\"name\": \"Top 0.1% [Non-Salaried]\", \"y\": [0.13, 0.12, 0.13, 0.15, 0.14, 0.1, 0.12, 0.15, 0.11, 0.12, 0.13], \"type\": \"scatter\", \"x\": [2004, 2005, 2006, 2007, 2008, 2010, 2011, 2012, 2013, 2014, 2015]}], {\"xaxis\": {\"title\": \"Year\"}, \"title\": \"Top 0.1% National Income Share in Pakistan\", \"yaxis\": {\"title\": \"National Income Share\"}}, {\"showLink\": true, \"linkText\": \"Export to plot.ly\"})});</script>"
      ]
     },
     "metadata": {},
     "output_type": "display_data"
    }
   ],
   "source": [
    "top_01_trace_salaried = go.Scatter(\n",
    "    x = years,\n",
    "    y = top_01_income_shares_salaried,\n",
    "    name = \"Top 0.1% [Salaried]\"\n",
    ")\n",
    "\n",
    "top_01_trace_nonsalaried = go.Scatter(\n",
    "    x = years,\n",
    "    y = top_01_income_shares_nonsalaried,\n",
    "    name = \"Top 0.1% [Non-Salaried]\"\n",
    ")\n",
    "\n",
    "layout = dict(title = 'Top 0.1% National Income Share in Pakistan',\n",
    "              xaxis = dict(title = 'Year'),\n",
    "              yaxis = dict(title = 'National Income Share'),\n",
    "              )\n",
    "data = [top_01_trace_salaried, top_01_trace_nonsalaried]\n",
    "top01_share = plotly.offline.iplot({\n",
    "    \"data\": data,\n",
    "    \"layout\": layout\n",
    "})\n",
    "top01_share"
   ]
  },
  {
   "cell_type": "markdown",
   "metadata": {},
   "source": [
    "### Top 0.01% Income Share"
   ]
  },
  {
   "cell_type": "code",
   "execution_count": 200,
   "metadata": {
    "collapsed": false
   },
   "outputs": [],
   "source": [
    "# top 0.01 percent\n",
    "years = np.arange(2004, 2016, 1)\n",
    "index = np.argwhere(years==2009)\n",
    "years = np.delete(years, index)\n",
    "\n",
    "top_001_income_shares_salaried = []\n",
    "for y in years:\n",
    "    top_001_income_shares_salaried.append(calculate_income_share(\"salaried\", y, 0.0001))\n",
    "    \n",
    "top_001_income_shares_nonsalaried = []\n",
    "for y in years:\n",
    "    top_001_income_shares_nonsalaried.append(calculate_income_share(\"nonsalaried\", y, 0.0001))"
   ]
  },
  {
   "cell_type": "code",
   "execution_count": 201,
   "metadata": {
    "collapsed": false,
    "scrolled": false
   },
   "outputs": [
    {
     "data": {
      "application/vnd.plotly.v1+json": {
       "data": [
        {
         "name": "Top 0.01% [Salaried]",
         "type": "scatter",
         "x": [
          2004,
          2005,
          2006,
          2007,
          2008,
          2010,
          2011,
          2012,
          2013,
          2014,
          2015
         ],
         "y": [
          0.05,
          0.05,
          0.05,
          0.05,
          0.06,
          0.05,
          0.06,
          0.06,
          0.04,
          0.05,
          0.05
         ]
        },
        {
         "name": "Top 0.01% [Non-Salaried]",
         "type": "scatter",
         "x": [
          2004,
          2005,
          2006,
          2007,
          2008,
          2010,
          2011,
          2012,
          2013,
          2014,
          2015
         ],
         "y": [
          0.05,
          0.05,
          0.05,
          0.06,
          0.05,
          0.04,
          0.05,
          0.06,
          0.04,
          0.05,
          0.05
         ]
        }
       ],
       "layout": {
        "title": "Top 0.01% National Income Share in Pakistan",
        "xaxis": {
         "title": "Year"
        },
        "yaxis": {
         "title": "National Income Share"
        }
       }
      },
      "text/html": [
       "<div id=\"3c9451eb-6692-49e0-a145-14f6b2704dde\" style=\"height: 525px; width: 100%;\" class=\"plotly-graph-div\"></div><script type=\"text/javascript\">require([\"plotly\"], function(Plotly) { window.PLOTLYENV=window.PLOTLYENV || {};window.PLOTLYENV.BASE_URL=\"https://plot.ly\";Plotly.newPlot(\"3c9451eb-6692-49e0-a145-14f6b2704dde\", [{\"name\": \"Top 0.01% [Salaried]\", \"y\": [0.05, 0.05, 0.05, 0.05, 0.06, 0.05, 0.06, 0.06, 0.04, 0.05, 0.05], \"type\": \"scatter\", \"x\": [2004, 2005, 2006, 2007, 2008, 2010, 2011, 2012, 2013, 2014, 2015]}, {\"name\": \"Top 0.01% [Non-Salaried]\", \"y\": [0.05, 0.05, 0.05, 0.06, 0.05, 0.04, 0.05, 0.06, 0.04, 0.05, 0.05], \"type\": \"scatter\", \"x\": [2004, 2005, 2006, 2007, 2008, 2010, 2011, 2012, 2013, 2014, 2015]}], {\"xaxis\": {\"title\": \"Year\"}, \"title\": \"Top 0.01% National Income Share in Pakistan\", \"yaxis\": {\"title\": \"National Income Share\"}}, {\"showLink\": true, \"linkText\": \"Export to plot.ly\"})});</script>"
      ],
      "text/vnd.plotly.v1+html": [
       "<div id=\"3c9451eb-6692-49e0-a145-14f6b2704dde\" style=\"height: 525px; width: 100%;\" class=\"plotly-graph-div\"></div><script type=\"text/javascript\">require([\"plotly\"], function(Plotly) { window.PLOTLYENV=window.PLOTLYENV || {};window.PLOTLYENV.BASE_URL=\"https://plot.ly\";Plotly.newPlot(\"3c9451eb-6692-49e0-a145-14f6b2704dde\", [{\"name\": \"Top 0.01% [Salaried]\", \"y\": [0.05, 0.05, 0.05, 0.05, 0.06, 0.05, 0.06, 0.06, 0.04, 0.05, 0.05], \"type\": \"scatter\", \"x\": [2004, 2005, 2006, 2007, 2008, 2010, 2011, 2012, 2013, 2014, 2015]}, {\"name\": \"Top 0.01% [Non-Salaried]\", \"y\": [0.05, 0.05, 0.05, 0.06, 0.05, 0.04, 0.05, 0.06, 0.04, 0.05, 0.05], \"type\": \"scatter\", \"x\": [2004, 2005, 2006, 2007, 2008, 2010, 2011, 2012, 2013, 2014, 2015]}], {\"xaxis\": {\"title\": \"Year\"}, \"title\": \"Top 0.01% National Income Share in Pakistan\", \"yaxis\": {\"title\": \"National Income Share\"}}, {\"showLink\": true, \"linkText\": \"Export to plot.ly\"})});</script>"
      ]
     },
     "metadata": {},
     "output_type": "display_data"
    }
   ],
   "source": [
    "top_001_trace_salaried = go.Scatter(\n",
    "    x = years,\n",
    "    y = top_001_income_shares_salaried,\n",
    "    name = \"Top 0.01% [Salaried]\"\n",
    ")\n",
    "\n",
    "top_001_trace_nonsalaried = go.Scatter(\n",
    "    x = years,\n",
    "    y = top_001_income_shares_nonsalaried,\n",
    "    name = \"Top 0.01% [Non-Salaried]\"\n",
    ")\n",
    "\n",
    "layout = dict(title = 'Top 0.01% National Income Share in Pakistan',\n",
    "              xaxis = dict(title = 'Year'),\n",
    "              yaxis = dict(title = 'National Income Share'),\n",
    "              )\n",
    "data = [top_001_trace_salaried, top_001_trace_nonsalaried]\n",
    "top001_share = plotly.offline.iplot({\n",
    "    \"data\": data,\n",
    "    \"layout\": layout\n",
    "})\n",
    "top001_share"
   ]
  },
  {
   "cell_type": "markdown",
   "metadata": {},
   "source": [
    "### Top 1% and Top 0.1% and Top 0.01% Income Shares"
   ]
  },
  {
   "cell_type": "code",
   "execution_count": 202,
   "metadata": {
    "collapsed": false
   },
   "outputs": [
    {
     "data": {
      "application/vnd.plotly.v1+json": {
       "data": [
        {
         "name": "Top 1% [Salaried]",
         "type": "scatter",
         "x": [
          2004,
          2005,
          2006,
          2007,
          2008,
          2010,
          2011,
          2012,
          2013,
          2014,
          2015
         ],
         "y": [
          0.3,
          0.3,
          0.3,
          0.29,
          0.33,
          0.25,
          0.3,
          0.34,
          0.27,
          0.3,
          0.3
         ]
        },
        {
         "name": "Top 1% [Non-Salaried]",
         "type": "scatter",
         "x": [
          2004,
          2005,
          2006,
          2007,
          2008,
          2010,
          2011,
          2012,
          2013,
          2014,
          2015
         ],
         "y": [
          0.27,
          0.26,
          0.27,
          0.32,
          0.33,
          0.2,
          0.25,
          0.31,
          0.25,
          0.29,
          0.29
         ]
        },
        {
         "name": "Top 0.1% [Salaried]",
         "type": "scatter",
         "x": [
          2004,
          2005,
          2006,
          2007,
          2008,
          2010,
          2011,
          2012,
          2013,
          2014,
          2015
         ],
         "y": [
          0.14,
          0.14,
          0.14,
          0.13,
          0.15,
          0.12,
          0.14,
          0.16,
          0.12,
          0.13,
          0.13
         ]
        },
        {
         "name": "Top 0.1% [Non-Salaried]",
         "type": "scatter",
         "x": [
          2004,
          2005,
          2006,
          2007,
          2008,
          2010,
          2011,
          2012,
          2013,
          2014,
          2015
         ],
         "y": [
          0.13,
          0.12,
          0.13,
          0.15,
          0.14,
          0.1,
          0.12,
          0.15,
          0.11,
          0.12,
          0.13
         ]
        },
        {
         "name": "Top 0.01% [Salaried]",
         "type": "scatter",
         "x": [
          2004,
          2005,
          2006,
          2007,
          2008,
          2010,
          2011,
          2012,
          2013,
          2014,
          2015
         ],
         "y": [
          0.05,
          0.05,
          0.05,
          0.05,
          0.06,
          0.05,
          0.06,
          0.06,
          0.04,
          0.05,
          0.05
         ]
        },
        {
         "name": "Top 0.01% [Non-Salaried]",
         "type": "scatter",
         "x": [
          2004,
          2005,
          2006,
          2007,
          2008,
          2010,
          2011,
          2012,
          2013,
          2014,
          2015
         ],
         "y": [
          0.05,
          0.05,
          0.05,
          0.06,
          0.05,
          0.04,
          0.05,
          0.06,
          0.04,
          0.05,
          0.05
         ]
        }
       ],
       "layout": {
        "title": "Top 1%, Top 0.1% and Top 0.01% National Income Shares in Pakistan",
        "xaxis": {
         "title": "Year"
        },
        "yaxis": {
         "title": "National Income Share"
        }
       }
      },
      "text/html": [
       "<div id=\"e816a76b-0405-43c2-974d-4a5ada1f4f67\" style=\"height: 525px; width: 100%;\" class=\"plotly-graph-div\"></div><script type=\"text/javascript\">require([\"plotly\"], function(Plotly) { window.PLOTLYENV=window.PLOTLYENV || {};window.PLOTLYENV.BASE_URL=\"https://plot.ly\";Plotly.newPlot(\"e816a76b-0405-43c2-974d-4a5ada1f4f67\", [{\"name\": \"Top 1% [Salaried]\", \"y\": [0.3, 0.3, 0.3, 0.29, 0.33, 0.25, 0.3, 0.34, 0.27, 0.3, 0.3], \"type\": \"scatter\", \"x\": [2004, 2005, 2006, 2007, 2008, 2010, 2011, 2012, 2013, 2014, 2015]}, {\"name\": \"Top 1% [Non-Salaried]\", \"y\": [0.27, 0.26, 0.27, 0.32, 0.33, 0.2, 0.25, 0.31, 0.25, 0.29, 0.29], \"type\": \"scatter\", \"x\": [2004, 2005, 2006, 2007, 2008, 2010, 2011, 2012, 2013, 2014, 2015]}, {\"name\": \"Top 0.1% [Salaried]\", \"y\": [0.14, 0.14, 0.14, 0.13, 0.15, 0.12, 0.14, 0.16, 0.12, 0.13, 0.13], \"type\": \"scatter\", \"x\": [2004, 2005, 2006, 2007, 2008, 2010, 2011, 2012, 2013, 2014, 2015]}, {\"name\": \"Top 0.1% [Non-Salaried]\", \"y\": [0.13, 0.12, 0.13, 0.15, 0.14, 0.1, 0.12, 0.15, 0.11, 0.12, 0.13], \"type\": \"scatter\", \"x\": [2004, 2005, 2006, 2007, 2008, 2010, 2011, 2012, 2013, 2014, 2015]}, {\"name\": \"Top 0.01% [Salaried]\", \"y\": [0.05, 0.05, 0.05, 0.05, 0.06, 0.05, 0.06, 0.06, 0.04, 0.05, 0.05], \"type\": \"scatter\", \"x\": [2004, 2005, 2006, 2007, 2008, 2010, 2011, 2012, 2013, 2014, 2015]}, {\"name\": \"Top 0.01% [Non-Salaried]\", \"y\": [0.05, 0.05, 0.05, 0.06, 0.05, 0.04, 0.05, 0.06, 0.04, 0.05, 0.05], \"type\": \"scatter\", \"x\": [2004, 2005, 2006, 2007, 2008, 2010, 2011, 2012, 2013, 2014, 2015]}], {\"xaxis\": {\"title\": \"Year\"}, \"title\": \"Top 1%, Top 0.1% and Top 0.01% National Income Shares in Pakistan\", \"yaxis\": {\"title\": \"National Income Share\"}}, {\"showLink\": true, \"linkText\": \"Export to plot.ly\"})});</script>"
      ],
      "text/vnd.plotly.v1+html": [
       "<div id=\"e816a76b-0405-43c2-974d-4a5ada1f4f67\" style=\"height: 525px; width: 100%;\" class=\"plotly-graph-div\"></div><script type=\"text/javascript\">require([\"plotly\"], function(Plotly) { window.PLOTLYENV=window.PLOTLYENV || {};window.PLOTLYENV.BASE_URL=\"https://plot.ly\";Plotly.newPlot(\"e816a76b-0405-43c2-974d-4a5ada1f4f67\", [{\"name\": \"Top 1% [Salaried]\", \"y\": [0.3, 0.3, 0.3, 0.29, 0.33, 0.25, 0.3, 0.34, 0.27, 0.3, 0.3], \"type\": \"scatter\", \"x\": [2004, 2005, 2006, 2007, 2008, 2010, 2011, 2012, 2013, 2014, 2015]}, {\"name\": \"Top 1% [Non-Salaried]\", \"y\": [0.27, 0.26, 0.27, 0.32, 0.33, 0.2, 0.25, 0.31, 0.25, 0.29, 0.29], \"type\": \"scatter\", \"x\": [2004, 2005, 2006, 2007, 2008, 2010, 2011, 2012, 2013, 2014, 2015]}, {\"name\": \"Top 0.1% [Salaried]\", \"y\": [0.14, 0.14, 0.14, 0.13, 0.15, 0.12, 0.14, 0.16, 0.12, 0.13, 0.13], \"type\": \"scatter\", \"x\": [2004, 2005, 2006, 2007, 2008, 2010, 2011, 2012, 2013, 2014, 2015]}, {\"name\": \"Top 0.1% [Non-Salaried]\", \"y\": [0.13, 0.12, 0.13, 0.15, 0.14, 0.1, 0.12, 0.15, 0.11, 0.12, 0.13], \"type\": \"scatter\", \"x\": [2004, 2005, 2006, 2007, 2008, 2010, 2011, 2012, 2013, 2014, 2015]}, {\"name\": \"Top 0.01% [Salaried]\", \"y\": [0.05, 0.05, 0.05, 0.05, 0.06, 0.05, 0.06, 0.06, 0.04, 0.05, 0.05], \"type\": \"scatter\", \"x\": [2004, 2005, 2006, 2007, 2008, 2010, 2011, 2012, 2013, 2014, 2015]}, {\"name\": \"Top 0.01% [Non-Salaried]\", \"y\": [0.05, 0.05, 0.05, 0.06, 0.05, 0.04, 0.05, 0.06, 0.04, 0.05, 0.05], \"type\": \"scatter\", \"x\": [2004, 2005, 2006, 2007, 2008, 2010, 2011, 2012, 2013, 2014, 2015]}], {\"xaxis\": {\"title\": \"Year\"}, \"title\": \"Top 1%, Top 0.1% and Top 0.01% National Income Shares in Pakistan\", \"yaxis\": {\"title\": \"National Income Share\"}}, {\"showLink\": true, \"linkText\": \"Export to plot.ly\"})});</script>"
      ]
     },
     "metadata": {},
     "output_type": "display_data"
    }
   ],
   "source": [
    "layout = dict(title = 'Top 1%, Top 0.1% and Top 0.01% National Income Shares in Pakistan',\n",
    "              xaxis = dict(title = 'Year'),\n",
    "              yaxis = dict(title = 'National Income Share'),\n",
    "              )\n",
    "data = [top_1_trace_salaried, top_1_trace_nonsalaried, top_01_trace_salaried, top_01_trace_nonsalaried, top_001_trace_salaried, top_001_trace_nonsalaried]\n",
    "top1_01_001_share = plotly.offline.iplot({\n",
    "    \"data\": data,\n",
    "    \"layout\": layout\n",
    "})\n",
    "top1_01_001_share"
   ]
  },
  {
   "cell_type": "markdown",
   "metadata": {},
   "source": [
    "### Top 1% and Bottom 50% Income Shares"
   ]
  },
  {
   "cell_type": "code",
   "execution_count": 204,
   "metadata": {
    "collapsed": true
   },
   "outputs": [],
   "source": [
    "# bottom 50 percent\n",
    "years = np.arange(2004, 2016, 1)\n",
    "index = np.argwhere(years==2009)\n",
    "years = np.delete(years, index)\n",
    "\n",
    "bottom_50_income_shares_salaried = []\n",
    "for y in years:\n",
    "    bottom_50_income_shares_salaried.append(calculate_income_share(\"salaried\", y, 0.5, top=False))\n",
    "\n",
    "bottom_50_income_shares_nonsalaried = []\n",
    "for y in years:\n",
    "    bottom_50_income_shares_nonsalaried.append(calculate_income_share(\"nonsalaried\", y, 0.5, top=False))"
   ]
  },
  {
   "cell_type": "code",
   "execution_count": 205,
   "metadata": {
    "collapsed": false
   },
   "outputs": [
    {
     "data": {
      "application/vnd.plotly.v1+json": {
       "data": [
        {
         "name": "Top 1% [Salaried]",
         "type": "scatter",
         "x": [
          2004,
          2005,
          2006,
          2007,
          2008,
          2010,
          2011,
          2012,
          2013,
          2014,
          2015
         ],
         "y": [
          0.3,
          0.3,
          0.3,
          0.29,
          0.33,
          0.25,
          0.3,
          0.34,
          0.27,
          0.3,
          0.3
         ]
        },
        {
         "name": "Top 1% [Non-Salaried]",
         "type": "scatter",
         "x": [
          2004,
          2005,
          2006,
          2007,
          2008,
          2010,
          2011,
          2012,
          2013,
          2014,
          2015
         ],
         "y": [
          0.27,
          0.26,
          0.27,
          0.32,
          0.33,
          0.2,
          0.25,
          0.31,
          0.25,
          0.29,
          0.29
         ]
        },
        {
         "name": "Bottom 50% [Salaried]",
         "type": "scatter",
         "x": [
          2004,
          2005,
          2006,
          2007,
          2008,
          2010,
          2011,
          2012,
          2013,
          2014,
          2015
         ],
         "y": [
          0.13,
          0.12,
          0.08,
          0.13,
          0.11,
          0.16,
          0.13,
          0.11,
          0.13,
          0.12,
          0.12
         ]
        },
        {
         "name": "Bottom 50% [Non-Salaried]",
         "type": "scatter",
         "x": [
          2004,
          2005,
          2006,
          2007,
          2008,
          2010,
          2011,
          2012,
          2013,
          2014,
          2015
         ],
         "y": [
          0.15,
          0.14,
          0.1,
          0.11,
          0.09,
          0.17,
          0.14,
          0.13,
          0.14,
          0.13,
          0.13
         ]
        }
       ],
       "layout": {
        "title": "Top 1% and Bottom 50% National Income Shares in Pakistan",
        "xaxis": {
         "title": "Year"
        },
        "yaxis": {
         "title": "National Income Share"
        }
       }
      },
      "text/html": [
       "<div id=\"39af8f16-2044-4ea5-bb8b-a2ba8c0c4ce6\" style=\"height: 525px; width: 100%;\" class=\"plotly-graph-div\"></div><script type=\"text/javascript\">require([\"plotly\"], function(Plotly) { window.PLOTLYENV=window.PLOTLYENV || {};window.PLOTLYENV.BASE_URL=\"https://plot.ly\";Plotly.newPlot(\"39af8f16-2044-4ea5-bb8b-a2ba8c0c4ce6\", [{\"name\": \"Top 1% [Salaried]\", \"y\": [0.3, 0.3, 0.3, 0.29, 0.33, 0.25, 0.3, 0.34, 0.27, 0.3, 0.3], \"type\": \"scatter\", \"x\": [2004, 2005, 2006, 2007, 2008, 2010, 2011, 2012, 2013, 2014, 2015]}, {\"name\": \"Top 1% [Non-Salaried]\", \"y\": [0.27, 0.26, 0.27, 0.32, 0.33, 0.2, 0.25, 0.31, 0.25, 0.29, 0.29], \"type\": \"scatter\", \"x\": [2004, 2005, 2006, 2007, 2008, 2010, 2011, 2012, 2013, 2014, 2015]}, {\"name\": \"Bottom 50% [Salaried]\", \"y\": [0.13, 0.12, 0.08, 0.13, 0.11, 0.16, 0.13, 0.11, 0.13, 0.12, 0.12], \"type\": \"scatter\", \"x\": [2004, 2005, 2006, 2007, 2008, 2010, 2011, 2012, 2013, 2014, 2015]}, {\"name\": \"Bottom 50% [Non-Salaried]\", \"y\": [0.15, 0.14, 0.1, 0.11, 0.09, 0.17, 0.14, 0.13, 0.14, 0.13, 0.13], \"type\": \"scatter\", \"x\": [2004, 2005, 2006, 2007, 2008, 2010, 2011, 2012, 2013, 2014, 2015]}], {\"xaxis\": {\"title\": \"Year\"}, \"title\": \"Top 1% and Bottom 50% National Income Shares in Pakistan\", \"yaxis\": {\"title\": \"National Income Share\"}}, {\"showLink\": true, \"linkText\": \"Export to plot.ly\"})});</script>"
      ],
      "text/vnd.plotly.v1+html": [
       "<div id=\"39af8f16-2044-4ea5-bb8b-a2ba8c0c4ce6\" style=\"height: 525px; width: 100%;\" class=\"plotly-graph-div\"></div><script type=\"text/javascript\">require([\"plotly\"], function(Plotly) { window.PLOTLYENV=window.PLOTLYENV || {};window.PLOTLYENV.BASE_URL=\"https://plot.ly\";Plotly.newPlot(\"39af8f16-2044-4ea5-bb8b-a2ba8c0c4ce6\", [{\"name\": \"Top 1% [Salaried]\", \"y\": [0.3, 0.3, 0.3, 0.29, 0.33, 0.25, 0.3, 0.34, 0.27, 0.3, 0.3], \"type\": \"scatter\", \"x\": [2004, 2005, 2006, 2007, 2008, 2010, 2011, 2012, 2013, 2014, 2015]}, {\"name\": \"Top 1% [Non-Salaried]\", \"y\": [0.27, 0.26, 0.27, 0.32, 0.33, 0.2, 0.25, 0.31, 0.25, 0.29, 0.29], \"type\": \"scatter\", \"x\": [2004, 2005, 2006, 2007, 2008, 2010, 2011, 2012, 2013, 2014, 2015]}, {\"name\": \"Bottom 50% [Salaried]\", \"y\": [0.13, 0.12, 0.08, 0.13, 0.11, 0.16, 0.13, 0.11, 0.13, 0.12, 0.12], \"type\": \"scatter\", \"x\": [2004, 2005, 2006, 2007, 2008, 2010, 2011, 2012, 2013, 2014, 2015]}, {\"name\": \"Bottom 50% [Non-Salaried]\", \"y\": [0.15, 0.14, 0.1, 0.11, 0.09, 0.17, 0.14, 0.13, 0.14, 0.13, 0.13], \"type\": \"scatter\", \"x\": [2004, 2005, 2006, 2007, 2008, 2010, 2011, 2012, 2013, 2014, 2015]}], {\"xaxis\": {\"title\": \"Year\"}, \"title\": \"Top 1% and Bottom 50% National Income Shares in Pakistan\", \"yaxis\": {\"title\": \"National Income Share\"}}, {\"showLink\": true, \"linkText\": \"Export to plot.ly\"})});</script>"
      ]
     },
     "metadata": {},
     "output_type": "display_data"
    }
   ],
   "source": [
    "bottom_50_trace_salaried = go.Scatter(\n",
    "    x = years,\n",
    "    y = bottom_50_income_shares_salaried,\n",
    "    name = 'Bottom 50% [Salaried]'\n",
    ")\n",
    "\n",
    "bottom_50_trace_nonsalaried = go.Scatter(\n",
    "    x = years,\n",
    "    y = bottom_50_income_shares_nonsalaried,\n",
    "    name = 'Bottom 50% [Non-Salaried]'\n",
    ")\n",
    "\n",
    "layout = dict(title = 'Top 1% and Bottom 50% National Income Shares in Pakistan',\n",
    "              xaxis = dict(title = 'Year'),\n",
    "              yaxis = dict(title = 'National Income Share'),\n",
    "              )\n",
    "data = [top_1_trace_salaried, top_1_trace_nonsalaried, bottom_50_trace_salaried, bottom_50_trace_nonsalaried]\n",
    "top1_bottom50_share = plotly.offline.iplot({\n",
    "    \"data\": data,\n",
    "    \"layout\": layout\n",
    "})\n",
    "top1_bottom50_share"
   ]
  },
  {
   "cell_type": "markdown",
   "metadata": {},
   "source": [
    "### Top 10% and Middle 40% Income Shares"
   ]
  },
  {
   "cell_type": "code",
   "execution_count": 92,
   "metadata": {
    "collapsed": false
   },
   "outputs": [],
   "source": [
    "# top 10 percent\n",
    "years = np.arange(2004, 2016, 1)\n",
    "index = np.argwhere(years==2009)\n",
    "years = np.delete(years, index)\n",
    "\n",
    "top_10_income_shares_salaried = []\n",
    "for y in years:\n",
    "    top_10_income_shares_salaried.append(calculate_income_share(\"salaried\", y, 0.1))\n",
    "    \n",
    "top_10_income_shares_nonsalaried = []\n",
    "for y in years:\n",
    "    top_10_income_shares_nonsalaried.append(calculate_income_share(\"nonsalaried\", y, 0.1))"
   ]
  },
  {
   "cell_type": "code",
   "execution_count": 93,
   "metadata": {
    "collapsed": true
   },
   "outputs": [],
   "source": [
    "# middle 40 percent\n",
    "years = np.arange(2004, 2016, 1)\n",
    "index = np.argwhere(years==2009)\n",
    "years = np.delete(years, index)\n",
    "\n",
    "middle_40_income_shares_salaried = []\n",
    "for y in years:\n",
    "    top30 = calculate_income_share(\"salaried\", y, 0.3)\n",
    "    bottom30 = calculate_income_share(\"salaried\", y, 0.3, top=False)\n",
    "    middle_40_income_shares_salaried.append(1 - (top30 + bottom30))\n",
    "    \n",
    "middle_40_income_shares_nonsalaried = []\n",
    "for y in years:\n",
    "    top30 = calculate_income_share(\"nonsalaried\", y, 0.3)\n",
    "    bottom30 = calculate_income_share(\"nonsalaried\", y, 0.3, top=False)\n",
    "    middle_40_income_shares_nonsalaried.append(1 - (top30 + bottom30))"
   ]
  },
  {
   "cell_type": "code",
   "execution_count": 163,
   "metadata": {
    "collapsed": false,
    "scrolled": false
   },
   "outputs": [
    {
     "data": {
      "application/vnd.plotly.v1+json": {
       "data": [
        {
         "name": "Top 10% [Salaried]",
         "type": "scatter",
         "x": [
          2004,
          2005,
          2006,
          2007,
          2008,
          2010,
          2011,
          2012,
          2013,
          2014,
          2015
         ],
         "y": [
          0.57,
          0.55,
          0.56,
          0.53,
          0.62,
          0.46,
          0.54,
          0.62,
          0.52,
          0.6,
          0.59
         ]
        },
        {
         "name": "Top 10% [Non-Salaried]",
         "type": "scatter",
         "x": [
          2004,
          2005,
          2006,
          2007,
          2008,
          2010,
          2011,
          2012,
          2013,
          2014,
          2015
         ],
         "y": [
          0.51,
          0.48,
          0.5,
          0.59,
          0.62,
          0.42,
          0.48,
          0.55,
          0.48,
          0.56,
          0.55
         ]
        },
        {
         "name": "Middle 40% [Salaried]",
         "type": "scatter",
         "x": [
          2004,
          2005,
          2006,
          2007,
          2008,
          2010,
          2011,
          2012,
          2013,
          2014,
          2015
         ],
         "y": [
          0.19999999999999996,
          0.20999999999999996,
          0.19999999999999996,
          0.21999999999999997,
          0.15999999999999992,
          0.24,
          0.19999999999999996,
          0.16999999999999993,
          0.21999999999999997,
          0.16999999999999993,
          0.17999999999999994
         ]
        },
        {
         "name": "Middle 40% [Non-Salaried]",
         "type": "scatter",
         "x": [
          2004,
          2005,
          2006,
          2007,
          2008,
          2010,
          2011,
          2012,
          2013,
          2014,
          2015
         ],
         "y": [
          0.22999999999999998,
          0.22999999999999998,
          0.24,
          0.17999999999999994,
          0.14,
          0.26,
          0.22999999999999998,
          0.19999999999999996,
          0.22999999999999998,
          0.18999999999999995,
          0.20999999999999996
         ]
        }
       ],
       "layout": {
        "title": "Top 10% and Middle 40% National Income Shares in Pakistan",
        "xaxis": {
         "title": "Year"
        },
        "yaxis": {
         "title": "National Income Share"
        }
       }
      },
      "text/html": [
       "<div id=\"f0f6f810-6bf3-46c6-8e59-705956e848fc\" style=\"height: 525px; width: 100%;\" class=\"plotly-graph-div\"></div><script type=\"text/javascript\">require([\"plotly\"], function(Plotly) { window.PLOTLYENV=window.PLOTLYENV || {};window.PLOTLYENV.BASE_URL=\"https://plot.ly\";Plotly.newPlot(\"f0f6f810-6bf3-46c6-8e59-705956e848fc\", [{\"name\": \"Top 10% [Salaried]\", \"y\": [0.57, 0.55, 0.56, 0.53, 0.62, 0.46, 0.54, 0.62, 0.52, 0.6, 0.59], \"type\": \"scatter\", \"x\": [2004, 2005, 2006, 2007, 2008, 2010, 2011, 2012, 2013, 2014, 2015]}, {\"name\": \"Top 10% [Non-Salaried]\", \"y\": [0.51, 0.48, 0.5, 0.59, 0.62, 0.42, 0.48, 0.55, 0.48, 0.56, 0.55], \"type\": \"scatter\", \"x\": [2004, 2005, 2006, 2007, 2008, 2010, 2011, 2012, 2013, 2014, 2015]}, {\"name\": \"Middle 40% [Salaried]\", \"y\": [0.19999999999999996, 0.20999999999999996, 0.19999999999999996, 0.21999999999999997, 0.15999999999999992, 0.24, 0.19999999999999996, 0.16999999999999993, 0.21999999999999997, 0.16999999999999993, 0.17999999999999994], \"type\": \"scatter\", \"x\": [2004, 2005, 2006, 2007, 2008, 2010, 2011, 2012, 2013, 2014, 2015]}, {\"name\": \"Middle 40% [Non-Salaried]\", \"y\": [0.22999999999999998, 0.22999999999999998, 0.24, 0.17999999999999994, 0.14, 0.26, 0.22999999999999998, 0.19999999999999996, 0.22999999999999998, 0.18999999999999995, 0.20999999999999996], \"type\": \"scatter\", \"x\": [2004, 2005, 2006, 2007, 2008, 2010, 2011, 2012, 2013, 2014, 2015]}], {\"xaxis\": {\"title\": \"Year\"}, \"title\": \"Top 10% and Middle 40% National Income Shares in Pakistan\", \"yaxis\": {\"title\": \"National Income Share\"}}, {\"showLink\": true, \"linkText\": \"Export to plot.ly\"})});</script>"
      ],
      "text/vnd.plotly.v1+html": [
       "<div id=\"f0f6f810-6bf3-46c6-8e59-705956e848fc\" style=\"height: 525px; width: 100%;\" class=\"plotly-graph-div\"></div><script type=\"text/javascript\">require([\"plotly\"], function(Plotly) { window.PLOTLYENV=window.PLOTLYENV || {};window.PLOTLYENV.BASE_URL=\"https://plot.ly\";Plotly.newPlot(\"f0f6f810-6bf3-46c6-8e59-705956e848fc\", [{\"name\": \"Top 10% [Salaried]\", \"y\": [0.57, 0.55, 0.56, 0.53, 0.62, 0.46, 0.54, 0.62, 0.52, 0.6, 0.59], \"type\": \"scatter\", \"x\": [2004, 2005, 2006, 2007, 2008, 2010, 2011, 2012, 2013, 2014, 2015]}, {\"name\": \"Top 10% [Non-Salaried]\", \"y\": [0.51, 0.48, 0.5, 0.59, 0.62, 0.42, 0.48, 0.55, 0.48, 0.56, 0.55], \"type\": \"scatter\", \"x\": [2004, 2005, 2006, 2007, 2008, 2010, 2011, 2012, 2013, 2014, 2015]}, {\"name\": \"Middle 40% [Salaried]\", \"y\": [0.19999999999999996, 0.20999999999999996, 0.19999999999999996, 0.21999999999999997, 0.15999999999999992, 0.24, 0.19999999999999996, 0.16999999999999993, 0.21999999999999997, 0.16999999999999993, 0.17999999999999994], \"type\": \"scatter\", \"x\": [2004, 2005, 2006, 2007, 2008, 2010, 2011, 2012, 2013, 2014, 2015]}, {\"name\": \"Middle 40% [Non-Salaried]\", \"y\": [0.22999999999999998, 0.22999999999999998, 0.24, 0.17999999999999994, 0.14, 0.26, 0.22999999999999998, 0.19999999999999996, 0.22999999999999998, 0.18999999999999995, 0.20999999999999996], \"type\": \"scatter\", \"x\": [2004, 2005, 2006, 2007, 2008, 2010, 2011, 2012, 2013, 2014, 2015]}], {\"xaxis\": {\"title\": \"Year\"}, \"title\": \"Top 10% and Middle 40% National Income Shares in Pakistan\", \"yaxis\": {\"title\": \"National Income Share\"}}, {\"showLink\": true, \"linkText\": \"Export to plot.ly\"})});</script>"
      ]
     },
     "metadata": {},
     "output_type": "display_data"
    }
   ],
   "source": [
    "top_10_trace_salaried = go.Scatter(\n",
    "    x = years,\n",
    "    y = top_10_income_shares_salaried,\n",
    "    name = \"Top 10% [Salaried]\"\n",
    ")\n",
    "\n",
    "top_10_trace_nonsalaried = go.Scatter(\n",
    "    x = years,\n",
    "    y = top_10_income_shares_nonsalaried,\n",
    "    name = \"Top 10% [Non-Salaried]\"\n",
    ")\n",
    "\n",
    "middle_40_trace_salaried = go.Scatter(\n",
    "    x = years,\n",
    "    y = middle_40_income_shares_salaried,\n",
    "    name = \"Middle 40% [Salaried]\"\n",
    ")\n",
    "\n",
    "middle_40_trace_nonsalaried = go.Scatter(\n",
    "    x = years,\n",
    "    y = middle_40_income_shares_nonsalaried,\n",
    "    name = \"Middle 40% [Non-Salaried]\"\n",
    ")\n",
    "\n",
    "layout = dict(title = 'Top 10% and Middle 40% National Income Shares in Pakistan',\n",
    "              xaxis = dict(title = 'Year'),\n",
    "              yaxis = dict(title = 'National Income Share'),\n",
    "              )\n",
    "data = [top_10_trace_salaried, top_10_trace_nonsalaried, middle_40_trace_salaried, middle_40_trace_nonsalaried]\n",
    "top10_middle40_share = plotly.offline.iplot({\n",
    "    \"data\": data,\n",
    "    \"layout\": layout\n",
    "})\n",
    "top10_middle40_share"
   ]
  },
  {
   "cell_type": "markdown",
   "metadata": {},
   "source": [
    "## Miscellaneous"
   ]
  },
  {
   "cell_type": "markdown",
   "metadata": {},
   "source": [
    "**Helper Functions**"
   ]
  },
  {
   "cell_type": "code",
   "execution_count": 95,
   "metadata": {
    "collapsed": true
   },
   "outputs": [],
   "source": [
    "def get_survey_table(table_type, start_year):  \n",
    "    \"\"\"\n",
    "    Sorted by income.\n",
    "    \n",
    "    Args:\n",
    "        str (table_type): accepts only 'hh' for household or 'individual' for individual.\n",
    "        int (start_year): currently limited to 2004 - 2015.\n",
    "\n",
    "    Returns:\n",
    "        pd.DataFrame: dataframe corresponding to table.\n",
    "    \"\"\"\n",
    "    t = eval(table_type + \"_balance_sheet_\" + str(start_year) + \"_\" + (str(start_year+1)[-2:]))\n",
    "    t = t.sort_values(by=['income']).reset_index().drop([\"index\"], axis=1)\n",
    "    return t"
   ]
  },
  {
   "cell_type": "markdown",
   "metadata": {},
   "source": [
    "### National Income Shares in Pakistan, 2015"
   ]
  },
  {
   "cell_type": "markdown",
   "metadata": {},
   "source": [
    "We can see how our tax data corrects the survey data. The change is rather significant. We will show a few different splits."
   ]
  },
  {
   "cell_type": "code",
   "execution_count": 166,
   "metadata": {
    "collapsed": false
   },
   "outputs": [
    {
     "data": {
      "application/vnd.plotly.v1+json": {
       "data": [
        {
         "marker": {
          "color": "rgb(31, 119, 180)"
         },
         "name": "Bottom 90% contribution",
         "type": "bar",
         "x": [
          "PSLM HIES Survey",
          "Constructed Survey and Tax Data"
         ],
         "y": [
          0.64,
          0.42
         ]
        },
        {
         "marker": {
          "color": "rgb(214, 39, 40)"
         },
         "name": "Top 10% Contribution",
         "type": "bar",
         "x": [
          "PSLM HIES Survey",
          "Constructed Survey and Tax Data"
         ],
         "y": [
          0.36,
          0.58
         ]
        }
       ],
       "layout": {
        "barmode": "stack",
        "title": "National Income Shares in Pakistan, Top 10%, Bottom 50%, 2015",
        "yaxis": {
         "title": "Income Share"
        }
       }
      },
      "text/html": [
       "<div id=\"1094e867-4e5c-42c8-a42c-df3031c7fd79\" style=\"height: 525px; width: 100%;\" class=\"plotly-graph-div\"></div><script type=\"text/javascript\">require([\"plotly\"], function(Plotly) { window.PLOTLYENV=window.PLOTLYENV || {};window.PLOTLYENV.BASE_URL=\"https://plot.ly\";Plotly.newPlot(\"1094e867-4e5c-42c8-a42c-df3031c7fd79\", [{\"name\": \"Bottom 90% contribution\", \"y\": [0.64, 0.42], \"type\": \"bar\", \"marker\": {\"color\": \"rgb(31, 119, 180)\"}, \"x\": [\"PSLM HIES Survey\", \"Constructed Survey and Tax Data\"]}, {\"name\": \"Top 10% Contribution\", \"y\": [0.36, 0.58], \"type\": \"bar\", \"marker\": {\"color\": \"rgb(214, 39, 40)\"}, \"x\": [\"PSLM HIES Survey\", \"Constructed Survey and Tax Data\"]}], {\"barmode\": \"stack\", \"title\": \"National Income Shares in Pakistan, Top 10%, Bottom 50%, 2015\", \"yaxis\": {\"title\": \"Income Share\"}}, {\"showLink\": true, \"linkText\": \"Export to plot.ly\"})});</script>"
      ],
      "text/vnd.plotly.v1+html": [
       "<div id=\"1094e867-4e5c-42c8-a42c-df3031c7fd79\" style=\"height: 525px; width: 100%;\" class=\"plotly-graph-div\"></div><script type=\"text/javascript\">require([\"plotly\"], function(Plotly) { window.PLOTLYENV=window.PLOTLYENV || {};window.PLOTLYENV.BASE_URL=\"https://plot.ly\";Plotly.newPlot(\"1094e867-4e5c-42c8-a42c-df3031c7fd79\", [{\"name\": \"Bottom 90% contribution\", \"y\": [0.64, 0.42], \"type\": \"bar\", \"marker\": {\"color\": \"rgb(31, 119, 180)\"}, \"x\": [\"PSLM HIES Survey\", \"Constructed Survey and Tax Data\"]}, {\"name\": \"Top 10% Contribution\", \"y\": [0.36, 0.58], \"type\": \"bar\", \"marker\": {\"color\": \"rgb(214, 39, 40)\"}, \"x\": [\"PSLM HIES Survey\", \"Constructed Survey and Tax Data\"]}], {\"barmode\": \"stack\", \"title\": \"National Income Shares in Pakistan, Top 10%, Bottom 50%, 2015\", \"yaxis\": {\"title\": \"Income Share\"}}, {\"showLink\": true, \"linkText\": \"Export to plot.ly\"})});</script>"
      ]
     },
     "metadata": {},
     "output_type": "display_data"
    }
   ],
   "source": [
    "x=[\"PSLM HIES Survey\", \"Constructed Survey and Tax Data\"]\n",
    "\n",
    "trace1 = go.Bar(\n",
    "    x=x,\n",
    "    y=[calculate_income_share(\"salaried\", 2015, 0.9, top=False, t_func_diff=True, t_func=get_survey_table), \n",
    "       calculate_income_share(\"salaried\", 2015, 0.9, top=False)],\n",
    "    name='Bottom 90% contribution',\n",
    "    marker = dict(color = ('rgb(31, 119, 180)'))   \n",
    ")\n",
    "trace2 = go.Bar(\n",
    "    x=x,\n",
    "    y=[calculate_income_share(\"salaried\", 2015, 0.1, t_func_diff=True, t_func=get_survey_table), \n",
    "       calculate_income_share(\"salaried\", 2015, 0.1)],\n",
    "    name='Top 10% Contribution',\n",
    "    marker = dict(color = ('rgb(214, 39, 40)'))\n",
    ")\n",
    "\n",
    "data = [trace1, trace2]\n",
    "\n",
    "layout = dict(title = 'National Income Shares in Pakistan, Top 10%, Bottom 50%, 2015',\n",
    "              yaxis = dict(title = 'Income Share'),\n",
    "              barmode='stack'\n",
    "              )\n",
    "\n",
    "top10_2015 = plotly.offline.iplot({\n",
    "    \"data\": data,\n",
    "    \"layout\": layout\n",
    "})\n",
    "top10_2015"
   ]
  },
  {
   "cell_type": "code",
   "execution_count": 167,
   "metadata": {
    "collapsed": false
   },
   "outputs": [
    {
     "data": {
      "application/vnd.plotly.v1+json": {
       "data": [
        {
         "marker": {
          "color": "rgb(31, 119, 180)"
         },
         "name": "Bottom 99% contribution",
         "type": "bar",
         "x": [
          "PSLM HIES Survey",
          "Constructed Survey and Tax Data"
         ],
         "y": [
          0.9,
          0.7
         ]
        },
        {
         "marker": {
          "color": "rgb(214, 39, 40)"
         },
         "name": "Top 1% Contribution",
         "type": "bar",
         "x": [
          "PSLM HIES Survey",
          "Constructed Survey and Tax Data"
         ],
         "y": [
          0.1,
          0.3
         ]
        }
       ],
       "layout": {
        "barmode": "stack",
        "title": "National Income Shares in Pakistan, Top 1%, Bottom 99%  2015",
        "yaxis": {
         "title": "Income Share"
        }
       }
      },
      "text/html": [
       "<div id=\"224adb8d-23ac-4a66-a29b-f1af313eba11\" style=\"height: 525px; width: 100%;\" class=\"plotly-graph-div\"></div><script type=\"text/javascript\">require([\"plotly\"], function(Plotly) { window.PLOTLYENV=window.PLOTLYENV || {};window.PLOTLYENV.BASE_URL=\"https://plot.ly\";Plotly.newPlot(\"224adb8d-23ac-4a66-a29b-f1af313eba11\", [{\"name\": \"Bottom 99% contribution\", \"y\": [0.9, 0.7], \"type\": \"bar\", \"marker\": {\"color\": \"rgb(31, 119, 180)\"}, \"x\": [\"PSLM HIES Survey\", \"Constructed Survey and Tax Data\"]}, {\"name\": \"Top 1% Contribution\", \"y\": [0.1, 0.3], \"type\": \"bar\", \"marker\": {\"color\": \"rgb(214, 39, 40)\"}, \"x\": [\"PSLM HIES Survey\", \"Constructed Survey and Tax Data\"]}], {\"barmode\": \"stack\", \"title\": \"National Income Shares in Pakistan, Top 1%, Bottom 99%  2015\", \"yaxis\": {\"title\": \"Income Share\"}}, {\"showLink\": true, \"linkText\": \"Export to plot.ly\"})});</script>"
      ],
      "text/vnd.plotly.v1+html": [
       "<div id=\"224adb8d-23ac-4a66-a29b-f1af313eba11\" style=\"height: 525px; width: 100%;\" class=\"plotly-graph-div\"></div><script type=\"text/javascript\">require([\"plotly\"], function(Plotly) { window.PLOTLYENV=window.PLOTLYENV || {};window.PLOTLYENV.BASE_URL=\"https://plot.ly\";Plotly.newPlot(\"224adb8d-23ac-4a66-a29b-f1af313eba11\", [{\"name\": \"Bottom 99% contribution\", \"y\": [0.9, 0.7], \"type\": \"bar\", \"marker\": {\"color\": \"rgb(31, 119, 180)\"}, \"x\": [\"PSLM HIES Survey\", \"Constructed Survey and Tax Data\"]}, {\"name\": \"Top 1% Contribution\", \"y\": [0.1, 0.3], \"type\": \"bar\", \"marker\": {\"color\": \"rgb(214, 39, 40)\"}, \"x\": [\"PSLM HIES Survey\", \"Constructed Survey and Tax Data\"]}], {\"barmode\": \"stack\", \"title\": \"National Income Shares in Pakistan, Top 1%, Bottom 99%  2015\", \"yaxis\": {\"title\": \"Income Share\"}}, {\"showLink\": true, \"linkText\": \"Export to plot.ly\"})});</script>"
      ]
     },
     "metadata": {},
     "output_type": "display_data"
    }
   ],
   "source": [
    "x=[\"PSLM HIES Survey\", \"Constructed Survey and Tax Data\"]\n",
    "\n",
    "trace1 = go.Bar(\n",
    "    x=x,\n",
    "    y=[calculate_income_share(\"salaried\", 2015, 0.99, top=False, t_func_diff=True, t_func=get_survey_table), \n",
    "       calculate_income_share(\"salaried\", 2015, 0.99, top=False)],\n",
    "    name='Bottom 99% contribution',\n",
    "    marker = dict(color = ('rgb(31, 119, 180)'))   \n",
    ")\n",
    "trace2 = go.Bar(\n",
    "    x=x,\n",
    "    y=[calculate_income_share(\"salaried\", 2015, 0.01, t_func_diff=True, t_func=get_survey_table), \n",
    "       calculate_income_share(\"salaried\", 2015, 0.01)],\n",
    "    name='Top 1% Contribution',\n",
    "    marker = dict(color = ('rgb(214, 39, 40)'))\n",
    ")\n",
    "\n",
    "data = [trace1, trace2]\n",
    "\n",
    "layout = dict(title = 'National Income Shares in Pakistan, Top 1%, Bottom 99%  2015',\n",
    "              yaxis = dict(title = 'Income Share'),\n",
    "              barmode='stack'\n",
    "              )\n",
    "\n",
    "top1_bottom99_2015 = plotly.offline.iplot({\n",
    "    \"data\": data,\n",
    "    \"layout\": layout\n",
    "})\n",
    "top1_bottom99_2015"
   ]
  },
  {
   "cell_type": "code",
   "execution_count": 168,
   "metadata": {
    "collapsed": false
   },
   "outputs": [
    {
     "data": {
      "application/vnd.plotly.v1+json": {
       "data": [
        {
         "marker": {
          "color": "rgb(31, 119, 180)"
         },
         "name": "Bottom 30% contribution",
         "type": "bar",
         "x": [
          "PSLM HIES Survey",
          "Constructed Survey and Tax Data"
         ],
         "y": [
          0.06,
          0.04
         ]
        },
        {
         "marker": {
          "color": "rgb(214, 39, 40)"
         },
         "name": "Middle 40% Contribution",
         "type": "bar",
         "x": [
          "PSLM HIES Survey",
          "Constructed Survey and Tax Data"
         ],
         "y": [
          0.29000000000000004,
          0.18999999999999995
         ]
        },
        {
         "marker": {
          "color": "rgb(148, 103, 189)"
         },
         "name": "Top 30% Contribution",
         "type": "bar",
         "x": [
          "PSLM HIES Survey",
          "Constructed Survey and Tax Data"
         ],
         "y": [
          0.65,
          0.77
         ]
        }
       ],
       "layout": {
        "barmode": "stack",
        "title": "National Income Shares in Pakistan, Top 30%, Middle 40%, Bottom 30%  2015",
        "yaxis": {
         "title": "Income Share"
        }
       }
      },
      "text/html": [
       "<div id=\"d5b081b4-3125-4ce8-b9a9-f513638304b1\" style=\"height: 525px; width: 100%;\" class=\"plotly-graph-div\"></div><script type=\"text/javascript\">require([\"plotly\"], function(Plotly) { window.PLOTLYENV=window.PLOTLYENV || {};window.PLOTLYENV.BASE_URL=\"https://plot.ly\";Plotly.newPlot(\"d5b081b4-3125-4ce8-b9a9-f513638304b1\", [{\"name\": \"Bottom 30% contribution\", \"y\": [0.06, 0.04], \"type\": \"bar\", \"marker\": {\"color\": \"rgb(31, 119, 180)\"}, \"x\": [\"PSLM HIES Survey\", \"Constructed Survey and Tax Data\"]}, {\"name\": \"Middle 40% Contribution\", \"y\": [0.29000000000000004, 0.18999999999999995], \"type\": \"bar\", \"marker\": {\"color\": \"rgb(214, 39, 40)\"}, \"x\": [\"PSLM HIES Survey\", \"Constructed Survey and Tax Data\"]}, {\"name\": \"Top 30% Contribution\", \"y\": [0.65, 0.77], \"type\": \"bar\", \"marker\": {\"color\": \"rgb(148, 103, 189)\"}, \"x\": [\"PSLM HIES Survey\", \"Constructed Survey and Tax Data\"]}], {\"barmode\": \"stack\", \"title\": \"National Income Shares in Pakistan, Top 30%, Middle 40%, Bottom 30%  2015\", \"yaxis\": {\"title\": \"Income Share\"}}, {\"showLink\": true, \"linkText\": \"Export to plot.ly\"})});</script>"
      ],
      "text/vnd.plotly.v1+html": [
       "<div id=\"d5b081b4-3125-4ce8-b9a9-f513638304b1\" style=\"height: 525px; width: 100%;\" class=\"plotly-graph-div\"></div><script type=\"text/javascript\">require([\"plotly\"], function(Plotly) { window.PLOTLYENV=window.PLOTLYENV || {};window.PLOTLYENV.BASE_URL=\"https://plot.ly\";Plotly.newPlot(\"d5b081b4-3125-4ce8-b9a9-f513638304b1\", [{\"name\": \"Bottom 30% contribution\", \"y\": [0.06, 0.04], \"type\": \"bar\", \"marker\": {\"color\": \"rgb(31, 119, 180)\"}, \"x\": [\"PSLM HIES Survey\", \"Constructed Survey and Tax Data\"]}, {\"name\": \"Middle 40% Contribution\", \"y\": [0.29000000000000004, 0.18999999999999995], \"type\": \"bar\", \"marker\": {\"color\": \"rgb(214, 39, 40)\"}, \"x\": [\"PSLM HIES Survey\", \"Constructed Survey and Tax Data\"]}, {\"name\": \"Top 30% Contribution\", \"y\": [0.65, 0.77], \"type\": \"bar\", \"marker\": {\"color\": \"rgb(148, 103, 189)\"}, \"x\": [\"PSLM HIES Survey\", \"Constructed Survey and Tax Data\"]}], {\"barmode\": \"stack\", \"title\": \"National Income Shares in Pakistan, Top 30%, Middle 40%, Bottom 30%  2015\", \"yaxis\": {\"title\": \"Income Share\"}}, {\"showLink\": true, \"linkText\": \"Export to plot.ly\"})});</script>"
      ]
     },
     "metadata": {},
     "output_type": "display_data"
    }
   ],
   "source": [
    "x=[\"PSLM HIES Survey\", \"Constructed Survey and Tax Data\"]\n",
    "\n",
    "b30_survey = calculate_income_share(\"salaried\", 2015, 0.3, top=False, t_func_diff=True, t_func=get_survey_table)\n",
    "b30_final = calculate_income_share(\"salaried\", 2015, 0.3, top=False)\n",
    "\n",
    "t30_survey = calculate_income_share(\"salaried\", 2015, 0.3, t_func_diff=True, t_func=get_survey_table)\n",
    "t30_final = calculate_income_share(\"salaried\", 2015, 0.3)\n",
    "\n",
    "m40_survey = 1 - (t30_survey + b30_survey)\n",
    "m40_final = 1 - (t30_final + b30_final)\n",
    "\n",
    "trace1 = go.Bar(\n",
    "    x=x,\n",
    "    y=[b30_survey, \n",
    "       b30_final],\n",
    "    name='Bottom 30% contribution',\n",
    "    marker = dict(color = ('rgb(31, 119, 180)'))   \n",
    ")\n",
    "trace2 = go.Bar(\n",
    "    x=x,\n",
    "    y=[m40_survey, \n",
    "       m40_final],\n",
    "    name='Middle 40% Contribution',\n",
    "    marker = dict(color = ('rgb(214, 39, 40)'))\n",
    ")\n",
    "\n",
    "trace3 = go.Bar(\n",
    "    x=x,\n",
    "    y=[t30_survey, \n",
    "       t30_final],\n",
    "    name='Top 30% Contribution',\n",
    "    marker = dict(color = ('rgb(148, 103, 189)'))\n",
    ")\n",
    "\n",
    "data = [trace1, trace2, trace3]\n",
    "\n",
    "layout = dict(title = 'National Income Shares in Pakistan, Top 30%, Middle 40%, Bottom 30%  2015',\n",
    "              yaxis = dict(title = 'Income Share'),\n",
    "              barmode='stack'\n",
    "              )\n",
    "\n",
    "top30_middle40_bottom_30_2015 = plotly.offline.iplot({\n",
    "    \"data\": data,\n",
    "    \"layout\": layout\n",
    "})\n",
    "top30_middle40_bottom_30_2015"
   ]
  },
  {
   "cell_type": "code",
   "execution_count": 99,
   "metadata": {
    "collapsed": true
   },
   "outputs": [],
   "source": [
    "# TABLE FOR SAMPLE SIZES HERE OF SURVEY."
   ]
  },
  {
   "cell_type": "code",
   "execution_count": 100,
   "metadata": {
    "collapsed": false
   },
   "outputs": [
    {
     "name": "stdout",
     "output_type": "stream",
     "text": [
      "21170\n",
      "25303\n",
      "108427\n",
      "24900\n",
      "108698\n",
      "25202\n",
      "25362\n",
      "117639\n",
      "29321\n",
      "122664\n",
      "38552\n",
      "\n",
      "\n",
      "14707\n",
      "15450\n",
      "70156\n",
      "15511\n",
      "71491\n",
      "16341\n",
      "15807\n",
      "75333\n",
      "17891\n",
      "78505\n",
      "24238\n"
     ]
    }
   ],
   "source": [
    "# income paying individuals\n",
    "for y in years:\n",
    "    t = get_survey_table(\"individual\", y)\n",
    "    print(t.shape[0])\n",
    "    \n",
    "print(\"\\n\")\n",
    "# households\n",
    "for y in years:\n",
    "    f = (\"./finalData/hh_balance_sheet_\" + str(y) + \"_\" + str(y+1)[2:] + \".pkl\")\n",
    "    print(len(pd.read_pickle(f)))"
   ]
  },
  {
   "cell_type": "code",
   "execution_count": 101,
   "metadata": {
    "collapsed": true
   },
   "outputs": [],
   "source": [
    "# NEW CHART LIKE APPENDIX 3"
   ]
  },
  {
   "cell_type": "code",
   "execution_count": 102,
   "metadata": {
    "collapsed": false
   },
   "outputs": [
    {
     "data": {
      "text/html": [
       "<div>\n",
       "<table border=\"1\" class=\"dataframe\">\n",
       "  <thead>\n",
       "    <tr style=\"text-align: right;\">\n",
       "      <th></th>\n",
       "      <th>hhcode</th>\n",
       "      <th>psu</th>\n",
       "      <th>idc</th>\n",
       "      <th>income</th>\n",
       "      <th>age</th>\n",
       "      <th>birth_year</th>\n",
       "      <th>weights</th>\n",
       "    </tr>\n",
       "  </thead>\n",
       "  <tbody>\n",
       "    <tr>\n",
       "      <th>count</th>\n",
       "      <td>3.855200e+04</td>\n",
       "      <td>3.855200e+04</td>\n",
       "      <td>38552.000000</td>\n",
       "      <td>3.855200e+04</td>\n",
       "      <td>38552.000000</td>\n",
       "      <td>38552.000000</td>\n",
       "      <td>38552.000000</td>\n",
       "    </tr>\n",
       "    <tr>\n",
       "      <th>mean</th>\n",
       "      <td>2.737786e+09</td>\n",
       "      <td>2.737786e+07</td>\n",
       "      <td>9.072240</td>\n",
       "      <td>2.147891e+05</td>\n",
       "      <td>37.001349</td>\n",
       "      <td>1978.022515</td>\n",
       "      <td>1075.136719</td>\n",
       "    </tr>\n",
       "    <tr>\n",
       "      <th>std</th>\n",
       "      <td>9.349409e+08</td>\n",
       "      <td>9.349271e+06</td>\n",
       "      <td>17.817037</td>\n",
       "      <td>3.099596e+05</td>\n",
       "      <td>14.314682</td>\n",
       "      <td>14.312921</td>\n",
       "      <td>1070.535156</td>\n",
       "    </tr>\n",
       "    <tr>\n",
       "      <th>min</th>\n",
       "      <td>1.102010e+09</td>\n",
       "      <td>1.102010e+07</td>\n",
       "      <td>1.000000</td>\n",
       "      <td>0.000000e+00</td>\n",
       "      <td>1.000000</td>\n",
       "      <td>1910.000000</td>\n",
       "      <td>66.143768</td>\n",
       "    </tr>\n",
       "    <tr>\n",
       "      <th>25%</th>\n",
       "      <td>2.213221e+09</td>\n",
       "      <td>2.213221e+07</td>\n",
       "      <td>1.000000</td>\n",
       "      <td>9.000000e+04</td>\n",
       "      <td>25.000000</td>\n",
       "      <td>1968.000000</td>\n",
       "      <td>503.121277</td>\n",
       "    </tr>\n",
       "    <tr>\n",
       "      <th>50%</th>\n",
       "      <td>2.716025e+09</td>\n",
       "      <td>2.716025e+07</td>\n",
       "      <td>1.000000</td>\n",
       "      <td>1.494200e+05</td>\n",
       "      <td>35.000000</td>\n",
       "      <td>1980.000000</td>\n",
       "      <td>761.231689</td>\n",
       "    </tr>\n",
       "    <tr>\n",
       "      <th>75%</th>\n",
       "      <td>3.381011e+09</td>\n",
       "      <td>3.381011e+07</td>\n",
       "      <td>3.000000</td>\n",
       "      <td>2.520000e+05</td>\n",
       "      <td>47.000000</td>\n",
       "      <td>1990.000000</td>\n",
       "      <td>1218.739624</td>\n",
       "    </tr>\n",
       "    <tr>\n",
       "      <th>max</th>\n",
       "      <td>6.113340e+09</td>\n",
       "      <td>6.113340e+07</td>\n",
       "      <td>66.000000</td>\n",
       "      <td>2.778910e+07</td>\n",
       "      <td>99.000000</td>\n",
       "      <td>2014.000000</td>\n",
       "      <td>11163.765625</td>\n",
       "    </tr>\n",
       "  </tbody>\n",
       "</table>\n",
       "</div>"
      ],
      "text/plain": [
       "             hhcode           psu           idc        income           age  \\\n",
       "count  3.855200e+04  3.855200e+04  38552.000000  3.855200e+04  38552.000000   \n",
       "mean   2.737786e+09  2.737786e+07      9.072240  2.147891e+05     37.001349   \n",
       "std    9.349409e+08  9.349271e+06     17.817037  3.099596e+05     14.314682   \n",
       "min    1.102010e+09  1.102010e+07      1.000000  0.000000e+00      1.000000   \n",
       "25%    2.213221e+09  2.213221e+07      1.000000  9.000000e+04     25.000000   \n",
       "50%    2.716025e+09  2.716025e+07      1.000000  1.494200e+05     35.000000   \n",
       "75%    3.381011e+09  3.381011e+07      3.000000  2.520000e+05     47.000000   \n",
       "max    6.113340e+09  6.113340e+07     66.000000  2.778910e+07     99.000000   \n",
       "\n",
       "         birth_year       weights  \n",
       "count  38552.000000  38552.000000  \n",
       "mean    1978.022515   1075.136719  \n",
       "std       14.312921   1070.535156  \n",
       "min     1910.000000     66.143768  \n",
       "25%     1968.000000    503.121277  \n",
       "50%     1980.000000    761.231689  \n",
       "75%     1990.000000   1218.739624  \n",
       "max     2014.000000  11163.765625  "
      ]
     },
     "execution_count": 102,
     "metadata": {},
     "output_type": "execute_result"
    }
   ],
   "source": [
    "# mean income, standard deviation of income, median income, mean age, ratio income /consumption, gini\n",
    "t = get_survey_table(\"individual\", 2015)\n",
    "x = t.describe()\n",
    "x"
   ]
  },
  {
   "cell_type": "code",
   "execution_count": 103,
   "metadata": {
    "collapsed": true
   },
   "outputs": [],
   "source": [
    "# NEW GRAPH BELOW"
   ]
  },
  {
   "cell_type": "code",
   "execution_count": 104,
   "metadata": {
    "collapsed": false
   },
   "outputs": [
    {
     "name": "stdout",
     "output_type": "stream",
     "text": [
      "0.0974468927241\n",
      "0.0998966220075\n",
      "0.0880111371487\n",
      "0.119395818467\n",
      "0.151329658393\n",
      "0.166079006174\n",
      "0.188998771827\n",
      "0.247670089637\n",
      "0.274151740714\n",
      "0.323439943316\n",
      "0.283960084869\n"
     ]
    }
   ],
   "source": [
    "years = np.arange(2004, 2016, 1)\n",
    "index = np.argwhere(years==2009)\n",
    "years = np.delete(years, index)\n",
    "\n",
    "for y in years:\n",
    "    print(weighted_sum(get_survey_table(\"individual\", y)[\"income\"], get_survey_table(\"individual\", y)[\"weights\"]) / ni[ni[\"Year\"] == y][\"National Income\"].values[0])"
   ]
  },
  {
   "cell_type": "code",
   "execution_count": 105,
   "metadata": {
    "collapsed": false
   },
   "outputs": [
    {
     "name": "stdout",
     "output_type": "stream",
     "text": [
      "0.139014975858\n",
      "0.130751349363\n",
      "0.1146863491\n",
      "0.159915139084\n",
      "0.262430821798\n",
      "0.200465058634\n",
      "0.257921653128\n",
      "0.398108409286\n",
      "0.348427746296\n",
      "0.501550471859\n",
      "0.44569113715\n"
     ]
    }
   ],
   "source": [
    "years = np.arange(2004, 2016, 1)\n",
    "index = np.argwhere(years==2009)\n",
    "years = np.delete(years, index)\n",
    "\n",
    "for y in years:\n",
    "    print(weighted_sum(get_final_table(y, \"salaried\")[\"income\"], get_final_table(y, \"salaried\")[\"weights\"]) / ni[ni[\"Year\"] == y][\"National Income\"].values[0])"
   ]
  },
  {
   "cell_type": "code",
   "execution_count": 106,
   "metadata": {
    "collapsed": true
   },
   "outputs": [],
   "source": [
    "# do a graph here (below national income growth) for how tax data gets us closer to the true value of national income.\n",
    "# thinking a line graph right now like page 61 on the india paper"
   ]
  },
  {
   "cell_type": "code",
   "execution_count": 107,
   "metadata": {
    "collapsed": true
   },
   "outputs": [],
   "source": [
    "# Lorenz Curve / Gini Coefficient"
   ]
  },
  {
   "cell_type": "code",
   "execution_count": 108,
   "metadata": {
    "collapsed": true
   },
   "outputs": [],
   "source": [
    "def gini(incomes):\n",
    "    sum_of_absolute_differences = 0\n",
    "    subsum = 0\n",
    "\n",
    "    for i, x in enumerate(incomes):\n",
    "        sum_of_absolute_differences += i * x - subsum\n",
    "        subsum += x\n",
    "\n",
    "    return sum_of_absolute_differences / subsum / len(incomes)"
   ]
  },
  {
   "cell_type": "code",
   "execution_count": 109,
   "metadata": {
    "collapsed": false
   },
   "outputs": [
    {
     "data": {
      "text/plain": [
       "0.58141457506189775"
      ]
     },
     "execution_count": 109,
     "metadata": {},
     "output_type": "execute_result"
    }
   ],
   "source": [
    "gini(list(get_final_table(2015, \"salaried\")[\"income\"]))"
   ]
  },
  {
   "cell_type": "code",
   "execution_count": 110,
   "metadata": {
    "collapsed": true
   },
   "outputs": [],
   "source": [
    "# Table that Saez and Zucman have constructed for DINA usa"
   ]
  },
  {
   "cell_type": "code",
   "execution_count": null,
   "metadata": {
    "collapsed": true
   },
   "outputs": [],
   "source": []
  },
  {
   "cell_type": "markdown",
   "metadata": {
    "collapsed": true
   },
   "source": [
    "### National Income Growth in Pakistan, 2012 - 2016"
   ]
  },
  {
   "cell_type": "markdown",
   "metadata": {},
   "source": [
    "This shows us we cannot use growth rates or undergo any significant analysis of growth rates as the surveys are self-contained. This result holds as we change the dates, for any section between 2004 - 2016. As we saw with the 'survey growth rates' table, we cannot make any significant assumptions about changes across time."
   ]
  },
  {
   "cell_type": "code",
   "execution_count": 111,
   "metadata": {
    "collapsed": false
   },
   "outputs": [],
   "source": [
    "ni = pd.read_excel(\"./miscData/national_income.xlsx\")"
   ]
  },
  {
   "cell_type": "code",
   "execution_count": 112,
   "metadata": {
    "collapsed": true
   },
   "outputs": [],
   "source": [
    "nigrowth = (ni[ni[\"Year\"] == 2016][\"National Income\"].values[0] - ni[ni[\"Year\"] == 2013][\"National Income\"].values[0]) / ni[ni[\"Year\"] == 2013][\"National Income\"].values[0]"
   ]
  },
  {
   "cell_type": "code",
   "execution_count": 113,
   "metadata": {
    "collapsed": true
   },
   "outputs": [],
   "source": [
    "b90_data2012, b90_weights2012, ib902012 = bottom_percentiles(0.9, get_survey_table(\"individual\", 2012)[\"income\"], get_survey_table(\"individual\", 2012)[\"weights\"])\n",
    "t10_data2012, t10_weights2012, it102012 = top_percentiles(0.1, get_survey_table(\"individual\", 2012)[\"income\"], get_survey_table(\"individual\", 2012)[\"weights\"])\n",
    "\n",
    "b90_data2015, b90_weights2015, ib902015 = bottom_percentiles(0.9, get_survey_table(\"individual\", 2015)[\"income\"], get_survey_table(\"individual\", 2015)[\"weights\"])\n",
    "t10_data2015, t10_weights2015, it102015 = top_percentiles(0.1, get_survey_table(\"individual\", 2015)[\"income\"], get_survey_table(\"individual\", 2015)[\"weights\"])\n",
    "\n",
    "b90_growth = (weighted_sum(b90_data2015, b90_weights2015) - weighted_sum(b90_data2012, b90_weights2012)) / weighted_sum(b90_data2012, b90_weights2012)\n",
    "t10_growth = (weighted_sum(t10_data2015, t10_weights2015) - weighted_sum(t10_data2012, t10_weights2012)) / weighted_sum(t10_data2012, t10_weights2012)\n",
    "\n",
    "t10_survey = t10_growth\n",
    "b90_survey = b90_growth"
   ]
  },
  {
   "cell_type": "code",
   "execution_count": 114,
   "metadata": {
    "collapsed": false
   },
   "outputs": [],
   "source": [
    "b90_data2012, b90_weights2012, ib902012 = bottom_percentiles(0.9, get_final_table(2012, \"salaried\")[\"income\"], get_final_table(2012, \"salaried\")[\"weights\"])\n",
    "t10_data2012, t10_weights2012, it102012 = top_percentiles(0.1, get_final_table(2012, \"salaried\")[\"income\"], get_final_table(2012, \"salaried\")[\"weights\"])\n",
    "\n",
    "b90_data2015, b90_weights2015, ib902015 = bottom_percentiles(0.9, get_final_table(2015, \"salaried\")[\"income\"], get_final_table(2015, \"salaried\")[\"weights\"])\n",
    "t10_data2015, t10_weights2015, it102015 = top_percentiles(0.1, get_final_table(2015, \"salaried\")[\"income\"], get_final_table(2015, \"salaried\")[\"weights\"])\n",
    "\n",
    "b90_growth = (weighted_sum(b90_data2015, b90_weights2015) - weighted_sum(b90_data2012, b90_weights2012)) / weighted_sum(b90_data2012, b90_weights2012)\n",
    "t10_growth = (weighted_sum(t10_data2015, t10_weights2015) - weighted_sum(t10_data2012, t10_weights2012)) / weighted_sum(t10_data2012, t10_weights2012)\n",
    "\n",
    "t10_final = t10_growth\n",
    "b90_final = b90_growth"
   ]
  },
  {
   "cell_type": "code",
   "execution_count": 169,
   "metadata": {
    "collapsed": false
   },
   "outputs": [
    {
     "data": {
      "application/vnd.plotly.v1+json": {
       "data": [
        {
         "marker": {
          "color": "rgb(148, 103, 189)"
         },
         "name": "All Percentiles",
         "type": "bar",
         "x": [
          "National Accounts",
          "PSLM HIES Survey",
          "Constructed Survey and Tax Data"
         ],
         "y": [
          0.14758980109803374,
          null,
          null
         ]
        },
        {
         "marker": {
          "color": "rgb(31, 119, 180)"
         },
         "name": "Bottom 90% contribution",
         "type": "bar",
         "x": [
          "National Accounts",
          "PSLM HIES Survey",
          "Constructed Survey and Tax Data"
         ],
         "y": [
          null,
          0.36476626569354953,
          0.3647622442017803
         ]
        },
        {
         "marker": {
          "color": "rgb(214, 39, 40)"
         },
         "name": "Top 10% Contribution",
         "type": "bar",
         "x": [
          "National Accounts",
          "PSLM HIES Survey",
          "Constructed Survey and Tax Data"
         ],
         "y": [
          null,
          0.2326888326067697,
          0.23214453748049607
         ]
        }
       ],
       "layout": {
        "barmode": "stack",
        "title": "National Income Growth in Pakistan, 2012 - 2016",
        "yaxis": {
         "title": "Total growth (%)"
        }
       }
      },
      "text/html": [
       "<div id=\"351fde89-4038-4e1c-8ec0-ea9ece951e49\" style=\"height: 525px; width: 100%;\" class=\"plotly-graph-div\"></div><script type=\"text/javascript\">require([\"plotly\"], function(Plotly) { window.PLOTLYENV=window.PLOTLYENV || {};window.PLOTLYENV.BASE_URL=\"https://plot.ly\";Plotly.newPlot(\"351fde89-4038-4e1c-8ec0-ea9ece951e49\", [{\"name\": \"All Percentiles\", \"y\": [0.14758980109803374, null, null], \"type\": \"bar\", \"marker\": {\"color\": \"rgb(148, 103, 189)\"}, \"x\": [\"National Accounts\", \"PSLM HIES Survey\", \"Constructed Survey and Tax Data\"]}, {\"name\": \"Bottom 90% contribution\", \"y\": [null, 0.36476626569354953, 0.3647622442017803], \"type\": \"bar\", \"marker\": {\"color\": \"rgb(31, 119, 180)\"}, \"x\": [\"National Accounts\", \"PSLM HIES Survey\", \"Constructed Survey and Tax Data\"]}, {\"name\": \"Top 10% Contribution\", \"y\": [null, 0.2326888326067697, 0.23214453748049607], \"type\": \"bar\", \"marker\": {\"color\": \"rgb(214, 39, 40)\"}, \"x\": [\"National Accounts\", \"PSLM HIES Survey\", \"Constructed Survey and Tax Data\"]}], {\"barmode\": \"stack\", \"title\": \"National Income Growth in Pakistan, 2012 - 2016\", \"yaxis\": {\"title\": \"Total growth (%)\"}}, {\"showLink\": true, \"linkText\": \"Export to plot.ly\"})});</script>"
      ],
      "text/vnd.plotly.v1+html": [
       "<div id=\"351fde89-4038-4e1c-8ec0-ea9ece951e49\" style=\"height: 525px; width: 100%;\" class=\"plotly-graph-div\"></div><script type=\"text/javascript\">require([\"plotly\"], function(Plotly) { window.PLOTLYENV=window.PLOTLYENV || {};window.PLOTLYENV.BASE_URL=\"https://plot.ly\";Plotly.newPlot(\"351fde89-4038-4e1c-8ec0-ea9ece951e49\", [{\"name\": \"All Percentiles\", \"y\": [0.14758980109803374, null, null], \"type\": \"bar\", \"marker\": {\"color\": \"rgb(148, 103, 189)\"}, \"x\": [\"National Accounts\", \"PSLM HIES Survey\", \"Constructed Survey and Tax Data\"]}, {\"name\": \"Bottom 90% contribution\", \"y\": [null, 0.36476626569354953, 0.3647622442017803], \"type\": \"bar\", \"marker\": {\"color\": \"rgb(31, 119, 180)\"}, \"x\": [\"National Accounts\", \"PSLM HIES Survey\", \"Constructed Survey and Tax Data\"]}, {\"name\": \"Top 10% Contribution\", \"y\": [null, 0.2326888326067697, 0.23214453748049607], \"type\": \"bar\", \"marker\": {\"color\": \"rgb(214, 39, 40)\"}, \"x\": [\"National Accounts\", \"PSLM HIES Survey\", \"Constructed Survey and Tax Data\"]}], {\"barmode\": \"stack\", \"title\": \"National Income Growth in Pakistan, 2012 - 2016\", \"yaxis\": {\"title\": \"Total growth (%)\"}}, {\"showLink\": true, \"linkText\": \"Export to plot.ly\"})});</script>"
      ]
     },
     "metadata": {},
     "output_type": "display_data"
    }
   ],
   "source": [
    "x=[\"National Accounts\", \"PSLM HIES Survey\", \"Constructed Survey and Tax Data\"]\n",
    "\n",
    "trace1 = go.Bar(\n",
    "    x=x,\n",
    "    y=[None, b90_survey, b90_final],\n",
    "    name='Bottom 90% contribution',\n",
    "    marker = dict(color = ('rgb(31, 119, 180)'))   \n",
    ")\n",
    "trace2 = go.Bar(\n",
    "    x=x,\n",
    "    y=[None, t10_survey, t10_final],\n",
    "    name='Top 10% Contribution',\n",
    "    marker = dict(color = ('rgb(214, 39, 40)'))\n",
    ")\n",
    "trace3 = go.Bar(\n",
    "    x=x,\n",
    "    y=[nigrowth, None, None],\n",
    "    name='All Percentiles',\n",
    "    marker = dict(color = ('rgb(148, 103, 189)'))\n",
    ")\n",
    "\n",
    "data = [trace3, trace1, trace2]\n",
    "\n",
    "layout = dict(title = 'National Income Growth in Pakistan, 2012 - 2016',\n",
    "              yaxis = dict(title = 'Total growth (%)'),\n",
    "              barmode='stack'\n",
    "              )\n",
    "\n",
    "national_income_growth_2015 = plotly.offline.iplot({\n",
    "    \"data\": data,\n",
    "    \"layout\": layout\n",
    "})\n",
    "national_income_growth_2015"
   ]
  },
  {
   "cell_type": "markdown",
   "metadata": {},
   "source": [
    "### Regarding Other Datasets"
   ]
  },
  {
   "cell_type": "markdown",
   "metadata": {},
   "source": [
    "Found this dataset that has numbers very different to ours. Definition is as follows:\n",
    "\n",
    "World Bank, Development Research Group. Data are based on primary household survey data obtained from government statistical agencies and World Bank country departments. Data for high-income economies are from the Luxembourg Income Study database. For more information and methodology, please see PovcalNet (http://iresearch.worldbank.org/PovcalNet/index.htm).\n",
    "\n",
    "What's interesting is that it doesn't even match up with our household survey data. Further research finding this survey data, combining it with our tax data would be useful."
   ]
  },
  {
   "cell_type": "code",
   "execution_count": 116,
   "metadata": {
    "collapsed": false
   },
   "outputs": [],
   "source": [
    "pak_world_bank_indicators = pd.read_excel(\"./miscData/world_bank_bottom20_income_share_and_population.xlsx\")"
   ]
  },
  {
   "cell_type": "code",
   "execution_count": 117,
   "metadata": {
    "collapsed": false
   },
   "outputs": [
    {
     "data": {
      "text/html": [
       "<div>\n",
       "<table border=\"1\" class=\"dataframe\">\n",
       "  <thead>\n",
       "    <tr style=\"text-align: right;\">\n",
       "      <th></th>\n",
       "      <th>Country Name</th>\n",
       "      <th>Country Code</th>\n",
       "      <th>Series Name</th>\n",
       "      <th>Series Code</th>\n",
       "      <th>1990 [YR1990]</th>\n",
       "      <th>2000 [YR2000]</th>\n",
       "      <th>2009 [YR2009]</th>\n",
       "      <th>2010 [YR2010]</th>\n",
       "      <th>2011 [YR2011]</th>\n",
       "      <th>2012 [YR2012]</th>\n",
       "      <th>2013 [YR2013]</th>\n",
       "      <th>2014 [YR2014]</th>\n",
       "      <th>2015 [YR2015]</th>\n",
       "      <th>2016 [YR2016]</th>\n",
       "      <th>2017 [YR2017]</th>\n",
       "      <th>2018 [YR2018]</th>\n",
       "    </tr>\n",
       "  </thead>\n",
       "  <tbody>\n",
       "    <tr>\n",
       "      <th>11</th>\n",
       "      <td>Pakistan</td>\n",
       "      <td>PAK</td>\n",
       "      <td>Income share held by lowest 20%</td>\n",
       "      <td>SI.DST.FRST.20</td>\n",
       "      <td>8.1</td>\n",
       "      <td>..</td>\n",
       "      <td>..</td>\n",
       "      <td>9.6</td>\n",
       "      <td>9.3</td>\n",
       "      <td>..</td>\n",
       "      <td>9.2</td>\n",
       "      <td>..</td>\n",
       "      <td>8.9</td>\n",
       "      <td>..</td>\n",
       "      <td>..</td>\n",
       "      <td>..</td>\n",
       "    </tr>\n",
       "  </tbody>\n",
       "</table>\n",
       "</div>"
      ],
      "text/plain": [
       "   Country Name Country Code                      Series Name     Series Code  \\\n",
       "11     Pakistan          PAK  Income share held by lowest 20%  SI.DST.FRST.20   \n",
       "\n",
       "   1990 [YR1990] 2000 [YR2000] 2009 [YR2009] 2010 [YR2010] 2011 [YR2011]  \\\n",
       "11           8.1            ..            ..           9.6           9.3   \n",
       "\n",
       "   2012 [YR2012] 2013 [YR2013] 2014 [YR2014] 2015 [YR2015] 2016 [YR2016]  \\\n",
       "11            ..           9.2            ..           8.9            ..   \n",
       "\n",
       "   2017 [YR2017] 2018 [YR2018]  \n",
       "11            ..            ..  "
      ]
     },
     "execution_count": 117,
     "metadata": {},
     "output_type": "execute_result"
    }
   ],
   "source": [
    "lowest_20_income = pak_world_bank_indicators[pak_world_bank_indicators[\"Series Code\"] == \"SI.DST.FRST.20\"]\n",
    "lowest_20_income"
   ]
  },
  {
   "cell_type": "code",
   "execution_count": 118,
   "metadata": {
    "collapsed": false
   },
   "outputs": [
    {
     "name": "stdout",
     "output_type": "stream",
     "text": [
      "Lowest 20% Income Share, PSLM HIES Survey:  3.0 %\n"
     ]
    }
   ],
   "source": [
    "print(\"Lowest 20% Income Share, PSLM HIES Survey: \", calculate_income_share(\"salaried\", 2015, 0.2, top=False, t_func_diff=True, t_func=get_survey_table) * 100, \"%\")"
   ]
  },
  {
   "cell_type": "code",
   "execution_count": 119,
   "metadata": {
    "collapsed": false
   },
   "outputs": [
    {
     "name": "stdout",
     "output_type": "stream",
     "text": [
      "Lowest 20% Income Share, Constructed Dataset:  2.0 %\n"
     ]
    }
   ],
   "source": [
    "print(\"Lowest 20% Income Share, Constructed Dataset: \", calculate_income_share(\"salaried\", 2015, 0.2, top=False) * 100, \"%\")"
   ]
  },
  {
   "cell_type": "markdown",
   "metadata": {},
   "source": [
    "# Export Data"
   ]
  },
  {
   "cell_type": "code",
   "execution_count": 120,
   "metadata": {
    "collapsed": true
   },
   "outputs": [],
   "source": [
    "# with open('./finalData/finalGraphsAndTables/survey_growth_rates.pkl', 'wb') as f: pickle.dump(survey_growth_rates, f)"
   ]
  },
  {
   "cell_type": "raw",
   "metadata": {},
   "source": [
    "Notes for potential things to add in order of priority:\n",
    "\n",
    "1) Can make this functions much faster (as well as functions in other notebooks) by sticking to the numpy module. There are a lot of places where I do 'sum(list(...))' which is woefully inefficient.\n",
    "\n",
    "2) There are definitely more graphs that one can construct from this data. Please feel free to add and put in a pull request so we can add it to this repository."
   ]
  },
  {
   "cell_type": "markdown",
   "metadata": {},
   "source": [
    "Please make use of this analysis and reach out at ali.ahmed@berkeley.edu if you need any help setting it up, or understanding some of the data. My hope is that this can serve as a starting point for others to move forward with inequality research in Pakistan so society can better understand the impact of economic policy."
   ]
  }
 ],
 "metadata": {
  "anaconda-cloud": {},
  "kernelspec": {
   "display_name": "Python [conda root]",
   "language": "python",
   "name": "conda-root-py"
  },
  "language_info": {
   "codemirror_mode": {
    "name": "ipython",
    "version": 3
   },
   "file_extension": ".py",
   "mimetype": "text/x-python",
   "name": "python",
   "nbconvert_exporter": "python",
   "pygments_lexer": "ipython3",
   "version": "3.5.2"
  }
 },
 "nbformat": 4,
 "nbformat_minor": 2
}
