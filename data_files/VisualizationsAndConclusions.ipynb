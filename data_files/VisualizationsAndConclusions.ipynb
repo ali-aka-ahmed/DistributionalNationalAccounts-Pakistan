{
 "cells": [
  {
   "cell_type": "code",
   "execution_count": 1,
   "metadata": {
    "collapsed": false
   },
   "outputs": [],
   "source": [
    "import numpy as np\n",
    "import pandas as pd\n",
    "import pickle\n",
    "import plotly.plotly as py\n",
    "import plotly.graph_objs as go\n",
    "import matplotlib.pyplot as plt\n",
    "from plotly.offline import download_plotlyjs, init_notebook_mode, plot, iplot\n",
    "import plotly\n",
    "import plotly.graph_objs as go"
   ]
  },
  {
   "cell_type": "code",
   "execution_count": 2,
   "metadata": {
    "collapsed": false
   },
   "outputs": [
    {
     "data": {
      "text/html": [
       "<script>requirejs.config({paths: { 'plotly': ['https://cdn.plot.ly/plotly-latest.min']},});if(!window.Plotly) {{require(['plotly'],function(plotly) {window.Plotly=plotly;});}}</script>"
      ],
      "text/vnd.plotly.v1+html": [
       "<script>requirejs.config({paths: { 'plotly': ['https://cdn.plot.ly/plotly-latest.min']},});if(!window.Plotly) {{require(['plotly'],function(plotly) {window.Plotly=plotly;});}}</script>"
      ]
     },
     "metadata": {},
     "output_type": "display_data"
    }
   ],
   "source": [
    "init_notebook_mode(connected=True)\n",
    "pd.options.display.max_columns = None"
   ]
  },
  {
   "cell_type": "markdown",
   "metadata": {},
   "source": [
    "# Load Data"
   ]
  },
  {
   "cell_type": "code",
   "execution_count": 6,
   "metadata": {
    "collapsed": false
   },
   "outputs": [],
   "source": [
    "with open('./finalData/finalCombinedMicrodata/final_incomes_2015_ASSUMP_salaried.pkl', 'rb') as f: final_incomes_2015_ASSUMP_salaried = pickle.load(f)\n",
    "with open('./finalData/finalCombinedMicrodata/final_incomes_2015_ASSUMP_nonsalaried.pkl', 'rb') as f: final_incomes_2015_ASSUMP_nonsalaried = pickle.load(f)\n",
    "\n",
    "with open('./finalData/finalCombinedMicrodata/final_incomes_2014_ASSUMP_salaried.pkl', 'rb') as f: final_incomes_2014_ASSUMP_salaried = pickle.load(f)\n",
    "with open('./finalData/finalCombinedMicrodata/final_incomes_2014_ASSUMP_nonsalaried.pkl', 'rb') as f: final_incomes_2014_ASSUMP_nonsalaried = pickle.load(f)\n",
    "\n",
    "with open('./finalData/finalCombinedMicrodata/final_incomes_2013_ASSUMP_salaried.pkl', 'rb') as f: final_incomes_2013_ASSUMP_salaried = pickle.load(f)\n",
    "with open('./finalData/finalCombinedMicrodata/final_incomes_2013_ASSUMP_nonsalaried.pkl', 'rb') as f: final_incomes_2013_ASSUMP_nonsalaried = pickle.load(f)\n",
    "\n",
    "with open('./finalData/finalCombinedMicrodata/final_incomes_2012_ASSUMP_salaried.pkl', 'rb') as f: final_incomes_2012_ASSUMP_salaried = pickle.load(f)\n",
    "with open('./finalData/finalCombinedMicrodata/final_incomes_2012_ASSUMP_nonsalaried.pkl', 'rb') as f: final_incomes_2012_ASSUMP_nonsalaried = pickle.load(f)\n",
    "\n",
    "with open('./finalData/finalCombinedMicrodata/final_incomes_2011_ASSUMP_salaried.pkl', 'rb') as f: final_incomes_2011_ASSUMP_salaried = pickle.load(f)\n",
    "with open('./finalData/finalCombinedMicrodata/final_incomes_2011_ASSUMP_nonsalaried.pkl', 'rb') as f: final_incomes_2011_ASSUMP_nonsalaried = pickle.load(f)\n",
    "\n",
    "with open('./finalData/finalCombinedMicrodata/final_incomes_2010_ASSUMP_salaried.pkl', 'rb') as f: final_incomes_2010_ASSUMP_salaried = pickle.load(f)\n",
    "with open('./finalData/finalCombinedMicrodata/final_incomes_2010_ASSUMP_nonsalaried.pkl', 'rb') as f: final_incomes_2010_ASSUMP_nonsalaried = pickle.load(f)\n",
    "\n",
    "with open('./finalData/finalCombinedMicrodata/final_incomes_2008_ASSUMP_salaried.pkl', 'rb') as f: final_incomes_2008_ASSUMP_salaried = pickle.load(f)\n",
    "with open('./finalData/finalCombinedMicrodata/final_incomes_2008_ASSUMP_nonsalaried.pkl', 'rb') as f: final_incomes_2008_ASSUMP_nonsalaried = pickle.load(f)\n",
    "\n",
    "with open('./finalData/finalCombinedMicrodata/final_incomes_2007_ASSUMP_salaried.pkl', 'rb') as f: final_incomes_2007_ASSUMP_salaried = pickle.load(f)\n",
    "with open('./finalData/finalCombinedMicrodata/final_incomes_2007_ASSUMP_nonsalaried.pkl', 'rb') as f: final_incomes_2007_ASSUMP_nonsalaried = pickle.load(f)\n",
    "\n",
    "with open('./finalData/finalCombinedMicrodata/final_incomes_2006_ASSUMP_salaried.pkl', 'rb') as f: final_incomes_2006_ASSUMP_salaried = pickle.load(f)\n",
    "with open('./finalData/finalCombinedMicrodata/final_incomes_2006_ASSUMP_nonsalaried.pkl', 'rb') as f: final_incomes_2006_ASSUMP_nonsalaried = pickle.load(f)\n",
    "\n",
    "with open('./finalData/finalCombinedMicrodata/final_incomes_2005_ASSUMP_salaried.pkl', 'rb') as f: final_incomes_2005_ASSUMP_salaried = pickle.load(f)\n",
    "with open('./finalData/finalCombinedMicrodata/final_incomes_2005_ASSUMP_nonsalaried.pkl', 'rb') as f: final_incomes_2005_ASSUMP_nonsalaried = pickle.load(f)\n",
    "\n",
    "with open('./finalData/finalCombinedMicrodata/final_incomes_2004_ASSUMP_salaried.pkl', 'rb') as f: final_incomes_2004_ASSUMP_salaried = pickle.load(f)\n",
    "with open('./finalData/finalCombinedMicrodata/final_incomes_2004_ASSUMP_nonsalaried.pkl', 'rb') as f: final_incomes_2004_ASSUMP_nonsalaried = pickle.load(f)"
   ]
  },
  {
   "cell_type": "code",
   "execution_count": 7,
   "metadata": {
    "collapsed": true
   },
   "outputs": [],
   "source": [
    "with open('./finalData/individual_balance_sheet_2015_16.pkl', 'rb') as f: individual_balance_sheet_2015_16 = pickle.load(f)\n",
    "with open('./finalData/individual_balance_sheet_2014_15.pkl', 'rb') as f: individual_balance_sheet_2014_15 = pickle.load(f)\n",
    "with open('./finalData/individual_balance_sheet_2013_14.pkl', 'rb') as f: individual_balance_sheet_2013_14 = pickle.load(f)\n",
    "with open('./finalData/individual_balance_sheet_2012_13.pkl', 'rb') as f: individual_balance_sheet_2012_13 = pickle.load(f)\n",
    "with open('./finalData/individual_balance_sheet_2011_12.pkl', 'rb') as f: individual_balance_sheet_2011_12 = pickle.load(f)\n",
    "with open('./finalData/individual_balance_sheet_2010_11.pkl', 'rb') as f: individual_balance_sheet_2010_11 = pickle.load(f)\n",
    "with open('./finalData/individual_balance_sheet_2008_09.pkl', 'rb') as f: individual_balance_sheet_2008_09 = pickle.load(f)\n",
    "with open('./finalData/individual_balance_sheet_2007_08.pkl', 'rb') as f: individual_balance_sheet_2007_08 = pickle.load(f)\n",
    "with open('./finalData/individual_balance_sheet_2006_07.pkl', 'rb') as f: individual_balance_sheet_2006_07 = pickle.load(f)\n",
    "with open('./finalData/individual_balance_sheet_2005_06.pkl', 'rb') as f: individual_balance_sheet_2005_06 = pickle.load(f)\n",
    "with open('./finalData/individual_balance_sheet_2004_05.pkl', 'rb') as f: individual_balance_sheet_2004_05 = pickle.load(f)"
   ]
  },
  {
   "cell_type": "markdown",
   "metadata": {},
   "source": [
    "# Visualization and Conclusions"
   ]
  },
  {
   "cell_type": "markdown",
   "metadata": {},
   "source": [
    "**Helper Functions**"
   ]
  },
  {
   "cell_type": "code",
   "execution_count": 8,
   "metadata": {
    "collapsed": false
   },
   "outputs": [],
   "source": [
    "def get_final_table(start_year, assumptions):  \n",
    "    \"\"\"\n",
    "    Sorted by income.\n",
    "    \n",
    "    Args:\n",
    "        str (table_type): accepts only 'hh' for household or 'individual' for individual.\n",
    "        int (start_year): currently limited to 2004 - 2015.\n",
    "\n",
    "    Returns:\n",
    "        pd.DataFrame: dataframe corresponding to table.\n",
    "    \"\"\"\n",
    "    t = eval(\"final_incomes_\" + str(start_year) + \"_ASSUMP_\" + str(assumptions))\n",
    "    t = t.sort_values(by=['income']).reset_index().drop([\"index\"], axis=1)\n",
    "    return t\n",
    "    \n",
    "def weighted_sum(data, weights):\n",
    "    \"\"\"\n",
    "    Args:\n",
    "        pd.Series (data)\n",
    "        pd.Series (weights)\n",
    "\n",
    "    Returns:\n",
    "        float: weighted sum.\n",
    "    \"\"\"\n",
    "    data = np.array(data)\n",
    "    weights = np.array(weights)\n",
    "    return np.sum(data * weights)\n",
    "\n",
    "def top_percentiles(p, sorted_data, sorted_weights):\n",
    "    \"\"\"\n",
    "    Args:\n",
    "        int (p): 0 < p < 1.\n",
    "        pd.Series (data)\n",
    "        pd.Series (weights)\n",
    "\n",
    "    Returns:\n",
    "        (list, list): corresponding data, and weights.\n",
    "    \"\"\"\n",
    "    sorted_data = np.array(sorted_data)\n",
    "    sorted_weights = np.array(sorted_weights)\n",
    "    q = (1 - p) * np.sum(sorted_weights)\n",
    "    index = sorted_weights.size\n",
    "    cum_sum = np.sum(sorted_weights)\n",
    "    while cum_sum > q:\n",
    "        index -= 1\n",
    "        cum_sum -= sorted_weights[index]\n",
    "    return (sorted_data[index:], sorted_weights[index:], index)\n",
    "\n",
    "def bottom_percentiles(p, sorted_data, sorted_weights):\n",
    "    \"\"\"\n",
    "    Args:\n",
    "        int (p): 0 <= p <=1.\n",
    "        pd.Series (data)\n",
    "        pd.Series (weights)\n",
    "\n",
    "    Returns:\n",
    "        (list, list): corresponding data, and weights.\n",
    "    \"\"\"\n",
    "    sorted_data = np.array(sorted_data)\n",
    "    sorted_weights = np.array(sorted_weights)\n",
    "    q = p * np.sum(sorted_weights)\n",
    "    index = -1\n",
    "    cum_sum = 0\n",
    "    while cum_sum < q:\n",
    "        index += 1\n",
    "        cum_sum += sorted_weights[index]\n",
    "    return (sorted_data[:index], sorted_weights[:index], index)"
   ]
  },
  {
   "cell_type": "markdown",
   "metadata": {},
   "source": [
    "## National Income Shares"
   ]
  },
  {
   "cell_type": "markdown",
   "metadata": {},
   "source": [
    "**Helper Functions**"
   ]
  },
  {
   "cell_type": "code",
   "execution_count": 9,
   "metadata": {
    "collapsed": true
   },
   "outputs": [],
   "source": [
    "def calculate_income_share(assumptions, year, p, top=True, t_func_diff=False, t_func=get_final_table):\n",
    "    \"\"\"\n",
    "    Args:\n",
    "        str (table_type): accepts only 'hh' for household or 'individual' for individual.\n",
    "        int (year): currently limited to 2004 - 2015.\n",
    "        float (percentile)\n",
    "        bool (top): getting top [percentile]% or bottom [percentile]%? defaults to top.\n",
    "        \n",
    "    Returns:\n",
    "        float: income share.\n",
    "    \"\"\"\n",
    "    if year == 2009:\n",
    "        print(\"No data for 2009-2010\")\n",
    "        return\n",
    "    if t_func_diff:\n",
    "        t = t_func(\"individual\", year)\n",
    "    else:\n",
    "        t = t_func(year, assumptions)\n",
    "    if top:\n",
    "        p_data, p_weights, i = top_percentiles(p, t[\"income\"], t[\"weights\"])\n",
    "    else:\n",
    "        p_data, p_weights, i = bottom_percentiles(p, t[\"income\"], t[\"weights\"])\n",
    "    partial_sum = weighted_sum(p_data, p_weights)\n",
    "    total_sum = weighted_sum(t[\"income\"], t[\"weights\"])\n",
    "    return round(partial_sum / (total_sum), 3)"
   ]
  },
  {
   "cell_type": "markdown",
   "metadata": {},
   "source": [
    "### Top 1% Income Share"
   ]
  },
  {
   "cell_type": "code",
   "execution_count": 10,
   "metadata": {
    "collapsed": false
   },
   "outputs": [],
   "source": [
    "# top 1 percent\n",
    "years = np.arange(2004, 2016, 1)\n",
    "index = np.argwhere(years==2009)\n",
    "years = np.delete(years, index)\n",
    "\n",
    "top_1_income_shares_salaried = []\n",
    "for y in years:\n",
    "    top_1_income_shares_salaried.append(calculate_income_share(\"salaried\", y, 0.01))\n",
    "    \n",
    "\n",
    "top_1_income_shares_nonsalaried = []\n",
    "for y in years:\n",
    "    top_1_income_shares_nonsalaried.append(calculate_income_share(\"nonsalaried\", y, 0.01))"
   ]
  },
  {
   "cell_type": "code",
   "execution_count": 11,
   "metadata": {
    "collapsed": false
   },
   "outputs": [
    {
     "data": {
      "application/vnd.plotly.v1+json": {
       "data": [
        {
         "name": "Top 1% [Salaried]",
         "type": "scatter",
         "x": [
          2004,
          2005,
          2006,
          2007,
          2008,
          2010,
          2011,
          2012,
          2013,
          2014,
          2015
         ],
         "y": [
          0.31,
          0.308,
          0.313,
          0.305,
          0.338,
          0.258,
          0.31,
          0.354,
          0.291,
          0.299,
          0.302
         ]
        },
        {
         "name": "Top 1% [Non-Salaried]",
         "type": "scatter",
         "x": [
          2004,
          2005,
          2006,
          2007,
          2008,
          2010,
          2011,
          2012,
          2013,
          2014,
          2015
         ],
         "y": [
          0.283,
          0.273,
          0.279,
          0.325,
          0.33,
          0.213,
          0.267,
          0.316,
          0.272,
          0.287,
          0.29
         ]
        }
       ],
       "layout": {
        "title": "Top 1% National Income Share in Pakistan",
        "xaxis": {
         "title": "Year"
        },
        "yaxis": {
         "title": "National Income Share"
        }
       }
      },
      "text/html": [
       "<div id=\"cdd0d576-5d77-4ab6-9b16-ae26e3ee316e\" style=\"height: 525px; width: 100%;\" class=\"plotly-graph-div\"></div><script type=\"text/javascript\">require([\"plotly\"], function(Plotly) { window.PLOTLYENV=window.PLOTLYENV || {};window.PLOTLYENV.BASE_URL=\"https://plot.ly\";Plotly.newPlot(\"cdd0d576-5d77-4ab6-9b16-ae26e3ee316e\", [{\"type\": \"scatter\", \"name\": \"Top 1% [Salaried]\", \"y\": [0.31, 0.308, 0.313, 0.305, 0.338, 0.258, 0.31, 0.354, 0.291, 0.299, 0.302], \"x\": [2004, 2005, 2006, 2007, 2008, 2010, 2011, 2012, 2013, 2014, 2015]}, {\"type\": \"scatter\", \"name\": \"Top 1% [Non-Salaried]\", \"y\": [0.283, 0.273, 0.279, 0.325, 0.33, 0.213, 0.267, 0.316, 0.272, 0.287, 0.29], \"x\": [2004, 2005, 2006, 2007, 2008, 2010, 2011, 2012, 2013, 2014, 2015]}], {\"title\": \"Top 1% National Income Share in Pakistan\", \"xaxis\": {\"title\": \"Year\"}, \"yaxis\": {\"title\": \"National Income Share\"}}, {\"showLink\": true, \"linkText\": \"Export to plot.ly\"})});</script>"
      ],
      "text/vnd.plotly.v1+html": [
       "<div id=\"cdd0d576-5d77-4ab6-9b16-ae26e3ee316e\" style=\"height: 525px; width: 100%;\" class=\"plotly-graph-div\"></div><script type=\"text/javascript\">require([\"plotly\"], function(Plotly) { window.PLOTLYENV=window.PLOTLYENV || {};window.PLOTLYENV.BASE_URL=\"https://plot.ly\";Plotly.newPlot(\"cdd0d576-5d77-4ab6-9b16-ae26e3ee316e\", [{\"type\": \"scatter\", \"name\": \"Top 1% [Salaried]\", \"y\": [0.31, 0.308, 0.313, 0.305, 0.338, 0.258, 0.31, 0.354, 0.291, 0.299, 0.302], \"x\": [2004, 2005, 2006, 2007, 2008, 2010, 2011, 2012, 2013, 2014, 2015]}, {\"type\": \"scatter\", \"name\": \"Top 1% [Non-Salaried]\", \"y\": [0.283, 0.273, 0.279, 0.325, 0.33, 0.213, 0.267, 0.316, 0.272, 0.287, 0.29], \"x\": [2004, 2005, 2006, 2007, 2008, 2010, 2011, 2012, 2013, 2014, 2015]}], {\"title\": \"Top 1% National Income Share in Pakistan\", \"xaxis\": {\"title\": \"Year\"}, \"yaxis\": {\"title\": \"National Income Share\"}}, {\"showLink\": true, \"linkText\": \"Export to plot.ly\"})});</script>"
      ]
     },
     "metadata": {},
     "output_type": "display_data"
    }
   ],
   "source": [
    "top_1_trace_salaried = go.Scatter(\n",
    "    x = years,\n",
    "    y = top_1_income_shares_salaried,\n",
    "    name = 'Top 1% [Salaried]'\n",
    ")\n",
    "\n",
    "top_1_trace_nonsalaried = go.Scatter(\n",
    "    x = years,\n",
    "    y = top_1_income_shares_nonsalaried,\n",
    "    name = 'Top 1% [Non-Salaried]'\n",
    ")\n",
    "\n",
    "layout = dict(title = 'Top 1% National Income Share in Pakistan',\n",
    "              xaxis = dict(title = 'Year'),\n",
    "              yaxis = dict(title = 'National Income Share'),\n",
    "              )\n",
    "data = [top_1_trace_salaried, top_1_trace_nonsalaried]\n",
    "top1_share = plotly.offline.iplot({\n",
    "    \"data\": data,\n",
    "    \"layout\": layout\n",
    "})\n",
    "top1_share"
   ]
  },
  {
   "cell_type": "markdown",
   "metadata": {},
   "source": [
    "### Top 0.1% Income Share"
   ]
  },
  {
   "cell_type": "code",
   "execution_count": 12,
   "metadata": {
    "collapsed": false
   },
   "outputs": [],
   "source": [
    "# top 0.1 percent\n",
    "years = np.arange(2004, 2016, 1)\n",
    "index = np.argwhere(years==2009)\n",
    "years = np.delete(years, index)\n",
    "\n",
    "top_01_income_shares_salaried = []\n",
    "for y in years:\n",
    "    top_01_income_shares_salaried.append(calculate_income_share(\"salaried\", y, 0.001))\n",
    "    \n",
    "top_01_income_shares_nonsalaried = []\n",
    "for y in years:\n",
    "    top_01_income_shares_nonsalaried.append(calculate_income_share(\"nonsalaried\", y, 0.001))"
   ]
  },
  {
   "cell_type": "code",
   "execution_count": 13,
   "metadata": {
    "collapsed": false,
    "scrolled": false
   },
   "outputs": [
    {
     "data": {
      "application/vnd.plotly.v1+json": {
       "data": [
        {
         "name": "Top 0.1% [Salaried]",
         "type": "scatter",
         "x": [
          2004,
          2005,
          2006,
          2007,
          2008,
          2010,
          2011,
          2012,
          2013,
          2014,
          2015
         ],
         "y": [
          0.139,
          0.14,
          0.141,
          0.14,
          0.152,
          0.124,
          0.145,
          0.162,
          0.127,
          0.129,
          0.134
         ]
        },
        {
         "name": "Top 0.1% [Non-Salaried]",
         "type": "scatter",
         "x": [
          2004,
          2005,
          2006,
          2007,
          2008,
          2010,
          2011,
          2012,
          2013,
          2014,
          2015
         ],
         "y": [
          0.131,
          0.128,
          0.131,
          0.149,
          0.147,
          0.107,
          0.13,
          0.151,
          0.119,
          0.122,
          0.127
         ]
        }
       ],
       "layout": {
        "title": "Top 0.1% National Income Share in Pakistan",
        "xaxis": {
         "title": "Year"
        },
        "yaxis": {
         "title": "National Income Share"
        }
       }
      },
      "text/html": [
       "<div id=\"d5674da6-5950-4e2d-948a-4bc28eb0e5f7\" style=\"height: 525px; width: 100%;\" class=\"plotly-graph-div\"></div><script type=\"text/javascript\">require([\"plotly\"], function(Plotly) { window.PLOTLYENV=window.PLOTLYENV || {};window.PLOTLYENV.BASE_URL=\"https://plot.ly\";Plotly.newPlot(\"d5674da6-5950-4e2d-948a-4bc28eb0e5f7\", [{\"type\": \"scatter\", \"name\": \"Top 0.1% [Salaried]\", \"y\": [0.139, 0.14, 0.141, 0.14, 0.152, 0.124, 0.145, 0.162, 0.127, 0.129, 0.134], \"x\": [2004, 2005, 2006, 2007, 2008, 2010, 2011, 2012, 2013, 2014, 2015]}, {\"type\": \"scatter\", \"name\": \"Top 0.1% [Non-Salaried]\", \"y\": [0.131, 0.128, 0.131, 0.149, 0.147, 0.107, 0.13, 0.151, 0.119, 0.122, 0.127], \"x\": [2004, 2005, 2006, 2007, 2008, 2010, 2011, 2012, 2013, 2014, 2015]}], {\"title\": \"Top 0.1% National Income Share in Pakistan\", \"xaxis\": {\"title\": \"Year\"}, \"yaxis\": {\"title\": \"National Income Share\"}}, {\"showLink\": true, \"linkText\": \"Export to plot.ly\"})});</script>"
      ],
      "text/vnd.plotly.v1+html": [
       "<div id=\"d5674da6-5950-4e2d-948a-4bc28eb0e5f7\" style=\"height: 525px; width: 100%;\" class=\"plotly-graph-div\"></div><script type=\"text/javascript\">require([\"plotly\"], function(Plotly) { window.PLOTLYENV=window.PLOTLYENV || {};window.PLOTLYENV.BASE_URL=\"https://plot.ly\";Plotly.newPlot(\"d5674da6-5950-4e2d-948a-4bc28eb0e5f7\", [{\"type\": \"scatter\", \"name\": \"Top 0.1% [Salaried]\", \"y\": [0.139, 0.14, 0.141, 0.14, 0.152, 0.124, 0.145, 0.162, 0.127, 0.129, 0.134], \"x\": [2004, 2005, 2006, 2007, 2008, 2010, 2011, 2012, 2013, 2014, 2015]}, {\"type\": \"scatter\", \"name\": \"Top 0.1% [Non-Salaried]\", \"y\": [0.131, 0.128, 0.131, 0.149, 0.147, 0.107, 0.13, 0.151, 0.119, 0.122, 0.127], \"x\": [2004, 2005, 2006, 2007, 2008, 2010, 2011, 2012, 2013, 2014, 2015]}], {\"title\": \"Top 0.1% National Income Share in Pakistan\", \"xaxis\": {\"title\": \"Year\"}, \"yaxis\": {\"title\": \"National Income Share\"}}, {\"showLink\": true, \"linkText\": \"Export to plot.ly\"})});</script>"
      ]
     },
     "metadata": {},
     "output_type": "display_data"
    }
   ],
   "source": [
    "top_01_trace_salaried = go.Scatter(\n",
    "    x = years,\n",
    "    y = top_01_income_shares_salaried,\n",
    "    name = \"Top 0.1% [Salaried]\"\n",
    ")\n",
    "\n",
    "top_01_trace_nonsalaried = go.Scatter(\n",
    "    x = years,\n",
    "    y = top_01_income_shares_nonsalaried,\n",
    "    name = \"Top 0.1% [Non-Salaried]\"\n",
    ")\n",
    "\n",
    "layout = dict(title = 'Top 0.1% National Income Share in Pakistan',\n",
    "              xaxis = dict(title = 'Year'),\n",
    "              yaxis = dict(title = 'National Income Share'),\n",
    "              )\n",
    "data = [top_01_trace_salaried, top_01_trace_nonsalaried]\n",
    "top01_share = plotly.offline.iplot({\n",
    "    \"data\": data,\n",
    "    \"layout\": layout\n",
    "})\n",
    "top01_share"
   ]
  },
  {
   "cell_type": "markdown",
   "metadata": {},
   "source": [
    "### Top 0.01% Income Share"
   ]
  },
  {
   "cell_type": "code",
   "execution_count": 14,
   "metadata": {
    "collapsed": false
   },
   "outputs": [],
   "source": [
    "# top 0.01 percent\n",
    "years = np.arange(2004, 2016, 1)\n",
    "index = np.argwhere(years==2009)\n",
    "years = np.delete(years, index)\n",
    "\n",
    "top_001_income_shares_salaried = []\n",
    "for y in years:\n",
    "    top_001_income_shares_salaried.append(calculate_income_share(\"salaried\", y, 0.0001))\n",
    "    \n",
    "top_001_income_shares_nonsalaried = []\n",
    "for y in years:\n",
    "    top_001_income_shares_nonsalaried.append(calculate_income_share(\"nonsalaried\", y, 0.0001))"
   ]
  },
  {
   "cell_type": "code",
   "execution_count": 15,
   "metadata": {
    "collapsed": false,
    "scrolled": false
   },
   "outputs": [
    {
     "data": {
      "application/vnd.plotly.v1+json": {
       "data": [
        {
         "name": "Top 0.01% [Salaried]",
         "type": "scatter",
         "x": [
          2004,
          2005,
          2006,
          2007,
          2008,
          2010,
          2011,
          2012,
          2013,
          2014,
          2015
         ],
         "y": [
          0.054,
          0.056,
          0.056,
          0.057,
          0.06,
          0.052,
          0.059,
          0.066,
          0.047,
          0.047,
          0.051
         ]
        },
        {
         "name": "Top 0.01% [Non-Salaried]",
         "type": "scatter",
         "x": [
          2004,
          2005,
          2006,
          2007,
          2008,
          2010,
          2011,
          2012,
          2013,
          2014,
          2015
         ],
         "y": [
          0.051,
          0.052,
          0.052,
          0.058,
          0.056,
          0.045,
          0.054,
          0.062,
          0.043,
          0.045,
          0.048
         ]
        }
       ],
       "layout": {
        "title": "Top 0.01% National Income Share in Pakistan",
        "xaxis": {
         "title": "Year"
        },
        "yaxis": {
         "title": "National Income Share"
        }
       }
      },
      "text/html": [
       "<div id=\"d6c7e4cb-2d47-4136-a4d8-cb803c2da6d4\" style=\"height: 525px; width: 100%;\" class=\"plotly-graph-div\"></div><script type=\"text/javascript\">require([\"plotly\"], function(Plotly) { window.PLOTLYENV=window.PLOTLYENV || {};window.PLOTLYENV.BASE_URL=\"https://plot.ly\";Plotly.newPlot(\"d6c7e4cb-2d47-4136-a4d8-cb803c2da6d4\", [{\"type\": \"scatter\", \"name\": \"Top 0.01% [Salaried]\", \"y\": [0.054, 0.056, 0.056, 0.057, 0.06, 0.052, 0.059, 0.066, 0.047, 0.047, 0.051], \"x\": [2004, 2005, 2006, 2007, 2008, 2010, 2011, 2012, 2013, 2014, 2015]}, {\"type\": \"scatter\", \"name\": \"Top 0.01% [Non-Salaried]\", \"y\": [0.051, 0.052, 0.052, 0.058, 0.056, 0.045, 0.054, 0.062, 0.043, 0.045, 0.048], \"x\": [2004, 2005, 2006, 2007, 2008, 2010, 2011, 2012, 2013, 2014, 2015]}], {\"title\": \"Top 0.01% National Income Share in Pakistan\", \"xaxis\": {\"title\": \"Year\"}, \"yaxis\": {\"title\": \"National Income Share\"}}, {\"showLink\": true, \"linkText\": \"Export to plot.ly\"})});</script>"
      ],
      "text/vnd.plotly.v1+html": [
       "<div id=\"d6c7e4cb-2d47-4136-a4d8-cb803c2da6d4\" style=\"height: 525px; width: 100%;\" class=\"plotly-graph-div\"></div><script type=\"text/javascript\">require([\"plotly\"], function(Plotly) { window.PLOTLYENV=window.PLOTLYENV || {};window.PLOTLYENV.BASE_URL=\"https://plot.ly\";Plotly.newPlot(\"d6c7e4cb-2d47-4136-a4d8-cb803c2da6d4\", [{\"type\": \"scatter\", \"name\": \"Top 0.01% [Salaried]\", \"y\": [0.054, 0.056, 0.056, 0.057, 0.06, 0.052, 0.059, 0.066, 0.047, 0.047, 0.051], \"x\": [2004, 2005, 2006, 2007, 2008, 2010, 2011, 2012, 2013, 2014, 2015]}, {\"type\": \"scatter\", \"name\": \"Top 0.01% [Non-Salaried]\", \"y\": [0.051, 0.052, 0.052, 0.058, 0.056, 0.045, 0.054, 0.062, 0.043, 0.045, 0.048], \"x\": [2004, 2005, 2006, 2007, 2008, 2010, 2011, 2012, 2013, 2014, 2015]}], {\"title\": \"Top 0.01% National Income Share in Pakistan\", \"xaxis\": {\"title\": \"Year\"}, \"yaxis\": {\"title\": \"National Income Share\"}}, {\"showLink\": true, \"linkText\": \"Export to plot.ly\"})});</script>"
      ]
     },
     "metadata": {},
     "output_type": "display_data"
    }
   ],
   "source": [
    "top_001_trace_salaried = go.Scatter(\n",
    "    x = years,\n",
    "    y = top_001_income_shares_salaried,\n",
    "    name = \"Top 0.01% [Salaried]\"\n",
    ")\n",
    "\n",
    "top_001_trace_nonsalaried = go.Scatter(\n",
    "    x = years,\n",
    "    y = top_001_income_shares_nonsalaried,\n",
    "    name = \"Top 0.01% [Non-Salaried]\"\n",
    ")\n",
    "\n",
    "layout = dict(title = 'Top 0.01% National Income Share in Pakistan',\n",
    "              xaxis = dict(title = 'Year'),\n",
    "              yaxis = dict(title = 'National Income Share'),\n",
    "              )\n",
    "data = [top_001_trace_salaried, top_001_trace_nonsalaried]\n",
    "top001_share = plotly.offline.iplot({\n",
    "    \"data\": data,\n",
    "    \"layout\": layout\n",
    "})\n",
    "top001_share"
   ]
  },
  {
   "cell_type": "markdown",
   "metadata": {},
   "source": [
    "### Top 1% and Top 0.1% and Top 0.01% Income Shares"
   ]
  },
  {
   "cell_type": "code",
   "execution_count": 16,
   "metadata": {
    "collapsed": false
   },
   "outputs": [
    {
     "data": {
      "application/vnd.plotly.v1+json": {
       "data": [
        {
         "name": "Top 1% [Salaried]",
         "type": "scatter",
         "x": [
          2004,
          2005,
          2006,
          2007,
          2008,
          2010,
          2011,
          2012,
          2013,
          2014,
          2015
         ],
         "y": [
          0.31,
          0.308,
          0.313,
          0.305,
          0.338,
          0.258,
          0.31,
          0.354,
          0.291,
          0.299,
          0.302
         ]
        },
        {
         "name": "Top 1% [Non-Salaried]",
         "type": "scatter",
         "x": [
          2004,
          2005,
          2006,
          2007,
          2008,
          2010,
          2011,
          2012,
          2013,
          2014,
          2015
         ],
         "y": [
          0.283,
          0.273,
          0.279,
          0.325,
          0.33,
          0.213,
          0.267,
          0.316,
          0.272,
          0.287,
          0.29
         ]
        },
        {
         "name": "Top 0.1% [Salaried]",
         "type": "scatter",
         "x": [
          2004,
          2005,
          2006,
          2007,
          2008,
          2010,
          2011,
          2012,
          2013,
          2014,
          2015
         ],
         "y": [
          0.139,
          0.14,
          0.141,
          0.14,
          0.152,
          0.124,
          0.145,
          0.162,
          0.127,
          0.129,
          0.134
         ]
        },
        {
         "name": "Top 0.1% [Non-Salaried]",
         "type": "scatter",
         "x": [
          2004,
          2005,
          2006,
          2007,
          2008,
          2010,
          2011,
          2012,
          2013,
          2014,
          2015
         ],
         "y": [
          0.131,
          0.128,
          0.131,
          0.149,
          0.147,
          0.107,
          0.13,
          0.151,
          0.119,
          0.122,
          0.127
         ]
        },
        {
         "name": "Top 0.01% [Salaried]",
         "type": "scatter",
         "x": [
          2004,
          2005,
          2006,
          2007,
          2008,
          2010,
          2011,
          2012,
          2013,
          2014,
          2015
         ],
         "y": [
          0.054,
          0.056,
          0.056,
          0.057,
          0.06,
          0.052,
          0.059,
          0.066,
          0.047,
          0.047,
          0.051
         ]
        },
        {
         "name": "Top 0.01% [Non-Salaried]",
         "type": "scatter",
         "x": [
          2004,
          2005,
          2006,
          2007,
          2008,
          2010,
          2011,
          2012,
          2013,
          2014,
          2015
         ],
         "y": [
          0.051,
          0.052,
          0.052,
          0.058,
          0.056,
          0.045,
          0.054,
          0.062,
          0.043,
          0.045,
          0.048
         ]
        }
       ],
       "layout": {
        "title": "Top 1%, Top 0.1% and Top 0.01% National Income Shares in Pakistan",
        "xaxis": {
         "title": "Year"
        },
        "yaxis": {
         "title": "National Income Share"
        }
       }
      },
      "text/html": [
       "<div id=\"c715ba11-b271-4f0a-a126-d136c3941517\" style=\"height: 525px; width: 100%;\" class=\"plotly-graph-div\"></div><script type=\"text/javascript\">require([\"plotly\"], function(Plotly) { window.PLOTLYENV=window.PLOTLYENV || {};window.PLOTLYENV.BASE_URL=\"https://plot.ly\";Plotly.newPlot(\"c715ba11-b271-4f0a-a126-d136c3941517\", [{\"type\": \"scatter\", \"name\": \"Top 1% [Salaried]\", \"y\": [0.31, 0.308, 0.313, 0.305, 0.338, 0.258, 0.31, 0.354, 0.291, 0.299, 0.302], \"x\": [2004, 2005, 2006, 2007, 2008, 2010, 2011, 2012, 2013, 2014, 2015]}, {\"type\": \"scatter\", \"name\": \"Top 1% [Non-Salaried]\", \"y\": [0.283, 0.273, 0.279, 0.325, 0.33, 0.213, 0.267, 0.316, 0.272, 0.287, 0.29], \"x\": [2004, 2005, 2006, 2007, 2008, 2010, 2011, 2012, 2013, 2014, 2015]}, {\"type\": \"scatter\", \"name\": \"Top 0.1% [Salaried]\", \"y\": [0.139, 0.14, 0.141, 0.14, 0.152, 0.124, 0.145, 0.162, 0.127, 0.129, 0.134], \"x\": [2004, 2005, 2006, 2007, 2008, 2010, 2011, 2012, 2013, 2014, 2015]}, {\"type\": \"scatter\", \"name\": \"Top 0.1% [Non-Salaried]\", \"y\": [0.131, 0.128, 0.131, 0.149, 0.147, 0.107, 0.13, 0.151, 0.119, 0.122, 0.127], \"x\": [2004, 2005, 2006, 2007, 2008, 2010, 2011, 2012, 2013, 2014, 2015]}, {\"type\": \"scatter\", \"name\": \"Top 0.01% [Salaried]\", \"y\": [0.054, 0.056, 0.056, 0.057, 0.06, 0.052, 0.059, 0.066, 0.047, 0.047, 0.051], \"x\": [2004, 2005, 2006, 2007, 2008, 2010, 2011, 2012, 2013, 2014, 2015]}, {\"type\": \"scatter\", \"name\": \"Top 0.01% [Non-Salaried]\", \"y\": [0.051, 0.052, 0.052, 0.058, 0.056, 0.045, 0.054, 0.062, 0.043, 0.045, 0.048], \"x\": [2004, 2005, 2006, 2007, 2008, 2010, 2011, 2012, 2013, 2014, 2015]}], {\"title\": \"Top 1%, Top 0.1% and Top 0.01% National Income Shares in Pakistan\", \"xaxis\": {\"title\": \"Year\"}, \"yaxis\": {\"title\": \"National Income Share\"}}, {\"showLink\": true, \"linkText\": \"Export to plot.ly\"})});</script>"
      ],
      "text/vnd.plotly.v1+html": [
       "<div id=\"c715ba11-b271-4f0a-a126-d136c3941517\" style=\"height: 525px; width: 100%;\" class=\"plotly-graph-div\"></div><script type=\"text/javascript\">require([\"plotly\"], function(Plotly) { window.PLOTLYENV=window.PLOTLYENV || {};window.PLOTLYENV.BASE_URL=\"https://plot.ly\";Plotly.newPlot(\"c715ba11-b271-4f0a-a126-d136c3941517\", [{\"type\": \"scatter\", \"name\": \"Top 1% [Salaried]\", \"y\": [0.31, 0.308, 0.313, 0.305, 0.338, 0.258, 0.31, 0.354, 0.291, 0.299, 0.302], \"x\": [2004, 2005, 2006, 2007, 2008, 2010, 2011, 2012, 2013, 2014, 2015]}, {\"type\": \"scatter\", \"name\": \"Top 1% [Non-Salaried]\", \"y\": [0.283, 0.273, 0.279, 0.325, 0.33, 0.213, 0.267, 0.316, 0.272, 0.287, 0.29], \"x\": [2004, 2005, 2006, 2007, 2008, 2010, 2011, 2012, 2013, 2014, 2015]}, {\"type\": \"scatter\", \"name\": \"Top 0.1% [Salaried]\", \"y\": [0.139, 0.14, 0.141, 0.14, 0.152, 0.124, 0.145, 0.162, 0.127, 0.129, 0.134], \"x\": [2004, 2005, 2006, 2007, 2008, 2010, 2011, 2012, 2013, 2014, 2015]}, {\"type\": \"scatter\", \"name\": \"Top 0.1% [Non-Salaried]\", \"y\": [0.131, 0.128, 0.131, 0.149, 0.147, 0.107, 0.13, 0.151, 0.119, 0.122, 0.127], \"x\": [2004, 2005, 2006, 2007, 2008, 2010, 2011, 2012, 2013, 2014, 2015]}, {\"type\": \"scatter\", \"name\": \"Top 0.01% [Salaried]\", \"y\": [0.054, 0.056, 0.056, 0.057, 0.06, 0.052, 0.059, 0.066, 0.047, 0.047, 0.051], \"x\": [2004, 2005, 2006, 2007, 2008, 2010, 2011, 2012, 2013, 2014, 2015]}, {\"type\": \"scatter\", \"name\": \"Top 0.01% [Non-Salaried]\", \"y\": [0.051, 0.052, 0.052, 0.058, 0.056, 0.045, 0.054, 0.062, 0.043, 0.045, 0.048], \"x\": [2004, 2005, 2006, 2007, 2008, 2010, 2011, 2012, 2013, 2014, 2015]}], {\"title\": \"Top 1%, Top 0.1% and Top 0.01% National Income Shares in Pakistan\", \"xaxis\": {\"title\": \"Year\"}, \"yaxis\": {\"title\": \"National Income Share\"}}, {\"showLink\": true, \"linkText\": \"Export to plot.ly\"})});</script>"
      ]
     },
     "metadata": {},
     "output_type": "display_data"
    }
   ],
   "source": [
    "layout = dict(title = 'Top 1%, Top 0.1% and Top 0.01% National Income Shares in Pakistan',\n",
    "              xaxis = dict(title = 'Year'),\n",
    "              yaxis = dict(title = 'National Income Share'),\n",
    "              )\n",
    "data = [top_1_trace_salaried, top_1_trace_nonsalaried, top_01_trace_salaried, top_01_trace_nonsalaried, top_001_trace_salaried, top_001_trace_nonsalaried]\n",
    "top1_01_001_share = plotly.offline.iplot({\n",
    "    \"data\": data,\n",
    "    \"layout\": layout\n",
    "})\n",
    "top1_01_001_share"
   ]
  },
  {
   "cell_type": "markdown",
   "metadata": {},
   "source": [
    "### Top 1% and Bottom 50% Income Shares"
   ]
  },
  {
   "cell_type": "code",
   "execution_count": 17,
   "metadata": {
    "collapsed": true
   },
   "outputs": [],
   "source": [
    "# bottom 50 percent\n",
    "years = np.arange(2004, 2016, 1)\n",
    "index = np.argwhere(years==2009)\n",
    "years = np.delete(years, index)\n",
    "\n",
    "bottom_50_income_shares_salaried = []\n",
    "for y in years:\n",
    "    bottom_50_income_shares_salaried.append(calculate_income_share(\"salaried\", y, 0.5, top=False))\n",
    "\n",
    "bottom_50_income_shares_nonsalaried = []\n",
    "for y in years:\n",
    "    bottom_50_income_shares_nonsalaried.append(calculate_income_share(\"nonsalaried\", y, 0.5, top=False))"
   ]
  },
  {
   "cell_type": "code",
   "execution_count": 18,
   "metadata": {
    "collapsed": false
   },
   "outputs": [
    {
     "data": {
      "application/vnd.plotly.v1+json": {
       "data": [
        {
         "name": "Top 1% [Salaried]",
         "type": "scatter",
         "x": [
          2004,
          2005,
          2006,
          2007,
          2008,
          2010,
          2011,
          2012,
          2013,
          2014,
          2015
         ],
         "y": [
          0.31,
          0.308,
          0.313,
          0.305,
          0.338,
          0.258,
          0.31,
          0.354,
          0.291,
          0.299,
          0.302
         ]
        },
        {
         "name": "Top 1% [Non-Salaried]",
         "type": "scatter",
         "x": [
          2004,
          2005,
          2006,
          2007,
          2008,
          2010,
          2011,
          2012,
          2013,
          2014,
          2015
         ],
         "y": [
          0.283,
          0.273,
          0.279,
          0.325,
          0.33,
          0.213,
          0.267,
          0.316,
          0.272,
          0.287,
          0.29
         ]
        },
        {
         "name": "Bottom 50% [Salaried]",
         "type": "scatter",
         "x": [
          2004,
          2005,
          2006,
          2007,
          2008,
          2010,
          2011,
          2012,
          2013,
          2014,
          2015
         ],
         "y": [
          0.123,
          0.116,
          0.079,
          0.124,
          0.107,
          0.154,
          0.122,
          0.104,
          0.122,
          0.118,
          0.116
         ]
        },
        {
         "name": "Bottom 50% [Non-Salaried]",
         "type": "scatter",
         "x": [
          2004,
          2005,
          2006,
          2007,
          2008,
          2010,
          2011,
          2012,
          2013,
          2014,
          2015
         ],
         "y": [
          0.146,
          0.135,
          0.091,
          0.103,
          0.088,
          0.169,
          0.139,
          0.123,
          0.131,
          0.129,
          0.127
         ]
        }
       ],
       "layout": {
        "title": "Top 1% and Bottom 50% National Income Shares in Pakistan",
        "xaxis": {
         "title": "Year"
        },
        "yaxis": {
         "title": "National Income Share"
        }
       }
      },
      "text/html": [
       "<div id=\"5f7710a8-2eb1-4b46-a292-6068238dcf9d\" style=\"height: 525px; width: 100%;\" class=\"plotly-graph-div\"></div><script type=\"text/javascript\">require([\"plotly\"], function(Plotly) { window.PLOTLYENV=window.PLOTLYENV || {};window.PLOTLYENV.BASE_URL=\"https://plot.ly\";Plotly.newPlot(\"5f7710a8-2eb1-4b46-a292-6068238dcf9d\", [{\"type\": \"scatter\", \"name\": \"Top 1% [Salaried]\", \"y\": [0.31, 0.308, 0.313, 0.305, 0.338, 0.258, 0.31, 0.354, 0.291, 0.299, 0.302], \"x\": [2004, 2005, 2006, 2007, 2008, 2010, 2011, 2012, 2013, 2014, 2015]}, {\"type\": \"scatter\", \"name\": \"Top 1% [Non-Salaried]\", \"y\": [0.283, 0.273, 0.279, 0.325, 0.33, 0.213, 0.267, 0.316, 0.272, 0.287, 0.29], \"x\": [2004, 2005, 2006, 2007, 2008, 2010, 2011, 2012, 2013, 2014, 2015]}, {\"type\": \"scatter\", \"name\": \"Bottom 50% [Salaried]\", \"y\": [0.123, 0.116, 0.079, 0.124, 0.107, 0.154, 0.122, 0.104, 0.122, 0.118, 0.116], \"x\": [2004, 2005, 2006, 2007, 2008, 2010, 2011, 2012, 2013, 2014, 2015]}, {\"type\": \"scatter\", \"name\": \"Bottom 50% [Non-Salaried]\", \"y\": [0.146, 0.135, 0.091, 0.103, 0.088, 0.169, 0.139, 0.123, 0.131, 0.129, 0.127], \"x\": [2004, 2005, 2006, 2007, 2008, 2010, 2011, 2012, 2013, 2014, 2015]}], {\"title\": \"Top 1% and Bottom 50% National Income Shares in Pakistan\", \"xaxis\": {\"title\": \"Year\"}, \"yaxis\": {\"title\": \"National Income Share\"}}, {\"showLink\": true, \"linkText\": \"Export to plot.ly\"})});</script>"
      ],
      "text/vnd.plotly.v1+html": [
       "<div id=\"5f7710a8-2eb1-4b46-a292-6068238dcf9d\" style=\"height: 525px; width: 100%;\" class=\"plotly-graph-div\"></div><script type=\"text/javascript\">require([\"plotly\"], function(Plotly) { window.PLOTLYENV=window.PLOTLYENV || {};window.PLOTLYENV.BASE_URL=\"https://plot.ly\";Plotly.newPlot(\"5f7710a8-2eb1-4b46-a292-6068238dcf9d\", [{\"type\": \"scatter\", \"name\": \"Top 1% [Salaried]\", \"y\": [0.31, 0.308, 0.313, 0.305, 0.338, 0.258, 0.31, 0.354, 0.291, 0.299, 0.302], \"x\": [2004, 2005, 2006, 2007, 2008, 2010, 2011, 2012, 2013, 2014, 2015]}, {\"type\": \"scatter\", \"name\": \"Top 1% [Non-Salaried]\", \"y\": [0.283, 0.273, 0.279, 0.325, 0.33, 0.213, 0.267, 0.316, 0.272, 0.287, 0.29], \"x\": [2004, 2005, 2006, 2007, 2008, 2010, 2011, 2012, 2013, 2014, 2015]}, {\"type\": \"scatter\", \"name\": \"Bottom 50% [Salaried]\", \"y\": [0.123, 0.116, 0.079, 0.124, 0.107, 0.154, 0.122, 0.104, 0.122, 0.118, 0.116], \"x\": [2004, 2005, 2006, 2007, 2008, 2010, 2011, 2012, 2013, 2014, 2015]}, {\"type\": \"scatter\", \"name\": \"Bottom 50% [Non-Salaried]\", \"y\": [0.146, 0.135, 0.091, 0.103, 0.088, 0.169, 0.139, 0.123, 0.131, 0.129, 0.127], \"x\": [2004, 2005, 2006, 2007, 2008, 2010, 2011, 2012, 2013, 2014, 2015]}], {\"title\": \"Top 1% and Bottom 50% National Income Shares in Pakistan\", \"xaxis\": {\"title\": \"Year\"}, \"yaxis\": {\"title\": \"National Income Share\"}}, {\"showLink\": true, \"linkText\": \"Export to plot.ly\"})});</script>"
      ]
     },
     "metadata": {},
     "output_type": "display_data"
    }
   ],
   "source": [
    "bottom_50_trace_salaried = go.Scatter(\n",
    "    x = years,\n",
    "    y = bottom_50_income_shares_salaried,\n",
    "    name = 'Bottom 50% [Salaried]'\n",
    ")\n",
    "\n",
    "bottom_50_trace_nonsalaried = go.Scatter(\n",
    "    x = years,\n",
    "    y = bottom_50_income_shares_nonsalaried,\n",
    "    name = 'Bottom 50% [Non-Salaried]'\n",
    ")\n",
    "\n",
    "layout = dict(title = 'Top 1% and Bottom 50% National Income Shares in Pakistan',\n",
    "              xaxis = dict(title = 'Year'),\n",
    "              yaxis = dict(title = 'National Income Share'),\n",
    "              )\n",
    "data = [top_1_trace_salaried, top_1_trace_nonsalaried, bottom_50_trace_salaried, bottom_50_trace_nonsalaried]\n",
    "top1_bottom50_share = plotly.offline.iplot({\n",
    "    \"data\": data,\n",
    "    \"layout\": layout\n",
    "})\n",
    "top1_bottom50_share"
   ]
  },
  {
   "cell_type": "markdown",
   "metadata": {},
   "source": [
    "### Top 10% and Middle 40% Income Shares"
   ]
  },
  {
   "cell_type": "code",
   "execution_count": 19,
   "metadata": {
    "collapsed": false
   },
   "outputs": [],
   "source": [
    "# top 10 percent\n",
    "years = np.arange(2004, 2016, 1)\n",
    "index = np.argwhere(years==2009)\n",
    "years = np.delete(years, index)\n",
    "\n",
    "top_10_income_shares_salaried = []\n",
    "for y in years:\n",
    "    top_10_income_shares_salaried.append(calculate_income_share(\"salaried\", y, 0.1))\n",
    "    \n",
    "top_10_income_shares_nonsalaried = []\n",
    "for y in years:\n",
    "    top_10_income_shares_nonsalaried.append(calculate_income_share(\"nonsalaried\", y, 0.1))"
   ]
  },
  {
   "cell_type": "code",
   "execution_count": 20,
   "metadata": {
    "collapsed": true
   },
   "outputs": [],
   "source": [
    "# middle 40 percent\n",
    "years = np.arange(2004, 2016, 1)\n",
    "index = np.argwhere(years==2009)\n",
    "years = np.delete(years, index)\n",
    "\n",
    "middle_40_income_shares_salaried = []\n",
    "for y in years:\n",
    "    top10 = calculate_income_share(\"salaried\", y, 0.1)\n",
    "    bottom50 = calculate_income_share(\"salaried\", y, 0.5, top=False)\n",
    "    middle_40_income_shares_salaried.append(1 - (top10 + bottom50))\n",
    "    \n",
    "middle_40_income_shares_nonsalaried = []\n",
    "for y in years:\n",
    "    top10 = calculate_income_share(\"nonsalaried\", y, 0.1)\n",
    "    bottom50 = calculate_income_share(\"nonsalaried\", y, 0.5, top=False)\n",
    "    middle_40_income_shares_nonsalaried.append(1 - (top10 + bottom50))"
   ]
  },
  {
   "cell_type": "code",
   "execution_count": 21,
   "metadata": {
    "collapsed": false,
    "scrolled": false
   },
   "outputs": [
    {
     "data": {
      "application/vnd.plotly.v1+json": {
       "data": [
        {
         "name": "Top 10% [Salaried]",
         "type": "scatter",
         "x": [
          2004,
          2005,
          2006,
          2007,
          2008,
          2010,
          2011,
          2012,
          2013,
          2014,
          2015
         ],
         "y": [
          0.589,
          0.568,
          0.583,
          0.55,
          0.64,
          0.48,
          0.557,
          0.636,
          0.545,
          0.588,
          0.584
         ]
        },
        {
         "name": "Top 10% [Non-Salaried]",
         "type": "scatter",
         "x": [
          2004,
          2005,
          2006,
          2007,
          2008,
          2010,
          2011,
          2012,
          2013,
          2014,
          2015
         ],
         "y": [
          0.525,
          0.5,
          0.514,
          0.608,
          0.632,
          0.43,
          0.496,
          0.572,
          0.51,
          0.548,
          0.544
         ]
        },
        {
         "name": "Middle 40% [Salaried]",
         "type": "scatter",
         "x": [
          2004,
          2005,
          2006,
          2007,
          2008,
          2010,
          2011,
          2012,
          2013,
          2014,
          2015
         ],
         "y": [
          0.28800000000000003,
          0.31600000000000006,
          0.3380000000000001,
          0.32599999999999996,
          0.253,
          0.366,
          0.32099999999999995,
          0.26,
          0.33299999999999996,
          0.29400000000000004,
          0.30000000000000004
         ]
        },
        {
         "name": "Middle 40% [Non-Salaried]",
         "type": "scatter",
         "x": [
          2004,
          2005,
          2006,
          2007,
          2008,
          2010,
          2011,
          2012,
          2013,
          2014,
          2015
         ],
         "y": [
          0.32899999999999996,
          0.365,
          0.395,
          0.28900000000000003,
          0.28,
          0.401,
          0.365,
          0.30500000000000005,
          0.359,
          0.32299999999999995,
          0.32899999999999996
         ]
        }
       ],
       "layout": {
        "title": "Top 10% and Middle 40% National Income Shares in Pakistan",
        "xaxis": {
         "title": "Year"
        },
        "yaxis": {
         "title": "National Income Share"
        }
       }
      },
      "text/html": [
       "<div id=\"18429622-4163-48a2-b29e-96aadc0fbb33\" style=\"height: 525px; width: 100%;\" class=\"plotly-graph-div\"></div><script type=\"text/javascript\">require([\"plotly\"], function(Plotly) { window.PLOTLYENV=window.PLOTLYENV || {};window.PLOTLYENV.BASE_URL=\"https://plot.ly\";Plotly.newPlot(\"18429622-4163-48a2-b29e-96aadc0fbb33\", [{\"type\": \"scatter\", \"name\": \"Top 10% [Salaried]\", \"y\": [0.589, 0.568, 0.583, 0.55, 0.64, 0.48, 0.557, 0.636, 0.545, 0.588, 0.584], \"x\": [2004, 2005, 2006, 2007, 2008, 2010, 2011, 2012, 2013, 2014, 2015]}, {\"type\": \"scatter\", \"name\": \"Top 10% [Non-Salaried]\", \"y\": [0.525, 0.5, 0.514, 0.608, 0.632, 0.43, 0.496, 0.572, 0.51, 0.548, 0.544], \"x\": [2004, 2005, 2006, 2007, 2008, 2010, 2011, 2012, 2013, 2014, 2015]}, {\"type\": \"scatter\", \"name\": \"Middle 40% [Salaried]\", \"y\": [0.28800000000000003, 0.31600000000000006, 0.3380000000000001, 0.32599999999999996, 0.253, 0.366, 0.32099999999999995, 0.26, 0.33299999999999996, 0.29400000000000004, 0.30000000000000004], \"x\": [2004, 2005, 2006, 2007, 2008, 2010, 2011, 2012, 2013, 2014, 2015]}, {\"type\": \"scatter\", \"name\": \"Middle 40% [Non-Salaried]\", \"y\": [0.32899999999999996, 0.365, 0.395, 0.28900000000000003, 0.28, 0.401, 0.365, 0.30500000000000005, 0.359, 0.32299999999999995, 0.32899999999999996], \"x\": [2004, 2005, 2006, 2007, 2008, 2010, 2011, 2012, 2013, 2014, 2015]}], {\"title\": \"Top 10% and Middle 40% National Income Shares in Pakistan\", \"xaxis\": {\"title\": \"Year\"}, \"yaxis\": {\"title\": \"National Income Share\"}}, {\"showLink\": true, \"linkText\": \"Export to plot.ly\"})});</script>"
      ],
      "text/vnd.plotly.v1+html": [
       "<div id=\"18429622-4163-48a2-b29e-96aadc0fbb33\" style=\"height: 525px; width: 100%;\" class=\"plotly-graph-div\"></div><script type=\"text/javascript\">require([\"plotly\"], function(Plotly) { window.PLOTLYENV=window.PLOTLYENV || {};window.PLOTLYENV.BASE_URL=\"https://plot.ly\";Plotly.newPlot(\"18429622-4163-48a2-b29e-96aadc0fbb33\", [{\"type\": \"scatter\", \"name\": \"Top 10% [Salaried]\", \"y\": [0.589, 0.568, 0.583, 0.55, 0.64, 0.48, 0.557, 0.636, 0.545, 0.588, 0.584], \"x\": [2004, 2005, 2006, 2007, 2008, 2010, 2011, 2012, 2013, 2014, 2015]}, {\"type\": \"scatter\", \"name\": \"Top 10% [Non-Salaried]\", \"y\": [0.525, 0.5, 0.514, 0.608, 0.632, 0.43, 0.496, 0.572, 0.51, 0.548, 0.544], \"x\": [2004, 2005, 2006, 2007, 2008, 2010, 2011, 2012, 2013, 2014, 2015]}, {\"type\": \"scatter\", \"name\": \"Middle 40% [Salaried]\", \"y\": [0.28800000000000003, 0.31600000000000006, 0.3380000000000001, 0.32599999999999996, 0.253, 0.366, 0.32099999999999995, 0.26, 0.33299999999999996, 0.29400000000000004, 0.30000000000000004], \"x\": [2004, 2005, 2006, 2007, 2008, 2010, 2011, 2012, 2013, 2014, 2015]}, {\"type\": \"scatter\", \"name\": \"Middle 40% [Non-Salaried]\", \"y\": [0.32899999999999996, 0.365, 0.395, 0.28900000000000003, 0.28, 0.401, 0.365, 0.30500000000000005, 0.359, 0.32299999999999995, 0.32899999999999996], \"x\": [2004, 2005, 2006, 2007, 2008, 2010, 2011, 2012, 2013, 2014, 2015]}], {\"title\": \"Top 10% and Middle 40% National Income Shares in Pakistan\", \"xaxis\": {\"title\": \"Year\"}, \"yaxis\": {\"title\": \"National Income Share\"}}, {\"showLink\": true, \"linkText\": \"Export to plot.ly\"})});</script>"
      ]
     },
     "metadata": {},
     "output_type": "display_data"
    }
   ],
   "source": [
    "top_10_trace_salaried = go.Scatter(\n",
    "    x = years,\n",
    "    y = top_10_income_shares_salaried,\n",
    "    name = \"Top 10% [Salaried]\"\n",
    ")\n",
    "\n",
    "top_10_trace_nonsalaried = go.Scatter(\n",
    "    x = years,\n",
    "    y = top_10_income_shares_nonsalaried,\n",
    "    name = \"Top 10% [Non-Salaried]\"\n",
    ")\n",
    "\n",
    "middle_40_trace_salaried = go.Scatter(\n",
    "    x = years,\n",
    "    y = middle_40_income_shares_salaried,\n",
    "    name = \"Middle 40% [Salaried]\"\n",
    ")\n",
    "\n",
    "middle_40_trace_nonsalaried = go.Scatter(\n",
    "    x = years,\n",
    "    y = middle_40_income_shares_nonsalaried,\n",
    "    name = \"Middle 40% [Non-Salaried]\"\n",
    ")\n",
    "\n",
    "layout = dict(title = 'Top 10% and Middle 40% National Income Shares in Pakistan',\n",
    "              xaxis = dict(title = 'Year'),\n",
    "              yaxis = dict(title = 'National Income Share'),\n",
    "              )\n",
    "data = [top_10_trace_salaried, top_10_trace_nonsalaried, middle_40_trace_salaried, middle_40_trace_nonsalaried]\n",
    "top10_middle40_share = plotly.offline.iplot({\n",
    "    \"data\": data,\n",
    "    \"layout\": layout\n",
    "})\n",
    "top10_middle40_share"
   ]
  },
  {
   "cell_type": "markdown",
   "metadata": {},
   "source": [
    "## Miscellaneous"
   ]
  },
  {
   "cell_type": "markdown",
   "metadata": {},
   "source": [
    "**Helper Functions**"
   ]
  },
  {
   "cell_type": "code",
   "execution_count": 22,
   "metadata": {
    "collapsed": true
   },
   "outputs": [],
   "source": [
    "def get_survey_table(table_type, start_year):  \n",
    "    \"\"\"\n",
    "    Sorted by income.\n",
    "    \n",
    "    Args:\n",
    "        str (table_type): accepts only 'hh' for household or 'individual' for individual.\n",
    "        int (start_year): currently limited to 2004 - 2015.\n",
    "\n",
    "    Returns:\n",
    "        pd.DataFrame: dataframe corresponding to table.\n",
    "    \"\"\"\n",
    "    t = eval(table_type + \"_balance_sheet_\" + str(start_year) + \"_\" + (str(start_year+1)[-2:]))\n",
    "    t = t.sort_values(by=['income']).reset_index().drop([\"index\"], axis=1)\n",
    "    return t"
   ]
  },
  {
   "cell_type": "markdown",
   "metadata": {},
   "source": [
    "### National Income Shares in Pakistan, 2015 (Final Data)"
   ]
  },
  {
   "cell_type": "markdown",
   "metadata": {},
   "source": [
    "We can see how our tax data corrects the survey data. The change is rather significant. We will show a few different splits."
   ]
  },
  {
   "cell_type": "code",
   "execution_count": 23,
   "metadata": {
    "collapsed": true
   },
   "outputs": [],
   "source": [
    "def format_number(value):\n",
    "    return \"{:,}\".format(value)\n",
    "\n",
    "def format_percent(value):\n",
    "    return str(round(value * 100, 1)) + \"%\""
   ]
  },
  {
   "cell_type": "code",
   "execution_count": 24,
   "metadata": {
    "collapsed": true
   },
   "outputs": [],
   "source": [
    "lf = pd.read_excel(\"./miscData/labor_force_total.xls\")"
   ]
  },
  {
   "cell_type": "code",
   "execution_count": 25,
   "metadata": {
    "collapsed": false
   },
   "outputs": [],
   "source": [
    "lf_tot = lf[lf[\"Country Code\"] == \"PAK\"][\"2015\"].values[0]\n",
    "incomes = np.array(get_final_table(2015, \"salaried\")[\"income\"])\n",
    "weights = np.array(get_final_table(2015, \"salaried\")[\"weights\"])"
   ]
  },
  {
   "cell_type": "code",
   "execution_count": 26,
   "metadata": {
    "collapsed": false
   },
   "outputs": [],
   "source": [
    "t10_incomes, t10_weights, it10 = top_percentiles(0.1, get_final_table(2015, \"salaried\")[\"income\"], get_final_table(2015, \"salaried\")[\"weights\"])\n",
    "b50_incomes, b50_weights, ib50 = bottom_percentiles(0.5, get_final_table(2015, \"salaried\")[\"income\"], get_final_table(2015, \"salaried\")[\"weights\"])\n",
    "t1_incomes, t1_weights, _ = top_percentiles(0.01, get_final_table(2015, \"salaried\")[\"income\"], get_final_table(2015, \"salaried\")[\"weights\"])\n",
    "t01_incomes, t01_weights, _ = top_percentiles(0.001, get_final_table(2015, \"salaried\")[\"income\"], get_final_table(2015, \"salaried\")[\"weights\"])\n",
    "t001_incomes, t001_weights, _ = top_percentiles(0.0001, get_final_table(2015, \"salaried\")[\"income\"], get_final_table(2015, \"salaried\")[\"weights\"])\n",
    "\n",
    "t_avg = weighted_sum(incomes, weights) / sum(weights)\n",
    "b50_avg = weighted_sum(b50_incomes, b50_weights) / sum(b50_weights)\n",
    "m40_avg = weighted_sum(incomes[ib50:it10], weights[ib50:it10]) / sum(weights[ib50:it10])\n",
    "t10_avg = weighted_sum(t10_incomes, t10_weights) / sum(t10_weights)\n",
    "t1_avg = weighted_sum(t1_incomes, t1_weights) / sum(t1_weights)\n",
    "t01_avg = weighted_sum(t01_incomes, t01_weights) / sum(t01_weights)\n",
    "t001_avg = weighted_sum(t001_incomes, t001_weights) / sum(t001_weights)"
   ]
  },
  {
   "cell_type": "code",
   "execution_count": 27,
   "metadata": {
    "collapsed": false
   },
   "outputs": [
    {
     "data": {
      "text/html": [
       "<div>\n",
       "<table border=\"1\" class=\"dataframe\">\n",
       "  <thead>\n",
       "    <tr style=\"text-align: right;\">\n",
       "      <th></th>\n",
       "      <th>Labor Force</th>\n",
       "      <th>Average Annual Income (PKR)</th>\n",
       "      <th>Average Annual Income (USD)</th>\n",
       "      <th>Income Share</th>\n",
       "    </tr>\n",
       "  </thead>\n",
       "  <tbody>\n",
       "    <tr>\n",
       "      <th>Full Population</th>\n",
       "      <td>65,422,753</td>\n",
       "      <td>279,601</td>\n",
       "      <td>$2,628</td>\n",
       "      <td>100%</td>\n",
       "    </tr>\n",
       "    <tr>\n",
       "      <th>Bottom 50%</th>\n",
       "      <td>32,711,376</td>\n",
       "      <td>64,927</td>\n",
       "      <td>$610</td>\n",
       "      <td>11.6%</td>\n",
       "    </tr>\n",
       "    <tr>\n",
       "      <th>Middle 40%</th>\n",
       "      <td>26,169,101</td>\n",
       "      <td>209,513</td>\n",
       "      <td>$1,969</td>\n",
       "      <td>30.0%</td>\n",
       "    </tr>\n",
       "    <tr>\n",
       "      <th>Top 10%</th>\n",
       "      <td>6,542,275</td>\n",
       "      <td>1,633,230</td>\n",
       "      <td>$15,352</td>\n",
       "      <td>58.4%</td>\n",
       "    </tr>\n",
       "    <tr>\n",
       "      <th>Top 1%</th>\n",
       "      <td>654,227</td>\n",
       "      <td>8,437,088</td>\n",
       "      <td>$79,308</td>\n",
       "      <td>30.2%</td>\n",
       "    </tr>\n",
       "    <tr>\n",
       "      <th>Top 0.1%</th>\n",
       "      <td>65,422</td>\n",
       "      <td>37,474,289</td>\n",
       "      <td>$352,258</td>\n",
       "      <td>13.4%</td>\n",
       "    </tr>\n",
       "    <tr>\n",
       "      <th>Top 0.01%</th>\n",
       "      <td>6,542</td>\n",
       "      <td>142,210,514</td>\n",
       "      <td>$1,336,778</td>\n",
       "      <td>5.1%</td>\n",
       "    </tr>\n",
       "  </tbody>\n",
       "</table>\n",
       "</div>"
      ],
      "text/plain": [
       "                Labor Force Average Annual Income (PKR)  \\\n",
       "Full Population  65,422,753                     279,601   \n",
       "Bottom 50%       32,711,376                      64,927   \n",
       "Middle 40%       26,169,101                     209,513   \n",
       "Top 10%           6,542,275                   1,633,230   \n",
       "Top 1%              654,227                   8,437,088   \n",
       "Top 0.1%             65,422                  37,474,289   \n",
       "Top 0.01%             6,542                 142,210,514   \n",
       "\n",
       "                Average Annual Income (USD) Income Share  \n",
       "Full Population                      $2,628         100%  \n",
       "Bottom 50%                             $610        11.6%  \n",
       "Middle 40%                           $1,969        30.0%  \n",
       "Top 10%                             $15,352        58.4%  \n",
       "Top 1%                              $79,308        30.2%  \n",
       "Top 0.1%                           $352,258        13.4%  \n",
       "Top 0.01%                        $1,336,778         5.1%  "
      ]
     },
     "execution_count": 27,
     "metadata": {},
     "output_type": "execute_result"
    }
   ],
   "source": [
    "d = {\n",
    "    'Labor Force': [format_number(x) for x in [lf_tot, int(lf_tot*0.5), int(lf_tot*0.4), int(lf_tot*0.1), int(lf_tot*0.01), int(lf_tot*0.001), int(lf_tot*0.0001)]], \n",
    "    'Average Annual Income (PKR)': [format_number(int(x)) for x in [t_avg, b50_avg, m40_avg, t10_avg, t1_avg, t01_avg, t001_avg]], \n",
    "    'Average Annual Income (USD)': [\"$\" + format_number(int(x * 0.0094)) for x in [t_avg, b50_avg, m40_avg, t10_avg, t1_avg, t01_avg, t001_avg]], \n",
    "    'Income Share': [format_percent(x) for x in [1, calculate_income_share(\"salaried\", 2015, 0.5, top=False), 1 - (calculate_income_share(\"salaried\", 2015, 0.1) + calculate_income_share(\"salaried\", 2015, 0.5, top=False)),calculate_income_share(\"salaried\", 2015, 0.1), calculate_income_share(\"salaried\", 2015, 0.01), calculate_income_share(\"salaried\", 2015, 0.001), calculate_income_share(\"salaried\", 2015, 0.0001)]], \n",
    "    }\n",
    "\n",
    "ntnl_income_table = pd.DataFrame(d, [\"Full Population\", \"Bottom 50%\", \"Middle 40%\", \"Top 10%\", \"Top 1%\", \"Top 0.1%\", \"Top 0.01%\"])\n",
    "ntnl_income_table = ntnl_income_table[[\"Labor Force\", \"Average Annual Income (PKR)\", \"Average Annual Income (USD)\", \"Income Share\"]]\n",
    "ntnl_income_table"
   ]
  },
  {
   "cell_type": "code",
   "execution_count": 28,
   "metadata": {
    "collapsed": false
   },
   "outputs": [
    {
     "name": "stdout",
     "output_type": "stream",
     "text": [
      "\\begin{tabular}{lllll}\n",
      "\\toprule\n",
      "{} & Labor Force & Average Annual Income (PKR) & Average Annual Income (USD) & Income Share \\\\\n",
      "\\midrule\n",
      "Full Population &  65,422,753 &                     279,601 &                      \\$2,628 &         100\\% \\\\\n",
      "Bottom 50\\%      &  32,711,376 &                      64,927 &                        \\$610 &        11.6\\% \\\\\n",
      "Middle 40\\%      &  26,169,101 &                     209,513 &                      \\$1,969 &        30.0\\% \\\\\n",
      "Top 10\\%         &   6,542,275 &                   1,633,230 &                     \\$15,352 &        58.4\\% \\\\\n",
      "Top 1\\%          &     654,227 &                   8,437,088 &                     \\$79,308 &        30.2\\% \\\\\n",
      "Top 0.1\\%        &      65,422 &                  37,474,289 &                    \\$352,258 &        13.4\\% \\\\\n",
      "Top 0.01\\%       &       6,542 &                 142,210,514 &                  \\$1,336,778 &         5.1\\% \\\\\n",
      "\\bottomrule\n",
      "\\end{tabular}\n",
      "\n"
     ]
    }
   ],
   "source": [
    "print(ntnl_income_table.to_latex())"
   ]
  },
  {
   "cell_type": "markdown",
   "metadata": {},
   "source": [
    "### National Income Shares in Pakistan, 2015 (Survey Data)"
   ]
  },
  {
   "cell_type": "code",
   "execution_count": 29,
   "metadata": {
    "collapsed": true
   },
   "outputs": [],
   "source": [
    "lf_tot = lf[lf[\"Country Code\"] == \"PAK\"][\"2015\"].values[0]\n",
    "incomes = np.array(get_survey_table(\"individual\", 2015)[\"income\"])\n",
    "weights = np.array(get_survey_table(\"individual\", 2015)[\"weights\"])"
   ]
  },
  {
   "cell_type": "code",
   "execution_count": 30,
   "metadata": {
    "collapsed": true
   },
   "outputs": [],
   "source": [
    "t10_incomes, t10_weights, it10 = top_percentiles(0.1, get_survey_table(\"individual\", 2015)[\"income\"], get_survey_table(\"individual\", 2015)[\"weights\"])\n",
    "b50_incomes, b50_weights, ib50 = bottom_percentiles(0.5, get_survey_table(\"individual\", 2015)[\"income\"], get_survey_table(\"individual\", 2015)[\"weights\"])\n",
    "t1_incomes, t1_weights, _ = top_percentiles(0.01, get_survey_table(\"individual\", 2015)[\"income\"], get_survey_table(\"individual\", 2015)[\"weights\"])\n",
    "t01_incomes, t01_weights, _ = top_percentiles(0.001, get_survey_table(\"individual\", 2015)[\"income\"], get_survey_table(\"individual\", 2015)[\"weights\"])\n",
    "t001_incomes, t001_weights, _ = top_percentiles(0.0001, get_survey_table(\"individual\", 2015)[\"income\"], get_survey_table(\"individual\", 2015)[\"weights\"])\n",
    "\n",
    "t_avg = weighted_sum(incomes, weights) / sum(weights)\n",
    "b50_avg = weighted_sum(b50_incomes, b50_weights) / sum(b50_weights)\n",
    "m40_avg = weighted_sum(incomes[ib50:it10], weights[ib50:it10]) / sum(weights[ib50:it10])\n",
    "t10_avg = weighted_sum(t10_incomes, t10_weights) / sum(t10_weights)\n",
    "t1_avg = weighted_sum(t1_incomes, t1_weights) / sum(t1_weights)\n",
    "t01_avg = weighted_sum(t01_incomes, t01_weights) / sum(t01_weights)\n",
    "t001_avg = weighted_sum(t001_incomes, t001_weights) / sum(t001_weights)"
   ]
  },
  {
   "cell_type": "code",
   "execution_count": 31,
   "metadata": {
    "collapsed": false
   },
   "outputs": [
    {
     "data": {
      "text/html": [
       "<div>\n",
       "<table border=\"1\" class=\"dataframe\">\n",
       "  <thead>\n",
       "    <tr style=\"text-align: right;\">\n",
       "      <th></th>\n",
       "      <th>Labor Force</th>\n",
       "      <th>Average Annual Income (PKR)</th>\n",
       "      <th>Average Annual Income (USD)</th>\n",
       "      <th>Income Share</th>\n",
       "    </tr>\n",
       "  </thead>\n",
       "  <tbody>\n",
       "    <tr>\n",
       "      <th>Full Population</th>\n",
       "      <td>65,422,753</td>\n",
       "      <td>182,103</td>\n",
       "      <td>$1,711</td>\n",
       "      <td>100%</td>\n",
       "    </tr>\n",
       "    <tr>\n",
       "      <th>Bottom 50%</th>\n",
       "      <td>32,711,376</td>\n",
       "      <td>64,930</td>\n",
       "      <td>$610</td>\n",
       "      <td>17.8%</td>\n",
       "    </tr>\n",
       "    <tr>\n",
       "      <th>Middle 40%</th>\n",
       "      <td>26,169,101</td>\n",
       "      <td>209,508</td>\n",
       "      <td>$1,969</td>\n",
       "      <td>46.0%</td>\n",
       "    </tr>\n",
       "    <tr>\n",
       "      <th>Top 10%</th>\n",
       "      <td>6,542,275</td>\n",
       "      <td>658,201</td>\n",
       "      <td>$6,187</td>\n",
       "      <td>36.2%</td>\n",
       "    </tr>\n",
       "    <tr>\n",
       "      <th>Top 1%</th>\n",
       "      <td>654,227</td>\n",
       "      <td>1,761,974</td>\n",
       "      <td>$16,562</td>\n",
       "      <td>9.7%</td>\n",
       "    </tr>\n",
       "    <tr>\n",
       "      <th>Top 0.1%</th>\n",
       "      <td>65,422</td>\n",
       "      <td>4,054,818</td>\n",
       "      <td>$38,115</td>\n",
       "      <td>2.3%</td>\n",
       "    </tr>\n",
       "    <tr>\n",
       "      <th>Top 0.01%</th>\n",
       "      <td>6,542</td>\n",
       "      <td>8,128,723</td>\n",
       "      <td>$76,410</td>\n",
       "      <td>0.5%</td>\n",
       "    </tr>\n",
       "  </tbody>\n",
       "</table>\n",
       "</div>"
      ],
      "text/plain": [
       "                Labor Force Average Annual Income (PKR)  \\\n",
       "Full Population  65,422,753                     182,103   \n",
       "Bottom 50%       32,711,376                      64,930   \n",
       "Middle 40%       26,169,101                     209,508   \n",
       "Top 10%           6,542,275                     658,201   \n",
       "Top 1%              654,227                   1,761,974   \n",
       "Top 0.1%             65,422                   4,054,818   \n",
       "Top 0.01%             6,542                   8,128,723   \n",
       "\n",
       "                Average Annual Income (USD) Income Share  \n",
       "Full Population                      $1,711         100%  \n",
       "Bottom 50%                             $610        17.8%  \n",
       "Middle 40%                           $1,969        46.0%  \n",
       "Top 10%                              $6,187        36.2%  \n",
       "Top 1%                              $16,562         9.7%  \n",
       "Top 0.1%                            $38,115         2.3%  \n",
       "Top 0.01%                           $76,410         0.5%  "
      ]
     },
     "execution_count": 31,
     "metadata": {},
     "output_type": "execute_result"
    }
   ],
   "source": [
    "d = {\n",
    "    'Labor Force': [format_number(x) for x in [lf_tot, int(lf_tot*0.5), int(lf_tot*0.4), int(lf_tot*0.1), int(lf_tot*0.01), int(lf_tot*0.001), int(lf_tot*0.0001)]], \n",
    "    'Average Annual Income (PKR)': [format_number(int(x)) for x in [t_avg, b50_avg, m40_avg, t10_avg, t1_avg, t01_avg, t001_avg]], \n",
    "    'Average Annual Income (USD)': [\"$\" + format_number(int(x * 0.0094)) for x in [t_avg, b50_avg, m40_avg, t10_avg, t1_avg, t01_avg, t001_avg]], \n",
    "    'Income Share': [format_percent(x) for x in [1, calculate_income_share(\"salaried\", 2015, 0.5, top=False, t_func_diff=True, t_func=get_survey_table), 1 - (calculate_income_share(\"salaried\", 2015, 0.1, t_func_diff=True, t_func=get_survey_table) + calculate_income_share(\"salaried\", 2015, 0.5, top=False, t_func_diff=True, t_func=get_survey_table)),calculate_income_share(\"salaried\", 2015, 0.1,t_func_diff=True, t_func=get_survey_table), calculate_income_share(\"salaried\", 2015, 0.01, t_func_diff=True, t_func=get_survey_table), calculate_income_share(\"salaried\", 2015, 0.001, t_func_diff=True, t_func=get_survey_table), calculate_income_share(\"salaried\", 2015, 0.0001, t_func_diff=True, t_func=get_survey_table)]], \n",
    "    }\n",
    "\n",
    "ntnl_income_table_S = pd.DataFrame(d, [\"Full Population\", \"Bottom 50%\", \"Middle 40%\", \"Top 10%\", \"Top 1%\", \"Top 0.1%\", \"Top 0.01%\"])\n",
    "ntnl_income_table_S = ntnl_income_table_S[[\"Labor Force\", \"Average Annual Income (PKR)\", \"Average Annual Income (USD)\", \"Income Share\"]]\n",
    "ntnl_income_table_S"
   ]
  },
  {
   "cell_type": "code",
   "execution_count": 32,
   "metadata": {
    "collapsed": false
   },
   "outputs": [
    {
     "name": "stdout",
     "output_type": "stream",
     "text": [
      "\\begin{tabular}{lllll}\n",
      "\\toprule\n",
      "{} & Labor Force & Average Annual Income (PKR) & Average Annual Income (USD) & Income Share \\\\\n",
      "\\midrule\n",
      "Full Population &  65,422,753 &                     182,103 &                      \\$1,711 &         100\\% \\\\\n",
      "Bottom 50\\%      &  32,711,376 &                      64,930 &                        \\$610 &        17.8\\% \\\\\n",
      "Middle 40\\%      &  26,169,101 &                     209,508 &                      \\$1,969 &        46.0\\% \\\\\n",
      "Top 10\\%         &   6,542,275 &                     658,201 &                      \\$6,187 &        36.2\\% \\\\\n",
      "Top 1\\%          &     654,227 &                   1,761,974 &                     \\$16,562 &         9.7\\% \\\\\n",
      "Top 0.1\\%        &      65,422 &                   4,054,818 &                     \\$38,115 &         2.3\\% \\\\\n",
      "Top 0.01\\%       &       6,542 &                   8,128,723 &                     \\$76,410 &         0.5\\% \\\\\n",
      "\\bottomrule\n",
      "\\end{tabular}\n",
      "\n"
     ]
    }
   ],
   "source": [
    "print(ntnl_income_table_S.to_latex())"
   ]
  },
  {
   "cell_type": "markdown",
   "metadata": {},
   "source": [
    "### Top 10%, Bottom 90% National Income Shares in Pakistan, 2015"
   ]
  },
  {
   "cell_type": "code",
   "execution_count": 38,
   "metadata": {
    "collapsed": false
   },
   "outputs": [
    {
     "data": {
      "application/vnd.plotly.v1+json": {
       "data": [
        {
         "marker": {
          "color": "rgb(31, 119, 180)"
         },
         "name": "Bottom 90% contribution",
         "type": "bar",
         "x": [
          "PSLM HIES Survey",
          "Constructed Survey and Tax Data"
         ],
         "y": [
          0.639,
          0.416
         ]
        },
        {
         "marker": {
          "color": "rgb(214, 39, 40)"
         },
         "name": "Top 10% Contribution",
         "type": "bar",
         "x": [
          "PSLM HIES Survey",
          "Constructed Survey and Tax Data"
         ],
         "y": [
          0.362,
          0.584
         ]
        }
       ],
       "layout": {
        "barmode": "stack",
        "title": "National Income Shares in Pakistan, Top 10%, Bottom 90%, 2015",
        "yaxis": {
         "title": "Income Share"
        }
       }
      },
      "text/html": [
       "<div id=\"42d14129-846b-48ad-bcf1-c605100acf02\" style=\"height: 525px; width: 100%;\" class=\"plotly-graph-div\"></div><script type=\"text/javascript\">require([\"plotly\"], function(Plotly) { window.PLOTLYENV=window.PLOTLYENV || {};window.PLOTLYENV.BASE_URL=\"https://plot.ly\";Plotly.newPlot(\"42d14129-846b-48ad-bcf1-c605100acf02\", [{\"marker\": {\"color\": \"rgb(31, 119, 180)\"}, \"y\": [0.639, 0.416], \"name\": \"Bottom 90% contribution\", \"type\": \"bar\", \"x\": [\"PSLM HIES Survey\", \"Constructed Survey and Tax Data\"]}, {\"marker\": {\"color\": \"rgb(214, 39, 40)\"}, \"y\": [0.362, 0.584], \"name\": \"Top 10% Contribution\", \"type\": \"bar\", \"x\": [\"PSLM HIES Survey\", \"Constructed Survey and Tax Data\"]}], {\"yaxis\": {\"title\": \"Income Share\"}, \"barmode\": \"stack\", \"title\": \"National Income Shares in Pakistan, Top 10%, Bottom 90%, 2015\"}, {\"linkText\": \"Export to plot.ly\", \"showLink\": true})});</script>"
      ],
      "text/vnd.plotly.v1+html": [
       "<div id=\"42d14129-846b-48ad-bcf1-c605100acf02\" style=\"height: 525px; width: 100%;\" class=\"plotly-graph-div\"></div><script type=\"text/javascript\">require([\"plotly\"], function(Plotly) { window.PLOTLYENV=window.PLOTLYENV || {};window.PLOTLYENV.BASE_URL=\"https://plot.ly\";Plotly.newPlot(\"42d14129-846b-48ad-bcf1-c605100acf02\", [{\"marker\": {\"color\": \"rgb(31, 119, 180)\"}, \"y\": [0.639, 0.416], \"name\": \"Bottom 90% contribution\", \"type\": \"bar\", \"x\": [\"PSLM HIES Survey\", \"Constructed Survey and Tax Data\"]}, {\"marker\": {\"color\": \"rgb(214, 39, 40)\"}, \"y\": [0.362, 0.584], \"name\": \"Top 10% Contribution\", \"type\": \"bar\", \"x\": [\"PSLM HIES Survey\", \"Constructed Survey and Tax Data\"]}], {\"yaxis\": {\"title\": \"Income Share\"}, \"barmode\": \"stack\", \"title\": \"National Income Shares in Pakistan, Top 10%, Bottom 90%, 2015\"}, {\"linkText\": \"Export to plot.ly\", \"showLink\": true})});</script>"
      ]
     },
     "metadata": {},
     "output_type": "display_data"
    }
   ],
   "source": [
    "x=[\"PSLM HIES Survey\", \"Constructed Survey and Tax Data\"]\n",
    "\n",
    "trace1 = go.Bar(\n",
    "    x=x,\n",
    "    y=[calculate_income_share(\"salaried\", 2015, 0.9, top=False, t_func_diff=True, t_func=get_survey_table), \n",
    "       calculate_income_share(\"salaried\", 2015, 0.9, top=False)],\n",
    "    name='Bottom 90% contribution',\n",
    "    marker = dict(color = ('rgb(31, 119, 180)'))   \n",
    ")\n",
    "trace2 = go.Bar(\n",
    "    x=x,\n",
    "    y=[calculate_income_share(\"salaried\", 2015, 0.1, t_func_diff=True, t_func=get_survey_table), \n",
    "       calculate_income_share(\"salaried\", 2015, 0.1)],\n",
    "    name='Top 10% Contribution',\n",
    "    marker = dict(color = ('rgb(214, 39, 40)'))\n",
    ")\n",
    "\n",
    "data = [trace1, trace2]\n",
    "\n",
    "layout = dict(title = 'National Income Shares in Pakistan, Top 10%, Bottom 90%, 2015',\n",
    "              yaxis = dict(title = 'Income Share'),\n",
    "              barmode='stack'\n",
    "              )\n",
    "\n",
    "top10_2015 = plotly.offline.iplot({\n",
    "    \"data\": data,\n",
    "    \"layout\": layout\n",
    "})\n",
    "top10_2015"
   ]
  },
  {
   "cell_type": "markdown",
   "metadata": {},
   "source": [
    "### Top 1%, Bottom 99% National Income Shares in Pakistan, 2015"
   ]
  },
  {
   "cell_type": "code",
   "execution_count": 39,
   "metadata": {
    "collapsed": false
   },
   "outputs": [
    {
     "data": {
      "application/vnd.plotly.v1+json": {
       "data": [
        {
         "marker": {
          "color": "rgb(31, 119, 180)"
         },
         "name": "Bottom 99% contribution",
         "type": "bar",
         "x": [
          "PSLM HIES Survey",
          "Constructed Survey and Tax Data"
         ],
         "y": [
          0.903,
          0.698
         ]
        },
        {
         "marker": {
          "color": "rgb(214, 39, 40)"
         },
         "name": "Top 1% Contribution",
         "type": "bar",
         "x": [
          "PSLM HIES Survey",
          "Constructed Survey and Tax Data"
         ],
         "y": [
          0.097,
          0.302
         ]
        }
       ],
       "layout": {
        "barmode": "stack",
        "title": "National Income Shares in Pakistan, Top 1%, Bottom 99%  2015",
        "yaxis": {
         "title": "Income Share"
        }
       }
      },
      "text/html": [
       "<div id=\"f4e36996-7de0-49ec-bcb3-f9423225cf34\" style=\"height: 525px; width: 100%;\" class=\"plotly-graph-div\"></div><script type=\"text/javascript\">require([\"plotly\"], function(Plotly) { window.PLOTLYENV=window.PLOTLYENV || {};window.PLOTLYENV.BASE_URL=\"https://plot.ly\";Plotly.newPlot(\"f4e36996-7de0-49ec-bcb3-f9423225cf34\", [{\"marker\": {\"color\": \"rgb(31, 119, 180)\"}, \"y\": [0.903, 0.698], \"name\": \"Bottom 99% contribution\", \"type\": \"bar\", \"x\": [\"PSLM HIES Survey\", \"Constructed Survey and Tax Data\"]}, {\"marker\": {\"color\": \"rgb(214, 39, 40)\"}, \"y\": [0.097, 0.302], \"name\": \"Top 1% Contribution\", \"type\": \"bar\", \"x\": [\"PSLM HIES Survey\", \"Constructed Survey and Tax Data\"]}], {\"yaxis\": {\"title\": \"Income Share\"}, \"barmode\": \"stack\", \"title\": \"National Income Shares in Pakistan, Top 1%, Bottom 99%  2015\"}, {\"linkText\": \"Export to plot.ly\", \"showLink\": true})});</script>"
      ],
      "text/vnd.plotly.v1+html": [
       "<div id=\"f4e36996-7de0-49ec-bcb3-f9423225cf34\" style=\"height: 525px; width: 100%;\" class=\"plotly-graph-div\"></div><script type=\"text/javascript\">require([\"plotly\"], function(Plotly) { window.PLOTLYENV=window.PLOTLYENV || {};window.PLOTLYENV.BASE_URL=\"https://plot.ly\";Plotly.newPlot(\"f4e36996-7de0-49ec-bcb3-f9423225cf34\", [{\"marker\": {\"color\": \"rgb(31, 119, 180)\"}, \"y\": [0.903, 0.698], \"name\": \"Bottom 99% contribution\", \"type\": \"bar\", \"x\": [\"PSLM HIES Survey\", \"Constructed Survey and Tax Data\"]}, {\"marker\": {\"color\": \"rgb(214, 39, 40)\"}, \"y\": [0.097, 0.302], \"name\": \"Top 1% Contribution\", \"type\": \"bar\", \"x\": [\"PSLM HIES Survey\", \"Constructed Survey and Tax Data\"]}], {\"yaxis\": {\"title\": \"Income Share\"}, \"barmode\": \"stack\", \"title\": \"National Income Shares in Pakistan, Top 1%, Bottom 99%  2015\"}, {\"linkText\": \"Export to plot.ly\", \"showLink\": true})});</script>"
      ]
     },
     "metadata": {},
     "output_type": "display_data"
    }
   ],
   "source": [
    "x=[\"PSLM HIES Survey\", \"Constructed Survey and Tax Data\"]\n",
    "\n",
    "trace1 = go.Bar(\n",
    "    x=x,\n",
    "    y=[calculate_income_share(\"salaried\", 2015, 0.99, top=False, t_func_diff=True, t_func=get_survey_table), \n",
    "       calculate_income_share(\"salaried\", 2015, 0.99, top=False)],\n",
    "    name='Bottom 99% contribution',\n",
    "    marker = dict(color = ('rgb(31, 119, 180)'))   \n",
    ")\n",
    "trace2 = go.Bar(\n",
    "    x=x,\n",
    "    y=[calculate_income_share(\"salaried\", 2015, 0.01, t_func_diff=True, t_func=get_survey_table), \n",
    "       calculate_income_share(\"salaried\", 2015, 0.01)],\n",
    "    name='Top 1% Contribution',\n",
    "    marker = dict(color = ('rgb(214, 39, 40)'))\n",
    ")\n",
    "\n",
    "data = [trace1, trace2]\n",
    "\n",
    "layout = dict(title = 'National Income Shares in Pakistan, Top 1%, Bottom 99%  2015',\n",
    "              yaxis = dict(title = 'Income Share'),\n",
    "              barmode='stack'\n",
    "              )\n",
    "\n",
    "top1_bottom99_2015 = plotly.offline.iplot({\n",
    "    \"data\": data,\n",
    "    \"layout\": layout\n",
    "})\n",
    "top1_bottom99_2015"
   ]
  },
  {
   "cell_type": "markdown",
   "metadata": {},
   "source": [
    "### Top 10%, Middle 40%, Bottom 50% National Income Shares in Pakistan, 2015"
   ]
  },
  {
   "cell_type": "code",
   "execution_count": 42,
   "metadata": {
    "collapsed": false
   },
   "outputs": [
    {
     "data": {
      "application/vnd.plotly.v1+json": {
       "data": [
        {
         "marker": {
          "color": "rgb(31, 119, 180)"
         },
         "name": "Bottom 50% contribution",
         "type": "bar",
         "x": [
          "PSLM HIES Survey",
          "Constructed Survey and Tax Data"
         ],
         "y": [
          0.178,
          0.116
         ]
        },
        {
         "marker": {
          "color": "rgb(214, 39, 40)"
         },
         "name": "Middle 40% Contribution",
         "type": "bar",
         "x": [
          "PSLM HIES Survey",
          "Constructed Survey and Tax Data"
         ],
         "y": [
          0.45999999999999996,
          0.30000000000000004
         ]
        },
        {
         "marker": {
          "color": "rgb(148, 103, 189)"
         },
         "name": "Top 10% Contribution",
         "type": "bar",
         "x": [
          "PSLM HIES Survey",
          "Constructed Survey and Tax Data"
         ],
         "y": [
          0.362,
          0.584
         ]
        }
       ],
       "layout": {
        "barmode": "stack",
        "title": "National Income Shares in Pakistan, Top 30%, Middle 40%, Bottom 30%  2015",
        "yaxis": {
         "title": "Income Share"
        }
       }
      },
      "text/html": [
       "<div id=\"f2ec992c-3a70-4c63-8825-b68093361d88\" style=\"height: 525px; width: 100%;\" class=\"plotly-graph-div\"></div><script type=\"text/javascript\">require([\"plotly\"], function(Plotly) { window.PLOTLYENV=window.PLOTLYENV || {};window.PLOTLYENV.BASE_URL=\"https://plot.ly\";Plotly.newPlot(\"f2ec992c-3a70-4c63-8825-b68093361d88\", [{\"marker\": {\"color\": \"rgb(31, 119, 180)\"}, \"y\": [0.178, 0.116], \"name\": \"Bottom 50% contribution\", \"type\": \"bar\", \"x\": [\"PSLM HIES Survey\", \"Constructed Survey and Tax Data\"]}, {\"marker\": {\"color\": \"rgb(214, 39, 40)\"}, \"y\": [0.45999999999999996, 0.30000000000000004], \"name\": \"Middle 40% Contribution\", \"type\": \"bar\", \"x\": [\"PSLM HIES Survey\", \"Constructed Survey and Tax Data\"]}, {\"marker\": {\"color\": \"rgb(148, 103, 189)\"}, \"y\": [0.362, 0.584], \"name\": \"Top 10% Contribution\", \"type\": \"bar\", \"x\": [\"PSLM HIES Survey\", \"Constructed Survey and Tax Data\"]}], {\"yaxis\": {\"title\": \"Income Share\"}, \"barmode\": \"stack\", \"title\": \"National Income Shares in Pakistan, Top 30%, Middle 40%, Bottom 30%  2015\"}, {\"linkText\": \"Export to plot.ly\", \"showLink\": true})});</script>"
      ],
      "text/vnd.plotly.v1+html": [
       "<div id=\"f2ec992c-3a70-4c63-8825-b68093361d88\" style=\"height: 525px; width: 100%;\" class=\"plotly-graph-div\"></div><script type=\"text/javascript\">require([\"plotly\"], function(Plotly) { window.PLOTLYENV=window.PLOTLYENV || {};window.PLOTLYENV.BASE_URL=\"https://plot.ly\";Plotly.newPlot(\"f2ec992c-3a70-4c63-8825-b68093361d88\", [{\"marker\": {\"color\": \"rgb(31, 119, 180)\"}, \"y\": [0.178, 0.116], \"name\": \"Bottom 50% contribution\", \"type\": \"bar\", \"x\": [\"PSLM HIES Survey\", \"Constructed Survey and Tax Data\"]}, {\"marker\": {\"color\": \"rgb(214, 39, 40)\"}, \"y\": [0.45999999999999996, 0.30000000000000004], \"name\": \"Middle 40% Contribution\", \"type\": \"bar\", \"x\": [\"PSLM HIES Survey\", \"Constructed Survey and Tax Data\"]}, {\"marker\": {\"color\": \"rgb(148, 103, 189)\"}, \"y\": [0.362, 0.584], \"name\": \"Top 10% Contribution\", \"type\": \"bar\", \"x\": [\"PSLM HIES Survey\", \"Constructed Survey and Tax Data\"]}], {\"yaxis\": {\"title\": \"Income Share\"}, \"barmode\": \"stack\", \"title\": \"National Income Shares in Pakistan, Top 30%, Middle 40%, Bottom 30%  2015\"}, {\"linkText\": \"Export to plot.ly\", \"showLink\": true})});</script>"
      ]
     },
     "metadata": {},
     "output_type": "display_data"
    }
   ],
   "source": [
    "x=[\"PSLM HIES Survey\", \"Constructed Survey and Tax Data\"]\n",
    "\n",
    "b50_survey = calculate_income_share(\"salaried\", 2015, 0.5, top=False, t_func_diff=True, t_func=get_survey_table)\n",
    "b50_final = calculate_income_share(\"salaried\", 2015, 0.5, top=False)\n",
    "\n",
    "t10_survey = calculate_income_share(\"salaried\", 2015, 0.1, t_func_diff=True, t_func=get_survey_table)\n",
    "t10_final = calculate_income_share(\"salaried\", 2015, 0.1)\n",
    "\n",
    "m40_survey = 1 - (t10_survey + b50_survey)\n",
    "m40_final = 1 - (t10_final + b50_final)\n",
    "\n",
    "trace1 = go.Bar(\n",
    "    x=x,\n",
    "    y=[b50_survey, \n",
    "       b50_final],\n",
    "    name='Bottom 50% contribution',\n",
    "    marker = dict(color = ('rgb(31, 119, 180)'))   \n",
    ")\n",
    "trace2 = go.Bar(\n",
    "    x=x,\n",
    "    y=[m40_survey, \n",
    "       m40_final],\n",
    "    name='Middle 40% Contribution',\n",
    "    marker = dict(color = ('rgb(214, 39, 40)'))\n",
    ")\n",
    "\n",
    "trace3 = go.Bar(\n",
    "    x=x,\n",
    "    y=[t10_survey, \n",
    "       t10_final],\n",
    "    name='Top 10% Contribution',\n",
    "    marker = dict(color = ('rgb(148, 103, 189)'))\n",
    ")\n",
    "\n",
    "data = [trace1, trace2, trace3]\n",
    "\n",
    "layout = dict(title = 'National Income Shares in Pakistan, Top 30%, Middle 40%, Bottom 30%  2015',\n",
    "              yaxis = dict(title = 'Income Share'),\n",
    "              barmode='stack'\n",
    "              )\n",
    "\n",
    "top30_middle40_bottom_30_2015 = plotly.offline.iplot({\n",
    "    \"data\": data,\n",
    "    \"layout\": layout\n",
    "})\n",
    "top30_middle40_bottom_30_2015"
   ]
  },
  {
   "cell_type": "markdown",
   "metadata": {},
   "source": [
    "### HIES Household and Individual Coverage"
   ]
  },
  {
   "cell_type": "code",
   "execution_count": null,
   "metadata": {
    "collapsed": false
   },
   "outputs": [],
   "source": [
    "years = np.arange(2004, 2016, 1)\n",
    "index = np.argwhere(years==2009)\n",
    "years = np.delete(years, index)\n",
    "\n",
    "# individuals\n",
    "i_nums = []\n",
    "for y in years:\n",
    "    t = get_survey_table(\"individual\", y)\n",
    "    i_nums.append(t.shape[0])\n",
    "    \n",
    "print(\"\\n\")\n",
    "\n",
    "# households\n",
    "hh_nums = []\n",
    "for y in years:\n",
    "    f = (\"./finalData/hh_balance_sheet_\" + str(y) + \"_\" + str(y+1)[2:] + \".pkl\")\n",
    "    hh_nums.append(len(pd.read_pickle(f)))\n",
    "\n",
    "def format_number(value):\n",
    "    return \"{:,}\".format(value)\n",
    "\n",
    "d = {\n",
    "    'Year': years, \n",
    "    'Number of Households': [format_number(x) for x in hh_nums], \n",
    "    'Number of Individuals': [format_number(x) for x in i_nums], \n",
    "    'Individuals / Household Ratio': [np.round(x, 2) for x in list(np.array(i_nums) / np.array(hh_nums))],\n",
    "    }\n",
    "\n",
    "hies_coverage = pd.DataFrame(data=d)\n",
    "hies_coverage = hies_coverage[[\"Year\", \"Number of Households\", \"Number of Individuals\", \"Number of Households\", \"Individuals / Household Ratio\"]]\n",
    "hies_coverage"
   ]
  },
  {
   "cell_type": "code",
   "execution_count": null,
   "metadata": {
    "collapsed": false
   },
   "outputs": [],
   "source": [
    "print(hies_coverage.to_latex())"
   ]
  },
  {
   "cell_type": "code",
   "execution_count": null,
   "metadata": {
    "collapsed": true
   },
   "outputs": [],
   "source": [
    "# new graph yo"
   ]
  },
  {
   "cell_type": "code",
   "execution_count": null,
   "metadata": {
    "collapsed": false
   },
   "outputs": [],
   "source": [
    "# mean income, standard deviation of income, median income, mean age, ratio income /consumption, gini\n",
    "s = get_final_table(2006, \"salaried\")\n",
    "t = get_survey_table(\"individual\", 2006)\n",
    "x = s.describe()\n",
    "y = t.describe()\n",
    "x = x[[\"income\"]]\n",
    "y = y[[\"income\"]]\n",
    "# x.drop([\"hhcode\", \"weights\", \"psu\", \"idc\"], axis=1, inplace=True)\n",
    "x[\"income\"] = x[\"income\"].astype(int)\n",
    "y[\"income\"] = y[\"income\"].astype(int)\n",
    "# x[\"age\"] = x[\"age\"].astype(int)\n",
    "# x[\"birth_year\"] = x[\"birth_year\"].astype(int)\n",
    "d = {\n",
    "    'HIES Income': [format_number(g) for g in y[\"income\"]], \n",
    "    'Combined Income': [format_number(g) for g in x[\"income\"]], \n",
    "    }\n",
    "\n",
    "df = pd.DataFrame(d, x.index)\n",
    "df"
   ]
  },
  {
   "cell_type": "code",
   "execution_count": null,
   "metadata": {
    "collapsed": false
   },
   "outputs": [],
   "source": [
    "print(df.to_latex())"
   ]
  },
  {
   "cell_type": "markdown",
   "metadata": {},
   "source": [
    "### Share of Income Gap Explained By Top Incomes"
   ]
  },
  {
   "cell_type": "code",
   "execution_count": null,
   "metadata": {
    "collapsed": false
   },
   "outputs": [],
   "source": [
    "years = np.arange(2004, 2016, 1)\n",
    "index = np.argwhere(years==2009)\n",
    "years = np.delete(years, index)\n",
    "\n",
    "survey_pni = []\n",
    "mixed_pni = []\n",
    "for y in years:\n",
    "    survey_pni.append(weighted_sum(get_survey_table(\"individual\", y)[\"income\"], get_survey_table(\"individual\", y)[\"weights\"]) / ni[ni[\"Year\"] == y][\"National Income\"].values[0])\n",
    "    mixed_pni.append(weighted_sum(get_final_table(y, \"salaried\")[\"income\"], get_final_table(y, \"salaried\")[\"weights\"]) / ni[ni[\"Year\"] == y][\"National Income\"].values[0])\n",
    "    \n",
    "    \n",
    "survey_trace = go.Scatter(\n",
    "    x = years,\n",
    "    y = survey_pni,\n",
    "    name = \"PSLM HIES Survey\"\n",
    ")\n",
    "\n",
    "final_trace = go.Scatter(\n",
    "    x = years,\n",
    "    y = mixed_pni,\n",
    "    name = \"Combined Microdata\"\n",
    ")\n",
    "\n",
    "layout = dict(title = 'Share of Income Gap Explained By Top Incomes',\n",
    "              xaxis = dict(title = 'Year'),\n",
    "              yaxis = dict(title = 'National Income Share'),\n",
    "              )\n",
    "data = [survey_trace, final_trace]\n",
    "ni_income_gap = plotly.offline.iplot({\n",
    "    \"data\": data,\n",
    "    \"layout\": layout\n",
    "})\n",
    "ni_income_gap"
   ]
  },
  {
   "cell_type": "code",
   "execution_count": null,
   "metadata": {
    "collapsed": true
   },
   "outputs": [],
   "source": [
    "# Lorenz Curve / Gini Coefficient"
   ]
  },
  {
   "cell_type": "code",
   "execution_count": null,
   "metadata": {
    "collapsed": true
   },
   "outputs": [],
   "source": [
    "def gini(incomes):\n",
    "    sum_of_absolute_differences = 0\n",
    "    subsum = 0\n",
    "\n",
    "    for i, x in enumerate(incomes):\n",
    "        sum_of_absolute_differences += i * x - subsum\n",
    "        subsum += x\n",
    "\n",
    "    return sum_of_absolute_differences / subsum / len(incomes)"
   ]
  },
  {
   "cell_type": "code",
   "execution_count": null,
   "metadata": {
    "collapsed": false
   },
   "outputs": [],
   "source": [
    "gini(list(get_final_table(2015, \"salaried\")[\"income\"]))"
   ]
  },
  {
   "cell_type": "code",
   "execution_count": null,
   "metadata": {
    "collapsed": true
   },
   "outputs": [],
   "source": [
    "# Table that Saez and Zucman have constructed for DINA usa"
   ]
  },
  {
   "cell_type": "markdown",
   "metadata": {},
   "source": [
    "### Putting Pakistani Income Inequality in Perspective"
   ]
  },
  {
   "cell_type": "code",
   "execution_count": 36,
   "metadata": {
    "collapsed": false
   },
   "outputs": [
    {
     "data": {
      "text/html": [
       "<div>\n",
       "<table border=\"1\" class=\"dataframe\">\n",
       "  <thead>\n",
       "    <tr style=\"text-align: right;\">\n",
       "      <th></th>\n",
       "      <th>Pakistan</th>\n",
       "      <th>India</th>\n",
       "      <th>Middle East</th>\n",
       "      <th>South Africa</th>\n",
       "      <th>Brazil</th>\n",
       "      <th>Turkey</th>\n",
       "      <th>China</th>\n",
       "      <th>USA</th>\n",
       "    </tr>\n",
       "  </thead>\n",
       "  <tbody>\n",
       "    <tr>\n",
       "      <th>Bottom 50%</th>\n",
       "      <td>11.6</td>\n",
       "      <td>14.7</td>\n",
       "      <td>9.0</td>\n",
       "      <td>5.0</td>\n",
       "      <td>13.9</td>\n",
       "      <td>14.9</td>\n",
       "      <td>14.8</td>\n",
       "      <td>12.5</td>\n",
       "    </tr>\n",
       "    <tr>\n",
       "      <th>Middle 40%</th>\n",
       "      <td>30.0</td>\n",
       "      <td>29.2</td>\n",
       "      <td>26.0</td>\n",
       "      <td>31.0</td>\n",
       "      <td>30.6</td>\n",
       "      <td>32.5</td>\n",
       "      <td>43.7</td>\n",
       "      <td>40.5</td>\n",
       "    </tr>\n",
       "    <tr>\n",
       "      <th>Top 10%</th>\n",
       "      <td>58.4</td>\n",
       "      <td>56.1</td>\n",
       "      <td>64.0</td>\n",
       "      <td>65.1</td>\n",
       "      <td>55.6</td>\n",
       "      <td>52.6</td>\n",
       "      <td>41.4</td>\n",
       "      <td>47</td>\n",
       "    </tr>\n",
       "    <tr>\n",
       "      <th>Top 1%</th>\n",
       "      <td>30.2</td>\n",
       "      <td>21.3</td>\n",
       "      <td>30.5</td>\n",
       "      <td>19.2</td>\n",
       "      <td>28.3</td>\n",
       "      <td>21.5</td>\n",
       "      <td>13.9</td>\n",
       "      <td>20.2</td>\n",
       "    </tr>\n",
       "    <tr>\n",
       "      <th>Top 0.1%</th>\n",
       "      <td>13.4</td>\n",
       "      <td>8.2</td>\n",
       "      <td>None</td>\n",
       "      <td>None</td>\n",
       "      <td>None</td>\n",
       "      <td>None</td>\n",
       "      <td>6.3</td>\n",
       "      <td>9.3</td>\n",
       "    </tr>\n",
       "    <tr>\n",
       "      <th>Top 0.01%</th>\n",
       "      <td>5.1</td>\n",
       "      <td>3.4</td>\n",
       "      <td>None</td>\n",
       "      <td>None</td>\n",
       "      <td>None</td>\n",
       "      <td>None</td>\n",
       "      <td>3.2</td>\n",
       "      <td>4.4</td>\n",
       "    </tr>\n",
       "  </tbody>\n",
       "</table>\n",
       "</div>"
      ],
      "text/plain": [
       "           Pakistan India Middle East South Africa Brazil Turkey China   USA\n",
       "Bottom 50%     11.6  14.7         9.0          5.0   13.9   14.9  14.8  12.5\n",
       "Middle 40%     30.0  29.2        26.0         31.0   30.6   32.5  43.7  40.5\n",
       "Top 10%        58.4  56.1        64.0         65.1   55.6   52.6  41.4    47\n",
       "Top 1%         30.2  21.3        30.5         19.2   28.3   21.5  13.9  20.2\n",
       "Top 0.1%       13.4   8.2        None         None   None   None   6.3   9.3\n",
       "Top 0.01%       5.1   3.4        None         None   None   None   3.2   4.4"
      ]
     },
     "execution_count": 36,
     "metadata": {},
     "output_type": "execute_result"
    }
   ],
   "source": [
    "d = {\n",
    "    'Pakistan': [\"5.1\", \"13.4\", \"30.2\", \"58.4\", \"30.0\", \"11.6\"][::-1], \n",
    "    'India': [\"3.4\", \"8.2\", \"21.3\", \"56.1\", \"29.2\", \"14.7\"][::-1], \n",
    "    'Turkey': [None, None, \"21.5\", \"52.6\", \"32.5\", \"14.9\"][::-1], \n",
    "    'Middle East': [None, None, \"30.5\", \"64.0\", \"26.0\", \"9.0\"][::-1],\n",
    "    'South Africa': [None, None, \"19.2\" , \"65.1\" , \"31.0\", \"5.0\"][::-1],\n",
    "    'Brazil': [None, None, \"28.3\", \"55.6\", \"30.6\", \"13.9\"][::-1],\n",
    "    'China': [\"3.2\", \"6.3\", \"13.9\", \"41.4\", \"43.7\", \"14.8\"][::-1],\n",
    "    \"USA\": [\"4.4\", \"9.3\" , \"20.2\", \"47\" ,\"40.5\" ,\"12.5\"][::-1],\n",
    "    }\n",
    "\n",
    "comparative = pd.DataFrame(d, [\"Top 0.01%\", \"Top 0.1%\", \"Top 1%\", \"Top 10%\", \"Middle 40%\", \"Bottom 50%\"][::-1])\n",
    "comparative = comparative[[\"Pakistan\", \"India\", \"Middle East\", \"South Africa\", \"Brazil\", \"Turkey\", \"China\", \"USA\"]]\n",
    "comparative"
   ]
  },
  {
   "cell_type": "code",
   "execution_count": 37,
   "metadata": {
    "collapsed": false
   },
   "outputs": [
    {
     "name": "stdout",
     "output_type": "stream",
     "text": [
      "\\begin{tabular}{lllllllll}\n",
      "\\toprule\n",
      "{} & Pakistan & India & Middle East & South Africa & Brazil & Turkey & China &   USA \\\\\n",
      "\\midrule\n",
      "Bottom 50\\% &     11.6 &  14.7 &         9.0 &          5.0 &   13.9 &   14.9 &  14.8 &  12.5 \\\\\n",
      "Middle 40\\% &     30.0 &  29.2 &        26.0 &         31.0 &   30.6 &   32.5 &  43.7 &  40.5 \\\\\n",
      "Top 10\\%    &     58.4 &  56.1 &        64.0 &         65.1 &   55.6 &   52.6 &  41.4 &    47 \\\\\n",
      "Top 1\\%     &     30.2 &  21.3 &        30.5 &         19.2 &   28.3 &   21.5 &  13.9 &  20.2 \\\\\n",
      "Top 0.1\\%   &     13.4 &   8.2 &        None &         None &   None &   None &   6.3 &   9.3 \\\\\n",
      "Top 0.01\\%  &      5.1 &   3.4 &        None &         None &   None &   None &   3.2 &   4.4 \\\\\n",
      "\\bottomrule\n",
      "\\end{tabular}\n",
      "\n"
     ]
    }
   ],
   "source": [
    "print(comparative.to_latex())"
   ]
  },
  {
   "cell_type": "markdown",
   "metadata": {},
   "source": [
    "### Comparison to Similar Countries, Top 10%, Midde 40%, Bottom 50%"
   ]
  },
  {
   "cell_type": "code",
   "execution_count": 58,
   "metadata": {
    "collapsed": false
   },
   "outputs": [
    {
     "data": {
      "text/plain": [
       "0.58399999999999996"
      ]
     },
     "execution_count": 58,
     "metadata": {},
     "output_type": "execute_result"
    }
   ],
   "source": [
    "t10_final"
   ]
  },
  {
   "cell_type": "code",
   "execution_count": 59,
   "metadata": {
    "collapsed": false
   },
   "outputs": [
    {
     "data": {
      "application/vnd.plotly.v1+json": {
       "data": [
        {
         "name": "Top 10%",
         "type": "bar",
         "x": [
          "Pakistan",
          "Middle East",
          "India",
          "South Africa",
          "China"
         ],
         "y": [
          58.4,
          64,
          56.1,
          65.1,
          41.4
         ]
        },
        {
         "name": "Middle 40%",
         "type": "bar",
         "x": [
          "Pakistan",
          "Middle East",
          "India",
          "South Africa",
          "China"
         ],
         "y": [
          30.000000000000004,
          26,
          29.2,
          31,
          43.7
         ]
        },
        {
         "name": "Bottom 50%",
         "type": "bar",
         "x": [
          "Pakistan",
          "Middle East",
          "India",
          "South Africa",
          "China"
         ],
         "y": [
          11.600000000000001,
          9,
          14.7,
          5,
          14.8
         ]
        }
       ],
       "layout": {
        "barmode": "grouped-bar",
        "title": "Comparison to Similar Countries, 2015",
        "yaxis": {
         "title": "Income Share"
        }
       }
      },
      "text/html": [
       "<div id=\"f9c6ccdf-bdc7-4acd-82c5-eda49403cefd\" style=\"height: 525px; width: 100%;\" class=\"plotly-graph-div\"></div><script type=\"text/javascript\">require([\"plotly\"], function(Plotly) { window.PLOTLYENV=window.PLOTLYENV || {};window.PLOTLYENV.BASE_URL=\"https://plot.ly\";Plotly.newPlot(\"f9c6ccdf-bdc7-4acd-82c5-eda49403cefd\", [{\"y\": [58.4, 64.0, 56.1, 65.1, 41.4], \"name\": \"Top 10%\", \"type\": \"bar\", \"x\": [\"Pakistan\", \"Middle East\", \"India\", \"South Africa\", \"China\"]}, {\"y\": [30.000000000000004, 26.0, 29.2, 31.0, 43.7], \"name\": \"Middle 40%\", \"type\": \"bar\", \"x\": [\"Pakistan\", \"Middle East\", \"India\", \"South Africa\", \"China\"]}, {\"y\": [11.600000000000001, 9.0, 14.7, 5.0, 14.8], \"name\": \"Bottom 50%\", \"type\": \"bar\", \"x\": [\"Pakistan\", \"Middle East\", \"India\", \"South Africa\", \"China\"]}], {\"yaxis\": {\"title\": \"Income Share\"}, \"barmode\": \"grouped-bar\", \"title\": \"Comparison to Similar Countries, 2015\"}, {\"linkText\": \"Export to plot.ly\", \"showLink\": true})});</script>"
      ],
      "text/vnd.plotly.v1+html": [
       "<div id=\"f9c6ccdf-bdc7-4acd-82c5-eda49403cefd\" style=\"height: 525px; width: 100%;\" class=\"plotly-graph-div\"></div><script type=\"text/javascript\">require([\"plotly\"], function(Plotly) { window.PLOTLYENV=window.PLOTLYENV || {};window.PLOTLYENV.BASE_URL=\"https://plot.ly\";Plotly.newPlot(\"f9c6ccdf-bdc7-4acd-82c5-eda49403cefd\", [{\"y\": [58.4, 64.0, 56.1, 65.1, 41.4], \"name\": \"Top 10%\", \"type\": \"bar\", \"x\": [\"Pakistan\", \"Middle East\", \"India\", \"South Africa\", \"China\"]}, {\"y\": [30.000000000000004, 26.0, 29.2, 31.0, 43.7], \"name\": \"Middle 40%\", \"type\": \"bar\", \"x\": [\"Pakistan\", \"Middle East\", \"India\", \"South Africa\", \"China\"]}, {\"y\": [11.600000000000001, 9.0, 14.7, 5.0, 14.8], \"name\": \"Bottom 50%\", \"type\": \"bar\", \"x\": [\"Pakistan\", \"Middle East\", \"India\", \"South Africa\", \"China\"]}], {\"yaxis\": {\"title\": \"Income Share\"}, \"barmode\": \"grouped-bar\", \"title\": \"Comparison to Similar Countries, 2015\"}, {\"linkText\": \"Export to plot.ly\", \"showLink\": true})});</script>"
      ]
     },
     "metadata": {},
     "output_type": "display_data"
    }
   ],
   "source": [
    "x=[\"Pakistan\", \"Middle East\", \"India\", \"South Africa\", \"China\"]\n",
    "\n",
    "trace1 = go.Bar(\n",
    "    x=x,\n",
    "    y=[t10_final*100, 64.0, 56.1, 65.1, 41.4],\n",
    "    name='Top 10%'\n",
    ")\n",
    "trace2 = go.Bar(\n",
    "    x=x,\n",
    "    y=[m40_final*100, 26.0, 29.2, 31.0, 43.7],\n",
    "    name='Middle 40%'\n",
    ")\n",
    "trace3 = go.Bar(\n",
    "    x=x,\n",
    "    y=[b50_final*100, 9.0, 14.7, 5.0, 14.8],\n",
    "    name='Bottom 50%'\n",
    ")\n",
    "\n",
    "data = [trace1, trace2, trace3]\n",
    "layout = go.Layout(\n",
    "    barmode='group'\n",
    ")\n",
    "\n",
    "layout = dict(title = 'Comparison to Similar Countries, 2015',\n",
    "              yaxis = dict(title = 'Income Share'),\n",
    "              barmode='grouped-bar'\n",
    "              )\n",
    "\n",
    "comparison_select = plotly.offline.iplot({\n",
    "    \"data\": data,\n",
    "    \"layout\": layout\n",
    "})\n",
    "comparison_select"
   ]
  },
  {
   "cell_type": "markdown",
   "metadata": {},
   "source": [
    "### Comparison to Similar Countries, Top 1%, Bottom 50%"
   ]
  },
  {
   "cell_type": "code",
   "execution_count": null,
   "metadata": {
    "collapsed": false
   },
   "outputs": [],
   "source": [
    "x=[\"Pakistan\", \"Middle East\", \"India\", \"South Africa\", \"China\"]\n",
    "\n",
    "trace1 = go.Bar(\n",
    "    x=x,\n",
    "    y=[30.0, 30.5, 21.3, 19.2, 13.9],\n",
    "    name='Top 1%'\n",
    ")\n",
    "# trace2 = go.Bar(\n",
    "#     x=x,\n",
    "#     y=[18.9, 26.0, 29.2, 31.0, 43.7],\n",
    "#     name='Middle 40%'\n",
    "# )\n",
    "trace3 = go.Bar(\n",
    "    x=x,\n",
    "    y=[12.0, 9.0, 14.7, 5.0, 14.8],\n",
    "    name='Bottom 50%'\n",
    ")\n",
    "\n",
    "data = [trace1, trace3]\n",
    "layout = go.Layout(\n",
    "    barmode='group'\n",
    ")\n",
    "\n",
    "layout = dict(title = 'Comparison to Similar Countries, 2015',\n",
    "              yaxis = dict(title = 'Income Share'),\n",
    "              barmode='grouped-bar'\n",
    "              )\n",
    "\n",
    "comparison_select_select = plotly.offline.iplot({\n",
    "    \"data\": data,\n",
    "    \"layout\": layout\n",
    "})\n",
    "comparison_select_select"
   ]
  },
  {
   "cell_type": "markdown",
   "metadata": {
    "collapsed": true
   },
   "source": [
    "### National Income Growth in Pakistan, 2012 - 2016"
   ]
  },
  {
   "cell_type": "markdown",
   "metadata": {},
   "source": [
    "This shows us we cannot use growth rates or undergo any significant analysis of growth rates as the surveys are self-contained. This result holds as we change the dates, for any section between 2004 - 2016. As we saw with the 'survey growth rates' table, we cannot make any significant assumptions about changes across time."
   ]
  },
  {
   "cell_type": "code",
   "execution_count": null,
   "metadata": {
    "collapsed": false
   },
   "outputs": [],
   "source": [
    "ni = pd.read_excel(\"./miscData/national_income.xlsx\")"
   ]
  },
  {
   "cell_type": "code",
   "execution_count": null,
   "metadata": {
    "collapsed": true
   },
   "outputs": [],
   "source": [
    "nigrowth = (ni[ni[\"Year\"] == 2016][\"National Income\"].values[0] - ni[ni[\"Year\"] == 2013][\"National Income\"].values[0]) / ni[ni[\"Year\"] == 2013][\"National Income\"].values[0]"
   ]
  },
  {
   "cell_type": "code",
   "execution_count": null,
   "metadata": {
    "collapsed": true
   },
   "outputs": [],
   "source": [
    "b90_data2012, b90_weights2012, ib902012 = bottom_percentiles(0.9, get_survey_table(\"individual\", 2012)[\"income\"], get_survey_table(\"individual\", 2012)[\"weights\"])\n",
    "t10_data2012, t10_weights2012, it102012 = top_percentiles(0.1, get_survey_table(\"individual\", 2012)[\"income\"], get_survey_table(\"individual\", 2012)[\"weights\"])\n",
    "\n",
    "b90_data2015, b90_weights2015, ib902015 = bottom_percentiles(0.9, get_survey_table(\"individual\", 2015)[\"income\"], get_survey_table(\"individual\", 2015)[\"weights\"])\n",
    "t10_data2015, t10_weights2015, it102015 = top_percentiles(0.1, get_survey_table(\"individual\", 2015)[\"income\"], get_survey_table(\"individual\", 2015)[\"weights\"])\n",
    "\n",
    "b90_growth = (weighted_sum(b90_data2015, b90_weights2015) - weighted_sum(b90_data2012, b90_weights2012)) / weighted_sum(b90_data2012, b90_weights2012)\n",
    "t10_growth = (weighted_sum(t10_data2015, t10_weights2015) - weighted_sum(t10_data2012, t10_weights2012)) / weighted_sum(t10_data2012, t10_weights2012)\n",
    "\n",
    "t10_survey = t10_growth\n",
    "b90_survey = b90_growth"
   ]
  },
  {
   "cell_type": "code",
   "execution_count": null,
   "metadata": {
    "collapsed": false
   },
   "outputs": [],
   "source": [
    "b90_data2012, b90_weights2012, ib902012 = bottom_percentiles(0.9, get_final_table(2012, \"salaried\")[\"income\"], get_final_table(2012, \"salaried\")[\"weights\"])\n",
    "t10_data2012, t10_weights2012, it102012 = top_percentiles(0.1, get_final_table(2012, \"salaried\")[\"income\"], get_final_table(2012, \"salaried\")[\"weights\"])\n",
    "\n",
    "b90_data2015, b90_weights2015, ib902015 = bottom_percentiles(0.9, get_final_table(2015, \"salaried\")[\"income\"], get_final_table(2015, \"salaried\")[\"weights\"])\n",
    "t10_data2015, t10_weights2015, it102015 = top_percentiles(0.1, get_final_table(2015, \"salaried\")[\"income\"], get_final_table(2015, \"salaried\")[\"weights\"])\n",
    "\n",
    "b90_growth = (weighted_sum(b90_data2015, b90_weights2015) - weighted_sum(b90_data2012, b90_weights2012)) / weighted_sum(b90_data2012, b90_weights2012)\n",
    "t10_growth = (weighted_sum(t10_data2015, t10_weights2015) - weighted_sum(t10_data2012, t10_weights2012)) / weighted_sum(t10_data2012, t10_weights2012)\n",
    "\n",
    "t10_final = t10_growth\n",
    "b90_final = b90_growth"
   ]
  },
  {
   "cell_type": "code",
   "execution_count": null,
   "metadata": {
    "collapsed": false
   },
   "outputs": [],
   "source": [
    "x=[\"National Accounts\", \"PSLM HIES Survey\", \"Constructed Survey and Tax Data\"]\n",
    "\n",
    "trace1 = go.Bar(\n",
    "    x=x,\n",
    "    y=[None, b90_survey, b90_final],\n",
    "    name='Bottom 90% contribution',\n",
    "    marker = dict(color = ('rgb(31, 119, 180)'))   \n",
    ")\n",
    "trace2 = go.Bar(\n",
    "    x=x,\n",
    "    y=[None, t10_survey, t10_final],\n",
    "    name='Top 10% Contribution',\n",
    "    marker = dict(color = ('rgb(214, 39, 40)'))\n",
    ")\n",
    "trace3 = go.Bar(\n",
    "    x=x,\n",
    "    y=[nigrowth, None, None],\n",
    "    name='All Percentiles',\n",
    "    marker = dict(color = ('rgb(148, 103, 189)'))\n",
    ")\n",
    "\n",
    "data = [trace3, trace1, trace2]\n",
    "\n",
    "layout = dict(title = 'National Income Growth in Pakistan, 2012 - 2016',\n",
    "              yaxis = dict(title = 'Total growth (%)'),\n",
    "              barmode='stack'\n",
    "              )\n",
    "\n",
    "national_income_growth_2015 = plotly.offline.iplot({\n",
    "    \"data\": data,\n",
    "    \"layout\": layout\n",
    "})\n",
    "national_income_growth_2015"
   ]
  },
  {
   "cell_type": "markdown",
   "metadata": {},
   "source": [
    "### Regarding Other Datasets"
   ]
  },
  {
   "cell_type": "markdown",
   "metadata": {},
   "source": [
    "Found this dataset that has numbers very different to ours. Definition is as follows:\n",
    "\n",
    "World Bank, Development Research Group. Data are based on primary household survey data obtained from government statistical agencies and World Bank country departments. Data for high-income economies are from the Luxembourg Income Study database. For more information and methodology, please see PovcalNet (http://iresearch.worldbank.org/PovcalNet/index.htm).\n",
    "\n",
    "What's interesting is that it doesn't even match up with our household survey data. Further research finding this survey data, combining it with our tax data would be useful."
   ]
  },
  {
   "cell_type": "code",
   "execution_count": null,
   "metadata": {
    "collapsed": false
   },
   "outputs": [],
   "source": [
    "pak_world_bank_indicators = pd.read_excel(\"./miscData/world_bank_bottom20_income_share_and_population.xlsx\")"
   ]
  },
  {
   "cell_type": "code",
   "execution_count": null,
   "metadata": {
    "collapsed": false
   },
   "outputs": [],
   "source": [
    "lowest_20_income = pak_world_bank_indicators[pak_world_bank_indicators[\"Series Code\"] == \"SI.DST.FRST.20\"]\n",
    "lowest_20_income"
   ]
  },
  {
   "cell_type": "code",
   "execution_count": null,
   "metadata": {
    "collapsed": false
   },
   "outputs": [],
   "source": [
    "print(\"Lowest 20% Income Share, PSLM HIES Survey: \", calculate_income_share(\"salaried\", 2015, 0.2, top=False, t_func_diff=True, t_func=get_survey_table) * 100, \"%\")"
   ]
  },
  {
   "cell_type": "code",
   "execution_count": null,
   "metadata": {
    "collapsed": false
   },
   "outputs": [],
   "source": [
    "print(\"Lowest 20% Income Share, Constructed Dataset: \", calculate_income_share(\"salaried\", 2015, 0.2, top=False) * 100, \"%\")"
   ]
  },
  {
   "cell_type": "markdown",
   "metadata": {},
   "source": [
    "# Export Data"
   ]
  },
  {
   "cell_type": "code",
   "execution_count": null,
   "metadata": {
    "collapsed": true
   },
   "outputs": [],
   "source": [
    "# with open('./finalData/finalGraphsAndTables/survey_growth_rates.pkl', 'wb') as f: pickle.dump(survey_growth_rates, f)"
   ]
  },
  {
   "cell_type": "raw",
   "metadata": {},
   "source": [
    "Notes for potential things to add in order of priority:\n",
    "\n",
    "1) Can make this functions much faster (as well as functions in other notebooks) by sticking to the numpy module. There are a lot of places where I do 'sum(list(...))' which is woefully inefficient.\n",
    "\n",
    "2) There are definitely more graphs that one can construct from this data. Please feel free to add and put in a pull request so we can add it to this repository."
   ]
  },
  {
   "cell_type": "markdown",
   "metadata": {},
   "source": [
    "Please make use of this analysis and reach out at ali.ahmed@berkeley.edu if you need any help setting it up, or understanding some of the data. My hope is that this can serve as a starting point for others to move forward with inequality research in Pakistan so society can better understand the impact of economic policy."
   ]
  },
  {
   "cell_type": "code",
   "execution_count": null,
   "metadata": {
    "collapsed": true
   },
   "outputs": [],
   "source": []
  }
 ],
 "metadata": {
  "anaconda-cloud": {},
  "kernelspec": {
   "display_name": "Python [conda root]",
   "language": "python",
   "name": "conda-root-py"
  },
  "language_info": {
   "codemirror_mode": {
    "name": "ipython",
    "version": 3
   },
   "file_extension": ".py",
   "mimetype": "text/x-python",
   "name": "python",
   "nbconvert_exporter": "python",
   "pygments_lexer": "ipython3",
   "version": "3.5.2"
  }
 },
 "nbformat": 4,
 "nbformat_minor": 2
}
