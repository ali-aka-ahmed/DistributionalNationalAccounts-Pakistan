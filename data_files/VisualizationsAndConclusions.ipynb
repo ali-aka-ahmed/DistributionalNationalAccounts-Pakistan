{
 "cells": [
  {
   "cell_type": "code",
   "execution_count": 281,
   "metadata": {
    "collapsed": false
   },
   "outputs": [],
   "source": [
    "import numpy as np\n",
    "import pandas as pd\n",
    "import pickle\n",
    "import plotly.plotly as py\n",
    "import plotly.graph_objs as go\n",
    "import matplotlib.pyplot as plt"
   ]
  },
  {
   "cell_type": "code",
   "execution_count": 282,
   "metadata": {
    "collapsed": true
   },
   "outputs": [],
   "source": [
    "pd.options.display.max_columns = None"
   ]
  },
  {
   "cell_type": "markdown",
   "metadata": {},
   "source": [
    "# Load Data"
   ]
  },
  {
   "cell_type": "code",
   "execution_count": 283,
   "metadata": {
    "collapsed": false
   },
   "outputs": [],
   "source": [
    "with open('./finalData/finalCombinedMicrodata/final_incomes_2015_ASSUMP_salaried.pkl', 'rb') as f: final_incomes_2015_ASSUMP_salaried = pickle.load(f)\n",
    "with open('./finalData/finalCombinedMicrodata/final_incomes_2015_ASSUMP_nonsalaried.pkl', 'rb') as f: final_incomes_2015_ASSUMP_nonsalaried = pickle.load(f)\n",
    "\n",
    "with open('./finalData/finalCombinedMicrodata/final_incomes_2014_ASSUMP_salaried.pkl', 'rb') as f: final_incomes_2014_ASSUMP_salaried = pickle.load(f)\n",
    "with open('./finalData/finalCombinedMicrodata/final_incomes_2014_ASSUMP_nonsalaried.pkl', 'rb') as f: final_incomes_2014_ASSUMP_nonsalaried = pickle.load(f)\n",
    "\n",
    "with open('./finalData/finalCombinedMicrodata/final_incomes_2013_ASSUMP_salaried.pkl', 'rb') as f: final_incomes_2013_ASSUMP_salaried = pickle.load(f)\n",
    "with open('./finalData/finalCombinedMicrodata/final_incomes_2013_ASSUMP_nonsalaried.pkl', 'rb') as f: final_incomes_2013_ASSUMP_nonsalaried = pickle.load(f)\n",
    "\n",
    "with open('./finalData/finalCombinedMicrodata/final_incomes_2012_ASSUMP_salaried.pkl', 'rb') as f: final_incomes_2012_ASSUMP_salaried = pickle.load(f)\n",
    "with open('./finalData/finalCombinedMicrodata/final_incomes_2012_ASSUMP_nonsalaried.pkl', 'rb') as f: final_incomes_2012_ASSUMP_nonsalaried = pickle.load(f)\n",
    "\n",
    "with open('./finalData/finalCombinedMicrodata/final_incomes_2011_ASSUMP_salaried.pkl', 'rb') as f: final_incomes_2011_ASSUMP_salaried = pickle.load(f)\n",
    "with open('./finalData/finalCombinedMicrodata/final_incomes_2011_ASSUMP_nonsalaried.pkl', 'rb') as f: final_incomes_2011_ASSUMP_nonsalaried = pickle.load(f)\n",
    "\n",
    "with open('./finalData/finalCombinedMicrodata/final_incomes_2010_ASSUMP_salaried.pkl', 'rb') as f: final_incomes_2010_ASSUMP_salaried = pickle.load(f)\n",
    "with open('./finalData/finalCombinedMicrodata/final_incomes_2010_ASSUMP_nonsalaried.pkl', 'rb') as f: final_incomes_2010_ASSUMP_nonsalaried = pickle.load(f)\n",
    "\n",
    "with open('./finalData/finalCombinedMicrodata/final_incomes_2008_ASSUMP_salaried.pkl', 'rb') as f: final_incomes_2008_ASSUMP_salaried = pickle.load(f)\n",
    "with open('./finalData/finalCombinedMicrodata/final_incomes_2008_ASSUMP_nonsalaried.pkl', 'rb') as f: final_incomes_2008_ASSUMP_nonsalaried = pickle.load(f)\n",
    "\n",
    "with open('./finalData/finalCombinedMicrodata/final_incomes_2007_ASSUMP_salaried.pkl', 'rb') as f: final_incomes_2007_ASSUMP_salaried = pickle.load(f)\n",
    "with open('./finalData/finalCombinedMicrodata/final_incomes_2007_ASSUMP_nonsalaried.pkl', 'rb') as f: final_incomes_2007_ASSUMP_nonsalaried = pickle.load(f)\n",
    "\n",
    "with open('./finalData/finalCombinedMicrodata/final_incomes_2006_ASSUMP_salaried.pkl', 'rb') as f: final_incomes_2006_ASSUMP_salaried = pickle.load(f)\n",
    "with open('./finalData/finalCombinedMicrodata/final_incomes_2006_ASSUMP_nonsalaried.pkl', 'rb') as f: final_incomes_2006_ASSUMP_nonsalaried = pickle.load(f)\n",
    "\n",
    "with open('./finalData/finalCombinedMicrodata/final_incomes_2005_ASSUMP_salaried.pkl', 'rb') as f: final_incomes_2005_ASSUMP_salaried = pickle.load(f)\n",
    "with open('./finalData/finalCombinedMicrodata/final_incomes_2005_ASSUMP_nonsalaried.pkl', 'rb') as f: final_incomes_2005_ASSUMP_nonsalaried = pickle.load(f)\n",
    "\n",
    "with open('./finalData/finalCombinedMicrodata/final_incomes_2004_ASSUMP_salaried.pkl', 'rb') as f: final_incomes_2004_ASSUMP_salaried = pickle.load(f)\n",
    "with open('./finalData/finalCombinedMicrodata/final_incomes_2004_ASSUMP_nonsalaried.pkl', 'rb') as f: final_incomes_2004_ASSUMP_nonsalaried = pickle.load(f)"
   ]
  },
  {
   "cell_type": "code",
   "execution_count": 284,
   "metadata": {
    "collapsed": true
   },
   "outputs": [],
   "source": [
    "with open('./finalData/individual_balance_sheet_2015_16.pkl', 'rb') as f: individual_balance_sheet_2015_16 = pickle.load(f)\n",
    "with open('./finalData/individual_balance_sheet_2014_15.pkl', 'rb') as f: individual_balance_sheet_2014_15 = pickle.load(f)\n",
    "with open('./finalData/individual_balance_sheet_2013_14.pkl', 'rb') as f: individual_balance_sheet_2013_14 = pickle.load(f)\n",
    "with open('./finalData/individual_balance_sheet_2012_13.pkl', 'rb') as f: individual_balance_sheet_2012_13 = pickle.load(f)\n",
    "with open('./finalData/individual_balance_sheet_2011_12.pkl', 'rb') as f: individual_balance_sheet_2011_12 = pickle.load(f)\n",
    "with open('./finalData/individual_balance_sheet_2010_11.pkl', 'rb') as f: individual_balance_sheet_2010_11 = pickle.load(f)\n",
    "with open('./finalData/individual_balance_sheet_2008_09.pkl', 'rb') as f: individual_balance_sheet_2008_09 = pickle.load(f)\n",
    "with open('./finalData/individual_balance_sheet_2007_08.pkl', 'rb') as f: individual_balance_sheet_2007_08 = pickle.load(f)\n",
    "with open('./finalData/individual_balance_sheet_2006_07.pkl', 'rb') as f: individual_balance_sheet_2006_07 = pickle.load(f)\n",
    "with open('./finalData/individual_balance_sheet_2005_06.pkl', 'rb') as f: individual_balance_sheet_2005_06 = pickle.load(f)\n",
    "with open('./finalData/individual_balance_sheet_2004_05.pkl', 'rb') as f: individual_balance_sheet_2004_05 = pickle.load(f)"
   ]
  },
  {
   "cell_type": "markdown",
   "metadata": {},
   "source": [
    "# Visualization and Conclusions"
   ]
  },
  {
   "cell_type": "markdown",
   "metadata": {},
   "source": [
    "**Helper Functions**"
   ]
  },
  {
   "cell_type": "code",
   "execution_count": 285,
   "metadata": {
    "collapsed": false
   },
   "outputs": [],
   "source": [
    "def get_final_table(start_year, assumptions):  \n",
    "    \"\"\"\n",
    "    Sorted by income.\n",
    "    \n",
    "    Args:\n",
    "        str (table_type): accepts only 'hh' for household or 'individual' for individual.\n",
    "        int (start_year): currently limited to 2004 - 2015.\n",
    "\n",
    "    Returns:\n",
    "        pd.DataFrame: dataframe corresponding to table.\n",
    "    \"\"\"\n",
    "    t = eval(\"final_incomes_\" + str(start_year) + \"_ASSUMP_\" + str(assumptions))\n",
    "    t = t.sort_values(by=['income']).reset_index().drop([\"index\"], axis=1)\n",
    "    return t\n",
    "    \n",
    "def weighted_sum(data, weights):\n",
    "    \"\"\"\n",
    "    Args:\n",
    "        pd.Series (data)\n",
    "        pd.Series (weights)\n",
    "\n",
    "    Returns:\n",
    "        float: weighted sum.\n",
    "    \"\"\"\n",
    "    data = np.array(data)\n",
    "    weights = np.array(weights)\n",
    "    return np.sum(data * weights)\n",
    "\n",
    "def top_percentiles(p, sorted_data, sorted_weights):\n",
    "    \"\"\"\n",
    "    Args:\n",
    "        int (p): 0 < p < 1.\n",
    "        pd.Series (data)\n",
    "        pd.Series (weights)\n",
    "\n",
    "    Returns:\n",
    "        (list, list): corresponding data, and weights.\n",
    "    \"\"\"\n",
    "    sorted_data = np.array(sorted_data)\n",
    "    sorted_weights = np.array(sorted_weights)\n",
    "    q = (1 - p) * np.sum(sorted_weights)\n",
    "    index = sorted_weights.size\n",
    "    cum_sum = np.sum(sorted_weights)\n",
    "    while cum_sum > q:\n",
    "        index -= 1\n",
    "        cum_sum -= sorted_weights[index]\n",
    "    return (sorted_data[index:], sorted_weights[index:], index)\n",
    "\n",
    "def bottom_percentiles(p, sorted_data, sorted_weights):\n",
    "    \"\"\"\n",
    "    Args:\n",
    "        int (p): 0 <= p <=1.\n",
    "        pd.Series (data)\n",
    "        pd.Series (weights)\n",
    "\n",
    "    Returns:\n",
    "        (list, list): corresponding data, and weights.\n",
    "    \"\"\"\n",
    "    sorted_data = np.array(sorted_data)\n",
    "    sorted_weights = np.array(sorted_weights)\n",
    "    q = p * np.sum(sorted_weights)\n",
    "    index = -1\n",
    "    cum_sum = 0\n",
    "    while cum_sum < q:\n",
    "        index += 1\n",
    "        cum_sum += sorted_weights[index]\n",
    "    return (sorted_data[:index], sorted_weights[:index], index)"
   ]
  },
  {
   "cell_type": "markdown",
   "metadata": {},
   "source": [
    "## General Basics"
   ]
  },
  {
   "cell_type": "markdown",
   "metadata": {},
   "source": [
    "**Helper Functions**"
   ]
  },
  {
   "cell_type": "code",
   "execution_count": 286,
   "metadata": {
    "collapsed": true
   },
   "outputs": [],
   "source": [
    "# get labor force participation from world bank, female, male, total"
   ]
  },
  {
   "cell_type": "markdown",
   "metadata": {},
   "source": [
    "## National Income Shares"
   ]
  },
  {
   "cell_type": "markdown",
   "metadata": {},
   "source": [
    "**Helper Functions**"
   ]
  },
  {
   "cell_type": "code",
   "execution_count": 287,
   "metadata": {
    "collapsed": true
   },
   "outputs": [],
   "source": [
    "def calculate_income_share(assumptions, year, p, top=True, t_func_diff=False, t_func=get_final_table):\n",
    "    \"\"\"\n",
    "    Args:\n",
    "        str (table_type): accepts only 'hh' for household or 'individual' for individual.\n",
    "        int (year): currently limited to 2004 - 2015.\n",
    "        float (percentile)\n",
    "        bool (top): getting top [percentile]% or bottom [percentile]%? defaults to top.\n",
    "        \n",
    "    Returns:\n",
    "        float: income share.\n",
    "    \"\"\"\n",
    "    if year == 2009:\n",
    "        print(\"No data for 2009-2010\")\n",
    "        return\n",
    "    if t_func_diff:\n",
    "        t = t_func(\"individual\", year)\n",
    "    else:\n",
    "        t = t_func(year, assumptions)\n",
    "    if top:\n",
    "        p_data, p_weights, i = top_percentiles(p, t[\"income\"], t[\"weights\"])\n",
    "    else:\n",
    "        p_data, p_weights, i = bottom_percentiles(p, t[\"income\"], t[\"weights\"])\n",
    "    partial_sum = weighted_sum(p_data, p_weights)\n",
    "    total_sum = weighted_sum(t[\"income\"], t[\"weights\"])\n",
    "    return round(partial_sum / (total_sum), 2)"
   ]
  },
  {
   "cell_type": "markdown",
   "metadata": {},
   "source": [
    "### Top 1% Income Share"
   ]
  },
  {
   "cell_type": "code",
   "execution_count": 288,
   "metadata": {
    "collapsed": false
   },
   "outputs": [],
   "source": [
    "# top 1 percent\n",
    "years = np.arange(2004, 2016, 1)\n",
    "index = np.argwhere(years==2009)\n",
    "years = np.delete(years, index)\n",
    "\n",
    "top_1_income_shares_salaried = []\n",
    "for y in years:\n",
    "    top_1_income_shares_salaried.append(calculate_income_share(\"salaried\", y, 0.01))\n",
    "    \n",
    "\n",
    "top_1_income_shares_nonsalaried = []\n",
    "for y in years:\n",
    "    top_1_income_shares_nonsalaried.append(calculate_income_share(\"nonsalaried\", y, 0.01))"
   ]
  },
  {
   "cell_type": "code",
   "execution_count": 289,
   "metadata": {
    "collapsed": false
   },
   "outputs": [
    {
     "data": {
      "text/html": [
       "<iframe id=\"igraph\" scrolling=\"no\" style=\"border:none;\" seamless=\"seamless\" src=\"https://plot.ly/~ali-wetrill/8.embed\" height=\"525px\" width=\"100%\"></iframe>"
      ],
      "text/plain": [
       "<plotly.tools.PlotlyDisplay object>"
      ]
     },
     "execution_count": 289,
     "metadata": {},
     "output_type": "execute_result"
    }
   ],
   "source": [
    "top_1_trace_salaried = go.Scatter(\n",
    "    x = years,\n",
    "    y = top_1_income_shares_salaried,\n",
    "    name = 'Top 1% [Salaried]'\n",
    ")\n",
    "\n",
    "top_1_trace_nonsalaried = go.Scatter(\n",
    "    x = years,\n",
    "    y = top_1_income_shares_nonsalaried,\n",
    "    name = 'Top 1% [Non-Salaried]'\n",
    ")\n",
    "\n",
    "layout = dict(title = 'Top 1% National Income Share in Pakistan',\n",
    "              xaxis = dict(title = 'Year'),\n",
    "              yaxis = dict(title = 'National Income Share'),\n",
    "              )\n",
    "data = [top_1_trace_salaried, top_1_trace_nonsalaried]\n",
    "fig = dict(data=data, layout=layout)\n",
    "py.iplot(fig, filename='styled-line')"
   ]
  },
  {
   "cell_type": "markdown",
   "metadata": {},
   "source": [
    "### Top 0.1% Income Share"
   ]
  },
  {
   "cell_type": "code",
   "execution_count": 290,
   "metadata": {
    "collapsed": false
   },
   "outputs": [],
   "source": [
    "# top 0.1 percent\n",
    "years = np.arange(2004, 2016, 1)\n",
    "index = np.argwhere(years==2009)\n",
    "years = np.delete(years, index)\n",
    "\n",
    "top_01_income_shares_salaried = []\n",
    "for y in years:\n",
    "    top_01_income_shares_salaried.append(calculate_income_share(\"salaried\", y, 0.001))\n",
    "    \n",
    "top_01_income_shares_nonsalaried = []\n",
    "for y in years:\n",
    "    top_01_income_shares_nonsalaried.append(calculate_income_share(\"nonsalaried\", y, 0.001))"
   ]
  },
  {
   "cell_type": "code",
   "execution_count": 291,
   "metadata": {
    "collapsed": false,
    "scrolled": false
   },
   "outputs": [
    {
     "data": {
      "text/html": [
       "<iframe id=\"igraph\" scrolling=\"no\" style=\"border:none;\" seamless=\"seamless\" src=\"https://plot.ly/~ali-wetrill/8.embed\" height=\"525px\" width=\"100%\"></iframe>"
      ],
      "text/plain": [
       "<plotly.tools.PlotlyDisplay object>"
      ]
     },
     "execution_count": 291,
     "metadata": {},
     "output_type": "execute_result"
    }
   ],
   "source": [
    "top_01_trace_salaried = go.Scatter(\n",
    "    x = years,\n",
    "    y = top_01_income_shares_salaried,\n",
    "    name = \"Top 0.1% [Salaried]\"\n",
    ")\n",
    "\n",
    "top_01_trace_nonsalaried = go.Scatter(\n",
    "    x = years,\n",
    "    y = top_01_income_shares_nonsalaried,\n",
    "    name = \"Top 0.1% [Non-Salaried]\"\n",
    ")\n",
    "\n",
    "layout = dict(title = 'Top 0.1% National Income Share in Pakistan',\n",
    "              xaxis = dict(title = 'Year'),\n",
    "              yaxis = dict(title = 'National Income Share'),\n",
    "              )\n",
    "data = [top_01_trace_salaried, top_01_trace_nonsalaried]\n",
    "fig = dict(data=data, layout=layout)\n",
    "py.iplot(fig, filename='styled-line')"
   ]
  },
  {
   "cell_type": "markdown",
   "metadata": {},
   "source": [
    "### Top 0.01% Income Share"
   ]
  },
  {
   "cell_type": "code",
   "execution_count": 292,
   "metadata": {
    "collapsed": false
   },
   "outputs": [],
   "source": [
    "# top 0.01 percent\n",
    "years = np.arange(2004, 2016, 1)\n",
    "index = np.argwhere(years==2009)\n",
    "years = np.delete(years, index)\n",
    "\n",
    "top_001_income_shares_salaried = []\n",
    "for y in years:\n",
    "    top_001_income_shares_salaried.append(calculate_income_share(\"salaried\", y, 0.0001))\n",
    "    \n",
    "top_001_income_shares_nonsalaried = []\n",
    "for y in years:\n",
    "    top_001_income_shares_nonsalaried.append(calculate_income_share(\"nonsalaried\", y, 0.0001))"
   ]
  },
  {
   "cell_type": "code",
   "execution_count": 293,
   "metadata": {
    "collapsed": false,
    "scrolled": false
   },
   "outputs": [
    {
     "data": {
      "text/html": [
       "<iframe id=\"igraph\" scrolling=\"no\" style=\"border:none;\" seamless=\"seamless\" src=\"https://plot.ly/~ali-wetrill/8.embed\" height=\"525px\" width=\"100%\"></iframe>"
      ],
      "text/plain": [
       "<plotly.tools.PlotlyDisplay object>"
      ]
     },
     "execution_count": 293,
     "metadata": {},
     "output_type": "execute_result"
    }
   ],
   "source": [
    "top_001_trace_salaried = go.Scatter(\n",
    "    x = years,\n",
    "    y = top_001_income_shares_salaried,\n",
    "    name = \"Top 0.01% [Salaried]\"\n",
    ")\n",
    "\n",
    "top_001_trace_nonsalaried = go.Scatter(\n",
    "    x = years,\n",
    "    y = top_001_income_shares_nonsalaried,\n",
    "    name = \"Top 0.01% [Non-Salaried]\"\n",
    ")\n",
    "\n",
    "layout = dict(title = 'Top 0.01% National Income Share in Pakistan',\n",
    "              xaxis = dict(title = 'Year'),\n",
    "              yaxis = dict(title = 'National Income Share'),\n",
    "              )\n",
    "data = [top_001_trace_salaried, top_001_trace_nonsalaried]\n",
    "fig = dict(data=data, layout=layout)\n",
    "py.iplot(fig, filename='styled-line')"
   ]
  },
  {
   "cell_type": "markdown",
   "metadata": {},
   "source": [
    "### Top 1% and Top 0.1% and Top 0.01% Income Shares"
   ]
  },
  {
   "cell_type": "code",
   "execution_count": 294,
   "metadata": {
    "collapsed": false
   },
   "outputs": [
    {
     "data": {
      "text/html": [
       "<iframe id=\"igraph\" scrolling=\"no\" style=\"border:none;\" seamless=\"seamless\" src=\"https://plot.ly/~ali-wetrill/8.embed\" height=\"525px\" width=\"100%\"></iframe>"
      ],
      "text/plain": [
       "<plotly.tools.PlotlyDisplay object>"
      ]
     },
     "execution_count": 294,
     "metadata": {},
     "output_type": "execute_result"
    }
   ],
   "source": [
    "layout = dict(title = 'Top 1%, Top 0.1% and Top 0.01% National Income Shares in Pakistan',\n",
    "              xaxis = dict(title = 'Year'),\n",
    "              yaxis = dict(title = 'National Income Share'),\n",
    "              )\n",
    "data = [top_1_trace_salaried, top_1_trace_nonsalaried, top_01_trace_salaried, top_01_trace_nonsalaried, top_001_trace_salaried, top_001_trace_nonsalaried]\n",
    "fig = dict(data=data, layout=layout)\n",
    "py.iplot(fig, filename='styled-line')"
   ]
  },
  {
   "cell_type": "markdown",
   "metadata": {},
   "source": [
    "### Top 1% and Bottom 50% Income Shares"
   ]
  },
  {
   "cell_type": "code",
   "execution_count": 295,
   "metadata": {
    "collapsed": true
   },
   "outputs": [],
   "source": [
    "# bottom 50 percent\n",
    "years = np.arange(2004, 2016, 1)\n",
    "index = np.argwhere(years==2009)\n",
    "years = np.delete(years, index)\n",
    "\n",
    "bottom_50_income_shares_salaried = []\n",
    "for y in years:\n",
    "    bottom_50_income_shares_salaried.append(calculate_income_share(\"salaried\", y, 0.5, top=False))\n",
    "\n",
    "bottom_50_income_shares_nonsalaried = []\n",
    "for y in years:\n",
    "    bottom_50_income_shares_nonsalaried.append(calculate_income_share(\"nonsalaried\", y, 0.5, top=False))"
   ]
  },
  {
   "cell_type": "code",
   "execution_count": 296,
   "metadata": {
    "collapsed": false
   },
   "outputs": [
    {
     "data": {
      "text/html": [
       "<iframe id=\"igraph\" scrolling=\"no\" style=\"border:none;\" seamless=\"seamless\" src=\"https://plot.ly/~ali-wetrill/8.embed\" height=\"525px\" width=\"100%\"></iframe>"
      ],
      "text/plain": [
       "<plotly.tools.PlotlyDisplay object>"
      ]
     },
     "execution_count": 296,
     "metadata": {},
     "output_type": "execute_result"
    }
   ],
   "source": [
    "bottom_50_trace_salaried = go.Scatter(\n",
    "    x = years,\n",
    "    y = bottom_50_income_shares_salaried,\n",
    "    name = 'Bottom 50% [Salaried]'\n",
    ")\n",
    "\n",
    "bottom_50_trace_nonsalaried = go.Scatter(\n",
    "    x = years,\n",
    "    y = bottom_50_income_shares_nonsalaried,\n",
    "    name = 'Bottom 50% [Non-Salaried]'\n",
    ")\n",
    "\n",
    "layout = dict(title = 'Top 1% and Bottom 50% National Income Shares in Pakistan',\n",
    "              xaxis = dict(title = 'Year'),\n",
    "              yaxis = dict(title = 'National Income Share'),\n",
    "              )\n",
    "data = [top_1_trace_salaried, top_1_trace_nonsalaried, bottom_50_trace_salaried, bottom_50_trace_nonsalaried]\n",
    "fig = dict(data=data, layout=layout)\n",
    "py.iplot(fig, filename='styled-line')"
   ]
  },
  {
   "cell_type": "markdown",
   "metadata": {},
   "source": [
    "### Top 10% and Middle 40% Income Shares"
   ]
  },
  {
   "cell_type": "code",
   "execution_count": 297,
   "metadata": {
    "collapsed": false
   },
   "outputs": [],
   "source": [
    "# top 10 percent\n",
    "years = np.arange(2004, 2016, 1)\n",
    "index = np.argwhere(years==2009)\n",
    "years = np.delete(years, index)\n",
    "\n",
    "top_10_income_shares_salaried = []\n",
    "for y in years:\n",
    "    top_10_income_shares_salaried.append(calculate_income_share(\"salaried\", y, 0.1))\n",
    "    \n",
    "top_10_income_shares_nonsalaried = []\n",
    "for y in years:\n",
    "    top_10_income_shares_nonsalaried.append(calculate_income_share(\"nonsalaried\", y, 0.1))"
   ]
  },
  {
   "cell_type": "code",
   "execution_count": 298,
   "metadata": {
    "collapsed": true
   },
   "outputs": [],
   "source": [
    "# middle 40 percent\n",
    "years = np.arange(2004, 2016, 1)\n",
    "index = np.argwhere(years==2009)\n",
    "years = np.delete(years, index)\n",
    "\n",
    "middle_40_income_shares_salaried = []\n",
    "for y in years:\n",
    "    top30 = calculate_income_share(\"salaried\", y, 0.3)\n",
    "    bottom30 = calculate_income_share(\"salaried\", y, 0.3, top=False)\n",
    "    middle_40_income_shares_salaried.append(1 - (top30 + bottom30))\n",
    "    \n",
    "middle_40_income_shares_nonsalaried = []\n",
    "for y in years:\n",
    "    top30 = calculate_income_share(\"nonsalaried\", y, 0.3)\n",
    "    bottom30 = calculate_income_share(\"nonsalaried\", y, 0.3, top=False)\n",
    "    middle_40_income_shares_nonsalaried.append(1 - (top30 + bottom30))"
   ]
  },
  {
   "cell_type": "code",
   "execution_count": 299,
   "metadata": {
    "collapsed": false,
    "scrolled": false
   },
   "outputs": [
    {
     "data": {
      "text/html": [
       "<iframe id=\"igraph\" scrolling=\"no\" style=\"border:none;\" seamless=\"seamless\" src=\"https://plot.ly/~ali-wetrill/8.embed\" height=\"525px\" width=\"100%\"></iframe>"
      ],
      "text/plain": [
       "<plotly.tools.PlotlyDisplay object>"
      ]
     },
     "execution_count": 299,
     "metadata": {},
     "output_type": "execute_result"
    }
   ],
   "source": [
    "top_10_trace_salaried = go.Scatter(\n",
    "    x = years,\n",
    "    y = top_10_income_shares_salaried,\n",
    "    name = \"Top 10% [Salaried]\"\n",
    ")\n",
    "\n",
    "top_10_trace_nonsalaried = go.Scatter(\n",
    "    x = years,\n",
    "    y = top_10_income_shares_nonsalaried,\n",
    "    name = \"Top 10% [Non-Salaried]\"\n",
    ")\n",
    "\n",
    "middle_40_trace_salaried = go.Scatter(\n",
    "    x = years,\n",
    "    y = middle_40_income_shares_salaried,\n",
    "    name = \"Middle 40% [Salaried]\"\n",
    ")\n",
    "\n",
    "middle_40_trace_nonsalaried = go.Scatter(\n",
    "    x = years,\n",
    "    y = middle_40_income_shares_nonsalaried,\n",
    "    name = \"Middle 40% [Non-Salaried]\"\n",
    ")\n",
    "\n",
    "layout = dict(title = 'Top 10% and Middle 40% National Income Shares in Pakistan',\n",
    "              xaxis = dict(title = 'Year'),\n",
    "              yaxis = dict(title = 'National Income Share'),\n",
    "              )\n",
    "data = [top_10_trace_salaried, top_10_trace_nonsalaried, middle_40_trace_salaried, middle_40_trace_nonsalaried]\n",
    "fig = dict(data=data, layout=layout)\n",
    "py.iplot(fig, filename='styled-line')"
   ]
  },
  {
   "cell_type": "markdown",
   "metadata": {},
   "source": [
    "## Miscellaneous"
   ]
  },
  {
   "cell_type": "markdown",
   "metadata": {},
   "source": [
    "**Helper Functions**"
   ]
  },
  {
   "cell_type": "code",
   "execution_count": 300,
   "metadata": {
    "collapsed": true
   },
   "outputs": [],
   "source": [
    "def get_survey_table(table_type, start_year):  \n",
    "    \"\"\"\n",
    "    Sorted by income.\n",
    "    \n",
    "    Args:\n",
    "        str (table_type): accepts only 'hh' for household or 'individual' for individual.\n",
    "        int (start_year): currently limited to 2004 - 2015.\n",
    "\n",
    "    Returns:\n",
    "        pd.DataFrame: dataframe corresponding to table.\n",
    "    \"\"\"\n",
    "    t = eval(table_type + \"_balance_sheet_\" + str(start_year) + \"_\" + (str(start_year+1)[-2:]))\n",
    "    t = t.sort_values(by=['income']).reset_index().drop([\"index\"], axis=1)\n",
    "    return t"
   ]
  },
  {
   "cell_type": "markdown",
   "metadata": {},
   "source": [
    "### National Income Shares in Pakistan, 2015"
   ]
  },
  {
   "cell_type": "markdown",
   "metadata": {},
   "source": [
    "We can see how our tax data corrects the survey data. The change is rather significant. We will show a few different splits."
   ]
  },
  {
   "cell_type": "code",
   "execution_count": 301,
   "metadata": {
    "collapsed": false
   },
   "outputs": [
    {
     "data": {
      "text/html": [
       "<iframe id=\"igraph\" scrolling=\"no\" style=\"border:none;\" seamless=\"seamless\" src=\"https://plot.ly/~ali-wetrill/18.embed\" height=\"525px\" width=\"100%\"></iframe>"
      ],
      "text/plain": [
       "<plotly.tools.PlotlyDisplay object>"
      ]
     },
     "execution_count": 301,
     "metadata": {},
     "output_type": "execute_result"
    }
   ],
   "source": [
    "x=[\"PSLM HIES Survey\", \"Constructed Survey and Tax Data\"]\n",
    "\n",
    "trace1 = go.Bar(\n",
    "    x=x,\n",
    "    y=[calculate_income_share(\"salaried\", 2015, 0.9, top=False, t_func_diff=True, t_func=get_survey_table), \n",
    "       calculate_income_share(\"salaried\", 2015, 0.9, top=False)],\n",
    "    name='Bottom 90% contribution',\n",
    "    marker = dict(color = ('rgb(31, 119, 180)'))   \n",
    ")\n",
    "trace2 = go.Bar(\n",
    "    x=x,\n",
    "    y=[calculate_income_share(\"salaried\", 2015, 0.1, t_func_diff=True, t_func=get_survey_table), \n",
    "       calculate_income_share(\"salaried\", 2015, 0.1)],\n",
    "    name='Top 10% Contribution',\n",
    "    marker = dict(color = ('rgb(214, 39, 40)'))\n",
    ")\n",
    "\n",
    "data = [trace1, trace2]\n",
    "\n",
    "layout = dict(title = 'National Income Shares in Pakistan, Top 10%, Bottom 50%, 2015',\n",
    "              yaxis = dict(title = 'Income Share'),\n",
    "              barmode='stack'\n",
    "              )\n",
    "\n",
    "fig = go.Figure(data=data, layout=layout)\n",
    "py.iplot(fig, filename='stacked-bar')"
   ]
  },
  {
   "cell_type": "code",
   "execution_count": 302,
   "metadata": {
    "collapsed": false
   },
   "outputs": [
    {
     "data": {
      "text/html": [
       "<iframe id=\"igraph\" scrolling=\"no\" style=\"border:none;\" seamless=\"seamless\" src=\"https://plot.ly/~ali-wetrill/18.embed\" height=\"525px\" width=\"100%\"></iframe>"
      ],
      "text/plain": [
       "<plotly.tools.PlotlyDisplay object>"
      ]
     },
     "execution_count": 302,
     "metadata": {},
     "output_type": "execute_result"
    }
   ],
   "source": [
    "x=[\"PSLM HIES Survey\", \"Constructed Survey and Tax Data\"]\n",
    "\n",
    "trace1 = go.Bar(\n",
    "    x=x,\n",
    "    y=[calculate_income_share(\"salaried\", 2015, 0.99, top=False, t_func_diff=True, t_func=get_survey_table), \n",
    "       calculate_income_share(\"salaried\", 2015, 0.99, top=False)],\n",
    "    name='Bottom 99% contribution',\n",
    "    marker = dict(color = ('rgb(31, 119, 180)'))   \n",
    ")\n",
    "trace2 = go.Bar(\n",
    "    x=x,\n",
    "    y=[calculate_income_share(\"salaried\", 2015, 0.01, t_func_diff=True, t_func=get_survey_table), \n",
    "       calculate_income_share(\"salaried\", 2015, 0.01)],\n",
    "    name='Top 1% Contribution',\n",
    "    marker = dict(color = ('rgb(214, 39, 40)'))\n",
    ")\n",
    "\n",
    "data = [trace1, trace2]\n",
    "\n",
    "layout = dict(title = 'National Income Shares in Pakistan, Top 1%, Bottom 99%  2015',\n",
    "              yaxis = dict(title = 'Income Share'),\n",
    "              barmode='stack'\n",
    "              )\n",
    "\n",
    "fig = go.Figure(data=data, layout=layout)\n",
    "py.iplot(fig, filename='stacked-bar')"
   ]
  },
  {
   "cell_type": "code",
   "execution_count": 303,
   "metadata": {
    "collapsed": false
   },
   "outputs": [
    {
     "data": {
      "text/html": [
       "<iframe id=\"igraph\" scrolling=\"no\" style=\"border:none;\" seamless=\"seamless\" src=\"https://plot.ly/~ali-wetrill/18.embed\" height=\"525px\" width=\"100%\"></iframe>"
      ],
      "text/plain": [
       "<plotly.tools.PlotlyDisplay object>"
      ]
     },
     "execution_count": 303,
     "metadata": {},
     "output_type": "execute_result"
    }
   ],
   "source": [
    "x=[\"PSLM HIES Survey\", \"Constructed Survey and Tax Data\"]\n",
    "\n",
    "b30_survey = calculate_income_share(\"salaried\", 2015, 0.3, top=False, t_func_diff=True, t_func=get_survey_table)\n",
    "b30_final = calculate_income_share(\"salaried\", 2015, 0.3, top=False)\n",
    "\n",
    "t30_survey = calculate_income_share(\"salaried\", 2015, 0.3, t_func_diff=True, t_func=get_survey_table)\n",
    "t30_final = calculate_income_share(\"salaried\", 2015, 0.3)\n",
    "\n",
    "m40_survey = 1 - (t30_survey + b30_survey)\n",
    "m40_final = 1 - (t30_final + b30_final)\n",
    "\n",
    "trace1 = go.Bar(\n",
    "    x=x,\n",
    "    y=[b30_survey, \n",
    "       b30_final],\n",
    "    name='Bottom 30% contribution',\n",
    "    marker = dict(color = ('rgb(31, 119, 180)'))   \n",
    ")\n",
    "trace2 = go.Bar(\n",
    "    x=x,\n",
    "    y=[m40_survey, \n",
    "       m40_final],\n",
    "    name='Middle 40% Contribution',\n",
    "    marker = dict(color = ('rgb(214, 39, 40)'))\n",
    ")\n",
    "\n",
    "trace3 = go.Bar(\n",
    "    x=x,\n",
    "    y=[t30_survey, \n",
    "       t30_final],\n",
    "    name='Top 30% Contribution',\n",
    "    marker = dict(color = ('rgb(148, 103, 189)'))\n",
    ")\n",
    "\n",
    "data = [trace1, trace2, trace3]\n",
    "\n",
    "layout = dict(title = 'National Income Shares in Pakistan, Top 30%, Middle 40%, Bottom 30%  2015',\n",
    "              yaxis = dict(title = 'Income Share'),\n",
    "              barmode='stack'\n",
    "              )\n",
    "\n",
    "fig = go.Figure(data=data, layout=layout)\n",
    "py.iplot(fig, filename='stacked-bar')"
   ]
  },
  {
   "cell_type": "code",
   "execution_count": null,
   "metadata": {
    "collapsed": true
   },
   "outputs": [],
   "source": []
  },
  {
   "cell_type": "code",
   "execution_count": null,
   "metadata": {
    "collapsed": true
   },
   "outputs": [],
   "source": []
  },
  {
   "cell_type": "code",
   "execution_count": null,
   "metadata": {
    "collapsed": true
   },
   "outputs": [],
   "source": []
  },
  {
   "cell_type": "code",
   "execution_count": null,
   "metadata": {
    "collapsed": true
   },
   "outputs": [],
   "source": []
  },
  {
   "cell_type": "code",
   "execution_count": null,
   "metadata": {
    "collapsed": true
   },
   "outputs": [],
   "source": []
  },
  {
   "cell_type": "markdown",
   "metadata": {
    "collapsed": true
   },
   "source": [
    "### National Income Growth in Pakistan, 2012 - 2016"
   ]
  },
  {
   "cell_type": "markdown",
   "metadata": {},
   "source": [
    "This shows us we cannot use growth rates or undergo any significant analysis of growth rates as the surveys are self-contained. As we saw with the 'survey growth rates' table, we cannot make any significant assumptions about changes across time."
   ]
  },
  {
   "cell_type": "code",
   "execution_count": 304,
   "metadata": {
    "collapsed": false
   },
   "outputs": [],
   "source": [
    "ni = pd.read_excel(\"./miscData/national_income.xlsx\")"
   ]
  },
  {
   "cell_type": "code",
   "execution_count": 305,
   "metadata": {
    "collapsed": true
   },
   "outputs": [],
   "source": [
    "nigrowth = (ni[ni[\"Year\"] == 2016][\"National Income\"].values[0] - ni[ni[\"Year\"] == 2013][\"National Income\"].values[0]) / ni[ni[\"Year\"] == 2013][\"National Income\"].values[0]"
   ]
  },
  {
   "cell_type": "code",
   "execution_count": 306,
   "metadata": {
    "collapsed": true
   },
   "outputs": [],
   "source": [
    "b90_data2012, b90_weights2012, ib902012 = bottom_percentiles(0.9, get_survey_table(\"individual\", 2012)[\"income\"], get_survey_table(\"individual\", 2012)[\"weights\"])\n",
    "t10_data2012, t10_weights2012, it102012 = top_percentiles(0.1, get_survey_table(\"individual\", 2012)[\"income\"], get_survey_table(\"individual\", 2012)[\"weights\"])\n",
    "\n",
    "b90_data2015, b90_weights2015, ib902015 = bottom_percentiles(0.9, get_survey_table(\"individual\", 2015)[\"income\"], get_survey_table(\"individual\", 2015)[\"weights\"])\n",
    "t10_data2015, t10_weights2015, it102015 = top_percentiles(0.1, get_survey_table(\"individual\", 2015)[\"income\"], get_survey_table(\"individual\", 2015)[\"weights\"])\n",
    "\n",
    "b90_growth = (weighted_sum(b90_data2015, b90_weights2015) - weighted_sum(b90_data2012, b90_weights2012)) / weighted_sum(b90_data2012, b90_weights2012)\n",
    "t10_growth = (weighted_sum(t10_data2015, t10_weights2015) - weighted_sum(t10_data2012, t10_weights2012)) / weighted_sum(t10_data2012, t10_weights2012)\n",
    "\n",
    "t10_survey = t10_growth\n",
    "b90_survey = b90_growth"
   ]
  },
  {
   "cell_type": "code",
   "execution_count": 307,
   "metadata": {
    "collapsed": false
   },
   "outputs": [],
   "source": [
    "b90_data2012, b90_weights2012, ib902012 = bottom_percentiles(0.9, get_final_table(2012, \"salaried\")[\"income\"], get_final_table(2012, \"salaried\")[\"weights\"])\n",
    "t10_data2012, t10_weights2012, it102012 = top_percentiles(0.1, get_final_table(2012, \"salaried\")[\"income\"], get_final_table(2012, \"salaried\")[\"weights\"])\n",
    "\n",
    "b90_data2015, b90_weights2015, ib902015 = bottom_percentiles(0.9, get_final_table(2015, \"salaried\")[\"income\"], get_final_table(2015, \"salaried\")[\"weights\"])\n",
    "t10_data2015, t10_weights2015, it102015 = top_percentiles(0.1, get_final_table(2015, \"salaried\")[\"income\"], get_final_table(2015, \"salaried\")[\"weights\"])\n",
    "\n",
    "b90_growth = (weighted_sum(b90_data2015, b90_weights2015) - weighted_sum(b90_data2012, b90_weights2012)) / weighted_sum(b90_data2012, b90_weights2012)\n",
    "t10_growth = (weighted_sum(t10_data2015, t10_weights2015) - weighted_sum(t10_data2012, t10_weights2012)) / weighted_sum(t10_data2012, t10_weights2012)\n",
    "\n",
    "t10_final = t10_growth\n",
    "b90_final = b90_growth"
   ]
  },
  {
   "cell_type": "code",
   "execution_count": 308,
   "metadata": {
    "collapsed": false
   },
   "outputs": [
    {
     "data": {
      "text/html": [
       "<iframe id=\"igraph\" scrolling=\"no\" style=\"border:none;\" seamless=\"seamless\" src=\"https://plot.ly/~ali-wetrill/18.embed\" height=\"525px\" width=\"100%\"></iframe>"
      ],
      "text/plain": [
       "<plotly.tools.PlotlyDisplay object>"
      ]
     },
     "execution_count": 308,
     "metadata": {},
     "output_type": "execute_result"
    }
   ],
   "source": [
    "x=[\"National Accounts\", \"PSLM HIES Survey\", \"Constructed Survey and Tax Data\"]\n",
    "\n",
    "trace1 = go.Bar(\n",
    "    x=x,\n",
    "    y=[None, b90_survey, b90_final],\n",
    "    name='Bottom 90% contribution',\n",
    "    marker = dict(color = ('rgb(31, 119, 180)'))   \n",
    ")\n",
    "trace2 = go.Bar(\n",
    "    x=x,\n",
    "    y=[None, t10_survey, t10_final],\n",
    "    name='Top 10% Contribution',\n",
    "    marker = dict(color = ('rgb(214, 39, 40)'))\n",
    ")\n",
    "trace3 = go.Bar(\n",
    "    x=x,\n",
    "    y=[nigrowth, None, None],\n",
    "    name='All Percentiles',\n",
    "    marker = dict(color = ('rgb(148, 103, 189)'))\n",
    ")\n",
    "\n",
    "data = [trace3, trace1, trace2]\n",
    "\n",
    "layout = dict(title = 'National Income Growth in Pakistan, 2012 - 2016',\n",
    "              yaxis = dict(title = 'Total growth (%)'),\n",
    "              barmode='stack'\n",
    "              )\n",
    "\n",
    "fig = go.Figure(data=data, layout=layout)\n",
    "py.iplot(fig, filename='stacked-bar')"
   ]
  },
  {
   "cell_type": "markdown",
   "metadata": {},
   "source": [
    "### Regarding Other Datasets"
   ]
  },
  {
   "cell_type": "markdown",
   "metadata": {},
   "source": [
    "Found this dataset that has numbers very different to ours. Definition is as follows:\n",
    "\n",
    "World Bank, Development Research Group. Data are based on primary household survey data obtained from government statistical agencies and World Bank country departments. Data for high-income economies are from the Luxembourg Income Study database. For more information and methodology, please see PovcalNet (http://iresearch.worldbank.org/PovcalNet/index.htm).\n",
    "\n",
    "What's interesting is that it doesn't even match up with our household survey data. Further research finding this survey data, combining it with our tax data would be useful."
   ]
  },
  {
   "cell_type": "code",
   "execution_count": 309,
   "metadata": {
    "collapsed": false
   },
   "outputs": [],
   "source": [
    "pak_world_bank_indicators = pd.read_excel(\"./miscData/world_bank_bottom20_income_share_and_population.xlsx\")"
   ]
  },
  {
   "cell_type": "code",
   "execution_count": 310,
   "metadata": {
    "collapsed": false
   },
   "outputs": [
    {
     "data": {
      "text/html": [
       "<div>\n",
       "<table border=\"1\" class=\"dataframe\">\n",
       "  <thead>\n",
       "    <tr style=\"text-align: right;\">\n",
       "      <th></th>\n",
       "      <th>Country Name</th>\n",
       "      <th>Country Code</th>\n",
       "      <th>Series Name</th>\n",
       "      <th>Series Code</th>\n",
       "      <th>1990 [YR1990]</th>\n",
       "      <th>2000 [YR2000]</th>\n",
       "      <th>2009 [YR2009]</th>\n",
       "      <th>2010 [YR2010]</th>\n",
       "      <th>2011 [YR2011]</th>\n",
       "      <th>2012 [YR2012]</th>\n",
       "      <th>2013 [YR2013]</th>\n",
       "      <th>2014 [YR2014]</th>\n",
       "      <th>2015 [YR2015]</th>\n",
       "      <th>2016 [YR2016]</th>\n",
       "      <th>2017 [YR2017]</th>\n",
       "      <th>2018 [YR2018]</th>\n",
       "    </tr>\n",
       "  </thead>\n",
       "  <tbody>\n",
       "    <tr>\n",
       "      <th>11</th>\n",
       "      <td>Pakistan</td>\n",
       "      <td>PAK</td>\n",
       "      <td>Income share held by lowest 20%</td>\n",
       "      <td>SI.DST.FRST.20</td>\n",
       "      <td>8.1</td>\n",
       "      <td>..</td>\n",
       "      <td>..</td>\n",
       "      <td>9.6</td>\n",
       "      <td>9.3</td>\n",
       "      <td>..</td>\n",
       "      <td>9.2</td>\n",
       "      <td>..</td>\n",
       "      <td>8.9</td>\n",
       "      <td>..</td>\n",
       "      <td>..</td>\n",
       "      <td>..</td>\n",
       "    </tr>\n",
       "  </tbody>\n",
       "</table>\n",
       "</div>"
      ],
      "text/plain": [
       "   Country Name Country Code                      Series Name     Series Code  \\\n",
       "11     Pakistan          PAK  Income share held by lowest 20%  SI.DST.FRST.20   \n",
       "\n",
       "   1990 [YR1990] 2000 [YR2000] 2009 [YR2009] 2010 [YR2010] 2011 [YR2011]  \\\n",
       "11           8.1            ..            ..           9.6           9.3   \n",
       "\n",
       "   2012 [YR2012] 2013 [YR2013] 2014 [YR2014] 2015 [YR2015] 2016 [YR2016]  \\\n",
       "11            ..           9.2            ..           8.9            ..   \n",
       "\n",
       "   2017 [YR2017] 2018 [YR2018]  \n",
       "11            ..            ..  "
      ]
     },
     "execution_count": 310,
     "metadata": {},
     "output_type": "execute_result"
    }
   ],
   "source": [
    "lowest_20_income = pak_world_bank_indicators[pak_world_bank_indicators[\"Series Code\"] == \"SI.DST.FRST.20\"]\n",
    "lowest_20_income"
   ]
  },
  {
   "cell_type": "code",
   "execution_count": 311,
   "metadata": {
    "collapsed": false
   },
   "outputs": [
    {
     "name": "stdout",
     "output_type": "stream",
     "text": [
      "Lowest 20% Income Share, PSLM HIES Survey:  3.0 %\n"
     ]
    }
   ],
   "source": [
    "print(\"Lowest 20% Income Share, PSLM HIES Survey: \", calculate_income_share(\"salaried\", 2015, 0.2, top=False, t_func_diff=True, t_func=get_survey_table) * 100, \"%\")"
   ]
  },
  {
   "cell_type": "code",
   "execution_count": 312,
   "metadata": {
    "collapsed": false
   },
   "outputs": [
    {
     "name": "stdout",
     "output_type": "stream",
     "text": [
      "Lowest 20% Income Share, Constructed Dataset:  2.0 %\n"
     ]
    }
   ],
   "source": [
    "print(\"Lowest 20% Income Share, Constructed Dataset: \", calculate_income_share(\"salaried\", 2015, 0.2, top=False) * 100, \"%\")"
   ]
  },
  {
   "cell_type": "markdown",
   "metadata": {},
   "source": [
    "# Export Data"
   ]
  },
  {
   "cell_type": "code",
   "execution_count": 313,
   "metadata": {
    "collapsed": true
   },
   "outputs": [],
   "source": [
    "# with open('./finalData/finalGraphsAndTables/survey_growth_rates.pkl', 'wb') as f: pickle.dump(survey_growth_rates, f)"
   ]
  },
  {
   "cell_type": "raw",
   "metadata": {},
   "source": [
    "Notes for potential things to add in order of priority:\n",
    "\n",
    "1) Can make this functions much faster (as well as functions in other notebooks) by sticking to the numpy module. There are a lot of places where I do 'sum(list(...))' which is woefully inefficient.\n",
    "\n",
    "2) There are definitely more graphs that one can construct from this data. Please feel free to add and put in a pull request so we can add it to this repository."
   ]
  },
  {
   "cell_type": "markdown",
   "metadata": {},
   "source": [
    "Please make use of this analysis and reach out at ali.ahmed@berkeley.edu if you need any help setting it up, or understanding some of the data. My hope is that this can serve as a starting point for others to move forward with inequality research in Pakistan so society can better understand the impact of economic policy."
   ]
  }
 ],
 "metadata": {
  "anaconda-cloud": {},
  "kernelspec": {
   "display_name": "Python [conda root]",
   "language": "python",
   "name": "conda-root-py"
  },
  "language_info": {
   "codemirror_mode": {
    "name": "ipython",
    "version": 3
   },
   "file_extension": ".py",
   "mimetype": "text/x-python",
   "name": "python",
   "nbconvert_exporter": "python",
   "pygments_lexer": "ipython3",
   "version": "3.5.2"
  }
 },
 "nbformat": 4,
 "nbformat_minor": 2
}
